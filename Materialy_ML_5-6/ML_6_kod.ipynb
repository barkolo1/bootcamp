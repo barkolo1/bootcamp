{
 "cells": [
  {
   "cell_type": "markdown",
   "metadata": {},
   "source": [
    "### Przygotowanie do zajęć\n",
    "\n",
    "1. W konsoli linuxowej:\n",
    " - pip install gensim\n",
    " - pip install nltk\n",
    "\n",
    "2. w Jupyterze (pobieranie zasobów):\n",
    " - `import nltk`\n",
    " - `nltk.download()` (wyskoczy okienko)\n",
    " - zanaczamy wiersz \"popular\" i klikamy \"download\"\n",
    "\n",
    "3. w Jupyterze:\n",
    " - `from sklearn.datasets import fetch_20newsgroups`\n",
    " - `newsgroups_train = fetch_20newsgroups(subset='train')`\n",
    " \n",
    " \n",
    " \n",
    "### Materiały i źródła:\n",
    "\n",
    "https://radimrehurek.com/gensim/wiki.html\n",
    "\n",
    "http://radimrehurek.com/topic_modeling_tutorial/2%20-%20Topic%20Modeling.html\n",
    "\n",
    "https://www.ariddell.org/lda.html\n",
    "\n",
    "http://brandonrose.org/clustering\n",
    "\n",
    "http://totoharyanto.staff.ipb.ac.id/files/2012/10/Building-Machine-Learning-Systems-with-Python-Richert-Coelho.pdf\n",
    "\n",
    "https://de.dariah.eu/tatom/topic_model_python.html"
   ]
  },
  {
   "cell_type": "code",
   "execution_count": 2,
   "metadata": {},
   "outputs": [
    {
     "name": "stdout",
     "output_type": "stream",
     "text": [
      "Collecting BeautifulSoup\n",
      "  Downloading BeautifulSoup-3.2.2.tar.gz (32 kB)\n",
      "Note: you may need to restart the kernel to use updated packages.\n"
     ]
    },
    {
     "name": "stderr",
     "output_type": "stream",
     "text": [
      "    ERROR: Command errored out with exit status 1:\n",
      "     command: 'c:\\users\\basia\\appdata\\local\\programs\\python\\python38\\python.exe' -c 'import sys, setuptools, tokenize; sys.argv[0] = '\"'\"'C:\\\\Users\\\\Basia\\\\AppData\\\\Local\\\\Temp\\\\pip-install-k8kdq8r4\\\\beautifulsoup\\\\setup.py'\"'\"'; __file__='\"'\"'C:\\\\Users\\\\Basia\\\\AppData\\\\Local\\\\Temp\\\\pip-install-k8kdq8r4\\\\beautifulsoup\\\\setup.py'\"'\"';f=getattr(tokenize, '\"'\"'open'\"'\"', open)(__file__);code=f.read().replace('\"'\"'\\r\\n'\"'\"', '\"'\"'\\n'\"'\"');f.close();exec(compile(code, __file__, '\"'\"'exec'\"'\"'))' egg_info --egg-base 'C:\\Users\\Basia\\AppData\\Local\\Temp\\pip-pip-egg-info-pnx81_yt'\n",
      "         cwd: C:\\Users\\Basia\\AppData\\Local\\Temp\\pip-install-k8kdq8r4\\beautifulsoup\\\n",
      "    Complete output (6 lines):\n",
      "    Traceback (most recent call last):\n",
      "      File \"<string>\", line 1, in <module>\n",
      "      File \"C:\\Users\\Basia\\AppData\\Local\\Temp\\pip-install-k8kdq8r4\\beautifulsoup\\setup.py\", line 3\n",
      "        \"You're trying to run a very old release of Beautiful Soup under Python 3. This will not work.\"<>\"Please use Beautiful Soup 4, available through the pip package 'beautifulsoup4'.\"\n",
      "                                                                                                        ^\n",
      "    SyntaxError: invalid syntax\n",
      "    ----------------------------------------\n",
      "ERROR: Command errored out with exit status 1: python setup.py egg_info Check the logs for full command output.\n"
     ]
    }
   ],
   "source": [
    "pip install BeautifulSoup"
   ]
  },
  {
   "cell_type": "markdown",
   "metadata": {},
   "source": [
    "# Analiza danych tekstowych - text mining"
   ]
  },
  {
   "cell_type": "markdown",
   "metadata": {},
   "source": [
    "## Obróbka tekstu"
   ]
  },
  {
   "cell_type": "code",
   "execution_count": 40,
   "metadata": {},
   "outputs": [],
   "source": [
    "import nltk\n",
    "from bs4 import BeautifulSoup\n",
    "import numpy as np\n",
    "\n",
    "wiki = \"http://en.wikipedia.org/wiki/\"\n",
    "titles = [\"Integral\", \"Riemann_integral\", \"Riemann-Stieltjes_integral\", \"Derivative\",\n",
    "    \"Limit_of_a_sequence\", \"Edvard_Munch\", \"Vincent_van_Gogh\", \"Jan_Matejko\",\n",
    "    \"Lev_Tolstoj\", \"Franz_Kafka\", \"J._R._R._Tolkien\"]\n",
    "\n",
    "from urllib.request import urlopen\n",
    "\n",
    "def parse(url):        \n",
    "    x = urlopen(url).read()\n",
    "    x = BeautifulSoup(x).find(\"div\", id=\"bodyContent\").find_all(\"p\")\n",
    "    return(x)\n",
    "\n",
    "articles = [parse(url) for url in [wiki+x for x in titles]]\n",
    "articles = [\" \".join([str(paragraph) for paragraph in article]) for article in articles]"
   ]
  },
  {
   "cell_type": "code",
   "execution_count": 2,
   "metadata": {},
   "outputs": [
    {
     "name": "stdout",
     "output_type": "stream",
     "text": [
      "Collecting bs4\n",
      "  Downloading bs4-0.0.1.tar.gz (1.1 kB)\n",
      "Collecting beautifulsoup4\n",
      "  Downloading beautifulsoup4-4.9.3-py3-none-any.whl (115 kB)\n",
      "Collecting soupsieve>1.2; python_version >= \"3.0\"\n",
      "  Using cached soupsieve-2.0.1-py3-none-any.whl (32 kB)\n",
      "Using legacy 'setup.py install' for bs4, since package 'wheel' is not installed.\n",
      "Installing collected packages: soupsieve, beautifulsoup4, bs4\n",
      "    Running setup.py install for bs4: started\n",
      "    Running setup.py install for bs4: finished with status 'done'\n",
      "Successfully installed beautifulsoup4-4.9.3 bs4-0.0.1 soupsieve-2.0.1\n",
      "Note: you may need to restart the kernel to use updated packages.\n"
     ]
    }
   ],
   "source": [
    "pip install bs4"
   ]
  },
  {
   "cell_type": "code",
   "execution_count": 52,
   "metadata": {},
   "outputs": [
    {
     "name": "stdout",
     "output_type": "stream",
     "text": [
      "Requirement already satisfied: nltk in c:\\users\\basia\\appdata\\local\\programs\\python\\python38\\lib\\site-packages (3.5)\n",
      "Requirement already satisfied: click in c:\\users\\basia\\appdata\\local\\programs\\python\\python38\\lib\\site-packages (from nltk) (7.1.2)\n",
      "Requirement already satisfied: joblib in c:\\users\\basia\\appdata\\local\\programs\\python\\python38\\lib\\site-packages (from nltk) (0.17.0)\n",
      "Requirement already satisfied: regex in c:\\users\\basia\\appdata\\local\\programs\\python\\python38\\lib\\site-packages (from nltk) (2020.11.13)\n",
      "Requirement already satisfied: tqdm in c:\\users\\basia\\appdata\\local\\programs\\python\\python38\\lib\\site-packages (from nltk) (4.54.0)\n",
      "Note: you may need to restart the kernel to use updated packages.\n"
     ]
    }
   ],
   "source": [
    "pip install nltk"
   ]
  },
  {
   "cell_type": "code",
   "execution_count": 60,
   "metadata": {},
   "outputs": [],
   "source": [
    "import nltk\n",
    "from bs4 import BeautifulSoup\n",
    "import numpy as np\n",
    "\n",
    "wiki = \"http://en.wikipedia.org/wiki/\"\n",
    "titles = [\"Integral\", \"Riemann_integral\", \"Riemann-Stieltjes_integral\", \"Derivative\",\n",
    "    \"Limit_of_a_sequence\", \"Edvard_Munch\", \"Vincent_van_Gogh\", \"Jan_Matejko\",\n",
    "    \"Lev_Tolstoj\", \"Franz_Kafka\", \"J._R._R._Tolkien\"]\n",
    "\n",
    "from urllib.request import urlopen\n",
    "\n",
    "def parse(url):        \n",
    "    x = urlopen(url).read()\n",
    "    x = BeautifulSoup(x).find(\"div\", id=\"bodyContent\").find_all(\"p\")\n",
    "    return(x)\n",
    "\n",
    "articles = [parse(url) for url in [wiki+x for x in titles]]\n",
    "articles = [\" \".join([str(paragraph) for paragraph in article]) for article in articles]"
   ]
  },
  {
   "cell_type": "code",
   "execution_count": 3,
   "metadata": {},
   "outputs": [
    {
     "name": "stdout",
     "output_type": "stream",
     "text": [
      "showing info https://raw.githubusercontent.com/nltk/nltk_data/gh-pages/index.xml\n"
     ]
    },
    {
     "data": {
      "text/plain": [
       "True"
      ]
     },
     "execution_count": 3,
     "metadata": {},
     "output_type": "execute_result"
    }
   ],
   "source": [
    "nltk.download()"
   ]
  },
  {
   "cell_type": "code",
   "execution_count": 61,
   "metadata": {},
   "outputs": [],
   "source": [
    "from sklearn.datasets import fetch_20newsgroups\n",
    "newsgroups_train = fetch_20newsgroups(subset='train')"
   ]
  },
  {
   "cell_type": "code",
   "execution_count": 62,
   "metadata": {},
   "outputs": [
    {
     "data": {
      "text/plain": [
       "'<p>In <a href=\"/wiki/Mathematics\" title=\"Mathematics\">mathematics</a>, an <b>integral</b> assigns numbers to functions in a way that can describe displacement, area, volume, and other concepts that arise by combining <a href=\"/wiki/Infinitesimal\" title=\"Infinitesimal\">infinitesimal</a> data. Integra'"
      ]
     },
     "execution_count": 62,
     "metadata": {},
     "output_type": "execute_result"
    }
   ],
   "source": [
    "art = articles[0][:300]\n",
    "art"
   ]
  },
  {
   "cell_type": "code",
   "execution_count": 63,
   "metadata": {},
   "outputs": [],
   "source": [
    "import re "
   ]
  },
  {
   "cell_type": "code",
   "execution_count": 64,
   "metadata": {},
   "outputs": [
    {
     "data": {
      "text/plain": [
       "['<p', '<a', '</', '<b', '</', '<a', '</']"
      ]
     },
     "execution_count": 64,
     "metadata": {},
     "output_type": "execute_result"
    }
   ],
   "source": [
    "re.findall(\"<.+?\", art)"
   ]
  },
  {
   "cell_type": "code",
   "execution_count": 65,
   "metadata": {},
   "outputs": [
    {
     "data": {
      "text/plain": [
       "' In  mathematics , an  integral  assigns numbers to functions in a way that can describe displacement, area, volume, and other concepts that arise by combining  infinitesimal  data. Integra'"
      ]
     },
     "execution_count": 65,
     "metadata": {},
     "output_type": "execute_result"
    }
   ],
   "source": [
    "art = re.sub(\"<.+?>\", \" \", art)\n",
    "art"
   ]
  },
  {
   "cell_type": "code",
   "execution_count": 66,
   "metadata": {},
   "outputs": [
    {
     "data": {
      "text/plain": [
       "' In  mathematics , an  integral  assigns numbers to functions in a way that can describe displacement, area, volume, and other concepts that arise by combining  infinitesimal  data. Integration is one of the two main operations of  calculus ; its inverse operation,  differentiation , is the other. Given a  function   f  of a  real   variable   x  and an  interval   [ a ,  b ]  of the  real line , the  definite integral  of  f  from   a   to   b   can be interpreted informally as the signed  area  of the region in the  xy -plane that is bounded by the  graph  of  f , the  x -axis and the vertical lines   x  =  a   and   x  =  b  . It is denoted\\n   The operation of integration, up to an additive constant, is the inverse of the operation of differentiation. For this reason, the term  integral  may also refer to the related notion of the  antiderivative , called an  indefinite integral , a function  F  whose  derivative  is the given function  f . In this case, it is written:\\n   The integrals discussed in this article are those termed  definite integrals . It is the  fundamental theorem of calculus  that connects differentiation with the definite integral: if  f  is a continuous real-valued function defined on a  closed interval   [ a ,  b ] , then once an antiderivative  F  of  f  is known, the definite integral of  f  over that interval is given by\\n   The principles of integration were formulated independently by  Isaac Newton  and  Gottfried Wilhelm Leibniz  in the late 17th century, who thought of the integral as an infinite sum of rectangles of  infinitesimal  width.  Bernhard Riemann  later gave a rigorous mathematical definition of integrals, which is based on a limiting procedure that approximates the area of a  curvilinear  region by breaking the region into thin vertical slabs. Beginning in the 19th century, more sophisticated notions of integrals began to appear, where the type of the function as well as the  domain  over which the integration is performed has been generalized. A  line integral  is defined for functions of two or more variables, and the interval of integration  [ a ,  b ]  is replaced by a  curve  connecting the two endpoints. In a  surface integral , the curve is replaced by a piece of a  surface  in  three-dimensional space .\\n   The first documented systematic technique capable of determining integrals is the  method of exhaustion  of the  ancient Greek  astronomer  Eudoxus  ( ca.  370 BC), which sought to find areas and volumes by breaking them up into an infinite number of divisions for which the area or volume was known.  [1]   This method was further developed and employed by  Archimedes  in the 3rd century BC and used to calculate the  area of a circle , the  surface area  and  volume  of a  sphere , area of an  ellipse , the area under a  parabola , the volume of a segment of a  paraboloid  of revolution, the volume of a segment of a  hyperboloid  of revolution, and the area of a  spiral .  [2]  \\n   A similar method was independently developed in China around the 3rd century AD by  Liu Hui , who used it to find the area of the circle. This method was later used in the 5th century by Chinese father-and-son mathematicians  Zu Chongzhi  and  Zu Geng  to find the volume of a sphere.  [3]  \\n   In the Middle East, Hasan Ibn al-Haytham, Latinized as  Alhazen  ( c.  \\u2009965 \\xa0– c. \\u20091040 \\xa0AD) derived a formula for the sum of  fourth powers . He used the results to carry out what would now be called an integration of this function, where the formulae for the sums of integral squares and fourth powers allowed him to calculate the volume of a  paraboloid .  [4]  \\n   The next significant advances in integral calculus did not begin to appear until the 17th century. At this time, the work of  Cavalieri  with his  method of Indivisibles , and work by  Fermat , began to lay the foundations of modern calculus, with Cavalieri computing the integrals of   x   n    up to degree   n  = 9  in  Cavalieri\\'s quadrature formula .  [5]   Further steps were made in the early 17th century by  Barrow  and  Torricelli , who provided the first hints of a connection between integration and  differentiation . Barrow provided the first proof of the  fundamental theorem of calculus .  [6]    Wallis  generalized Cavalieri\\'s method, computing integrals of  x  to a general power, including negative powers and fractional powers.  [7]  \\n   The major advance in integration came in the 17th century with the independent discovery of the  fundamental theorem of calculus  by  Leibniz  and  Newton .  [8]   Leibniz published his work on calculus before Newton. The theorem demonstrates a connection between integration and differentiation. This connection, combined with the comparative ease of differentiation, can be exploited to calculate integrals. In particular, the fundamental theorem of calculus allows one to solve a much broader class of problems. Equal in importance is the comprehensive mathematical framework that both Leibniz and Newton developed. Given the name  infinitesimal calculus , it allowed for precise analysis of functions within continuous domains. This framework eventually became modern  calculus , whose notation for integrals is drawn directly from the work of Leibniz.\\n   While Newton and Leibniz provided a systematic approach to integration, their work lacked a degree of  rigour . In 1734,  Bishop Berkeley  memorably attacked the vanishing increments used by Newton, calling them \" ghosts of departed quantities \".  [9]   Calculus acquired a firmer footing with the development of  limits . Integration was first rigorously formalized, using limits, by  Riemann  in 1854.  [10]   Although all bounded piecewise continuous functions are Riemann-integrable on a bounded interval, subsequently more general functions were considered—particularly in the context of  Fourier analysis —to which Riemann\\'s definition does not apply, and in 1904,  Lebesgue  formulated a  different definition of integral , founded in  measure theory  (a subfield of  real analysis ).  [11]    [12]   Other definitions of integral, extending Riemann\\'s and Lebesgue\\'s approaches, were proposed. These approaches based on the real number system are the ones most common today, but alternative approaches exist, such as a definition of integral as the  standard part  of an infinite Riemann sum, based on the  hyperreal number  system.\\n   The notation for the indefinite integral was introduced by  Gottfried Wilhelm Leibniz  in 1675.  [13]   He adapted the  integral symbol ,  ∫ , from the letter  ſ  ( long s ), standing for  summa  (written as  ſumma ; Latin for \"sum\" or \"total\"). The modern notation for the definite integral, with limits above and below the integral sign, was first used by  Joseph Fourier  in  Mémoires  of the French Academy around 1819–20, reprinted in his book of 1822.  [14]  \\n    Isaac Newton  used a small vertical bar above a variable to indicate integration, or placed the variable inside a box. The vertical bar was easily confused with      .    x      or   x ′ , which are used to indicate differentiation, and the box notation was difficult for printers to reproduce, so these notations were not widely adopted.  [15]  \\n   The word  integral  was first used in print by  Jacob Bernoulli . In an 1690 issue of   Acta eruditorum  , he wrote: \"Ergo et horum Integralia aequantur\".  [16]    [17]  \\n   \\nThe term is used in an easy to understand paragraph from  Guillaume de l\\'Hôpital  in 1696:  [18]     Dans tout cela il n\\'y a encore que la premiere partie du calcul de M. Leibniz, laquelle consiste à descendre des grandeurs entiéres à leur différences infiniment petites, et à comparer entr\\'eux ces infiniment petits de quelque genre qu\\'ils soient: c\\'est ce qu\\'on appel calcul différentiel. Pour l\\'autre partie, qu\\'on appelle  Calcul intégral , et qui consiste à remonter de ces infiniment petits aux grandeurs ou aux touts dont ils sont les différences, c\\'est-à-dire à en trouver les sommes, j\\'avois aussi dessein de le donner. Mais M. Leibniz m\\'ayant écrit qu\\'il y travailloit dans un Traité qu\\'il intitule De Scientia infiniti, je n\\'ay eu garde de prive le public d\\'un si bel Ouvrage qui doit renfermer tout ce qu\\'il y a de plus curieux pour la Méthode inverse des Tangentes...    literally translated as:   \"In all that there is still only the first part of M. Leibniz calculus, consisting in going down from integral quantities to their infinitely small differences, and in comparing between one another those infinitely smalls of any possible sort: this is what is called differential calculus. As for the other part, that is called integral calculus, and that consists in going back up from those infinitely smalls to the quantities, or the full parts to which they are the differences, that is to say to find their sums, I also had the intention to expose it. But considering M. Leibniz wrote to me that he was working on it in a book which he calls De Scientia infiniti, I took care not to deprive the public of such a beautiful work which is due to contain all what is most curious in the reverse method of the tangents...\"   The integral with respect to  x  of a  real-valued function    f   of a real variable  x  on the interval  [ a ,  b ]  is written as\\n   The integral sign  ∫  represents integration. The symbol  dx , called the  differential  of the variable  x , indicates that the variable of integration is  x . The function   f ( x )  to be integrated is called the integrand. A function is said to be integrable if the integral of the function over its domain is finite. The points  a  and  b  are called the limits of the integral. An integral where the limits are specified is called a definite integral. The integral is said to be over the interval  [ a ,  b ] .\\n   If the integral goes from a finite value   a   to the upper limit infinity, it expresses the limit of the integral from   a   to a value   b   as   b   goes to infinity. If the value of the integral gets closer and closer to a finite value, the integral is said to  converge  to that value; otherwise, it is said to diverge.\\n   When the limits are omitted, as in\\n   the integral is called an indefinite integral, which represents a class of functions (the  antiderivative ) whose derivative is the integrand. The  fundamental theorem of calculus  relates the evaluation of definite integrals to indefinite integrals. Occasionally, limits of integration are omitted for definite integrals when the same limits occur repeatedly in a particular context. Usually, the author will make this convention clear at the beginning of the relevant text.\\n   There are several extensions of the notation for integrals to encompass integration on unbounded domains and/or in multiple dimensions (see later sections of this article).\\n   Historically, the symbol   dx   was taken to represent an infinitesimally \"small piece\" of the  independent variable    x   to be multiplied by the integrand and summed up in an infinite sense. While this notion is still heuristically useful, later mathematicians have deemed infinitesimal quantities to be untenable from the standpoint of the real number system.  [note 1]   In introductory calculus, the expression   dx   is therefore not assigned an independent meaning; instead, it is viewed as part of the symbol for integration and serves as its delimiter on the right side of the expression being integrated.\\n   In more sophisticated contexts,   dx   can have its own significance, the meaning of which depending on the particular area of mathematics being discussed. When used in one of these ways, the original Leibniz notation is co-opted to apply to a generalization of the original definition of the integral. Some common interpretations of   dx   include: an integrator function in  Riemann-Stieltjes integration  (indicated by  dα ( x ) in general), a  measure  in Lebesgue theory (indicated by  dμ  in general), or a  differential form  in exterior calculus (indicated by    \\n \\n \\n \\n d \\n \\n x \\n \\n \\n i \\n \\n 1 \\n \\n \\n \\n \\n ∧  \\n ⋯  \\n ∧  \\n d \\n \\n x \\n \\n \\n i \\n \\n k \\n \\n \\n \\n \\n \\n \\n {\\\\displaystyle dx^{i_{1}}\\\\wedge \\\\cdots \\\\wedge dx^{i_{k}}} \\n \\n     in general). In the last case, even the letter   d   has an independent meaning — as the  exterior derivative  operator on differential forms.\\n   Conversely, in advanced settings, it is not uncommon to leave out   dx   when only the simple Riemann integral is being used, or the exact type of integral is immaterial. For instance, one might write    \\n \\n \\n \\n \\n ∫  \\n \\n a \\n \\n \\n b \\n \\n \\n ( \\n \\n c \\n \\n 1 \\n \\n \\n f \\n + \\n \\n c \\n \\n 2 \\n \\n \\n g \\n ) \\n = \\n \\n c \\n \\n 1 \\n \\n \\n \\n ∫  \\n \\n a \\n \\n \\n b \\n \\n \\n f \\n + \\n \\n c \\n \\n 2 \\n \\n \\n \\n ∫  \\n \\n a \\n \\n \\n b \\n \\n \\n g \\n \\n \\n {\\\\textstyle \\\\int _{a}^{b}(c_{1}f+c_{2}g)=c_{1}\\\\int _{a}^{b}f+c_{2}\\\\int _{a}^{b}g} \\n \\n     to express the linearity of the integral, a property shared by the Riemann integral and all generalizations thereof.\\n   In  modern Arabic mathematical notation , a reflected integral symbol     is used instead of the symbol  ∫ , since the Arabic script and mathematical expressions go right to left.  [19]  \\n   Some authors, particularly of European origin, use an upright \"d\" to indicate the variable of integration (i.e.,  d x   instead of   dx  ), since properly speaking, \"d\" is not a variable.\\n   The symbol  dx  is not always placed after   f ( x ) , as for instance in\\n   In the first expression, the differential is treated as an infinitesimal \"multiplicative\" factor, formally following a \"commutative property\" when \"multiplied\" by the expression    \\n \\n \\n \\n \\n \\n 3 \\n \\n \\n x \\n \\n 2 \\n \\n \\n + \\n 1 \\n \\n \\n \\n \\n \\n {\\\\displaystyle {\\\\frac {3}{x^{2}+1}}} \\n \\n    . In the second expression, showing the differentials first highlights and clarifies the variables that are being integrated with respect to, a practice particularly popular with physicists.\\n   Integrals appear in many practical situations. If a swimming pool is rectangular with a flat bottom, then from its length, width, and depth we can easily determine the volume of water it can contain (to fill it), the area of its surface (to cover it), and the length of its edge (to rope it). But if it is oval with a rounded bottom, all of these quantities call for integrals. Practical approximations may suffice for such trivial examples, but  precision engineering  (of any discipline) requires exact and rigorous values for these elements.\\n   To start off, consider the curve   y  =  f ( x )  between   x  = 0  and   x  = 1  with   f ( x ) =  √  x    , as illustrated in the figure. We ask:\\n   and call this area the (definite)  integral  of  f , notated as\\n   As a first approximation, the area of the unit square given by the sides   x  = 0  to   x  = 1  and   y  =  f (0) = 0  and   y  =  f (1) = 1  is exactly 1; but actually, the true value must be somewhat smaller. Decreasing the width of the approximation rectangles and increasing the number of rectangles gives a better result. For instance, we can cross the interval in five steps, using the approximation points 0, 1/5, 2/5, and so on to 1, then fit a box for each step using the right end height of each curve piece (  √ 1/5   ,   √ 2/5   , and so on to   √ 1   = 1 ), and sum the areas of these rectangles to get a better approximation for the sought integral, namely\\n   We are taking a sum of finitely many function values of  f , multiplied with the differences of two subsequent approximation points. This approximation can be easily seen as still being too large. Using more steps produces a closer approximation, but will always be too high and will never be exact. Alternatively, replacing these subintervals by ones with the left end height of each piece, we will get an approximation that is too low: for example, with twelve such subintervals, the approximate value for the area is 0.6203.\\n   The key idea is the transition from adding finitely many differences of approximation points multiplied by their respective function values to using infinitely many fine, or   infinitesimal   steps. When this transition is completed in the above example, it turns out that the area under the curve within the stated bounds is 2/3.\\n   The notation\\n   conceives the integral as a weighted sum, denoted by the elongated  s , of function values,   f ( x ) , multiplied by infinitesimal step widths, called  differentials , denoted by  dx .\\n   Historically, after the failure of early efforts to rigorously interpret infinitesimals, Riemann formally defined integrals as a  limit  of weighted sums, so that the  dx  suggested the limit of a difference (namely, the interval width). Shortcomings of Riemann\\'s dependence on intervals and continuity motivated newer definitions, especially the  Lebesgue integral , which is founded on an ability to extend the idea of \"measure\" in much more flexible ways. Thus the notation\\n   refers to a weighted sum in which the function values are partitioned, with  μ  measuring the weight to be assigned to each value. Here  A  denotes the region of integration.\\n   There are many ways of formally defining an integral, not all of which are equivalent. The differences exist mostly to deal with differing special cases which may not be possible to integrate under other definitions, but also occasionally for pedagogical reasons. The most commonly used definitions of integral are Riemann integrals and Lebesgue integrals.\\n   The Riemann integral is defined in terms of  Riemann sums  of functions with respect to  tagged partitions  of an interval.  [20]   Let  [ a ,  b ]  be a  closed interval  of the real line; then a  tagged partition  of  [ a ,  b ]  is a finite sequence\\n   This partitions the interval  [ a ,  b ]  into  n  sub-intervals  [ x   i −1 ,  x   i  ]  indexed by  i , each of which is \"tagged\" with a distinguished point   t   i   ∈ [ x   i −1 ,  x   i  ] . A  Riemann sum  of a function  f  with respect to such a tagged partition is defined as\\n   thus each term of the sum is the area of a rectangle with height equal to the function value at the distinguished point of the given sub-interval, and width the same as the sub-interval width. Let  Δ  i   =  x   i  − x   i −1   be the width of sub-interval  i ; then the  mesh  of such a tagged partition is the width of the largest sub-interval formed by the partition,  max  i =1... n   Δ  i   . The  Riemann integral  of a function  f  over the interval  [ a ,  b ]  is equal to  S  if:\\n   When the chosen tags give the maximum (respectively, minimum) value of each interval, the Riemann sum becomes an upper (respectively, lower)  Darboux sum , suggesting the close connection between the Riemann integral and the  Darboux integral .\\n   It is often of interest, both in theory and applications, to be able to pass to the limit under the integral. For instance, a sequence of functions can frequently be constructed that approximate, in a suitable sense, the solution to a problem. Then the integral of the solution function should be the limit of the integrals of the approximations. However, many functions that can be obtained as limits are not Riemann-integrable, and so such limit theorems do not hold with the Riemann integral. Therefore, it is of great importance to have a definition of the integral that allows a wider class of functions to be integrated.  [21]  \\n   Such an integral is the Lebesgue integral, that exploits the following fact to enlarge the class of integrable functions: if the values of a function are rearranged over the domain, the integral of a function should remain the same. Thus  Henri Lebesgue  introduced the integral bearing his name, explaining this integral thus in a letter to  Paul Montel :\\n   I have to pay a certain sum, which I have collected in my pocket. I take the bills and coins out of my pocket and give them to the creditor in the order I find them until I have reached the total sum. This is the Riemann integral. But I can proceed differently. After I have taken all the money out of my pocket I order the bills and coins according to identical values and then I pay the several heaps one after the other to the creditor. This is my integral.   As Folland puts it, \"To compute the Riemann integral of  f , one partitions the domain  [ a ,  b ]  into subintervals\", while in the Lebesgue integral, \"one is in effect partitioning the range of  f  \".  [22]   The definition of the Lebesgue integral thus begins with a  measure , μ. In the simplest case, the  Lebesgue measure    μ ( A )  of an interval   A  = [ a ,  b ]  is its width,   b  −  a  , so that the Lebesgue integral agrees with the (proper) Riemann integral when both exist. In more complicated cases, the sets being measured can be highly fragmented, with no continuity and no resemblance to intervals.\\n   Using the \"partitioning the range of  f  \" philosophy, the integral of a non-negative function   f \\xa0:  R  →  R   should be the sum over  t  of the areas between a thin horizontal strip between   y  =  t   and   y  =  t  +  dt  . This area is just   μ {  x \\xa0:  f ( x ) &gt;  t }\\u2009 dt  . Let   f  ∗ ( t ) =  μ {  x \\xa0:  f ( x ) &gt;  t  }. The Lebesgue integral of  f  is then defined by\\n   where the integral on the right is an ordinary improper Riemann integral (  f  ∗   is a strictly decreasing positive function, and therefore has a  well-defined  improper Riemann integral).  [23]   For a suitable class of functions (the  measurable functions ) this defines the Lebesgue integral.\\n   A general measurable function  f  is Lebesgue-integrable if the sum of the absolute values of the areas of the regions between the graph of  f  and the  x -axis is finite:\\n   In that case, the integral is, as in the Riemannian case, the difference between the area above the  x -axis and the area below the  x -axis:\\n   where\\n   Although the Riemann and Lebesgue integrals are the most widely used definitions of the integral, a number of others exist, including the  Darboux integral , which is defined by Darboux sums (restricted Riemann sums),  [24]   yet is equivalent to the Riemann integral;  [25]   the  Riemann–Stieltjes integral , an extension of the Riemann integral which integrates with respect to a function as opposed to a variable;  [26]   the  Lebesgue–Stieltjes integral , further developed by  Johann Radon , which generalizes both the Riemann–Stieltjes and Lebesgue integrals;  [27]   the  Daniell integral , which subsumes the Lebesgue integral and Lebesgue–Stieltjes integral without depending on  measures ;  [28]   the  Haar integral , used for integration on locally compact topological groups, introduced by  Alfréd Haar  in 1933; the  Henstock–Kurzweil integral , variously defined by  Arnaud Denjoy ,  Oskar Perron , and (most elegantly, as the gauge integral)  Jaroslav Kurzweil , and developed by  Ralph Henstock ; the  Itô integral  and  Stratonovich integral , which define integration with respect to  semimartingales  such as  Brownian motion ; the  Young integral , which is a kind of Riemann–Stieltjes integral with respect to certain functions of  unbounded variation ; the  rough path  integral, which is defined for functions equipped with some additional \"rough path\" structure and generalizes stochastic integration against both  semimartingales  and processes such as the  fractional Brownian motion ; and the  Choquet integral , a subadditive or superadditive integral created by the French mathematician Gustave Choquet in 1953. \\n   The collection of Riemann-integrable functions on a closed interval  [ a ,  b ]  forms a  vector space  under the operations of  pointwise addition  and multiplication by a scalar, and the operation of integration\\n   is a  linear functional  on this vector space. Thus, firstly, the collection of integrable functions is closed under taking  linear combinations ; and, secondly, the integral of a linear combination is the linear combination of the integrals:\\n   Similarly, the set of  real -valued Lebesgue-integrable functions on a given  measure space   E  with measure  μ  is closed under taking linear combinations and hence form a vector space, and the Lebesgue integral\\n   is a linear functional on this vector space, so that\\n   More generally, consider the vector space of all  measurable functions  on a measure space  ( E , μ ) , taking values in a  locally compact   complete   topological vector space   V  over a locally compact  topological field    K ,  f \\xa0:  E  →  V  . Then one may define an abstract integration map assigning to each function  f  an element of  V  or the symbol   ∞  ,\\n   that is compatible with linear combinations. In this situation, the linearity holds for the subspace of functions whose integral is an element of  V  (i.e. \"finite\"). The most important special cases arise when  K  is   R  ,   C  , or a finite extension of the field   Q   p    of  p-adic numbers , and  V  is a finite-dimensional vector space over  K , and when   K  =  C   and  V  is a complex  Hilbert space .\\n   Linearity, together with some natural continuity properties and normalization for a certain class of \"simple\" functions, may be used to give an alternative definition of the integral. This is the approach of  Daniell  for the case of real-valued functions on a set  X , generalized by  Nicolas Bourbaki  to functions with values in a locally compact topological vector space. See   Hildebrandt 1953  for an axiomatic characterization of the integral.\\n   A number of general inequalities hold for Riemann-integrable  functions  defined on a  closed  and  bounded   interval   [ a ,  b ]  and can be generalized to other notions of integral (Lebesgue and Daniell).\\n   In this section,  f  is a  real-valued  Riemann-integrable  function . The integral\\n   over an interval  [ a ,  b ]  is defined if   a  &lt;  b  . This means that the upper and lower sums of the function  f  are evaluated on a partition   a  =  x  0  ≤  x  1  ≤ . . . ≤  x   n   =  b   whose values   x   i    are increasing. Geometrically, this signifies that integration takes place \"left to right\", evaluating  f  within intervals  [ x  \\u2009 i  \\u2009,  x  \\u2009 i \\u2009+1 ]  where an interval with a higher index lies to the right of one with a lower index. The values  a  and  b , the end-points of the  interval , are called the  limits of integration  of  f . Integrals can also be defined if   a  &gt;  b  :\\n   This, with   a  =  b  , implies:\\n   The first convention is necessary in consideration of taking integrals over subintervals of  [ a ,  b ] ; the second says that an integral taken over a degenerate interval, or a  point , should be  zero . One reason for the first convention is that the integrability of  f  on an interval  [ a ,  b ]  implies that  f  is integrable on any subinterval  [ c ,  d ] , but in particular integrals have the property that:\\n   With the first convention, the resulting relation\\n   is then well-defined for any cyclic permutation of  a ,  b , and  c .\\n   The  fundamental theorem of calculus  is the statement that  differentiation  and integration are inverse operations: if a  continuous function  is first integrated and then differentiated, the original function is retrieved. An important consequence, sometimes called the  second fundamental theorem of calculus , allows one to compute integrals by using an antiderivative of the function to be integrated.\\n   Let  f  be a continuous real-valued function defined on a  closed interval   [ a ,  b ] . Let  F  be the function defined, for all  x  in  [ a ,  b ] , by\\n   Then,  F  is continuous on  [ a ,  b ] , differentiable on the open interval  ( a ,  b ) , and\\n   for all  x  in  ( a ,  b ) .\\n   Let  f  be a real-valued function defined on a  closed interval  [  a ,  b  ] that admits an  antiderivative   F  on  [ a ,  b ] . That is,  f  and  F  are functions such that for all  x  in  [ a ,  b ] ,\\n   If  f  is integrable on  [ a ,  b ]  then\\n   The second fundamental theorem allows many integrals to be calculated explicitly. For example, to calculate the integral\\n   of the square root function   f ( x ) =  x  1/2   between 0 and 1, it is sufficient to find an antiderivative, that is, a function   F ( x )  whose derivative equals   f ( x ) :\\n   One such function is    \\n \\n \\n \\n F \\n ( \\n x \\n ) \\n = \\n \\n \\n \\n 2 \\n 3 \\n \\n \\n \\n \\n x \\n \\n 3 \\n \\n / \\n \\n 2 \\n \\n \\n \\n \\n {\\\\displaystyle F(x)={\\\\tfrac {2}{3}}x^{3/2}} \\n \\n    . Then the value of the integral in question is\\n   This is a case of a general rule, that for    \\n \\n \\n \\n f \\n ( \\n x \\n ) \\n = \\n \\n x \\n \\n q \\n \\n \\n \\n \\n {\\\\displaystyle f(x)=x^{q}} \\n \\n    , with    \\n \\n \\n \\n q \\n ≠  \\n −  \\n 1 \\n \\n \\n {\\\\displaystyle q\\\\neq -1} \\n \\n    , an antiderivative is    \\n \\n \\n \\n F \\n ( \\n x \\n ) \\n = \\n \\n \\n \\n 1 \\n \\n q \\n + \\n 1 \\n \\n \\n \\n \\n \\n x \\n \\n q \\n + \\n 1 \\n \\n \\n \\n \\n {\\\\displaystyle F(x)={\\\\tfrac {1}{q+1}}x^{q+1}} \\n \\n    . Tables of this and similar antiderivatives can be used to calculate integrals explicitly, in much the same way that derivatives may be obtained from tables.\\n   Integrals are used extensively in many areas. For example, in  probability theory , they are used to determine the probability of some  random variable  falling within a certain range.  [29]   Moreover, the integral under an entire  probability density function  must equal 1, which provides a test of whether a  function  with no negative values could be a density function or not.  [30]  \\n   Integrals can be used for computing the  area  of a two-dimensional region that has a curved boundary, as well as  computing the volume  of a three-dimensional object that has a curved boundary. The area of a two-dimensional region can be calculated using the aforementioned definite integral.  [31]   The volume of a three-dimensional object such as a disc or washer, as outlined in  disc integration  can be computed using the equation for the volume of a cylinder,    \\n \\n \\n \\n π  \\n \\n r \\n \\n 2 \\n \\n \\n h \\n \\n \\n {\\\\displaystyle \\\\pi r^{2}h} \\n \\n    , where    \\n \\n \\n \\n r \\n \\n \\n {\\\\displaystyle r} \\n \\n     is the radius, which in this case would be the distance from the curve of a function to the line about which it is being rotated. For a simple disc, the radius will be the equation of the function minus the given    \\n \\n \\n \\n x \\n \\n \\n {\\\\displaystyle x} \\n \\n    -value or    \\n \\n \\n \\n y \\n \\n \\n {\\\\displaystyle y} \\n \\n    -value of the line.  [32]   For instance, the radius of a disc created by rotating a quadratic    \\n \\n \\n \\n y \\n = \\n −  \\n \\n x \\n \\n 2 \\n \\n \\n + \\n 4 \\n \\n \\n {\\\\displaystyle y=-x^{2}+4} \\n \\n     around the line    \\n \\n \\n \\n y \\n = \\n −  \\n 1 \\n \\n \\n {\\\\displaystyle y=-1} \\n \\n     would be given by the expression    \\n \\n \\n \\n −  \\n \\n x \\n \\n 2 \\n \\n \\n + \\n 4 \\n −  \\n ( \\n −  \\n 1 \\n ) \\n \\n \\n {\\\\displaystyle -x^{2}+4-(-1)} \\n \\n     or    \\n \\n \\n \\n −  \\n \\n x \\n \\n 2 \\n \\n \\n + \\n 5 \\n \\n \\n {\\\\displaystyle -x^{2}+5} \\n \\n    . In order to find the volume for this same shape, an integral with bounds    \\n \\n \\n \\n a \\n \\n \\n {\\\\displaystyle a} \\n \\n     and    \\n \\n \\n \\n b \\n \\n \\n {\\\\displaystyle b} \\n \\n     such that    \\n \\n \\n \\n a \\n \\n \\n {\\\\displaystyle a} \\n \\n     and    \\n \\n \\n \\n b \\n \\n \\n {\\\\displaystyle b} \\n \\n     are intersections of the line    \\n \\n \\n \\n y \\n = \\n −  \\n \\n x \\n \\n 2 \\n \\n \\n + \\n 4 \\n \\n \\n {\\\\displaystyle y=-x^{2}+4} \\n \\n     and    \\n \\n \\n \\n y \\n = \\n −  \\n 1 \\n \\n \\n {\\\\displaystyle y=-1} \\n \\n     would be used as follows:   \\n \\n \\n \\n π  \\n \\n ∫  \\n \\n a \\n \\n \\n b \\n \\n \\n ( \\n −  \\n \\n x \\n \\n 2 \\n \\n \\n + \\n 5 \\n \\n ) \\n \\n 2 \\n \\n \\n  \\n d \\n x \\n \\n \\n {\\\\displaystyle \\\\pi \\\\int _{a}^{b}(-x^{2}+5)^{2}\\\\,dx} \\n \\n    The components of the above integral represent the variables in the equation for the volume of a cylinder,    \\n \\n \\n \\n π  \\n \\n r \\n \\n 2 \\n \\n \\n h \\n \\n \\n {\\\\displaystyle \\\\pi r^{2}h} \\n \\n    . The constant    \\n \\n \\n \\n π  \\n \\n \\n {\\\\displaystyle \\\\pi } \\n \\n     is factored out, while the radius,    \\n \\n \\n \\n −  \\n \\n x \\n \\n 2 \\n \\n \\n + \\n 5 \\n \\n \\n {\\\\displaystyle -x^{2}+5} \\n \\n    , is squared within the integral. The height, represented in the volume formula by    \\n \\n \\n \\n h \\n \\n \\n {\\\\displaystyle h} \\n \\n    , is given in this integral by the infinitesimally small (in order to approximate the volume with the greatest possible accuracy) term    \\n \\n \\n \\n d \\n x \\n \\n \\n {\\\\displaystyle dx} \\n \\n    .\\n   Integrals are also used in physics, in areas like  kinematics  to find quantities like  displacement ,  time , and  velocity . For example, in rectilinear motion, the displacement of an object over the time interval    \\n \\n \\n \\n [ \\n a \\n , \\n b \\n ] \\n \\n \\n {\\\\displaystyle [a,b]} \\n \\n     is given by\\n   where    \\n \\n \\n \\n v \\n ( \\n t \\n ) \\n \\n \\n {\\\\displaystyle v(t)} \\n \\n     is the velocity expressed as a function of time.  [33]   The work done by a force    \\n \\n \\n \\n F \\n ( \\n x \\n ) \\n \\n \\n {\\\\displaystyle F(x)} \\n \\n     (given as a function of position) from an initial position    \\n \\n \\n \\n A \\n \\n \\n {\\\\displaystyle A} \\n \\n     to a final position    \\n \\n \\n \\n B \\n \\n \\n {\\\\displaystyle B} \\n \\n     is:  [34]  \\n   Integrals are also used in  thermodynamics , where  thermodynamic integration  is used to calculate the difference in free energy between two given states.\\n   A \"proper\" Riemann integral assumes the integrand is defined and finite on a closed and bounded interval, bracketed by the limits of integration. An improper integral occurs when one or more of these conditions is not satisfied. In some cases such integrals may be defined by considering the  limit  of a  sequence  of proper  Riemann integrals  on progressively larger intervals.\\n   If the interval is unbounded, for instance at its upper end, then the improper integral is the limit as that endpoint goes to infinity:\\n   If the integrand is only defined or finite on a half-open interval, for instance  ( a ,  b ] , then again a limit may provide a finite result:\\n   That is, the improper integral is the  limit  of proper integrals as one endpoint of the interval of integration approaches either a specified  real number , or  ∞ , or  −∞ .  [35]   In more complicated cases, limits are required at both endpoints, or at interior points.\\n   Just as the definite integral of a positive function of one variable represents the  area  of the region between the graph of the function and the   x  -axis, the  double integral  of a positive function of two variables represents the  volume  of the region between the surface defined by the function and the plane that contains its domain.  [36]   For example, a function in two dimensions depends on two real variables,   x   and   y  , and the integral of a function   f   over the rectangle   R   given as the  Cartesian product  of two intervals    \\n \\n \\n \\n R \\n = \\n [ \\n a \\n , \\n b \\n ] \\n ×  \\n [ \\n c \\n , \\n d \\n ] \\n \\n \\n {\\\\displaystyle R=[a,b]\\\\times [c,d]} \\n \\n     can be written\\n   where the differential   dA   indicates that integration is taken with respect to area. This  double integral  can be defined using  Riemann sums , and represents the (signed) volume under the graph of   z  =  f ( x , y )  over the domain   R  .  [37]   Under suitable conditions (e.g., if   f   is continuous),  Fubini\\'s theorem  states that this integral can be expressed as an equivalent iterated integral  [38]  \\n   This reduces the problem of computing a double integral to computing one-dimensional integrals. Because of this, another notation for the integral over   R   uses a double integral sign:\\n   Integration over more general domains is possible. The integral of a function   f  , with respect to volume, over an   n - dimensional region   D   of    \\n \\n \\n \\n \\n \\n R \\n \\n \\n n \\n \\n \\n \\n \\n {\\\\displaystyle \\\\mathbb {R} ^{n}} \\n \\n     is denoted by symbols such as:\\n   The concept of an integral can be extended to more general domains of integration, such as curved lines and surfaces inside higher-dimensional spaces. Such integrals are known as line integrals and surface integrals respectively. These have important applications in physics, as when dealing with  vector fields .\\n   A  line integral  (sometimes called a  path integral ) is an integral where the  function  to be integrated is evaluated along a  curve .  [39]   Various different line integrals are in use. In the case of a closed curve it is also called a  contour integral .\\n   The function to be integrated may be a  scalar field  or a  vector field . The value of the line integral is the sum of values of the field at all points on the curve, weighted by some scalar function on the curve (commonly  arc length  or, for a vector field, the  scalar product  of the vector field with a  differential  vector in the curve). This weighting distinguishes the line integral from simpler integrals defined on  intervals . Many simple formulas in physics have natural continuous analogs in terms of line integrals; for example, the fact that  work  is equal to  force ,   F  , multiplied by displacement,   s  , may be expressed (in terms of vector quantities) as:\\n   For an object moving along a path   C   in a  vector field    F   such as an  electric field  or  gravitational field , the total work done by the field on the object is obtained by summing up the differential work done in moving from   s   to   s  +  d  s  . This gives the line integral\\n   A  surface integral  generalizes double integrals to integration over a  surface  (which may be a curved set in  space ); it can be thought of as the  double integral  analog of the  line integral . The function to be integrated may be a  scalar field  or a  vector field . The value of the surface integral is the sum of the field at all points on the surface. This can be achieved by splitting the surface into surface elements, which provide the partitioning for Riemann sums.  [40]  \\n   For an example of applications of surface integrals, consider a vector field   v   on a surface   S  ; that is, for each point   x   in   S  ,   v ( x )  is a vector. Imagine that we have a fluid flowing through   S  , such that   v ( x )  determines the velocity of the fluid at  x . The  flux  is defined as the quantity of fluid flowing through   S   in unit amount of time. To find the flux, we need to take the  dot product  of   v   with the unit  surface normal  to   S   at each point, which will give us a scalar field, which we integrate over the surface:\\n   The fluid flux in this example may be from a physical fluid such as water or air, or from electrical or magnetic flux. Thus surface integrals have applications in physics, particularly with the  classical theory  of  electromagnetism .\\n   In  complex analysis , the integrand is a  complex-valued function  of a complex variable  z  instead of a real function of a real variable  x . When a complex function is integrated along a curve    \\n \\n \\n \\n γ  \\n \\n \\n {\\\\displaystyle \\\\gamma } \\n \\n     in the complex plane, the integral is denoted as follows:\\n   This is known as a  contour integral .\\n   A  differential form  is a mathematical concept in the fields of  multivariable calculus ,  differential topology , and  tensors . Differential forms are organized by degree. For example, a one-form is a weighted sum of the differentials of the coordinates, such as:\\n   where  E ,  F ,  G  are functions in three dimensions. A differential one-form can be integrated over an oriented path, and the resulting integral is just another way of writing a line integral. Here the basic differentials  dx ,  dy ,  dz  measure infinitesimal oriented lengths parallel to the three coordinate axes.\\n   A differential two-form is a sum of the form\\n   Here the basic two-forms    \\n \\n \\n \\n d \\n x \\n ∧  \\n d \\n y \\n , \\n d \\n z \\n ∧  \\n d \\n x \\n , \\n d \\n y \\n ∧  \\n d \\n z \\n \\n \\n {\\\\displaystyle dx\\\\wedge dy,dz\\\\wedge dx,dy\\\\wedge dz} \\n \\n     measure oriented areas parallel to the coordinate two-planes. The symbol    \\n \\n \\n \\n ∧  \\n \\n \\n {\\\\displaystyle \\\\wedge } \\n \\n     denotes the  wedge product , which is similar to the  cross product  in the sense that the wedge product of two forms representing oriented lengths represents an oriented area. A two-form can be integrated over an oriented surface, and the resulting integral is equivalent to the surface integral giving the flux of    \\n \\n \\n \\n E \\n \\n i \\n \\n + \\n F \\n \\n j \\n \\n + \\n G \\n \\n k \\n \\n \\n \\n {\\\\displaystyle E\\\\mathbf {i} +F\\\\mathbf {j} +G\\\\mathbf {k} } \\n \\n    .\\n   Unlike the cross product, and the three-dimensional vector calculus, the wedge product and the calculus of differential forms makes sense in arbitrary dimension and on more general manifolds (curves, surfaces, and their higher-dimensional analogs). The  exterior derivative  plays the role of the  gradient  and  curl  of vector calculus, and  Stokes\\' theorem  simultaneously generalizes the three theorems of vector calculus: the  divergence theorem ,  Green\\'s theorem , and the  Kelvin-Stokes theorem .\\n   The discrete equivalent of integration is  summation . Summations and integrals can be put on the same foundations using the theory of  Lebesgue integrals  or  time scale calculus .\\n   The most basic technique for computing definite integrals of one real variable is based on the  fundamental theorem of calculus . Let   f ( x )  be the function of  x  to be integrated over a given interval  [ a ,  b ] . Then, find an antiderivative of  f ; that is, a function  F  such that   F ′ =  f   on the interval. Provided the integrand and integral have no  singularities  on the path of integration, by the fundamental theorem of calculus,\\n   The integral is not actually the antiderivative, but the fundamental theorem provides a way to use antiderivatives to evaluate definite integrals. \\n   The most difficult step is usually to find the antiderivative of  f . It is rarely possible to glance at a function and write down its antiderivative. More often, it is necessary to use one of the many techniques that have been developed to evaluate integrals. Most of these techniques rewrite one integral as a different one which is hopefully more tractable. Techniques include:\\n   Basic methods - These are the fundamental methods and are necessary to know to integrate any function.\\n   Derived methods - These are methods derived from the basic methods to make the process of integration easier for some special kinds of functions functions.\\n   Alternative methods exist to compute more complex integrals. Many  nonelementary integrals  can be expanded in a  Taylor series  and integrated term by term. Occasionally, the resulting infinite series can be summed analytically. The method of convolution using  Meijer G-functions  can also be used, assuming that the integrand can be written as a product of Meijer G-functions. There are also many less common ways of calculating definite integrals; for instance,  Parseval\\'s identity  can be used to transform an integral over a rectangular region into an infinite sum. Occasionally, an integral can be evaluated by a trick; for an example of this, see  Gaussian integral .\\n   Computations of volumes of  solids of revolution  can usually be done with  disk integration  or  shell integration .\\n   Specific results which have been worked out by various techniques are collected in the  list of integrals .\\n   Many problems in mathematics, physics, and engineering involve integration where an explicit formula for the integral is desired. Extensive  tables of integrals  have been compiled and published over the years for this purpose. With the spread of computers, many professionals, educators, and students have turned to  computer algebra systems  that are specifically designed to perform difficult or tedious tasks, including integration. Symbolic integration has been one of the motivations for the development of the first such systems, like  Macsyma  and  Maple .\\n   A major mathematical difficulty in symbolic integration is that in many cases, a closed formula for the antiderivative of a rather simple-looking function does not exist. For instance, it is known that the antiderivatives of the functions  exp( x  2 ),  x   x    and  (sin  x )/ x   cannot be expressed in the closed form involving only  rational  and  exponential  functions,  logarithm ,  trigonometric functions  and  inverse trigonometric functions , and the operations of multiplication and composition; in other words, none of the three given functions is integrable in  elementary functions , which are the functions which may be built from rational functions,  roots of a polynomial , logarithm, and exponential functions. The  Risch algorithm  provides a general criterion to determine whether the antiderivative of an elementary function is elementary, and, if it is, to compute it. Unfortunately, it turns out that functions with closed expressions of antiderivatives are the exception rather than the rule. Consequently, computerized algebra systems have no hope of being able to find an antiderivative for a randomly constructed elementary function. On the positive side, if the \\'building blocks\\' for antiderivatives are fixed in advance, it may still be possible to decide whether the antiderivative of a given function can be expressed using these blocks and operations of multiplication and composition, and to find the symbolic answer whenever it exists. The Risch algorithm, implemented in  Mathematica ,  Maple  and other  computer algebra systems , does just that for functions and antiderivatives built from rational functions,  radicals , logarithm, and exponential functions.\\n   Some special integrands occur often enough to warrant special study. In particular, it may be useful to have, in the set of antiderivatives, the  special functions  (like the  Legendre functions , the  hypergeometric function , the  gamma function , the  incomplete gamma function  and so on\\xa0— see  Symbolic integration  for more details). Extending the Risch\\'s algorithm to include such functions is possible but challenging and has been an active research subject.\\n   More recently a new approach has emerged, using   D -finite functions , which are the solutions of  linear differential equations  with polynomial coefficients. Most of the elementary and special functions are  D -finite, and the integral of a  D -finite function is also a  D -finite function. This provides an algorithm to express the antiderivative of a  D -finite function as the solution of a differential equation.\\n   This theory also allows one to compute the definite integral of a  D -function as the sum of a series given by the first coefficients, and provides an algorithm to compute any coefficient.\\n   Some integrals found in real applications can be computed by closed-form antiderivatives. Others are not so accommodating. Some antiderivatives do not have closed forms, some closed forms require special functions that themselves are a challenge to compute, and others are so complex that finding the exact answer is too slow. This motivates the study and application of numerical approximations of integrals. This subject, called  numerical integration  or  numerical quadrature , arose early in the study of integration for the purpose of making hand calculations. The development of general-purpose computers made numerical integration more practical and drove a desire for improvements. The goals of numerical integration are accuracy, reliability, efficiency, and generality, and sophisticated modern methods can vastly outperform a naive method by all four measures.  [41]  \\n   Consider, for example, the integral\\n   which has the exact answer  94/25 = 3.76 . (In ordinary practice, the answer is not known in advance, so an important task\\xa0— not explored here\\xa0— is to decide when an approximation is good enough.) A “calculus book” approach divides the integration range into, say, 16 equal pieces, and computes function values.\\n   Using the left end of each piece, the  rectangle method  sums 16 function values and multiplies by the step width,  h , here 0.25, to get an approximate value of 3.94325 for the integral. The accuracy is not impressive, but calculus formally uses pieces of infinitesimal width, so initially this may seem little cause for concern. Indeed, repeatedly doubling the number of steps eventually produces an approximation of 3.76001. However, 2 18  pieces are required, a great computational expense for such little accuracy; and a reach for greater accuracy can force steps so small that arithmetic precision becomes an obstacle.\\n   A better approach replaces the rectangles used in a Riemann sum with trapezoids. The  trapezoid rule  sums all 17 function values, but weights the first and last by one half, and again multiplies by the step width. This immediately improves the approximation to 3.76925, which is noticeably more accurate. Furthermore, only 2 10  pieces are needed to achieve 3.76000, substantially less computation than the rectangle method for comparable accuracy. \\n   The idea behind the trapezoid rule, that more accurate approximations to the function yield better approximations to the integral, can be carried further.  Simpson\\'s rule  approximates the integrand by a piecewise quadratic function. Riemann sums, the trapezoid rule, and Simpson\\'s rule are examples of a family of quadrature rules called  Newton–Cotes formulas . The degree   n   Newton–Cotes quadrature rule approximates the polynomial on each subinterval by a degree   n   polynomial. This polynomial is chosen to interpolate the values of the function on the interval. Higher degree Newton-Cotes approximations can be more accurate, but they require more function evaluations (already Simpson\\'s rule requires twice the function evaluations of the trapezoid rule), and they can suffer from numerical inaccuracy due to  Runge\\'s phenomenon . One solution to this problem is  Clenshaw–Curtis quadrature , in which the integrand is approximated by expanding it in terms of  Chebyshev polynomials . This produces an approximation whose values never deviate far from those of the original function.\\n    Romberg\\'s method  builds on the trapezoid method to great effect. First, the step lengths are halved incrementally, giving trapezoid approximations denoted by   T ( h  0 ),  T ( h  1 ) , and so on, where   h   k +1   is half of   h   k   . For each new step size, only half the new function values need to be computed; the others carry over from the previous size (as shown in the table above). But the really powerful idea is to  interpolate  a polynomial through the approximations, and extrapolate to   T (0) . With this method a numerically exact answer here requires only four pieces (five function values). The  Lagrange polynomial  interpolating  { h   k  , T ( h   k  )}  k  = 0...2  =  {(4.00,6.128), (2.00,4.352), (1.00,3.908)} is 3.76 + 0.148  h  2  , producing the extrapolated value 3.76 at   h  = 0 .\\n    Gaussian quadrature  often requires noticeably less work for superior accuracy. In this example, it can compute the function values at just two  x  positions,  ±2 ⁄  √ 3   , then double each value and sum to get the numerically exact answer. The explanation for this dramatic success lies in the choice of points. Unlike Newton–Cotes rules, which interpolate the integrand at evenly spaced points, Gaussian quadrature evaluates the function at the roots of a set of  orthogonal polynomials . An  n -point Gaussian method is exact for polynomials of degree up to  2 n  − 1 . The function in this example is a degree 3 polynomial, plus a term that cancels because the chosen endpoints are symmetric around zero. (Cancellation also benefits the Romberg method.)\\n   In practice, each method must use extra evaluations to ensure an error bound on an unknown function; this tends to offset some of the advantage of the pure Gaussian method, and motivates the popular  Gauss–Kronrod quadrature formulae . More broadly,  adaptive quadrature  partitions a range into pieces based on function properties, so that data points are concentrated where they are needed most.\\n   The computation of higher-dimensional integrals (for example, volume calculations) makes important use of such alternatives as  Monte Carlo integration .\\n   A calculus text is no substitute for numerical analysis, but the reverse is also true. Even the best adaptive numerical code sometimes requires a user to help with the more demanding integrals. For example, improper integrals may require a change of variable or methods that can avoid infinite function values, and known properties like symmetry and periodicity may provide critical leverage. For example, the integral    \\n \\n \\n \\n \\n ∫  \\n \\n 0 \\n \\n \\n 1 \\n \\n \\n \\n x \\n \\n −  \\n 1 \\n \\n / \\n \\n 2 \\n \\n \\n \\n e \\n \\n −  \\n x \\n \\n \\n  \\n d \\n x \\n \\n \\n {\\\\displaystyle \\\\int _{0}^{1}x^{-1/2}e^{-x}\\\\,dx} \\n \\n     is difficult to evaluate numerically because it is infinite at   x  = 0 . However, the substitution   u  =  √  x     transforms the integral into    \\n \\n \\n \\n 2 \\n \\n ∫  \\n \\n 0 \\n \\n \\n 1 \\n \\n \\n \\n e \\n \\n −  \\n \\n u \\n \\n 2 \\n \\n \\n \\n \\n  \\n d \\n u \\n \\n \\n {\\\\displaystyle 2\\\\int _{0}^{1}e^{-u^{2}}\\\\,du} \\n \\n    , which has no singularities at all.\\n   The area of an arbitrary two-dimensional shape can be determined using a measuring instrument called  planimeter . The volume of irregular objects can be measured with precision by the fluid  displaced  as the object is submerged.\\n   Area can sometimes be found via  geometrical   compass-and-straightedge constructions  of an equivalent  square .\\n '"
      ]
     },
     "execution_count": 66,
     "metadata": {},
     "output_type": "execute_result"
    }
   ],
   "source": [
    "articles = [re.sub(\"<.+?>\", \" \", a) for a in articles]\n",
    "articles[0]"
   ]
  },
  {
   "cell_type": "code",
   "execution_count": 67,
   "metadata": {},
   "outputs": [
    {
     "data": {
      "text/plain": [
       "' in  mathematics , an  integral  assigns numbers to functions in a way that can describe displacement, area, volume, and other concepts that arise by combining  infinitesimal  data. integra'"
      ]
     },
     "execution_count": 67,
     "metadata": {},
     "output_type": "execute_result"
    }
   ],
   "source": [
    "art.lower()"
   ]
  },
  {
   "cell_type": "code",
   "execution_count": 68,
   "metadata": {},
   "outputs": [
    {
     "data": {
      "text/plain": [
       "' in  mathematics , an  integral  assigns numbers to functions in a way that can describe displacement, area, volume, and other concepts that arise by combining  infinitesimal  data. integra'"
      ]
     },
     "execution_count": 68,
     "metadata": {},
     "output_type": "execute_result"
    }
   ],
   "source": [
    "articles = [art.lower() for a in articles]\n",
    "articles[0]"
   ]
  },
  {
   "cell_type": "code",
   "execution_count": 69,
   "metadata": {},
   "outputs": [
    {
     "data": {
      "text/plain": [
       "' in  mathematics , an  integral  assigns numbers to functions in a way that can describe displacement, area, volume, and other concepts that arise by combining  infinitesimal  data. integra'"
      ]
     },
     "execution_count": 69,
     "metadata": {},
     "output_type": "execute_result"
    }
   ],
   "source": [
    "re.findall(\"\\n\", articles[0])\n",
    "articles = [re.sub(\"\\n\", \" \", a) for a in articles]\n",
    "\n",
    "articles = [re.sub(\"\\t\", \" \", a) for a in articles]\n",
    "\n",
    "articles[0]"
   ]
  },
  {
   "cell_type": "code",
   "execution_count": 71,
   "metadata": {},
   "outputs": [],
   "source": [
    "articles = [nltk.word_tokenize(a) for a in articles]"
   ]
  },
  {
   "cell_type": "code",
   "execution_count": 72,
   "metadata": {},
   "outputs": [
    {
     "data": {
      "text/plain": [
       "['in',\n",
       " 'mathematics',\n",
       " ',',\n",
       " 'an',\n",
       " 'integral',\n",
       " 'assigns',\n",
       " 'numbers',\n",
       " 'to',\n",
       " 'functions',\n",
       " 'in',\n",
       " 'a',\n",
       " 'way',\n",
       " 'that',\n",
       " 'can',\n",
       " 'describe',\n",
       " 'displacement',\n",
       " ',',\n",
       " 'area',\n",
       " ',',\n",
       " 'volume',\n",
       " ',',\n",
       " 'and',\n",
       " 'other',\n",
       " 'concepts',\n",
       " 'that',\n",
       " 'arise',\n",
       " 'by',\n",
       " 'combining',\n",
       " 'infinitesimal',\n",
       " 'data',\n",
       " '.',\n",
       " 'integra']"
      ]
     },
     "execution_count": 72,
     "metadata": {},
     "output_type": "execute_result"
    }
   ],
   "source": [
    "articles[0]"
   ]
  },
  {
   "cell_type": "code",
   "execution_count": 73,
   "metadata": {},
   "outputs": [
    {
     "data": {
      "text/plain": [
       "['i',\n",
       " 'me',\n",
       " 'my',\n",
       " 'myself',\n",
       " 'we',\n",
       " 'our',\n",
       " 'ours',\n",
       " 'ourselves',\n",
       " 'you',\n",
       " \"you're\",\n",
       " \"you've\",\n",
       " \"you'll\",\n",
       " \"you'd\",\n",
       " 'your',\n",
       " 'yours',\n",
       " 'yourself',\n",
       " 'yourselves',\n",
       " 'he',\n",
       " 'him',\n",
       " 'his',\n",
       " 'himself',\n",
       " 'she',\n",
       " \"she's\",\n",
       " 'her',\n",
       " 'hers',\n",
       " 'herself',\n",
       " 'it',\n",
       " \"it's\",\n",
       " 'its',\n",
       " 'itself',\n",
       " 'they',\n",
       " 'them',\n",
       " 'their',\n",
       " 'theirs',\n",
       " 'themselves',\n",
       " 'what',\n",
       " 'which',\n",
       " 'who',\n",
       " 'whom',\n",
       " 'this',\n",
       " 'that',\n",
       " \"that'll\",\n",
       " 'these',\n",
       " 'those',\n",
       " 'am',\n",
       " 'is',\n",
       " 'are',\n",
       " 'was',\n",
       " 'were',\n",
       " 'be',\n",
       " 'been',\n",
       " 'being',\n",
       " 'have',\n",
       " 'has',\n",
       " 'had',\n",
       " 'having',\n",
       " 'do',\n",
       " 'does',\n",
       " 'did',\n",
       " 'doing',\n",
       " 'a',\n",
       " 'an',\n",
       " 'the',\n",
       " 'and',\n",
       " 'but',\n",
       " 'if',\n",
       " 'or',\n",
       " 'because',\n",
       " 'as',\n",
       " 'until',\n",
       " 'while',\n",
       " 'of',\n",
       " 'at',\n",
       " 'by',\n",
       " 'for',\n",
       " 'with',\n",
       " 'about',\n",
       " 'against',\n",
       " 'between',\n",
       " 'into',\n",
       " 'through',\n",
       " 'during',\n",
       " 'before',\n",
       " 'after',\n",
       " 'above',\n",
       " 'below',\n",
       " 'to',\n",
       " 'from',\n",
       " 'up',\n",
       " 'down',\n",
       " 'in',\n",
       " 'out',\n",
       " 'on',\n",
       " 'off',\n",
       " 'over',\n",
       " 'under',\n",
       " 'again',\n",
       " 'further',\n",
       " 'then',\n",
       " 'once',\n",
       " 'here',\n",
       " 'there',\n",
       " 'when',\n",
       " 'where',\n",
       " 'why',\n",
       " 'how',\n",
       " 'all',\n",
       " 'any',\n",
       " 'both',\n",
       " 'each',\n",
       " 'few',\n",
       " 'more',\n",
       " 'most',\n",
       " 'other',\n",
       " 'some',\n",
       " 'such',\n",
       " 'no',\n",
       " 'nor',\n",
       " 'not',\n",
       " 'only',\n",
       " 'own',\n",
       " 'same',\n",
       " 'so',\n",
       " 'than',\n",
       " 'too',\n",
       " 'very',\n",
       " 's',\n",
       " 't',\n",
       " 'can',\n",
       " 'will',\n",
       " 'just',\n",
       " 'don',\n",
       " \"don't\",\n",
       " 'should',\n",
       " \"should've\",\n",
       " 'now',\n",
       " 'd',\n",
       " 'll',\n",
       " 'm',\n",
       " 'o',\n",
       " 're',\n",
       " 've',\n",
       " 'y',\n",
       " 'ain',\n",
       " 'aren',\n",
       " \"aren't\",\n",
       " 'couldn',\n",
       " \"couldn't\",\n",
       " 'didn',\n",
       " \"didn't\",\n",
       " 'doesn',\n",
       " \"doesn't\",\n",
       " 'hadn',\n",
       " \"hadn't\",\n",
       " 'hasn',\n",
       " \"hasn't\",\n",
       " 'haven',\n",
       " \"haven't\",\n",
       " 'isn',\n",
       " \"isn't\",\n",
       " 'ma',\n",
       " 'mightn',\n",
       " \"mightn't\",\n",
       " 'mustn',\n",
       " \"mustn't\",\n",
       " 'needn',\n",
       " \"needn't\",\n",
       " 'shan',\n",
       " \"shan't\",\n",
       " 'shouldn',\n",
       " \"shouldn't\",\n",
       " 'wasn',\n",
       " \"wasn't\",\n",
       " 'weren',\n",
       " \"weren't\",\n",
       " 'won',\n",
       " \"won't\",\n",
       " 'wouldn',\n",
       " \"wouldn't\"]"
      ]
     },
     "execution_count": 73,
     "metadata": {},
     "output_type": "execute_result"
    }
   ],
   "source": [
    "stopwords = nltk.corpus.stopwords.words('english')\n",
    "stopwords"
   ]
  },
  {
   "cell_type": "code",
   "execution_count": 74,
   "metadata": {},
   "outputs": [
    {
     "data": {
      "text/plain": [
       "['mathematics',\n",
       " ',',\n",
       " 'integral',\n",
       " 'assigns',\n",
       " 'numbers',\n",
       " 'functions',\n",
       " 'way',\n",
       " 'describe',\n",
       " 'displacement',\n",
       " ',',\n",
       " 'area',\n",
       " ',',\n",
       " 'volume',\n",
       " ',',\n",
       " 'concepts',\n",
       " 'arise',\n",
       " 'combining',\n",
       " 'infinitesimal',\n",
       " 'data',\n",
       " '.',\n",
       " 'integra']"
      ]
     },
     "execution_count": 74,
     "metadata": {},
     "output_type": "execute_result"
    }
   ],
   "source": [
    "[w for w in articles[0] if w not in stopwords]  # bierzemy słowa które nie wystęują w stopwords w-words"
   ]
  },
  {
   "cell_type": "code",
   "execution_count": 75,
   "metadata": {},
   "outputs": [
    {
     "data": {
      "text/plain": [
       "['mathematics',\n",
       " ',',\n",
       " 'integral',\n",
       " 'assigns',\n",
       " 'numbers',\n",
       " 'functions',\n",
       " 'way',\n",
       " 'describe',\n",
       " 'displacement',\n",
       " ',',\n",
       " 'area',\n",
       " ',',\n",
       " 'volume',\n",
       " ',',\n",
       " 'concepts',\n",
       " 'arise',\n",
       " 'combining',\n",
       " 'infinitesimal',\n",
       " 'data',\n",
       " '.',\n",
       " 'integra']"
      ]
     },
     "execution_count": 75,
     "metadata": {},
     "output_type": "execute_result"
    }
   ],
   "source": [
    "articles = [[w for w in articles[0] if w not in stopwords] for a in articles]\n",
    "articles[0]"
   ]
  },
  {
   "cell_type": "code",
   "execution_count": 76,
   "metadata": {},
   "outputs": [],
   "source": [
    "stemmer = nltk.PorterStemmer()"
   ]
  },
  {
   "cell_type": "code",
   "execution_count": 77,
   "metadata": {},
   "outputs": [
    {
     "data": {
      "text/plain": [
       "['walk', 'walk', 'walk']"
      ]
     },
     "execution_count": 77,
     "metadata": {},
     "output_type": "execute_result"
    }
   ],
   "source": [
    "[stemmer.stem(w) for w in ['walk', 'walking', 'walked']]"
   ]
  },
  {
   "cell_type": "code",
   "execution_count": 78,
   "metadata": {},
   "outputs": [
    {
     "data": {
      "text/plain": [
       "['teach', 'taught', 'teach']"
      ]
     },
     "execution_count": 78,
     "metadata": {},
     "output_type": "execute_result"
    }
   ],
   "source": [
    "[stemmer.stem(w) for w in ['teach', 'taught', 'teaching']]"
   ]
  },
  {
   "cell_type": "code",
   "execution_count": 80,
   "metadata": {},
   "outputs": [
    {
     "data": {
      "text/plain": [
       "[['mathemat',\n",
       "  ',',\n",
       "  'integr',\n",
       "  'assign',\n",
       "  'number',\n",
       "  'function',\n",
       "  'way',\n",
       "  'describ',\n",
       "  'displac',\n",
       "  ',',\n",
       "  'area',\n",
       "  ',',\n",
       "  'volum',\n",
       "  ',',\n",
       "  'concept',\n",
       "  'aris',\n",
       "  'combin',\n",
       "  'infinitesim',\n",
       "  'data',\n",
       "  '.',\n",
       "  'integra'],\n",
       " ['mathemat',\n",
       "  ',',\n",
       "  'integr',\n",
       "  'assign',\n",
       "  'number',\n",
       "  'function',\n",
       "  'way',\n",
       "  'describ',\n",
       "  'displac',\n",
       "  ',',\n",
       "  'area',\n",
       "  ',',\n",
       "  'volum',\n",
       "  ',',\n",
       "  'concept',\n",
       "  'aris',\n",
       "  'combin',\n",
       "  'infinitesim',\n",
       "  'data',\n",
       "  '.',\n",
       "  'integra'],\n",
       " ['mathemat',\n",
       "  ',',\n",
       "  'integr',\n",
       "  'assign',\n",
       "  'number',\n",
       "  'function',\n",
       "  'way',\n",
       "  'describ',\n",
       "  'displac',\n",
       "  ',',\n",
       "  'area',\n",
       "  ',',\n",
       "  'volum',\n",
       "  ',',\n",
       "  'concept',\n",
       "  'aris',\n",
       "  'combin',\n",
       "  'infinitesim',\n",
       "  'data',\n",
       "  '.',\n",
       "  'integra'],\n",
       " ['mathemat',\n",
       "  ',',\n",
       "  'integr',\n",
       "  'assign',\n",
       "  'number',\n",
       "  'function',\n",
       "  'way',\n",
       "  'describ',\n",
       "  'displac',\n",
       "  ',',\n",
       "  'area',\n",
       "  ',',\n",
       "  'volum',\n",
       "  ',',\n",
       "  'concept',\n",
       "  'aris',\n",
       "  'combin',\n",
       "  'infinitesim',\n",
       "  'data',\n",
       "  '.',\n",
       "  'integra'],\n",
       " ['mathemat',\n",
       "  ',',\n",
       "  'integr',\n",
       "  'assign',\n",
       "  'number',\n",
       "  'function',\n",
       "  'way',\n",
       "  'describ',\n",
       "  'displac',\n",
       "  ',',\n",
       "  'area',\n",
       "  ',',\n",
       "  'volum',\n",
       "  ',',\n",
       "  'concept',\n",
       "  'aris',\n",
       "  'combin',\n",
       "  'infinitesim',\n",
       "  'data',\n",
       "  '.',\n",
       "  'integra'],\n",
       " ['mathemat',\n",
       "  ',',\n",
       "  'integr',\n",
       "  'assign',\n",
       "  'number',\n",
       "  'function',\n",
       "  'way',\n",
       "  'describ',\n",
       "  'displac',\n",
       "  ',',\n",
       "  'area',\n",
       "  ',',\n",
       "  'volum',\n",
       "  ',',\n",
       "  'concept',\n",
       "  'aris',\n",
       "  'combin',\n",
       "  'infinitesim',\n",
       "  'data',\n",
       "  '.',\n",
       "  'integra'],\n",
       " ['mathemat',\n",
       "  ',',\n",
       "  'integr',\n",
       "  'assign',\n",
       "  'number',\n",
       "  'function',\n",
       "  'way',\n",
       "  'describ',\n",
       "  'displac',\n",
       "  ',',\n",
       "  'area',\n",
       "  ',',\n",
       "  'volum',\n",
       "  ',',\n",
       "  'concept',\n",
       "  'aris',\n",
       "  'combin',\n",
       "  'infinitesim',\n",
       "  'data',\n",
       "  '.',\n",
       "  'integra'],\n",
       " ['mathemat',\n",
       "  ',',\n",
       "  'integr',\n",
       "  'assign',\n",
       "  'number',\n",
       "  'function',\n",
       "  'way',\n",
       "  'describ',\n",
       "  'displac',\n",
       "  ',',\n",
       "  'area',\n",
       "  ',',\n",
       "  'volum',\n",
       "  ',',\n",
       "  'concept',\n",
       "  'aris',\n",
       "  'combin',\n",
       "  'infinitesim',\n",
       "  'data',\n",
       "  '.',\n",
       "  'integra'],\n",
       " ['mathemat',\n",
       "  ',',\n",
       "  'integr',\n",
       "  'assign',\n",
       "  'number',\n",
       "  'function',\n",
       "  'way',\n",
       "  'describ',\n",
       "  'displac',\n",
       "  ',',\n",
       "  'area',\n",
       "  ',',\n",
       "  'volum',\n",
       "  ',',\n",
       "  'concept',\n",
       "  'aris',\n",
       "  'combin',\n",
       "  'infinitesim',\n",
       "  'data',\n",
       "  '.',\n",
       "  'integra'],\n",
       " ['mathemat',\n",
       "  ',',\n",
       "  'integr',\n",
       "  'assign',\n",
       "  'number',\n",
       "  'function',\n",
       "  'way',\n",
       "  'describ',\n",
       "  'displac',\n",
       "  ',',\n",
       "  'area',\n",
       "  ',',\n",
       "  'volum',\n",
       "  ',',\n",
       "  'concept',\n",
       "  'aris',\n",
       "  'combin',\n",
       "  'infinitesim',\n",
       "  'data',\n",
       "  '.',\n",
       "  'integra'],\n",
       " ['mathemat',\n",
       "  ',',\n",
       "  'integr',\n",
       "  'assign',\n",
       "  'number',\n",
       "  'function',\n",
       "  'way',\n",
       "  'describ',\n",
       "  'displac',\n",
       "  ',',\n",
       "  'area',\n",
       "  ',',\n",
       "  'volum',\n",
       "  ',',\n",
       "  'concept',\n",
       "  'aris',\n",
       "  'combin',\n",
       "  'infinitesim',\n",
       "  'data',\n",
       "  '.',\n",
       "  'integra']]"
      ]
     },
     "execution_count": 80,
     "metadata": {},
     "output_type": "execute_result"
    }
   ],
   "source": [
    "[[stemmer.stem(w) for w in a] for a in articles]"
   ]
  },
  {
   "cell_type": "code",
   "execution_count": 81,
   "metadata": {},
   "outputs": [
    {
     "data": {
      "text/plain": [
       "11"
      ]
     },
     "execution_count": 81,
     "metadata": {},
     "output_type": "execute_result"
    }
   ],
   "source": [
    "len(articles)"
   ]
  },
  {
   "cell_type": "code",
   "execution_count": 83,
   "metadata": {},
   "outputs": [
    {
     "data": {
      "text/plain": [
       "['mathematics',\n",
       " ',',\n",
       " 'integral',\n",
       " 'assigns',\n",
       " 'numbers',\n",
       " 'functions',\n",
       " 'way',\n",
       " 'describe',\n",
       " 'displacement',\n",
       " ',',\n",
       " 'area',\n",
       " ',',\n",
       " 'volume',\n",
       " ',',\n",
       " 'concepts',\n",
       " 'arise',\n",
       " 'combining',\n",
       " 'infinitesimal',\n",
       " 'data',\n",
       " '.',\n",
       " 'integra']"
      ]
     },
     "execution_count": 83,
     "metadata": {},
     "output_type": "execute_result"
    }
   ],
   "source": [
    "[\" \".join(a) for a in articles]\n",
    "articles[0]"
   ]
  },
  {
   "cell_type": "code",
   "execution_count": 84,
   "metadata": {},
   "outputs": [],
   "source": [
    "import string"
   ]
  },
  {
   "cell_type": "code",
   "execution_count": 85,
   "metadata": {},
   "outputs": [
    {
     "data": {
      "text/plain": [
       "'!\"#$%&\\'()*+,-./:;<=>?@[\\\\]^_`{|}~'"
      ]
     },
     "execution_count": 85,
     "metadata": {},
     "output_type": "execute_result"
    }
   ],
   "source": [
    "string.punctuation"
   ]
  },
  {
   "cell_type": "code",
   "execution_count": 86,
   "metadata": {},
   "outputs": [
    {
     "data": {
      "text/plain": [
       "35"
      ]
     },
     "execution_count": 86,
     "metadata": {},
     "output_type": "execute_result"
    }
   ],
   "source": [
    "ord(string.punctuation[2])"
   ]
  },
  {
   "cell_type": "code",
   "execution_count": 87,
   "metadata": {},
   "outputs": [
    {
     "data": {
      "text/plain": [
       "'#'"
      ]
     },
     "execution_count": 87,
     "metadata": {},
     "output_type": "execute_result"
    }
   ],
   "source": [
    "chr(35)"
   ]
  },
  {
   "cell_type": "code",
   "execution_count": 89,
   "metadata": {},
   "outputs": [
    {
     "data": {
      "text/plain": [
       "{33: None,\n",
       " 34: None,\n",
       " 35: None,\n",
       " 36: None,\n",
       " 37: None,\n",
       " 38: None,\n",
       " 39: None,\n",
       " 40: None,\n",
       " 41: None,\n",
       " 42: None,\n",
       " 43: None,\n",
       " 44: None,\n",
       " 45: None,\n",
       " 46: None,\n",
       " 47: None,\n",
       " 58: None,\n",
       " 59: None,\n",
       " 60: None,\n",
       " 61: None,\n",
       " 62: None,\n",
       " 63: None,\n",
       " 64: None,\n",
       " 91: None,\n",
       " 92: None,\n",
       " 93: None,\n",
       " 94: None,\n",
       " 95: None,\n",
       " 96: None,\n",
       " 123: None,\n",
       " 124: None,\n",
       " 125: None,\n",
       " 126: None}"
      ]
     },
     "execution_count": 89,
     "metadata": {},
     "output_type": "execute_result"
    }
   ],
   "source": [
    "punk_table = str.maketrans({key: None for key in string.punctuation})"
   ]
  },
  {
   "cell_type": "code",
   "execution_count": 90,
   "metadata": {},
   "outputs": [
    {
     "ename": "AttributeError",
     "evalue": "'list' object has no attribute 'translate'",
     "output_type": "error",
     "traceback": [
      "\u001b[1;31m---------------------------------------------------------------------------\u001b[0m",
      "\u001b[1;31mAttributeError\u001b[0m                            Traceback (most recent call last)",
      "\u001b[1;32m<ipython-input-90-71c907d04781>\u001b[0m in \u001b[0;36m<module>\u001b[1;34m\u001b[0m\n\u001b[1;32m----> 1\u001b[1;33m \u001b[0marticles\u001b[0m\u001b[1;33m[\u001b[0m\u001b[1;36m0\u001b[0m\u001b[1;33m]\u001b[0m\u001b[1;33m.\u001b[0m\u001b[0mtranslate\u001b[0m\u001b[1;33m(\u001b[0m\u001b[0mpunk_table\u001b[0m\u001b[1;33m)\u001b[0m\u001b[1;33m\u001b[0m\u001b[1;33m\u001b[0m\u001b[0m\n\u001b[0m",
      "\u001b[1;31mAttributeError\u001b[0m: 'list' object has no attribute 'translate'"
     ]
    }
   ],
   "source": [
    "articles[0].translate(punk_table)"
   ]
  },
  {
   "cell_type": "code",
   "execution_count": null,
   "metadata": {},
   "outputs": [],
   "source": []
  },
  {
   "cell_type": "code",
   "execution_count": null,
   "metadata": {},
   "outputs": [],
   "source": []
  },
  {
   "cell_type": "code",
   "execution_count": null,
   "metadata": {},
   "outputs": [],
   "source": []
  },
  {
   "cell_type": "markdown",
   "metadata": {},
   "source": [
    "# Reprezentacje tekstu"
   ]
  },
  {
   "cell_type": "markdown",
   "metadata": {},
   "source": [
    "## Podstawowa reprezentacja macierzowa - liczności"
   ]
  },
  {
   "cell_type": "code",
   "execution_count": null,
   "metadata": {},
   "outputs": [],
   "source": []
  },
  {
   "cell_type": "code",
   "execution_count": null,
   "metadata": {},
   "outputs": [],
   "source": []
  },
  {
   "cell_type": "code",
   "execution_count": null,
   "metadata": {},
   "outputs": [],
   "source": []
  },
  {
   "cell_type": "markdown",
   "metadata": {},
   "source": [
    "#### Zadanie\n",
    "\n",
    "Wypisać k najczęstszych słów dla każdego dokumentu."
   ]
  },
  {
   "cell_type": "code",
   "execution_count": null,
   "metadata": {},
   "outputs": [],
   "source": []
  },
  {
   "cell_type": "code",
   "execution_count": null,
   "metadata": {},
   "outputs": [],
   "source": []
  },
  {
   "cell_type": "code",
   "execution_count": null,
   "metadata": {},
   "outputs": [],
   "source": []
  },
  {
   "cell_type": "markdown",
   "metadata": {},
   "source": [
    "## Przekształcenie Tf-Idf\n",
    "\n",
    "Przekształcenie to mierzy jak ważne są poszczególne słowa w poszczególnych dokumentach.\n",
    "\n",
    "Tf - term frequency - częstość słowa w dokumencie.\n",
    "\n",
    "Idf - inverse document frequency - odwrotność częstości słowa w zbiorze dokumentów.\n",
    "\n",
    "Wartość ważności słowa $w$ w dokumencie $d$ to:\n",
    "\n",
    "$$TFIDF(w,d) = tf(w,d) \\cdot idf(w).$$\n",
    "\n",
    "Istnieje wiele różnych wariantów tej miary. Podstawowa to:\n",
    "\n",
    "**tf(w,d)** - liczba wystąpień słowa $w$ w dokumencie $d$ podzielona przez liczbę wszystkich słów w dokumencie $d$;\n",
    "\n",
    "**idf(w)** - logarytm z liczby dokumentów w korpusie podzielonej przez liczbę dokumentów, w których wystąpiło słowo $w$.\n",
    "\n",
    "### https://en.wikipedia.org/wiki/Tf%E2%80%93idf\n",
    "\n",
    "### https://en.wikipedia.org/wiki/Tf%E2%80%93idf"
   ]
  },
  {
   "cell_type": "code",
   "execution_count": null,
   "metadata": {},
   "outputs": [],
   "source": []
  },
  {
   "cell_type": "code",
   "execution_count": null,
   "metadata": {},
   "outputs": [],
   "source": []
  },
  {
   "cell_type": "code",
   "execution_count": null,
   "metadata": {},
   "outputs": [],
   "source": []
  },
  {
   "cell_type": "markdown",
   "metadata": {},
   "source": [
    "## LSI - *Latent Semantic Indexing* \n",
    "\n",
    "Czyli wykrycie w tekście znaczeń poprzez rozkład macierzy TfIdf przy użyciu SVD.\n"
   ]
  },
  {
   "cell_type": "code",
   "execution_count": null,
   "metadata": {},
   "outputs": [],
   "source": []
  },
  {
   "cell_type": "code",
   "execution_count": null,
   "metadata": {},
   "outputs": [],
   "source": []
  },
  {
   "cell_type": "code",
   "execution_count": null,
   "metadata": {},
   "outputs": [],
   "source": []
  },
  {
   "cell_type": "markdown",
   "metadata": {},
   "source": [
    "### Uwaga: do mierzenia podobieństwa tekstów dobrze sprawdza się miara cosinusowa!\n",
    "\n",
    "https://en.wikipedia.org/wiki/Cosine_similarity\n",
    "\n",
    "Mierzy ona podobieństwo wektorów na podstawie rozkładu wartości elementów (proporcji), a nie wartości bewzględnych. Matematycznie: podobieństwo jest określane na podstawie kąta pomiędzy wektorami (wartości cosinusa tego kąta), a nie na podstawie długości wektorów."
   ]
  },
  {
   "cell_type": "markdown",
   "metadata": {},
   "source": [
    "## Zadanie - otagować teksty korpusu 20newsgroups"
   ]
  },
  {
   "cell_type": "code",
   "execution_count": null,
   "metadata": {},
   "outputs": [],
   "source": []
  },
  {
   "cell_type": "code",
   "execution_count": null,
   "metadata": {},
   "outputs": [],
   "source": []
  },
  {
   "cell_type": "code",
   "execution_count": null,
   "metadata": {},
   "outputs": [],
   "source": []
  },
  {
   "cell_type": "markdown",
   "metadata": {},
   "source": [
    "# Model LDA - Latent Dirichlet Allocation (ukryta alokacja Dirichleta)\n",
    "\n",
    "\n",
    "Motywacja: przedstawienie tekstu jako mieszanki tematów.\n",
    "\n",
    "\n",
    "Temat - rozkład prawdopodobieństwa na zbiorze słów.\n",
    "\n",
    "\n",
    "Przykład:\n",
    "*  <s>Mam</s> gorączkę <s>i</s> katar.\n",
    "* Graliśmy <s>w</s> siatkówkę.\n",
    "* Grając <s>w</s> piłkę, wzmacniamy organizm.\n",
    "\n",
    "\n",
    "Ile \"tematów\" widzimy?\n",
    "<br>\n",
    "\n",
    "<br>\n",
    "\n",
    "<br>\n",
    "\n",
    "<br>\n",
    "\n",
    "<br>\n",
    "\n",
    "<br>\n",
    "\n",
    "Intuicyjnie: dwa tematy: \"sport\" oraz \"zdrowie\".\n",
    "* Pierwsze zdanie = 100% zdrowie\n",
    "* Drugie zdanie = 100% sport\n",
    "* Trzecie zdanie = 50% sport + 50% zdrowie\n",
    "\n",
    "\n",
    "## Rozkład Dirichleta \n",
    "\n",
    "Jest to rozkład, na którym opiera się model LDA\n",
    "\n",
    "Gęstość trójwymiarowego rozkładu Dirichleta Dir($\\alpha$).\n",
    "\n",
    "Wektor losowy $(x_1 , ..., x_K )$ z $K$-wymiarowego rozkładu Dirichleta to punkt na $(K-1)$-wymiarowym \"trójkącie\" (sympleksie), czyli $x_1 + ... + x_K = 1$, $x_i \\geq 0$.\n",
    "\n",
    "$\\alpha=3$ | $\\alpha=0.95$\n",
    "- | - \n",
    "![alt](Grafika/dir3.jpg) | ![alt](Grafika/dir095.jpg)\n",
    "\n",
    "\n",
    "W modelu LDA będziemy zakładać, że tematy składające się na dokument, pochodzą z rozkładu Dirichleta."
   ]
  },
  {
   "cell_type": "markdown",
   "metadata": {},
   "source": [
    "## Ale $\\alpha$ może być wektorem, czyli $\\alpha = (\\alpha_1, ..., \\alpha_K)$. Co wówczas?\n",
    "\n",
    "<img src=\"Grafika/dirichlet.png\" widht=\"200\">\n",
    "\n",
    "Źródło: http://jonathan-huang.org/research/hln/hlnfit.html\n",
    "\n",
    "### Czyli rozkład jest niesymetryczny. Odpowiada to temu, że tematy mogą mieć różną częstość, co bardzo odpowiada rzeczywistości. Wtedy wartość oczekiwana $X_i$ (i-tej współrzędnej wektora z rozkładu Dirichleta) wynosi \n",
    "## $$\\frac{\\alpha_i}{\\sum\\limits_{j=1}^K \\alpha_j}$$\n",
    "\n",
    "czyli średni udział $i$-tego tematu jest proporcjonalny do $\\alpha_i$."
   ]
  },
  {
   "cell_type": "code",
   "execution_count": null,
   "metadata": {},
   "outputs": [],
   "source": []
  },
  {
   "cell_type": "code",
   "execution_count": null,
   "metadata": {},
   "outputs": [],
   "source": []
  },
  {
   "cell_type": "code",
   "execution_count": null,
   "metadata": {},
   "outputs": [],
   "source": []
  },
  {
   "cell_type": "markdown",
   "metadata": {},
   "source": [
    "<br>\n",
    "\n",
    "<br>\n",
    "\n",
    "<br>\n",
    "\n",
    "<br>\n",
    "\n",
    "# Model LDA\n",
    "\n",
    "<img src=\"Grafika/LDA_doc.jpg\">\n",
    "\n",
    "<br>\n",
    "\n",
    "<br>\n",
    "\n",
    "<br>\n",
    "\n",
    "<br>\n",
    "\n",
    "<img src=\"Grafika/Smoothed_LDA.png\">\n",
    "\n",
    "\n",
    ",gdzie\n",
    "\n",
    "$\\theta_d \\sim Dir(\\alpha)$  - rozkład tematów w dokumencie\n",
    "\n",
    "$Z \\sim Discr(\\theta)$ - temat, którego pochodz słowo\n",
    "\n",
    "$W \\sim Discr(\\phi_Z)$ - słowo\n",
    "\n",
    "$\\phi_i \\sim Dir(\\beta)$ - tematy"
   ]
  },
  {
   "cell_type": "markdown",
   "metadata": {},
   "source": [
    "Dokumenty będą składać sie tylko z kilku tematów (alfa będzie mała).\n",
    "\n",
    "Tematy będą charakteryzowane również tylko przez cześć słów (beta małe). Dzięki temu możemy ludzkim okiem rozróżnić i zintepretować tematy."
   ]
  },
  {
   "cell_type": "markdown",
   "metadata": {},
   "source": [
    "# Uwaga\n",
    "\n",
    "W modelu LDA są 3 parametry: K - liczba tematów, wektor lub skalar alfa oraz wektor lub skalar beta.\n",
    "\n",
    "Dobre oprogramowanie do pracy z modelem LDA to takie, które wymaga podania od użytkownika jedynie K, a parametry alfa i beta estymuje sobie sam (wykorzystując uznane metody wyznaczania optymalnych ich wartości) i pozwala wybrać czy mają być skalarami czy wektorami. Alfa w praktyce powinna być wektorem - różne wartości elementów wektora odpowiadają różnym częstościom tematów. Natomiast Beta czasem może dać lepsze wyniki jako wektor, a czasem jako skalar. Takim narzędziem jest np. MALLET (http://mallet.cs.umass.edu/). W modułach Pythona tak elastycznych funkcjonalności nie ma, ale też nie ma tragedii.\n",
    "\n",
    "Istnieją dwie powszechnie stosowane metody dopasowaywania modelu: wnioskowanie wariacyjne oraz próbkowanie Gibbsa. Ta druga metoda jest wydajniejsza. (https://stats.stackexchange.com/questions/8485/a-good-gibbs-sampling-tutorials-and-references)"
   ]
  },
  {
   "cell_type": "markdown",
   "metadata": {},
   "source": [
    "### LDA w module GENSIM\n",
    "\n",
    "gensim to modul stworzony do analizy tekstów: https://radimrehurek.com/gensim/"
   ]
  },
  {
   "cell_type": "code",
   "execution_count": null,
   "metadata": {},
   "outputs": [],
   "source": []
  },
  {
   "cell_type": "code",
   "execution_count": null,
   "metadata": {},
   "outputs": [],
   "source": []
  },
  {
   "cell_type": "code",
   "execution_count": null,
   "metadata": {},
   "outputs": [],
   "source": []
  },
  {
   "cell_type": "markdown",
   "metadata": {},
   "source": [
    "### Wypisania rozkładów tematów w dokumentach (jest trudne bo dane są zapisane w formacie rzadkim zapisana jest tylko cześć tematów - te, które mają bardzo niski udział zostają pominięte)"
   ]
  },
  {
   "cell_type": "code",
   "execution_count": null,
   "metadata": {},
   "outputs": [],
   "source": []
  },
  {
   "cell_type": "code",
   "execution_count": null,
   "metadata": {},
   "outputs": [],
   "source": []
  },
  {
   "cell_type": "code",
   "execution_count": null,
   "metadata": {},
   "outputs": [],
   "source": []
  },
  {
   "cell_type": "markdown",
   "metadata": {},
   "source": [
    "# Wizualizacja modelu LDA:\n",
    "\n",
    "pyLDAvis: http://nbviewer.jupyter.org/github/bmabey/pyLDAvis/blob/master/notebooks/pyLDAvis_overview.ipynb"
   ]
  },
  {
   "cell_type": "markdown",
   "metadata": {},
   "source": [
    "### Zadanie \n",
    "\n",
    "Rozważamy problem klasyfikacji dokumentów z korpusu 20NEWSGROUP - chcemy nauczyć klasyfikator rozpoznawać kategorię dokumentu (tę podaną w danych). Przetestuj różne rodzaje reprezentacji tekstu (w różnych wariantach) wykorzystując kilka różnych klasyfikatorów.\n",
    "\n",
    "Reprezentacje korpusu:\n",
    "\n",
    "- macierz liczności wystąpień słów\n",
    "- macierz tfidf\n",
    "- lda (użyć obiektu z sklearna `from sklearn.decomposition import LatentDirichletAllocation`)\n",
    "- LSI"
   ]
  },
  {
   "cell_type": "code",
   "execution_count": null,
   "metadata": {},
   "outputs": [],
   "source": []
  },
  {
   "cell_type": "code",
   "execution_count": null,
   "metadata": {},
   "outputs": [],
   "source": []
  },
  {
   "cell_type": "code",
   "execution_count": null,
   "metadata": {},
   "outputs": [],
   "source": []
  }
 ],
 "metadata": {
  "kernelspec": {
   "display_name": "Python 3",
   "language": "python",
   "name": "python3"
  },
  "language_info": {
   "codemirror_mode": {
    "name": "ipython",
    "version": 3
   },
   "file_extension": ".py",
   "mimetype": "text/x-python",
   "name": "python",
   "nbconvert_exporter": "python",
   "pygments_lexer": "ipython3",
   "version": "3.8.3"
  }
 },
 "nbformat": 4,
 "nbformat_minor": 1
}
