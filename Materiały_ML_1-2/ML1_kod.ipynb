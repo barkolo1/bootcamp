{
 "cells": [
  {
   "cell_type": "markdown",
   "metadata": {},
   "source": [
    "# <center>Uczenie maszynowe</center>\n",
    "\n",
    "<br>\n",
    "\n",
    "<br>\n",
    "\n",
    "## <center>Proces rozwiązywania problemów z zastosowaniem uczenia maszynowego</center>\n",
    "\n",
    "<img src=\"Grafika/CRISP_DM_Process_Diagram.png\" width=\"350\">\n",
    "Źródło: https://upload.wikimedia.org/wikipedia/commons/thumb/b/b9/CRISP-DM_Process_Diagram.png/897px-CRISP-DM_Process_Diagram.png\n",
    "\n",
    "<br>\n",
    "\n",
    "<br>\n",
    "\n",
    "<br>\n",
    "\n",
    "<br>\n",
    "\n",
    "<br>\n",
    "\n",
    "\n",
    "\n",
    "\n",
    " <br>\n",
    "\n",
    "## Kilka faktów na temat uczenia maszynowego\n",
    "\n",
    "* ML to zarówno nauka jak i sztuka.\n",
    "\n",
    "* Nie istnieje metoda \"najlepsza\" - każdy problem wymaga indywidualnego podejścia.\n",
    "\n",
    "* Rozwiązanie problemu ML = reprezentacja danych + algorytm.\n",
    "\n",
    "  - w codziennej praktyce pierwszy czynnik często niedoceniany. Przetworzanie danych jest równie ważne jak same algorytmy, a nawet często dane są ważniejsze od algorytmu - często większy wpływ na wyniki ma postać danych (ich przygotowanie/przetworzenie) niż wybór konkretnego algorytmu.\n",
    "\n",
    "* Bardzo ważne jest zdefiniowanie celu jaki chcemy osiągnąć i rozumienie jak dane i algorytmy z tym celem się wiążą.\n",
    "\n",
    "\n",
    " <br>\n",
    " \n",
    " <br>\n",
    " \n",
    " <br>\n",
    " \n",
    " <br>\n",
    " \n",
    " <br>\n",
    " \n",
    " <br>\n",
    " \n",
    " <br>\n",
    " \n",
    " <br>\n",
    " \n",
    " ## Dwa główne nurty uczenia maszynowego:\n",
    "* uczenie nadzorowane (*supervised learning*)\n",
    "* uczenie nienadzorowane (*unsupervised learning*)\n",
    "\n",
    "  <br>\n",
    " \n",
    " <br>\n",
    " \n",
    " <br>\n",
    " \n",
    " <br>\n",
    " \n",
    " <br>\n",
    " \n",
    " <br>\n",
    " \n",
    " <br>\n",
    " \n",
    "## Uczenie nadzorowane\n",
    "\n",
    "Dla znanych par (X,Y) szukamy zależności między X a Y - budujemy model, który na podstawie X przewidzi Y.\n",
    " \n",
    "\n",
    "* regresja: Y jest zmienną rzeczywistą\n",
    "\n",
    "* klasyfikacja: Y jest zmienną dyskretną (np. binarną - o wartościach 0 i 1)\n",
    "\n",
    " <br>\n",
    " \n",
    " <br>\n",
    " \n",
    " <br>\n",
    " \n",
    " <br>\n",
    " \n",
    " <br>\n",
    " \n",
    " <br>\n",
    " \n",
    " <br>\n",
    " \n",
    "## Zagadnienie klasyfikacji - przykłady:\n",
    "- predykcja churnu - przewidywanie na podstawie cech klienta (opisujących m.in. jego zachowanie) czy klient odejdzie w najbliższym czasie (np. w ciągu miesiąca);\n",
    "- scoring kredytowy - przewidywanie czy klient ubiegający się o kredyt spłaci go w terminie;\n",
    "- rozpoznawanie choroby - rozpoznawanie na podstawie parametrów medycznych czy pacjent zachoruje/jest chory;\n",
    "- klasyfikacja tematyczna tekstu;\n",
    "- klasyfikacja wydźwięku opini;\n",
    "- rozpoznawanie zawartosci obrazów."
   ]
  },
  {
   "cell_type": "markdown",
   "metadata": {},
   "source": [
    "# Regresja logistyczna\n",
    "\n",
    "Rozważamy problem klasyfikacji binarnej: $X \\in \\mathbb{R}^p$, $Y \\in \\{0, 1\\}$.\n",
    "\n",
    "Założenia modelu:\n",
    "\n",
    "$$\n",
    "Y =\n",
    "\\begin{cases}\n",
    "1, \\text{ z prawdopodobieństwem } \\pi(x)\\\\\n",
    "0, \\text{ z prawdopodobieństwem } 1-\\pi(x).\\\\\n",
    "\\end{cases}$$\n",
    "\n",
    ", gdzie\n",
    "\n",
    "$\\pi(x)=P(Y=1 \\mid x)$.\n",
    "\n",
    "Czyli innymi słowy:\n",
    "\n",
    "$$\\large Y \\sim B(\\pi(x)),$$\n",
    "\n",
    "\n",
    "B($\\cdot$) - rozkład dwupunktowy, \n",
    "\n",
    "\n",
    "Model:\n",
    "\n",
    "$$\\large \\pi(x) = \\frac{1}{1+e^{-\\beta x}},$$\n",
    "\n",
    "$\\beta = (\\beta_0,\\beta_1, \\ldots, \\beta_p),$   $\\beta x = \\beta_0 + \\beta_1 x_1 + \\ldots + \\beta_p x_p.$\n",
    "\n",
    " <br>\n",
    " \n",
    " <br>\n",
    " \n",
    "Predykcja wartości Y przy użyciu regresji logistycznej:\n",
    "\n",
    "$$\n",
    "\\hat{y} =\n",
    "\\begin{cases}\n",
    "1, \\text{ gdy } \\pi(x) > 0.5\\\\\n",
    "0, \\text{ gdy } \\pi(x) \\leq 0.5\\\\\n",
    "\\end{cases}\n",
    "$$\n",
    " \n",
    " <br>\n",
    " \n",
    " <br>\n",
    " \n",
    " <br>\n",
    "\n",
    "Dopasowanie modelu = znalezienie optymalnych wartości współczynników wektora $\\beta$, czyli takich, które najlepiej opisują zależność $Y$ od $X$. \n",
    "\n",
    " <br>\n",
    " \n",
    " <br>\n",
    " \n",
    " <br>\n",
    " \n",
    "Najlepiej czyli jak?\n",
    " \n",
    "## Metoda największej wiarogodności\n",
    " \n",
    "Rozważmy sytuację binarną. tzn. $y \\in \\{0,1\\}$. Logarytm funkcji wiarogodności wygląda następująco (X zbiór obserwacji, Y - zbiór etykiet):\n",
    "\n",
    "$ \n",
    "\\begin{align}\n",
    "L(\\beta \\ | \\ X,Y) & = \\log \\prod\\limits_{i=1}^n P(Y_i=y_i \\ | \\ x_i) \\\\\n",
    "       & = \\log \\prod\\limits_{i=1}^n \\pi(x_i)^{y_i}(1-\\pi(x_i))^{1-y_i} \\\\\n",
    "       & = \\sum\\limits_{i=1}^n \\log\\big( \\pi(x_i)^{y_i}(1-\\pi(x_i))^{1-y_i}\\big) \\\\\n",
    "       & = \\sum\\limits_{i=1}^n y_i\\log(\\pi(x_i)) + (1-y_i)\\log(1-\\pi(x_i)) .\n",
    "\\end{align}\n",
    "$\n",
    "\n",
    "Przyjmijmy oznaczenie: $h(\\pi(x),y) = y\\log{(\\pi(x))} + (1-y)\\log{(1-\\pi(x))}.$\n",
    "Zauważmy, że:\n",
    "\n",
    "$h(\\pi(x),1) = \\log{(\\pi(x))}$\n",
    "\n",
    "$h(\\pi(x),0) = \\log{(1-\\pi(x))}$\n",
    "\n",
    "Jeżeli $y=1$ to model jest tym lepszy im $\\pi(x)$ jest większe. Jeżeli $y=0$, to model jest tym lepszy im $\\pi(x)$ jest mniejsze, czyli $1 - \\pi(x)$ większe.\n",
    "\n",
    "Dopasowywanie modelu regresji logistycznej polega na maksymalizacji funkcji wiarogodności (technicznie - jej logarytmu) - szukamy (numerycznie) takiego wektora $\\beta$, dla którego wiarogodność jest największa.\n"
   ]
  },
  {
   "cell_type": "code",
   "execution_count": 1,
   "metadata": {},
   "outputs": [],
   "source": [
    "from sklearn.datasets import load_breast_cancer"
   ]
  },
  {
   "cell_type": "code",
   "execution_count": 2,
   "metadata": {},
   "outputs": [],
   "source": [
    "?load_breast_cancer"
   ]
  },
  {
   "cell_type": "code",
   "execution_count": 3,
   "metadata": {},
   "outputs": [],
   "source": [
    "data = load_breast_cancer()"
   ]
  },
  {
   "cell_type": "code",
   "execution_count": 4,
   "metadata": {},
   "outputs": [],
   "source": [
    "X = data.data\n",
    "y = data.target"
   ]
  },
  {
   "cell_type": "code",
   "execution_count": 5,
   "metadata": {},
   "outputs": [
    {
     "name": "stdout",
     "output_type": "stream",
     "text": [
      "Note: you may need to restart the kernel to use updated packages.\n"
     ]
    },
    {
     "name": "stderr",
     "output_type": "stream",
     "text": [
      "ERROR: Could not find a version that satisfies the requirement feature (from versions: none)\n",
      "ERROR: No matching distribution found for feature\n"
     ]
    }
   ],
   "source": [
    "pip install feature"
   ]
  },
  {
   "cell_type": "markdown",
   "metadata": {},
   "source": [
    "## Train test split"
   ]
  },
  {
   "cell_type": "code",
   "execution_count": 6,
   "metadata": {},
   "outputs": [
    {
     "data": {
      "text/plain": [
       "array(['mean radius', 'mean texture', 'mean perimeter', 'mean area',\n",
       "       'mean smoothness', 'mean compactness', 'mean concavity',\n",
       "       'mean concave points', 'mean symmetry', 'mean fractal dimension',\n",
       "       'radius error', 'texture error', 'perimeter error', 'area error',\n",
       "       'smoothness error', 'compactness error', 'concavity error',\n",
       "       'concave points error', 'symmetry error',\n",
       "       'fractal dimension error', 'worst radius', 'worst texture',\n",
       "       'worst perimeter', 'worst area', 'worst smoothness',\n",
       "       'worst compactness', 'worst concavity', 'worst concave points',\n",
       "       'worst symmetry', 'worst fractal dimension'], dtype='<U23')"
      ]
     },
     "execution_count": 6,
     "metadata": {},
     "output_type": "execute_result"
    }
   ],
   "source": [
    "data.feature_names"
   ]
  },
  {
   "cell_type": "code",
   "execution_count": 7,
   "metadata": {},
   "outputs": [
    {
     "data": {
      "text/plain": [
       "0.6274165202108963"
      ]
     },
     "execution_count": 7,
     "metadata": {},
     "output_type": "execute_result"
    }
   ],
   "source": [
    "y.mean()"
   ]
  },
  {
   "cell_type": "code",
   "execution_count": 8,
   "metadata": {},
   "outputs": [],
   "source": [
    "from sklearn.linear_model import LogisticRegression"
   ]
  },
  {
   "cell_type": "code",
   "execution_count": 9,
   "metadata": {},
   "outputs": [],
   "source": [
    "from sklearn.preprocessing import scale"
   ]
  },
  {
   "cell_type": "code",
   "execution_count": 10,
   "metadata": {},
   "outputs": [],
   "source": [
    "model = LogisticRegression(max_iter=1000)\n"
   ]
  },
  {
   "cell_type": "code",
   "execution_count": 11,
   "metadata": {},
   "outputs": [
    {
     "data": {
      "text/plain": [
       "LogisticRegression(max_iter=1000)"
      ]
     },
     "execution_count": 11,
     "metadata": {},
     "output_type": "execute_result"
    }
   ],
   "source": [
    "model.fit(scale(X), y)"
   ]
  },
  {
   "cell_type": "code",
   "execution_count": 12,
   "metadata": {},
   "outputs": [
    {
     "data": {
      "text/plain": [
       "array([0, 0, 0, 0, 0, 0, 0, 0, 0, 0, 0, 0, 0, 0, 0, 0, 0, 0, 0, 1, 1, 1,\n",
       "       0, 0, 0, 0, 0, 0, 0, 0, 0, 0, 0, 0, 0, 0, 0, 1, 0, 0, 1, 0, 0, 0,\n",
       "       0, 0, 1, 0, 1, 1, 1, 1, 1, 0, 0, 1, 0, 0, 1, 1, 1, 1, 0, 1, 0, 0,\n",
       "       1, 1, 1, 1, 0, 1, 0, 1, 1, 0, 1, 0, 0, 1, 1, 1, 0, 0, 1, 0, 0, 0,\n",
       "       1, 1, 1, 0, 1, 1, 0, 0, 1, 1, 1, 0, 0, 1, 1, 1, 1, 0, 1, 1, 0, 1,\n",
       "       1, 1, 1, 1, 1, 1, 1, 0, 0, 0, 1, 0, 0, 1, 1, 1, 0, 0, 1, 0, 1, 0,\n",
       "       0, 1, 0, 1, 1, 1, 0, 1, 1, 0, 1, 1, 1, 1, 0, 1, 1, 1, 1, 1, 1, 1,\n",
       "       1, 1, 0, 1, 1, 1, 1, 0, 0, 1, 0, 1, 1, 0, 0, 1, 1, 0, 0, 1, 1, 1,\n",
       "       1, 0, 1, 1, 0, 0, 0, 1, 0, 1, 0, 1, 1, 1, 0, 1, 1, 0, 0, 1, 0, 0,\n",
       "       0, 0, 1, 0, 0, 0, 1, 0, 1, 0, 1, 1, 0, 1, 0, 0, 0, 0, 1, 1, 0, 0,\n",
       "       1, 1, 1, 0, 1, 1, 1, 1, 1, 0, 0, 1, 1, 0, 1, 1, 0, 0, 1, 0, 1, 1,\n",
       "       1, 1, 0, 1, 1, 1, 1, 1, 0, 1, 0, 0, 0, 0, 0, 0, 0, 0, 0, 0, 0, 1,\n",
       "       0, 0, 1, 1, 1, 1, 1, 1, 0, 1, 0, 1, 1, 0, 1, 1, 0, 1, 0, 0, 1, 1,\n",
       "       1, 1, 1, 1, 1, 1, 1, 1, 1, 1, 1, 1, 1, 1, 0, 1, 0, 1, 1, 1, 1, 1,\n",
       "       1, 1, 1, 1, 1, 1, 1, 1, 1, 0, 1, 1, 1, 0, 1, 0, 1, 1, 1, 1, 0, 0,\n",
       "       0, 1, 1, 1, 1, 0, 1, 0, 1, 0, 1, 1, 1, 0, 1, 1, 1, 1, 1, 1, 1, 0,\n",
       "       0, 0, 1, 1, 1, 1, 1, 1, 1, 1, 1, 1, 1, 0, 0, 1, 0, 0, 0, 1, 0, 0,\n",
       "       1, 1, 1, 1, 1, 0, 1, 1, 1, 1, 1, 0, 1, 1, 1, 0, 1, 1, 0, 0, 1, 1,\n",
       "       1, 1, 1, 1, 0, 1, 1, 1, 1, 1, 1, 1, 0, 1, 1, 1, 1, 0, 0, 1, 1, 0,\n",
       "       1, 1, 1, 1, 1, 1, 1, 1, 1, 1, 1, 1, 0, 1, 0, 0, 1, 0, 1, 1, 1, 1,\n",
       "       1, 0, 1, 1, 0, 1, 0, 1, 1, 0, 1, 0, 1, 1, 1, 1, 1, 1, 1, 1, 0, 0,\n",
       "       1, 1, 1, 1, 1, 1, 0, 1, 1, 1, 1, 1, 1, 1, 1, 1, 1, 0, 1, 1, 1, 1,\n",
       "       1, 1, 1, 0, 1, 0, 1, 1, 0, 1, 1, 1, 1, 1, 0, 0, 1, 0, 1, 0, 1, 1,\n",
       "       1, 1, 1, 0, 1, 1, 0, 1, 0, 1, 0, 0, 1, 1, 1, 0, 1, 1, 1, 1, 1, 1,\n",
       "       1, 1, 1, 1, 1, 0, 1, 0, 0, 1, 1, 1, 1, 0, 1, 1, 1, 1, 1, 1, 1, 1,\n",
       "       1, 1, 1, 1, 1, 1, 1, 1, 1, 1, 1, 1, 0, 0, 0, 0, 0, 0, 1])"
      ]
     },
     "execution_count": 12,
     "metadata": {},
     "output_type": "execute_result"
    }
   ],
   "source": [
    "model.predict(scale(X))"
   ]
  },
  {
   "cell_type": "code",
   "execution_count": 13,
   "metadata": {},
   "outputs": [
    {
     "data": {
      "text/plain": [
       "array([0.21456573])"
      ]
     },
     "execution_count": 13,
     "metadata": {},
     "output_type": "execute_result"
    }
   ],
   "source": [
    "model.intercept_"
   ]
  },
  {
   "cell_type": "code",
   "execution_count": 14,
   "metadata": {},
   "outputs": [
    {
     "data": {
      "text/plain": [
       "(1, 30)"
      ]
     },
     "execution_count": 14,
     "metadata": {},
     "output_type": "execute_result"
    }
   ],
   "source": [
    "model.coef_.shape"
   ]
  },
  {
   "cell_type": "code",
   "execution_count": 15,
   "metadata": {},
   "outputs": [
    {
     "data": {
      "text/plain": [
       "array([[-0.36317072, -0.38770299, -0.35111444, -0.43555896, -0.16176493,\n",
       "         0.56259548, -0.85989759, -0.96222175,  0.07616775,  0.32218585,\n",
       "        -1.29103479,  0.26892526, -0.65988685, -1.01250087, -0.27717046,\n",
       "         0.7362824 ,  0.11052647, -0.3335099 ,  0.29590225,  0.68091528,\n",
       "        -1.02936114, -1.31459312, -0.82331706, -1.01059356, -0.67073135,\n",
       "         0.04465888, -0.87330064, -0.91195815, -0.88789694, -0.47983137]])"
      ]
     },
     "execution_count": 15,
     "metadata": {},
     "output_type": "execute_result"
    }
   ],
   "source": [
    "model.coef_"
   ]
  },
  {
   "cell_type": "code",
   "execution_count": 16,
   "metadata": {},
   "outputs": [],
   "source": [
    "y_predict_proba = model.predict_proba(scale(X))"
   ]
  },
  {
   "cell_type": "code",
   "execution_count": 17,
   "metadata": {},
   "outputs": [
    {
     "data": {
      "text/plain": [
       "array([[9.99999999e-01, 1.20816634e-09],\n",
       "       [9.99967996e-01, 3.20043729e-05],\n",
       "       [9.99999837e-01, 1.63263949e-07],\n",
       "       ...,\n",
       "       [9.88252945e-01, 1.17470550e-02],\n",
       "       [1.00000000e+00, 3.00486460e-11],\n",
       "       [1.97458032e-05, 9.99980254e-01]])"
      ]
     },
     "execution_count": 17,
     "metadata": {},
     "output_type": "execute_result"
    }
   ],
   "source": [
    "y_predict_proba"
   ]
  },
  {
   "cell_type": "code",
   "execution_count": 18,
   "metadata": {},
   "outputs": [
    {
     "data": {
      "text/plain": [
       "(569, 2)"
      ]
     },
     "execution_count": 18,
     "metadata": {},
     "output_type": "execute_result"
    }
   ],
   "source": [
    "y_predict_proba.shape"
   ]
  },
  {
   "cell_type": "code",
   "execution_count": 19,
   "metadata": {},
   "outputs": [
    {
     "data": {
      "text/plain": [
       "array([[9.99999999e-01, 1.20816634e-09]])"
      ]
     },
     "execution_count": 19,
     "metadata": {},
     "output_type": "execute_result"
    }
   ],
   "source": [
    "y_predict_proba[:1, :] # dla pierwszego wiersza prawdopodobienstwo dla klasy o i klasy 1 "
   ]
  },
  {
   "cell_type": "code",
   "execution_count": 20,
   "metadata": {},
   "outputs": [
    {
     "data": {
      "text/plain": [
       "array([1.20816634e-09])"
      ]
     },
     "execution_count": 20,
     "metadata": {},
     "output_type": "execute_result"
    }
   ],
   "source": [
    "y_predict_proba[:1, 1]  #  dla pierwszego wiersza dprawdopodobienstwo dla klasy 1 "
   ]
  },
  {
   "cell_type": "code",
   "execution_count": 21,
   "metadata": {},
   "outputs": [
    {
     "data": {
      "text/plain": [
       "array([1.20816634e-09, 3.20043729e-05, 1.63263949e-07, 4.92804792e-04,\n",
       "       2.98863126e-05, 4.69417500e-02, 3.60045679e-05, 2.09346230e-02,\n",
       "       2.50142250e-03, 9.30212304e-05, 5.25949757e-02, 9.23274422e-04,\n",
       "       1.62617707e-04, 3.27610918e-01, 2.42405485e-02, 6.65238889e-05,\n",
       "       2.40633077e-03, 5.39254616e-06, 9.79171687e-10, 9.26131804e-01,\n",
       "       9.98691845e-01, 9.99988327e-01, 3.38520147e-03, 3.75815072e-09,\n",
       "       3.42357869e-09, 2.05790576e-07, 2.43048663e-04, 4.09581498e-05,\n",
       "       3.00051472e-06, 2.10588771e-02, 1.82717723e-08, 2.30905399e-03,\n",
       "       1.26029404e-06, 4.58321462e-07, 3.81873420e-04, 3.12923473e-05,\n",
       "       2.65505629e-02, 9.99946303e-01, 1.44879228e-01, 1.01996957e-01,\n",
       "       8.85797129e-01, 1.82629084e-01, 4.48051997e-08, 3.55211157e-02,\n",
       "       8.21120548e-02, 9.24679215e-07, 9.99996279e-01, 5.60305640e-03,\n",
       "       9.94330054e-01, 8.43041066e-01, 9.99137368e-01, 9.99144480e-01,\n",
       "       9.99643918e-01, 3.77269338e-04, 4.39951669e-02, 9.97663511e-01,\n",
       "       4.39125719e-08, 3.47476976e-03, 9.99705095e-01, 9.99984057e-01,\n",
       "       9.99966507e-01, 9.99869297e-01, 5.89971898e-04, 9.99997076e-01,\n",
       "       1.34713234e-03, 3.17849333e-03, 9.99270650e-01, 9.98907121e-01,\n",
       "       8.88301088e-01, 9.99254772e-01, 2.98441011e-06, 9.99999988e-01,\n",
       "       2.36075872e-06, 8.82901294e-01, 9.98373903e-01, 3.08414299e-04,\n",
       "       9.99277557e-01, 4.19962946e-06, 4.94256006e-10, 9.95535956e-01,\n",
       "       9.83003219e-01, 6.59612494e-01, 1.50552076e-12, 6.80901788e-04,\n",
       "       9.95261709e-01, 4.75794750e-06, 2.03257899e-01, 9.54123317e-07,\n",
       "       9.40222060e-01, 7.71149942e-01, 9.54060064e-01, 2.88128783e-01,\n",
       "       9.87231877e-01, 9.80321238e-01, 1.82838023e-03, 1.57930540e-06,\n",
       "       9.99800039e-01, 9.99973878e-01, 9.99402562e-01, 2.74399497e-01,\n",
       "       3.76076625e-02, 9.99999513e-01, 9.94567733e-01, 9.98404601e-01,\n",
       "       9.99936831e-01, 7.19399433e-03, 8.93721232e-01, 9.97964714e-01,\n",
       "       8.46974683e-14, 9.46937073e-01, 9.99889356e-01, 9.92213377e-01,\n",
       "       9.86504155e-01, 9.99967214e-01, 9.99812134e-01, 9.93866938e-01,\n",
       "       9.99999269e-01, 2.38233082e-04, 5.70397787e-06, 1.32769878e-03,\n",
       "       9.99513845e-01, 2.33027467e-05, 7.72875365e-12, 9.77513697e-01,\n",
       "       9.99588125e-01, 9.98725003e-01, 4.26328997e-02, 5.78570060e-04,\n",
       "       8.99378238e-01, 1.47254049e-06, 9.99490483e-01, 1.49179323e-03,\n",
       "       3.36402186e-03, 8.38071362e-01, 1.25981331e-05, 8.28808093e-01,\n",
       "       9.98284203e-01, 9.99749352e-01, 4.03942432e-05, 9.99915876e-01,\n",
       "       9.99998893e-01, 5.18840156e-03, 9.99460207e-01, 9.87061064e-01,\n",
       "       9.99984438e-01, 9.99970751e-01, 1.95635919e-01, 9.94844519e-01,\n",
       "       8.80251631e-01, 9.99179509e-01, 9.78579013e-01, 9.99720413e-01,\n",
       "       9.98844680e-01, 9.99930679e-01, 9.12854301e-01, 9.96501302e-01,\n",
       "       1.81458719e-04, 7.05828975e-01, 9.99869274e-01, 9.99960544e-01,\n",
       "       9.71699298e-01, 4.10267406e-05, 2.82035538e-09, 9.95476754e-01,\n",
       "       6.05348673e-09, 9.95423039e-01, 9.99993789e-01, 6.92453453e-03,\n",
       "       1.01797522e-07, 9.88911499e-01, 9.99097268e-01, 5.65586441e-02,\n",
       "       5.02518662e-03, 9.99996870e-01, 9.99995514e-01, 9.99999672e-01,\n",
       "       9.99991021e-01, 4.23527420e-03, 9.99844198e-01, 9.99962839e-01,\n",
       "       6.85626170e-14, 6.90605299e-10, 2.32122152e-03, 9.99984465e-01,\n",
       "       3.14576203e-01, 9.99758404e-01, 3.79348301e-03, 9.96770893e-01,\n",
       "       9.99436161e-01, 9.99912159e-01, 2.13831817e-01, 9.97339604e-01,\n",
       "       9.99999966e-01, 1.01936784e-02, 1.34236026e-01, 9.98642548e-01,\n",
       "       8.35673559e-04, 1.74523568e-01, 3.00387149e-05, 1.06878797e-03,\n",
       "       9.30338131e-01, 1.70738534e-03, 2.43885221e-10, 6.51774532e-07,\n",
       "       8.76786100e-01, 3.02983110e-01, 9.99889599e-01, 9.60899578e-03,\n",
       "       8.10563827e-01, 9.79108202e-01, 4.31469319e-07, 9.99253266e-01,\n",
       "       8.99910546e-19, 1.89304970e-01, 1.88418700e-03, 4.08663141e-01,\n",
       "       9.89791264e-01, 9.99963717e-01, 6.59526275e-08, 1.81572539e-09,\n",
       "       9.99270427e-01, 9.92157278e-01, 9.99890949e-01, 1.33768965e-03,\n",
       "       9.79997369e-01, 7.09810687e-01, 9.99976760e-01, 9.68228265e-01,\n",
       "       9.02611188e-01, 1.49446229e-02, 1.00218257e-04, 9.99667204e-01,\n",
       "       9.91945562e-01, 7.53984449e-07, 9.99929995e-01, 9.82866980e-01,\n",
       "       3.71249582e-13, 4.05562041e-05, 6.16856918e-01, 6.98350577e-07,\n",
       "       9.91568047e-01, 9.99942722e-01, 9.83414187e-01, 9.90564155e-01,\n",
       "       4.04489989e-05, 9.92345741e-01, 9.98868812e-01, 9.86882061e-01,\n",
       "       9.74137200e-01, 9.98735488e-01, 2.31832092e-09, 9.98334467e-01,\n",
       "       3.44469957e-08, 2.30962569e-03, 6.23271751e-07, 4.20721170e-01,\n",
       "       2.98937678e-08, 4.99633625e-04, 1.67517038e-08, 1.39405357e-06,\n",
       "       2.13277013e-07, 7.67733419e-02, 1.50224153e-03, 6.41319467e-01,\n",
       "       6.05046039e-05, 6.64045074e-14, 9.99331371e-01, 9.95368093e-01,\n",
       "       9.97376522e-01, 9.99801210e-01, 9.99923214e-01, 9.99878240e-01,\n",
       "       5.31114246e-10, 9.99901016e-01, 2.49333265e-03, 9.75031081e-01,\n",
       "       9.99981074e-01, 2.27073015e-02, 9.97091959e-01, 9.91463348e-01,\n",
       "       1.99063909e-08, 9.97234079e-01, 2.58512867e-06, 2.27547768e-02,\n",
       "       9.99539665e-01, 9.99942942e-01, 9.98753618e-01, 9.99981500e-01,\n",
       "       9.99720904e-01, 9.99582255e-01, 9.99831615e-01, 6.17811387e-01,\n",
       "       9.91266671e-01, 9.96392978e-01, 9.99908186e-01, 9.99759129e-01,\n",
       "       9.99999692e-01, 9.93417357e-01, 9.93351440e-01, 9.99940302e-01,\n",
       "       2.85095189e-09, 9.99163618e-01, 2.86585637e-08, 9.99929072e-01,\n",
       "       9.99905698e-01, 9.99402283e-01, 9.99885716e-01, 9.99999074e-01,\n",
       "       9.99969036e-01, 9.99816032e-01, 9.99240700e-01, 9.94784894e-01,\n",
       "       9.99610973e-01, 9.99992484e-01, 9.99999056e-01, 9.99976724e-01,\n",
       "       9.99990381e-01, 3.76590741e-04, 9.99608120e-01, 9.99984572e-01,\n",
       "       9.99916724e-01, 1.51409852e-04, 9.96512423e-01, 2.72934449e-10,\n",
       "       9.99365376e-01, 9.99084565e-01, 9.99315297e-01, 9.99964917e-01,\n",
       "       4.62834884e-04, 8.49757786e-02, 2.44172938e-02, 9.82961718e-01,\n",
       "       9.99638993e-01, 9.99958821e-01, 9.99489456e-01, 2.77995154e-06,\n",
       "       9.99979874e-01, 5.75833977e-07, 9.99656385e-01, 1.52232595e-12,\n",
       "       7.54270029e-01, 9.99842702e-01, 9.99069920e-01, 4.34398622e-07,\n",
       "       9.97501029e-01, 9.99996735e-01, 9.98695224e-01, 8.90410555e-01,\n",
       "       9.99339532e-01, 9.99924363e-01, 9.99828327e-01, 1.29954246e-03,\n",
       "       3.99149858e-14, 2.00429988e-04, 9.99991469e-01, 9.98550553e-01,\n",
       "       9.78258893e-01, 9.97915158e-01, 9.99982416e-01, 9.98688435e-01,\n",
       "       9.99885494e-01, 9.95545394e-01, 9.97825592e-01, 5.78614768e-01,\n",
       "       9.98926294e-01, 1.54224859e-05, 4.04792202e-08, 9.82031092e-01,\n",
       "       2.19411903e-11, 3.01565713e-10, 1.48640904e-05, 9.98963517e-01,\n",
       "       5.42300969e-04, 7.78262850e-07, 9.98435388e-01, 9.60855166e-01,\n",
       "       9.99830580e-01, 9.74718700e-01, 9.97494712e-01, 4.26009602e-03,\n",
       "       9.85934501e-01, 9.99926385e-01, 9.99902369e-01, 9.96233269e-01,\n",
       "       9.99166821e-01, 1.39423141e-01, 9.99715615e-01, 9.99690771e-01,\n",
       "       9.99990911e-01, 5.29460866e-05, 9.99981180e-01, 9.99987028e-01,\n",
       "       5.75876885e-06, 1.66792588e-09, 9.92906225e-01, 9.98441829e-01,\n",
       "       8.11083808e-01, 9.99606347e-01, 9.99935505e-01, 9.98525469e-01,\n",
       "       2.00079301e-06, 9.99343802e-01, 9.99608965e-01, 9.98621567e-01,\n",
       "       9.99864494e-01, 9.97562994e-01, 9.02007573e-01, 9.99319803e-01,\n",
       "       3.25212780e-04, 9.80539770e-01, 9.58526229e-01, 9.98710490e-01,\n",
       "       9.99993182e-01, 4.47362569e-01, 6.63893969e-02, 9.95301301e-01,\n",
       "       9.98642630e-01, 1.07025178e-08, 9.99660171e-01, 9.98988771e-01,\n",
       "       9.96410556e-01, 9.02484661e-01, 9.97776712e-01, 9.44527169e-01,\n",
       "       9.97639813e-01, 9.99959581e-01, 9.99459897e-01, 9.89430174e-01,\n",
       "       9.99991040e-01, 9.99785545e-01, 2.40617617e-03, 9.99576454e-01,\n",
       "       4.20702192e-06, 4.92431368e-06, 9.91783374e-01, 1.80454619e-02,\n",
       "       9.90365559e-01, 9.83593347e-01, 9.90004323e-01, 9.99404877e-01,\n",
       "       9.83992992e-01, 2.21815916e-04, 9.99812411e-01, 9.99993959e-01,\n",
       "       2.44977633e-02, 9.72829715e-01, 2.30101480e-06, 9.54518092e-01,\n",
       "       8.87178672e-01, 6.76168300e-08, 9.99916095e-01, 2.37928599e-05,\n",
       "       9.90088646e-01, 9.78260330e-01, 9.94768920e-01, 6.76285908e-01,\n",
       "       8.39966721e-01, 9.64179478e-01, 9.88099715e-01, 9.99550892e-01,\n",
       "       3.60564735e-07, 1.96040015e-24, 9.77852587e-01, 9.98067311e-01,\n",
       "       9.92189870e-01, 9.21984386e-01, 8.42642752e-01, 9.99802981e-01,\n",
       "       6.88388018e-05, 8.18728171e-01, 9.99387995e-01, 9.62222591e-01,\n",
       "       9.73384505e-01, 9.98465296e-01, 9.99926252e-01, 9.96025128e-01,\n",
       "       8.82066024e-01, 9.99386444e-01, 9.99533035e-01, 3.74884826e-02,\n",
       "       9.99106370e-01, 9.69604497e-01, 9.90281475e-01, 9.91674738e-01,\n",
       "       9.01511984e-01, 9.92877384e-01, 9.74667725e-01, 2.83918755e-07,\n",
       "       9.89828932e-01, 1.55195707e-01, 9.81254496e-01, 8.17729942e-01,\n",
       "       1.16301845e-04, 9.99993035e-01, 9.97029749e-01, 9.15322760e-01,\n",
       "       9.04322681e-01, 9.94804078e-01, 5.18713640e-05, 3.12920514e-07,\n",
       "       9.69199994e-01, 9.07422507e-03, 9.93273407e-01, 1.30044448e-11,\n",
       "       9.99892576e-01, 9.99789832e-01, 9.97412322e-01, 9.99683967e-01,\n",
       "       9.11510854e-01, 6.52619812e-04, 9.99966398e-01, 9.98070808e-01,\n",
       "       2.61545020e-03, 9.42882357e-01, 3.88268335e-01, 9.97074182e-01,\n",
       "       4.35407358e-05, 3.23176713e-05, 9.60709280e-01, 9.86031517e-01,\n",
       "       9.99528779e-01, 2.54962872e-11, 9.99956857e-01, 9.21639205e-01,\n",
       "       9.99905288e-01, 9.99965541e-01, 6.95937753e-01, 9.98900200e-01,\n",
       "       9.84423088e-01, 9.99198729e-01, 9.73272886e-01, 9.76301021e-01,\n",
       "       9.95280342e-01, 6.74641202e-06, 9.99669024e-01, 4.64779139e-07,\n",
       "       2.24627484e-01, 9.30300937e-01, 9.99957524e-01, 9.99930237e-01,\n",
       "       9.99960128e-01, 4.52628441e-01, 7.03524121e-01, 9.51803001e-01,\n",
       "       9.96899869e-01, 9.72201027e-01, 9.99971667e-01, 9.99958833e-01,\n",
       "       9.99920410e-01, 9.93245403e-01, 9.99982715e-01, 9.99673111e-01,\n",
       "       9.61418330e-01, 9.99988693e-01, 9.53624757e-01, 9.96336185e-01,\n",
       "       9.99992995e-01, 9.99740580e-01, 9.87776933e-01, 9.79575996e-01,\n",
       "       8.62394830e-01, 9.99901597e-01, 2.42230823e-06, 3.65405803e-10,\n",
       "       2.77191002e-10, 3.44875896e-07, 1.17470550e-02, 3.00486460e-11,\n",
       "       9.99980254e-01])"
      ]
     },
     "execution_count": 21,
     "metadata": {},
     "output_type": "execute_result"
    }
   ],
   "source": [
    "y_predict_proba[:, 1] # dla wszytskich wierszy prawdopodobientwo dlasy 1 "
   ]
  },
  {
   "cell_type": "code",
   "execution_count": 22,
   "metadata": {},
   "outputs": [
    {
     "ename": "ImportError",
     "evalue": "cannot import name 'accurancy_score' from 'sklearn.metrics' (c:\\users\\basia\\appdata\\local\\programs\\python\\python38\\lib\\site-packages\\sklearn\\metrics\\__init__.py)",
     "output_type": "error",
     "traceback": [
      "\u001b[1;31m---------------------------------------------------------------------------\u001b[0m",
      "\u001b[1;31mImportError\u001b[0m                               Traceback (most recent call last)",
      "\u001b[1;32m<ipython-input-22-1bfb5b8c371b>\u001b[0m in \u001b[0;36m<module>\u001b[1;34m\u001b[0m\n\u001b[0;32m      7\u001b[0m \u001b[1;32mimport\u001b[0m \u001b[0mjoblib\u001b[0m\u001b[1;33m\u001b[0m\u001b[1;33m\u001b[0m\u001b[0m\n\u001b[0;32m      8\u001b[0m \u001b[1;32mimport\u001b[0m \u001b[0mpandas\u001b[0m \u001b[1;32mas\u001b[0m \u001b[0mpd\u001b[0m\u001b[1;33m\u001b[0m\u001b[1;33m\u001b[0m\u001b[0m\n\u001b[1;32m----> 9\u001b[1;33m \u001b[1;32mfrom\u001b[0m \u001b[0msklearn\u001b[0m\u001b[1;33m.\u001b[0m\u001b[0mmetrics\u001b[0m \u001b[1;32mimport\u001b[0m \u001b[0maccurancy_score\u001b[0m\u001b[1;33m\u001b[0m\u001b[1;33m\u001b[0m\u001b[0m\n\u001b[0m",
      "\u001b[1;31mImportError\u001b[0m: cannot import name 'accurancy_score' from 'sklearn.metrics' (c:\\users\\basia\\appdata\\local\\programs\\python\\python38\\lib\\site-packages\\sklearn\\metrics\\__init__.py)"
     ]
    }
   ],
   "source": [
    "# OCENA KLASYFIKACJI MIARA ACCURACY \n",
    "\n",
    "from sklearn.datasets import load_diabetes\n",
    "from sklearn.linear_model import Ridge\n",
    "from sklearn.metrics import mean_squared_error\n",
    "from sklearn.model_selection import train_test_split\n",
    "import joblib\n",
    "import pandas as pd\n",
    "from sklearn.metrics import accurancy_score\n"
   ]
  },
  {
   "cell_type": "code",
   "execution_count": 23,
   "metadata": {},
   "outputs": [
    {
     "name": "stdout",
     "output_type": "stream",
     "text": [
      "Note: you may need to restart the kernel to use updated packages.\n"
     ]
    },
    {
     "name": "stderr",
     "output_type": "stream",
     "text": [
      "ERROR: Could not find a version that satisfies the requirement sklearn.metrics (from versions: none)\n",
      "ERROR: No matching distribution found for sklearn.metrics\n"
     ]
    }
   ],
   "source": [
    "pip install sklearn.metrics"
   ]
  },
  {
   "cell_type": "code",
   "execution_count": 24,
   "metadata": {},
   "outputs": [
    {
     "name": "stdout",
     "output_type": "stream",
     "text": [
      "Note: you may need to restart the kernel to use updated packages.\n"
     ]
    },
    {
     "name": "stderr",
     "output_type": "stream",
     "text": [
      "ERROR: Could not find a version that satisfies the requirement sklearn.metrics (from versions: none)\n",
      "ERROR: No matching distribution found for sklearn.metrics\n"
     ]
    }
   ],
   "source": [
    "pip install sklearn.metrics"
   ]
  },
  {
   "cell_type": "code",
   "execution_count": 25,
   "metadata": {},
   "outputs": [
    {
     "ename": "ImportError",
     "evalue": "cannot import name 'accurancy_score' from 'sklearn.metrics' (c:\\users\\basia\\appdata\\local\\programs\\python\\python38\\lib\\site-packages\\sklearn\\metrics\\__init__.py)",
     "output_type": "error",
     "traceback": [
      "\u001b[1;31m---------------------------------------------------------------------------\u001b[0m",
      "\u001b[1;31mImportError\u001b[0m                               Traceback (most recent call last)",
      "\u001b[1;32m<ipython-input-25-eaaf7e4d88d6>\u001b[0m in \u001b[0;36m<module>\u001b[1;34m\u001b[0m\n\u001b[1;32m----> 1\u001b[1;33m \u001b[1;32mfrom\u001b[0m \u001b[0msklearn\u001b[0m\u001b[1;33m.\u001b[0m\u001b[0mmetrics\u001b[0m \u001b[1;32mimport\u001b[0m \u001b[0maccurancy_score\u001b[0m\u001b[1;33m\u001b[0m\u001b[1;33m\u001b[0m\u001b[0m\n\u001b[0m",
      "\u001b[1;31mImportError\u001b[0m: cannot import name 'accurancy_score' from 'sklearn.metrics' (c:\\users\\basia\\appdata\\local\\programs\\python\\python38\\lib\\site-packages\\sklearn\\metrics\\__init__.py)"
     ]
    }
   ],
   "source": [
    "from sklearn.metrics import accurancy_score"
   ]
  },
  {
   "cell_type": "code",
   "execution_count": 26,
   "metadata": {},
   "outputs": [
    {
     "ename": "NameError",
     "evalue": "name 'accurancy_score' is not defined",
     "output_type": "error",
     "traceback": [
      "\u001b[1;31m---------------------------------------------------------------------------\u001b[0m",
      "\u001b[1;31mNameError\u001b[0m                                 Traceback (most recent call last)",
      "\u001b[1;32m<ipython-input-26-b3b2864282cf>\u001b[0m in \u001b[0;36m<module>\u001b[1;34m\u001b[0m\n\u001b[1;32m----> 1\u001b[1;33m \u001b[0macc\u001b[0m \u001b[1;33m=\u001b[0m \u001b[0maccurancy_score\u001b[0m\u001b[1;33m(\u001b[0m\u001b[0my_true\u001b[0m\u001b[1;33m=\u001b[0m\u001b[0my\u001b[0m\u001b[1;33m,\u001b[0m \u001b[0my_pred\u001b[0m\u001b[1;33m=\u001b[0m\u001b[0mmodel\u001b[0m\u001b[1;33m.\u001b[0m\u001b[0mpredict\u001b[0m\u001b[1;33m(\u001b[0m\u001b[0mscale\u001b[0m\u001b[1;33m(\u001b[0m\u001b[0mX\u001b[0m\u001b[1;33m)\u001b[0m\u001b[1;33m)\u001b[0m\u001b[1;33m)\u001b[0m\u001b[1;33m\u001b[0m\u001b[1;33m\u001b[0m\u001b[0m\n\u001b[0m",
      "\u001b[1;31mNameError\u001b[0m: name 'accurancy_score' is not defined"
     ]
    }
   ],
   "source": [
    "acc = accurancy_score(y_true=y, y_pred=model.predict(scale(X)))"
   ]
  },
  {
   "cell_type": "code",
   "execution_count": 27,
   "metadata": {},
   "outputs": [
    {
     "ename": "NameError",
     "evalue": "name 'acc' is not defined",
     "output_type": "error",
     "traceback": [
      "\u001b[1;31m---------------------------------------------------------------------------\u001b[0m",
      "\u001b[1;31mNameError\u001b[0m                                 Traceback (most recent call last)",
      "\u001b[1;32m<ipython-input-27-0a304da0f193>\u001b[0m in \u001b[0;36m<module>\u001b[1;34m\u001b[0m\n\u001b[1;32m----> 1\u001b[1;33m \u001b[0macc\u001b[0m\u001b[1;33m\u001b[0m\u001b[1;33m\u001b[0m\u001b[0m\n\u001b[0m",
      "\u001b[1;31mNameError\u001b[0m: name 'acc' is not defined"
     ]
    }
   ],
   "source": [
    "acc"
   ]
  },
  {
   "cell_type": "code",
   "execution_count": 28,
   "metadata": {},
   "outputs": [],
   "source": [
    "import sklearn"
   ]
  },
  {
   "cell_type": "code",
   "execution_count": null,
   "metadata": {},
   "outputs": [],
   "source": []
  },
  {
   "cell_type": "code",
   "execution_count": 29,
   "metadata": {},
   "outputs": [
    {
     "ename": "ValueError",
     "evalue": "Logistic Regression supports only solvers in ['liblinear', 'newton-cg', 'lbfgs', 'sag', 'saga'], got warn.",
     "output_type": "error",
     "traceback": [
      "\u001b[1;31m---------------------------------------------------------------------------\u001b[0m",
      "\u001b[1;31mValueError\u001b[0m                                Traceback (most recent call last)",
      "\u001b[1;32m<ipython-input-29-a0e3bb45c72a>\u001b[0m in \u001b[0;36m<module>\u001b[1;34m\u001b[0m\n\u001b[0;32m      1\u001b[0m \u001b[0mmodel\u001b[0m \u001b[1;33m=\u001b[0m \u001b[0mLogisticRegression\u001b[0m\u001b[1;33m(\u001b[0m\u001b[0mmax_iter\u001b[0m\u001b[1;33m=\u001b[0m\u001b[1;36m1000\u001b[0m\u001b[1;33m,\u001b[0m \u001b[0msolver\u001b[0m\u001b[1;33m=\u001b[0m\u001b[1;34m'warn'\u001b[0m\u001b[1;33m)\u001b[0m\u001b[1;33m\u001b[0m\u001b[1;33m\u001b[0m\u001b[0m\n\u001b[1;32m----> 2\u001b[1;33m \u001b[0mmodel\u001b[0m\u001b[1;33m.\u001b[0m\u001b[0mfit\u001b[0m\u001b[1;33m(\u001b[0m\u001b[0mX\u001b[0m\u001b[1;33m,\u001b[0m \u001b[0my\u001b[0m\u001b[1;33m,\u001b[0m \u001b[1;33m)\u001b[0m\u001b[1;33m\u001b[0m\u001b[1;33m\u001b[0m\u001b[0m\n\u001b[0m",
      "\u001b[1;32mc:\\users\\basia\\appdata\\local\\programs\\python\\python38\\lib\\site-packages\\sklearn\\linear_model\\_logistic.py\u001b[0m in \u001b[0;36mfit\u001b[1;34m(self, X, y, sample_weight)\u001b[0m\n\u001b[0;32m   1302\u001b[0m         \u001b[0mThe\u001b[0m \u001b[0mSAGA\u001b[0m \u001b[0msolver\u001b[0m \u001b[0msupports\u001b[0m \u001b[0mboth\u001b[0m \u001b[0mfloat64\u001b[0m \u001b[1;32mand\u001b[0m \u001b[0mfloat32\u001b[0m \u001b[0mbit\u001b[0m \u001b[0marrays\u001b[0m\u001b[1;33m.\u001b[0m\u001b[1;33m\u001b[0m\u001b[1;33m\u001b[0m\u001b[0m\n\u001b[0;32m   1303\u001b[0m         \"\"\"\n\u001b[1;32m-> 1304\u001b[1;33m         \u001b[0msolver\u001b[0m \u001b[1;33m=\u001b[0m \u001b[0m_check_solver\u001b[0m\u001b[1;33m(\u001b[0m\u001b[0mself\u001b[0m\u001b[1;33m.\u001b[0m\u001b[0msolver\u001b[0m\u001b[1;33m,\u001b[0m \u001b[0mself\u001b[0m\u001b[1;33m.\u001b[0m\u001b[0mpenalty\u001b[0m\u001b[1;33m,\u001b[0m \u001b[0mself\u001b[0m\u001b[1;33m.\u001b[0m\u001b[0mdual\u001b[0m\u001b[1;33m)\u001b[0m\u001b[1;33m\u001b[0m\u001b[1;33m\u001b[0m\u001b[0m\n\u001b[0m\u001b[0;32m   1305\u001b[0m \u001b[1;33m\u001b[0m\u001b[0m\n\u001b[0;32m   1306\u001b[0m         \u001b[1;32mif\u001b[0m \u001b[1;32mnot\u001b[0m \u001b[0misinstance\u001b[0m\u001b[1;33m(\u001b[0m\u001b[0mself\u001b[0m\u001b[1;33m.\u001b[0m\u001b[0mC\u001b[0m\u001b[1;33m,\u001b[0m \u001b[0mnumbers\u001b[0m\u001b[1;33m.\u001b[0m\u001b[0mNumber\u001b[0m\u001b[1;33m)\u001b[0m \u001b[1;32mor\u001b[0m \u001b[0mself\u001b[0m\u001b[1;33m.\u001b[0m\u001b[0mC\u001b[0m \u001b[1;33m<\u001b[0m \u001b[1;36m0\u001b[0m\u001b[1;33m:\u001b[0m\u001b[1;33m\u001b[0m\u001b[1;33m\u001b[0m\u001b[0m\n",
      "\u001b[1;32mc:\\users\\basia\\appdata\\local\\programs\\python\\python38\\lib\\site-packages\\sklearn\\linear_model\\_logistic.py\u001b[0m in \u001b[0;36m_check_solver\u001b[1;34m(solver, penalty, dual)\u001b[0m\n\u001b[0;32m    431\u001b[0m     \u001b[0mall_solvers\u001b[0m \u001b[1;33m=\u001b[0m \u001b[1;33m[\u001b[0m\u001b[1;34m'liblinear'\u001b[0m\u001b[1;33m,\u001b[0m \u001b[1;34m'newton-cg'\u001b[0m\u001b[1;33m,\u001b[0m \u001b[1;34m'lbfgs'\u001b[0m\u001b[1;33m,\u001b[0m \u001b[1;34m'sag'\u001b[0m\u001b[1;33m,\u001b[0m \u001b[1;34m'saga'\u001b[0m\u001b[1;33m]\u001b[0m\u001b[1;33m\u001b[0m\u001b[1;33m\u001b[0m\u001b[0m\n\u001b[0;32m    432\u001b[0m     \u001b[1;32mif\u001b[0m \u001b[0msolver\u001b[0m \u001b[1;32mnot\u001b[0m \u001b[1;32min\u001b[0m \u001b[0mall_solvers\u001b[0m\u001b[1;33m:\u001b[0m\u001b[1;33m\u001b[0m\u001b[1;33m\u001b[0m\u001b[0m\n\u001b[1;32m--> 433\u001b[1;33m         raise ValueError(\"Logistic Regression supports only solvers in %s, got\"\n\u001b[0m\u001b[0;32m    434\u001b[0m                          \" %s.\" % (all_solvers, solver))\n\u001b[0;32m    435\u001b[0m \u001b[1;33m\u001b[0m\u001b[0m\n",
      "\u001b[1;31mValueError\u001b[0m: Logistic Regression supports only solvers in ['liblinear', 'newton-cg', 'lbfgs', 'sag', 'saga'], got warn."
     ]
    }
   ],
   "source": [
    "model = LogisticRegression(max_iter=1000, solver='warn')\n",
    "model.fit(X, y, )"
   ]
  },
  {
   "cell_type": "code",
   "execution_count": 30,
   "metadata": {},
   "outputs": [],
   "source": [
    "import sklearn"
   ]
  },
  {
   "cell_type": "code",
   "execution_count": 31,
   "metadata": {},
   "outputs": [
    {
     "data": {
      "text/plain": [
       "'0.23.2'"
      ]
     },
     "execution_count": 31,
     "metadata": {},
     "output_type": "execute_result"
    }
   ],
   "source": [
    "sklearn.__version__"
   ]
  },
  {
   "cell_type": "code",
   "execution_count": 32,
   "metadata": {},
   "outputs": [
    {
     "ename": "NotFittedError",
     "evalue": "This LogisticRegression instance is not fitted yet. Call 'fit' with appropriate arguments before using this estimator.",
     "output_type": "error",
     "traceback": [
      "\u001b[1;31m---------------------------------------------------------------------------\u001b[0m",
      "\u001b[1;31mNotFittedError\u001b[0m                            Traceback (most recent call last)",
      "\u001b[1;32m<ipython-input-32-e281dc89c469>\u001b[0m in \u001b[0;36m<module>\u001b[1;34m\u001b[0m\n\u001b[0;32m      2\u001b[0m \u001b[1;32mfrom\u001b[0m \u001b[0msklearn\u001b[0m\u001b[1;33m.\u001b[0m\u001b[0mmetrics\u001b[0m \u001b[1;32mimport\u001b[0m \u001b[0maccuracy_score\u001b[0m\u001b[1;33m\u001b[0m\u001b[1;33m\u001b[0m\u001b[0m\n\u001b[0;32m      3\u001b[0m \u001b[1;32mimport\u001b[0m \u001b[0mnumpy\u001b[0m \u001b[1;32mas\u001b[0m \u001b[0mnp\u001b[0m\u001b[1;33m\u001b[0m\u001b[1;33m\u001b[0m\u001b[0m\n\u001b[1;32m----> 4\u001b[1;33m \u001b[0macc\u001b[0m \u001b[1;33m=\u001b[0m \u001b[0maccuracy_score\u001b[0m\u001b[1;33m(\u001b[0m\u001b[0my_true\u001b[0m\u001b[1;33m=\u001b[0m\u001b[0my\u001b[0m\u001b[1;33m,\u001b[0m \u001b[0my_pred\u001b[0m\u001b[1;33m=\u001b[0m\u001b[0mmodel\u001b[0m\u001b[1;33m.\u001b[0m\u001b[0mpredict\u001b[0m\u001b[1;33m(\u001b[0m\u001b[0mscale\u001b[0m\u001b[1;33m(\u001b[0m\u001b[0mX\u001b[0m\u001b[1;33m)\u001b[0m\u001b[1;33m)\u001b[0m\u001b[1;33m)\u001b[0m\u001b[1;33m\u001b[0m\u001b[1;33m\u001b[0m\u001b[0m\n\u001b[0m",
      "\u001b[1;32mc:\\users\\basia\\appdata\\local\\programs\\python\\python38\\lib\\site-packages\\sklearn\\linear_model\\_base.py\u001b[0m in \u001b[0;36mpredict\u001b[1;34m(self, X)\u001b[0m\n\u001b[0;32m    305\u001b[0m             \u001b[0mPredicted\u001b[0m \u001b[1;32mclass\u001b[0m \u001b[0mlabel\u001b[0m \u001b[0mper\u001b[0m \u001b[0msample\u001b[0m\u001b[1;33m.\u001b[0m\u001b[1;33m\u001b[0m\u001b[1;33m\u001b[0m\u001b[0m\n\u001b[0;32m    306\u001b[0m         \"\"\"\n\u001b[1;32m--> 307\u001b[1;33m         \u001b[0mscores\u001b[0m \u001b[1;33m=\u001b[0m \u001b[0mself\u001b[0m\u001b[1;33m.\u001b[0m\u001b[0mdecision_function\u001b[0m\u001b[1;33m(\u001b[0m\u001b[0mX\u001b[0m\u001b[1;33m)\u001b[0m\u001b[1;33m\u001b[0m\u001b[1;33m\u001b[0m\u001b[0m\n\u001b[0m\u001b[0;32m    308\u001b[0m         \u001b[1;32mif\u001b[0m \u001b[0mlen\u001b[0m\u001b[1;33m(\u001b[0m\u001b[0mscores\u001b[0m\u001b[1;33m.\u001b[0m\u001b[0mshape\u001b[0m\u001b[1;33m)\u001b[0m \u001b[1;33m==\u001b[0m \u001b[1;36m1\u001b[0m\u001b[1;33m:\u001b[0m\u001b[1;33m\u001b[0m\u001b[1;33m\u001b[0m\u001b[0m\n\u001b[0;32m    309\u001b[0m             \u001b[0mindices\u001b[0m \u001b[1;33m=\u001b[0m \u001b[1;33m(\u001b[0m\u001b[0mscores\u001b[0m \u001b[1;33m>\u001b[0m \u001b[1;36m0\u001b[0m\u001b[1;33m)\u001b[0m\u001b[1;33m.\u001b[0m\u001b[0mastype\u001b[0m\u001b[1;33m(\u001b[0m\u001b[0mnp\u001b[0m\u001b[1;33m.\u001b[0m\u001b[0mint\u001b[0m\u001b[1;33m)\u001b[0m\u001b[1;33m\u001b[0m\u001b[1;33m\u001b[0m\u001b[0m\n",
      "\u001b[1;32mc:\\users\\basia\\appdata\\local\\programs\\python\\python38\\lib\\site-packages\\sklearn\\linear_model\\_base.py\u001b[0m in \u001b[0;36mdecision_function\u001b[1;34m(self, X)\u001b[0m\n\u001b[0;32m    278\u001b[0m             \u001b[1;32mclass\u001b[0m \u001b[0mwould\u001b[0m \u001b[0mbe\u001b[0m \u001b[0mpredicted\u001b[0m\u001b[1;33m.\u001b[0m\u001b[1;33m\u001b[0m\u001b[1;33m\u001b[0m\u001b[0m\n\u001b[0;32m    279\u001b[0m         \"\"\"\n\u001b[1;32m--> 280\u001b[1;33m         \u001b[0mcheck_is_fitted\u001b[0m\u001b[1;33m(\u001b[0m\u001b[0mself\u001b[0m\u001b[1;33m)\u001b[0m\u001b[1;33m\u001b[0m\u001b[1;33m\u001b[0m\u001b[0m\n\u001b[0m\u001b[0;32m    281\u001b[0m \u001b[1;33m\u001b[0m\u001b[0m\n\u001b[0;32m    282\u001b[0m         \u001b[0mX\u001b[0m \u001b[1;33m=\u001b[0m \u001b[0mcheck_array\u001b[0m\u001b[1;33m(\u001b[0m\u001b[0mX\u001b[0m\u001b[1;33m,\u001b[0m \u001b[0maccept_sparse\u001b[0m\u001b[1;33m=\u001b[0m\u001b[1;34m'csr'\u001b[0m\u001b[1;33m)\u001b[0m\u001b[1;33m\u001b[0m\u001b[1;33m\u001b[0m\u001b[0m\n",
      "\u001b[1;32mc:\\users\\basia\\appdata\\local\\programs\\python\\python38\\lib\\site-packages\\sklearn\\utils\\validation.py\u001b[0m in \u001b[0;36minner_f\u001b[1;34m(*args, **kwargs)\u001b[0m\n\u001b[0;32m     70\u001b[0m                           FutureWarning)\n\u001b[0;32m     71\u001b[0m         \u001b[0mkwargs\u001b[0m\u001b[1;33m.\u001b[0m\u001b[0mupdate\u001b[0m\u001b[1;33m(\u001b[0m\u001b[1;33m{\u001b[0m\u001b[0mk\u001b[0m\u001b[1;33m:\u001b[0m \u001b[0marg\u001b[0m \u001b[1;32mfor\u001b[0m \u001b[0mk\u001b[0m\u001b[1;33m,\u001b[0m \u001b[0marg\u001b[0m \u001b[1;32min\u001b[0m \u001b[0mzip\u001b[0m\u001b[1;33m(\u001b[0m\u001b[0msig\u001b[0m\u001b[1;33m.\u001b[0m\u001b[0mparameters\u001b[0m\u001b[1;33m,\u001b[0m \u001b[0margs\u001b[0m\u001b[1;33m)\u001b[0m\u001b[1;33m}\u001b[0m\u001b[1;33m)\u001b[0m\u001b[1;33m\u001b[0m\u001b[1;33m\u001b[0m\u001b[0m\n\u001b[1;32m---> 72\u001b[1;33m         \u001b[1;32mreturn\u001b[0m \u001b[0mf\u001b[0m\u001b[1;33m(\u001b[0m\u001b[1;33m**\u001b[0m\u001b[0mkwargs\u001b[0m\u001b[1;33m)\u001b[0m\u001b[1;33m\u001b[0m\u001b[1;33m\u001b[0m\u001b[0m\n\u001b[0m\u001b[0;32m     73\u001b[0m     \u001b[1;32mreturn\u001b[0m \u001b[0minner_f\u001b[0m\u001b[1;33m\u001b[0m\u001b[1;33m\u001b[0m\u001b[0m\n\u001b[0;32m     74\u001b[0m \u001b[1;33m\u001b[0m\u001b[0m\n",
      "\u001b[1;32mc:\\users\\basia\\appdata\\local\\programs\\python\\python38\\lib\\site-packages\\sklearn\\utils\\validation.py\u001b[0m in \u001b[0;36mcheck_is_fitted\u001b[1;34m(estimator, attributes, msg, all_or_any)\u001b[0m\n\u001b[0;32m   1017\u001b[0m \u001b[1;33m\u001b[0m\u001b[0m\n\u001b[0;32m   1018\u001b[0m     \u001b[1;32mif\u001b[0m \u001b[1;32mnot\u001b[0m \u001b[0mattrs\u001b[0m\u001b[1;33m:\u001b[0m\u001b[1;33m\u001b[0m\u001b[1;33m\u001b[0m\u001b[0m\n\u001b[1;32m-> 1019\u001b[1;33m         \u001b[1;32mraise\u001b[0m \u001b[0mNotFittedError\u001b[0m\u001b[1;33m(\u001b[0m\u001b[0mmsg\u001b[0m \u001b[1;33m%\u001b[0m \u001b[1;33m{\u001b[0m\u001b[1;34m'name'\u001b[0m\u001b[1;33m:\u001b[0m \u001b[0mtype\u001b[0m\u001b[1;33m(\u001b[0m\u001b[0mestimator\u001b[0m\u001b[1;33m)\u001b[0m\u001b[1;33m.\u001b[0m\u001b[0m__name__\u001b[0m\u001b[1;33m}\u001b[0m\u001b[1;33m)\u001b[0m\u001b[1;33m\u001b[0m\u001b[1;33m\u001b[0m\u001b[0m\n\u001b[0m\u001b[0;32m   1020\u001b[0m \u001b[1;33m\u001b[0m\u001b[0m\n\u001b[0;32m   1021\u001b[0m \u001b[1;33m\u001b[0m\u001b[0m\n",
      "\u001b[1;31mNotFittedError\u001b[0m: This LogisticRegression instance is not fitted yet. Call 'fit' with appropriate arguments before using this estimator."
     ]
    }
   ],
   "source": [
    "from sklearn.model_selection import train_test_split\n",
    "from sklearn.metrics import accuracy_score\n",
    "import numpy as np\n",
    "acc = accuracy_score(y_true=y, y_pred=model.predict(scale(X)))"
   ]
  },
  {
   "cell_type": "code",
   "execution_count": 33,
   "metadata": {},
   "outputs": [],
   "source": [
    "X_train, X_test, y_train, y_test = train_test_split(scale(X), y, test_size=0.3)"
   ]
  },
  {
   "cell_type": "code",
   "execution_count": 34,
   "metadata": {},
   "outputs": [
    {
     "data": {
      "text/plain": [
       "LogisticRegression()"
      ]
     },
     "execution_count": 34,
     "metadata": {},
     "output_type": "execute_result"
    }
   ],
   "source": [
    "model = LogisticRegression()\n",
    "model.fit(X_train, y_train)"
   ]
  },
  {
   "cell_type": "code",
   "execution_count": 35,
   "metadata": {},
   "outputs": [],
   "source": [
    "y_pred_train = model.predict(X_train)\n",
    "y_pred_test = model.predict(X_test)"
   ]
  },
  {
   "cell_type": "code",
   "execution_count": 36,
   "metadata": {},
   "outputs": [
    {
     "data": {
      "text/plain": [
       "0.9874371859296482"
      ]
     },
     "execution_count": 36,
     "metadata": {},
     "output_type": "execute_result"
    }
   ],
   "source": [
    "accuracy_score(y_train, y_pred_train)"
   ]
  },
  {
   "cell_type": "code",
   "execution_count": 37,
   "metadata": {},
   "outputs": [
    {
     "data": {
      "text/plain": [
       "0.9649122807017544"
      ]
     },
     "execution_count": 37,
     "metadata": {},
     "output_type": "execute_result"
    }
   ],
   "source": [
    "accuracy_score(y_test, y_pred_test)"
   ]
  },
  {
   "cell_type": "code",
   "execution_count": 38,
   "metadata": {},
   "outputs": [],
   "source": [
    "acc_test_list = []\n",
    "acc_train_list = []\n",
    "for x in range(100):\n",
    "    X_train, X_test, y_train, y_test = train_test_split(scale(X), y, test_size=0.3)\n",
    "    model = LogisticRegression()\n",
    "    model.fit(X_train, y_train)\n",
    "    \n",
    "    y_pred_test = model.predict(X_test)\n",
    "    y_pred_train = model.predict(X_train)\n",
    "    \n",
    "    acc_test_list.append(accuracy_score(y_test, y_pred_test))\n",
    "    acc_train_list.append(accuracy_score(y_train, y_pred_train))"
   ]
  },
  {
   "cell_type": "code",
   "execution_count": 39,
   "metadata": {},
   "outputs": [],
   "source": [
    "import matplotlib.pyplot as plt\n",
    "%matplotlib inline"
   ]
  },
  {
   "cell_type": "code",
   "execution_count": 40,
   "metadata": {},
   "outputs": [
    {
     "data": {
      "text/plain": [
       "<matplotlib.legend.Legend at 0x2801557ae50>"
      ]
     },
     "execution_count": 40,
     "metadata": {},
     "output_type": "execute_result"
    },
    {
     "data": {
      "image/png": "[encoded data removed]",
      "text/plain": [
       "<Figure size 432x288 with 1 Axes>"
      ]
     },
     "metadata": {
      "needs_background": "light"
     },
     "output_type": "display_data"
    }
   ],
   "source": [
    "plt.hist(acc_test_list, label='test')\n",
    "plt.hist(acc_train_list, label='train')\n",
    "plt.legend()"
   ]
  },
  {
   "cell_type": "code",
   "execution_count": 41,
   "metadata": {},
   "outputs": [],
   "source": [
    "# walidacja krzyżowa "
   ]
  },
  {
   "cell_type": "code",
   "execution_count": 42,
   "metadata": {},
   "outputs": [],
   "source": [
    "from sklearn.model_selection import cross_val_score"
   ]
  },
  {
   "cell_type": "code",
   "execution_count": 43,
   "metadata": {},
   "outputs": [],
   "source": [
    "cv_results = cross_val_score(LogisticRegression(), scale(X), y, cv=10)"
   ]
  },
  {
   "cell_type": "code",
   "execution_count": 44,
   "metadata": {},
   "outputs": [
    {
     "data": {
      "text/plain": [
       "array([0.98245614, 0.98245614, 0.98245614, 0.96491228, 0.98245614,\n",
       "       0.98245614, 0.94736842, 1.        , 1.        , 0.98214286])"
      ]
     },
     "execution_count": 44,
     "metadata": {},
     "output_type": "execute_result"
    }
   ],
   "source": [
    "cv_results"
   ]
  },
  {
   "cell_type": "code",
   "execution_count": 45,
   "metadata": {},
   "outputs": [
    {
     "data": {
      "text/plain": [
       "0.9806704260651629"
      ]
     },
     "execution_count": 45,
     "metadata": {},
     "output_type": "execute_result"
    }
   ],
   "source": [
    "cv_results.mean()"
   ]
  },
  {
   "cell_type": "code",
   "execution_count": 46,
   "metadata": {},
   "outputs": [
    {
     "data": {
      "text/plain": [
       "0.01456955548732776"
      ]
     },
     "execution_count": 46,
     "metadata": {},
     "output_type": "execute_result"
    }
   ],
   "source": [
    "cv_results.std()"
   ]
  },
  {
   "cell_type": "code",
   "execution_count": null,
   "metadata": {},
   "outputs": [],
   "source": []
  },
  {
   "cell_type": "code",
   "execution_count": null,
   "metadata": {},
   "outputs": [],
   "source": []
  },
  {
   "cell_type": "markdown",
   "metadata": {},
   "source": [
    "# Regularyzacja\n",
    "\n",
    "Regularyzacja - zabezpieczenie przed przeuczeniem.\n",
    "\n",
    "### Dopasowanie modelu\n",
    "\n",
    "<img src=\"Grafika/regularization.jpg\" width=\"600\">\n",
    "Źródło: https://i.ytimg.com/vi/nmHNXsDPPFQ/maxresdefault.jpg\n",
    "\n",
    "\n",
    "## Regularyzacja w regresji logistycznej\n",
    "\n",
    "Regularyzacja w regresji logistycznej polega na dodaniu do celu optymalizacyjnego kary za wielkości współczynników w $\\beta$.\n",
    "\n",
    "Przypomnijmy, że w regresji logistycznej estymator wektora $\\beta$ ma postać:\n",
    "\n",
    "$$\\hat{\\beta} = arg \\max\\limits_{\\beta} \\sum\\limits_{i=1}^n h(\\pi(x_i),y_i).$$\n",
    "\n",
    "W oczywisty sposób jest to równoważne rozwiązywaniu problemu:\n",
    "\n",
    "$$\\hat{\\beta} = arg \\min\\limits_{\\beta} -\\sum\\limits_{i=1}^n h(\\pi(x_i),y_i).$$\n",
    "\n",
    "### Regresja z regularyzacją L2:\n",
    "\n",
    "$$\\hat{\\beta} = arg \\min\\limits_{\\beta} \\big( -\\sum\\limits_{i=1}^n h(\\pi(x_i),y_i) + \\lambda\\|\\beta\\|_2^2 \\big),$$\n",
    "\n",
    "$\\|\\beta\\|_2$ - norma l2 wektora $\\beta$: $\\sqrt{\\sum\\limits_{i=1}^p\\beta_i^2}$,\n",
    "\n",
    "$\\lambda$ - współczynnik regularyzacji.\n",
    "\n",
    "Skąd wziąć wartość $\\lambda$? Trzeba wyznaczyć sobie empirycznie - przetestować model  z różnymi wartościami i wybrać tę, dla której wyniki są najlepsze.\n",
    "\n",
    "**W sklearnie za regularyzację odpowiada parametr C i jest on odwrotnoscią parametru $\\lambda$, tzn. $C = \\frac{1}{\\lambda}$. Zatem im mniejsze C, tym silniejsza regularyzacja.**\n",
    "\n",
    "\n",
    "### Równie często stosowana jest norma l1: $\\sum\\limits_{i=1}^p|\\beta_i|$. \n",
    "\n",
    "#### Uwaga: Norma L1 zeruje współczynniki! \n",
    "\n",
    "\n",
    "Na marginesie: w modelach w uczeniu maszynowym pojawiają sie bardzo różne formy regularyzacji, których często nawet nie będziemy świadomi."
   ]
  },
  {
   "cell_type": "code",
   "execution_count": 47,
   "metadata": {},
   "outputs": [],
   "source": [
    "import matplotlib.pyplot as plt\n",
    "%matplotlib inline\n",
    "import numpy as np"
   ]
  },
  {
   "cell_type": "code",
   "execution_count": 48,
   "metadata": {},
   "outputs": [
    {
     "data": {
      "text/plain": [
       "array([-1.        , -0.97979798, -0.95959596, -0.93939394, -0.91919192,\n",
       "       -0.8989899 , -0.87878788, -0.85858586, -0.83838384, -0.81818182,\n",
       "       -0.7979798 , -0.77777778, -0.75757576, -0.73737374, -0.71717172,\n",
       "       -0.6969697 , -0.67676768, -0.65656566, -0.63636364, -0.61616162,\n",
       "       -0.5959596 , -0.57575758, -0.55555556, -0.53535354, -0.51515152,\n",
       "       -0.49494949, -0.47474747, -0.45454545, -0.43434343, -0.41414141,\n",
       "       -0.39393939, -0.37373737, -0.35353535, -0.33333333, -0.31313131,\n",
       "       -0.29292929, -0.27272727, -0.25252525, -0.23232323, -0.21212121,\n",
       "       -0.19191919, -0.17171717, -0.15151515, -0.13131313, -0.11111111,\n",
       "       -0.09090909, -0.07070707, -0.05050505, -0.03030303, -0.01010101,\n",
       "        0.01010101,  0.03030303,  0.05050505,  0.07070707,  0.09090909,\n",
       "        0.11111111,  0.13131313,  0.15151515,  0.17171717,  0.19191919,\n",
       "        0.21212121,  0.23232323,  0.25252525,  0.27272727,  0.29292929,\n",
       "        0.31313131,  0.33333333,  0.35353535,  0.37373737,  0.39393939,\n",
       "        0.41414141,  0.43434343,  0.45454545,  0.47474747,  0.49494949,\n",
       "        0.51515152,  0.53535354,  0.55555556,  0.57575758,  0.5959596 ,\n",
       "        0.61616162,  0.63636364,  0.65656566,  0.67676768,  0.6969697 ,\n",
       "        0.71717172,  0.73737374,  0.75757576,  0.77777778,  0.7979798 ,\n",
       "        0.81818182,  0.83838384,  0.85858586,  0.87878788,  0.8989899 ,\n",
       "        0.91919192,  0.93939394,  0.95959596,  0.97979798,  1.        ])"
      ]
     },
     "execution_count": 48,
     "metadata": {},
     "output_type": "execute_result"
    }
   ],
   "source": [
    "x = np.linspace(-1, 1, num=100)\n",
    "x"
   ]
  },
  {
   "cell_type": "code",
   "execution_count": 49,
   "metadata": {},
   "outputs": [],
   "source": [
    "beta = np.array([-0.5, 5])"
   ]
  },
  {
   "cell_type": "code",
   "execution_count": 50,
   "metadata": {},
   "outputs": [],
   "source": [
    "prob = 1 / (1+np.exp(-(beta[0] + beta[1] *x)))"
   ]
  },
  {
   "cell_type": "code",
   "execution_count": 51,
   "metadata": {},
   "outputs": [
    {
     "data": {
      "text/plain": [
       "array([0.00407014, 0.0045008 , 0.0049768 , 0.00550286, 0.00608419,\n",
       "       0.00672651, 0.00743614, 0.00822001, 0.00908576, 0.01004177,\n",
       "       0.01109725, 0.01226229, 0.01354796, 0.01496639, 0.01653084,\n",
       "       0.01825579, 0.02015705, 0.02225182, 0.02455883, 0.0270984 ,\n",
       "       0.02989254, 0.03296501, 0.03634146, 0.04004942, 0.04411838,\n",
       "       0.04857982, 0.05346719, 0.05881586, 0.06466303, 0.07104762,\n",
       "       0.07801003, 0.08559186, 0.09383557, 0.10278402, 0.11247991,\n",
       "       0.12296507, 0.13427977, 0.14646172, 0.15954517, 0.1735597 ,\n",
       "       0.18852913, 0.20447023, 0.22139149, 0.23929188, 0.25815971,\n",
       "       0.27797161, 0.29869176, 0.32027131, 0.34264818, 0.36574724,\n",
       "       0.38948085, 0.41374989, 0.43844515, 0.46344916, 0.48863832,\n",
       "       0.51388532, 0.53906165, 0.56404027, 0.58869807, 0.61291832,\n",
       "       0.63659276, 0.65962334, 0.68192365, 0.70341983, 0.72405114,\n",
       "       0.74377004, 0.76254197, 0.78034479, 0.79716791, 0.81301132,\n",
       "       0.82788438, 0.84180463, 0.85479651, 0.86689013, 0.87812013,\n",
       "       0.88852452, 0.89814375, 0.90701981, 0.91519541, 0.92271339,\n",
       "       0.92961616, 0.93594521, 0.94174081, 0.9470417 , 0.95188492,\n",
       "       0.95630564, 0.96033712, 0.96401063, 0.96735548, 0.97039899,\n",
       "       0.97316663, 0.97568198, 0.97796689, 0.98004149, 0.98192437,\n",
       "       0.98363258, 0.9851818 , 0.98658637, 0.98785946, 0.98901306])"
      ]
     },
     "execution_count": 51,
     "metadata": {},
     "output_type": "execute_result"
    }
   ],
   "source": [
    "prob"
   ]
  },
  {
   "cell_type": "code",
   "execution_count": 52,
   "metadata": {},
   "outputs": [
    {
     "data": {
      "text/plain": [
       "[<matplotlib.lines.Line2D at 0x28038acad00>]"
      ]
     },
     "execution_count": 52,
     "metadata": {},
     "output_type": "execute_result"
    },
    {
     "data": {
      "image/png": "[encoded data removed]",
      "text/plain": [
       "<Figure size 432x288 with 1 Axes>"
      ]
     },
     "metadata": {
      "needs_background": "light"
     },
     "output_type": "display_data"
    }
   ],
   "source": [
    "plt.plot(x, prob)"
   ]
  },
  {
   "cell_type": "code",
   "execution_count": 53,
   "metadata": {},
   "outputs": [],
   "source": [
    "y = np.random.binomial(1, prob)  # losuje 1 a ajk nie wylosuje to losuje 0"
   ]
  },
  {
   "cell_type": "code",
   "execution_count": 54,
   "metadata": {},
   "outputs": [
    {
     "data": {
      "text/plain": [
       "<matplotlib.collections.PathCollection at 0x28038b2afa0>"
      ]
     },
     "execution_count": 54,
     "metadata": {},
     "output_type": "execute_result"
    },
    {
     "data": {
      "image/png": "[encoded data removed]",
      "text/plain": [
       "<Figure size 432x288 with 1 Axes>"
      ]
     },
     "metadata": {
      "needs_background": "light"
     },
     "output_type": "display_data"
    }
   ],
   "source": [
    "plt.plot(x, prob)\n",
    "plt.scatter(x, y)"
   ]
  },
  {
   "cell_type": "code",
   "execution_count": 55,
   "metadata": {},
   "outputs": [],
   "source": [
    "X = np.vstack([x**p for p in range(1,20)]).T # dodanie kolumn z kolejnymi potegami"
   ]
  },
  {
   "cell_type": "code",
   "execution_count": 56,
   "metadata": {},
   "outputs": [
    {
     "data": {
      "text/plain": [
       "(100, 19)"
      ]
     },
     "execution_count": 56,
     "metadata": {},
     "output_type": "execute_result"
    }
   ],
   "source": [
    "X.shape"
   ]
  },
  {
   "cell_type": "code",
   "execution_count": 57,
   "metadata": {},
   "outputs": [
    {
     "data": {
      "text/plain": [
       "LogisticRegression(C=100000)"
      ]
     },
     "execution_count": 57,
     "metadata": {},
     "output_type": "execute_result"
    }
   ],
   "source": [
    "model = LogisticRegression(C=100000) # uczymy model bez regularyzacji\n",
    "model.fit(X[:, :1,], y)"
   ]
  },
  {
   "cell_type": "code",
   "execution_count": 58,
   "metadata": {},
   "outputs": [
    {
     "data": {
      "text/plain": [
       "(array([-2.10963394]), array([[8.69713251]]))"
      ]
     },
     "execution_count": 58,
     "metadata": {},
     "output_type": "execute_result"
    }
   ],
   "source": [
    "model.intercept_,model.coef_"
   ]
  },
  {
   "cell_type": "code",
   "execution_count": 59,
   "metadata": {},
   "outputs": [
    {
     "data": {
      "text/plain": [
       "array([-0.5,  5. ])"
      ]
     },
     "execution_count": 59,
     "metadata": {},
     "output_type": "execute_result"
    }
   ],
   "source": [
    "beta # jestesmy w miare blisko prawdziwych wartosci beta. Zobaczmy jak wyglada psotac funkcji wypracowanej przez model"
   ]
  },
  {
   "cell_type": "code",
   "execution_count": 60,
   "metadata": {},
   "outputs": [],
   "source": [
    "y_predict_proba = model.predict_proba(X[:, :1])[:, 1]"
   ]
  },
  {
   "cell_type": "code",
   "execution_count": 61,
   "metadata": {},
   "outputs": [
    {
     "data": {
      "text/plain": [
       "array([2.02615266e-05, 2.41532658e-05, 2.87924906e-05, 3.43227612e-05,\n",
       "       4.09152060e-05, 4.87738138e-05, 5.81417413e-05, 6.93088306e-05,\n",
       "       8.26205681e-05, 9.84887605e-05, 1.17404257e-04, 1.39952105e-04,\n",
       "       1.66829615e-04, 1.98867869e-04, 2.37057345e-04, 2.82578444e-04,\n",
       "       3.36837817e-04, 4.01511634e-04, 4.78597062e-04, 5.70473523e-04,\n",
       "       6.79975545e-04, 8.10479364e-04, 9.66005822e-04, 1.15134255e-03,\n",
       "       1.37218892e-03, 1.63532789e-03, 1.94882945e-03, 2.32229123e-03,\n",
       "       2.76712251e-03, 3.29687897e-03, 3.92765611e-03, 4.67855053e-03,\n",
       "       5.57219883e-03, 6.63540463e-03, 7.89986429e-03, 9.40300173e-03,\n",
       "       1.11889213e-02, 1.33094845e-02, 1.58255121e-02, 1.88081036e-02,\n",
       "       2.23400564e-02, 2.65173456e-02, 3.14506041e-02, 3.72665068e-02,\n",
       "       4.41089177e-02, 5.21396072e-02, 6.15382766e-02, 7.25015583e-02,\n",
       "       8.52405860e-02, 9.99766754e-02, 1.16934635e-01, 1.36333281e-01,\n",
       "       1.58372878e-01, 1.83219549e-01, 2.10987124e-01, 2.41717579e-01,\n",
       "       2.75361877e-01, 3.11763725e-01, 3.50649167e-01, 3.91624861e-01,\n",
       "       4.34187163e-01, 4.77742717e-01, 5.21639384e-01, 5.65204372e-01,\n",
       "       6.07784974e-01, 6.48786770e-01, 6.87704681e-01, 7.24143719e-01,\n",
       "       7.57828237e-01, 7.88600336e-01, 8.16409572e-01, 8.41296765e-01,\n",
       "       8.63374873e-01, 8.82809410e-01, 8.99800277e-01, 9.14566122e-01,\n",
       "       9.27331742e-01, 9.38318555e-01, 9.47737872e-01, 9.55786552e-01,\n",
       "       9.62644545e-01, 9.68473875e-01, 9.73418654e-01, 9.77605793e-01,\n",
       "       9.81146142e-01, 9.84135872e-01, 9.86657956e-01, 9.88783648e-01,\n",
       "       9.90573904e-01, 9.92080704e-01, 9.93348253e-01, 9.94414062e-01,\n",
       "       9.95309904e-01, 9.96062644e-01, 9.96694974e-01, 9.97226036e-01,\n",
       "       9.97671964e-01, 9.98046348e-01, 9.98360624e-01, 9.98624414e-01])"
      ]
     },
     "execution_count": 61,
     "metadata": {},
     "output_type": "execute_result"
    }
   ],
   "source": [
    "y_predict_proba"
   ]
  },
  {
   "cell_type": "code",
   "execution_count": 62,
   "metadata": {},
   "outputs": [
    {
     "data": {
      "text/plain": [
       "<matplotlib.legend.Legend at 0x28038b734f0>"
      ]
     },
     "execution_count": 62,
     "metadata": {},
     "output_type": "execute_result"
    },
    {
     "data": {
      "image/png": "[encoded data removed]",
      "text/plain": [
       "<Figure size 432x288 with 1 Axes>"
      ]
     },
     "metadata": {
      "needs_background": "light"
     },
     "output_type": "display_data"
    }
   ],
   "source": [
    "plt.plot(x, prob, label='true')\n",
    "plt.plot(x, y_predict_proba, label='pred')\n",
    "plt.scatter(x, y)\n",
    "plt.legend()"
   ]
  },
  {
   "cell_type": "code",
   "execution_count": 63,
   "metadata": {},
   "outputs": [
    {
     "data": {
      "text/plain": [
       "LogisticRegression(C=100000)"
      ]
     },
     "execution_count": 63,
     "metadata": {},
     "output_type": "execute_result"
    }
   ],
   "source": [
    "model = LogisticRegression(C=100000) # uczymy model bez regularyzacji\n",
    "model.fit(X, y)"
   ]
  },
  {
   "cell_type": "code",
   "execution_count": 64,
   "metadata": {},
   "outputs": [
    {
     "data": {
      "text/plain": [
       "(array([-2.33759661]),\n",
       " array([[   4.67672007,   20.30028451,   40.14427189, -153.38688889,\n",
       "           12.35685922,   20.61648803,   53.94450416,   57.47538108,\n",
       "           57.98532355,   50.47364756,   42.29600192,   33.218625  ,\n",
       "           25.51510026,   18.93247001,   13.8209209 ,    9.94421776,\n",
       "            7.00952939,    4.98538963,    3.40533705]]))"
      ]
     },
     "execution_count": 64,
     "metadata": {},
     "output_type": "execute_result"
    }
   ],
   "source": [
    "model.intercept_, model.coef_"
   ]
  },
  {
   "cell_type": "code",
   "execution_count": 65,
   "metadata": {},
   "outputs": [],
   "source": [
    "y_pred_proba = model.predict_proba(X)[:, 1]"
   ]
  },
  {
   "cell_type": "code",
   "execution_count": 66,
   "metadata": {},
   "outputs": [
    {
     "data": {
      "text/plain": [
       "<matplotlib.legend.Legend at 0x28038b70fa0>"
      ]
     },
     "execution_count": 66,
     "metadata": {},
     "output_type": "execute_result"
    },
    {
     "data": {
      "image/png": "[encoded data removed]",
      "text/plain": [
       "<Figure size 432x288 with 1 Axes>"
      ]
     },
     "metadata": {
      "needs_background": "light"
     },
     "output_type": "display_data"
    }
   ],
   "source": [
    "plt.plot(x, prob, label='true')\n",
    "plt.plot(x, y_predict_proba, label='pred')\n",
    "plt.scatter(x, y)\n",
    "plt.legend()"
   ]
  },
  {
   "cell_type": "code",
   "execution_count": 67,
   "metadata": {},
   "outputs": [
    {
     "data": {
      "text/plain": [
       "(array([-1.68744326]),\n",
       " array([[5.95104528, 1.24838569, 1.25776667, 0.25001731, 0.44065745,\n",
       "         0.117947  , 0.24228882, 0.08096935, 0.15940151, 0.05688467,\n",
       "         0.11135705, 0.0388022 , 0.08059881, 0.0260761 , 0.06040001,\n",
       "         0.01755593, 0.04690075, 0.01195865, 0.03766692]]))"
      ]
     },
     "execution_count": 67,
     "metadata": {},
     "output_type": "execute_result"
    }
   ],
   "source": [
    "model = LogisticRegression(C=10) # uczymy model bez regularyzacji\n",
    "model.fit(X, y)\n",
    "model.intercept_, model.coef_\n"
   ]
  },
  {
   "cell_type": "code",
   "execution_count": 68,
   "metadata": {},
   "outputs": [],
   "source": [
    "y_pred_proba = model.predict_proba(X)[:, 1]"
   ]
  },
  {
   "cell_type": "code",
   "execution_count": 69,
   "metadata": {},
   "outputs": [
    {
     "data": {
      "text/plain": [
       "<matplotlib.legend.Legend at 0x28038c3c910>"
      ]
     },
     "execution_count": 69,
     "metadata": {},
     "output_type": "execute_result"
    },
    {
     "data": {
      "image/png": "[encoded data removed]",
      "text/plain": [
       "<Figure size 432x288 with 1 Axes>"
      ]
     },
     "metadata": {
      "needs_background": "light"
     },
     "output_type": "display_data"
    }
   ],
   "source": [
    "plt.plot(x, prob, label='true')\n",
    "plt.plot(x, y_predict_proba, label='pred')\n",
    "plt.scatter(x, y)\n",
    "plt.legend()"
   ]
  },
  {
   "cell_type": "code",
   "execution_count": null,
   "metadata": {},
   "outputs": [],
   "source": []
  },
  {
   "cell_type": "code",
   "execution_count": null,
   "metadata": {},
   "outputs": [],
   "source": []
  },
  {
   "cell_type": "markdown",
   "metadata": {},
   "source": [
    "### Zadanie: \n",
    "\n",
    "Narysować wykresy krzywych prawdopodobieństwa w zależności od C."
   ]
  },
  {
   "cell_type": "code",
   "execution_count": 70,
   "metadata": {
    "scrolled": true
   },
   "outputs": [
    {
     "data": {
      "text/plain": [
       "<matplotlib.legend.Legend at 0x28038bf5430>"
      ]
     },
     "execution_count": 70,
     "metadata": {},
     "output_type": "execute_result"
    },
    {
     "data": {
      "image/png": "[encoded data removed]",
      "text/plain": [
       "<Figure size 432x288 with 1 Axes>"
      ]
     },
     "metadata": {
      "needs_background": "light"
     },
     "output_type": "display_data"
    }
   ],
   "source": [
    "plt.scatter(x, y)\n",
    "plt.plot(x, prob, label='true')\n",
    "\n",
    "for c in [0.02, 0.2, 1, 20, 200]:\n",
    "    model = LogisticRegression(C=c)\n",
    "    model.fit(X, y)\n",
    "    y_pred_proba = model.predict_proba(X)[:, 1]\n",
    "    \n",
    "    \n",
    "    plt.plot(x, y_pred_proba, label=str(c))\n",
    "\n",
    "    \n",
    "plt.legend() # po pętli rysujemy legendę\n",
    "#plt.savefig('regularization.png', dpi=300, bbox_inches = 'tight')"
   ]
  },
  {
   "cell_type": "code",
   "execution_count": 71,
   "metadata": {},
   "outputs": [
    {
     "ename": "ValueError",
     "evalue": "Logistic Regression supports only penalties in ['l1', 'l2', 'elasticnet', 'none'], got 12.",
     "output_type": "error",
     "traceback": [
      "\u001b[1;31m---------------------------------------------------------------------------\u001b[0m",
      "\u001b[1;31mValueError\u001b[0m                                Traceback (most recent call last)",
      "\u001b[1;32m<ipython-input-71-f99e3a11c6be>\u001b[0m in \u001b[0;36m<module>\u001b[1;34m\u001b[0m\n\u001b[0;32m      1\u001b[0m \u001b[0mmodel\u001b[0m \u001b[1;33m=\u001b[0m \u001b[0mLogisticRegression\u001b[0m\u001b[1;33m(\u001b[0m\u001b[0mpenalty\u001b[0m \u001b[1;33m=\u001b[0m \u001b[1;34m'12'\u001b[0m\u001b[1;33m,\u001b[0m \u001b[0mC\u001b[0m\u001b[1;33m=\u001b[0m\u001b[1;36m0.01\u001b[0m\u001b[1;33m)\u001b[0m\u001b[1;33m\u001b[0m\u001b[1;33m\u001b[0m\u001b[0m\n\u001b[1;32m----> 2\u001b[1;33m \u001b[0mmodel\u001b[0m\u001b[1;33m.\u001b[0m\u001b[0mfit\u001b[0m\u001b[1;33m(\u001b[0m\u001b[0mX\u001b[0m\u001b[1;33m,\u001b[0m \u001b[0my\u001b[0m\u001b[1;33m)\u001b[0m\u001b[1;33m\u001b[0m\u001b[1;33m\u001b[0m\u001b[0m\n\u001b[0m\u001b[0;32m      3\u001b[0m \u001b[0mmodel\u001b[0m\u001b[1;33m.\u001b[0m\u001b[0mcoef_\u001b[0m\u001b[1;33m\u001b[0m\u001b[1;33m\u001b[0m\u001b[0m\n",
      "\u001b[1;32mc:\\users\\basia\\appdata\\local\\programs\\python\\python38\\lib\\site-packages\\sklearn\\linear_model\\_logistic.py\u001b[0m in \u001b[0;36mfit\u001b[1;34m(self, X, y, sample_weight)\u001b[0m\n\u001b[0;32m   1302\u001b[0m         \u001b[0mThe\u001b[0m \u001b[0mSAGA\u001b[0m \u001b[0msolver\u001b[0m \u001b[0msupports\u001b[0m \u001b[0mboth\u001b[0m \u001b[0mfloat64\u001b[0m \u001b[1;32mand\u001b[0m \u001b[0mfloat32\u001b[0m \u001b[0mbit\u001b[0m \u001b[0marrays\u001b[0m\u001b[1;33m.\u001b[0m\u001b[1;33m\u001b[0m\u001b[1;33m\u001b[0m\u001b[0m\n\u001b[0;32m   1303\u001b[0m         \"\"\"\n\u001b[1;32m-> 1304\u001b[1;33m         \u001b[0msolver\u001b[0m \u001b[1;33m=\u001b[0m \u001b[0m_check_solver\u001b[0m\u001b[1;33m(\u001b[0m\u001b[0mself\u001b[0m\u001b[1;33m.\u001b[0m\u001b[0msolver\u001b[0m\u001b[1;33m,\u001b[0m \u001b[0mself\u001b[0m\u001b[1;33m.\u001b[0m\u001b[0mpenalty\u001b[0m\u001b[1;33m,\u001b[0m \u001b[0mself\u001b[0m\u001b[1;33m.\u001b[0m\u001b[0mdual\u001b[0m\u001b[1;33m)\u001b[0m\u001b[1;33m\u001b[0m\u001b[1;33m\u001b[0m\u001b[0m\n\u001b[0m\u001b[0;32m   1305\u001b[0m \u001b[1;33m\u001b[0m\u001b[0m\n\u001b[0;32m   1306\u001b[0m         \u001b[1;32mif\u001b[0m \u001b[1;32mnot\u001b[0m \u001b[0misinstance\u001b[0m\u001b[1;33m(\u001b[0m\u001b[0mself\u001b[0m\u001b[1;33m.\u001b[0m\u001b[0mC\u001b[0m\u001b[1;33m,\u001b[0m \u001b[0mnumbers\u001b[0m\u001b[1;33m.\u001b[0m\u001b[0mNumber\u001b[0m\u001b[1;33m)\u001b[0m \u001b[1;32mor\u001b[0m \u001b[0mself\u001b[0m\u001b[1;33m.\u001b[0m\u001b[0mC\u001b[0m \u001b[1;33m<\u001b[0m \u001b[1;36m0\u001b[0m\u001b[1;33m:\u001b[0m\u001b[1;33m\u001b[0m\u001b[1;33m\u001b[0m\u001b[0m\n",
      "\u001b[1;32mc:\\users\\basia\\appdata\\local\\programs\\python\\python38\\lib\\site-packages\\sklearn\\linear_model\\_logistic.py\u001b[0m in \u001b[0;36m_check_solver\u001b[1;34m(solver, penalty, dual)\u001b[0m\n\u001b[0;32m    436\u001b[0m     \u001b[0mall_penalties\u001b[0m \u001b[1;33m=\u001b[0m \u001b[1;33m[\u001b[0m\u001b[1;34m'l1'\u001b[0m\u001b[1;33m,\u001b[0m \u001b[1;34m'l2'\u001b[0m\u001b[1;33m,\u001b[0m \u001b[1;34m'elasticnet'\u001b[0m\u001b[1;33m,\u001b[0m \u001b[1;34m'none'\u001b[0m\u001b[1;33m]\u001b[0m\u001b[1;33m\u001b[0m\u001b[1;33m\u001b[0m\u001b[0m\n\u001b[0;32m    437\u001b[0m     \u001b[1;32mif\u001b[0m \u001b[0mpenalty\u001b[0m \u001b[1;32mnot\u001b[0m \u001b[1;32min\u001b[0m \u001b[0mall_penalties\u001b[0m\u001b[1;33m:\u001b[0m\u001b[1;33m\u001b[0m\u001b[1;33m\u001b[0m\u001b[0m\n\u001b[1;32m--> 438\u001b[1;33m         raise ValueError(\"Logistic Regression supports only penalties in %s,\"\n\u001b[0m\u001b[0;32m    439\u001b[0m                          \" got %s.\" % (all_penalties, penalty))\n\u001b[0;32m    440\u001b[0m \u001b[1;33m\u001b[0m\u001b[0m\n",
      "\u001b[1;31mValueError\u001b[0m: Logistic Regression supports only penalties in ['l1', 'l2', 'elasticnet', 'none'], got 12."
     ]
    }
   ],
   "source": [
    "model = LogisticRegression(penalty = '12', C=0.01)\n",
    "model.fit(X, y)\n",
    "model.coef_"
   ]
  },
  {
   "cell_type": "code",
   "execution_count": null,
   "metadata": {},
   "outputs": [],
   "source": []
  },
  {
   "cell_type": "markdown",
   "metadata": {},
   "source": [
    "### Jak stwierdzić czy model jest dobrze dopasowany? Czy nie za słabo, ani za mocno?\n",
    "\n",
    "1. Gdy na zbiorze testowym niski procent poprawnych predykcji (np. 60%), a na treningowym model bardzo dobrze dopasowany (np. 90%) -> model przeuczony\n",
    "\n",
    "2. Gdy na zbiorze treningowym model bardzo nisko dopasowany (np. rzędu pięćdziesiąt kilka procent) -> model słabo dopasowany.\n",
    "\n",
    "Co to jest niskie dopasowanie? -> zależy od danych...\n",
    "\n",
    "Co to jest duża różnica? -> zależy od danych... (i ich wielkości - istotność statystyczna!). Realnie, wyniki na testowym powinny być trochę niższe od dopasowania na treningowym (najlepiej, gdy są takie same, ale jednak z reguły będą niższe). Klasyfikator w oczywisty sposób nie może działać lepiej niż dopasowanie na zbiorze treningowym - bo dopasowanie pokazuje jak dużo zależności wykrył w danych, na podstawie których będzie klasyfikował. Zatem jeżeli mamy dopasowanie na zbiorze treningowym np. 90%, to maksymalna moc predykcyjna jakiej możemy oczekiwać to 90%."
   ]
  },
  {
   "cell_type": "code",
   "execution_count": null,
   "metadata": {},
   "outputs": [],
   "source": []
  },
  {
   "cell_type": "markdown",
   "metadata": {},
   "source": [
    "## Przygotowanie danych\n",
    "\n",
    "Czy wartości zmiennych mają wpływ na wynik modelu?\n",
    "\n",
    "Wyobraźmy sobie dwie zmienne, gdzie jedna ma wielkości rzędu 1, a druga rzędu 100, a rzeczywisty współczynnik przy pierwszej wynosi 1, a przy drugiej 0.01.\n",
    "\n",
    "Jak konsekwencje będzie miało zastosowanie regularyzacji?\n",
    "\n",
    "Zmienna pierwsza zostanie dużo mocniej \"ukarana\" niż druga, tzn. model mocno \"ściągnie\" współczynnik przy pierwszej, a zostawi przy drugiej...\n",
    "\n",
    "Jak temu zaradzić? -> skalowanie"
   ]
  },
  {
   "cell_type": "code",
   "execution_count": 72,
   "metadata": {},
   "outputs": [],
   "source": [
    "from sklearn.preprocessing import StandardScaler # KOLUMNA PO JEGO WYKORZYTSANIU MA ODCHYLENIE STANDARODWE 1 "
   ]
  },
  {
   "cell_type": "code",
   "execution_count": 73,
   "metadata": {},
   "outputs": [
    {
     "data": {
      "text/plain": [
       "StandardScaler()"
      ]
     },
     "execution_count": 73,
     "metadata": {},
     "output_type": "execute_result"
    }
   ],
   "source": [
    "scaler = StandardScaler()\n",
    "scaler.fit(X_train)"
   ]
  },
  {
   "cell_type": "code",
   "execution_count": 74,
   "metadata": {},
   "outputs": [
    {
     "data": {
      "text/plain": [
       "(array([-0.00080717,  0.02084999,  0.00038134, -0.007781  ,  0.01172586,\n",
       "         0.00786526,  0.00999317,  0.01297087, -0.00702866,  0.0023192 ,\n",
       "         0.00037653,  0.03329839, -0.00659183, -0.02209555,  0.03180983,\n",
       "         0.01510474,  0.0095278 ,  0.03551268,  0.01028744,  0.04405798,\n",
       "        -0.0028625 ,  0.00594305, -0.00512591, -0.01099131,  0.017053  ,\n",
       "        -0.02174603, -0.0130456 , -0.00099144, -0.02028637, -0.0111368 ]),\n",
       " array([0.96804828, 1.00055394, 0.9698042 , 0.95225781, 1.02669452,\n",
       "        0.99912086, 0.99153926, 0.99193999, 1.02056295, 1.01313553,\n",
       "        0.87920591, 1.01033158, 0.86976313, 0.76540561, 1.01808385,\n",
       "        1.03613865, 1.00081219, 1.03739867, 0.97558345, 1.09769937,\n",
       "        0.96488224, 0.97753544, 0.96495914, 0.94660009, 1.01374067,\n",
       "        0.95101349, 0.9598925 , 0.98842715, 1.00542493, 0.96070146]))"
      ]
     },
     "execution_count": 74,
     "metadata": {},
     "output_type": "execute_result"
    }
   ],
   "source": [
    "scaler.mean_, scaler.scale_"
   ]
  },
  {
   "cell_type": "code",
   "execution_count": 75,
   "metadata": {},
   "outputs": [],
   "source": [
    "X_train_scaled = scaler.transform(X_train)\n",
    "X_test_scaled = scaler.transform(X_test)"
   ]
  },
  {
   "cell_type": "markdown",
   "metadata": {},
   "source": [
    "## Pipeline"
   ]
  },
  {
   "cell_type": "code",
   "execution_count": 76,
   "metadata": {},
   "outputs": [],
   "source": [
    "from sklearn.pipeline import Pipeline"
   ]
  },
  {
   "cell_type": "code",
   "execution_count": 77,
   "metadata": {},
   "outputs": [],
   "source": [
    "pipe = Pipeline(steps = [('standarize', StandardScaler()),\n",
    "                        ('clasifier', LogisticRegression())\n",
    "                        ])"
   ]
  },
  {
   "cell_type": "code",
   "execution_count": 78,
   "metadata": {},
   "outputs": [
    {
     "data": {
      "text/plain": [
       "Pipeline(steps=[('standarize', StandardScaler()),\n",
       "                ('clasifier', LogisticRegression())])"
      ]
     },
     "execution_count": 78,
     "metadata": {},
     "output_type": "execute_result"
    }
   ],
   "source": [
    "pipe.fit(X_train, y_train)"
   ]
  },
  {
   "cell_type": "code",
   "execution_count": 79,
   "metadata": {},
   "outputs": [
    {
     "data": {
      "text/plain": [
       "array([0, 1, 0, 0, 1, 1, 1, 1, 1, 0, 1, 1, 0, 1, 1, 1, 1, 0, 0, 1, 1, 0,\n",
       "       0, 1, 1, 1, 1, 0, 0, 1, 1, 1, 1, 1, 1, 1, 1, 0, 1, 0, 1, 1, 0, 0,\n",
       "       1, 1, 1, 1, 1, 1, 0, 1, 0, 0, 0, 1, 1, 1, 0, 1, 1, 1, 1, 0, 0, 0,\n",
       "       1, 1, 1, 0, 1, 1, 1, 0, 1, 1, 1, 1, 1, 0, 0, 1, 0, 0, 0, 0, 1, 0,\n",
       "       1, 1, 1, 0, 0, 0, 1, 1, 1, 1, 1, 1, 1, 1, 1, 0, 0, 0, 1, 1, 1, 1,\n",
       "       0, 0, 1, 1, 1, 0, 1, 1, 1, 0, 1, 0, 1, 1, 1, 0, 1, 1, 0, 1, 0, 1,\n",
       "       1, 1, 0, 1, 1, 1, 1, 1, 1, 1, 1, 1, 1, 0, 1, 1, 1, 1, 1, 1, 1, 0,\n",
       "       1, 0, 0, 1, 1, 0, 0, 0, 1, 1, 0, 0, 0, 1, 1, 1, 1])"
      ]
     },
     "execution_count": 79,
     "metadata": {},
     "output_type": "execute_result"
    }
   ],
   "source": [
    "pipe.predict(X_test)"
   ]
  },
  {
   "cell_type": "code",
   "execution_count": 80,
   "metadata": {},
   "outputs": [
    {
     "data": {
      "text/plain": [
       "array([6.07732210e-04, 9.99997695e-01, 2.00686552e-03, 1.50544163e-09,\n",
       "       9.02530889e-01, 9.30882196e-01, 9.91945460e-01, 9.97300163e-01,\n",
       "       9.92969672e-01, 6.25571282e-10, 9.99596856e-01, 9.99937639e-01,\n",
       "       4.64076331e-06, 9.99952356e-01, 9.96250744e-01, 9.99739776e-01,\n",
       "       9.70068914e-01, 4.26728117e-04, 3.21094294e-02, 9.99998422e-01,\n",
       "       9.98154681e-01, 6.96778422e-05, 1.74879288e-20, 7.52776298e-01,\n",
       "       9.99537270e-01, 9.99703380e-01, 9.65777546e-01, 4.54815135e-06,\n",
       "       4.43843530e-09, 9.99385425e-01, 9.99303866e-01, 5.21056990e-01,\n",
       "       9.54290198e-01, 9.99971224e-01, 9.98744832e-01, 9.99520877e-01,\n",
       "       9.93989102e-01, 8.68943575e-14, 9.81408028e-01, 1.96642974e-08,\n",
       "       9.99988410e-01, 9.95964240e-01, 1.66286683e-03, 7.08881516e-02,\n",
       "       9.98889467e-01, 9.99679219e-01, 9.34920235e-01, 9.99965710e-01,\n",
       "       8.97439250e-01, 7.89347368e-01, 3.30832630e-03, 8.45313491e-01,\n",
       "       1.24338613e-02, 6.50859362e-04, 1.64238329e-07, 9.67174779e-01,\n",
       "       9.74840673e-01, 9.80010273e-01, 7.19787362e-06, 9.99993953e-01,\n",
       "       9.97834032e-01, 9.25426343e-01, 9.99999287e-01, 8.04401525e-04,\n",
       "       2.63583772e-02, 2.64120152e-06, 9.94012548e-01, 9.99899686e-01,\n",
       "       9.97197564e-01, 6.00639407e-04, 7.37698162e-01, 9.99312991e-01,\n",
       "       9.18127838e-01, 4.80635830e-05, 9.91270935e-01, 9.99623225e-01,\n",
       "       9.69302893e-01, 9.99532752e-01, 9.84980817e-01, 5.21440088e-06,\n",
       "       5.51098618e-03, 7.51844736e-01, 4.01830845e-11, 6.57306086e-05,\n",
       "       4.12500073e-07, 2.28456058e-11, 8.84651253e-01, 1.60591036e-07,\n",
       "       9.99954470e-01, 9.99977448e-01, 9.99888182e-01, 1.44420420e-02,\n",
       "       1.19661945e-08, 8.63400038e-03, 8.56534427e-01, 9.99544676e-01,\n",
       "       9.99794091e-01, 9.90700312e-01, 9.99670066e-01, 9.99993789e-01,\n",
       "       9.99836483e-01, 9.99950778e-01, 9.95105170e-01, 5.16684898e-05,\n",
       "       2.58697273e-12, 7.02395000e-03, 9.99958338e-01, 7.27222999e-01,\n",
       "       9.82174149e-01, 5.71622594e-01, 6.76393961e-04, 2.74996084e-03,\n",
       "       9.07024221e-01, 9.97419221e-01, 9.83030845e-01, 2.29279541e-04,\n",
       "       9.98155843e-01, 9.99977278e-01, 9.89503920e-01, 1.52686252e-06,\n",
       "       9.81666510e-01, 8.93285973e-07, 9.99805872e-01, 9.98674605e-01,\n",
       "       9.99989203e-01, 5.59223806e-07, 9.88924854e-01, 9.80134930e-01,\n",
       "       2.44434585e-03, 8.32513480e-01, 2.60049763e-10, 9.98644106e-01,\n",
       "       9.99563588e-01, 9.98520131e-01, 2.19149132e-10, 9.97490818e-01,\n",
       "       9.99950124e-01, 9.80281969e-01, 9.94410806e-01, 9.98914482e-01,\n",
       "       9.97592576e-01, 9.99500260e-01, 9.99571077e-01, 9.99718856e-01,\n",
       "       9.99914756e-01, 2.54160505e-04, 9.99992441e-01, 9.90476935e-01,\n",
       "       9.98150986e-01, 8.94281606e-01, 9.98268435e-01, 9.98581875e-01,\n",
       "       9.94800054e-01, 3.18760225e-01, 9.74272182e-01, 6.08958233e-10,\n",
       "       3.64447025e-09, 9.99388225e-01, 9.99955097e-01, 2.17660488e-05,\n",
       "       3.41402766e-03, 4.82760369e-06, 9.99765783e-01, 9.94473043e-01,\n",
       "       6.84514704e-26, 1.82734029e-03, 2.21957701e-06, 9.95216504e-01,\n",
       "       9.96063800e-01, 9.99940087e-01, 9.99998508e-01])"
      ]
     },
     "execution_count": 80,
     "metadata": {},
     "output_type": "execute_result"
    }
   ],
   "source": [
    "pipe.predict_proba(X_test)[:, 1]"
   ]
  },
  {
   "cell_type": "code",
   "execution_count": 81,
   "metadata": {},
   "outputs": [
    {
     "data": {
      "text/plain": [
       "0.9883040935672515"
      ]
     },
     "execution_count": 81,
     "metadata": {},
     "output_type": "execute_result"
    }
   ],
   "source": [
    "accuracy_score(y_true=y_test, y_pred=pipe.predict(X_test))"
   ]
  },
  {
   "cell_type": "code",
   "execution_count": 82,
   "metadata": {},
   "outputs": [],
   "source": [
    "# GRID SEARCH"
   ]
  },
  {
   "cell_type": "code",
   "execution_count": 83,
   "metadata": {},
   "outputs": [],
   "source": [
    "from sklearn.model_selection import GridSearchCV"
   ]
  },
  {
   "cell_type": "code",
   "execution_count": 84,
   "metadata": {},
   "outputs": [],
   "source": [
    "?GridSearchCV"
   ]
  },
  {
   "cell_type": "code",
   "execution_count": 85,
   "metadata": {},
   "outputs": [
    {
     "data": {
      "text/plain": [
       "{'penalty': ['l1', 'l2'], 'C': [0.01, 0.01, 1, 10, 100]}"
      ]
     },
     "execution_count": 85,
     "metadata": {},
     "output_type": "execute_result"
    }
   ],
   "source": [
    "param_grid = {\n",
    "    'penalty' : ['l1', 'l2'],\n",
    "    'C' : [0.01, .01, 1, 10, 100]\n",
    "}\n",
    "param_grid"
   ]
  },
  {
   "cell_type": "code",
   "execution_count": 86,
   "metadata": {},
   "outputs": [],
   "source": [
    "grid = GridSearchCV(estimator=LogisticRegression(solver='liblinear',\n",
    "                                                 max_iter=1000),\n",
    "                   param_grid=param_grid,\n",
    "                   cv=10)"
   ]
  },
  {
   "cell_type": "code",
   "execution_count": 87,
   "metadata": {},
   "outputs": [
    {
     "data": {
      "text/plain": [
       "GridSearchCV(cv=10,\n",
       "             estimator=LogisticRegression(max_iter=1000, solver='liblinear'),\n",
       "             param_grid={'C': [0.01, 0.01, 1, 10, 100],\n",
       "                         'penalty': ['l1', 'l2']})"
      ]
     },
     "execution_count": 87,
     "metadata": {},
     "output_type": "execute_result"
    }
   ],
   "source": [
    "grid.fit(X, y)"
   ]
  },
  {
   "cell_type": "code",
   "execution_count": 88,
   "metadata": {},
   "outputs": [
    {
     "data": {
      "text/plain": [
       "{'mean_fit_time': array([7.97986984e-04, 8.97336006e-04, 6.97803497e-04, 7.36212730e-04,\n",
       "        1.99627876e-04, 5.98478317e-04, 2.99191475e-04, 5.98645210e-04,\n",
       "        4.07004356e-04, 9.98020172e-05]),\n",
       " 'std_fit_time': array([0.000399  , 0.00029914, 0.00045683, 0.00040919, 0.00039926,\n",
       "        0.00048866, 0.00045702, 0.00048879, 0.00049896, 0.00029941]),\n",
       " 'mean_score_time': array([1.99437141e-04, 1.00040436e-04, 2.78162956e-04, 1.99460983e-04,\n",
       "        4.46629524e-04, 2.47049332e-04, 2.98953056e-04, 3.98921967e-04,\n",
       "        9.16719437e-05, 6.98614120e-04]),\n",
       " 'std_score_time': array([0.00039887, 0.00030012, 0.00042839, 0.00039892, 0.00056303,\n",
       "        0.0005063 , 0.00045666, 0.00048858, 0.00027502, 0.00045736]),\n",
       " 'param_C': masked_array(data=[0.01, 0.01, 0.01, 0.01, 1, 1, 10, 10, 100, 100],\n",
       "              mask=[False, False, False, False, False, False, False, False,\n",
       "                    False, False],\n",
       "        fill_value='?',\n",
       "             dtype=object),\n",
       " 'param_penalty': masked_array(data=['l1', 'l2', 'l1', 'l2', 'l1', 'l2', 'l1', 'l2', 'l1',\n",
       "                    'l2'],\n",
       "              mask=[False, False, False, False, False, False, False, False,\n",
       "                    False, False],\n",
       "        fill_value='?',\n",
       "             dtype=object),\n",
       " 'params': [{'C': 0.01, 'penalty': 'l1'},\n",
       "  {'C': 0.01, 'penalty': 'l2'},\n",
       "  {'C': 0.01, 'penalty': 'l1'},\n",
       "  {'C': 0.01, 'penalty': 'l2'},\n",
       "  {'C': 1, 'penalty': 'l1'},\n",
       "  {'C': 1, 'penalty': 'l2'},\n",
       "  {'C': 10, 'penalty': 'l1'},\n",
       "  {'C': 10, 'penalty': 'l2'},\n",
       "  {'C': 100, 'penalty': 'l1'},\n",
       "  {'C': 100, 'penalty': 'l2'}],\n",
       " 'split0_test_score': array([0.7, 0.7, 0.7, 0.7, 0.7, 0.7, 0.7, 0.7, 0.7, 0.7]),\n",
       " 'split1_test_score': array([0.7, 0.7, 0.7, 0.7, 0.8, 0.7, 0.8, 0.7, 0.7, 0.7]),\n",
       " 'split2_test_score': array([0.6, 0.6, 0.6, 0.6, 1. , 0.9, 1. , 1. , 1. , 1. ]),\n",
       " 'split3_test_score': array([0.6, 0.9, 0.6, 0.9, 1. , 1. , 1. , 1. , 1. , 1. ]),\n",
       " 'split4_test_score': array([0.6, 1. , 0.6, 1. , 1. , 1. , 1. , 1. , 1. , 1. ]),\n",
       " 'split5_test_score': array([0.6, 1. , 0.6, 1. , 1. , 1. , 1. , 1. , 1. , 1. ]),\n",
       " 'split6_test_score': array([0.6, 1. , 0.6, 1. , 1. , 1. , 1. , 1. , 1. , 1. ]),\n",
       " 'split7_test_score': array([0.6, 1. , 0.6, 1. , 1. , 1. , 1. , 1. , 1. , 1. ]),\n",
       " 'split8_test_score': array([0.6, 1. , 0.6, 1. , 1. , 1. , 1. , 1. , 1. , 1. ]),\n",
       " 'split9_test_score': array([0.6, 0.9, 0.6, 0.9, 0.4, 0.5, 0.4, 0.5, 0.5, 0.4]),\n",
       " 'mean_test_score': array([0.62, 0.88, 0.62, 0.88, 0.89, 0.88, 0.89, 0.89, 0.89, 0.88]),\n",
       " 'std_test_score': array([0.04      , 0.14696938, 0.04      , 0.14696938, 0.19209373,\n",
       "        0.17204651, 0.19209373, 0.17578396, 0.17578396, 0.19899749]),\n",
       " 'rank_test_score': array([9, 5, 9, 5, 1, 5, 1, 1, 1, 5])}"
      ]
     },
     "execution_count": 88,
     "metadata": {},
     "output_type": "execute_result"
    }
   ],
   "source": [
    "grid.cv_results_"
   ]
  },
  {
   "cell_type": "code",
   "execution_count": 89,
   "metadata": {},
   "outputs": [
    {
     "data": {
      "text/plain": [
       "LogisticRegression(C=1, max_iter=1000, penalty='l1', solver='liblinear')"
      ]
     },
     "execution_count": 89,
     "metadata": {},
     "output_type": "execute_result"
    }
   ],
   "source": [
    "grid.best_estimator_"
   ]
  },
  {
   "cell_type": "code",
   "execution_count": 90,
   "metadata": {},
   "outputs": [
    {
     "data": {
      "text/plain": [
       "{'C': 1, 'penalty': 'l1'}"
      ]
     },
     "execution_count": 90,
     "metadata": {},
     "output_type": "execute_result"
    }
   ],
   "source": [
    "grid.best_params_"
   ]
  },
  {
   "cell_type": "code",
   "execution_count": 91,
   "metadata": {},
   "outputs": [],
   "source": [
    "# wersja z pipelinem"
   ]
  },
  {
   "cell_type": "code",
   "execution_count": 92,
   "metadata": {},
   "outputs": [],
   "source": [
    "pipe = Pipeline(steps = [('standarize', StandardScaler()),\n",
    "                        ('clasifier', LogisticRegression())\n",
    "                        ])"
   ]
  },
  {
   "cell_type": "code",
   "execution_count": 93,
   "metadata": {},
   "outputs": [
    {
     "data": {
      "text/plain": [
       "{'standardize__with_mean': [True, False],\n",
       " 'clasifier__penalty': ['l1', 'l2'],\n",
       " '_clasifier__C': [0.01, 0.01, 1, 10, 100]}"
      ]
     },
     "execution_count": 93,
     "metadata": {},
     "output_type": "execute_result"
    }
   ],
   "source": [
    "param_grid = {\n",
    "    'standardize__with_mean' : [True, False],\n",
    "    'clasifier__penalty' : ['l1', 'l2'], # wzorzec definiowania siatki: <id_modelu>__<nazwa_parametru>\n",
    "    '_clasifier__C' : [0.01, .01, 1, 10, 100]\n",
    "}\n",
    "param_grid"
   ]
  },
  {
   "cell_type": "code",
   "execution_count": 94,
   "metadata": {},
   "outputs": [],
   "source": [
    "gird = GridSearchCV(estimator=pipe, \n",
    "                   param_grid=param_grid,\n",
    "                   cv=100)"
   ]
  },
  {
   "cell_type": "code",
   "execution_count": 95,
   "metadata": {},
   "outputs": [
    {
     "data": {
      "text/plain": [
       "GridSearchCV(cv=10,\n",
       "             estimator=LogisticRegression(max_iter=1000, solver='liblinear'),\n",
       "             param_grid={'C': [0.01, 0.01, 1, 10, 100],\n",
       "                         'penalty': ['l1', 'l2']})"
      ]
     },
     "execution_count": 95,
     "metadata": {},
     "output_type": "execute_result"
    }
   ],
   "source": [
    "grid.fit(X, y)"
   ]
  },
  {
   "cell_type": "code",
   "execution_count": 96,
   "metadata": {},
   "outputs": [
    {
     "data": {
      "text/plain": [
       "LogisticRegression(C=1, max_iter=1000, penalty='l1', solver='liblinear')"
      ]
     },
     "execution_count": 96,
     "metadata": {},
     "output_type": "execute_result"
    }
   ],
   "source": [
    "grid.best_estimator_"
   ]
  },
  {
   "cell_type": "code",
   "execution_count": 97,
   "metadata": {},
   "outputs": [
    {
     "ename": "AttributeError",
     "evalue": "'LogisticRegression' object has no attribute 'step'",
     "output_type": "error",
     "traceback": [
      "\u001b[1;31m---------------------------------------------------------------------------\u001b[0m",
      "\u001b[1;31mAttributeError\u001b[0m                            Traceback (most recent call last)",
      "\u001b[1;32m<ipython-input-97-72df2e534fbe>\u001b[0m in \u001b[0;36m<module>\u001b[1;34m\u001b[0m\n\u001b[1;32m----> 1\u001b[1;33m \u001b[0mgrid\u001b[0m\u001b[1;33m.\u001b[0m\u001b[0mbest_estimator_\u001b[0m\u001b[1;33m.\u001b[0m\u001b[0mstep\u001b[0m\u001b[1;33m\u001b[0m\u001b[1;33m\u001b[0m\u001b[0m\n\u001b[0m",
      "\u001b[1;31mAttributeError\u001b[0m: 'LogisticRegression' object has no attribute 'step'"
     ]
    }
   ],
   "source": [
    "grid.best_estimator_.step"
   ]
  },
  {
   "cell_type": "code",
   "execution_count": null,
   "metadata": {},
   "outputs": [],
   "source": []
  },
  {
   "cell_type": "markdown",
   "metadata": {},
   "source": [
    "# Drzewo decyzyjne\n",
    "\n",
    "Załóżmy, że mamy dwie zmienne ($X[0], X[1]$) i problem klasyfikacji binarnej ($Y \\in \\{0,1\\}$).\n",
    "\n",
    "\n",
    "<img src=\"Grafika/decision_tree.png\" style=\"width: 600px\">\n",
    "\n",
    "\n",
    "## Jak rośnie drzewo?\n",
    "\n",
    "Drzewo rośnie od korzenia - tzn. budujemy model od góry. Będąc w aktualnym węźle szukamy najlepszego podziału - rozpatrujemy wszystkie zmienne ze wszystkimi możliwymi podziałami i tworzymy rozgałęzienie według najlepszej opcji.\n",
    "\n",
    "Co to znaczy najlpszy podział? Rozważmy klasyfikację binarną.\n",
    "\n",
    "<br>\n",
    "\n",
    "<br>\n",
    "\n",
    "Opcja nr 1: Gini impurity (Miara Gini'ego niespójności węzła):\n",
    "- wybieramy podział, który minimalizuje ważoną miarę Giniego $g(p) = 2p(1-p)$:\n",
    "\n",
    "$$\\frac{n_1}{N}g(p_1) + \\frac{n_2}{N}g(p_2),$$\n",
    "\n",
    "gdzie $n_1, n_2$ liczności w pierwszym i drugim dziecku, $N = n_1 + n_2$, $p_1, p_2$ - procent obserwacji, dla których $Y=1$ w dzieciach 1 i 2.\n",
    "\n",
    "<img src=\"Grafika/gini_entropy.png\" style=\"width: 400px\">\n",
    "\n",
    "<br>\n",
    "\n",
    "Opcja nr 2: Entropia.\n",
    "- wybieramy podział, który daje najmniejszą wartość ważonej entropii $h(p) = -p\\log{(p)} - (1-p)\\log{(1-p)}$:\n",
    "\n",
    "$$\\frac{n_1}{N} h(p_1) + \\frac{n_2}{N}h(p_2),$$\n",
    "\n",
    "gdzie $p_1, p_2$ - procent obserwacji, dla których $Y=1$ w dzieciach 1 i 2.\n",
    "\n",
    "## Do kiedy tworzymy nowe podziały? \n",
    "\n",
    "Możliwe są różne warunki stopu. Najpopularniejsze to:\n",
    "\n",
    "- maksymalna głębokość drzewa,\n",
    "- minimalna liczba obserwacji w liściu.\n",
    "\n",
    "Często stosowane w połączeniu."
   ]
  },
  {
   "cell_type": "code",
   "execution_count": 98,
   "metadata": {},
   "outputs": [],
   "source": [
    "from sklearn.tree import DecisionTreeClassifier \n",
    "#drzewa decyzyjne nie wymagają skalowania danych"
   ]
  },
  {
   "cell_type": "code",
   "execution_count": 99,
   "metadata": {},
   "outputs": [],
   "source": [
    "data = load_breast_cancer()\n",
    "X, y = data.data, data.target\n",
    "X_train, X_test, y_train, y_test = train_test_split(X, y, test_size=0.3)"
   ]
  },
  {
   "cell_type": "code",
   "execution_count": 100,
   "metadata": {},
   "outputs": [
    {
     "data": {
      "text/plain": [
       "DecisionTreeClassifier()"
      ]
     },
     "execution_count": 100,
     "metadata": {},
     "output_type": "execute_result"
    }
   ],
   "source": [
    "model = DecisionTreeClassifier()\n",
    "model.fit(X_train, y_train)"
   ]
  },
  {
   "cell_type": "code",
   "execution_count": 101,
   "metadata": {},
   "outputs": [
    {
     "data": {
      "text/plain": [
       "0.9298245614035088"
      ]
     },
     "execution_count": 101,
     "metadata": {},
     "output_type": "execute_result"
    }
   ],
   "source": [
    "accuracy_score(y_test, model.predict(X_test))"
   ]
  },
  {
   "cell_type": "code",
   "execution_count": 102,
   "metadata": {},
   "outputs": [
    {
     "data": {
      "text/plain": [
       "1.0"
      ]
     },
     "execution_count": 102,
     "metadata": {},
     "output_type": "execute_result"
    }
   ],
   "source": [
    "accuracy_score(y_train, model.predict(X_train)) # przeuczony model, nauczmy z regularyzacja"
   ]
  },
  {
   "cell_type": "code",
   "execution_count": 103,
   "metadata": {},
   "outputs": [
    {
     "data": {
      "text/plain": [
       "DecisionTreeClassifier(min_samples_leaf=10)"
      ]
     },
     "execution_count": 103,
     "metadata": {},
     "output_type": "execute_result"
    }
   ],
   "source": [
    "model = DecisionTreeClassifier(min_samples_leaf=10)\n",
    "model.fit(X_train, y_train)"
   ]
  },
  {
   "cell_type": "code",
   "execution_count": 104,
   "metadata": {
    "scrolled": true
   },
   "outputs": [
    {
     "data": {
      "text/plain": [
       "0.9298245614035088"
      ]
     },
     "execution_count": 104,
     "metadata": {},
     "output_type": "execute_result"
    }
   ],
   "source": [
    "accuracy_score(y_test, model.predict(X_test)) # model przeuczony, jest lepiej "
   ]
  },
  {
   "cell_type": "code",
   "execution_count": 105,
   "metadata": {},
   "outputs": [
    {
     "data": {
      "text/plain": [
       "0.957286432160804"
      ]
     },
     "execution_count": 105,
     "metadata": {},
     "output_type": "execute_result"
    }
   ],
   "source": [
    "accuracy_score(y_train, model.predict(X_train))"
   ]
  },
  {
   "cell_type": "markdown",
   "metadata": {
    "collapsed": true
   },
   "source": [
    "#### Zadanie \n",
    "\n",
    "Wczytaj zbiór `zbiór1.txt` (funkcja loadtxt w numpy) i podziel go na część uczącą (200 obserwacji) i testową (100). Dopasuj model regresji logistycznej na zbiorze uczącym i oblicz accuracy na zbiorze testowym. Następnie oblicz procent poprawnych dopasowań na zbiorze treningowym.\n",
    "\n",
    "Następnie narysuj 4 histogramy wartości obu zmiennych w pozbiorach wyznaczonych przez wartość $Y$. Czy widzisz jakąś zależność między zmiennymi objaśniającymi a zmienną objaśnianą?\n",
    "\n",
    "Następnie zbuduj drzewo klasyfikacyjne i policz dla niego accuracy."
   ]
  },
  {
   "cell_type": "code",
   "execution_count": 106,
   "metadata": {},
   "outputs": [],
   "source": [
    "dane = np.loadtxt('Dane/zbior1.txt')"
   ]
  },
  {
   "cell_type": "code",
   "execution_count": 107,
   "metadata": {},
   "outputs": [
    {
     "data": {
      "text/plain": [
       "array([[9.97683602e-01, 9.14219315e-01, 1.00000000e+00],\n",
       "       [3.82992661e-01, 4.16007683e-01, 1.00000000e+00],\n",
       "       [6.31764757e-02, 3.13137825e-01, 1.00000000e+00],\n",
       "       [1.07037831e-01, 6.30734059e-01, 0.00000000e+00],\n",
       "       [6.13159979e-01, 7.07122512e-01, 1.00000000e+00],\n",
       "       [1.51604518e-01, 9.84973259e-01, 0.00000000e+00],\n",
       "       [1.13515624e-01, 6.89658585e-01, 0.00000000e+00],\n",
       "       [2.59236702e-01, 1.26432266e-01, 1.00000000e+00],\n",
       "       [3.39117454e-01, 3.87364131e-01, 1.00000000e+00],\n",
       "       [3.80756140e-01, 5.70747135e-02, 1.00000000e+00],\n",
       "       [8.90311349e-01, 8.49988550e-01, 1.00000000e+00],\n",
       "       [6.71105058e-01, 5.24037197e-01, 1.00000000e+00],\n",
       "       [8.92528458e-01, 5.19178452e-01, 1.00000000e+00],\n",
       "       [5.55760880e-01, 4.68699116e-02, 0.00000000e+00],\n",
       "       [8.19745258e-01, 3.55194574e-02, 0.00000000e+00],\n",
       "       [8.78102548e-01, 7.11245317e-02, 0.00000000e+00],\n",
       "       [5.98806637e-01, 6.99927994e-01, 1.00000000e+00],\n",
       "       [5.92424697e-01, 2.21511840e-01, 0.00000000e+00],\n",
       "       [1.97514255e-01, 9.54167631e-02, 1.00000000e+00],\n",
       "       [1.88371965e-02, 7.65527246e-01, 0.00000000e+00],\n",
       "       [8.30684518e-01, 2.31539682e-01, 0.00000000e+00],\n",
       "       [6.35984467e-01, 5.32910727e-01, 1.00000000e+00],\n",
       "       [6.39263012e-01, 5.39315363e-01, 1.00000000e+00],\n",
       "       [4.00623255e-01, 9.82281104e-01, 0.00000000e+00],\n",
       "       [2.38896615e-01, 3.02926685e-01, 1.00000000e+00],\n",
       "       [9.41668017e-02, 5.12921107e-01, 0.00000000e+00],\n",
       "       [8.39250532e-01, 6.30842828e-01, 1.00000000e+00],\n",
       "       [3.49661551e-01, 2.96658833e-01, 1.00000000e+00],\n",
       "       [6.64598121e-01, 8.68919117e-01, 1.00000000e+00],\n",
       "       [3.93832467e-01, 1.81595755e-01, 1.00000000e+00],\n",
       "       [6.44519058e-01, 8.06732919e-01, 1.00000000e+00],\n",
       "       [6.97654538e-01, 7.94520901e-01, 1.00000000e+00],\n",
       "       [2.61460904e-01, 1.15643416e-01, 1.00000000e+00],\n",
       "       [4.25707239e-01, 6.09395180e-01, 0.00000000e+00],\n",
       "       [7.07271448e-01, 8.27410878e-02, 0.00000000e+00],\n",
       "       [2.72826912e-01, 4.02748332e-01, 1.00000000e+00],\n",
       "       [6.79268334e-01, 3.13020361e-01, 0.00000000e+00],\n",
       "       [1.22105933e-01, 4.41830523e-01, 1.00000000e+00],\n",
       "       [1.56456879e-01, 3.96207362e-01, 1.00000000e+00],\n",
       "       [7.73575165e-01, 4.41919597e-01, 0.00000000e+00],\n",
       "       [5.74477901e-01, 9.91403916e-01, 1.00000000e+00],\n",
       "       [8.33521343e-01, 9.60842777e-01, 1.00000000e+00],\n",
       "       [2.42282399e-01, 6.55762545e-01, 0.00000000e+00],\n",
       "       [4.30085342e-01, 9.78006195e-01, 0.00000000e+00],\n",
       "       [5.23157512e-01, 4.20315066e-02, 0.00000000e+00],\n",
       "       [5.39541986e-01, 6.26834976e-01, 1.00000000e+00],\n",
       "       [4.17679665e-01, 4.30592418e-01, 1.00000000e+00],\n",
       "       [6.53206938e-01, 6.02139252e-01, 1.00000000e+00],\n",
       "       [1.09476178e-02, 3.17778663e-01, 1.00000000e+00],\n",
       "       [7.31487758e-01, 4.66121005e-01, 0.00000000e+00],\n",
       "       [5.27496638e-01, 1.18247106e-01, 0.00000000e+00],\n",
       "       [9.60983503e-01, 3.71613227e-01, 0.00000000e+00],\n",
       "       [5.40540154e-01, 8.42033061e-01, 1.00000000e+00],\n",
       "       [7.03196589e-01, 9.09912816e-01, 1.00000000e+00],\n",
       "       [9.83332273e-01, 5.59669942e-01, 1.00000000e+00],\n",
       "       [9.03163598e-01, 3.72710235e-01, 0.00000000e+00],\n",
       "       [4.50536028e-01, 1.80250584e-02, 1.00000000e+00],\n",
       "       [2.32039193e-01, 7.67943089e-02, 1.00000000e+00],\n",
       "       [6.55721346e-01, 2.36855615e-01, 0.00000000e+00],\n",
       "       [9.86095570e-01, 6.87951528e-01, 1.00000000e+00],\n",
       "       [9.55589182e-01, 8.12896870e-01, 1.00000000e+00],\n",
       "       [4.59283262e-01, 6.53136516e-01, 0.00000000e+00],\n",
       "       [6.59493999e-01, 6.35079119e-01, 1.00000000e+00],\n",
       "       [6.93485665e-01, 1.07093887e-01, 0.00000000e+00],\n",
       "       [4.32118325e-01, 2.46640605e-02, 1.00000000e+00],\n",
       "       [2.48973703e-01, 8.14788994e-01, 0.00000000e+00],\n",
       "       [1.93612989e-01, 2.72739259e-01, 1.00000000e+00],\n",
       "       [4.44268417e-01, 6.63907655e-01, 0.00000000e+00],\n",
       "       [9.97684965e-01, 2.49513232e-01, 0.00000000e+00],\n",
       "       [2.91700414e-01, 2.07673178e-01, 1.00000000e+00],\n",
       "       [4.62543061e-01, 1.15430496e-02, 1.00000000e+00],\n",
       "       [5.97223267e-01, 8.47219927e-02, 0.00000000e+00],\n",
       "       [1.01294017e-01, 4.61449447e-01, 1.00000000e+00],\n",
       "       [5.31883828e-01, 3.45892585e-01, 0.00000000e+00],\n",
       "       [3.16011415e-01, 8.82916632e-01, 0.00000000e+00],\n",
       "       [1.79607414e-01, 3.92455948e-01, 1.00000000e+00],\n",
       "       [6.43808413e-01, 1.82893214e-01, 0.00000000e+00],\n",
       "       [4.83021064e-01, 5.36704285e-01, 0.00000000e+00],\n",
       "       [3.65279522e-02, 8.91214405e-01, 0.00000000e+00],\n",
       "       [5.85371068e-01, 3.67421430e-01, 0.00000000e+00],\n",
       "       [7.16010225e-01, 7.46103956e-01, 1.00000000e+00],\n",
       "       [7.75158816e-01, 4.38158267e-01, 0.00000000e+00],\n",
       "       [2.56132057e-01, 5.12038526e-01, 0.00000000e+00],\n",
       "       [8.45894195e-02, 2.51794595e-01, 1.00000000e+00],\n",
       "       [3.43769350e-01, 8.00909123e-01, 0.00000000e+00],\n",
       "       [5.36290319e-01, 1.35109056e-02, 0.00000000e+00],\n",
       "       [5.08320137e-01, 1.41840507e-01, 0.00000000e+00],\n",
       "       [6.89375790e-01, 5.16977323e-01, 1.00000000e+00],\n",
       "       [1.64139900e-01, 9.24142850e-01, 0.00000000e+00],\n",
       "       [2.00489895e-01, 6.77598957e-01, 0.00000000e+00],\n",
       "       [6.48464182e-01, 2.31170636e-01, 0.00000000e+00],\n",
       "       [8.86787814e-01, 8.67582028e-01, 1.00000000e+00],\n",
       "       [3.91709144e-01, 5.15686125e-01, 0.00000000e+00],\n",
       "       [4.66012269e-01, 9.52397690e-01, 0.00000000e+00],\n",
       "       [8.69708797e-01, 4.68040831e-01, 0.00000000e+00],\n",
       "       [9.74201565e-01, 3.02105760e-01, 0.00000000e+00],\n",
       "       [5.03253091e-01, 7.14595862e-01, 1.00000000e+00],\n",
       "       [4.81077546e-01, 6.80508251e-01, 0.00000000e+00],\n",
       "       [1.76048028e-01, 4.11328415e-01, 1.00000000e+00],\n",
       "       [4.16620092e-01, 5.28189751e-01, 0.00000000e+00],\n",
       "       [7.57657546e-01, 2.70471988e-02, 0.00000000e+00],\n",
       "       [1.67277702e-01, 1.27057921e-01, 1.00000000e+00],\n",
       "       [1.90338168e-01, 2.01238727e-01, 1.00000000e+00],\n",
       "       [7.58955897e-01, 8.00408122e-01, 1.00000000e+00],\n",
       "       [5.62647067e-01, 3.14517588e-01, 0.00000000e+00],\n",
       "       [6.06467040e-01, 8.30306829e-01, 1.00000000e+00],\n",
       "       [6.06615326e-01, 1.93059097e-01, 0.00000000e+00],\n",
       "       [7.66260020e-01, 6.30847524e-01, 1.00000000e+00],\n",
       "       [5.65614071e-01, 9.49437845e-01, 1.00000000e+00],\n",
       "       [3.66853835e-01, 9.32984059e-01, 0.00000000e+00],\n",
       "       [5.98189990e-01, 7.39985381e-01, 1.00000000e+00],\n",
       "       [2.30692523e-01, 8.34399691e-01, 0.00000000e+00],\n",
       "       [5.51018887e-01, 9.78286557e-02, 0.00000000e+00],\n",
       "       [7.71730033e-01, 4.17692832e-01, 0.00000000e+00],\n",
       "       [2.57221852e-01, 1.85612584e-01, 1.00000000e+00],\n",
       "       [6.07812343e-02, 6.29115089e-01, 0.00000000e+00],\n",
       "       [7.36666924e-01, 1.55395484e-03, 0.00000000e+00],\n",
       "       [1.57822984e-01, 1.68584599e-01, 1.00000000e+00],\n",
       "       [5.28323057e-02, 3.38092740e-01, 1.00000000e+00],\n",
       "       [8.47962394e-01, 6.14313477e-01, 1.00000000e+00],\n",
       "       [7.68805689e-01, 1.30526279e-01, 0.00000000e+00],\n",
       "       [8.90505362e-01, 2.64585909e-01, 0.00000000e+00],\n",
       "       [9.38408423e-01, 2.49731184e-02, 0.00000000e+00],\n",
       "       [7.28609187e-01, 7.71185443e-01, 1.00000000e+00],\n",
       "       [2.24303984e-01, 8.93708646e-01, 0.00000000e+00],\n",
       "       [9.46176908e-01, 6.05250759e-01, 1.00000000e+00],\n",
       "       [7.79396244e-01, 6.51743095e-02, 0.00000000e+00],\n",
       "       [2.40574247e-01, 4.85074336e-01, 1.00000000e+00],\n",
       "       [5.42359501e-01, 8.69168519e-01, 1.00000000e+00],\n",
       "       [1.24163456e-01, 9.93524047e-01, 0.00000000e+00],\n",
       "       [7.82135512e-01, 9.41598224e-02, 0.00000000e+00],\n",
       "       [1.62004141e-01, 3.17160935e-01, 1.00000000e+00],\n",
       "       [9.40607804e-01, 7.25641446e-01, 1.00000000e+00],\n",
       "       [2.87466170e-03, 2.83050878e-01, 1.00000000e+00],\n",
       "       [4.77008845e-02, 3.01121605e-01, 1.00000000e+00],\n",
       "       [6.37461249e-01, 4.78216257e-01, 0.00000000e+00],\n",
       "       [5.88857467e-01, 3.26315373e-01, 0.00000000e+00],\n",
       "       [5.20212428e-01, 7.16910847e-01, 1.00000000e+00],\n",
       "       [3.48772318e-01, 2.41013171e-01, 1.00000000e+00],\n",
       "       [8.58158802e-01, 2.61104694e-01, 0.00000000e+00],\n",
       "       [3.90572070e-01, 1.34437217e-01, 1.00000000e+00],\n",
       "       [8.99352733e-01, 3.10090605e-01, 0.00000000e+00],\n",
       "       [6.17884605e-01, 7.32265156e-01, 1.00000000e+00],\n",
       "       [3.27192641e-01, 7.88119444e-01, 0.00000000e+00],\n",
       "       [7.60325633e-01, 7.07294121e-01, 1.00000000e+00],\n",
       "       [5.70330572e-01, 4.04470035e-01, 0.00000000e+00],\n",
       "       [2.22845971e-01, 6.14241182e-01, 0.00000000e+00],\n",
       "       [3.12015866e-01, 6.74460527e-01, 0.00000000e+00],\n",
       "       [3.32646199e-01, 9.23432044e-02, 1.00000000e+00],\n",
       "       [3.93262588e-01, 1.20930563e-01, 1.00000000e+00],\n",
       "       [3.65903634e-02, 1.29942593e-01, 1.00000000e+00],\n",
       "       [5.49556985e-01, 6.77215653e-01, 1.00000000e+00],\n",
       "       [4.07512863e-01, 9.14994740e-01, 0.00000000e+00],\n",
       "       [2.06011162e-01, 6.44438870e-01, 0.00000000e+00],\n",
       "       [1.12011698e-01, 8.60386339e-01, 0.00000000e+00],\n",
       "       [5.14599818e-01, 3.77866090e-01, 0.00000000e+00],\n",
       "       [2.21888670e-01, 3.58719413e-01, 1.00000000e+00],\n",
       "       [3.85231428e-01, 5.79603975e-02, 1.00000000e+00],\n",
       "       [2.18064813e-01, 9.70502309e-02, 1.00000000e+00],\n",
       "       [9.05746856e-01, 9.87531399e-01, 1.00000000e+00],\n",
       "       [6.50758827e-01, 7.01440765e-01, 1.00000000e+00],\n",
       "       [7.12580726e-01, 6.49833830e-05, 0.00000000e+00],\n",
       "       [2.14671003e-01, 9.06593279e-01, 0.00000000e+00],\n",
       "       [4.27355161e-01, 7.84921068e-01, 0.00000000e+00],\n",
       "       [2.37062623e-01, 1.15633066e-01, 1.00000000e+00],\n",
       "       [3.65176702e-01, 3.29000404e-01, 1.00000000e+00],\n",
       "       [3.78047981e-01, 4.19019478e-01, 1.00000000e+00],\n",
       "       [1.28502218e-01, 8.53550949e-01, 0.00000000e+00],\n",
       "       [5.03247265e-01, 2.38736633e-01, 0.00000000e+00],\n",
       "       [4.01554576e-02, 8.69149193e-02, 1.00000000e+00],\n",
       "       [6.81211127e-01, 4.62029338e-01, 0.00000000e+00],\n",
       "       [7.84209719e-01, 9.68938630e-01, 1.00000000e+00],\n",
       "       [4.86159037e-01, 8.74535377e-01, 0.00000000e+00],\n",
       "       [9.72115024e-02, 1.04103042e-02, 1.00000000e+00],\n",
       "       [6.15259548e-01, 9.90550842e-01, 1.00000000e+00],\n",
       "       [9.24523394e-01, 3.28184075e-01, 0.00000000e+00],\n",
       "       [3.42554264e-01, 7.41611545e-01, 0.00000000e+00],\n",
       "       [8.26299465e-01, 7.33261380e-01, 1.00000000e+00],\n",
       "       [7.14463841e-01, 4.78729854e-01, 0.00000000e+00],\n",
       "       [3.66927405e-01, 1.01368326e-01, 1.00000000e+00],\n",
       "       [8.66541175e-01, 6.42951411e-02, 0.00000000e+00],\n",
       "       [9.42294247e-01, 2.44466763e-02, 0.00000000e+00],\n",
       "       [7.86834956e-01, 1.49140721e-01, 0.00000000e+00],\n",
       "       [6.59835463e-01, 6.88562527e-01, 1.00000000e+00],\n",
       "       [5.16368580e-01, 3.53874894e-01, 0.00000000e+00],\n",
       "       [1.41793678e-01, 8.42746743e-01, 0.00000000e+00],\n",
       "       [8.91109026e-01, 1.86824653e-02, 0.00000000e+00],\n",
       "       [2.86089837e-01, 3.11052117e-01, 1.00000000e+00],\n",
       "       [9.72642515e-01, 7.82480834e-01, 1.00000000e+00],\n",
       "       [3.83588977e-02, 3.77008319e-01, 1.00000000e+00],\n",
       "       [5.45856973e-01, 6.94235396e-01, 1.00000000e+00],\n",
       "       [7.20274562e-01, 8.27880439e-01, 1.00000000e+00],\n",
       "       [6.13864998e-01, 8.06306547e-01, 1.00000000e+00],\n",
       "       [7.18169092e-01, 4.56922578e-01, 0.00000000e+00],\n",
       "       [2.38240869e-01, 2.84020799e-01, 1.00000000e+00],\n",
       "       [7.23024855e-02, 7.37920337e-01, 0.00000000e+00],\n",
       "       [8.18217865e-01, 2.60353375e-01, 0.00000000e+00],\n",
       "       [7.43274652e-04, 5.70165388e-01, 0.00000000e+00],\n",
       "       [5.69207829e-01, 7.79627925e-01, 1.00000000e+00],\n",
       "       [3.75733164e-01, 4.63617625e-01, 1.00000000e+00],\n",
       "       [3.25275388e-01, 3.02018034e-02, 1.00000000e+00],\n",
       "       [9.22820509e-01, 2.83982218e-01, 0.00000000e+00],\n",
       "       [6.81324517e-01, 5.58152209e-01, 1.00000000e+00],\n",
       "       [1.69846975e-01, 4.69884744e-02, 1.00000000e+00],\n",
       "       [9.48701846e-01, 2.45516370e-01, 0.00000000e+00],\n",
       "       [9.60629020e-01, 2.47553184e-01, 0.00000000e+00],\n",
       "       [1.91916651e-01, 8.51582011e-01, 0.00000000e+00],\n",
       "       [3.66550597e-01, 5.53115939e-01, 0.00000000e+00],\n",
       "       [6.09830474e-01, 3.43770779e-01, 0.00000000e+00],\n",
       "       [8.91919233e-01, 4.85494004e-01, 0.00000000e+00],\n",
       "       [7.65456562e-01, 5.86664892e-01, 1.00000000e+00],\n",
       "       [5.59213292e-01, 2.10385824e-01, 0.00000000e+00],\n",
       "       [3.11718029e-01, 1.45526927e-01, 1.00000000e+00],\n",
       "       [6.42218252e-01, 9.20877191e-02, 0.00000000e+00],\n",
       "       [4.33947012e-01, 6.70015818e-01, 0.00000000e+00],\n",
       "       [4.45558329e-01, 4.47095261e-01, 1.00000000e+00],\n",
       "       [3.95996112e-01, 5.50519140e-01, 0.00000000e+00],\n",
       "       [1.18883598e-01, 4.11574338e-01, 1.00000000e+00],\n",
       "       [7.68186523e-02, 5.62826424e-01, 0.00000000e+00],\n",
       "       [5.94340957e-01, 8.10096098e-01, 1.00000000e+00],\n",
       "       [8.26433534e-01, 6.18410713e-01, 1.00000000e+00],\n",
       "       [2.71686263e-01, 4.26617349e-01, 1.00000000e+00],\n",
       "       [9.24276354e-01, 4.62909227e-01, 0.00000000e+00],\n",
       "       [8.28615745e-01, 7.18972122e-01, 1.00000000e+00],\n",
       "       [2.71541117e-01, 7.66925473e-01, 0.00000000e+00],\n",
       "       [5.54759228e-02, 6.28792587e-02, 1.00000000e+00],\n",
       "       [7.39001381e-01, 2.44003376e-01, 0.00000000e+00],\n",
       "       [9.34584745e-01, 4.84711905e-03, 0.00000000e+00],\n",
       "       [8.25456915e-02, 8.49824492e-01, 0.00000000e+00],\n",
       "       [8.15251134e-01, 5.66988309e-01, 1.00000000e+00],\n",
       "       [7.17753324e-01, 5.60842662e-01, 1.00000000e+00],\n",
       "       [1.09415603e-01, 7.83199983e-01, 0.00000000e+00],\n",
       "       [6.04651830e-02, 4.47285626e-02, 1.00000000e+00],\n",
       "       [4.41627003e-01, 4.88717600e-01, 1.00000000e+00],\n",
       "       [2.51081210e-01, 3.23318124e-01, 1.00000000e+00],\n",
       "       [4.38453342e-01, 8.95685177e-01, 0.00000000e+00],\n",
       "       [1.92807005e-01, 3.81409516e-01, 1.00000000e+00],\n",
       "       [8.66513205e-01, 7.22911751e-01, 1.00000000e+00],\n",
       "       [1.94506074e-02, 9.80598114e-01, 0.00000000e+00],\n",
       "       [3.01097219e-01, 4.72687466e-01, 1.00000000e+00],\n",
       "       [3.01372035e-01, 5.25628740e-01, 0.00000000e+00],\n",
       "       [4.25963103e-01, 1.34147827e-01, 1.00000000e+00],\n",
       "       [9.45588217e-01, 7.08174773e-01, 1.00000000e+00],\n",
       "       [5.27010157e-01, 7.48671208e-01, 1.00000000e+00],\n",
       "       [4.70898905e-01, 5.07580770e-01, 0.00000000e+00],\n",
       "       [4.74431454e-01, 6.72770050e-01, 0.00000000e+00],\n",
       "       [6.90053499e-01, 2.75714914e-01, 0.00000000e+00],\n",
       "       [9.90229507e-01, 1.31709526e-01, 0.00000000e+00],\n",
       "       [7.28875919e-01, 2.31045537e-01, 0.00000000e+00],\n",
       "       [8.01159724e-01, 5.56365226e-01, 1.00000000e+00],\n",
       "       [8.12496030e-01, 7.70404549e-01, 1.00000000e+00],\n",
       "       [9.89999207e-01, 6.06102338e-01, 1.00000000e+00],\n",
       "       [7.85574119e-01, 2.35414727e-01, 0.00000000e+00],\n",
       "       [6.22909322e-01, 9.32995732e-01, 1.00000000e+00],\n",
       "       [8.95856033e-01, 9.09033067e-01, 1.00000000e+00],\n",
       "       [1.87009036e-01, 1.44897441e-01, 1.00000000e+00],\n",
       "       [5.21559481e-01, 6.86557239e-01, 1.00000000e+00],\n",
       "       [6.35344179e-01, 4.35591293e-01, 0.00000000e+00],\n",
       "       [7.73060746e-01, 6.67048870e-01, 1.00000000e+00],\n",
       "       [6.22966158e-01, 9.44483446e-01, 1.00000000e+00],\n",
       "       [1.31186413e-01, 4.01643664e-01, 1.00000000e+00],\n",
       "       [4.34568724e-01, 5.19188559e-01, 0.00000000e+00],\n",
       "       [5.06305270e-01, 1.89200072e-01, 0.00000000e+00],\n",
       "       [1.78543543e-01, 9.66952964e-01, 0.00000000e+00],\n",
       "       [2.62742959e-01, 2.94979863e-01, 1.00000000e+00],\n",
       "       [3.11763770e-01, 1.00986448e-01, 1.00000000e+00],\n",
       "       [8.04009370e-01, 7.82833401e-01, 1.00000000e+00],\n",
       "       [7.31054885e-02, 9.64998144e-01, 0.00000000e+00],\n",
       "       [8.19292785e-01, 7.57964590e-01, 1.00000000e+00],\n",
       "       [8.99411359e-01, 4.23107702e-01, 0.00000000e+00],\n",
       "       [7.16463753e-01, 4.51487761e-01, 0.00000000e+00],\n",
       "       [6.25453582e-01, 9.08444758e-01, 1.00000000e+00],\n",
       "       [4.96614747e-01, 1.56551251e-01, 1.00000000e+00],\n",
       "       [6.13688473e-01, 7.32539786e-01, 1.00000000e+00],\n",
       "       [7.68676884e-01, 4.14551547e-01, 0.00000000e+00],\n",
       "       [8.62243966e-01, 3.92152535e-01, 0.00000000e+00],\n",
       "       [5.74173553e-01, 7.25522102e-01, 1.00000000e+00],\n",
       "       [3.53424596e-01, 3.30782461e-01, 1.00000000e+00],\n",
       "       [6.95942350e-01, 8.37641268e-01, 1.00000000e+00],\n",
       "       [4.46141897e-02, 9.33501826e-01, 0.00000000e+00],\n",
       "       [9.31523568e-02, 6.69225885e-01, 0.00000000e+00],\n",
       "       [5.26097304e-01, 8.32181260e-01, 1.00000000e+00],\n",
       "       [9.74801860e-01, 4.42206684e-02, 0.00000000e+00],\n",
       "       [3.25657870e-01, 6.86363594e-01, 0.00000000e+00],\n",
       "       [2.42919805e-01, 9.14472642e-01, 0.00000000e+00],\n",
       "       [7.59586709e-01, 4.02652607e-01, 0.00000000e+00],\n",
       "       [5.49330750e-03, 7.06004480e-01, 0.00000000e+00],\n",
       "       [8.85284649e-01, 9.46736410e-01, 1.00000000e+00],\n",
       "       [8.61587436e-01, 7.21091970e-01, 1.00000000e+00],\n",
       "       [3.19643978e-01, 4.58508507e-01, 1.00000000e+00],\n",
       "       [2.48423887e-01, 2.97056971e-02, 1.00000000e+00],\n",
       "       [6.25976860e-01, 1.27925831e-01, 0.00000000e+00],\n",
       "       [5.64837593e-01, 1.31896012e-01, 0.00000000e+00],\n",
       "       [7.13936246e-02, 9.96279493e-01, 0.00000000e+00],\n",
       "       [2.10788928e-01, 9.93866299e-02, 1.00000000e+00],\n",
       "       [1.98623374e-01, 9.95909671e-01, 0.00000000e+00],\n",
       "       [6.67497972e-01, 7.18506934e-01, 1.00000000e+00],\n",
       "       [5.03400705e-01, 3.01518126e-01, 0.00000000e+00],\n",
       "       [7.73900525e-01, 1.14333326e-01, 0.00000000e+00],\n",
       "       [1.33833585e-01, 2.96785963e-01, 1.00000000e+00]])"
      ]
     },
     "execution_count": 107,
     "metadata": {},
     "output_type": "execute_result"
    }
   ],
   "source": [
    "dane"
   ]
  },
  {
   "cell_type": "code",
   "execution_count": 108,
   "metadata": {},
   "outputs": [],
   "source": [
    "X = dane[:, :2]\n",
    "y = dane[:, 2]\n",
    "\n",
    "X_train, X_test, y_train, y_test = train_test_split(X, y, test_size=100)\n"
   ]
  },
  {
   "cell_type": "code",
   "execution_count": 109,
   "metadata": {},
   "outputs": [
    {
     "data": {
      "text/plain": [
       "LogisticRegression()"
      ]
     },
     "execution_count": 109,
     "metadata": {},
     "output_type": "execute_result"
    }
   ],
   "source": [
    "model = LogisticRegression()  # regresja logistyczna nauczony model\n",
    "model.fit(X_train, y_train)"
   ]
  },
  {
   "cell_type": "code",
   "execution_count": 110,
   "metadata": {},
   "outputs": [
    {
     "data": {
      "text/plain": [
       "0.61"
      ]
     },
     "execution_count": 110,
     "metadata": {},
     "output_type": "execute_result"
    }
   ],
   "source": [
    "accuracy_score(y_train, model.predict(X_train)) # bardzo niedouczony model"
   ]
  },
  {
   "cell_type": "code",
   "execution_count": 111,
   "metadata": {},
   "outputs": [
    {
     "data": {
      "text/plain": [
       "0.58"
      ]
     },
     "execution_count": 111,
     "metadata": {},
     "output_type": "execute_result"
    }
   ],
   "source": [
    "accuracy_score(y_test, model.predict(X_test))"
   ]
  },
  {
   "cell_type": "code",
   "execution_count": 112,
   "metadata": {},
   "outputs": [
    {
     "data": {
      "text/plain": [
       "0.5133333333333333"
      ]
     },
     "execution_count": 112,
     "metadata": {},
     "output_type": "execute_result"
    }
   ],
   "source": [
    "y.mean() # srednia"
   ]
  },
  {
   "cell_type": "code",
   "execution_count": 113,
   "metadata": {},
   "outputs": [
    {
     "data": {
      "text/plain": [
       "Text(0.5, 0, 'X=1')"
      ]
     },
     "execution_count": 113,
     "metadata": {},
     "output_type": "execute_result"
    },
    {
     "data": {
      "image/png": "[encoded data removed]",
      "text/plain": [
       "<Figure size 432x288 with 4 Axes>"
      ]
     },
     "metadata": {
      "needs_background": "light"
     },
     "output_type": "display_data"
    }
   ],
   "source": [
    "plt.subplot(221)\n",
    "ax = plt.hist(X[y==0, 0])\n",
    "plt.xlabel('y=0')\n",
    "\n",
    "plt.subplot(222)\n",
    "ax = plt.hist(X[y==1, 0])\n",
    "plt.xlabel('y=1')\n",
    "\n",
    "plt.subplot(223)\n",
    "ax = plt.hist(X[y==0, 1])\n",
    "plt.xlabel('X=1')\n",
    "\n",
    "plt.subplot(224)\n",
    "ax = plt.hist(X[y==1, 1])\n",
    "plt.xlabel('X=1')"
   ]
  },
  {
   "cell_type": "code",
   "execution_count": 114,
   "metadata": {},
   "outputs": [
    {
     "data": {
      "text/plain": [
       "DecisionTreeClassifier(max_depth=5)"
      ]
     },
     "execution_count": 114,
     "metadata": {},
     "output_type": "execute_result"
    }
   ],
   "source": [
    "tree = DecisionTreeClassifier(max_depth=5)\n",
    "tree.fit(X_train, y_train)"
   ]
  },
  {
   "cell_type": "code",
   "execution_count": 115,
   "metadata": {},
   "outputs": [
    {
     "data": {
      "text/plain": [
       "0.995"
      ]
     },
     "execution_count": 115,
     "metadata": {},
     "output_type": "execute_result"
    }
   ],
   "source": [
    "accuracy_score(y_train, tree.predict(X_train))"
   ]
  },
  {
   "cell_type": "code",
   "execution_count": 116,
   "metadata": {},
   "outputs": [
    {
     "data": {
      "text/plain": [
       "0.96"
      ]
     },
     "execution_count": 116,
     "metadata": {},
     "output_type": "execute_result"
    }
   ],
   "source": [
    "accuracy_score(y_test, tree.predict(X_test))"
   ]
  },
  {
   "cell_type": "code",
   "execution_count": 117,
   "metadata": {},
   "outputs": [
    {
     "data": {
      "text/plain": [
       "<matplotlib.collections.PathCollection at 0x280390b3520>"
      ]
     },
     "execution_count": 117,
     "metadata": {},
     "output_type": "execute_result"
    },
    {
     "data": {
      "image/png": "[encoded data removed]",
      "text/plain": [
       "<Figure size 432x288 with 1 Axes>"
      ]
     },
     "metadata": {
      "needs_background": "light"
     },
     "output_type": "display_data"
    }
   ],
   "source": [
    "# jak na prawdę wyglądają te dane\n",
    "plt.scatter(X[:, 0], X[:, 1], c=y)"
   ]
  },
  {
   "cell_type": "code",
   "execution_count": 118,
   "metadata": {},
   "outputs": [],
   "source": [
    "# rysowanie drzewa \n",
    "\n",
    "from sklearn.tree import export_graphviz"
   ]
  },
  {
   "cell_type": "code",
   "execution_count": 119,
   "metadata": {},
   "outputs": [],
   "source": [
    "export_graphviz(tree, 'drzewo.dot')"
   ]
  },
  {
   "cell_type": "code",
   "execution_count": null,
   "metadata": {},
   "outputs": [],
   "source": []
  },
  {
   "cell_type": "code",
   "execution_count": null,
   "metadata": {},
   "outputs": [],
   "source": []
  },
  {
   "cell_type": "markdown",
   "metadata": {},
   "source": [
    "### Bardzo ważna sprawa: wnioskowanie o zależności zmiennych na podstawie analizy jednowymiarowej nie ma większego sensu!\n",
    "\n",
    "- jeśli nie widać zależności, to nie znaczy, że jej nie ma,\n",
    "- jeżeli widać zależność, to wcale nie musi oznaczać zależności przyczynowo-skutkowej (dana cecha może być skorelowana z inną cechą, która faktycznie wpływa na y).\n",
    "- zjawisko fałszywej korelacji - statystycznie rzecz biorąc, regularnie zdarzają się sytuacje, kiedy zmienne wyglądają na zależne, a tak naprawde nie są...\n",
    "\n",
    "#### Naturalnie analiza wielowymiarowa (model) też może nie wykryć zależności... Sztuka analizy danych polega między innymi na szukaniu tych zależności."
   ]
  },
  {
   "cell_type": "markdown",
   "metadata": {},
   "source": [
    "# Klasyfikacja wieloklasowa\n",
    "\n",
    "## Regresja logistyczna\n",
    "\n",
    "\n",
    "\n",
    "\\begin{align}\n",
    "\\Pr(Y_i=1) &= \\frac{1}{Z} e^{\\boldsymbol\\beta_1 \\cdot \\mathbf{X}_i} \\, \\\\\n",
    "\\Pr(Y_i=2) &= \\frac{1}{Z} e^{\\boldsymbol\\beta_2 \\cdot \\mathbf{X}_i} \\, \\\\\n",
    "\\cdots & \\cdots \\\\\n",
    "\\Pr(Y_i=K-1) &= \\frac{1}{Z} e^{\\boldsymbol\\beta_{K-1} \\cdot \\mathbf{X}_i} \\, \\\\\n",
    "\\Pr(Y_i=K) &= \\frac{1}{Z} e^{\\boldsymbol\\beta_{K} \\cdot \\mathbf{X}_i}\\, \\\\\n",
    "\\end{align}\n",
    "\n",
    "\n",
    "$Z = \\sum_{k=1}^{K} e^{\\boldsymbol\\beta_k \\cdot \\mathbf{X}_i}$\n",
    "\n",
    "Możliwe są również inne warianty. https://en.wikipedia.org/wiki/Multinomial_logistic_regression\n",
    "\n",
    "\n",
    "Inny zapis powyższego:\n",
    "\n",
    "$$[P(Y=1), P(Y=2), \\ldots , P(Y=K)] = softmax([\\beta_1x, \\beta_2x, \\ldots , \\beta_Kx]) = $$\n",
    "$$[\\frac{e^{\\beta_1x}}{\\sum_{k=1}^{K}e^{\\beta_kx}}, \\frac{e^{\\beta_2x}}{\\sum_{k=1}^{K}e^{\\beta_kx}}, \\ldots, \\frac{e^{\\beta_Kx}}{\\sum_{k=1}^{K}e^{\\beta_k x}}]$$\n",
    "\n",
    "Na marginesie: w uczeniu maszynowym często pojawia sie funkcja \"softmax\". \n",
    "\n",
    "$$softmax(\\mathbf{x}) = softmax([x_1, x_2, \\ldots , x_p])= [\\frac{e^{x_1}}{\\sum_{k=1}^{p}e^{x_k}}, \\frac{e^{x_2}}{\\sum_{k=1}^{p}e^{x_k}}, \\ldots, \\frac{e^{x_p}}{\\sum_{k=1}^{p}e^{x_k}}]$$\n",
    "\n",
    "W literaturze czasem mozna spotkać nazwanie regresji logistycznej dla klasyfikacji wieloklasowej klasyfikatorem softmax.\n",
    "\n",
    "## Drzewo decyzyjne\n",
    "\n",
    "Przyjmujemy oznaczenie: $p = (p_1, p_2, \\ldots, p_K)$ wektor prawdopodobieństw poszczególnych klas (procent obserwacji danej klasy).\n",
    "\n",
    "Opcja nr 1: Gini impurity (Miara Gini'ego niespójności węzła):\n",
    "- wybieramy podział, który minimalizuje ważoną miarę Gini'ego $g(p) = \\big( 1 - \\sum\\limits_{k=1}^K p_k^2 \\big)$:\n",
    "\n",
    "$$\\frac{n_1}{N} g(p_1) + \\frac{n_2}{N} g(p_2),$$\n",
    "\n",
    "gdzie $n_1, n_2$ liczności w pierwszym i drugim dziecku, $p_1, p_2$ - rozkłady klas w dzieciach.\n",
    "\n",
    "<br>\n",
    "\n",
    "Opcja nr 2: Entropia.\n",
    "- wybieramy podział, który daje najmniejszą wartość ważonej entropii $h(p) = -\\sum\\limits_{k=1}^K p_k\\log p_k$:\n",
    "\n",
    "$$\\frac{n_1}{n}\\sum\\limits_{i=1}^{n_1} h(p_1) + \\frac{n_2}{n}\\sum\\limits_{i=1}^{n_2} h(p_2)$$\n"
   ]
  },
  {
   "cell_type": "code",
   "execution_count": 120,
   "metadata": {},
   "outputs": [],
   "source": [
    "from sklearn import datasets\n",
    "iris = datasets.load_iris()"
   ]
  },
  {
   "cell_type": "code",
   "execution_count": 121,
   "metadata": {},
   "outputs": [],
   "source": [
    "X = iris.data\n",
    "y = iris.target"
   ]
  },
  {
   "cell_type": "code",
   "execution_count": 122,
   "metadata": {},
   "outputs": [
    {
     "name": "stderr",
     "output_type": "stream",
     "text": [
      "c:\\users\\basia\\appdata\\local\\programs\\python\\python38\\lib\\site-packages\\sklearn\\linear_model\\_logistic.py:762: ConvergenceWarning: lbfgs failed to converge (status=1):\n",
      "STOP: TOTAL NO. of ITERATIONS REACHED LIMIT.\n",
      "\n",
      "Increase the number of iterations (max_iter) or scale the data as shown in:\n",
      "    https://scikit-learn.org/stable/modules/preprocessing.html\n",
      "Please also refer to the documentation for alternative solver options:\n",
      "    https://scikit-learn.org/stable/modules/linear_model.html#logistic-regression\n",
      "  n_iter_i = _check_optimize_result(\n"
     ]
    },
    {
     "data": {
      "text/plain": [
       "(array([  9.84186228,   2.21913963, -12.06100191]),\n",
       " array([[-0.41943756,  0.96749376, -2.5205723 , -1.084326  ],\n",
       "        [ 0.53147635, -0.3150198 , -0.20094963, -0.94785159],\n",
       "        [-0.11203879, -0.65247397,  2.72152193,  2.03217759]]))"
      ]
     },
     "execution_count": 122,
     "metadata": {},
     "output_type": "execute_result"
    }
   ],
   "source": [
    "model = LogisticRegression()\n",
    "model.fit(X, y)\n",
    "model.intercept_, model.coef_"
   ]
  },
  {
   "cell_type": "markdown",
   "metadata": {},
   "source": [
    "#### Zadanie\n",
    "\n",
    "Wygeneruj predykcje kroswalidacyjnie dla regresji logistycznej i drzewa decyzyjnego (użyj `cross_val_predict`), a następnie wypisz accuracy dla obu modeli."
   ]
  },
  {
   "cell_type": "code",
   "execution_count": 123,
   "metadata": {},
   "outputs": [],
   "source": [
    "from sklearn.model_selection import cross_val_predict"
   ]
  },
  {
   "cell_type": "code",
   "execution_count": 124,
   "metadata": {},
   "outputs": [
    {
     "name": "stderr",
     "output_type": "stream",
     "text": [
      "c:\\users\\basia\\appdata\\local\\programs\\python\\python38\\lib\\site-packages\\sklearn\\linear_model\\_logistic.py:762: ConvergenceWarning: lbfgs failed to converge (status=1):\n",
      "STOP: TOTAL NO. of ITERATIONS REACHED LIMIT.\n",
      "\n",
      "Increase the number of iterations (max_iter) or scale the data as shown in:\n",
      "    https://scikit-learn.org/stable/modules/preprocessing.html\n",
      "Please also refer to the documentation for alternative solver options:\n",
      "    https://scikit-learn.org/stable/modules/linear_model.html#logistic-regression\n",
      "  n_iter_i = _check_optimize_result(\n"
     ]
    },
    {
     "data": {
      "text/plain": [
       "array([0, 0, 0, 0, 0, 0, 0, 0, 0, 0, 0, 0, 0, 0, 0, 0, 0, 0, 0, 0, 0, 0,\n",
       "       0, 0, 0, 0, 0, 0, 0, 0, 0, 0, 0, 0, 0, 0, 0, 0, 0, 0, 0, 0, 0, 0,\n",
       "       0, 0, 0, 0, 0, 0, 1, 1, 1, 1, 1, 1, 1, 1, 1, 1, 1, 1, 1, 1, 1, 1,\n",
       "       1, 1, 1, 1, 2, 1, 1, 1, 1, 1, 1, 2, 1, 1, 1, 1, 1, 2, 1, 1, 1, 1,\n",
       "       1, 1, 1, 1, 1, 1, 1, 1, 1, 1, 1, 1, 2, 2, 2, 2, 2, 2, 1, 2, 2, 2,\n",
       "       2, 2, 2, 2, 2, 2, 2, 2, 2, 2, 2, 2, 2, 2, 2, 2, 2, 2, 2, 2, 2, 2,\n",
       "       2, 2, 2, 2, 2, 2, 2, 2, 2, 2, 2, 2, 2, 2, 2, 2, 2, 2])"
      ]
     },
     "execution_count": 124,
     "metadata": {},
     "output_type": "execute_result"
    }
   ],
   "source": [
    "y_pred = cross_val_predict(LogisticRegression(), X, y, cv=5)\n",
    "y_pred"
   ]
  },
  {
   "cell_type": "code",
   "execution_count": 125,
   "metadata": {},
   "outputs": [
    {
     "data": {
      "text/plain": [
       "0.9733333333333334"
      ]
     },
     "execution_count": 125,
     "metadata": {},
     "output_type": "execute_result"
    }
   ],
   "source": [
    "accuracy_score(y, y_pred)"
   ]
  },
  {
   "cell_type": "code",
   "execution_count": null,
   "metadata": {},
   "outputs": [],
   "source": []
  },
  {
   "cell_type": "code",
   "execution_count": null,
   "metadata": {},
   "outputs": [],
   "source": []
  },
  {
   "cell_type": "markdown",
   "metadata": {},
   "source": [
    "# Naiwny klasyfikator Bayes'a\n",
    "\n",
    "Rozważmy klasyfikację wieloklasową - $Y \\in \\{1, 2, \\ldots, K\\}$. \n",
    "\n",
    "Naiwny klasyfikator Bayesa klasyfikuje obserwacje na podstawie prawdopodobieństwa:\n",
    "\n",
    "$$p(Y = k \\mid x_1, \\dots, x_p)  = p(C_k \\mid x_1, \\dots, x_p).$$\n",
    "\n",
    "Predykcja klasyfikatora to najbardziej prawdopodobna klasa.\n",
    "\n",
    "Skąd klasyfikator bierze to prawdopodobieństwo? Oblicza je przyjmując pewne założenia...\n",
    "\n",
    "Z twierdzenia Bayesa:\n",
    "\n",
    "\n",
    "$$p(C_k \\mid \\mathbf{x}) = \\frac{p(C_k) \\ p(\\mathbf{x} \\mid C_k)}{p(\\mathbf{x})}.$$\n",
    "\n",
    "Zauważmy, że $p(\\mathbf{x})$, czyli rozkład X, jest nieistotny dla klasyfikatora, zatem: \n",
    "\n",
    "$$p(C_k \\mid \\mathbf{x}) \\sim p(C_k) \\ p(\\mathbf{x} \\mid C_k).$$\n",
    "\n",
    "$p(C_k)$ - prawdopodobieśtwo a priori klasy $C_k$ - czyli procent obserwacji w danych, dla których $Y = k$.\n",
    "\n",
    "$p(\\mathbf{x} \\mid C_k) = p(x_1, x_2, \\ldots, x_p \\mid C_k)$ - rozkład cech w pozbiorze danych, dla których $Y = C_k$.\n",
    "\n",
    "\n",
    "(**Naiwne**) założenie modelu:\n",
    "\n",
    "$$p(x_1, x_2, \\ldots, x_p \\mid C_k) = p(x_1 \\mid C_k)\\cdot p(x_2\\mid C_k) \\cdot \\ldots \\cdot p(x_p \\mid C_k)$$\n",
    "\n",
    "Zatem predykcja klasyfikatora ma postać:\n",
    "\n",
    "$$\\hat{y} = arg \\max\\limits_k  p(C_k \\mid \\mathbf{x}) = arg \\max\\limits_k p(C_k) \\prod\\limits_{i=1}^p p(x_i\\mid C_k)$$\n",
    "\n",
    "Skąd bierzemy $p(x_i\\mid C_k)$?\n",
    "\n",
    "Z postaci danych:\n",
    "- jeżeli zmienna $x_i$ jest binarna, to zakładamy, że rozkład jest dwupunktowy - prawdopodobieństwo sukcesu model wylicza empirycznie z danych,\n",
    "- jeżeli zmienna $x_i$ jest licznością, to zakładamy, że rozkład jest wielomianowy - prawdopodobieństwa poszczególnych wartości model wylicza empirycznie z danych,\n",
    "- jeżeli zmienna $x_i$ jest rzeczywista, to zakładamy, że rozkład jest normalny - parametry (średnią i wariancję) model estymuje z danych.\n",
    "\n",
    "Uwaga: ostatnie wersja w praktyce z reguły działa słabo."
   ]
  },
  {
   "cell_type": "code",
   "execution_count": 126,
   "metadata": {},
   "outputs": [],
   "source": [
    "import pandas as pd"
   ]
  },
  {
   "cell_type": "code",
   "execution_count": 127,
   "metadata": {},
   "outputs": [],
   "source": [
    "sms = pd.read_table('Dane/sms.tsv', header=None, names=['label', 'message'])"
   ]
  },
  {
   "cell_type": "code",
   "execution_count": 128,
   "metadata": {},
   "outputs": [
    {
     "data": {
      "text/html": [
       "<div>\n",
       "<style scoped>\n",
       "    .dataframe tbody tr th:only-of-type {\n",
       "        vertical-align: middle;\n",
       "    }\n",
       "\n",
       "    .dataframe tbody tr th {\n",
       "        vertical-align: top;\n",
       "    }\n",
       "\n",
       "    .dataframe thead th {\n",
       "        text-align: right;\n",
       "    }\n",
       "</style>\n",
       "<table border=\"1\" class=\"dataframe\">\n",
       "  <thead>\n",
       "    <tr style=\"text-align: right;\">\n",
       "      <th></th>\n",
       "      <th>label</th>\n",
       "      <th>message</th>\n",
       "    </tr>\n",
       "  </thead>\n",
       "  <tbody>\n",
       "    <tr>\n",
       "      <th>0</th>\n",
       "      <td>ham</td>\n",
       "      <td>Go until jurong point, crazy.. Available only ...</td>\n",
       "    </tr>\n",
       "    <tr>\n",
       "      <th>1</th>\n",
       "      <td>ham</td>\n",
       "      <td>Ok lar... Joking wif u oni...</td>\n",
       "    </tr>\n",
       "    <tr>\n",
       "      <th>2</th>\n",
       "      <td>spam</td>\n",
       "      <td>Free entry in 2 a wkly comp to win FA Cup fina...</td>\n",
       "    </tr>\n",
       "    <tr>\n",
       "      <th>3</th>\n",
       "      <td>ham</td>\n",
       "      <td>U dun say so early hor... U c already then say...</td>\n",
       "    </tr>\n",
       "    <tr>\n",
       "      <th>4</th>\n",
       "      <td>ham</td>\n",
       "      <td>Nah I don't think he goes to usf, he lives aro...</td>\n",
       "    </tr>\n",
       "    <tr>\n",
       "      <th>...</th>\n",
       "      <td>...</td>\n",
       "      <td>...</td>\n",
       "    </tr>\n",
       "    <tr>\n",
       "      <th>5567</th>\n",
       "      <td>spam</td>\n",
       "      <td>This is the 2nd time we have tried 2 contact u...</td>\n",
       "    </tr>\n",
       "    <tr>\n",
       "      <th>5568</th>\n",
       "      <td>ham</td>\n",
       "      <td>Will ü b going to esplanade fr home?</td>\n",
       "    </tr>\n",
       "    <tr>\n",
       "      <th>5569</th>\n",
       "      <td>ham</td>\n",
       "      <td>Pity, * was in mood for that. So...any other s...</td>\n",
       "    </tr>\n",
       "    <tr>\n",
       "      <th>5570</th>\n",
       "      <td>ham</td>\n",
       "      <td>The guy did some bitching but I acted like i'd...</td>\n",
       "    </tr>\n",
       "    <tr>\n",
       "      <th>5571</th>\n",
       "      <td>ham</td>\n",
       "      <td>Rofl. Its true to its name</td>\n",
       "    </tr>\n",
       "  </tbody>\n",
       "</table>\n",
       "<p>5572 rows × 2 columns</p>\n",
       "</div>"
      ],
      "text/plain": [
       "     label                                            message\n",
       "0      ham  Go until jurong point, crazy.. Available only ...\n",
       "1      ham                      Ok lar... Joking wif u oni...\n",
       "2     spam  Free entry in 2 a wkly comp to win FA Cup fina...\n",
       "3      ham  U dun say so early hor... U c already then say...\n",
       "4      ham  Nah I don't think he goes to usf, he lives aro...\n",
       "...    ...                                                ...\n",
       "5567  spam  This is the 2nd time we have tried 2 contact u...\n",
       "5568   ham               Will ü b going to esplanade fr home?\n",
       "5569   ham  Pity, * was in mood for that. So...any other s...\n",
       "5570   ham  The guy did some bitching but I acted like i'd...\n",
       "5571   ham                         Rofl. Its true to its name\n",
       "\n",
       "[5572 rows x 2 columns]"
      ]
     },
     "execution_count": 128,
     "metadata": {},
     "output_type": "execute_result"
    }
   ],
   "source": [
    "sms"
   ]
  },
  {
   "cell_type": "code",
   "execution_count": 129,
   "metadata": {},
   "outputs": [],
   "source": [
    "sms.label = sms.label.map({'spam': 1 , 'ham': 0})"
   ]
  },
  {
   "cell_type": "code",
   "execution_count": 130,
   "metadata": {},
   "outputs": [
    {
     "data": {
      "text/html": [
       "<div>\n",
       "<style scoped>\n",
       "    .dataframe tbody tr th:only-of-type {\n",
       "        vertical-align: middle;\n",
       "    }\n",
       "\n",
       "    .dataframe tbody tr th {\n",
       "        vertical-align: top;\n",
       "    }\n",
       "\n",
       "    .dataframe thead th {\n",
       "        text-align: right;\n",
       "    }\n",
       "</style>\n",
       "<table border=\"1\" class=\"dataframe\">\n",
       "  <thead>\n",
       "    <tr style=\"text-align: right;\">\n",
       "      <th></th>\n",
       "      <th>label</th>\n",
       "      <th>message</th>\n",
       "    </tr>\n",
       "  </thead>\n",
       "  <tbody>\n",
       "    <tr>\n",
       "      <th>0</th>\n",
       "      <td>0</td>\n",
       "      <td>Go until jurong point, crazy.. Available only ...</td>\n",
       "    </tr>\n",
       "    <tr>\n",
       "      <th>1</th>\n",
       "      <td>0</td>\n",
       "      <td>Ok lar... Joking wif u oni...</td>\n",
       "    </tr>\n",
       "    <tr>\n",
       "      <th>2</th>\n",
       "      <td>1</td>\n",
       "      <td>Free entry in 2 a wkly comp to win FA Cup fina...</td>\n",
       "    </tr>\n",
       "    <tr>\n",
       "      <th>3</th>\n",
       "      <td>0</td>\n",
       "      <td>U dun say so early hor... U c already then say...</td>\n",
       "    </tr>\n",
       "    <tr>\n",
       "      <th>4</th>\n",
       "      <td>0</td>\n",
       "      <td>Nah I don't think he goes to usf, he lives aro...</td>\n",
       "    </tr>\n",
       "  </tbody>\n",
       "</table>\n",
       "</div>"
      ],
      "text/plain": [
       "   label                                            message\n",
       "0      0  Go until jurong point, crazy.. Available only ...\n",
       "1      0                      Ok lar... Joking wif u oni...\n",
       "2      1  Free entry in 2 a wkly comp to win FA Cup fina...\n",
       "3      0  U dun say so early hor... U c already then say...\n",
       "4      0  Nah I don't think he goes to usf, he lives aro..."
      ]
     },
     "execution_count": 130,
     "metadata": {},
     "output_type": "execute_result"
    }
   ],
   "source": [
    "sms.head()"
   ]
  },
  {
   "cell_type": "code",
   "execution_count": 131,
   "metadata": {},
   "outputs": [
    {
     "data": {
      "text/plain": [
       "0.13406317300789664"
      ]
     },
     "execution_count": 131,
     "metadata": {},
     "output_type": "execute_result"
    }
   ],
   "source": [
    "sms.label.mean() # udział spamu we wszytskich wiadomosciach"
   ]
  },
  {
   "cell_type": "code",
   "execution_count": 132,
   "metadata": {},
   "outputs": [],
   "source": [
    "from sklearn.feature_extraction.text import CountVectorizer"
   ]
  },
  {
   "cell_type": "code",
   "execution_count": 133,
   "metadata": {},
   "outputs": [
    {
     "data": {
      "text/plain": [
       "CountVectorizer(max_features=3000)"
      ]
     },
     "execution_count": 133,
     "metadata": {},
     "output_type": "execute_result"
    }
   ],
   "source": [
    "vectorizer = CountVectorizer(max_features= 3000)\n",
    "vectorizer.fit(sms.message)"
   ]
  },
  {
   "cell_type": "code",
   "execution_count": 134,
   "metadata": {},
   "outputs": [
    {
     "data": {
      "text/plain": [
       "<5572x3000 sparse matrix of type '<class 'numpy.int64'>'\n",
       "\twith 67227 stored elements in Compressed Sparse Row format>"
      ]
     },
     "execution_count": 134,
     "metadata": {},
     "output_type": "execute_result"
    }
   ],
   "source": [
    "x = vectorizer.transform(sms.message)\n",
    "x"
   ]
  },
  {
   "cell_type": "code",
   "execution_count": 135,
   "metadata": {},
   "outputs": [
    {
     "data": {
      "text/plain": [
       "matrix([[0, 0, 0, ..., 0, 0, 0],\n",
       "        [0, 0, 0, ..., 0, 0, 0],\n",
       "        [0, 0, 0, ..., 0, 0, 0],\n",
       "        ...,\n",
       "        [0, 0, 0, ..., 0, 0, 0],\n",
       "        [0, 0, 0, ..., 0, 0, 0],\n",
       "        [0, 0, 0, ..., 0, 0, 0]], dtype=int64)"
      ]
     },
     "execution_count": 135,
     "metadata": {},
     "output_type": "execute_result"
    }
   ],
   "source": [
    "x.todense()"
   ]
  },
  {
   "cell_type": "code",
   "execution_count": 136,
   "metadata": {},
   "outputs": [
    {
     "data": {
      "text/plain": [
       "{'go': 1134,\n",
       " 'until': 2754,\n",
       " 'point': 2009,\n",
       " 'crazy': 710,\n",
       " 'available': 356,\n",
       " 'only': 1866,\n",
       " 'in': 1319,\n",
       " 'bugis': 508,\n",
       " 'great': 1166,\n",
       " 'world': 2938,\n",
       " 'la': 1439,\n",
       " 'cine': 620,\n",
       " 'there': 2614,\n",
       " 'got': 1151,\n",
       " 'wat': 2848,\n",
       " 'ok': 1853,\n",
       " 'lar': 1448,\n",
       " 'joking': 1396,\n",
       " 'wif': 2898,\n",
       " 'oni': 1864,\n",
       " 'free': 1044,\n",
       " 'entry': 899,\n",
       " 'wkly': 2920,\n",
       " 'comp': 662,\n",
       " 'to': 2661,\n",
       " 'win': 2903,\n",
       " 'fa': 944,\n",
       " 'cup': 725,\n",
       " 'final': 997,\n",
       " 'tkts': 2656,\n",
       " '21st': 82,\n",
       " 'may': 1641,\n",
       " '2005': 79,\n",
       " 'text': 2591,\n",
       " '87121': 182,\n",
       " 'receive': 2144,\n",
       " 'question': 2093,\n",
       " 'std': 2474,\n",
       " 'txt': 2722,\n",
       " 'rate': 2116,\n",
       " 'apply': 309,\n",
       " 'dun': 856,\n",
       " 'say': 2251,\n",
       " 'so': 2403,\n",
       " 'early': 862,\n",
       " 'already': 271,\n",
       " 'then': 2612,\n",
       " 'nah': 1773,\n",
       " 'don': 825,\n",
       " 'think': 2619,\n",
       " 'he': 1221,\n",
       " 'goes': 1138,\n",
       " 'usf': 2775,\n",
       " 'lives': 1519,\n",
       " 'around': 327,\n",
       " 'here': 1235,\n",
       " 'though': 2629,\n",
       " 'freemsg': 1046,\n",
       " 'hey': 1236,\n",
       " 'darling': 745,\n",
       " 'it': 1367,\n",
       " 'been': 400,\n",
       " 'week': 2865,\n",
       " 'now': 1829,\n",
       " 'and': 285,\n",
       " 'no': 1811,\n",
       " 'word': 2932,\n",
       " 'back': 371,\n",
       " 'like': 1497,\n",
       " 'some': 2410,\n",
       " 'fun': 1069,\n",
       " 'you': 2989,\n",
       " 'up': 2755,\n",
       " 'for': 1030,\n",
       " 'still': 2476,\n",
       " 'tb': 2561,\n",
       " 'xxx': 2964,\n",
       " 'send': 2289,\n",
       " '50': 131,\n",
       " 'even': 913,\n",
       " 'my': 1770,\n",
       " 'brother': 498,\n",
       " 'is': 1359,\n",
       " 'not': 1825,\n",
       " 'speak': 2440,\n",
       " 'with': 2914,\n",
       " 'me': 1647,\n",
       " 'they': 2616,\n",
       " 'treat': 2698,\n",
       " 'as': 334,\n",
       " 'per': 1946,\n",
       " 'your': 2990,\n",
       " 'request': 2182,\n",
       " 'melle': 1663,\n",
       " 'oru': 1886,\n",
       " 'minnaminunginte': 1688,\n",
       " 'nurungu': 1836,\n",
       " 'vettam': 2794,\n",
       " 'has': 1211,\n",
       " 'set': 2302,\n",
       " 'callertune': 536,\n",
       " 'all': 266,\n",
       " 'callers': 535,\n",
       " 'press': 2042,\n",
       " 'copy': 691,\n",
       " 'friends': 1054,\n",
       " 'winner': 2905,\n",
       " 'valued': 2785,\n",
       " 'network': 1794,\n",
       " 'customer': 730,\n",
       " 'have': 1215,\n",
       " 'selected': 2282,\n",
       " 'receivea': 2145,\n",
       " '900': 193,\n",
       " 'prize': 2050,\n",
       " 'reward': 2199,\n",
       " 'claim': 624,\n",
       " 'call': 530,\n",
       " 'code': 642,\n",
       " 'valid': 2781,\n",
       " '12': 51,\n",
       " 'hours': 1276,\n",
       " 'had': 1185,\n",
       " 'mobile': 1714,\n",
       " '11': 47,\n",
       " 'months': 1732,\n",
       " 'or': 1877,\n",
       " 'more': 1736,\n",
       " 'entitled': 898,\n",
       " 'update': 2756,\n",
       " 'the': 2607,\n",
       " 'latest': 1453,\n",
       " 'colour': 652,\n",
       " 'mobiles': 1715,\n",
       " 'camera': 543,\n",
       " 'co': 640,\n",
       " 'on': 1860,\n",
       " 'gonna': 1143,\n",
       " 'be': 393,\n",
       " 'home': 1259,\n",
       " 'soon': 2423,\n",
       " 'want': 2838,\n",
       " 'talk': 2553,\n",
       " 'about': 204,\n",
       " 'this': 2623,\n",
       " 'stuff': 2498,\n",
       " 'anymore': 297,\n",
       " 'tonight': 2676,\n",
       " 've': 2789,\n",
       " 'enough': 895,\n",
       " 'today': 2664,\n",
       " 'six': 2374,\n",
       " 'cash': 566,\n",
       " 'from': 1060,\n",
       " '100': 40,\n",
       " '20': 74,\n",
       " '000': 1,\n",
       " 'pounds': 2028,\n",
       " '87575': 185,\n",
       " 'cost': 695,\n",
       " '150p': 63,\n",
       " 'day': 752,\n",
       " '16': 67,\n",
       " 'reply': 2178,\n",
       " 'hl': 1248,\n",
       " 'info': 1331,\n",
       " 'urgent': 2764,\n",
       " 'won': 2926,\n",
       " 'membership': 1666,\n",
       " 'our': 1893,\n",
       " 'www': 2957,\n",
       " 'net': 1792,\n",
       " 'pobox': 2003,\n",
       " 'searching': 2268,\n",
       " 'right': 2202,\n",
       " 'words': 2933,\n",
       " 'thank': 2601,\n",
       " 'promise': 2063,\n",
       " 'wont': 2931,\n",
       " 'take': 2547,\n",
       " 'help': 1233,\n",
       " 'will': 2901,\n",
       " 'wonderful': 2928,\n",
       " 'at': 345,\n",
       " 'times': 2649,\n",
       " 'date': 748,\n",
       " 'sunday': 2518,\n",
       " 'use': 2772,\n",
       " 'credit': 713,\n",
       " 'click': 631,\n",
       " 'wap': 2842,\n",
       " 'link': 1507,\n",
       " 'next': 1802,\n",
       " 'message': 1671,\n",
       " 'http': 1284,\n",
       " 'com': 653,\n",
       " 'oh': 1851,\n",
       " 'watching': 2850,\n",
       " 'eh': 875,\n",
       " 'remember': 2169,\n",
       " 'how': 1278,\n",
       " 'spell': 2445,\n",
       " 'his': 1244,\n",
       " 'name': 1775,\n",
       " 'yes': 2978,\n",
       " 'did': 785,\n",
       " 'naughty': 1783,\n",
       " 'make': 1603,\n",
       " 'wet': 2879,\n",
       " 'fine': 1000,\n",
       " 'if': 1308,\n",
       " 'that': 2605,\n",
       " 'way': 2853,\n",
       " 'feel': 974,\n",
       " 'its': 1369,\n",
       " 'england': 891,\n",
       " 'dont': 827,\n",
       " 'miss': 1697,\n",
       " 'team': 2569,\n",
       " 'news': 1801,\n",
       " 'ur': 2761,\n",
       " 'national': 1780,\n",
       " '87077': 181,\n",
       " 'eg': 872,\n",
       " 'try': 2707,\n",
       " 'wales': 2828,\n",
       " 'scotland': 2261,\n",
       " 'seriously': 2299,\n",
       " 'going': 1140,\n",
       " 'ha': 1184,\n",
       " 'pay': 1933,\n",
       " 'first': 1006,\n",
       " 'when': 2883,\n",
       " 'da': 736,\n",
       " 'stock': 2477,\n",
       " 'comin': 658,\n",
       " 'aft': 236,\n",
       " 'finish': 1002,\n",
       " 'lunch': 1577,\n",
       " 'str': 2487,\n",
       " 'down': 832,\n",
       " 'lor': 1540,\n",
       " 'ard': 317,\n",
       " 'smth': 2399,\n",
       " 'alright': 272,\n",
       " 'can': 545,\n",
       " 'meet': 1659,\n",
       " 'sooner': 2424,\n",
       " 'just': 1406,\n",
       " 'myself': 1771,\n",
       " 'eat': 866,\n",
       " 'really': 2134,\n",
       " 'hungry': 1289,\n",
       " 'tho': 2627,\n",
       " 'sucks': 2510,\n",
       " 'mark': 1621,\n",
       " 'getting': 1115,\n",
       " 'worried': 2939,\n",
       " 'knows': 1435,\n",
       " 'sick': 2349,\n",
       " 'turn': 2716,\n",
       " 'pizza': 1981,\n",
       " 'lol': 1530,\n",
       " 'always': 275,\n",
       " 'catch': 568,\n",
       " 'bus': 512,\n",
       " 'are': 318,\n",
       " 'frying': 1062,\n",
       " 'an': 284,\n",
       " 'egg': 873,\n",
       " 'tea': 2565,\n",
       " 'eating': 869,\n",
       " 'mom': 1722,\n",
       " 'left': 1472,\n",
       " 'over': 1898,\n",
       " 'dinner': 798,\n",
       " 'do': 812,\n",
       " 'love': 1554,\n",
       " 'amp': 282,\n",
       " 'we': 2855,\n",
       " 're': 2122,\n",
       " 'car': 552,\n",
       " 'll': 1521,\n",
       " 'let': 1482,\n",
       " 'know': 1433,\n",
       " 'room': 2217,\n",
       " 'work': 2934,\n",
       " 'what': 2880,\n",
       " 'does': 816,\n",
       " 'wait': 2823,\n",
       " 'clear': 629,\n",
       " 'were': 2878,\n",
       " 'sure': 2530,\n",
       " 'being': 408,\n",
       " 'why': 2896,\n",
       " 'doesn': 817,\n",
       " 'live': 1517,\n",
       " 'us': 2770,\n",
       " 'yeah': 2972,\n",
       " 'was': 2845,\n",
       " 'out': 1894,\n",
       " 'she': 2315,\n",
       " 'child': 608,\n",
       " 'caught': 570,\n",
       " 'till': 2647,\n",
       " 'but': 515,\n",
       " 'doing': 823,\n",
       " 'too': 2678,\n",
       " 'cheers': 604,\n",
       " 'tell': 2576,\n",
       " 'anything': 300,\n",
       " 'fear': 971,\n",
       " 'of': 1844,\n",
       " 'quick': 2096,\n",
       " 'thanks': 2602,\n",
       " 'subscription': 2507,\n",
       " 'ringtone': 2204,\n",
       " 'uk': 2733,\n",
       " 'charged': 591,\n",
       " 'month': 1730,\n",
       " 'please': 1994,\n",
       " 'confirm': 674,\n",
       " 'by': 522,\n",
       " 'replying': 2179,\n",
       " 'yup': 2998,\n",
       " 'look': 1535,\n",
       " 'msg': 1751,\n",
       " 'again': 240,\n",
       " 'xuhui': 2962,\n",
       " 'learn': 1465,\n",
       " '2nd': 98,\n",
       " 'her': 1234,\n",
       " 'lesson': 1480,\n",
       " 'oops': 1869,\n",
       " 'roommate': 2218,\n",
       " 'done': 826,\n",
       " 'see': 2276,\n",
       " 'letter': 1484,\n",
       " 'decide': 763,\n",
       " 'hello': 1232,\n",
       " 'saturday': 2245,\n",
       " 'texting': 2594,\n",
       " 'decided': 764,\n",
       " 'tomo': 2672,\n",
       " 'trying': 2708,\n",
       " 'invite': 1350,\n",
       " 'pls': 1998,\n",
       " 'ahead': 248,\n",
       " 'wanted': 2839,\n",
       " 'weekend': 2866,\n",
       " 'abiola': 202,\n",
       " 'forget': 1035,\n",
       " 'need': 1788,\n",
       " 'crave': 709,\n",
       " 'most': 1740,\n",
       " 'sweet': 2535,\n",
       " 'yummy': 2995,\n",
       " 'tried': 2700,\n",
       " 'sms': 2398,\n",
       " 'nokia': 1815,\n",
       " 'camcorder': 541,\n",
       " '08000930705': 11,\n",
       " 'delivery': 775,\n",
       " 'tomorrow': 2673,\n",
       " 'who': 2892,\n",
       " 'seeing': 2277,\n",
       " 'hope': 1266,\n",
       " 'man': 1610,\n",
       " 'well': 2873,\n",
       " 'am': 277,\n",
       " 'lt': 1572,\n",
       " 'gt': 1174,\n",
       " 'inches': 1322,\n",
       " 'calls': 539,\n",
       " 'messages': 1672,\n",
       " 'missed': 1698,\n",
       " 'didn': 786,\n",
       " 'get': 1112,\n",
       " 'nigeria': 1806,\n",
       " 'fair': 949,\n",
       " 'hopefully': 1267,\n",
       " 'tyler': 2727,\n",
       " 'could': 698,\n",
       " 'maybe': 1643,\n",
       " 'ask': 336,\n",
       " 'bit': 434,\n",
       " 'hospital': 1271,\n",
       " 'kept': 1417,\n",
       " 'telling': 2577,\n",
       " 'weak': 2856,\n",
       " 'time': 2648,\n",
       " 'saw': 2250,\n",
       " 'class': 626,\n",
       " 'gram': 1161,\n",
       " 'usually': 2778,\n",
       " 'runs': 2231,\n",
       " 'half': 1192,\n",
       " 'gets': 1113,\n",
       " 'almost': 268,\n",
       " 'whole': 2893,\n",
       " 'second': 2272,\n",
       " 'fyi': 1074,\n",
       " 'ride': 2201,\n",
       " 'morning': 1738,\n",
       " 'place': 1982,\n",
       " 'wow': 2947,\n",
       " 'never': 1798,\n",
       " 'realized': 2133,\n",
       " 'embarassed': 882,\n",
       " 'thought': 2630,\n",
       " 'liked': 1498,\n",
       " 'since': 2362,\n",
       " 'best': 414,\n",
       " 'seemed': 2279,\n",
       " 'happy': 1207,\n",
       " 'sorry': 2426,\n",
       " 'give': 1126,\n",
       " 'ac': 207,\n",
       " 'new': 1799,\n",
       " 'red': 2152,\n",
       " 'play': 1989,\n",
       " 'ice': 1301,\n",
       " 'correct': 693,\n",
       " 'end': 884,\n",
       " 'yesterday': 2980,\n",
       " 'find': 999,\n",
       " 'url': 2767,\n",
       " 'congrats': 676,\n",
       " 'year': 2973,\n",
       " 'special': 2441,\n",
       " 'cinema': 621,\n",
       " 'pass': 1925,\n",
       " 'yours': 2991,\n",
       " '09061209465': 33,\n",
       " 'suprman': 2528,\n",
       " 'matrix3': 1635,\n",
       " 'starwars3': 2469,\n",
       " 'etc': 909,\n",
       " 'bx420': 521,\n",
       " 'ip4': 1355,\n",
       " '5we': 143,\n",
       " '150pm': 64,\n",
       " 'later': 1452,\n",
       " 'meeting': 1661,\n",
       " 'where': 2886,\n",
       " 'reached': 2124,\n",
       " 'series': 2297,\n",
       " 'pick': 1965,\n",
       " 'burger': 511,\n",
       " 'yourself': 2992,\n",
       " 'move': 1743,\n",
       " 'pain': 1908,\n",
       " 'good': 1144,\n",
       " 'joke': 1394,\n",
       " 'girls': 1124,\n",
       " 'situation': 2373,\n",
       " 'part': 1921,\n",
       " 'checking': 602,\n",
       " 'iq': 1357,\n",
       " 'roommates': 2219,\n",
       " 'took': 2679,\n",
       " 'forever': 1033,\n",
       " 'come': 655,\n",
       " 'double': 831,\n",
       " 'check': 600,\n",
       " 'hair': 1190,\n",
       " 'dresser': 839,\n",
       " 'said': 2237,\n",
       " 'wun': 2956,\n",
       " 'cut': 731,\n",
       " 'short': 2331,\n",
       " 'nice': 1804,\n",
       " 'pleased': 1995,\n",
       " 'advise': 232,\n",
       " 'following': 1024,\n",
       " 'recent': 2148,\n",
       " 'review': 2198,\n",
       " 'mob': 1713,\n",
       " 'awarded': 364,\n",
       " '1500': 62,\n",
       " 'bonus': 458,\n",
       " 'song': 2419,\n",
       " 'which': 2889,\n",
       " 'valuable': 2783,\n",
       " 'frnds': 1058,\n",
       " 'rply': 2224,\n",
       " 'complimentary': 667,\n",
       " 'trip': 2701,\n",
       " '1000': 41,\n",
       " 'dis': 803,\n",
       " '18': 68,\n",
       " '10': 39,\n",
       " 'ls1': 1570,\n",
       " 'hear': 1224,\n",
       " 'comes': 657,\n",
       " 'plane': 1985,\n",
       " 'wah': 2822,\n",
       " 'lucky': 1575,\n",
       " 'save': 2248,\n",
       " 'money': 1728,\n",
       " 'hee': 1228,\n",
       " 'finished': 1003,\n",
       " 'hi': 1238,\n",
       " 'babe': 368,\n",
       " 'im': 1313,\n",
       " 'wanna': 2837,\n",
       " 'something': 2415,\n",
       " 'xx': 2963,\n",
       " 'waiting': 2825,\n",
       " 'machan': 1591,\n",
       " 'once': 1861,\n",
       " 'thats': 2606,\n",
       " 'cool': 690,\n",
       " 'gentleman': 1107,\n",
       " 'dignity': 796,\n",
       " 'respect': 2185,\n",
       " 'very': 2793,\n",
       " 'much': 1760,\n",
       " 'shy': 2347,\n",
       " 'pa': 1901,\n",
       " 'after': 237,\n",
       " 'same': 2241,\n",
       " 'looking': 1538,\n",
       " 'job': 1390,\n",
       " 'ta': 2544,\n",
       " 'ah': 246,\n",
       " 'stop': 2481,\n",
       " 'urgnt': 2766,\n",
       " 'real': 2129,\n",
       " 'yo': 2985,\n",
       " 'tickets': 2644,\n",
       " 'one': 1862,\n",
       " 'used': 2773,\n",
       " 'started': 2466,\n",
       " 'requests': 2183,\n",
       " 'came': 542,\n",
       " 'bed': 398,\n",
       " 'coins': 644,\n",
       " 'gotta': 1153,\n",
       " 'kano': 1411,\n",
       " 'il': 1311,\n",
       " 'download': 833,\n",
       " 'wen': 2875,\n",
       " 'stand': 2461,\n",
       " 'close': 634,\n",
       " 'another': 288,\n",
       " 'night': 1807,\n",
       " 'spent': 2448,\n",
       " 'late': 1451,\n",
       " 'afternoon': 238,\n",
       " 'means': 1651,\n",
       " 'haven': 1216,\n",
       " 'any': 295,\n",
       " 'sheets': 2316,\n",
       " 'smile': 2392,\n",
       " 'pleasure': 1996,\n",
       " 'trouble': 2702,\n",
       " 'rain': 2105,\n",
       " 'sum1': 2515,\n",
       " 'hurts': 1293,\n",
       " 'becoz': 397,\n",
       " 'someone': 2413,\n",
       " 'loves': 1562,\n",
       " 'smiling': 2394,\n",
       " 'service': 2300,\n",
       " 'representative': 2181,\n",
       " '0800': 9,\n",
       " 'between': 418,\n",
       " '10am': 44,\n",
       " '9pm': 197,\n",
       " 'guaranteed': 1175,\n",
       " '5000': 133,\n",
       " 'havent': 1217,\n",
       " 'planning': 1987,\n",
       " 'buy': 517,\n",
       " 'lido': 1489,\n",
       " '530': 137,\n",
       " 'show': 2340,\n",
       " 'collected': 648,\n",
       " 'simply': 2361,\n",
       " 'password': 1928,\n",
       " 'mix': 1705,\n",
       " 'verify': 2791,\n",
       " 'fml': 1021,\n",
       " 'po': 2002,\n",
       " 'box': 478,\n",
       " 'mk17': 1706,\n",
       " 'movie': 1745,\n",
       " 'abt': 205,\n",
       " 'loads': 1523,\n",
       " 'wk': 2918,\n",
       " 'hols': 1258,\n",
       " 'run': 2229,\n",
       " 'forgot': 1036,\n",
       " 'appointment': 310,\n",
       " 'four': 1040,\n",
       " 'shower': 2341,\n",
       " 'cause': 571,\n",
       " 'prob': 2051,\n",
       " 'coffee': 643,\n",
       " 'nothing': 1827,\n",
       " 'else': 878,\n",
       " 'okay': 1854,\n",
       " 'price': 2047,\n",
       " 'long': 1533,\n",
       " 'legal': 1473,\n",
       " 'them': 2610,\n",
       " 'ave': 358,\n",
       " 'gone': 1142,\n",
       " 'driving': 845,\n",
       " 'test': 2589,\n",
       " 'yet': 2981,\n",
       " 'mean': 1649,\n",
       " 'guess': 1178,\n",
       " 'gave': 1094,\n",
       " 'boston': 470,\n",
       " 'men': 1667,\n",
       " 'changed': 587,\n",
       " 'search': 2267,\n",
       " 'nyc': 1840,\n",
       " 'cuz': 734,\n",
       " 'page': 1905,\n",
       " 'says': 2253,\n",
       " 'umma': 2735,\n",
       " 'life': 1491,\n",
       " 'vava': 2788,\n",
       " 'lot': 1546,\n",
       " 'dear': 757,\n",
       " 'wishes': 2911,\n",
       " 'birthday': 432,\n",
       " 'making': 1606,\n",
       " 'truly': 2704,\n",
       " 'aight': 250,\n",
       " 'hit': 1246,\n",
       " 'would': 2945,\n",
       " 'address': 226,\n",
       " 'considering': 680,\n",
       " 'computer': 668,\n",
       " 'isn': 1363,\n",
       " 'old': 1857,\n",
       " 'people': 1945,\n",
       " 'better': 417,\n",
       " 'jokes': 1395,\n",
       " 'worry': 2941,\n",
       " 'busy': 514,\n",
       " 'research': 2184,\n",
       " 'cos': 694,\n",
       " 'things': 2618,\n",
       " 'scared': 2254,\n",
       " 'mah': 1598,\n",
       " 'loud': 1549,\n",
       " 'gent': 1105,\n",
       " 'contact': 682,\n",
       " 'last': 1450,\n",
       " 'weekends': 2867,\n",
       " 'draw': 835,\n",
       " 'shows': 2343,\n",
       " 'k52': 1408,\n",
       " '12hrs': 55,\n",
       " '150ppm': 66,\n",
       " 'wa': 2821,\n",
       " 'sentence': 2294,\n",
       " 'anyway': 302,\n",
       " 'juz': 1407,\n",
       " 'tt': 2712,\n",
       " 'eatin': 868,\n",
       " 'puttin': 2087,\n",
       " 'weight': 2870,\n",
       " 'haha': 1187,\n",
       " 'anythin': 299,\n",
       " 'happened': 1203,\n",
       " 'entered': 897,\n",
       " 'cabin': 524,\n",
       " 'boss': 469,\n",
       " 'felt': 981,\n",
       " 'askd': 337,\n",
       " 'invited': 1351,\n",
       " 'apartment': 305,\n",
       " 'went': 2876,\n",
       " 'specially': 2442,\n",
       " 'holiday': 1256,\n",
       " 'flights': 1017,\n",
       " 'inc': 1321,\n",
       " 'operator': 1871,\n",
       " 'min': 1683,\n",
       " 'must': 1768,\n",
       " 'friday': 1052,\n",
       " 'needed': 1789,\n",
       " 'hmm': 1249,\n",
       " 'uncle': 2739,\n",
       " 'informed': 1334,\n",
       " 'paying': 1934,\n",
       " 'school': 2258,\n",
       " 'directly': 801,\n",
       " 'food': 1026,\n",
       " 'private': 2049,\n",
       " '2004': 78,\n",
       " 'account': 214,\n",
       " 'statement': 2470,\n",
       " '786': 153,\n",
       " 'unredeemed': 2750,\n",
       " 'points': 2010,\n",
       " 'identifier': 1305,\n",
       " '45239': 123,\n",
       " 'expires': 938,\n",
       " '2000': 76,\n",
       " 'caller': 534,\n",
       " '03': 4,\n",
       " 'landline': 1446,\n",
       " 'todays': 2665,\n",
       " 'voda': 2806,\n",
       " 'numbers': 1835,\n",
       " 'ending': 886,\n",
       " '350': 108,\n",
       " 'award': 363,\n",
       " 'match': 1629,\n",
       " '08712300220': 23,\n",
       " 'quoting': 2102,\n",
       " 'standard': 2462,\n",
       " 'rates': 2117,\n",
       " 'app': 307,\n",
       " 'mu': 1759,\n",
       " 'buying': 518,\n",
       " 'yetunde': 2982,\n",
       " 'hasn': 1212,\n",
       " 'sent': 2293,\n",
       " 'bother': 472,\n",
       " 'sending': 2291,\n",
       " 'shouldn': 2337,\n",
       " 'apologise': 306,\n",
       " 'girl': 1122,\n",
       " 'del': 770,\n",
       " 'bak': 376,\n",
       " 'answer': 291,\n",
       " 'sunshine': 2520,\n",
       " 'quiz': 2100,\n",
       " 'top': 2680,\n",
       " 'sony': 2421,\n",
       " 'dvd': 859,\n",
       " 'player': 1991,\n",
       " 'country': 700,\n",
       " 'ansr': 290,\n",
       " '82277': 167,\n",
       " 'sp': 2437,\n",
       " 'tyrone': 2729,\n",
       " 'laid': 1444,\n",
       " 'dogging': 820,\n",
       " 'locations': 1526,\n",
       " 'direct': 800,\n",
       " 'join': 1392,\n",
       " 'largest': 1449,\n",
       " 'bt': 502,\n",
       " 'txting': 2725,\n",
       " 'nt': 1830,\n",
       " 'ec2a': 870,\n",
       " 'haf': 1186,\n",
       " 'yijue': 2983,\n",
       " 'him': 1241,\n",
       " 'rooms': 2220,\n",
       " 'befor': 402,\n",
       " 'activities': 219,\n",
       " 'msgs': 1754,\n",
       " 'chat': 595,\n",
       " 'hardcore': 1209,\n",
       " 'services': 2301,\n",
       " 'age': 242,\n",
       " 'yr': 2993,\n",
       " 'lazy': 1459,\n",
       " 'type': 2728,\n",
       " 'lect': 1470,\n",
       " 'sir': 2367,\n",
       " 'mail': 1600,\n",
       " 'swt': 2540,\n",
       " 'tired': 2651,\n",
       " 'little': 1516,\n",
       " 'lovable': 1553,\n",
       " 'persons': 1952,\n",
       " 'coz': 704,\n",
       " 'those': 2628,\n",
       " 'biggest': 425,\n",
       " 'their': 2609,\n",
       " 'gud': 1176,\n",
       " 'ni8': 1803,\n",
       " 'open': 1870,\n",
       " 'ya': 2967,\n",
       " 'dot': 830,\n",
       " 'whats': 2882,\n",
       " 'staff': 2459,\n",
       " 'taking': 2551,\n",
       " 'replied': 2177,\n",
       " 'sexy': 2308,\n",
       " 'female': 982,\n",
       " 'local': 1525,\n",
       " 'luv': 1578,\n",
       " 'netcollex': 1793,\n",
       " 'ltd': 1573,\n",
       " 'begin': 404,\n",
       " 'qatar': 2089,\n",
       " 'pray': 2036,\n",
       " 'hard': 1208,\n",
       " 'deleted': 771,\n",
       " 'birla': 430,\n",
       " 'soft': 2406,\n",
       " 'wine': 2904,\n",
       " 'thk': 2624,\n",
       " 'floor': 1019,\n",
       " 'shirt': 2323,\n",
       " 'sometimes': 2417,\n",
       " 'dream': 836,\n",
       " 'without': 2916,\n",
       " 'joy': 1399,\n",
       " 'lots': 1548,\n",
       " 'tv': 2718,\n",
       " 'become': 396,\n",
       " 'leaving': 1469,\n",
       " 'house': 1277,\n",
       " 'interview': 1347,\n",
       " 'boy': 482,\n",
       " 'missing': 1700,\n",
       " 'years': 2974,\n",
       " 'arrange': 328,\n",
       " 'keep': 1415,\n",
       " 'safe': 2236,\n",
       " 'because': 395,\n",
       " 'everyone': 918,\n",
       " 'parents': 1916,\n",
       " 'hand': 1195,\n",
       " 'each': 860,\n",
       " 'spend': 2446,\n",
       " 'inviting': 1352,\n",
       " 'friend': 1053,\n",
       " '434': 121,\n",
       " 'frnd': 1057,\n",
       " '62468': 145,\n",
       " 'order': 1881,\n",
       " 'should': 2336,\n",
       " 'content': 684,\n",
       " 'goto': 1152,\n",
       " 'internet': 1346,\n",
       " 'menu': 1669,\n",
       " 'wit': 2913,\n",
       " 'escape': 904,\n",
       " 'fancy': 954,\n",
       " 'needs': 1790,\n",
       " 'completely': 666,\n",
       " 'also': 274,\n",
       " 'waste': 2847,\n",
       " 'bank': 378,\n",
       " 'hmmm': 1250,\n",
       " 'hop': 1265,\n",
       " 'muz': 1769,\n",
       " 'discuss': 805,\n",
       " 'liao': 1486,\n",
       " 'coming': 659,\n",
       " 'bloody': 449,\n",
       " 'hell': 1230,\n",
       " 'cant': 550,\n",
       " 'believe': 409,\n",
       " 'mr': 1748,\n",
       " 'ill': 1312,\n",
       " 'spanish': 2439,\n",
       " 'bath': 384,\n",
       " 'carlos': 561,\n",
       " 'mall': 1609,\n",
       " 'turns': 2717,\n",
       " 'staying': 2473,\n",
       " 'til': 2646,\n",
       " 'smoke': 2395,\n",
       " 'worth': 2943,\n",
       " 'doesnt': 818,\n",
       " 'log': 1527,\n",
       " 'spoke': 2451,\n",
       " 'maneesha': 1616,\n",
       " 'satisfied': 2244,\n",
       " 'experience': 937,\n",
       " 'toll': 2669,\n",
       " 'offer': 1846,\n",
       " 'especially': 906,\n",
       " 'studying': 2497,\n",
       " 'anyways': 303,\n",
       " 'gr8': 1157,\n",
       " 'trust': 2705,\n",
       " 'guys': 1182,\n",
       " 'bye': 523,\n",
       " 'working': 2936,\n",
       " 'towards': 2689,\n",
       " 'mummy': 1762,\n",
       " 'boytoy': 485,\n",
       " 'awesome': 366,\n",
       " 'minute': 1690,\n",
       " 'freephone': 1047,\n",
       " '0808': 15,\n",
       " '145': 58,\n",
       " '4742': 124,\n",
       " '9am': 195,\n",
       " '11pm': 50,\n",
       " 'xmas': 2961,\n",
       " 'radio': 2103,\n",
       " 'jus': 1405,\n",
       " 'bathe': 385,\n",
       " 'sis': 2368,\n",
       " 'using': 2776,\n",
       " 'finishes': 1004,\n",
       " 'unique': 2746,\n",
       " 'august': 353,\n",
       " 'joined': 1393,\n",
       " 'touch': 2685,\n",
       " 'deal': 756,\n",
       " 'personal': 1950,\n",
       " 'finally': 998,\n",
       " 'course': 702,\n",
       " 'itself': 1370,\n",
       " 'however': 1279,\n",
       " 'suggest': 2512,\n",
       " 'able': 203,\n",
       " 'every': 916,\n",
       " 'settled': 2305,\n",
       " 'mrng': 1749,\n",
       " 'hav': 1214,\n",
       " 'story': 2486,\n",
       " 'dead': 755,\n",
       " 'tmr': 2659,\n",
       " 'orchard': 1880,\n",
       " 'mrt': 1750,\n",
       " 'kate': 1413,\n",
       " 'evening': 914,\n",
       " 'found': 1039,\n",
       " 'bucks': 504,\n",
       " 'darlin': 744,\n",
       " 'ive': 1372,\n",
       " 'college': 651,\n",
       " 'successfully': 2509,\n",
       " 'decimal': 765,\n",
       " 'balance': 377,\n",
       " 'rs': 2225,\n",
       " 'transaction': 2694,\n",
       " 'id': 1302,\n",
       " 'goodmorning': 1145,\n",
       " 'sleeping': 2385,\n",
       " 'dat': 747,\n",
       " 'oso': 1888,\n",
       " 'cannot': 549,\n",
       " 'oredi': 1883,\n",
       " 'straight': 2488,\n",
       " 'connection': 679,\n",
       " 'before': 403,\n",
       " 'bill': 426,\n",
       " 'both': 471,\n",
       " 'shoot': 2328,\n",
       " 'big': 423,\n",
       " 'ready': 2128,\n",
       " 'break': 488,\n",
       " 'semester': 2287,\n",
       " 'study': 2496,\n",
       " 'noe': 1814,\n",
       " 'leh': 1475,\n",
       " 'sounds': 2433,\n",
       " 'slept': 2386,\n",
       " 'past': 1930,\n",
       " 'few': 985,\n",
       " 'nights': 1808,\n",
       " 'easy': 865,\n",
       " 'sen': 2288,\n",
       " 'exam': 925,\n",
       " 'march': 1619,\n",
       " 'atm': 348,\n",
       " 'register': 2159,\n",
       " 'os': 1887,\n",
       " 'called': 533,\n",
       " 'important': 1317,\n",
       " 'files': 992,\n",
       " 'system': 2543,\n",
       " 'shop': 2329,\n",
       " 'happen': 1201,\n",
       " 'romantic': 2215,\n",
       " 'nite': 1810,\n",
       " '500': 132,\n",
       " '89545': 189,\n",
       " 'collect': 647,\n",
       " 'tc': 2562,\n",
       " 'biz': 437,\n",
       " '2optout': 100,\n",
       " '087187262701': 29,\n",
       " '50gbp': 134,\n",
       " 'mtmsg18': 1757,\n",
       " 'appreciate': 311,\n",
       " 'partner': 1922,\n",
       " 'career': 556,\n",
       " 'off': 1845,\n",
       " 'start': 2465,\n",
       " 'followed': 1023,\n",
       " 'sign': 2353,\n",
       " 'company': 663,\n",
       " 'than': 2599,\n",
       " 'teacher': 2567,\n",
       " 'bcoz': 390,\n",
       " 'teaches': 2568,\n",
       " 'lessons': 1481,\n",
       " 'walk': 2829,\n",
       " 'cross': 716,\n",
       " ...}"
      ]
     },
     "execution_count": 136,
     "metadata": {},
     "output_type": "execute_result"
    }
   ],
   "source": [
    "vectorizer.vocabulary_  # która kolumna odpowiada za jakieś słowo"
   ]
  },
  {
   "cell_type": "code",
   "execution_count": 137,
   "metadata": {},
   "outputs": [],
   "source": [
    "vocabulary = vectorizer.vocabulary_"
   ]
  },
  {
   "cell_type": "code",
   "execution_count": 138,
   "metadata": {},
   "outputs": [
    {
     "data": {
      "text/plain": [
       "1134"
      ]
     },
     "execution_count": 138,
     "metadata": {},
     "output_type": "execute_result"
    }
   ],
   "source": [
    "vocabulary['go'] # go znajduje się na 1134 pozycji"
   ]
  },
  {
   "cell_type": "code",
   "execution_count": null,
   "metadata": {},
   "outputs": [],
   "source": []
  },
  {
   "cell_type": "code",
   "execution_count": null,
   "metadata": {},
   "outputs": [],
   "source": []
  },
  {
   "cell_type": "markdown",
   "metadata": {},
   "source": [
    "# Case study\n",
    "\n",
    "Dane\n",
    "\n",
    "http://www.ritchieng.com/machine-learning-multinomial-naive-bayes-vectorization/"
   ]
  },
  {
   "cell_type": "code",
   "execution_count": 139,
   "metadata": {},
   "outputs": [],
   "source": [
    "sms = pd.read_table('Dane/sms.tsv', header=None, names=['label', 'message'])"
   ]
  },
  {
   "cell_type": "code",
   "execution_count": null,
   "metadata": {},
   "outputs": [],
   "source": []
  },
  {
   "cell_type": "markdown",
   "metadata": {
    "collapsed": true
   },
   "source": [
    "# Cel: zaimplementować w pełni zautomatyzowane znajdowanie najlepszego modelu\n",
    "\n",
    "Na samym początku wydzielić 1000 obserwacji na zbiór testowy, na którym na samym końcu przetestujemy najlepszy model. Podczas szukania najlepszego modelu nie dotykamy tego zbioru!\n",
    "\n",
    "Wejście:\n",
    "- lista modeli w postaci ogólnie, którą podaje się do funkcji Pipeline (czyili listy krotek dwuelementwych),\n",
    "- lista siatek parametrów, które chcemy zbadać, dla odpowiadająych modeli,\n",
    "\n",
    "Wyjście \n",
    "- na zbiorze testowym policzyć accuracy najlepszego modelu.\n",
    "\n",
    "**Ważne** Każdą analizę (szukanie najlepszego modelu) zawsze należy zacząć od wyznaczenia punktu odniesienia. Czym powinien być punkt odniesienia? Jest to <u>prosta</u> metoda predykcji lub wręcz trywialna. Opcja 1: prosty klasyfikator z parametrami domyślnymi. Opcja 2. Predykcja trywialna - bezmodelowa, np. predykcja stała klasą dominującą (przykładowo jeżeli w danych jest np. $70\\%$ oberwacji klasy 1, to predykcja stała równa 1 będzie miała accuracy $70\\%$).\n",
    "\n",
    "Zatem krok pierwszy - obliczenie baseline."
   ]
  },
  {
   "cell_type": "code",
   "execution_count": 140,
   "metadata": {},
   "outputs": [],
   "source": [
    "X_train, X_test, y_train, y_test = train_test_split(sms.message, sms.label, test_size = 1000)"
   ]
  },
  {
   "cell_type": "code",
   "execution_count": 141,
   "metadata": {},
   "outputs": [
    {
     "data": {
      "text/plain": [
       "478                    Tension ah?what machi?any problem?\n",
       "5242                                  Hmm thinking lor...\n",
       "4172    Pls what's the full name of joke's school cos ...\n",
       "2593    My friend just got here and says he's upping h...\n",
       "3708                 Aight do you still want to get money\n",
       "                              ...                        \n",
       "3770    Was gr8 to see that message. So when r u leavi...\n",
       "129     HEY GIRL. HOW R U? HOPE U R WELL ME AN DEL R B...\n",
       "3504     Free any day but i finish at 6 on mon n thurs...\n",
       "1329     My exam is for february 4. Wish you a great day.\n",
       "4872                  Well. You know what i mean. Texting\n",
       "Name: message, Length: 4572, dtype: object"
      ]
     },
     "execution_count": 141,
     "metadata": {},
     "output_type": "execute_result"
    }
   ],
   "source": [
    "X_train"
   ]
  },
  {
   "cell_type": "code",
   "execution_count": 142,
   "metadata": {},
   "outputs": [],
   "source": [
    "# model baseline - domyślne parametry regresji logistycznej"
   ]
  },
  {
   "cell_type": "code",
   "execution_count": 143,
   "metadata": {},
   "outputs": [
    {
     "data": {
      "text/plain": [
       "Pipeline(steps=[('vectorizer', CountVectorizer(max_features=3000)),\n",
       "                ('scaler', StandardScaler(with_mean=False)),\n",
       "                ('estimator', LogisticRegression())])"
      ]
     },
     "execution_count": 143,
     "metadata": {},
     "output_type": "execute_result"
    }
   ],
   "source": [
    "baseline = Pipeline( steps=[\n",
    "    ('vectorizer', CountVectorizer(max_features=3000)),\n",
    "    ('scaler', StandardScaler(with_mean=False)),\n",
    "    ('estimator', LogisticRegression())\n",
    "])\n",
    "baseline.fit(X_train, y_train)"
   ]
  },
  {
   "cell_type": "code",
   "execution_count": 144,
   "metadata": {},
   "outputs": [
    {
     "data": {
      "text/plain": [
       "0.981"
      ]
     },
     "execution_count": 144,
     "metadata": {},
     "output_type": "execute_result"
    }
   ],
   "source": [
    "accuracy_score(y_test, baseline.predict(X_test)) # bardzo wysoki próg wejścia "
   ]
  },
  {
   "cell_type": "code",
   "execution_count": 145,
   "metadata": {},
   "outputs": [],
   "source": [
    "# znajdzmy lepszy model"
   ]
  },
  {
   "cell_type": "code",
   "execution_count": 146,
   "metadata": {},
   "outputs": [],
   "source": [
    "from sklearn.naive_bayes import MultinomialNB\n",
    "models = [\n",
    "    [ ('scaler', StandardScaler(with_mean=False)), ('estimator', LogisticRegression())],\n",
    "    [('tree', DecisionTreeClassifier())],\n",
    "    [('naive_bayes', MultinomialNB())]\n",
    "]\n",
    "\n",
    "param_grid = [\n",
    "    {'scaler__with_std': [True, False],\n",
    "     'estimator__C': [0.01, 0.1, 1, 10, 100]\n",
    "    },\n",
    "    {\n",
    "     'tree__min_samples_leaf': [5, 10, 30, 50]\n",
    "    },\n",
    "    {}\n",
    "]"
   ]
  },
  {
   "cell_type": "code",
   "execution_count": 147,
   "metadata": {},
   "outputs": [],
   "source": [
    "vectorizer = [('vectorizer', CountVectorizer(max_features=3000))]"
   ]
  },
  {
   "cell_type": "code",
   "execution_count": 148,
   "metadata": {},
   "outputs": [],
   "source": [
    "best_models = []\n",
    "\n",
    "for pipe, params in zip(models, param_grid):\n",
    "    pipeline = Pipeline(vectorizer + pipe)\n",
    "    \n",
    "    gs = GridSearchCV(estimator=pipeline, param_grid=params, cv=10)\n",
    "    gs.fit(X_train, y_train)\n",
    "    \n",
    "    best_models.append(gs.best_estimator_)"
   ]
  },
  {
   "cell_type": "code",
   "execution_count": 149,
   "metadata": {},
   "outputs": [
    {
     "name": "stdout",
     "output_type": "stream",
     "text": [
      "0.987\n",
      "0.968\n",
      "0.984\n"
     ]
    }
   ],
   "source": [
    "for model in best_models:\n",
    "    print(accuracy_score(y_test, model.predict(X_test)))"
   ]
  },
  {
   "cell_type": "code",
   "execution_count": 150,
   "metadata": {},
   "outputs": [
    {
     "data": {
      "text/plain": [
       "([0, 1, 2, 3, 4, 5, 6, 7, 8, 9, 10, 11, 12, 13, 14, 15, 16, 17, 18, 19],\n",
       " [Text(0, 0, ''),\n",
       "  Text(0, 0, ''),\n",
       "  Text(0, 0, ''),\n",
       "  Text(0, 0, ''),\n",
       "  Text(0, 0, ''),\n",
       "  Text(0, 0, ''),\n",
       "  Text(0, 0, ''),\n",
       "  Text(0, 0, ''),\n",
       "  Text(0, 0, ''),\n",
       "  Text(0, 0, ''),\n",
       "  Text(0, 0, ''),\n",
       "  Text(0, 0, ''),\n",
       "  Text(0, 0, ''),\n",
       "  Text(0, 0, ''),\n",
       "  Text(0, 0, ''),\n",
       "  Text(0, 0, ''),\n",
       "  Text(0, 0, ''),\n",
       "  Text(0, 0, ''),\n",
       "  Text(0, 0, ''),\n",
       "  Text(0, 0, '')])"
      ]
     },
     "execution_count": 150,
     "metadata": {},
     "output_type": "execute_result"
    },
    {
     "data": {
      "image/png": "[encoded data removed]",
      "text/plain": [
       "<Figure size 1152x432 with 1 Axes>"
      ]
     },
     "metadata": {
      "needs_background": "light"
     },
     "output_type": "display_data"
    }
   ],
   "source": [
    "lr_model = best_models[0].steps[-1][-1]\n",
    "vectorizer = best_models[0].steps[0][-1]\n",
    "sorted_indices = np.argsort(np.abs(lr_model.coef_[0])) # sortujemy rosnąco względem wartości bezwględnej wag modelu\n",
    "sorted_values = lr_model.coef_[0][sorted_indices]\n",
    "\n",
    "id2word = np.array(vectorizer.get_feature_names())\n",
    "\n",
    "plt.figure(figsize=(16, 6))\n",
    "plt.bar(id2word[sorted_indices[-20:]], sorted_values[-20:])\n",
    "plt.xticks(rotation=90, size=14)"
   ]
  },
  {
   "cell_type": "code",
   "execution_count": 151,
   "metadata": {},
   "outputs": [],
   "source": [
    "sample_email = ['look at this sale! girls want to meet.', 'lets meet at Politechnika']"
   ]
  },
  {
   "cell_type": "code",
   "execution_count": 152,
   "metadata": {},
   "outputs": [
    {
     "data": {
      "text/plain": [
       "array([[7.13288129e-03, 9.92867119e-01],\n",
       "       [9.99565480e-01, 4.34519995e-04]])"
      ]
     },
     "execution_count": 152,
     "metadata": {},
     "output_type": "execute_result"
    }
   ],
   "source": [
    "best_models[0].predict_proba(sample_email) # pierwsza predykacja klasy 0 i druga predykcja klasy 0 --> 1 to spam, 0 nie spam - dla pierwszego miala \n",
    "#93 % ze to jest spam i mniej ze nie jest spam"
   ]
  },
  {
   "cell_type": "code",
   "execution_count": 153,
   "metadata": {},
   "outputs": [
    {
     "data": {
      "text/plain": [
       "array(['spam', 'ham'], dtype=object)"
      ]
     },
     "execution_count": 153,
     "metadata": {},
     "output_type": "execute_result"
    }
   ],
   "source": [
    "best_models[0].predict(sample_email) # tutaj już dostajemy czy spam i nie spam"
   ]
  },
  {
   "cell_type": "code",
   "execution_count": null,
   "metadata": {},
   "outputs": [],
   "source": []
  },
  {
   "cell_type": "code",
   "execution_count": null,
   "metadata": {},
   "outputs": [],
   "source": []
  },
  {
   "cell_type": "code",
   "execution_count": null,
   "metadata": {},
   "outputs": [],
   "source": []
  },
  {
   "cell_type": "code",
   "execution_count": null,
   "metadata": {},
   "outputs": [],
   "source": []
  },
  {
   "cell_type": "code",
   "execution_count": null,
   "metadata": {},
   "outputs": [],
   "source": []
  }
 ],
 "metadata": {
  "kernelspec": {
   "display_name": "Python 3",
   "language": "python",
   "name": "python3"
  },
  "language_info": {
   "codemirror_mode": {
    "name": "ipython",
    "version": 3
   },
   "file_extension": ".py",
   "mimetype": "text/x-python",
   "name": "python",
   "nbconvert_exporter": "python",
   "pygments_lexer": "ipython3",
   "version": "3.8.3"
  }
 },
 "nbformat": 4,
 "nbformat_minor": 2
}
