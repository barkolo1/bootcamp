{
 "cells": [
  {
   "cell_type": "markdown",
   "metadata": {},
   "source": [
    "# 2. Problem nierównomierności klas (_imbalanced data_)\n",
    "\n",
    "https://svds.com/learning-imbalanced-classes/\n",
    "\n",
    "Podejścia:\n",
    "\n",
    "- manipulacja progiem klasyfikacji \n",
    "- wykorzystanie ważonej funkcji celu podczas uczenia modeli\n",
    "- over-sampling\n",
    "- under-sampling\n",
    "- data augmentation - sztuczne tworzenie nowych obserwacji (przede wszystkim przy pracy z obrazami)\n",
    "- podejścia inne niż klasyfikacja (detekcja obserwacji nietypowych, własne heurystyki)\n",
    "\n",
    "<br>\n",
    "\n",
    "<br>\n",
    "\n",
    "\n",
    "# Case study: detekcja nadużyć\n",
    "\n",
    "Problem rozpoznawanie czy dana transakcja finansowa jest oszustwem (*fraud detection*).\n",
    "\n",
    "\n",
    "\n",
    "Opis danych:\n",
    "\n",
    "It contains only numerical input variables which are the result of a PCA transformation. Unfortunately, due to confidentiality issues, we cannot provide the original features and more background information about the data. Features V1, V2, ... V28 are the principal components obtained with PCA, the only features which have not been transformed with PCA are 'Time' and 'Amount'. Feature 'Time' contains the seconds elapsed between each transaction and the first transaction in the dataset. The feature 'Amount' is the transaction Amount."
   ]
  },
  {
   "cell_type": "code",
   "execution_count": 2,
   "metadata": {},
   "outputs": [
    {
     "name": "stdout",
     "output_type": "stream",
     "text": [
      "Collecting numpy==1.19.3Note: you may need to restart the kernel to use updated packages.\n",
      "  Downloading numpy-1.19.3-cp38-cp38-win_amd64.whl (13.3 MB)\n",
      "Installing collected packages: numpy\n",
      "  Attempting uninstall: numpy\n"
     ]
    },
    {
     "name": "stderr",
     "output_type": "stream",
     "text": [
      "ERROR: Could not install packages due to an EnvironmentError: [WinError 5] Odmowa dostępu: 'C:\\\\Users\\\\Basia\\\\AppData\\\\Local\\\\Programs\\\\Python\\\\Python38\\\\Lib\\\\site-packages\\\\~umpy\\\\.libs\\\\libopenblas.NOIJJG62EMASZI6NYURL6JBKM4EVBGM7.gfortran-win_amd64.dll'\n",
      "Consider using the `--user` option or check the permissions.\n",
      "\n"
     ]
    },
    {
     "name": "stdout",
     "output_type": "stream",
     "text": [
      "\n",
      "    Found existing installation: numpy 1.19.4\n",
      "    Uninstalling numpy-1.19.4:\n",
      "      Successfully uninstalled numpy-1.19.4\n"
     ]
    }
   ],
   "source": [
    "pip install numpy==1.19.3"
   ]
  },
  {
   "cell_type": "code",
   "execution_count": 1,
   "metadata": {},
   "outputs": [
    {
     "ename": "RuntimeError",
     "evalue": "The current Numpy installation ('c:\\\\users\\\\basia\\\\appdata\\\\local\\\\programs\\\\python\\\\python38\\\\lib\\\\site-packages\\\\numpy\\\\__init__.py') fails to pass a sanity check due to a bug in the windows runtime. See this issue for more information: https://tinyurl.com/y3dm3h86",
     "output_type": "error",
     "traceback": [
      "\u001b[1;31m---------------------------------------------------------------------------\u001b[0m",
      "\u001b[1;31mRuntimeError\u001b[0m                              Traceback (most recent call last)",
      "\u001b[1;32m<ipython-input-1-6af13132db92>\u001b[0m in \u001b[0;36m<module>\u001b[1;34m\u001b[0m\n\u001b[1;32m----> 1\u001b[1;33m \u001b[1;32mimport\u001b[0m \u001b[0mmatplotlib\u001b[0m\u001b[1;33m.\u001b[0m\u001b[0mpyplot\u001b[0m \u001b[1;32mas\u001b[0m \u001b[0mplt\u001b[0m\u001b[1;33m\u001b[0m\u001b[1;33m\u001b[0m\u001b[0m\n\u001b[0m\u001b[0;32m      2\u001b[0m \u001b[0mget_ipython\u001b[0m\u001b[1;33m(\u001b[0m\u001b[1;33m)\u001b[0m\u001b[1;33m.\u001b[0m\u001b[0mrun_line_magic\u001b[0m\u001b[1;33m(\u001b[0m\u001b[1;34m'matplotlib'\u001b[0m\u001b[1;33m,\u001b[0m \u001b[1;34m'inline'\u001b[0m\u001b[1;33m)\u001b[0m\u001b[1;33m\u001b[0m\u001b[1;33m\u001b[0m\u001b[0m\n",
      "\u001b[1;32mc:\\users\\basia\\appdata\\local\\programs\\python\\python38\\lib\\site-packages\\matplotlib\\__init__.py\u001b[0m in \u001b[0;36m<module>\u001b[1;34m\u001b[0m\n\u001b[0;32m    105\u001b[0m \u001b[1;31m# cbook must import matplotlib only within function\u001b[0m\u001b[1;33m\u001b[0m\u001b[1;33m\u001b[0m\u001b[1;33m\u001b[0m\u001b[0m\n\u001b[0;32m    106\u001b[0m \u001b[1;31m# definitions, so it is safe to import from it here.\u001b[0m\u001b[1;33m\u001b[0m\u001b[1;33m\u001b[0m\u001b[1;33m\u001b[0m\u001b[0m\n\u001b[1;32m--> 107\u001b[1;33m \u001b[1;32mfrom\u001b[0m \u001b[1;33m.\u001b[0m \u001b[1;32mimport\u001b[0m \u001b[0mcbook\u001b[0m\u001b[1;33m,\u001b[0m \u001b[0mrcsetup\u001b[0m\u001b[1;33m\u001b[0m\u001b[1;33m\u001b[0m\u001b[0m\n\u001b[0m\u001b[0;32m    108\u001b[0m \u001b[1;32mfrom\u001b[0m \u001b[0mmatplotlib\u001b[0m\u001b[1;33m.\u001b[0m\u001b[0mcbook\u001b[0m \u001b[1;32mimport\u001b[0m \u001b[0mMatplotlibDeprecationWarning\u001b[0m\u001b[1;33m,\u001b[0m \u001b[0msanitize_sequence\u001b[0m\u001b[1;33m\u001b[0m\u001b[1;33m\u001b[0m\u001b[0m\n\u001b[0;32m    109\u001b[0m \u001b[1;32mfrom\u001b[0m \u001b[0mmatplotlib\u001b[0m\u001b[1;33m.\u001b[0m\u001b[0mcbook\u001b[0m \u001b[1;32mimport\u001b[0m \u001b[0mmplDeprecation\u001b[0m  \u001b[1;31m# deprecated\u001b[0m\u001b[1;33m\u001b[0m\u001b[1;33m\u001b[0m\u001b[0m\n",
      "\u001b[1;32mc:\\users\\basia\\appdata\\local\\programs\\python\\python38\\lib\\site-packages\\matplotlib\\cbook\\__init__.py\u001b[0m in \u001b[0;36m<module>\u001b[1;34m\u001b[0m\n\u001b[0;32m     26\u001b[0m \u001b[1;32mimport\u001b[0m \u001b[0mweakref\u001b[0m\u001b[1;33m\u001b[0m\u001b[1;33m\u001b[0m\u001b[0m\n\u001b[0;32m     27\u001b[0m \u001b[1;33m\u001b[0m\u001b[0m\n\u001b[1;32m---> 28\u001b[1;33m \u001b[1;32mimport\u001b[0m \u001b[0mnumpy\u001b[0m \u001b[1;32mas\u001b[0m \u001b[0mnp\u001b[0m\u001b[1;33m\u001b[0m\u001b[1;33m\u001b[0m\u001b[0m\n\u001b[0m\u001b[0;32m     29\u001b[0m \u001b[1;33m\u001b[0m\u001b[0m\n\u001b[0;32m     30\u001b[0m \u001b[1;32mimport\u001b[0m \u001b[0mmatplotlib\u001b[0m\u001b[1;33m\u001b[0m\u001b[1;33m\u001b[0m\u001b[0m\n",
      "\u001b[1;32mc:\\users\\basia\\appdata\\local\\programs\\python\\python38\\lib\\site-packages\\numpy\\__init__.py\u001b[0m in \u001b[0;36m<module>\u001b[1;34m\u001b[0m\n\u001b[0;32m    303\u001b[0m \u001b[1;33m\u001b[0m\u001b[0m\n\u001b[0;32m    304\u001b[0m     \u001b[1;32mif\u001b[0m \u001b[0msys\u001b[0m\u001b[1;33m.\u001b[0m\u001b[0mplatform\u001b[0m \u001b[1;33m==\u001b[0m \u001b[1;34m\"win32\"\u001b[0m \u001b[1;32mand\u001b[0m \u001b[0msys\u001b[0m\u001b[1;33m.\u001b[0m\u001b[0mmaxsize\u001b[0m \u001b[1;33m>\u001b[0m \u001b[1;36m2\u001b[0m\u001b[1;33m**\u001b[0m\u001b[1;36m32\u001b[0m\u001b[1;33m:\u001b[0m\u001b[1;33m\u001b[0m\u001b[1;33m\u001b[0m\u001b[0m\n\u001b[1;32m--> 305\u001b[1;33m         \u001b[0m_win_os_check\u001b[0m\u001b[1;33m(\u001b[0m\u001b[1;33m)\u001b[0m\u001b[1;33m\u001b[0m\u001b[1;33m\u001b[0m\u001b[0m\n\u001b[0m\u001b[0;32m    306\u001b[0m \u001b[1;33m\u001b[0m\u001b[0m\n\u001b[0;32m    307\u001b[0m     \u001b[1;32mdel\u001b[0m \u001b[0m_win_os_check\u001b[0m\u001b[1;33m\u001b[0m\u001b[1;33m\u001b[0m\u001b[0m\n",
      "\u001b[1;32mc:\\users\\basia\\appdata\\local\\programs\\python\\python38\\lib\\site-packages\\numpy\\__init__.py\u001b[0m in \u001b[0;36m_win_os_check\u001b[1;34m()\u001b[0m\n\u001b[0;32m    300\u001b[0m                    \u001b[1;34m\"See this issue for more information: \"\u001b[0m\u001b[1;33m\u001b[0m\u001b[1;33m\u001b[0m\u001b[0m\n\u001b[0;32m    301\u001b[0m                    \"https://tinyurl.com/y3dm3h86\")\n\u001b[1;32m--> 302\u001b[1;33m             \u001b[1;32mraise\u001b[0m \u001b[0mRuntimeError\u001b[0m\u001b[1;33m(\u001b[0m\u001b[0mmsg\u001b[0m\u001b[1;33m.\u001b[0m\u001b[0mformat\u001b[0m\u001b[1;33m(\u001b[0m\u001b[0m__file__\u001b[0m\u001b[1;33m)\u001b[0m\u001b[1;33m)\u001b[0m \u001b[1;32mfrom\u001b[0m \u001b[1;32mNone\u001b[0m\u001b[1;33m\u001b[0m\u001b[1;33m\u001b[0m\u001b[0m\n\u001b[0m\u001b[0;32m    303\u001b[0m \u001b[1;33m\u001b[0m\u001b[0m\n\u001b[0;32m    304\u001b[0m     \u001b[1;32mif\u001b[0m \u001b[0msys\u001b[0m\u001b[1;33m.\u001b[0m\u001b[0mplatform\u001b[0m \u001b[1;33m==\u001b[0m \u001b[1;34m\"win32\"\u001b[0m \u001b[1;32mand\u001b[0m \u001b[0msys\u001b[0m\u001b[1;33m.\u001b[0m\u001b[0mmaxsize\u001b[0m \u001b[1;33m>\u001b[0m \u001b[1;36m2\u001b[0m\u001b[1;33m**\u001b[0m\u001b[1;36m32\u001b[0m\u001b[1;33m:\u001b[0m\u001b[1;33m\u001b[0m\u001b[1;33m\u001b[0m\u001b[0m\n",
      "\u001b[1;31mRuntimeError\u001b[0m: The current Numpy installation ('c:\\\\users\\\\basia\\\\appdata\\\\local\\\\programs\\\\python\\\\python38\\\\lib\\\\site-packages\\\\numpy\\\\__init__.py') fails to pass a sanity check due to a bug in the windows runtime. See this issue for more information: https://tinyurl.com/y3dm3h86"
     ]
    }
   ],
   "source": [
    "import matplotlib.pyplot as plt\n",
    "%matplotlib inline"
   ]
  },
  {
   "cell_type": "code",
   "execution_count": 2,
   "metadata": {},
   "outputs": [],
   "source": [
    "from warnings import simplefilter\n",
    "simplefilter(action='ignore', category=FutureWarning)"
   ]
  },
  {
   "cell_type": "code",
   "execution_count": 3,
   "metadata": {},
   "outputs": [
    {
     "data": {
      "text/html": [
       "<div>\n",
       "<style scoped>\n",
       "    .dataframe tbody tr th:only-of-type {\n",
       "        vertical-align: middle;\n",
       "    }\n",
       "\n",
       "    .dataframe tbody tr th {\n",
       "        vertical-align: top;\n",
       "    }\n",
       "\n",
       "    .dataframe thead th {\n",
       "        text-align: right;\n",
       "    }\n",
       "</style>\n",
       "<table border=\"1\" class=\"dataframe\">\n",
       "  <thead>\n",
       "    <tr style=\"text-align: right;\">\n",
       "      <th></th>\n",
       "      <th>Time</th>\n",
       "      <th>V1</th>\n",
       "      <th>V2</th>\n",
       "      <th>V3</th>\n",
       "      <th>V4</th>\n",
       "      <th>V5</th>\n",
       "      <th>V6</th>\n",
       "      <th>V7</th>\n",
       "      <th>V8</th>\n",
       "      <th>V9</th>\n",
       "      <th>...</th>\n",
       "      <th>V21</th>\n",
       "      <th>V22</th>\n",
       "      <th>V23</th>\n",
       "      <th>V24</th>\n",
       "      <th>V25</th>\n",
       "      <th>V26</th>\n",
       "      <th>V27</th>\n",
       "      <th>V28</th>\n",
       "      <th>Amount</th>\n",
       "      <th>Class</th>\n",
       "    </tr>\n",
       "  </thead>\n",
       "  <tbody>\n",
       "    <tr>\n",
       "      <td>0</td>\n",
       "      <td>0.0</td>\n",
       "      <td>-1.359807</td>\n",
       "      <td>-0.072781</td>\n",
       "      <td>2.536347</td>\n",
       "      <td>1.378155</td>\n",
       "      <td>-0.338321</td>\n",
       "      <td>0.462388</td>\n",
       "      <td>0.239599</td>\n",
       "      <td>0.098698</td>\n",
       "      <td>0.363787</td>\n",
       "      <td>...</td>\n",
       "      <td>-0.018307</td>\n",
       "      <td>0.277838</td>\n",
       "      <td>-0.110474</td>\n",
       "      <td>0.066928</td>\n",
       "      <td>0.128539</td>\n",
       "      <td>-0.189115</td>\n",
       "      <td>0.133558</td>\n",
       "      <td>-0.021053</td>\n",
       "      <td>149.62</td>\n",
       "      <td>0</td>\n",
       "    </tr>\n",
       "    <tr>\n",
       "      <td>1</td>\n",
       "      <td>0.0</td>\n",
       "      <td>1.191857</td>\n",
       "      <td>0.266151</td>\n",
       "      <td>0.166480</td>\n",
       "      <td>0.448154</td>\n",
       "      <td>0.060018</td>\n",
       "      <td>-0.082361</td>\n",
       "      <td>-0.078803</td>\n",
       "      <td>0.085102</td>\n",
       "      <td>-0.255425</td>\n",
       "      <td>...</td>\n",
       "      <td>-0.225775</td>\n",
       "      <td>-0.638672</td>\n",
       "      <td>0.101288</td>\n",
       "      <td>-0.339846</td>\n",
       "      <td>0.167170</td>\n",
       "      <td>0.125895</td>\n",
       "      <td>-0.008983</td>\n",
       "      <td>0.014724</td>\n",
       "      <td>2.69</td>\n",
       "      <td>0</td>\n",
       "    </tr>\n",
       "    <tr>\n",
       "      <td>2</td>\n",
       "      <td>1.0</td>\n",
       "      <td>-1.358354</td>\n",
       "      <td>-1.340163</td>\n",
       "      <td>1.773209</td>\n",
       "      <td>0.379780</td>\n",
       "      <td>-0.503198</td>\n",
       "      <td>1.800499</td>\n",
       "      <td>0.791461</td>\n",
       "      <td>0.247676</td>\n",
       "      <td>-1.514654</td>\n",
       "      <td>...</td>\n",
       "      <td>0.247998</td>\n",
       "      <td>0.771679</td>\n",
       "      <td>0.909412</td>\n",
       "      <td>-0.689281</td>\n",
       "      <td>-0.327642</td>\n",
       "      <td>-0.139097</td>\n",
       "      <td>-0.055353</td>\n",
       "      <td>-0.059752</td>\n",
       "      <td>378.66</td>\n",
       "      <td>0</td>\n",
       "    </tr>\n",
       "    <tr>\n",
       "      <td>3</td>\n",
       "      <td>1.0</td>\n",
       "      <td>-0.966272</td>\n",
       "      <td>-0.185226</td>\n",
       "      <td>1.792993</td>\n",
       "      <td>-0.863291</td>\n",
       "      <td>-0.010309</td>\n",
       "      <td>1.247203</td>\n",
       "      <td>0.237609</td>\n",
       "      <td>0.377436</td>\n",
       "      <td>-1.387024</td>\n",
       "      <td>...</td>\n",
       "      <td>-0.108300</td>\n",
       "      <td>0.005274</td>\n",
       "      <td>-0.190321</td>\n",
       "      <td>-1.175575</td>\n",
       "      <td>0.647376</td>\n",
       "      <td>-0.221929</td>\n",
       "      <td>0.062723</td>\n",
       "      <td>0.061458</td>\n",
       "      <td>123.50</td>\n",
       "      <td>0</td>\n",
       "    </tr>\n",
       "    <tr>\n",
       "      <td>4</td>\n",
       "      <td>2.0</td>\n",
       "      <td>-1.158233</td>\n",
       "      <td>0.877737</td>\n",
       "      <td>1.548718</td>\n",
       "      <td>0.403034</td>\n",
       "      <td>-0.407193</td>\n",
       "      <td>0.095921</td>\n",
       "      <td>0.592941</td>\n",
       "      <td>-0.270533</td>\n",
       "      <td>0.817739</td>\n",
       "      <td>...</td>\n",
       "      <td>-0.009431</td>\n",
       "      <td>0.798278</td>\n",
       "      <td>-0.137458</td>\n",
       "      <td>0.141267</td>\n",
       "      <td>-0.206010</td>\n",
       "      <td>0.502292</td>\n",
       "      <td>0.219422</td>\n",
       "      <td>0.215153</td>\n",
       "      <td>69.99</td>\n",
       "      <td>0</td>\n",
       "    </tr>\n",
       "  </tbody>\n",
       "</table>\n",
       "<p>5 rows × 31 columns</p>\n",
       "</div>"
      ],
      "text/plain": [
       "   Time        V1        V2        V3        V4        V5        V6        V7  \\\n",
       "0   0.0 -1.359807 -0.072781  2.536347  1.378155 -0.338321  0.462388  0.239599   \n",
       "1   0.0  1.191857  0.266151  0.166480  0.448154  0.060018 -0.082361 -0.078803   \n",
       "2   1.0 -1.358354 -1.340163  1.773209  0.379780 -0.503198  1.800499  0.791461   \n",
       "3   1.0 -0.966272 -0.185226  1.792993 -0.863291 -0.010309  1.247203  0.237609   \n",
       "4   2.0 -1.158233  0.877737  1.548718  0.403034 -0.407193  0.095921  0.592941   \n",
       "\n",
       "         V8        V9  ...       V21       V22       V23       V24       V25  \\\n",
       "0  0.098698  0.363787  ... -0.018307  0.277838 -0.110474  0.066928  0.128539   \n",
       "1  0.085102 -0.255425  ... -0.225775 -0.638672  0.101288 -0.339846  0.167170   \n",
       "2  0.247676 -1.514654  ...  0.247998  0.771679  0.909412 -0.689281 -0.327642   \n",
       "3  0.377436 -1.387024  ... -0.108300  0.005274 -0.190321 -1.175575  0.647376   \n",
       "4 -0.270533  0.817739  ... -0.009431  0.798278 -0.137458  0.141267 -0.206010   \n",
       "\n",
       "        V26       V27       V28  Amount  Class  \n",
       "0 -0.189115  0.133558 -0.021053  149.62      0  \n",
       "1  0.125895 -0.008983  0.014724    2.69      0  \n",
       "2 -0.139097 -0.055353 -0.059752  378.66      0  \n",
       "3 -0.221929  0.062723  0.061458  123.50      0  \n",
       "4  0.502292  0.219422  0.215153   69.99      0  \n",
       "\n",
       "[5 rows x 31 columns]"
      ]
     },
     "execution_count": 3,
     "metadata": {},
     "output_type": "execute_result"
    }
   ],
   "source": [
    "import numpy as np\n",
    "import pandas as pd\n",
    "data = pd.read_csv(\"Dane/creditcard.csv\")\n",
    "data.head()"
   ]
  },
  {
   "cell_type": "code",
   "execution_count": 4,
   "metadata": {},
   "outputs": [
    {
     "data": {
      "text/plain": [
       "<matplotlib.axes._subplots.AxesSubplot at 0x1dbdb2b6708>"
      ]
     },
     "execution_count": 4,
     "metadata": {},
     "output_type": "execute_result"
    },
    {
     "data": {
      "image/png": "[encoded data removed]",
      "text/plain": [
       "<Figure size 1152x432 with 1 Axes>"
      ]
     },
     "metadata": {
      "needs_background": "light"
     },
     "output_type": "display_data"
    }
   ],
   "source": [
    "data.boxplot(figsize=(16, 6))"
   ]
  },
  {
   "cell_type": "code",
   "execution_count": 5,
   "metadata": {},
   "outputs": [
    {
     "data": {
      "text/plain": [
       "0    284315\n",
       "1       492\n",
       "Name: Class, dtype: int64"
      ]
     },
     "execution_count": 5,
     "metadata": {},
     "output_type": "execute_result"
    }
   ],
   "source": [
    "data.Class.value_counts()"
   ]
  },
  {
   "cell_type": "markdown",
   "metadata": {},
   "source": [
    "### Przygotowanie zbioru "
   ]
  },
  {
   "cell_type": "code",
   "execution_count": 6,
   "metadata": {},
   "outputs": [],
   "source": [
    "data.drop('Time', axis=1, inplace=True)"
   ]
  },
  {
   "cell_type": "code",
   "execution_count": 7,
   "metadata": {
    "scrolled": true
   },
   "outputs": [
    {
     "data": {
      "text/html": [
       "<div>\n",
       "<style scoped>\n",
       "    .dataframe tbody tr th:only-of-type {\n",
       "        vertical-align: middle;\n",
       "    }\n",
       "\n",
       "    .dataframe tbody tr th {\n",
       "        vertical-align: top;\n",
       "    }\n",
       "\n",
       "    .dataframe thead th {\n",
       "        text-align: right;\n",
       "    }\n",
       "</style>\n",
       "<table border=\"1\" class=\"dataframe\">\n",
       "  <thead>\n",
       "    <tr style=\"text-align: right;\">\n",
       "      <th></th>\n",
       "      <th>V1</th>\n",
       "      <th>V2</th>\n",
       "      <th>V3</th>\n",
       "      <th>V4</th>\n",
       "      <th>V5</th>\n",
       "      <th>V6</th>\n",
       "      <th>V7</th>\n",
       "      <th>V8</th>\n",
       "      <th>V9</th>\n",
       "      <th>V10</th>\n",
       "      <th>...</th>\n",
       "      <th>V21</th>\n",
       "      <th>V22</th>\n",
       "      <th>V23</th>\n",
       "      <th>V24</th>\n",
       "      <th>V25</th>\n",
       "      <th>V26</th>\n",
       "      <th>V27</th>\n",
       "      <th>V28</th>\n",
       "      <th>Amount</th>\n",
       "      <th>Class</th>\n",
       "    </tr>\n",
       "  </thead>\n",
       "  <tbody>\n",
       "    <tr>\n",
       "      <td>0</td>\n",
       "      <td>-1.359807</td>\n",
       "      <td>-0.072781</td>\n",
       "      <td>2.536347</td>\n",
       "      <td>1.378155</td>\n",
       "      <td>-0.338321</td>\n",
       "      <td>0.462388</td>\n",
       "      <td>0.239599</td>\n",
       "      <td>0.098698</td>\n",
       "      <td>0.363787</td>\n",
       "      <td>0.090794</td>\n",
       "      <td>...</td>\n",
       "      <td>-0.018307</td>\n",
       "      <td>0.277838</td>\n",
       "      <td>-0.110474</td>\n",
       "      <td>0.066928</td>\n",
       "      <td>0.128539</td>\n",
       "      <td>-0.189115</td>\n",
       "      <td>0.133558</td>\n",
       "      <td>-0.021053</td>\n",
       "      <td>149.62</td>\n",
       "      <td>0</td>\n",
       "    </tr>\n",
       "    <tr>\n",
       "      <td>1</td>\n",
       "      <td>1.191857</td>\n",
       "      <td>0.266151</td>\n",
       "      <td>0.166480</td>\n",
       "      <td>0.448154</td>\n",
       "      <td>0.060018</td>\n",
       "      <td>-0.082361</td>\n",
       "      <td>-0.078803</td>\n",
       "      <td>0.085102</td>\n",
       "      <td>-0.255425</td>\n",
       "      <td>-0.166974</td>\n",
       "      <td>...</td>\n",
       "      <td>-0.225775</td>\n",
       "      <td>-0.638672</td>\n",
       "      <td>0.101288</td>\n",
       "      <td>-0.339846</td>\n",
       "      <td>0.167170</td>\n",
       "      <td>0.125895</td>\n",
       "      <td>-0.008983</td>\n",
       "      <td>0.014724</td>\n",
       "      <td>2.69</td>\n",
       "      <td>0</td>\n",
       "    </tr>\n",
       "    <tr>\n",
       "      <td>2</td>\n",
       "      <td>-1.358354</td>\n",
       "      <td>-1.340163</td>\n",
       "      <td>1.773209</td>\n",
       "      <td>0.379780</td>\n",
       "      <td>-0.503198</td>\n",
       "      <td>1.800499</td>\n",
       "      <td>0.791461</td>\n",
       "      <td>0.247676</td>\n",
       "      <td>-1.514654</td>\n",
       "      <td>0.207643</td>\n",
       "      <td>...</td>\n",
       "      <td>0.247998</td>\n",
       "      <td>0.771679</td>\n",
       "      <td>0.909412</td>\n",
       "      <td>-0.689281</td>\n",
       "      <td>-0.327642</td>\n",
       "      <td>-0.139097</td>\n",
       "      <td>-0.055353</td>\n",
       "      <td>-0.059752</td>\n",
       "      <td>378.66</td>\n",
       "      <td>0</td>\n",
       "    </tr>\n",
       "    <tr>\n",
       "      <td>3</td>\n",
       "      <td>-0.966272</td>\n",
       "      <td>-0.185226</td>\n",
       "      <td>1.792993</td>\n",
       "      <td>-0.863291</td>\n",
       "      <td>-0.010309</td>\n",
       "      <td>1.247203</td>\n",
       "      <td>0.237609</td>\n",
       "      <td>0.377436</td>\n",
       "      <td>-1.387024</td>\n",
       "      <td>-0.054952</td>\n",
       "      <td>...</td>\n",
       "      <td>-0.108300</td>\n",
       "      <td>0.005274</td>\n",
       "      <td>-0.190321</td>\n",
       "      <td>-1.175575</td>\n",
       "      <td>0.647376</td>\n",
       "      <td>-0.221929</td>\n",
       "      <td>0.062723</td>\n",
       "      <td>0.061458</td>\n",
       "      <td>123.50</td>\n",
       "      <td>0</td>\n",
       "    </tr>\n",
       "    <tr>\n",
       "      <td>4</td>\n",
       "      <td>-1.158233</td>\n",
       "      <td>0.877737</td>\n",
       "      <td>1.548718</td>\n",
       "      <td>0.403034</td>\n",
       "      <td>-0.407193</td>\n",
       "      <td>0.095921</td>\n",
       "      <td>0.592941</td>\n",
       "      <td>-0.270533</td>\n",
       "      <td>0.817739</td>\n",
       "      <td>0.753074</td>\n",
       "      <td>...</td>\n",
       "      <td>-0.009431</td>\n",
       "      <td>0.798278</td>\n",
       "      <td>-0.137458</td>\n",
       "      <td>0.141267</td>\n",
       "      <td>-0.206010</td>\n",
       "      <td>0.502292</td>\n",
       "      <td>0.219422</td>\n",
       "      <td>0.215153</td>\n",
       "      <td>69.99</td>\n",
       "      <td>0</td>\n",
       "    </tr>\n",
       "    <tr>\n",
       "      <td>...</td>\n",
       "      <td>...</td>\n",
       "      <td>...</td>\n",
       "      <td>...</td>\n",
       "      <td>...</td>\n",
       "      <td>...</td>\n",
       "      <td>...</td>\n",
       "      <td>...</td>\n",
       "      <td>...</td>\n",
       "      <td>...</td>\n",
       "      <td>...</td>\n",
       "      <td>...</td>\n",
       "      <td>...</td>\n",
       "      <td>...</td>\n",
       "      <td>...</td>\n",
       "      <td>...</td>\n",
       "      <td>...</td>\n",
       "      <td>...</td>\n",
       "      <td>...</td>\n",
       "      <td>...</td>\n",
       "      <td>...</td>\n",
       "      <td>...</td>\n",
       "    </tr>\n",
       "    <tr>\n",
       "      <td>284802</td>\n",
       "      <td>-11.881118</td>\n",
       "      <td>10.071785</td>\n",
       "      <td>-9.834783</td>\n",
       "      <td>-2.066656</td>\n",
       "      <td>-5.364473</td>\n",
       "      <td>-2.606837</td>\n",
       "      <td>-4.918215</td>\n",
       "      <td>7.305334</td>\n",
       "      <td>1.914428</td>\n",
       "      <td>4.356170</td>\n",
       "      <td>...</td>\n",
       "      <td>0.213454</td>\n",
       "      <td>0.111864</td>\n",
       "      <td>1.014480</td>\n",
       "      <td>-0.509348</td>\n",
       "      <td>1.436807</td>\n",
       "      <td>0.250034</td>\n",
       "      <td>0.943651</td>\n",
       "      <td>0.823731</td>\n",
       "      <td>0.77</td>\n",
       "      <td>0</td>\n",
       "    </tr>\n",
       "    <tr>\n",
       "      <td>284803</td>\n",
       "      <td>-0.732789</td>\n",
       "      <td>-0.055080</td>\n",
       "      <td>2.035030</td>\n",
       "      <td>-0.738589</td>\n",
       "      <td>0.868229</td>\n",
       "      <td>1.058415</td>\n",
       "      <td>0.024330</td>\n",
       "      <td>0.294869</td>\n",
       "      <td>0.584800</td>\n",
       "      <td>-0.975926</td>\n",
       "      <td>...</td>\n",
       "      <td>0.214205</td>\n",
       "      <td>0.924384</td>\n",
       "      <td>0.012463</td>\n",
       "      <td>-1.016226</td>\n",
       "      <td>-0.606624</td>\n",
       "      <td>-0.395255</td>\n",
       "      <td>0.068472</td>\n",
       "      <td>-0.053527</td>\n",
       "      <td>24.79</td>\n",
       "      <td>0</td>\n",
       "    </tr>\n",
       "    <tr>\n",
       "      <td>284804</td>\n",
       "      <td>1.919565</td>\n",
       "      <td>-0.301254</td>\n",
       "      <td>-3.249640</td>\n",
       "      <td>-0.557828</td>\n",
       "      <td>2.630515</td>\n",
       "      <td>3.031260</td>\n",
       "      <td>-0.296827</td>\n",
       "      <td>0.708417</td>\n",
       "      <td>0.432454</td>\n",
       "      <td>-0.484782</td>\n",
       "      <td>...</td>\n",
       "      <td>0.232045</td>\n",
       "      <td>0.578229</td>\n",
       "      <td>-0.037501</td>\n",
       "      <td>0.640134</td>\n",
       "      <td>0.265745</td>\n",
       "      <td>-0.087371</td>\n",
       "      <td>0.004455</td>\n",
       "      <td>-0.026561</td>\n",
       "      <td>67.88</td>\n",
       "      <td>0</td>\n",
       "    </tr>\n",
       "    <tr>\n",
       "      <td>284805</td>\n",
       "      <td>-0.240440</td>\n",
       "      <td>0.530483</td>\n",
       "      <td>0.702510</td>\n",
       "      <td>0.689799</td>\n",
       "      <td>-0.377961</td>\n",
       "      <td>0.623708</td>\n",
       "      <td>-0.686180</td>\n",
       "      <td>0.679145</td>\n",
       "      <td>0.392087</td>\n",
       "      <td>-0.399126</td>\n",
       "      <td>...</td>\n",
       "      <td>0.265245</td>\n",
       "      <td>0.800049</td>\n",
       "      <td>-0.163298</td>\n",
       "      <td>0.123205</td>\n",
       "      <td>-0.569159</td>\n",
       "      <td>0.546668</td>\n",
       "      <td>0.108821</td>\n",
       "      <td>0.104533</td>\n",
       "      <td>10.00</td>\n",
       "      <td>0</td>\n",
       "    </tr>\n",
       "    <tr>\n",
       "      <td>284806</td>\n",
       "      <td>-0.533413</td>\n",
       "      <td>-0.189733</td>\n",
       "      <td>0.703337</td>\n",
       "      <td>-0.506271</td>\n",
       "      <td>-0.012546</td>\n",
       "      <td>-0.649617</td>\n",
       "      <td>1.577006</td>\n",
       "      <td>-0.414650</td>\n",
       "      <td>0.486180</td>\n",
       "      <td>-0.915427</td>\n",
       "      <td>...</td>\n",
       "      <td>0.261057</td>\n",
       "      <td>0.643078</td>\n",
       "      <td>0.376777</td>\n",
       "      <td>0.008797</td>\n",
       "      <td>-0.473649</td>\n",
       "      <td>-0.818267</td>\n",
       "      <td>-0.002415</td>\n",
       "      <td>0.013649</td>\n",
       "      <td>217.00</td>\n",
       "      <td>0</td>\n",
       "    </tr>\n",
       "  </tbody>\n",
       "</table>\n",
       "<p>284807 rows × 30 columns</p>\n",
       "</div>"
      ],
      "text/plain": [
       "               V1         V2        V3        V4        V5        V6  \\\n",
       "0       -1.359807  -0.072781  2.536347  1.378155 -0.338321  0.462388   \n",
       "1        1.191857   0.266151  0.166480  0.448154  0.060018 -0.082361   \n",
       "2       -1.358354  -1.340163  1.773209  0.379780 -0.503198  1.800499   \n",
       "3       -0.966272  -0.185226  1.792993 -0.863291 -0.010309  1.247203   \n",
       "4       -1.158233   0.877737  1.548718  0.403034 -0.407193  0.095921   \n",
       "...           ...        ...       ...       ...       ...       ...   \n",
       "284802 -11.881118  10.071785 -9.834783 -2.066656 -5.364473 -2.606837   \n",
       "284803  -0.732789  -0.055080  2.035030 -0.738589  0.868229  1.058415   \n",
       "284804   1.919565  -0.301254 -3.249640 -0.557828  2.630515  3.031260   \n",
       "284805  -0.240440   0.530483  0.702510  0.689799 -0.377961  0.623708   \n",
       "284806  -0.533413  -0.189733  0.703337 -0.506271 -0.012546 -0.649617   \n",
       "\n",
       "              V7        V8        V9       V10  ...       V21       V22  \\\n",
       "0       0.239599  0.098698  0.363787  0.090794  ... -0.018307  0.277838   \n",
       "1      -0.078803  0.085102 -0.255425 -0.166974  ... -0.225775 -0.638672   \n",
       "2       0.791461  0.247676 -1.514654  0.207643  ...  0.247998  0.771679   \n",
       "3       0.237609  0.377436 -1.387024 -0.054952  ... -0.108300  0.005274   \n",
       "4       0.592941 -0.270533  0.817739  0.753074  ... -0.009431  0.798278   \n",
       "...          ...       ...       ...       ...  ...       ...       ...   \n",
       "284802 -4.918215  7.305334  1.914428  4.356170  ...  0.213454  0.111864   \n",
       "284803  0.024330  0.294869  0.584800 -0.975926  ...  0.214205  0.924384   \n",
       "284804 -0.296827  0.708417  0.432454 -0.484782  ...  0.232045  0.578229   \n",
       "284805 -0.686180  0.679145  0.392087 -0.399126  ...  0.265245  0.800049   \n",
       "284806  1.577006 -0.414650  0.486180 -0.915427  ...  0.261057  0.643078   \n",
       "\n",
       "             V23       V24       V25       V26       V27       V28  Amount  \\\n",
       "0      -0.110474  0.066928  0.128539 -0.189115  0.133558 -0.021053  149.62   \n",
       "1       0.101288 -0.339846  0.167170  0.125895 -0.008983  0.014724    2.69   \n",
       "2       0.909412 -0.689281 -0.327642 -0.139097 -0.055353 -0.059752  378.66   \n",
       "3      -0.190321 -1.175575  0.647376 -0.221929  0.062723  0.061458  123.50   \n",
       "4      -0.137458  0.141267 -0.206010  0.502292  0.219422  0.215153   69.99   \n",
       "...          ...       ...       ...       ...       ...       ...     ...   \n",
       "284802  1.014480 -0.509348  1.436807  0.250034  0.943651  0.823731    0.77   \n",
       "284803  0.012463 -1.016226 -0.606624 -0.395255  0.068472 -0.053527   24.79   \n",
       "284804 -0.037501  0.640134  0.265745 -0.087371  0.004455 -0.026561   67.88   \n",
       "284805 -0.163298  0.123205 -0.569159  0.546668  0.108821  0.104533   10.00   \n",
       "284806  0.376777  0.008797 -0.473649 -0.818267 -0.002415  0.013649  217.00   \n",
       "\n",
       "        Class  \n",
       "0           0  \n",
       "1           0  \n",
       "2           0  \n",
       "3           0  \n",
       "4           0  \n",
       "...       ...  \n",
       "284802      0  \n",
       "284803      0  \n",
       "284804      0  \n",
       "284805      0  \n",
       "284806      0  \n",
       "\n",
       "[284807 rows x 30 columns]"
      ]
     },
     "execution_count": 7,
     "metadata": {},
     "output_type": "execute_result"
    }
   ],
   "source": [
    "data"
   ]
  },
  {
   "cell_type": "code",
   "execution_count": 8,
   "metadata": {},
   "outputs": [
    {
     "data": {
      "text/plain": [
       "(-100, 3000)"
      ]
     },
     "execution_count": 8,
     "metadata": {},
     "output_type": "execute_result"
    },
    {
     "data": {
      "image/png": "[encoded data removed]",
      "text/plain": [
       "<Figure size 432x288 with 1 Axes>"
      ]
     },
     "metadata": {
      "needs_background": "light"
     },
     "output_type": "display_data"
    }
   ],
   "source": [
    "_ = plt.hist(data.Amount, bins=1000)\n",
    "plt.xlim(left=-100, right=3000)"
   ]
  },
  {
   "cell_type": "code",
   "execution_count": 9,
   "metadata": {},
   "outputs": [
    {
     "data": {
      "text/plain": [
       "(-100, 3000)"
      ]
     },
     "execution_count": 9,
     "metadata": {},
     "output_type": "execute_result"
    },
    {
     "data": {
      "image/png": "[encoded data removed]",
      "text/plain": [
       "<Figure size 432x288 with 1 Axes>"
      ]
     },
     "metadata": {
      "needs_background": "light"
     },
     "output_type": "display_data"
    }
   ],
   "source": [
    "_ = plt.hist(data.Amount[data.Class == 0], bins=1000)\n",
    "plt.xlim(left=-100, right=3000)"
   ]
  },
  {
   "cell_type": "code",
   "execution_count": 10,
   "metadata": {},
   "outputs": [
    {
     "data": {
      "image/png": "[encoded data removed]",
      "text/plain": [
       "<Figure size 432x288 with 1 Axes>"
      ]
     },
     "metadata": {
      "needs_background": "light"
     },
     "output_type": "display_data"
    }
   ],
   "source": [
    "_ = plt.hist(data.Amount[data.Class == 1], bins=30)"
   ]
  },
  {
   "cell_type": "code",
   "execution_count": 11,
   "metadata": {},
   "outputs": [],
   "source": [
    "log_vals = np.log10(data.Amount + 1)"
   ]
  },
  {
   "cell_type": "code",
   "execution_count": 12,
   "metadata": {},
   "outputs": [
    {
     "data": {
      "text/plain": [
       "(0, 3000)"
      ]
     },
     "execution_count": 12,
     "metadata": {},
     "output_type": "execute_result"
    },
    {
     "data": {
      "image/png": "[encoded data removed]",
      "text/plain": [
       "<Figure size 432x288 with 1 Axes>"
      ]
     },
     "metadata": {
      "needs_background": "light"
     },
     "output_type": "display_data"
    }
   ],
   "source": [
    "_ = plt.hist(log_vals, bins=1000)\n",
    "plt.xlim(left=0, right=8)\n",
    "plt.ylim(bottom=0, top=3000)"
   ]
  },
  {
   "cell_type": "code",
   "execution_count": 13,
   "metadata": {},
   "outputs": [],
   "source": [
    "data.Amount = log_vals"
   ]
  },
  {
   "cell_type": "code",
   "execution_count": 14,
   "metadata": {},
   "outputs": [
    {
     "data": {
      "text/plain": [
       "<matplotlib.axes._subplots.AxesSubplot at 0x1dbdcce6108>"
      ]
     },
     "execution_count": 14,
     "metadata": {},
     "output_type": "execute_result"
    },
    {
     "data": {
      "image/png": "[encoded data removed]",
      "text/plain": [
       "<Figure size 1152x432 with 1 Axes>"
      ]
     },
     "metadata": {
      "needs_background": "light"
     },
     "output_type": "display_data"
    }
   ],
   "source": [
    "data.boxplot(figsize=(16, 6))"
   ]
  },
  {
   "cell_type": "code",
   "execution_count": 15,
   "metadata": {},
   "outputs": [],
   "source": [
    "X = data.drop('Class', axis=1, inplace=False).values\n",
    "y = data.Class.values"
   ]
  },
  {
   "cell_type": "code",
   "execution_count": 16,
   "metadata": {},
   "outputs": [],
   "source": [
    "from sklearn.preprocessing import StandardScaler"
   ]
  },
  {
   "cell_type": "code",
   "execution_count": 17,
   "metadata": {},
   "outputs": [],
   "source": [
    "scaler = StandardScaler()\n",
    "X_scaled = scaler.fit_transform(X)"
   ]
  },
  {
   "cell_type": "code",
   "execution_count": 18,
   "metadata": {},
   "outputs": [],
   "source": [
    "from sklearn.model_selection import train_test_split"
   ]
  },
  {
   "cell_type": "code",
   "execution_count": 19,
   "metadata": {},
   "outputs": [],
   "source": [
    "X_train, X_test, y_train, y_test = train_test_split(X_scaled, y, test_size=0.3)\n",
    "# metoda sama dba o proporcjonalne losowanie klas"
   ]
  },
  {
   "cell_type": "code",
   "execution_count": 20,
   "metadata": {},
   "outputs": [
    {
     "data": {
      "text/plain": [
       "0.001755582753155033"
      ]
     },
     "execution_count": 20,
     "metadata": {},
     "output_type": "execute_result"
    }
   ],
   "source": [
    "y_train.mean()"
   ]
  },
  {
   "cell_type": "code",
   "execution_count": 21,
   "metadata": {},
   "outputs": [
    {
     "data": {
      "text/plain": [
       "0.001661926664559999"
      ]
     },
     "execution_count": 21,
     "metadata": {},
     "output_type": "execute_result"
    }
   ],
   "source": [
    "y_test.mean()"
   ]
  },
  {
   "cell_type": "markdown",
   "metadata": {},
   "source": [
    "### Przechodzimy do modelowania.\n",
    "\n",
    "Ważne: Każdą analizę zawsze zaczynamy od określenia punktu odniesienia! Sprawdzamy jak działa najprostszy model (kilka prostych modeli) - bez kombinowania z danymi, na domyślnych parametrach."
   ]
  },
  {
   "cell_type": "code",
   "execution_count": 22,
   "metadata": {},
   "outputs": [],
   "source": [
    "from sklearn.model_selection import cross_val_predict, \\\n",
    "StratifiedKFold # w przeciwieństwie do KFold, losuje próbki proporcjonalnnie do liczności klas w każdym foldzie"
   ]
  },
  {
   "cell_type": "code",
   "execution_count": 23,
   "metadata": {},
   "outputs": [],
   "source": [
    "from sklearn.linear_model import LogisticRegression\n",
    "from sklearn.metrics import roc_curve, roc_auc_score, accuracy_score, f1_score, recall_score, precision_score"
   ]
  },
  {
   "cell_type": "code",
   "execution_count": 24,
   "metadata": {},
   "outputs": [],
   "source": [
    "model = LogisticRegression()\n",
    "\n",
    "y_pred = cross_val_predict(model, \n",
    "                           X_train, \n",
    "                           y_train, \n",
    "                           cv=StratifiedKFold(n_splits=5),\n",
    "                           method='predict_proba')[:, 1]"
   ]
  },
  {
   "cell_type": "code",
   "execution_count": 25,
   "metadata": {},
   "outputs": [
    {
     "data": {
      "text/plain": [
       "array([1.13266673e-04, 2.14795833e-04, 5.16137632e-04, ...,\n",
       "       2.01638672e-04, 2.20917546e-04, 5.96178029e-05])"
      ]
     },
     "execution_count": 25,
     "metadata": {},
     "output_type": "execute_result"
    }
   ],
   "source": [
    "y_pred"
   ]
  },
  {
   "cell_type": "code",
   "execution_count": 26,
   "metadata": {},
   "outputs": [
    {
     "data": {
      "text/plain": [
       "array([False, False, False, ..., False, False, False])"
      ]
     },
     "execution_count": 26,
     "metadata": {},
     "output_type": "execute_result"
    }
   ],
   "source": [
    "y_pred > 0.001"
   ]
  },
  {
   "cell_type": "code",
   "execution_count": 27,
   "metadata": {},
   "outputs": [
    {
     "data": {
      "text/plain": [
       "0.9765352760538024"
      ]
     },
     "execution_count": 27,
     "metadata": {},
     "output_type": "execute_result"
    }
   ],
   "source": [
    "roc_auc_score(y_train, y_pred)"
   ]
  },
  {
   "cell_type": "code",
   "execution_count": 28,
   "metadata": {},
   "outputs": [
    {
     "data": {
      "text/plain": [
       "0.9991723681306555"
      ]
     },
     "execution_count": 28,
     "metadata": {},
     "output_type": "execute_result"
    }
   ],
   "source": [
    "accuracy_score(y_train, (y_pred > 0.5)) # bezwartościowa informacja gdy klasy są niezbalansowane"
   ]
  },
  {
   "cell_type": "code",
   "execution_count": 29,
   "metadata": {},
   "outputs": [
    {
     "data": {
      "text/plain": [
       "0.7245409015025042"
      ]
     },
     "execution_count": 29,
     "metadata": {},
     "output_type": "execute_result"
    }
   ],
   "source": [
    "f1_score(y_train, (y_pred > 0.5))"
   ]
  },
  {
   "cell_type": "code",
   "execution_count": 30,
   "metadata": {},
   "outputs": [
    {
     "data": {
      "text/plain": [
       "0.62"
      ]
     },
     "execution_count": 30,
     "metadata": {},
     "output_type": "execute_result"
    }
   ],
   "source": [
    "recall_score(y_train, (y_pred > 0.5)) # spośród wszystkich fraudów model znalazł 62.4% "
   ]
  },
  {
   "cell_type": "code",
   "execution_count": 31,
   "metadata": {},
   "outputs": [
    {
     "data": {
      "text/plain": [
       "0.8714859437751004"
      ]
     },
     "execution_count": 31,
     "metadata": {},
     "output_type": "execute_result"
    }
   ],
   "source": [
    "precision_score(y_train, (y_pred > 0.5)) # Spośród wybredykowanych fraudów, 86.8% było faktycznymi farudami"
   ]
  },
  {
   "cell_type": "code",
   "execution_count": 32,
   "metadata": {},
   "outputs": [
    {
     "name": "stdout",
     "output_type": "stream",
     "text": [
      "0.998244417246845\n",
      "0.0\n"
     ]
    },
    {
     "name": "stderr",
     "output_type": "stream",
     "text": [
      "C:\\Users\\Waldemar\\Anaconda3\\lib\\site-packages\\sklearn\\metrics\\classification.py:1437: UndefinedMetricWarning: F-score is ill-defined and being set to 0.0 due to no predicted samples.\n",
      "  'precision', 'predicted', average, warn_for)\n"
     ]
    }
   ],
   "source": [
    "print(accuracy_score(y_train, np.zeros(y_train.shape))) # gdy nasz model zwraca same 0\n",
    "print(f1_score(y_train, np.zeros(y_train.shape)))"
   ]
  },
  {
   "cell_type": "markdown",
   "metadata": {},
   "source": [
    "### 0. Modyfikacja progu odcięcia\n",
    "\n",
    "Regresja logistyczna"
   ]
  },
  {
   "cell_type": "code",
   "execution_count": 33,
   "metadata": {},
   "outputs": [
    {
     "data": {
      "image/png": "[encoded data removed]",
      "text/plain": [
       "<Figure size 432x288 with 1 Axes>"
      ]
     },
     "metadata": {
      "needs_background": "light"
     },
     "output_type": "display_data"
    }
   ],
   "source": [
    "_ = plt.hist(y_pred[y_train == 1], bins=20)"
   ]
  },
  {
   "cell_type": "code",
   "execution_count": 34,
   "metadata": {},
   "outputs": [
    {
     "data": {
      "image/png": "[encoded data removed]",
      "text/plain": [
       "<Figure size 432x288 with 1 Axes>"
      ]
     },
     "metadata": {
      "needs_background": "light"
     },
     "output_type": "display_data"
    }
   ],
   "source": [
    "_ = plt.hist(y_pred[y_train == 0], bins=20)"
   ]
  },
  {
   "cell_type": "code",
   "execution_count": 35,
   "metadata": {},
   "outputs": [],
   "source": [
    "def get_scores_for_thresholds(y_true, y_pred_proba, thresholds=None):\n",
    "    if not thresholds:\n",
    "        thresholds = [0.0001, 0.001, 0.01, 0.1, 0.2, 0.3, 0.4, 0.5, 0.6, 0.7, 0.8, 0.9, 0.99, 0.999, 0.9999]\n",
    "    \n",
    "    f1_scores = []\n",
    "    precision_scores = []\n",
    "    recall_scores = []\n",
    "\n",
    "    for t in thresholds:\n",
    "        precision_scores.append(precision_score(y_true, (y_pred_proba > t)))\n",
    "        recall_scores.append(recall_score(y_true, (y_pred_proba > t)))\n",
    "        f1_scores.append(f1_score(y_true, (y_pred_proba > t)))\n",
    "\n",
    "    return pd.DataFrame({\n",
    "        'thresholds': thresholds,\n",
    "        'F1': f1_scores,\n",
    "        'PPV': precision_scores,\n",
    "        'TPR': recall_scores\n",
    "    })"
   ]
  },
  {
   "cell_type": "code",
   "execution_count": 36,
   "metadata": {},
   "outputs": [],
   "source": [
    "scores_df = get_scores_for_thresholds(y_train, y_pred)"
   ]
  },
  {
   "cell_type": "code",
   "execution_count": 37,
   "metadata": {},
   "outputs": [
    {
     "data": {
      "text/plain": [
       "<matplotlib.axes._subplots.AxesSubplot at 0x1db80039808>"
      ]
     },
     "execution_count": 37,
     "metadata": {},
     "output_type": "execute_result"
    },
    {
     "data": {
      "image/png": "[encoded data removed]",
      "text/plain": [
       "<Figure size 432x288 with 1 Axes>"
      ]
     },
     "metadata": {
      "needs_background": "light"
     },
     "output_type": "display_data"
    }
   ],
   "source": [
    "scores_df.plot(x='thresholds', y=['F1', 'PPV', 'TPR'])"
   ]
  },
  {
   "cell_type": "code",
   "execution_count": 38,
   "metadata": {},
   "outputs": [
    {
     "data": {
      "text/html": [
       "<div>\n",
       "<style scoped>\n",
       "    .dataframe tbody tr th:only-of-type {\n",
       "        vertical-align: middle;\n",
       "    }\n",
       "\n",
       "    .dataframe tbody tr th {\n",
       "        vertical-align: top;\n",
       "    }\n",
       "\n",
       "    .dataframe thead th {\n",
       "        text-align: right;\n",
       "    }\n",
       "</style>\n",
       "<table border=\"1\" class=\"dataframe\">\n",
       "  <thead>\n",
       "    <tr style=\"text-align: right;\">\n",
       "      <th></th>\n",
       "      <th>thresholds</th>\n",
       "      <th>F1</th>\n",
       "      <th>PPV</th>\n",
       "      <th>TPR</th>\n",
       "    </tr>\n",
       "  </thead>\n",
       "  <tbody>\n",
       "    <tr>\n",
       "      <td>3</td>\n",
       "      <td>0.1</td>\n",
       "      <td>0.786127</td>\n",
       "      <td>0.795322</td>\n",
       "      <td>0.777143</td>\n",
       "    </tr>\n",
       "  </tbody>\n",
       "</table>\n",
       "</div>"
      ],
      "text/plain": [
       "   thresholds        F1       PPV       TPR\n",
       "3         0.1  0.786127  0.795322  0.777143"
      ]
     },
     "execution_count": 38,
     "metadata": {},
     "output_type": "execute_result"
    }
   ],
   "source": [
    "scores_df[scores_df['F1'] == scores_df['F1'].max()]"
   ]
  },
  {
   "cell_type": "code",
   "execution_count": 39,
   "metadata": {},
   "outputs": [
    {
     "data": {
      "text/plain": [
       "LogisticRegression(C=1.0, class_weight=None, dual=False, fit_intercept=True,\n",
       "                   intercept_scaling=1, l1_ratio=None, max_iter=100,\n",
       "                   multi_class='warn', n_jobs=None, penalty='l2',\n",
       "                   random_state=None, solver='warn', tol=0.0001, verbose=0,\n",
       "                   warm_start=False)"
      ]
     },
     "execution_count": 39,
     "metadata": {},
     "output_type": "execute_result"
    }
   ],
   "source": [
    "model.fit(X_train, y_train)"
   ]
  },
  {
   "cell_type": "code",
   "execution_count": 40,
   "metadata": {},
   "outputs": [],
   "source": [
    "y_pred_test_proba = model.predict_proba(X_test)[:, 1]"
   ]
  },
  {
   "cell_type": "code",
   "execution_count": 41,
   "metadata": {},
   "outputs": [],
   "source": [
    "y_pred_test = (y_pred_test_proba > 0.1).astype(int)"
   ]
  },
  {
   "cell_type": "markdown",
   "metadata": {},
   "source": [
    "### 1. Ważona funkcja celu\n",
    "\n",
    "Regresja logistyczna"
   ]
  },
  {
   "cell_type": "code",
   "execution_count": 42,
   "metadata": {},
   "outputs": [],
   "source": [
    "model = LogisticRegression(class_weight={\n",
    "    0: 1.,\n",
    "    1: 500 \n",
    "}) # zwrcaj uwagę 500 x bardziej na klasę 1 niż na klasę 2\n",
    "y_pred_proba = cross_val_predict(model, \n",
    "                                 X_train, \n",
    "                                 y_train, \n",
    "                                 cv=StratifiedKFold(n_splits=5),\n",
    "                                 method='predict_proba')[:, 1]"
   ]
  },
  {
   "cell_type": "code",
   "execution_count": 43,
   "metadata": {},
   "outputs": [
    {
     "data": {
      "text/plain": [
       "0.9772285797553366"
      ]
     },
     "execution_count": 43,
     "metadata": {},
     "output_type": "execute_result"
    }
   ],
   "source": [
    "roc_auc_score(y_train, y_pred_proba)"
   ]
  },
  {
   "cell_type": "code",
   "execution_count": 44,
   "metadata": {},
   "outputs": [
    {
     "data": {
      "text/plain": [
       "0.12263787119166987"
      ]
     },
     "execution_count": 44,
     "metadata": {},
     "output_type": "execute_result"
    }
   ],
   "source": [
    "f1_score(y_train, (y_pred_proba > 0.5))"
   ]
  },
  {
   "cell_type": "code",
   "execution_count": 45,
   "metadata": {},
   "outputs": [
    {
     "data": {
      "text/html": [
       "<div>\n",
       "<style scoped>\n",
       "    .dataframe tbody tr th:only-of-type {\n",
       "        vertical-align: middle;\n",
       "    }\n",
       "\n",
       "    .dataframe tbody tr th {\n",
       "        vertical-align: top;\n",
       "    }\n",
       "\n",
       "    .dataframe thead th {\n",
       "        text-align: right;\n",
       "    }\n",
       "</style>\n",
       "<table border=\"1\" class=\"dataframe\">\n",
       "  <thead>\n",
       "    <tr style=\"text-align: right;\">\n",
       "      <th></th>\n",
       "      <th>thresholds</th>\n",
       "      <th>F1</th>\n",
       "      <th>PPV</th>\n",
       "      <th>TPR</th>\n",
       "    </tr>\n",
       "  </thead>\n",
       "  <tbody>\n",
       "    <tr>\n",
       "      <td>0</td>\n",
       "      <td>0.0001</td>\n",
       "      <td>0.003689</td>\n",
       "      <td>0.001848</td>\n",
       "      <td>1.000000</td>\n",
       "    </tr>\n",
       "    <tr>\n",
       "      <td>1</td>\n",
       "      <td>0.0010</td>\n",
       "      <td>0.003821</td>\n",
       "      <td>0.001914</td>\n",
       "      <td>0.997143</td>\n",
       "    </tr>\n",
       "    <tr>\n",
       "      <td>2</td>\n",
       "      <td>0.0100</td>\n",
       "      <td>0.004916</td>\n",
       "      <td>0.002464</td>\n",
       "      <td>0.988571</td>\n",
       "    </tr>\n",
       "    <tr>\n",
       "      <td>3</td>\n",
       "      <td>0.1000</td>\n",
       "      <td>0.019131</td>\n",
       "      <td>0.009661</td>\n",
       "      <td>0.962857</td>\n",
       "    </tr>\n",
       "    <tr>\n",
       "      <td>4</td>\n",
       "      <td>0.2000</td>\n",
       "      <td>0.037740</td>\n",
       "      <td>0.019253</td>\n",
       "      <td>0.948571</td>\n",
       "    </tr>\n",
       "    <tr>\n",
       "      <td>5</td>\n",
       "      <td>0.3000</td>\n",
       "      <td>0.059597</td>\n",
       "      <td>0.030796</td>\n",
       "      <td>0.920000</td>\n",
       "    </tr>\n",
       "    <tr>\n",
       "      <td>6</td>\n",
       "      <td>0.4000</td>\n",
       "      <td>0.088410</td>\n",
       "      <td>0.046451</td>\n",
       "      <td>0.914286</td>\n",
       "    </tr>\n",
       "    <tr>\n",
       "      <td>7</td>\n",
       "      <td>0.5000</td>\n",
       "      <td>0.122638</td>\n",
       "      <td>0.065757</td>\n",
       "      <td>0.908571</td>\n",
       "    </tr>\n",
       "    <tr>\n",
       "      <td>8</td>\n",
       "      <td>0.6000</td>\n",
       "      <td>0.164241</td>\n",
       "      <td>0.090337</td>\n",
       "      <td>0.902857</td>\n",
       "    </tr>\n",
       "    <tr>\n",
       "      <td>9</td>\n",
       "      <td>0.7000</td>\n",
       "      <td>0.216084</td>\n",
       "      <td>0.123108</td>\n",
       "      <td>0.882857</td>\n",
       "    </tr>\n",
       "    <tr>\n",
       "      <td>10</td>\n",
       "      <td>0.8000</td>\n",
       "      <td>0.283582</td>\n",
       "      <td>0.169454</td>\n",
       "      <td>0.868571</td>\n",
       "    </tr>\n",
       "    <tr>\n",
       "      <td>11</td>\n",
       "      <td>0.9000</td>\n",
       "      <td>0.417659</td>\n",
       "      <td>0.276695</td>\n",
       "      <td>0.851429</td>\n",
       "    </tr>\n",
       "    <tr>\n",
       "      <td>12</td>\n",
       "      <td>0.9900</td>\n",
       "      <td>0.701583</td>\n",
       "      <td>0.611465</td>\n",
       "      <td>0.822857</td>\n",
       "    </tr>\n",
       "    <tr>\n",
       "      <td>13</td>\n",
       "      <td>0.9990</td>\n",
       "      <td>0.764468</td>\n",
       "      <td>0.722646</td>\n",
       "      <td>0.811429</td>\n",
       "    </tr>\n",
       "    <tr>\n",
       "      <td>14</td>\n",
       "      <td>0.9999</td>\n",
       "      <td>0.784703</td>\n",
       "      <td>0.778090</td>\n",
       "      <td>0.791429</td>\n",
       "    </tr>\n",
       "  </tbody>\n",
       "</table>\n",
       "</div>"
      ],
      "text/plain": [
       "    thresholds        F1       PPV       TPR\n",
       "0       0.0001  0.003689  0.001848  1.000000\n",
       "1       0.0010  0.003821  0.001914  0.997143\n",
       "2       0.0100  0.004916  0.002464  0.988571\n",
       "3       0.1000  0.019131  0.009661  0.962857\n",
       "4       0.2000  0.037740  0.019253  0.948571\n",
       "5       0.3000  0.059597  0.030796  0.920000\n",
       "6       0.4000  0.088410  0.046451  0.914286\n",
       "7       0.5000  0.122638  0.065757  0.908571\n",
       "8       0.6000  0.164241  0.090337  0.902857\n",
       "9       0.7000  0.216084  0.123108  0.882857\n",
       "10      0.8000  0.283582  0.169454  0.868571\n",
       "11      0.9000  0.417659  0.276695  0.851429\n",
       "12      0.9900  0.701583  0.611465  0.822857\n",
       "13      0.9990  0.764468  0.722646  0.811429\n",
       "14      0.9999  0.784703  0.778090  0.791429"
      ]
     },
     "execution_count": 45,
     "metadata": {},
     "output_type": "execute_result"
    }
   ],
   "source": [
    "scores_df = get_scores_for_thresholds(y_train, y_pred_proba)\n",
    "scores_df"
   ]
  },
  {
   "cell_type": "code",
   "execution_count": 46,
   "metadata": {},
   "outputs": [
    {
     "data": {
      "text/html": [
       "<div>\n",
       "<style scoped>\n",
       "    .dataframe tbody tr th:only-of-type {\n",
       "        vertical-align: middle;\n",
       "    }\n",
       "\n",
       "    .dataframe tbody tr th {\n",
       "        vertical-align: top;\n",
       "    }\n",
       "\n",
       "    .dataframe thead th {\n",
       "        text-align: right;\n",
       "    }\n",
       "</style>\n",
       "<table border=\"1\" class=\"dataframe\">\n",
       "  <thead>\n",
       "    <tr style=\"text-align: right;\">\n",
       "      <th></th>\n",
       "      <th>thresholds</th>\n",
       "      <th>F1</th>\n",
       "      <th>PPV</th>\n",
       "      <th>TPR</th>\n",
       "    </tr>\n",
       "  </thead>\n",
       "  <tbody>\n",
       "    <tr>\n",
       "      <td>14</td>\n",
       "      <td>0.9999</td>\n",
       "      <td>0.784703</td>\n",
       "      <td>0.77809</td>\n",
       "      <td>0.791429</td>\n",
       "    </tr>\n",
       "  </tbody>\n",
       "</table>\n",
       "</div>"
      ],
      "text/plain": [
       "    thresholds        F1      PPV       TPR\n",
       "14      0.9999  0.784703  0.77809  0.791429"
      ]
     },
     "execution_count": 46,
     "metadata": {},
     "output_type": "execute_result"
    }
   ],
   "source": [
    "scores_df[scores_df['F1'] == scores_df['F1'].max()]"
   ]
  },
  {
   "cell_type": "code",
   "execution_count": 47,
   "metadata": {},
   "outputs": [
    {
     "data": {
      "image/png": "[encoded data removed]",
      "text/plain": [
       "<Figure size 432x288 with 1 Axes>"
      ]
     },
     "metadata": {
      "needs_background": "light"
     },
     "output_type": "display_data"
    }
   ],
   "source": [
    "_ = plt.hist(y_pred_proba[y_train == 1], bins=20)"
   ]
  },
  {
   "cell_type": "markdown",
   "metadata": {},
   "source": [
    "Sprawdzamy model na zbiorze testowym"
   ]
  },
  {
   "cell_type": "code",
   "execution_count": 48,
   "metadata": {},
   "outputs": [
    {
     "data": {
      "text/plain": [
       "LogisticRegression(C=1.0, class_weight={0: 1.0, 1: 500}, dual=False,\n",
       "                   fit_intercept=True, intercept_scaling=1, l1_ratio=None,\n",
       "                   max_iter=100, multi_class='warn', n_jobs=None, penalty='l2',\n",
       "                   random_state=None, solver='warn', tol=0.0001, verbose=0,\n",
       "                   warm_start=False)"
      ]
     },
     "execution_count": 48,
     "metadata": {},
     "output_type": "execute_result"
    }
   ],
   "source": [
    "model = LogisticRegression(class_weight={\n",
    "    0: 1.,\n",
    "    1: 500 \n",
    "})\n",
    "\n",
    "model.fit(X_train, y_train)"
   ]
  },
  {
   "cell_type": "code",
   "execution_count": 49,
   "metadata": {},
   "outputs": [],
   "source": [
    "y_pred_test_proba = model.predict_proba(X_test)[:, 1]"
   ]
  },
  {
   "cell_type": "code",
   "execution_count": 50,
   "metadata": {},
   "outputs": [],
   "source": [
    "y_pred_test = (y_pred_test_proba > 0.9999).astype(int)"
   ]
  },
  {
   "cell_type": "code",
   "execution_count": 51,
   "metadata": {},
   "outputs": [
    {
     "data": {
      "text/plain": [
       "0.795847750865052"
      ]
     },
     "execution_count": 51,
     "metadata": {},
     "output_type": "execute_result"
    }
   ],
   "source": [
    "f1_score(y_test, y_pred_test)"
   ]
  },
  {
   "cell_type": "code",
   "execution_count": 52,
   "metadata": {},
   "outputs": [
    {
     "data": {
      "text/plain": [
       "0.8098591549295775"
      ]
     },
     "execution_count": 52,
     "metadata": {},
     "output_type": "execute_result"
    }
   ],
   "source": [
    "recall_score(y_test, y_pred_test)"
   ]
  },
  {
   "cell_type": "code",
   "execution_count": 53,
   "metadata": {},
   "outputs": [
    {
     "data": {
      "text/plain": [
       "0.782312925170068"
      ]
     },
     "execution_count": 53,
     "metadata": {},
     "output_type": "execute_result"
    }
   ],
   "source": [
    "precision_score(y_test, y_pred_test)"
   ]
  },
  {
   "cell_type": "code",
   "execution_count": null,
   "metadata": {},
   "outputs": [],
   "source": []
  },
  {
   "cell_type": "code",
   "execution_count": 54,
   "metadata": {},
   "outputs": [],
   "source": [
    "from sklearn.ensemble import RandomForestClassifier"
   ]
  },
  {
   "cell_type": "markdown",
   "metadata": {},
   "source": [
    "### 2. Undersamplig\n",
    "\n",
    "Uwaga: w praktyce dobrze jest sterować losowaniem tak, żeby losować różne obserwacje."
   ]
  },
  {
   "cell_type": "code",
   "execution_count": 55,
   "metadata": {},
   "outputs": [],
   "source": [
    "from copy import deepcopy"
   ]
  },
  {
   "cell_type": "code",
   "execution_count": 56,
   "metadata": {},
   "outputs": [],
   "source": [
    "def cv_undersampling(X, y, model, size=1, cv=StratifiedKFold(5)):\n",
    "    # size - stosunek liczby obserwacji klasy 0 do klasy 1\n",
    "    y_pred_proba = []\n",
    "    y_true = []\n",
    "    \n",
    "    for train_idx, test_idx in cv.split(X, y):\n",
    "        X_train, X_test = X[train_idx, :], X[test_idx, :]\n",
    "        y_train, y_test = y[train_idx], y[test_idx]\n",
    "    \n",
    "        # pobierz wszystkie indeksy klasy 0  w zbiorze treningowym\n",
    "        class_0_indices = np.where(y_train == 0)[0]\n",
    "        \n",
    "        # sprawdź liczność klasy 1 w zbiorze treningowym\n",
    "        class_1_amount = np.sum((y_train==1).astype(int))\n",
    "        # LUB  y_train[y_train==1].shape[0]\n",
    "        \n",
    "        # wyznacz liczbę wymaganych obserwacji klasy 0 w oparciu o współczynnik size\n",
    "        class_0_indices_number = int(size * class_1_amount)\n",
    "        \n",
    "        # wylosuj class_0_indices_number-elementowy podzbiór indeksów klasy 0 z wszystkich dostępnych próbek klasy 0\n",
    "        idx0 = np.random.choice(class_0_indices, class_0_indices_number, replace=False)\n",
    "        \n",
    "        # pobierz wszystkie indeksy klasy 1\n",
    "        idx1 = np.where(y_train == 1)[0]\n",
    "        \n",
    "        # połącz wybrane indeksy klasy 0 i 1\n",
    "        idx_all = np.r_[idx0, idx1]\n",
    "        \n",
    "        # wyznacz podzbiór obserwacji ze zbioru treningowego\n",
    "        X_train_sub = X_train[idx_all, :]\n",
    "        y_train_sub = y_train[idx_all]\n",
    "        \n",
    "        # zadbaj o nienadpisywanie się modelu\n",
    "        model_tmp = deepcopy(model)\n",
    "        \n",
    "        # naucz model i wykonaj predyckję\n",
    "        model_tmp.fit(X_train_sub, y_train_sub)\n",
    "        y_pred = model_tmp.predict_proba(X_test)[:, 1]\n",
    "        \n",
    "        # Dodaj predykcję i warotści rzeczywiste do konteknerów\n",
    "        y_pred_proba.extend(y_pred.tolist())\n",
    "        y_true.extend(y_test.tolist())\n",
    "    \n",
    "    return np.array(y_pred_proba), np.array(y_true)"
   ]
  },
  {
   "cell_type": "code",
   "execution_count": 57,
   "metadata": {},
   "outputs": [],
   "source": [
    "y_pred_proba, y_true = cv_undersampling(X=X_train,\n",
    "                                        y=y_train,\n",
    "                                        model=LogisticRegression(), \n",
    "                                        size=10,\n",
    "                                        cv=StratifiedKFold(5))"
   ]
  },
  {
   "cell_type": "code",
   "execution_count": 58,
   "metadata": {},
   "outputs": [
    {
     "data": {
      "text/html": [
       "<div>\n",
       "<style scoped>\n",
       "    .dataframe tbody tr th:only-of-type {\n",
       "        vertical-align: middle;\n",
       "    }\n",
       "\n",
       "    .dataframe tbody tr th {\n",
       "        vertical-align: top;\n",
       "    }\n",
       "\n",
       "    .dataframe thead th {\n",
       "        text-align: right;\n",
       "    }\n",
       "</style>\n",
       "<table border=\"1\" class=\"dataframe\">\n",
       "  <thead>\n",
       "    <tr style=\"text-align: right;\">\n",
       "      <th></th>\n",
       "      <th>thresholds</th>\n",
       "      <th>F1</th>\n",
       "      <th>PPV</th>\n",
       "      <th>TPR</th>\n",
       "    </tr>\n",
       "  </thead>\n",
       "  <tbody>\n",
       "    <tr>\n",
       "      <td>0</td>\n",
       "      <td>0.0001</td>\n",
       "      <td>0.003570</td>\n",
       "      <td>0.001788</td>\n",
       "      <td>1.000000</td>\n",
       "    </tr>\n",
       "    <tr>\n",
       "      <td>1</td>\n",
       "      <td>0.0010</td>\n",
       "      <td>0.003889</td>\n",
       "      <td>0.001948</td>\n",
       "      <td>0.997143</td>\n",
       "    </tr>\n",
       "    <tr>\n",
       "      <td>2</td>\n",
       "      <td>0.0100</td>\n",
       "      <td>0.010976</td>\n",
       "      <td>0.005519</td>\n",
       "      <td>0.980000</td>\n",
       "    </tr>\n",
       "    <tr>\n",
       "      <td>3</td>\n",
       "      <td>0.1000</td>\n",
       "      <td>0.109765</td>\n",
       "      <td>0.058422</td>\n",
       "      <td>0.905714</td>\n",
       "    </tr>\n",
       "    <tr>\n",
       "      <td>4</td>\n",
       "      <td>0.2000</td>\n",
       "      <td>0.208333</td>\n",
       "      <td>0.118050</td>\n",
       "      <td>0.885714</td>\n",
       "    </tr>\n",
       "    <tr>\n",
       "      <td>5</td>\n",
       "      <td>0.3000</td>\n",
       "      <td>0.281612</td>\n",
       "      <td>0.168049</td>\n",
       "      <td>0.868571</td>\n",
       "    </tr>\n",
       "    <tr>\n",
       "      <td>6</td>\n",
       "      <td>0.4000</td>\n",
       "      <td>0.361128</td>\n",
       "      <td>0.228550</td>\n",
       "      <td>0.860000</td>\n",
       "    </tr>\n",
       "    <tr>\n",
       "      <td>7</td>\n",
       "      <td>0.5000</td>\n",
       "      <td>0.441636</td>\n",
       "      <td>0.298492</td>\n",
       "      <td>0.848571</td>\n",
       "    </tr>\n",
       "    <tr>\n",
       "      <td>8</td>\n",
       "      <td>0.6000</td>\n",
       "      <td>0.519824</td>\n",
       "      <td>0.375796</td>\n",
       "      <td>0.842857</td>\n",
       "    </tr>\n",
       "    <tr>\n",
       "      <td>9</td>\n",
       "      <td>0.7000</td>\n",
       "      <td>0.592965</td>\n",
       "      <td>0.457364</td>\n",
       "      <td>0.842857</td>\n",
       "    </tr>\n",
       "    <tr>\n",
       "      <td>10</td>\n",
       "      <td>0.8000</td>\n",
       "      <td>0.651685</td>\n",
       "      <td>0.537037</td>\n",
       "      <td>0.828571</td>\n",
       "    </tr>\n",
       "    <tr>\n",
       "      <td>11</td>\n",
       "      <td>0.9000</td>\n",
       "      <td>0.707046</td>\n",
       "      <td>0.623094</td>\n",
       "      <td>0.817143</td>\n",
       "    </tr>\n",
       "    <tr>\n",
       "      <td>12</td>\n",
       "      <td>0.9900</td>\n",
       "      <td>0.757746</td>\n",
       "      <td>0.747222</td>\n",
       "      <td>0.768571</td>\n",
       "    </tr>\n",
       "    <tr>\n",
       "      <td>13</td>\n",
       "      <td>0.9990</td>\n",
       "      <td>0.758410</td>\n",
       "      <td>0.815789</td>\n",
       "      <td>0.708571</td>\n",
       "    </tr>\n",
       "    <tr>\n",
       "      <td>14</td>\n",
       "      <td>0.9999</td>\n",
       "      <td>0.733766</td>\n",
       "      <td>0.849624</td>\n",
       "      <td>0.645714</td>\n",
       "    </tr>\n",
       "  </tbody>\n",
       "</table>\n",
       "</div>"
      ],
      "text/plain": [
       "    thresholds        F1       PPV       TPR\n",
       "0       0.0001  0.003570  0.001788  1.000000\n",
       "1       0.0010  0.003889  0.001948  0.997143\n",
       "2       0.0100  0.010976  0.005519  0.980000\n",
       "3       0.1000  0.109765  0.058422  0.905714\n",
       "4       0.2000  0.208333  0.118050  0.885714\n",
       "5       0.3000  0.281612  0.168049  0.868571\n",
       "6       0.4000  0.361128  0.228550  0.860000\n",
       "7       0.5000  0.441636  0.298492  0.848571\n",
       "8       0.6000  0.519824  0.375796  0.842857\n",
       "9       0.7000  0.592965  0.457364  0.842857\n",
       "10      0.8000  0.651685  0.537037  0.828571\n",
       "11      0.9000  0.707046  0.623094  0.817143\n",
       "12      0.9900  0.757746  0.747222  0.768571\n",
       "13      0.9990  0.758410  0.815789  0.708571\n",
       "14      0.9999  0.733766  0.849624  0.645714"
      ]
     },
     "execution_count": 58,
     "metadata": {},
     "output_type": "execute_result"
    }
   ],
   "source": [
    "scores_df = get_scores_for_thresholds(y_true, y_pred_proba)\n",
    "scores_df"
   ]
  },
  {
   "cell_type": "markdown",
   "metadata": {},
   "source": [
    "### 3. Oversampling.\n",
    "\n",
    "Uwaga: obliczenia trwają dłużej."
   ]
  },
  {
   "cell_type": "code",
   "execution_count": 59,
   "metadata": {},
   "outputs": [],
   "source": [
    "def cv_oversampling(X, y, model, size=1, cv=StratifiedKFold(5)):\n",
    "    # size - stosunek liczby obserwacji klasy 0 do klasy 1\n",
    "    y_pred_proba = []\n",
    "    y_true = []\n",
    "    \n",
    "    for train_idx, test_idx in cv.split(X, y):\n",
    "        X_train, X_test = X[train_idx, :], X[test_idx, :]\n",
    "        y_train, y_test = y[train_idx], y[test_idx]\n",
    "    \n",
    "        # pobierz wszystkie indeksy klasy 1 w zbiorze treningowym\n",
    "        class_1_indices = np.where(y_train == 1)[0]\n",
    "        \n",
    "        # sprawdź liczność klasy 0 w zbiorze treningowym\n",
    "        class_0_amount = np.sum((y_train==0).astype(int))\n",
    "        # LUB  y_train[y_train==1].shape[0]\n",
    "        \n",
    "        # wyznacz liczbę wymaganych obserwacji klasy 1 w oparciu o współczynnik size\n",
    "        class_1_indices_number = class_0_amount // size\n",
    "        \n",
    "        # rozbuduj werktor obserwacji klasy 1 zgodnie z wymaganym rozmiarem\n",
    "        idx1 = np.resize(class_1_indices, class_1_indices_number)\n",
    "        # TODO zaprponuj lepsza randomizajcę nakładania się indeksów\n",
    "        \n",
    "        # pobierz wszystkie indeksy klasy 0\n",
    "        idx0 = np.where(y_train == 0)[0]\n",
    "        \n",
    "        # połącz wybrane indeksy klasy 0 i 1\n",
    "        idx_all = np.r_[idx0, idx1]\n",
    "        \n",
    "        # wyznacz podzbiór obserwacji ze zbioru treningowego\n",
    "        X_train_sub = X_train[idx_all, :]\n",
    "        y_train_sub = y_train[idx_all]\n",
    "        \n",
    "        # zadbaj o nienadpisywanie się modelu\n",
    "        model_tmp = deepcopy(model)\n",
    "        \n",
    "        # naucz model i wykonaj predyckję\n",
    "        model_tmp.fit(X_train_sub, y_train_sub)\n",
    "        y_pred = model_tmp.predict_proba(X_test)[:, 1]\n",
    "        \n",
    "        # Dodaj predykcję i warotści rzeczywiste do konteknerów\n",
    "        y_pred_proba.extend(y_pred.tolist())\n",
    "        y_true.extend(y_test.tolist())\n",
    "    \n",
    "    return np.array(y_pred_proba), np.array(y_true)"
   ]
  },
  {
   "cell_type": "code",
   "execution_count": 60,
   "metadata": {},
   "outputs": [],
   "source": [
    "# y_pred_proba, y_true = cv_oversampling(X=X_train,\n",
    "#                                         y=y_train,\n",
    "#                                         model=LogisticRegression(), \n",
    "#                                         size=10,\n",
    "#                                         cv=StratifiedKFold(5))"
   ]
  },
  {
   "cell_type": "code",
   "execution_count": 61,
   "metadata": {
    "scrolled": false
   },
   "outputs": [
    {
     "data": {
      "text/html": [
       "<div>\n",
       "<style scoped>\n",
       "    .dataframe tbody tr th:only-of-type {\n",
       "        vertical-align: middle;\n",
       "    }\n",
       "\n",
       "    .dataframe tbody tr th {\n",
       "        vertical-align: top;\n",
       "    }\n",
       "\n",
       "    .dataframe thead th {\n",
       "        text-align: right;\n",
       "    }\n",
       "</style>\n",
       "<table border=\"1\" class=\"dataframe\">\n",
       "  <thead>\n",
       "    <tr style=\"text-align: right;\">\n",
       "      <th></th>\n",
       "      <th>thresholds</th>\n",
       "      <th>F1</th>\n",
       "      <th>PPV</th>\n",
       "      <th>TPR</th>\n",
       "    </tr>\n",
       "  </thead>\n",
       "  <tbody>\n",
       "    <tr>\n",
       "      <td>0</td>\n",
       "      <td>0.0001</td>\n",
       "      <td>0.003570</td>\n",
       "      <td>0.001788</td>\n",
       "      <td>1.000000</td>\n",
       "    </tr>\n",
       "    <tr>\n",
       "      <td>1</td>\n",
       "      <td>0.0010</td>\n",
       "      <td>0.003889</td>\n",
       "      <td>0.001948</td>\n",
       "      <td>0.997143</td>\n",
       "    </tr>\n",
       "    <tr>\n",
       "      <td>2</td>\n",
       "      <td>0.0100</td>\n",
       "      <td>0.010976</td>\n",
       "      <td>0.005519</td>\n",
       "      <td>0.980000</td>\n",
       "    </tr>\n",
       "    <tr>\n",
       "      <td>3</td>\n",
       "      <td>0.1000</td>\n",
       "      <td>0.109765</td>\n",
       "      <td>0.058422</td>\n",
       "      <td>0.905714</td>\n",
       "    </tr>\n",
       "    <tr>\n",
       "      <td>4</td>\n",
       "      <td>0.2000</td>\n",
       "      <td>0.208333</td>\n",
       "      <td>0.118050</td>\n",
       "      <td>0.885714</td>\n",
       "    </tr>\n",
       "    <tr>\n",
       "      <td>5</td>\n",
       "      <td>0.3000</td>\n",
       "      <td>0.281612</td>\n",
       "      <td>0.168049</td>\n",
       "      <td>0.868571</td>\n",
       "    </tr>\n",
       "    <tr>\n",
       "      <td>6</td>\n",
       "      <td>0.4000</td>\n",
       "      <td>0.361128</td>\n",
       "      <td>0.228550</td>\n",
       "      <td>0.860000</td>\n",
       "    </tr>\n",
       "    <tr>\n",
       "      <td>7</td>\n",
       "      <td>0.5000</td>\n",
       "      <td>0.441636</td>\n",
       "      <td>0.298492</td>\n",
       "      <td>0.848571</td>\n",
       "    </tr>\n",
       "    <tr>\n",
       "      <td>8</td>\n",
       "      <td>0.6000</td>\n",
       "      <td>0.519824</td>\n",
       "      <td>0.375796</td>\n",
       "      <td>0.842857</td>\n",
       "    </tr>\n",
       "    <tr>\n",
       "      <td>9</td>\n",
       "      <td>0.7000</td>\n",
       "      <td>0.592965</td>\n",
       "      <td>0.457364</td>\n",
       "      <td>0.842857</td>\n",
       "    </tr>\n",
       "    <tr>\n",
       "      <td>10</td>\n",
       "      <td>0.8000</td>\n",
       "      <td>0.651685</td>\n",
       "      <td>0.537037</td>\n",
       "      <td>0.828571</td>\n",
       "    </tr>\n",
       "    <tr>\n",
       "      <td>11</td>\n",
       "      <td>0.9000</td>\n",
       "      <td>0.707046</td>\n",
       "      <td>0.623094</td>\n",
       "      <td>0.817143</td>\n",
       "    </tr>\n",
       "    <tr>\n",
       "      <td>12</td>\n",
       "      <td>0.9900</td>\n",
       "      <td>0.757746</td>\n",
       "      <td>0.747222</td>\n",
       "      <td>0.768571</td>\n",
       "    </tr>\n",
       "    <tr>\n",
       "      <td>13</td>\n",
       "      <td>0.9990</td>\n",
       "      <td>0.758410</td>\n",
       "      <td>0.815789</td>\n",
       "      <td>0.708571</td>\n",
       "    </tr>\n",
       "    <tr>\n",
       "      <td>14</td>\n",
       "      <td>0.9999</td>\n",
       "      <td>0.733766</td>\n",
       "      <td>0.849624</td>\n",
       "      <td>0.645714</td>\n",
       "    </tr>\n",
       "  </tbody>\n",
       "</table>\n",
       "</div>"
      ],
      "text/plain": [
       "    thresholds        F1       PPV       TPR\n",
       "0       0.0001  0.003570  0.001788  1.000000\n",
       "1       0.0010  0.003889  0.001948  0.997143\n",
       "2       0.0100  0.010976  0.005519  0.980000\n",
       "3       0.1000  0.109765  0.058422  0.905714\n",
       "4       0.2000  0.208333  0.118050  0.885714\n",
       "5       0.3000  0.281612  0.168049  0.868571\n",
       "6       0.4000  0.361128  0.228550  0.860000\n",
       "7       0.5000  0.441636  0.298492  0.848571\n",
       "8       0.6000  0.519824  0.375796  0.842857\n",
       "9       0.7000  0.592965  0.457364  0.842857\n",
       "10      0.8000  0.651685  0.537037  0.828571\n",
       "11      0.9000  0.707046  0.623094  0.817143\n",
       "12      0.9900  0.757746  0.747222  0.768571\n",
       "13      0.9990  0.758410  0.815789  0.708571\n",
       "14      0.9999  0.733766  0.849624  0.645714"
      ]
     },
     "execution_count": 61,
     "metadata": {},
     "output_type": "execute_result"
    }
   ],
   "source": [
    "scores_df = get_scores_for_thresholds(y_true, y_pred_proba)\n",
    "scores_df"
   ]
  },
  {
   "cell_type": "markdown",
   "metadata": {},
   "source": [
    "### Zadanie: modyfikowany undersampling\n",
    "\n",
    "Opis algorytmu: k-krotnie dokonujemy predykcji przy użyciu undersamplingu, a następnie ostateczna predykcja to średnia z prawdopodobieństw k predykcji."
   ]
  },
  {
   "cell_type": "code",
   "execution_count": 62,
   "metadata": {},
   "outputs": [],
   "source": [
    "def cv_repeated_undersampling(X, y, model, n_estimators=20, size=1, cv=StratifiedKFold(5)):\n",
    "    # size - stosunek liczby obserwacji klasy 0 do klasy 1\n",
    "    y_pred_proba = []\n",
    "    y_true = []\n",
    "    \n",
    "    for train_idx, test_idx in cv.split(X, y):\n",
    "        X_train, X_test = X[train_idx, :], X[test_idx, :]\n",
    "        y_train, y_test = y[train_idx], y[test_idx]\n",
    "    \n",
    "        # pobierz wszystkie indeksy klasy 0  w zbiorze treningowym\n",
    "        class_0_indices = np.where(y_train == 0)[0]\n",
    "        \n",
    "        # sprawdź liczność klasy 1 w zbiorze treningowym\n",
    "        class_1_amount = np.sum((y_train==1).astype(int))\n",
    "        # LUB  y_train[y_train==1].shape[0]\n",
    "        \n",
    "        # wyznacz liczbę wymaganych obserwacji klasy 0 w oparciu o współczynnik size\n",
    "        class_0_indices_number = int(size * class_1_amount)\n",
    "        \n",
    "        # swtórz kontener na wyniki z n modeli w ramach jednego folda\n",
    "        y_pred_proba_n_models = np.zeros((n_estimators, len(y_test)))\n",
    "        \n",
    "        for i in range(n_estimators):\n",
    "            # wylosuj class_0_indices_number-elementowy podzbiór indeksów klasy 0 z wszystkich dostępnych próbek klasy 0\n",
    "            idx0 = np.random.choice(class_0_indices, class_0_indices_number, replace=False)\n",
    "\n",
    "            # pobierz wszystkie indeksy klasy 1\n",
    "            idx1 = np.where(y_train == 1)[0]\n",
    "\n",
    "            # połącz wybrane indeksy klasy 0 i 1\n",
    "            idx_all = np.r_[idx0, idx1]\n",
    "\n",
    "            # wyznacz podzbiór obserwacji ze zbioru treningowego\n",
    "            X_train_sub = X_train[idx_all, :]\n",
    "            y_train_sub = y_train[idx_all]\n",
    "\n",
    "            # zadbaj o nienadpisywanie się modelu\n",
    "            model_tmp = deepcopy(model)\n",
    "\n",
    "            # naucz model i wykonaj predyckję\n",
    "            model_tmp.fit(X_train_sub, y_train_sub)\n",
    "            y_pred = model_tmp.predict_proba(X_test)[:, 1]\n",
    "            \n",
    "            # przypisz predykcję z obecnego modelu do kontenera\n",
    "            y_pred_proba_n_models[i, :] = y_pred\n",
    "            \n",
    "        # oblicz średnie prawdopodobieństwa wyboru klasy z n_modeli\n",
    "        y_pred_proba_n_models_mean = y_pred_proba_n_models.mean(0)\n",
    "\n",
    "        # Dodaj predykcję i wartości rzeczywiste do konteknerów\n",
    "        y_pred_proba.extend(y_pred_proba_n_models_mean.tolist())\n",
    "        y_true.extend(y_test.tolist())\n",
    "    \n",
    "    return np.array(y_pred_proba), np.array(y_true)"
   ]
  },
  {
   "cell_type": "code",
   "execution_count": 63,
   "metadata": {},
   "outputs": [],
   "source": [
    "y_pred_proba, y_true = cv_repeated_undersampling(X=X_train,\n",
    "                                                 y=y_train,\n",
    "                                                 model=LogisticRegression(), \n",
    "                                                 size=10,\n",
    "                                                 n_estimators=100,\n",
    "                                                 cv=StratifiedKFold(5))"
   ]
  },
  {
   "cell_type": "code",
   "execution_count": 64,
   "metadata": {},
   "outputs": [
    {
     "data": {
      "text/html": [
       "<div>\n",
       "<style scoped>\n",
       "    .dataframe tbody tr th:only-of-type {\n",
       "        vertical-align: middle;\n",
       "    }\n",
       "\n",
       "    .dataframe tbody tr th {\n",
       "        vertical-align: top;\n",
       "    }\n",
       "\n",
       "    .dataframe thead th {\n",
       "        text-align: right;\n",
       "    }\n",
       "</style>\n",
       "<table border=\"1\" class=\"dataframe\">\n",
       "  <thead>\n",
       "    <tr style=\"text-align: right;\">\n",
       "      <th></th>\n",
       "      <th>thresholds</th>\n",
       "      <th>F1</th>\n",
       "      <th>PPV</th>\n",
       "      <th>TPR</th>\n",
       "    </tr>\n",
       "  </thead>\n",
       "  <tbody>\n",
       "    <tr>\n",
       "      <td>0</td>\n",
       "      <td>0.0001</td>\n",
       "      <td>0.003539</td>\n",
       "      <td>0.001773</td>\n",
       "      <td>1.000000</td>\n",
       "    </tr>\n",
       "    <tr>\n",
       "      <td>1</td>\n",
       "      <td>0.0010</td>\n",
       "      <td>0.003812</td>\n",
       "      <td>0.001910</td>\n",
       "      <td>1.000000</td>\n",
       "    </tr>\n",
       "    <tr>\n",
       "      <td>2</td>\n",
       "      <td>0.0100</td>\n",
       "      <td>0.010584</td>\n",
       "      <td>0.005321</td>\n",
       "      <td>0.982857</td>\n",
       "    </tr>\n",
       "    <tr>\n",
       "      <td>3</td>\n",
       "      <td>0.1000</td>\n",
       "      <td>0.111189</td>\n",
       "      <td>0.059206</td>\n",
       "      <td>0.911429</td>\n",
       "    </tr>\n",
       "    <tr>\n",
       "      <td>4</td>\n",
       "      <td>0.2000</td>\n",
       "      <td>0.219866</td>\n",
       "      <td>0.125454</td>\n",
       "      <td>0.888571</td>\n",
       "    </tr>\n",
       "    <tr>\n",
       "      <td>5</td>\n",
       "      <td>0.3000</td>\n",
       "      <td>0.307146</td>\n",
       "      <td>0.186691</td>\n",
       "      <td>0.865714</td>\n",
       "    </tr>\n",
       "    <tr>\n",
       "      <td>6</td>\n",
       "      <td>0.4000</td>\n",
       "      <td>0.404040</td>\n",
       "      <td>0.264317</td>\n",
       "      <td>0.857143</td>\n",
       "    </tr>\n",
       "    <tr>\n",
       "      <td>7</td>\n",
       "      <td>0.5000</td>\n",
       "      <td>0.513793</td>\n",
       "      <td>0.367901</td>\n",
       "      <td>0.851429</td>\n",
       "    </tr>\n",
       "    <tr>\n",
       "      <td>8</td>\n",
       "      <td>0.6000</td>\n",
       "      <td>0.605749</td>\n",
       "      <td>0.472756</td>\n",
       "      <td>0.842857</td>\n",
       "    </tr>\n",
       "    <tr>\n",
       "      <td>9</td>\n",
       "      <td>0.7000</td>\n",
       "      <td>0.681395</td>\n",
       "      <td>0.574510</td>\n",
       "      <td>0.837143</td>\n",
       "    </tr>\n",
       "    <tr>\n",
       "      <td>10</td>\n",
       "      <td>0.8000</td>\n",
       "      <td>0.735632</td>\n",
       "      <td>0.665127</td>\n",
       "      <td>0.822857</td>\n",
       "    </tr>\n",
       "    <tr>\n",
       "      <td>11</td>\n",
       "      <td>0.9000</td>\n",
       "      <td>0.789400</td>\n",
       "      <td>0.771117</td>\n",
       "      <td>0.808571</td>\n",
       "    </tr>\n",
       "    <tr>\n",
       "      <td>12</td>\n",
       "      <td>0.9900</td>\n",
       "      <td>0.764253</td>\n",
       "      <td>0.829431</td>\n",
       "      <td>0.708571</td>\n",
       "    </tr>\n",
       "    <tr>\n",
       "      <td>13</td>\n",
       "      <td>0.9990</td>\n",
       "      <td>0.719449</td>\n",
       "      <td>0.904762</td>\n",
       "      <td>0.597143</td>\n",
       "    </tr>\n",
       "    <tr>\n",
       "      <td>14</td>\n",
       "      <td>0.9999</td>\n",
       "      <td>0.632163</td>\n",
       "      <td>0.895288</td>\n",
       "      <td>0.488571</td>\n",
       "    </tr>\n",
       "  </tbody>\n",
       "</table>\n",
       "</div>"
      ],
      "text/plain": [
       "    thresholds        F1       PPV       TPR\n",
       "0       0.0001  0.003539  0.001773  1.000000\n",
       "1       0.0010  0.003812  0.001910  1.000000\n",
       "2       0.0100  0.010584  0.005321  0.982857\n",
       "3       0.1000  0.111189  0.059206  0.911429\n",
       "4       0.2000  0.219866  0.125454  0.888571\n",
       "5       0.3000  0.307146  0.186691  0.865714\n",
       "6       0.4000  0.404040  0.264317  0.857143\n",
       "7       0.5000  0.513793  0.367901  0.851429\n",
       "8       0.6000  0.605749  0.472756  0.842857\n",
       "9       0.7000  0.681395  0.574510  0.837143\n",
       "10      0.8000  0.735632  0.665127  0.822857\n",
       "11      0.9000  0.789400  0.771117  0.808571\n",
       "12      0.9900  0.764253  0.829431  0.708571\n",
       "13      0.9990  0.719449  0.904762  0.597143\n",
       "14      0.9999  0.632163  0.895288  0.488571"
      ]
     },
     "execution_count": 64,
     "metadata": {},
     "output_type": "execute_result"
    }
   ],
   "source": [
    "scores_df = get_scores_for_thresholds(y_true, y_pred_proba)\n",
    "scores_df"
   ]
  },
  {
   "cell_type": "code",
   "execution_count": 65,
   "metadata": {},
   "outputs": [],
   "source": [
    "# %%time\n",
    "# y_pred_proba, y_true = cv_repeated_undersampling(X=X_train,\n",
    "#                                                  y=y_train,\n",
    "#                                                  model=RandomForestClassifier(n_estimators=200), \n",
    "#                                                  size=10,\n",
    "#                                                  n_estimators=100,\n",
    "#                                                  cv=StratifiedKFold(5))"
   ]
  },
  {
   "cell_type": "code",
   "execution_count": 66,
   "metadata": {},
   "outputs": [
    {
     "data": {
      "text/html": [
       "<div>\n",
       "<style scoped>\n",
       "    .dataframe tbody tr th:only-of-type {\n",
       "        vertical-align: middle;\n",
       "    }\n",
       "\n",
       "    .dataframe tbody tr th {\n",
       "        vertical-align: top;\n",
       "    }\n",
       "\n",
       "    .dataframe thead th {\n",
       "        text-align: right;\n",
       "    }\n",
       "</style>\n",
       "<table border=\"1\" class=\"dataframe\">\n",
       "  <thead>\n",
       "    <tr style=\"text-align: right;\">\n",
       "      <th></th>\n",
       "      <th>thresholds</th>\n",
       "      <th>F1</th>\n",
       "      <th>PPV</th>\n",
       "      <th>TPR</th>\n",
       "    </tr>\n",
       "  </thead>\n",
       "  <tbody>\n",
       "    <tr>\n",
       "      <td>0</td>\n",
       "      <td>0.0001</td>\n",
       "      <td>0.003539</td>\n",
       "      <td>0.001773</td>\n",
       "      <td>1.000000</td>\n",
       "    </tr>\n",
       "    <tr>\n",
       "      <td>1</td>\n",
       "      <td>0.0010</td>\n",
       "      <td>0.003812</td>\n",
       "      <td>0.001910</td>\n",
       "      <td>1.000000</td>\n",
       "    </tr>\n",
       "    <tr>\n",
       "      <td>2</td>\n",
       "      <td>0.0100</td>\n",
       "      <td>0.010584</td>\n",
       "      <td>0.005321</td>\n",
       "      <td>0.982857</td>\n",
       "    </tr>\n",
       "    <tr>\n",
       "      <td>3</td>\n",
       "      <td>0.1000</td>\n",
       "      <td>0.111189</td>\n",
       "      <td>0.059206</td>\n",
       "      <td>0.911429</td>\n",
       "    </tr>\n",
       "    <tr>\n",
       "      <td>4</td>\n",
       "      <td>0.2000</td>\n",
       "      <td>0.219866</td>\n",
       "      <td>0.125454</td>\n",
       "      <td>0.888571</td>\n",
       "    </tr>\n",
       "    <tr>\n",
       "      <td>5</td>\n",
       "      <td>0.3000</td>\n",
       "      <td>0.307146</td>\n",
       "      <td>0.186691</td>\n",
       "      <td>0.865714</td>\n",
       "    </tr>\n",
       "    <tr>\n",
       "      <td>6</td>\n",
       "      <td>0.4000</td>\n",
       "      <td>0.404040</td>\n",
       "      <td>0.264317</td>\n",
       "      <td>0.857143</td>\n",
       "    </tr>\n",
       "    <tr>\n",
       "      <td>7</td>\n",
       "      <td>0.5000</td>\n",
       "      <td>0.513793</td>\n",
       "      <td>0.367901</td>\n",
       "      <td>0.851429</td>\n",
       "    </tr>\n",
       "    <tr>\n",
       "      <td>8</td>\n",
       "      <td>0.6000</td>\n",
       "      <td>0.605749</td>\n",
       "      <td>0.472756</td>\n",
       "      <td>0.842857</td>\n",
       "    </tr>\n",
       "    <tr>\n",
       "      <td>9</td>\n",
       "      <td>0.7000</td>\n",
       "      <td>0.681395</td>\n",
       "      <td>0.574510</td>\n",
       "      <td>0.837143</td>\n",
       "    </tr>\n",
       "    <tr>\n",
       "      <td>10</td>\n",
       "      <td>0.8000</td>\n",
       "      <td>0.735632</td>\n",
       "      <td>0.665127</td>\n",
       "      <td>0.822857</td>\n",
       "    </tr>\n",
       "    <tr>\n",
       "      <td>11</td>\n",
       "      <td>0.9000</td>\n",
       "      <td>0.789400</td>\n",
       "      <td>0.771117</td>\n",
       "      <td>0.808571</td>\n",
       "    </tr>\n",
       "    <tr>\n",
       "      <td>12</td>\n",
       "      <td>0.9900</td>\n",
       "      <td>0.764253</td>\n",
       "      <td>0.829431</td>\n",
       "      <td>0.708571</td>\n",
       "    </tr>\n",
       "    <tr>\n",
       "      <td>13</td>\n",
       "      <td>0.9990</td>\n",
       "      <td>0.719449</td>\n",
       "      <td>0.904762</td>\n",
       "      <td>0.597143</td>\n",
       "    </tr>\n",
       "    <tr>\n",
       "      <td>14</td>\n",
       "      <td>0.9999</td>\n",
       "      <td>0.632163</td>\n",
       "      <td>0.895288</td>\n",
       "      <td>0.488571</td>\n",
       "    </tr>\n",
       "  </tbody>\n",
       "</table>\n",
       "</div>"
      ],
      "text/plain": [
       "    thresholds        F1       PPV       TPR\n",
       "0       0.0001  0.003539  0.001773  1.000000\n",
       "1       0.0010  0.003812  0.001910  1.000000\n",
       "2       0.0100  0.010584  0.005321  0.982857\n",
       "3       0.1000  0.111189  0.059206  0.911429\n",
       "4       0.2000  0.219866  0.125454  0.888571\n",
       "5       0.3000  0.307146  0.186691  0.865714\n",
       "6       0.4000  0.404040  0.264317  0.857143\n",
       "7       0.5000  0.513793  0.367901  0.851429\n",
       "8       0.6000  0.605749  0.472756  0.842857\n",
       "9       0.7000  0.681395  0.574510  0.837143\n",
       "10      0.8000  0.735632  0.665127  0.822857\n",
       "11      0.9000  0.789400  0.771117  0.808571\n",
       "12      0.9900  0.764253  0.829431  0.708571\n",
       "13      0.9990  0.719449  0.904762  0.597143\n",
       "14      0.9999  0.632163  0.895288  0.488571"
      ]
     },
     "execution_count": 66,
     "metadata": {},
     "output_type": "execute_result"
    }
   ],
   "source": [
    "scores_df = get_scores_for_thresholds(y_true, y_pred_proba)\n",
    "scores_df"
   ]
  },
  {
   "cell_type": "markdown",
   "metadata": {},
   "source": [
    "# Braki danych\n",
    "\n",
    "### Jak obsługiwać braki danych?\n",
    "\n",
    "### Propozycja (w przypadku zmiennej numerycznej):\n",
    "\n",
    "1. Gdy dla danej zmiennej braków jest bardzo mało (np. 2% zbioru), wyrzucić obserwacje zawieracjące te braki.\n",
    "\n",
    "2. Gdy dla danej zmiennej braków jest bardzo dużo (ponad 60%), usunąć z danych tę zmienną\n",
    "\n",
    "3. W pozostałych przypadkach uzupełnić braki średnią.\n",
    "\n",
    "\n",
    "<br>\n",
    "\n",
    "<br>\n",
    "\n",
    "<br>\n",
    "\n",
    "<br>\n",
    "\n",
    "<br>\n",
    "\n",
    "<br>"
   ]
  },
  {
   "cell_type": "markdown",
   "metadata": {},
   "source": [
    "### Nie, nie, nie i jeszcze raz nie."
   ]
  },
  {
   "cell_type": "markdown",
   "metadata": {},
   "source": [
    "# Podejście rzetelne:\n",
    "\n",
    "1) Spróbować wyjaśnić pochodzenie braków\n",
    "  - może wynikają z błędu w jakimś systemie -> trzeba naprawić system\n",
    "  - może ktoś nie wiedzał jakie wartości wprowadzić -> trzeba stworzyć lepszą (jakąkolwiek) dokumentację/instrukcję\n",
    "  - itd.\n",
    "  - jak to wygląda w praktyce? ...\n",
    "  - wyjaśnienie jest super, ale często nierealizowalne (co nie znaczy, że nie warto próbować), dlatego trzeba sobie radzić\n",
    "  \n",
    "2) Spróbować wyjaśnić znaczenie braku\n",
    "  - brak w kolumnie \"liczba dzieci\" -> może oznaczać wartość 0\n",
    "  - brak w kolumnie \"wykształcenie\" -> może oznaczać, że osoba nie ma nawet podstawowego\n",
    "  - brak może wynikać z wartości innej zmiennej -> czy posiadasz dzieci - nie, liczba dzieci - brak\n",
    "  - wówczas braki możemy uzupełnić \n",
    "  \n",
    "3) Jeżeli rozważamy zmienną kategoryczną:\n",
    "  - warto rozważyć nadanie brakom klasy \"brak\" i traktować ją jak normalna wartość\n",
    "  - można tez upełnić wartością występującą najczęściej lub wartością losową\n",
    "  - jeżeli braki stanowią przytłaczającą większość -> można zamienić zmienną na binarną o wartości 1, gdy wystepuje brak lub 0 wpp.\n",
    "\n",
    "4) Jeżeli rozważamy zmienną numeryczną:\n",
    "  - można uzupełnić średnią -> gdy zmienna ma rozkład symetryczny\n",
    "  - można uzupełnić medianą lub modą -> gdy zmienna ma rozkład skośny  \n",
    "  - można tez upełnić wartością występującą wartością losową (z rozsądnego rozkładu)\n",
    "  - jeżeli braki stanowią przytłaczającą większość -> można zamienić zmienną na binarną o wartości 1, gdy wystepuje brak lub 0 wpp.\n",
    "  - można skategoryzować zmienną - wartości numeryczne pogrupować na przedziały i dodać kategorię \"brak\"\n",
    "  - uzupełnić braki i jednocześnie dodać do danych zmienną binarną o wartości 1, gdy wystepuje brak lub 0 wpp.\n",
    "  - jeżeli dane są zależne od czasu, można uzupełnić wartością poprzednią/ średnią z porzednich kilku wartości, wartością, która zachowałaby trend z poprzednich kilku wartości\n",
    "  \n",
    "5) Usunąć obserwacje z brakiem jeśli jest ich mało\n",
    "\n",
    "6) Usunąć zmienną jeśli braków jest dużo\n",
    "\n",
    "7) Uzupełnić używając modelu predykcyjnego z wykorzystaniem pozostałych zmiennych (jeżeli dane zależne od czasu, to można uzupełnić predykcją na podstawie poprzednich wartości tej i inyych zmiennych)\n"
   ]
  },
  {
   "cell_type": "markdown",
   "metadata": {},
   "source": [
    "# Case study \n",
    "\n",
    "Dane: HappyCustomerBank\n",
    "\n",
    "\n",
    "### Opis problemu i danych:\n",
    "\n",
    "About Company\n",
    "\n",
    "Happy Customer Bank is a mid-sized private bank which deals in all kinds of loans. They have presence across all major cities in India and focus on lending products. They have a digital arm which sources customers from the internet.\n",
    "\n",
    "\n",
    "Problem\n",
    "\n",
    "Digital arms of banks today face challenges with lead conversion, they source leads through mediums like search, display, email campaigns and via affiliate partners. Here Happy Customer Bank faces same challenge of low conversion ratio. They have given a problem to identify the customers segments having higher conversion ratio for a specific loan product so that they can specifically target these customers, here they have provided a partial data set for salaried customers only from the last 3 months. They also capture basic details about customers like gender, DOB, existing EMI, employer Name, Loan Amount Required, Monthly Income, City, Interaction data and many others. Let’s look at the process at Happy Customer Bank.\n",
    "\n",
    "In above process, customer applications can drop majorly at two stages, at login and approval/ rejection by bank. Here we need to identify the segment of customers having higher disbursal rate in next 30 days.\n",
    "\n",
    "Data Set\n",
    "\n",
    "We have train and test data set, train data set has both input and output variable(s). Need to predict probability of disbursal for test data set.\n",
    "\n",
    "\n",
    "Input variables:\n",
    "\n",
    "- ID - Unique ID (can not be used for predictions)\n",
    "- Gender- Sex\n",
    "- City - Current City\n",
    "- Monthly_Income - Monthly Income in rupees\n",
    "- DOB - Date of Birth\n",
    "- Lead_Creation_Date - Lead Created on date\n",
    "- Loan_Amount_Applied - Loan Amount Requested (INR)\n",
    "- Loan_Tenure_Applied - Loan Tenure Requested (in years)\n",
    "- Existing_EMI - EMI of Existing Loans (INR)\n",
    "- Employer_Name - Employer Name\n",
    "- Salary_Account- Salary account with Bank\n",
    "- Mobile_Verified - Mobile Verified (Y/N)\n",
    "- Var5- Continuous classified variable\n",
    "- Var1- Categorical variable with multiple levels\n",
    "- Loan_Amount_Submitted- Loan Amount Revised and Selected after seeing Eligibility\n",
    "- Loan_Tenure_Submitted- Loan Tenure Revised and Selected after seeing Eligibility (Years)\n",
    "- Interest_Rate- Interest Rate of Submitted Loan Amount\n",
    "- Processing_Fee- Processing Fee of Submitted Loan Amount (INR)\n",
    "- EMI_Loan_Submitted- EMI of Submitted Loan Amount (INR)\n",
    "- Filled_Form- Filled Application form post quote\n",
    "- Device_Type- Device from which application was made (Browser/ Mobile)\n",
    "- Var2- Categorical Variable with multiple Levels\n",
    "- Source- Categorical Variable with multiple Levels\n",
    "- Var4- Categorical Variable with multiple Levels\n",
    "\n",
    "Outcomes:\n",
    "\n",
    "- LoggedIn- Application Logged (Variable for understanding the problem – cannot be used in prediction)\n",
    "- Disbursed- Loan Disbursed (Target Variable)\n",
    "\n",
    "Źródło:\n",
    "\n",
    "https://discuss.analyticsvidhya.com/t/hackathon-3-x-predict-customer-worth-for-happy-customer-bank/3802\n",
    "\n",
    "### Interesują nas dwie miary jakości rozwiązania: \n",
    "- AUC\n",
    "- Zysk, liczony w następujący sposób:\n",
    "\n",
    "  - zaklasyfikowanie obserwacji jako 1 kosztuje nas 100 zł (tzn. nasz model przypisuje obserwacji klasę 1),\n",
    "  - trafienie predykcją w klasę 1 przynosi nam 1000 zł zarobku.\n",
    "\n",
    "Cel: osiągnąć jak największy zysk."
   ]
  },
  {
   "cell_type": "code",
   "execution_count": 67,
   "metadata": {},
   "outputs": [
    {
     "name": "stdout",
     "output_type": "stream",
     "text": [
      "(87020, 26)\n"
     ]
    }
   ],
   "source": [
    "import pandas as pd\n",
    "data = pd.read_csv('Dane/HappyCustomerBank/Train_nyOWmfK.csv',encoding=\"latin1\")\n",
    "print(data.shape)"
   ]
  },
  {
   "cell_type": "code",
   "execution_count": 68,
   "metadata": {},
   "outputs": [],
   "source": [
    "data = pd.read_csv('Dane/HappyCustomerBank/Train_nyOWmfK.csv', encoding=\"latin1\")\n",
    "# data_test = pd.read_csv('Dane/HappyCustomerBank/Test_bCtAN1w.csv', encoding=\"latin1\")"
   ]
  },
  {
   "cell_type": "code",
   "execution_count": 69,
   "metadata": {},
   "outputs": [
    {
     "data": {
      "text/html": [
       "<div>\n",
       "<style scoped>\n",
       "    .dataframe tbody tr th:only-of-type {\n",
       "        vertical-align: middle;\n",
       "    }\n",
       "\n",
       "    .dataframe tbody tr th {\n",
       "        vertical-align: top;\n",
       "    }\n",
       "\n",
       "    .dataframe thead th {\n",
       "        text-align: right;\n",
       "    }\n",
       "</style>\n",
       "<table border=\"1\" class=\"dataframe\">\n",
       "  <thead>\n",
       "    <tr style=\"text-align: right;\">\n",
       "      <th></th>\n",
       "      <th>ID</th>\n",
       "      <th>Gender</th>\n",
       "      <th>City</th>\n",
       "      <th>Monthly_Income</th>\n",
       "      <th>DOB</th>\n",
       "      <th>Lead_Creation_Date</th>\n",
       "      <th>Loan_Amount_Applied</th>\n",
       "      <th>Loan_Tenure_Applied</th>\n",
       "      <th>Existing_EMI</th>\n",
       "      <th>Employer_Name</th>\n",
       "      <th>...</th>\n",
       "      <th>Interest_Rate</th>\n",
       "      <th>Processing_Fee</th>\n",
       "      <th>EMI_Loan_Submitted</th>\n",
       "      <th>Filled_Form</th>\n",
       "      <th>Device_Type</th>\n",
       "      <th>Var2</th>\n",
       "      <th>Source</th>\n",
       "      <th>Var4</th>\n",
       "      <th>LoggedIn</th>\n",
       "      <th>Disbursed</th>\n",
       "    </tr>\n",
       "  </thead>\n",
       "  <tbody>\n",
       "    <tr>\n",
       "      <td>0</td>\n",
       "      <td>ID000002C20</td>\n",
       "      <td>Female</td>\n",
       "      <td>Delhi</td>\n",
       "      <td>20000</td>\n",
       "      <td>23-May-78</td>\n",
       "      <td>15-May-15</td>\n",
       "      <td>300000.0</td>\n",
       "      <td>5.0</td>\n",
       "      <td>0.0</td>\n",
       "      <td>CYBOSOL</td>\n",
       "      <td>...</td>\n",
       "      <td>NaN</td>\n",
       "      <td>NaN</td>\n",
       "      <td>NaN</td>\n",
       "      <td>N</td>\n",
       "      <td>Web-browser</td>\n",
       "      <td>G</td>\n",
       "      <td>S122</td>\n",
       "      <td>1</td>\n",
       "      <td>0</td>\n",
       "      <td>0</td>\n",
       "    </tr>\n",
       "    <tr>\n",
       "      <td>1</td>\n",
       "      <td>ID000004E40</td>\n",
       "      <td>Male</td>\n",
       "      <td>Mumbai</td>\n",
       "      <td>35000</td>\n",
       "      <td>07-Oct-85</td>\n",
       "      <td>04-May-15</td>\n",
       "      <td>200000.0</td>\n",
       "      <td>2.0</td>\n",
       "      <td>0.0</td>\n",
       "      <td>TATA CONSULTANCY SERVICES LTD (TCS)</td>\n",
       "      <td>...</td>\n",
       "      <td>13.25</td>\n",
       "      <td>NaN</td>\n",
       "      <td>6762.9</td>\n",
       "      <td>N</td>\n",
       "      <td>Web-browser</td>\n",
       "      <td>G</td>\n",
       "      <td>S122</td>\n",
       "      <td>3</td>\n",
       "      <td>0</td>\n",
       "      <td>0</td>\n",
       "    </tr>\n",
       "    <tr>\n",
       "      <td>2</td>\n",
       "      <td>ID000007H20</td>\n",
       "      <td>Male</td>\n",
       "      <td>Panchkula</td>\n",
       "      <td>22500</td>\n",
       "      <td>10-Oct-81</td>\n",
       "      <td>19-May-15</td>\n",
       "      <td>600000.0</td>\n",
       "      <td>4.0</td>\n",
       "      <td>0.0</td>\n",
       "      <td>ALCHEMIST HOSPITALS LTD</td>\n",
       "      <td>...</td>\n",
       "      <td>NaN</td>\n",
       "      <td>NaN</td>\n",
       "      <td>NaN</td>\n",
       "      <td>N</td>\n",
       "      <td>Web-browser</td>\n",
       "      <td>B</td>\n",
       "      <td>S143</td>\n",
       "      <td>1</td>\n",
       "      <td>0</td>\n",
       "      <td>0</td>\n",
       "    </tr>\n",
       "    <tr>\n",
       "      <td>3</td>\n",
       "      <td>ID000008I30</td>\n",
       "      <td>Male</td>\n",
       "      <td>Saharsa</td>\n",
       "      <td>35000</td>\n",
       "      <td>30-Nov-87</td>\n",
       "      <td>09-May-15</td>\n",
       "      <td>1000000.0</td>\n",
       "      <td>5.0</td>\n",
       "      <td>0.0</td>\n",
       "      <td>BIHAR GOVERNMENT</td>\n",
       "      <td>...</td>\n",
       "      <td>NaN</td>\n",
       "      <td>NaN</td>\n",
       "      <td>NaN</td>\n",
       "      <td>N</td>\n",
       "      <td>Web-browser</td>\n",
       "      <td>B</td>\n",
       "      <td>S143</td>\n",
       "      <td>3</td>\n",
       "      <td>0</td>\n",
       "      <td>0</td>\n",
       "    </tr>\n",
       "    <tr>\n",
       "      <td>4</td>\n",
       "      <td>ID000009J40</td>\n",
       "      <td>Male</td>\n",
       "      <td>Bengaluru</td>\n",
       "      <td>100000</td>\n",
       "      <td>17-Feb-84</td>\n",
       "      <td>20-May-15</td>\n",
       "      <td>500000.0</td>\n",
       "      <td>2.0</td>\n",
       "      <td>25000.0</td>\n",
       "      <td>GLOBAL EDGE SOFTWARE</td>\n",
       "      <td>...</td>\n",
       "      <td>NaN</td>\n",
       "      <td>NaN</td>\n",
       "      <td>NaN</td>\n",
       "      <td>N</td>\n",
       "      <td>Web-browser</td>\n",
       "      <td>B</td>\n",
       "      <td>S134</td>\n",
       "      <td>3</td>\n",
       "      <td>1</td>\n",
       "      <td>0</td>\n",
       "    </tr>\n",
       "  </tbody>\n",
       "</table>\n",
       "<p>5 rows × 26 columns</p>\n",
       "</div>"
      ],
      "text/plain": [
       "            ID  Gender       City  Monthly_Income        DOB  \\\n",
       "0  ID000002C20  Female      Delhi           20000  23-May-78   \n",
       "1  ID000004E40    Male     Mumbai           35000  07-Oct-85   \n",
       "2  ID000007H20    Male  Panchkula           22500  10-Oct-81   \n",
       "3  ID000008I30    Male    Saharsa           35000  30-Nov-87   \n",
       "4  ID000009J40    Male  Bengaluru          100000  17-Feb-84   \n",
       "\n",
       "  Lead_Creation_Date  Loan_Amount_Applied  Loan_Tenure_Applied  Existing_EMI  \\\n",
       "0          15-May-15             300000.0                  5.0           0.0   \n",
       "1          04-May-15             200000.0                  2.0           0.0   \n",
       "2          19-May-15             600000.0                  4.0           0.0   \n",
       "3          09-May-15            1000000.0                  5.0           0.0   \n",
       "4          20-May-15             500000.0                  2.0       25000.0   \n",
       "\n",
       "                         Employer_Name  ... Interest_Rate Processing_Fee  \\\n",
       "0                              CYBOSOL  ...           NaN            NaN   \n",
       "1  TATA CONSULTANCY SERVICES LTD (TCS)  ...         13.25            NaN   \n",
       "2              ALCHEMIST HOSPITALS LTD  ...           NaN            NaN   \n",
       "3                     BIHAR GOVERNMENT  ...           NaN            NaN   \n",
       "4                 GLOBAL EDGE SOFTWARE  ...           NaN            NaN   \n",
       "\n",
       "   EMI_Loan_Submitted Filled_Form  Device_Type  Var2  Source  Var4  LoggedIn  \\\n",
       "0                 NaN           N  Web-browser     G    S122     1         0   \n",
       "1              6762.9           N  Web-browser     G    S122     3         0   \n",
       "2                 NaN           N  Web-browser     B    S143     1         0   \n",
       "3                 NaN           N  Web-browser     B    S143     3         0   \n",
       "4                 NaN           N  Web-browser     B    S134     3         1   \n",
       "\n",
       "  Disbursed  \n",
       "0         0  \n",
       "1         0  \n",
       "2         0  \n",
       "3         0  \n",
       "4         0  \n",
       "\n",
       "[5 rows x 26 columns]"
      ]
     },
     "execution_count": 69,
     "metadata": {},
     "output_type": "execute_result"
    }
   ],
   "source": [
    "data.head()"
   ]
  },
  {
   "cell_type": "markdown",
   "metadata": {},
   "source": [
    "### 1. Exploracyjna analiza danych "
   ]
  },
  {
   "cell_type": "code",
   "execution_count": 70,
   "metadata": {},
   "outputs": [],
   "source": [
    "import seaborn as sns"
   ]
  },
  {
   "cell_type": "code",
   "execution_count": 71,
   "metadata": {},
   "outputs": [
    {
     "name": "stdout",
     "output_type": "stream",
     "text": [
      "<class 'pandas.core.frame.DataFrame'>\n",
      "RangeIndex: 87020 entries, 0 to 87019\n",
      "Data columns (total 26 columns):\n",
      "ID                       87020 non-null object\n",
      "Gender                   87020 non-null object\n",
      "City                     86017 non-null object\n",
      "Monthly_Income           87020 non-null int64\n",
      "DOB                      87020 non-null object\n",
      "Lead_Creation_Date       87020 non-null object\n",
      "Loan_Amount_Applied      86949 non-null float64\n",
      "Loan_Tenure_Applied      86949 non-null float64\n",
      "Existing_EMI             86949 non-null float64\n",
      "Employer_Name            86949 non-null object\n",
      "Salary_Account           75256 non-null object\n",
      "Mobile_Verified          87020 non-null object\n",
      "Var5                     87020 non-null int64\n",
      "Var1                     87020 non-null object\n",
      "Loan_Amount_Submitted    52407 non-null float64\n",
      "Loan_Tenure_Submitted    52407 non-null float64\n",
      "Interest_Rate            27726 non-null float64\n",
      "Processing_Fee           27420 non-null float64\n",
      "EMI_Loan_Submitted       27726 non-null float64\n",
      "Filled_Form              87020 non-null object\n",
      "Device_Type              87020 non-null object\n",
      "Var2                     87020 non-null object\n",
      "Source                   87020 non-null object\n",
      "Var4                     87020 non-null int64\n",
      "LoggedIn                 87020 non-null int64\n",
      "Disbursed                87020 non-null int64\n",
      "dtypes: float64(8), int64(5), object(13)\n",
      "memory usage: 17.3+ MB\n"
     ]
    }
   ],
   "source": [
    "data.info()"
   ]
  },
  {
   "cell_type": "code",
   "execution_count": 72,
   "metadata": {},
   "outputs": [
    {
     "data": {
      "text/plain": [
       "ID                           0\n",
       "Gender                       0\n",
       "City                      1003\n",
       "Monthly_Income               0\n",
       "DOB                          0\n",
       "Lead_Creation_Date           0\n",
       "Loan_Amount_Applied         71\n",
       "Loan_Tenure_Applied         71\n",
       "Existing_EMI                71\n",
       "Employer_Name               71\n",
       "Salary_Account           11764\n",
       "Mobile_Verified              0\n",
       "Var5                         0\n",
       "Var1                         0\n",
       "Loan_Amount_Submitted    34613\n",
       "Loan_Tenure_Submitted    34613\n",
       "Interest_Rate            59294\n",
       "Processing_Fee           59600\n",
       "EMI_Loan_Submitted       59294\n",
       "Filled_Form                  0\n",
       "Device_Type                  0\n",
       "Var2                         0\n",
       "Source                       0\n",
       "Var4                         0\n",
       "LoggedIn                     0\n",
       "Disbursed                    0\n",
       "dtype: int64"
      ]
     },
     "execution_count": 72,
     "metadata": {},
     "output_type": "execute_result"
    }
   ],
   "source": [
    "data.isna().sum()"
   ]
  },
  {
   "cell_type": "markdown",
   "metadata": {},
   "source": [
    "#### Zmienna objaśniana - Disbursed"
   ]
  },
  {
   "cell_type": "code",
   "execution_count": 73,
   "metadata": {},
   "outputs": [
    {
     "data": {
      "text/plain": [
       "0    85747\n",
       "1     1273\n",
       "Name: Disbursed, dtype: int64"
      ]
     },
     "execution_count": 73,
     "metadata": {},
     "output_type": "execute_result"
    }
   ],
   "source": [
    "disbursed_counts = data['Disbursed'].value_counts()\n",
    "disbursed_counts"
   ]
  },
  {
   "cell_type": "code",
   "execution_count": 74,
   "metadata": {},
   "outputs": [
    {
     "data": {
      "text/plain": [
       "67.35820895522389"
      ]
     },
     "execution_count": 74,
     "metadata": {},
     "output_type": "execute_result"
    }
   ],
   "source": [
    "disbursed_counts[0] / disbursed_counts[1] # silnie niezbalansowane klasy"
   ]
  },
  {
   "cell_type": "markdown",
   "metadata": {},
   "source": [
    "Przed analizą wszystkich zmiennych objaśniających, stworzymy kontener na nazwy zmiennych kategorycznych, które później zamienimy na one-hot encoding."
   ]
  },
  {
   "cell_type": "code",
   "execution_count": 75,
   "metadata": {},
   "outputs": [],
   "source": [
    "CATEGORICAL_FEATURES = []"
   ]
  },
  {
   "cell_type": "markdown",
   "metadata": {},
   "source": [
    "Zmienna **Gender**"
   ]
  },
  {
   "cell_type": "code",
   "execution_count": 76,
   "metadata": {},
   "outputs": [
    {
     "data": {
      "text/plain": [
       "0"
      ]
     },
     "execution_count": 76,
     "metadata": {},
     "output_type": "execute_result"
    }
   ],
   "source": [
    "data['Gender'].isna().sum() # nie ma braków w danych"
   ]
  },
  {
   "cell_type": "code",
   "execution_count": 77,
   "metadata": {},
   "outputs": [
    {
     "data": {
      "image/png": "[encoded data removed]",
      "text/plain": [
       "<Figure size 432x288 with 1 Axes>"
      ]
     },
     "metadata": {
      "needs_background": "light"
     },
     "output_type": "display_data"
    }
   ],
   "source": [
    "sns.countplot(x='Disbursed', hue='Gender', data=data) # plotly\n",
    "plt.yscale('log')"
   ]
  },
  {
   "cell_type": "code",
   "execution_count": 78,
   "metadata": {},
   "outputs": [],
   "source": [
    "CATEGORICAL_FEATURES.append('Gender')"
   ]
  },
  {
   "cell_type": "markdown",
   "metadata": {},
   "source": [
    "Zmienna **City**"
   ]
  },
  {
   "cell_type": "code",
   "execution_count": 79,
   "metadata": {},
   "outputs": [
    {
     "data": {
      "text/plain": [
       "1003"
      ]
     },
     "execution_count": 79,
     "metadata": {},
     "output_type": "execute_result"
    }
   ],
   "source": [
    "data['City'].isna().sum()"
   ]
  },
  {
   "cell_type": "code",
   "execution_count": 80,
   "metadata": {},
   "outputs": [
    {
     "data": {
      "text/plain": [
       "Delhi         12527\n",
       "Bengaluru     10824\n",
       "Mumbai        10795\n",
       "Hyderabad      7272\n",
       "Chennai        6916\n",
       "              ...  \n",
       "Sheopur           1\n",
       "Himatnagar        1\n",
       "Lohit             1\n",
       "CHOTILA           1\n",
       "Tonk              1\n",
       "Name: City, Length: 697, dtype: int64"
      ]
     },
     "execution_count": 80,
     "metadata": {},
     "output_type": "execute_result"
    }
   ],
   "source": [
    "data['City'].value_counts()"
   ]
  },
  {
   "cell_type": "code",
   "execution_count": 81,
   "metadata": {},
   "outputs": [],
   "source": [
    "# uzupełniamy braki wartością 'NotGiven'\n",
    "data['City'].fillna('NotGiven', inplace=True)"
   ]
  },
  {
   "cell_type": "code",
   "execution_count": 82,
   "metadata": {},
   "outputs": [
    {
     "data": {
      "text/plain": [
       "0"
      ]
     },
     "execution_count": 82,
     "metadata": {},
     "output_type": "execute_result"
    }
   ],
   "source": [
    "data['City'].isna().sum()"
   ]
  },
  {
   "cell_type": "code",
   "execution_count": 83,
   "metadata": {},
   "outputs": [
    {
     "data": {
      "text/plain": [
       "Delhi            12527\n",
       "Bengaluru        10824\n",
       "Mumbai           10795\n",
       "Hyderabad         7272\n",
       "Chennai           6916\n",
       "Pune              5207\n",
       "Kolkata           2888\n",
       "Ahmedabad         1788\n",
       "Jaipur            1331\n",
       "Gurgaon           1212\n",
       "Coimbatore        1147\n",
       "NotGiven          1003\n",
       "Thane              905\n",
       "Chandigarh         870\n",
       "Surat              802\n",
       "Visakhapatnam      764\n",
       "Indore             734\n",
       "Vadodara           624\n",
       "Nagpur             594\n",
       "Lucknow            580\n",
       "Name: City, dtype: int64"
      ]
     },
     "execution_count": 83,
     "metadata": {},
     "output_type": "execute_result"
    }
   ],
   "source": [
    "data['City'].value_counts().iloc[:20]"
   ]
  },
  {
   "cell_type": "code",
   "execution_count": 84,
   "metadata": {},
   "outputs": [
    {
     "data": {
      "text/plain": [
       "['Delhi',\n",
       " 'Bengaluru',\n",
       " 'Mumbai',\n",
       " 'Hyderabad',\n",
       " 'Chennai',\n",
       " 'Pune',\n",
       " 'Kolkata',\n",
       " 'Ahmedabad',\n",
       " 'Jaipur',\n",
       " 'Gurgaon',\n",
       " 'Coimbatore',\n",
       " 'NotGiven',\n",
       " 'Thane',\n",
       " 'Chandigarh',\n",
       " 'Surat',\n",
       " 'Visakhapatnam',\n",
       " 'Indore',\n",
       " 'Vadodara',\n",
       " 'Nagpur',\n",
       " 'Lucknow']"
      ]
     },
     "execution_count": 84,
     "metadata": {},
     "output_type": "execute_result"
    }
   ],
   "source": [
    "# weźmy 20 najczęściej występujących miast\n",
    "frequent_cities = data['City'].value_counts().index[:20].tolist()\n",
    "frequent_cities"
   ]
  },
  {
   "cell_type": "code",
   "execution_count": 85,
   "metadata": {},
   "outputs": [
    {
     "data": {
      "text/plain": [
       "0            Delhi\n",
       "1           Mumbai\n",
       "2        Panchkula\n",
       "3          Saharsa\n",
       "4        Bengaluru\n",
       "           ...    \n",
       "87015        Ajmer\n",
       "87016        Kochi\n",
       "87017    Bengaluru\n",
       "87018    Bengaluru\n",
       "87019       Mumbai\n",
       "Name: City, Length: 87020, dtype: object"
      ]
     },
     "execution_count": 85,
     "metadata": {},
     "output_type": "execute_result"
    }
   ],
   "source": [
    "data['City']"
   ]
  },
  {
   "cell_type": "code",
   "execution_count": 86,
   "metadata": {},
   "outputs": [],
   "source": [
    "def convert_city(city):\n",
    "    if city in frequent_cities:\n",
    "        return city\n",
    "    else:\n",
    "        return \"Other\"\n",
    "\n",
    "data['City'] = data['City'].apply(convert_city)"
   ]
  },
  {
   "cell_type": "code",
   "execution_count": 87,
   "metadata": {},
   "outputs": [
    {
     "data": {
      "text/plain": [
       "Other            18237\n",
       "Delhi            12527\n",
       "Bengaluru        10824\n",
       "Mumbai           10795\n",
       "Hyderabad         7272\n",
       "Chennai           6916\n",
       "Pune              5207\n",
       "Kolkata           2888\n",
       "Ahmedabad         1788\n",
       "Jaipur            1331\n",
       "Gurgaon           1212\n",
       "Coimbatore        1147\n",
       "NotGiven          1003\n",
       "Thane              905\n",
       "Chandigarh         870\n",
       "Surat              802\n",
       "Visakhapatnam      764\n",
       "Indore             734\n",
       "Vadodara           624\n",
       "Nagpur             594\n",
       "Lucknow            580\n",
       "Name: City, dtype: int64"
      ]
     },
     "execution_count": 87,
     "metadata": {},
     "output_type": "execute_result"
    }
   ],
   "source": [
    "data['City'].value_counts().iloc[:22]"
   ]
  },
  {
   "cell_type": "code",
   "execution_count": 88,
   "metadata": {},
   "outputs": [],
   "source": [
    "CATEGORICAL_FEATURES.append('City')"
   ]
  },
  {
   "cell_type": "markdown",
   "metadata": {},
   "source": [
    "Zmienna **Monthly_Income**"
   ]
  },
  {
   "cell_type": "code",
   "execution_count": 89,
   "metadata": {},
   "outputs": [
    {
     "data": {
      "text/plain": [
       "0"
      ]
     },
     "execution_count": 89,
     "metadata": {},
     "output_type": "execute_result"
    }
   ],
   "source": [
    "data['Monthly_Income'].isna().sum() # nie ma braków w danych"
   ]
  },
  {
   "cell_type": "code",
   "execution_count": 90,
   "metadata": {},
   "outputs": [
    {
     "data": {
      "text/plain": [
       "count    8.702000e+04\n",
       "mean     5.884997e+04\n",
       "std      2.177511e+06\n",
       "min      0.000000e+00\n",
       "25%      1.650000e+04\n",
       "50%      2.500000e+04\n",
       "75%      4.000000e+04\n",
       "max      4.445544e+08\n",
       "Name: Monthly_Income, dtype: float64"
      ]
     },
     "execution_count": 90,
     "metadata": {},
     "output_type": "execute_result"
    }
   ],
   "source": [
    "data['Monthly_Income'].describe()"
   ]
  },
  {
   "cell_type": "code",
   "execution_count": 91,
   "metadata": {},
   "outputs": [
    {
     "data": {
      "text/plain": [
       "<matplotlib.axes._subplots.AxesSubplot at 0x1db8287a908>"
      ]
     },
     "execution_count": 91,
     "metadata": {},
     "output_type": "execute_result"
    },
    {
     "data": {
      "image/png": "[encoded data removed]",
      "text/plain": [
       "<Figure size 432x288 with 1 Axes>"
      ]
     },
     "metadata": {
      "needs_background": "light"
     },
     "output_type": "display_data"
    }
   ],
   "source": [
    "data['Monthly_Income'][data['Monthly_Income'] < 10e4].hist(bins=100)"
   ]
  },
  {
   "cell_type": "code",
   "execution_count": 92,
   "metadata": {},
   "outputs": [
    {
     "data": {
      "text/plain": [
       "<matplotlib.axes._subplots.AxesSubplot at 0x1dbdd993548>"
      ]
     },
     "execution_count": 92,
     "metadata": {},
     "output_type": "execute_result"
    },
    {
     "data": {
      "image/png": "[encoded data removed]",
      "text/plain": [
       "<Figure size 432x288 with 1 Axes>"
      ]
     },
     "metadata": {
      "needs_background": "light"
     },
     "output_type": "display_data"
    }
   ],
   "source": [
    "# przekształcamy logarytmicznie zbiór\n",
    "\n",
    "data['Monthly_Income_Log'] = np.log10(data['Monthly_Income'] + 1)\n",
    "data['Monthly_Income_Log'].hist(bins=100)"
   ]
  },
  {
   "cell_type": "code",
   "execution_count": 93,
   "metadata": {},
   "outputs": [
    {
     "data": {
      "text/plain": [
       "<matplotlib.axes._subplots.AxesSubplot at 0x1dbdf8c0308>"
      ]
     },
     "execution_count": 93,
     "metadata": {},
     "output_type": "execute_result"
    },
    {
     "data": {
      "image/png": "[encoded data removed]",
      "text/plain": [
       "<Figure size 432x288 with 1 Axes>"
      ]
     },
     "metadata": {
      "needs_background": "light"
     },
     "output_type": "display_data"
    }
   ],
   "source": [
    "sns.distplot(data['Monthly_Income_Log'][data['Disbursed'] == 0], color='r')\n",
    "sns.distplot(data['Monthly_Income_Log'][data['Disbursed'] == 1], color='g')"
   ]
  },
  {
   "cell_type": "markdown",
   "metadata": {},
   "source": [
    "Zmienna **DOB**"
   ]
  },
  {
   "cell_type": "code",
   "execution_count": 94,
   "metadata": {},
   "outputs": [
    {
     "data": {
      "text/plain": [
       "0"
      ]
     },
     "execution_count": 94,
     "metadata": {},
     "output_type": "execute_result"
    }
   ],
   "source": [
    "data['DOB'].isna().sum()"
   ]
  },
  {
   "cell_type": "code",
   "execution_count": 95,
   "metadata": {},
   "outputs": [],
   "source": [
    "data['YOB'] = data['DOB'].apply(lambda date: int(date[-2:]))"
   ]
  },
  {
   "cell_type": "code",
   "execution_count": 96,
   "metadata": {},
   "outputs": [
    {
     "data": {
      "text/plain": [
       "count    87020.000000\n",
       "mean        84.095829\n",
       "std          7.147194\n",
       "min         15.000000\n",
       "25%         81.000000\n",
       "50%         86.000000\n",
       "75%         89.000000\n",
       "max         97.000000\n",
       "Name: YOB, dtype: float64"
      ]
     },
     "execution_count": 96,
     "metadata": {},
     "output_type": "execute_result"
    }
   ],
   "source": [
    "data['YOB'].describe()"
   ]
  },
  {
   "cell_type": "code",
   "execution_count": 97,
   "metadata": {},
   "outputs": [],
   "source": [
    "# więc wszyscy urodzili się w 1900 +"
   ]
  },
  {
   "cell_type": "code",
   "execution_count": 98,
   "metadata": {},
   "outputs": [],
   "source": [
    "data['YOB'] += 1900"
   ]
  },
  {
   "cell_type": "code",
   "execution_count": 99,
   "metadata": {},
   "outputs": [
    {
     "data": {
      "text/plain": [
       "0        1978\n",
       "1        1985\n",
       "2        1981\n",
       "3        1987\n",
       "4        1984\n",
       "         ... \n",
       "87015    1969\n",
       "87016    1990\n",
       "87017    1972\n",
       "87018    1977\n",
       "87019    1988\n",
       "Name: YOB, Length: 87020, dtype: int64"
      ]
     },
     "execution_count": 99,
     "metadata": {},
     "output_type": "execute_result"
    }
   ],
   "source": [
    "data['YOB']"
   ]
  },
  {
   "cell_type": "code",
   "execution_count": 100,
   "metadata": {},
   "outputs": [],
   "source": [
    "data.drop('DOB', axis=1, inplace=True)"
   ]
  },
  {
   "cell_type": "markdown",
   "metadata": {},
   "source": [
    "Zmienna **Lead_Creation_Date**"
   ]
  },
  {
   "cell_type": "code",
   "execution_count": 101,
   "metadata": {},
   "outputs": [
    {
     "data": {
      "text/plain": [
       "0"
      ]
     },
     "execution_count": 101,
     "metadata": {},
     "output_type": "execute_result"
    }
   ],
   "source": [
    "data['Lead_Creation_Date'].isna().sum()"
   ]
  },
  {
   "cell_type": "code",
   "execution_count": 102,
   "metadata": {},
   "outputs": [],
   "source": [
    "data['Year_Of_Lead_Creation_Date'] = data['Lead_Creation_Date'].apply(lambda date: int(date[-2:]))"
   ]
  },
  {
   "cell_type": "code",
   "execution_count": 103,
   "metadata": {},
   "outputs": [
    {
     "data": {
      "text/plain": [
       "count    87020.0\n",
       "mean        15.0\n",
       "std          0.0\n",
       "min         15.0\n",
       "25%         15.0\n",
       "50%         15.0\n",
       "75%         15.0\n",
       "max         15.0\n",
       "Name: Year_Of_Lead_Creation_Date, dtype: float64"
      ]
     },
     "execution_count": 103,
     "metadata": {},
     "output_type": "execute_result"
    }
   ],
   "source": [
    "data['Year_Of_Lead_Creation_Date'].describe()"
   ]
  },
  {
   "cell_type": "code",
   "execution_count": 104,
   "metadata": {},
   "outputs": [],
   "source": [
    "data['Year_Of_Lead_Creation_Date'] += 2000"
   ]
  },
  {
   "cell_type": "code",
   "execution_count": 105,
   "metadata": {},
   "outputs": [],
   "source": [
    "# tworzymy zmienną Age"
   ]
  },
  {
   "cell_type": "code",
   "execution_count": 106,
   "metadata": {},
   "outputs": [
    {
     "data": {
      "text/plain": [
       "0    37\n",
       "1    30\n",
       "2    34\n",
       "3    28\n",
       "4    31\n",
       "Name: Age, dtype: int64"
      ]
     },
     "execution_count": 106,
     "metadata": {},
     "output_type": "execute_result"
    }
   ],
   "source": [
    "data['Age'] = data['Year_Of_Lead_Creation_Date'] - data['YOB']\n",
    "data['Age'].head()"
   ]
  },
  {
   "cell_type": "code",
   "execution_count": 107,
   "metadata": {},
   "outputs": [],
   "source": [
    "data.drop('YOB', axis=1, inplace=True)\n",
    "data.drop('Lead_Creation_Date', axis=1, inplace=True)\n",
    "data.drop('Year_Of_Lead_Creation_Date', axis=1, inplace=True)"
   ]
  },
  {
   "cell_type": "markdown",
   "metadata": {},
   "source": [
    "Zmienna **Age**"
   ]
  },
  {
   "cell_type": "code",
   "execution_count": 108,
   "metadata": {},
   "outputs": [
    {
     "data": {
      "text/plain": [
       "<matplotlib.axes._subplots.AxesSubplot at 0x1db802eed08>"
      ]
     },
     "execution_count": 108,
     "metadata": {},
     "output_type": "execute_result"
    },
    {
     "data": {
      "image/png": "[encoded data removed]",
      "text/plain": [
       "<Figure size 432x288 with 1 Axes>"
      ]
     },
     "metadata": {
      "needs_background": "light"
     },
     "output_type": "display_data"
    }
   ],
   "source": [
    "sns.distplot(data['Age'][data['Disbursed'] == 0], color='r')\n",
    "sns.distplot(data['Age'][data['Disbursed'] == 1], color='g')"
   ]
  },
  {
   "cell_type": "code",
   "execution_count": 109,
   "metadata": {},
   "outputs": [
    {
     "data": {
      "text/html": [
       "<div>\n",
       "<style scoped>\n",
       "    .dataframe tbody tr th:only-of-type {\n",
       "        vertical-align: middle;\n",
       "    }\n",
       "\n",
       "    .dataframe tbody tr th {\n",
       "        vertical-align: top;\n",
       "    }\n",
       "\n",
       "    .dataframe thead th {\n",
       "        text-align: right;\n",
       "    }\n",
       "</style>\n",
       "<table border=\"1\" class=\"dataframe\">\n",
       "  <thead>\n",
       "    <tr style=\"text-align: right;\">\n",
       "      <th></th>\n",
       "      <th>ID</th>\n",
       "      <th>Gender</th>\n",
       "      <th>City</th>\n",
       "      <th>Monthly_Income</th>\n",
       "      <th>Loan_Amount_Applied</th>\n",
       "      <th>Loan_Tenure_Applied</th>\n",
       "      <th>Existing_EMI</th>\n",
       "      <th>Employer_Name</th>\n",
       "      <th>Salary_Account</th>\n",
       "      <th>Mobile_Verified</th>\n",
       "      <th>...</th>\n",
       "      <th>EMI_Loan_Submitted</th>\n",
       "      <th>Filled_Form</th>\n",
       "      <th>Device_Type</th>\n",
       "      <th>Var2</th>\n",
       "      <th>Source</th>\n",
       "      <th>Var4</th>\n",
       "      <th>LoggedIn</th>\n",
       "      <th>Disbursed</th>\n",
       "      <th>Monthly_Income_Log</th>\n",
       "      <th>Age</th>\n",
       "    </tr>\n",
       "  </thead>\n",
       "  <tbody>\n",
       "    <tr>\n",
       "      <td>0</td>\n",
       "      <td>ID000002C20</td>\n",
       "      <td>Female</td>\n",
       "      <td>Delhi</td>\n",
       "      <td>20000</td>\n",
       "      <td>300000.0</td>\n",
       "      <td>5.0</td>\n",
       "      <td>0.0</td>\n",
       "      <td>CYBOSOL</td>\n",
       "      <td>HDFC Bank</td>\n",
       "      <td>N</td>\n",
       "      <td>...</td>\n",
       "      <td>NaN</td>\n",
       "      <td>N</td>\n",
       "      <td>Web-browser</td>\n",
       "      <td>G</td>\n",
       "      <td>S122</td>\n",
       "      <td>1</td>\n",
       "      <td>0</td>\n",
       "      <td>0</td>\n",
       "      <td>4.301052</td>\n",
       "      <td>37</td>\n",
       "    </tr>\n",
       "    <tr>\n",
       "      <td>1</td>\n",
       "      <td>ID000004E40</td>\n",
       "      <td>Male</td>\n",
       "      <td>Mumbai</td>\n",
       "      <td>35000</td>\n",
       "      <td>200000.0</td>\n",
       "      <td>2.0</td>\n",
       "      <td>0.0</td>\n",
       "      <td>TATA CONSULTANCY SERVICES LTD (TCS)</td>\n",
       "      <td>ICICI Bank</td>\n",
       "      <td>Y</td>\n",
       "      <td>...</td>\n",
       "      <td>6762.90</td>\n",
       "      <td>N</td>\n",
       "      <td>Web-browser</td>\n",
       "      <td>G</td>\n",
       "      <td>S122</td>\n",
       "      <td>3</td>\n",
       "      <td>0</td>\n",
       "      <td>0</td>\n",
       "      <td>4.544080</td>\n",
       "      <td>30</td>\n",
       "    </tr>\n",
       "    <tr>\n",
       "      <td>2</td>\n",
       "      <td>ID000007H20</td>\n",
       "      <td>Male</td>\n",
       "      <td>Other</td>\n",
       "      <td>22500</td>\n",
       "      <td>600000.0</td>\n",
       "      <td>4.0</td>\n",
       "      <td>0.0</td>\n",
       "      <td>ALCHEMIST HOSPITALS LTD</td>\n",
       "      <td>State Bank of India</td>\n",
       "      <td>Y</td>\n",
       "      <td>...</td>\n",
       "      <td>NaN</td>\n",
       "      <td>N</td>\n",
       "      <td>Web-browser</td>\n",
       "      <td>B</td>\n",
       "      <td>S143</td>\n",
       "      <td>1</td>\n",
       "      <td>0</td>\n",
       "      <td>0</td>\n",
       "      <td>4.352202</td>\n",
       "      <td>34</td>\n",
       "    </tr>\n",
       "    <tr>\n",
       "      <td>3</td>\n",
       "      <td>ID000008I30</td>\n",
       "      <td>Male</td>\n",
       "      <td>Other</td>\n",
       "      <td>35000</td>\n",
       "      <td>1000000.0</td>\n",
       "      <td>5.0</td>\n",
       "      <td>0.0</td>\n",
       "      <td>BIHAR GOVERNMENT</td>\n",
       "      <td>State Bank of India</td>\n",
       "      <td>Y</td>\n",
       "      <td>...</td>\n",
       "      <td>NaN</td>\n",
       "      <td>N</td>\n",
       "      <td>Web-browser</td>\n",
       "      <td>B</td>\n",
       "      <td>S143</td>\n",
       "      <td>3</td>\n",
       "      <td>0</td>\n",
       "      <td>0</td>\n",
       "      <td>4.544080</td>\n",
       "      <td>28</td>\n",
       "    </tr>\n",
       "    <tr>\n",
       "      <td>4</td>\n",
       "      <td>ID000009J40</td>\n",
       "      <td>Male</td>\n",
       "      <td>Bengaluru</td>\n",
       "      <td>100000</td>\n",
       "      <td>500000.0</td>\n",
       "      <td>2.0</td>\n",
       "      <td>25000.0</td>\n",
       "      <td>GLOBAL EDGE SOFTWARE</td>\n",
       "      <td>HDFC Bank</td>\n",
       "      <td>Y</td>\n",
       "      <td>...</td>\n",
       "      <td>NaN</td>\n",
       "      <td>N</td>\n",
       "      <td>Web-browser</td>\n",
       "      <td>B</td>\n",
       "      <td>S134</td>\n",
       "      <td>3</td>\n",
       "      <td>1</td>\n",
       "      <td>0</td>\n",
       "      <td>5.000004</td>\n",
       "      <td>31</td>\n",
       "    </tr>\n",
       "    <tr>\n",
       "      <td>...</td>\n",
       "      <td>...</td>\n",
       "      <td>...</td>\n",
       "      <td>...</td>\n",
       "      <td>...</td>\n",
       "      <td>...</td>\n",
       "      <td>...</td>\n",
       "      <td>...</td>\n",
       "      <td>...</td>\n",
       "      <td>...</td>\n",
       "      <td>...</td>\n",
       "      <td>...</td>\n",
       "      <td>...</td>\n",
       "      <td>...</td>\n",
       "      <td>...</td>\n",
       "      <td>...</td>\n",
       "      <td>...</td>\n",
       "      <td>...</td>\n",
       "      <td>...</td>\n",
       "      <td>...</td>\n",
       "      <td>...</td>\n",
       "      <td>...</td>\n",
       "    </tr>\n",
       "    <tr>\n",
       "      <td>87015</td>\n",
       "      <td>ID124813N30</td>\n",
       "      <td>Female</td>\n",
       "      <td>Other</td>\n",
       "      <td>71901</td>\n",
       "      <td>1000000.0</td>\n",
       "      <td>5.0</td>\n",
       "      <td>14500.0</td>\n",
       "      <td>MAYO COLLEGE</td>\n",
       "      <td>ICICI Bank</td>\n",
       "      <td>N</td>\n",
       "      <td>...</td>\n",
       "      <td>NaN</td>\n",
       "      <td>N</td>\n",
       "      <td>Web-browser</td>\n",
       "      <td>G</td>\n",
       "      <td>S122</td>\n",
       "      <td>3</td>\n",
       "      <td>0</td>\n",
       "      <td>0</td>\n",
       "      <td>4.856741</td>\n",
       "      <td>46</td>\n",
       "    </tr>\n",
       "    <tr>\n",
       "      <td>87016</td>\n",
       "      <td>ID124814O40</td>\n",
       "      <td>Female</td>\n",
       "      <td>Other</td>\n",
       "      <td>16000</td>\n",
       "      <td>0.0</td>\n",
       "      <td>0.0</td>\n",
       "      <td>0.0</td>\n",
       "      <td>KERALA COMMUNICATORS CABLE LTD</td>\n",
       "      <td>Federal Bank</td>\n",
       "      <td>Y</td>\n",
       "      <td>...</td>\n",
       "      <td>9425.76</td>\n",
       "      <td>Y</td>\n",
       "      <td>Mobile</td>\n",
       "      <td>G</td>\n",
       "      <td>S122</td>\n",
       "      <td>5</td>\n",
       "      <td>0</td>\n",
       "      <td>0</td>\n",
       "      <td>4.204147</td>\n",
       "      <td>25</td>\n",
       "    </tr>\n",
       "    <tr>\n",
       "      <td>87017</td>\n",
       "      <td>ID124816Q10</td>\n",
       "      <td>Male</td>\n",
       "      <td>Bengaluru</td>\n",
       "      <td>118000</td>\n",
       "      <td>0.0</td>\n",
       "      <td>0.0</td>\n",
       "      <td>0.0</td>\n",
       "      <td>BANGALORE INSTITUTE OF TECHNOLOGY</td>\n",
       "      <td>Syndicate Bank</td>\n",
       "      <td>Y</td>\n",
       "      <td>...</td>\n",
       "      <td>NaN</td>\n",
       "      <td>N</td>\n",
       "      <td>Mobile</td>\n",
       "      <td>G</td>\n",
       "      <td>S122</td>\n",
       "      <td>3</td>\n",
       "      <td>0</td>\n",
       "      <td>0</td>\n",
       "      <td>5.071886</td>\n",
       "      <td>43</td>\n",
       "    </tr>\n",
       "    <tr>\n",
       "      <td>87018</td>\n",
       "      <td>ID124818S30</td>\n",
       "      <td>Male</td>\n",
       "      <td>Bengaluru</td>\n",
       "      <td>98930</td>\n",
       "      <td>800000.0</td>\n",
       "      <td>5.0</td>\n",
       "      <td>13660.0</td>\n",
       "      <td>FIRSTSOURCE SOLUTION LTD</td>\n",
       "      <td>ICICI Bank</td>\n",
       "      <td>Y</td>\n",
       "      <td>...</td>\n",
       "      <td>NaN</td>\n",
       "      <td>N</td>\n",
       "      <td>Web-browser</td>\n",
       "      <td>G</td>\n",
       "      <td>S122</td>\n",
       "      <td>3</td>\n",
       "      <td>0</td>\n",
       "      <td>0</td>\n",
       "      <td>4.995332</td>\n",
       "      <td>38</td>\n",
       "    </tr>\n",
       "    <tr>\n",
       "      <td>87019</td>\n",
       "      <td>ID124821V10</td>\n",
       "      <td>Male</td>\n",
       "      <td>Mumbai</td>\n",
       "      <td>42300</td>\n",
       "      <td>0.0</td>\n",
       "      <td>0.0</td>\n",
       "      <td>0.0</td>\n",
       "      <td>GOVERNMENT OF INDIA</td>\n",
       "      <td>NaN</td>\n",
       "      <td>Y</td>\n",
       "      <td>...</td>\n",
       "      <td>18851.81</td>\n",
       "      <td>N</td>\n",
       "      <td>Web-browser</td>\n",
       "      <td>G</td>\n",
       "      <td>S122</td>\n",
       "      <td>4</td>\n",
       "      <td>0</td>\n",
       "      <td>0</td>\n",
       "      <td>4.626351</td>\n",
       "      <td>27</td>\n",
       "    </tr>\n",
       "  </tbody>\n",
       "</table>\n",
       "<p>87020 rows × 26 columns</p>\n",
       "</div>"
      ],
      "text/plain": [
       "                ID  Gender       City  Monthly_Income  Loan_Amount_Applied  \\\n",
       "0      ID000002C20  Female      Delhi           20000             300000.0   \n",
       "1      ID000004E40    Male     Mumbai           35000             200000.0   \n",
       "2      ID000007H20    Male      Other           22500             600000.0   \n",
       "3      ID000008I30    Male      Other           35000            1000000.0   \n",
       "4      ID000009J40    Male  Bengaluru          100000             500000.0   \n",
       "...            ...     ...        ...             ...                  ...   \n",
       "87015  ID124813N30  Female      Other           71901            1000000.0   \n",
       "87016  ID124814O40  Female      Other           16000                  0.0   \n",
       "87017  ID124816Q10    Male  Bengaluru          118000                  0.0   \n",
       "87018  ID124818S30    Male  Bengaluru           98930             800000.0   \n",
       "87019  ID124821V10    Male     Mumbai           42300                  0.0   \n",
       "\n",
       "       Loan_Tenure_Applied  Existing_EMI                        Employer_Name  \\\n",
       "0                      5.0           0.0                              CYBOSOL   \n",
       "1                      2.0           0.0  TATA CONSULTANCY SERVICES LTD (TCS)   \n",
       "2                      4.0           0.0              ALCHEMIST HOSPITALS LTD   \n",
       "3                      5.0           0.0                     BIHAR GOVERNMENT   \n",
       "4                      2.0       25000.0                 GLOBAL EDGE SOFTWARE   \n",
       "...                    ...           ...                                  ...   \n",
       "87015                  5.0       14500.0                         MAYO COLLEGE   \n",
       "87016                  0.0           0.0       KERALA COMMUNICATORS CABLE LTD   \n",
       "87017                  0.0           0.0    BANGALORE INSTITUTE OF TECHNOLOGY   \n",
       "87018                  5.0       13660.0             FIRSTSOURCE SOLUTION LTD   \n",
       "87019                  0.0           0.0                  GOVERNMENT OF INDIA   \n",
       "\n",
       "            Salary_Account Mobile_Verified  ...  EMI_Loan_Submitted  \\\n",
       "0                HDFC Bank               N  ...                 NaN   \n",
       "1               ICICI Bank               Y  ...             6762.90   \n",
       "2      State Bank of India               Y  ...                 NaN   \n",
       "3      State Bank of India               Y  ...                 NaN   \n",
       "4                HDFC Bank               Y  ...                 NaN   \n",
       "...                    ...             ...  ...                 ...   \n",
       "87015           ICICI Bank               N  ...                 NaN   \n",
       "87016         Federal Bank               Y  ...             9425.76   \n",
       "87017       Syndicate Bank               Y  ...                 NaN   \n",
       "87018           ICICI Bank               Y  ...                 NaN   \n",
       "87019                  NaN               Y  ...            18851.81   \n",
       "\n",
       "      Filled_Form  Device_Type  Var2  Source  Var4  LoggedIn Disbursed  \\\n",
       "0               N  Web-browser     G    S122     1         0         0   \n",
       "1               N  Web-browser     G    S122     3         0         0   \n",
       "2               N  Web-browser     B    S143     1         0         0   \n",
       "3               N  Web-browser     B    S143     3         0         0   \n",
       "4               N  Web-browser     B    S134     3         1         0   \n",
       "...           ...          ...   ...     ...   ...       ...       ...   \n",
       "87015           N  Web-browser     G    S122     3         0         0   \n",
       "87016           Y       Mobile     G    S122     5         0         0   \n",
       "87017           N       Mobile     G    S122     3         0         0   \n",
       "87018           N  Web-browser     G    S122     3         0         0   \n",
       "87019           N  Web-browser     G    S122     4         0         0   \n",
       "\n",
       "      Monthly_Income_Log Age  \n",
       "0               4.301052  37  \n",
       "1               4.544080  30  \n",
       "2               4.352202  34  \n",
       "3               4.544080  28  \n",
       "4               5.000004  31  \n",
       "...                  ...  ..  \n",
       "87015           4.856741  46  \n",
       "87016           4.204147  25  \n",
       "87017           5.071886  43  \n",
       "87018           4.995332  38  \n",
       "87019           4.626351  27  \n",
       "\n",
       "[87020 rows x 26 columns]"
      ]
     },
     "execution_count": 109,
     "metadata": {},
     "output_type": "execute_result"
    }
   ],
   "source": [
    "data"
   ]
  },
  {
   "cell_type": "markdown",
   "metadata": {},
   "source": [
    "Zmienna **Loan_Amount_Applied**"
   ]
  },
  {
   "cell_type": "code",
   "execution_count": 110,
   "metadata": {},
   "outputs": [
    {
     "data": {
      "text/plain": [
       "71"
      ]
     },
     "execution_count": 110,
     "metadata": {},
     "output_type": "execute_result"
    }
   ],
   "source": [
    "data['Loan_Amount_Applied'].isna().sum()"
   ]
  },
  {
   "cell_type": "code",
   "execution_count": 111,
   "metadata": {},
   "outputs": [
    {
     "data": {
      "text/plain": [
       "0.028169014084507043"
      ]
     },
     "execution_count": 111,
     "metadata": {},
     "output_type": "execute_result"
    }
   ],
   "source": [
    "data[data['Loan_Amount_Applied'].isna()]['Disbursed'].mean()"
   ]
  },
  {
   "cell_type": "code",
   "execution_count": 112,
   "metadata": {},
   "outputs": [
    {
     "data": {
      "text/plain": [
       "0.014617764436623768"
      ]
     },
     "execution_count": 112,
     "metadata": {},
     "output_type": "execute_result"
    }
   ],
   "source": [
    "data[~data['Loan_Amount_Applied'].isna()]['Disbursed'].mean()"
   ]
  },
  {
   "cell_type": "code",
   "execution_count": 113,
   "metadata": {},
   "outputs": [
    {
     "data": {
      "text/plain": [
       "0.0          28853\n",
       "100000.0     14311\n",
       "200000.0     13058\n",
       "300000.0      9995\n",
       "500000.0      9762\n",
       "             ...  \n",
       "560000.0         1\n",
       "475000.0         1\n",
       "460000.0         1\n",
       "1405000.0        1\n",
       "204000.0         1\n",
       "Name: Loan_Amount_Applied, Length: 277, dtype: int64"
      ]
     },
     "execution_count": 113,
     "metadata": {},
     "output_type": "execute_result"
    }
   ],
   "source": [
    "data['Loan_Amount_Applied'].value_counts()"
   ]
  },
  {
   "cell_type": "code",
   "execution_count": 114,
   "metadata": {},
   "outputs": [],
   "source": [
    "data['Missing_Loan_Amount_Applied'] = (data['Loan_Amount_Applied'].isna() | (data['Loan_Amount_Applied'] == 0.0)).astype(int)"
   ]
  },
  {
   "cell_type": "code",
   "execution_count": 115,
   "metadata": {},
   "outputs": [
    {
     "data": {
      "text/plain": [
       "0        0\n",
       "1        0\n",
       "2        0\n",
       "3        0\n",
       "4        0\n",
       "        ..\n",
       "87015    0\n",
       "87016    1\n",
       "87017    1\n",
       "87018    0\n",
       "87019    1\n",
       "Name: Missing_Loan_Amount_Applied, Length: 87020, dtype: int32"
      ]
     },
     "execution_count": 115,
     "metadata": {},
     "output_type": "execute_result"
    }
   ],
   "source": [
    "data['Missing_Loan_Amount_Applied']"
   ]
  },
  {
   "cell_type": "code",
   "execution_count": 116,
   "metadata": {},
   "outputs": [
    {
     "data": {
      "text/plain": [
       "277"
      ]
     },
     "execution_count": 116,
     "metadata": {},
     "output_type": "execute_result"
    }
   ],
   "source": [
    "data[data['Loan_Amount_Applied'] == 0.0]['Disbursed'].sum() # osoby nieubiegające się o pożyczkę ją dostają...?"
   ]
  },
  {
   "cell_type": "code",
   "execution_count": 117,
   "metadata": {},
   "outputs": [],
   "source": [
    "data.loc[data['Loan_Amount_Applied'].isna(), 'Loan_Amount_Applied'] = 0.0"
   ]
  },
  {
   "cell_type": "code",
   "execution_count": 118,
   "metadata": {},
   "outputs": [
    {
     "data": {
      "text/plain": [
       "0"
      ]
     },
     "execution_count": 118,
     "metadata": {},
     "output_type": "execute_result"
    }
   ],
   "source": [
    "data['Loan_Amount_Applied'].isna().sum()"
   ]
  },
  {
   "cell_type": "code",
   "execution_count": 119,
   "metadata": {},
   "outputs": [
    {
     "data": {
      "text/plain": [
       "<matplotlib.axes._subplots.AxesSubplot at 0x1dbdc5ab108>"
      ]
     },
     "execution_count": 119,
     "metadata": {},
     "output_type": "execute_result"
    },
    {
     "data": {
      "image/png": "[encoded data removed]",
      "text/plain": [
       "<Figure size 432x288 with 1 Axes>"
      ]
     },
     "metadata": {
      "needs_background": "light"
     },
     "output_type": "display_data"
    }
   ],
   "source": [
    "data['Loan_Amount_Applied'][data['Loan_Amount_Applied'] < 10e5].hist(bins=20)"
   ]
  },
  {
   "cell_type": "markdown",
   "metadata": {},
   "source": [
    "Zmienna **Loan_Tenure_Applied**"
   ]
  },
  {
   "cell_type": "code",
   "execution_count": 120,
   "metadata": {},
   "outputs": [
    {
     "data": {
      "text/plain": [
       "71"
      ]
     },
     "execution_count": 120,
     "metadata": {},
     "output_type": "execute_result"
    }
   ],
   "source": [
    "data['Loan_Tenure_Applied'].isna().sum()"
   ]
  },
  {
   "cell_type": "code",
   "execution_count": 121,
   "metadata": {},
   "outputs": [
    {
     "data": {
      "text/plain": [
       "0.0     33844\n",
       "5.0     19083\n",
       "3.0     13080\n",
       "2.0      9463\n",
       "4.0      6620\n",
       "1.0      4812\n",
       "10.0       40\n",
       "7.0         3\n",
       "6.0         2\n",
       "9.0         1\n",
       "8.0         1\n",
       "Name: Loan_Tenure_Applied, dtype: int64"
      ]
     },
     "execution_count": 121,
     "metadata": {},
     "output_type": "execute_result"
    }
   ],
   "source": [
    "data['Loan_Tenure_Applied'].value_counts()"
   ]
  },
  {
   "cell_type": "code",
   "execution_count": 122,
   "metadata": {},
   "outputs": [],
   "source": [
    "data['Missing_Loan_Tenure_Applied'] = (data['Loan_Tenure_Applied'].isna() | (data['Loan_Tenure_Applied'] == 0.0)).astype(int)"
   ]
  },
  {
   "cell_type": "code",
   "execution_count": 123,
   "metadata": {},
   "outputs": [],
   "source": [
    "data.loc[data['Loan_Tenure_Applied'].isna(), 'Loan_Tenure_Applied'] = 0.0"
   ]
  },
  {
   "cell_type": "code",
   "execution_count": 124,
   "metadata": {},
   "outputs": [
    {
     "data": {
      "text/plain": [
       "0"
      ]
     },
     "execution_count": 124,
     "metadata": {},
     "output_type": "execute_result"
    }
   ],
   "source": [
    "data['Loan_Tenure_Applied'].isna().sum()"
   ]
  },
  {
   "cell_type": "markdown",
   "metadata": {},
   "source": [
    "Zmienna **Existing_EMI**"
   ]
  },
  {
   "cell_type": "code",
   "execution_count": 125,
   "metadata": {},
   "outputs": [
    {
     "data": {
      "text/plain": [
       "71"
      ]
     },
     "execution_count": 125,
     "metadata": {},
     "output_type": "execute_result"
    }
   ],
   "source": [
    "data['Existing_EMI'].isna().sum()"
   ]
  },
  {
   "cell_type": "code",
   "execution_count": 126,
   "metadata": {},
   "outputs": [
    {
     "data": {
      "text/html": [
       "<div>\n",
       "<style scoped>\n",
       "    .dataframe tbody tr th:only-of-type {\n",
       "        vertical-align: middle;\n",
       "    }\n",
       "\n",
       "    .dataframe tbody tr th {\n",
       "        vertical-align: top;\n",
       "    }\n",
       "\n",
       "    .dataframe thead th {\n",
       "        text-align: right;\n",
       "    }\n",
       "</style>\n",
       "<table border=\"1\" class=\"dataframe\">\n",
       "  <thead>\n",
       "    <tr style=\"text-align: right;\">\n",
       "      <th></th>\n",
       "      <th>42858</th>\n",
       "      <th>43057</th>\n",
       "      <th>48356</th>\n",
       "      <th>49137</th>\n",
       "      <th>50104</th>\n",
       "      <th>51007</th>\n",
       "      <th>59351</th>\n",
       "      <th>61647</th>\n",
       "      <th>61865</th>\n",
       "      <th>67526</th>\n",
       "      <th>...</th>\n",
       "      <th>86155</th>\n",
       "      <th>86313</th>\n",
       "      <th>86377</th>\n",
       "      <th>86522</th>\n",
       "      <th>86579</th>\n",
       "      <th>86607</th>\n",
       "      <th>86693</th>\n",
       "      <th>86708</th>\n",
       "      <th>86774</th>\n",
       "      <th>86997</th>\n",
       "    </tr>\n",
       "  </thead>\n",
       "  <tbody>\n",
       "    <tr>\n",
       "      <td>ID</td>\n",
       "      <td>ID061421J10</td>\n",
       "      <td>ID061704G40</td>\n",
       "      <td>ID069305P00</td>\n",
       "      <td>ID070459Z40</td>\n",
       "      <td>ID071821J10</td>\n",
       "      <td>ID073189Z40</td>\n",
       "      <td>ID085147X20</td>\n",
       "      <td>ID088412M20</td>\n",
       "      <td>ID088725N00</td>\n",
       "      <td>ID096931D10</td>\n",
       "      <td>...</td>\n",
       "      <td>ID123579B40</td>\n",
       "      <td>ID123808W30</td>\n",
       "      <td>ID123900K00</td>\n",
       "      <td>ID124106I10</td>\n",
       "      <td>ID124185J00</td>\n",
       "      <td>ID124227Z20</td>\n",
       "      <td>ID124354W40</td>\n",
       "      <td>ID124374Q40</td>\n",
       "      <td>ID124461Z10</td>\n",
       "      <td>ID124789P40</td>\n",
       "    </tr>\n",
       "    <tr>\n",
       "      <td>Gender</td>\n",
       "      <td>Male</td>\n",
       "      <td>Male</td>\n",
       "      <td>Male</td>\n",
       "      <td>Female</td>\n",
       "      <td>Male</td>\n",
       "      <td>Female</td>\n",
       "      <td>Female</td>\n",
       "      <td>Male</td>\n",
       "      <td>Female</td>\n",
       "      <td>Female</td>\n",
       "      <td>...</td>\n",
       "      <td>Male</td>\n",
       "      <td>Male</td>\n",
       "      <td>Male</td>\n",
       "      <td>Female</td>\n",
       "      <td>Male</td>\n",
       "      <td>Male</td>\n",
       "      <td>Female</td>\n",
       "      <td>Male</td>\n",
       "      <td>Female</td>\n",
       "      <td>Male</td>\n",
       "    </tr>\n",
       "    <tr>\n",
       "      <td>City</td>\n",
       "      <td>Other</td>\n",
       "      <td>Other</td>\n",
       "      <td>Pune</td>\n",
       "      <td>Thane</td>\n",
       "      <td>Pune</td>\n",
       "      <td>Pune</td>\n",
       "      <td>Mumbai</td>\n",
       "      <td>Pune</td>\n",
       "      <td>Pune</td>\n",
       "      <td>Nagpur</td>\n",
       "      <td>...</td>\n",
       "      <td>Bengaluru</td>\n",
       "      <td>Pune</td>\n",
       "      <td>Jaipur</td>\n",
       "      <td>Kolkata</td>\n",
       "      <td>Chennai</td>\n",
       "      <td>Kolkata</td>\n",
       "      <td>Chennai</td>\n",
       "      <td>Kolkata</td>\n",
       "      <td>Bengaluru</td>\n",
       "      <td>Delhi</td>\n",
       "    </tr>\n",
       "    <tr>\n",
       "      <td>Monthly_Income</td>\n",
       "      <td>40000</td>\n",
       "      <td>40000</td>\n",
       "      <td>25500</td>\n",
       "      <td>38000</td>\n",
       "      <td>38000</td>\n",
       "      <td>59000</td>\n",
       "      <td>18500</td>\n",
       "      <td>32000</td>\n",
       "      <td>22500</td>\n",
       "      <td>21240</td>\n",
       "      <td>...</td>\n",
       "      <td>42000</td>\n",
       "      <td>30000</td>\n",
       "      <td>300000</td>\n",
       "      <td>47500</td>\n",
       "      <td>30000</td>\n",
       "      <td>37000</td>\n",
       "      <td>30000</td>\n",
       "      <td>25000</td>\n",
       "      <td>38000</td>\n",
       "      <td>32000</td>\n",
       "    </tr>\n",
       "    <tr>\n",
       "      <td>Loan_Amount_Applied</td>\n",
       "      <td>0</td>\n",
       "      <td>0</td>\n",
       "      <td>0</td>\n",
       "      <td>0</td>\n",
       "      <td>0</td>\n",
       "      <td>0</td>\n",
       "      <td>0</td>\n",
       "      <td>0</td>\n",
       "      <td>0</td>\n",
       "      <td>0</td>\n",
       "      <td>...</td>\n",
       "      <td>0</td>\n",
       "      <td>0</td>\n",
       "      <td>0</td>\n",
       "      <td>0</td>\n",
       "      <td>0</td>\n",
       "      <td>0</td>\n",
       "      <td>0</td>\n",
       "      <td>0</td>\n",
       "      <td>0</td>\n",
       "      <td>0</td>\n",
       "    </tr>\n",
       "    <tr>\n",
       "      <td>Loan_Tenure_Applied</td>\n",
       "      <td>0</td>\n",
       "      <td>0</td>\n",
       "      <td>0</td>\n",
       "      <td>0</td>\n",
       "      <td>0</td>\n",
       "      <td>0</td>\n",
       "      <td>0</td>\n",
       "      <td>0</td>\n",
       "      <td>0</td>\n",
       "      <td>0</td>\n",
       "      <td>...</td>\n",
       "      <td>0</td>\n",
       "      <td>0</td>\n",
       "      <td>0</td>\n",
       "      <td>0</td>\n",
       "      <td>0</td>\n",
       "      <td>0</td>\n",
       "      <td>0</td>\n",
       "      <td>0</td>\n",
       "      <td>0</td>\n",
       "      <td>0</td>\n",
       "    </tr>\n",
       "    <tr>\n",
       "      <td>Existing_EMI</td>\n",
       "      <td>NaN</td>\n",
       "      <td>NaN</td>\n",
       "      <td>NaN</td>\n",
       "      <td>NaN</td>\n",
       "      <td>NaN</td>\n",
       "      <td>NaN</td>\n",
       "      <td>NaN</td>\n",
       "      <td>NaN</td>\n",
       "      <td>NaN</td>\n",
       "      <td>NaN</td>\n",
       "      <td>...</td>\n",
       "      <td>NaN</td>\n",
       "      <td>NaN</td>\n",
       "      <td>NaN</td>\n",
       "      <td>NaN</td>\n",
       "      <td>NaN</td>\n",
       "      <td>NaN</td>\n",
       "      <td>NaN</td>\n",
       "      <td>NaN</td>\n",
       "      <td>NaN</td>\n",
       "      <td>NaN</td>\n",
       "    </tr>\n",
       "    <tr>\n",
       "      <td>Employer_Name</td>\n",
       "      <td>NaN</td>\n",
       "      <td>NaN</td>\n",
       "      <td>NaN</td>\n",
       "      <td>NaN</td>\n",
       "      <td>NaN</td>\n",
       "      <td>NaN</td>\n",
       "      <td>NaN</td>\n",
       "      <td>NaN</td>\n",
       "      <td>NaN</td>\n",
       "      <td>NaN</td>\n",
       "      <td>...</td>\n",
       "      <td>NaN</td>\n",
       "      <td>NaN</td>\n",
       "      <td>NaN</td>\n",
       "      <td>NaN</td>\n",
       "      <td>NaN</td>\n",
       "      <td>NaN</td>\n",
       "      <td>NaN</td>\n",
       "      <td>NaN</td>\n",
       "      <td>NaN</td>\n",
       "      <td>NaN</td>\n",
       "    </tr>\n",
       "    <tr>\n",
       "      <td>Salary_Account</td>\n",
       "      <td>NaN</td>\n",
       "      <td>NaN</td>\n",
       "      <td>NaN</td>\n",
       "      <td>NaN</td>\n",
       "      <td>NaN</td>\n",
       "      <td>NaN</td>\n",
       "      <td>NaN</td>\n",
       "      <td>NaN</td>\n",
       "      <td>NaN</td>\n",
       "      <td>NaN</td>\n",
       "      <td>...</td>\n",
       "      <td>NaN</td>\n",
       "      <td>NaN</td>\n",
       "      <td>NaN</td>\n",
       "      <td>NaN</td>\n",
       "      <td>NaN</td>\n",
       "      <td>NaN</td>\n",
       "      <td>NaN</td>\n",
       "      <td>NaN</td>\n",
       "      <td>NaN</td>\n",
       "      <td>NaN</td>\n",
       "    </tr>\n",
       "    <tr>\n",
       "      <td>Mobile_Verified</td>\n",
       "      <td>Y</td>\n",
       "      <td>Y</td>\n",
       "      <td>Y</td>\n",
       "      <td>N</td>\n",
       "      <td>Y</td>\n",
       "      <td>N</td>\n",
       "      <td>N</td>\n",
       "      <td>Y</td>\n",
       "      <td>N</td>\n",
       "      <td>N</td>\n",
       "      <td>...</td>\n",
       "      <td>Y</td>\n",
       "      <td>Y</td>\n",
       "      <td>Y</td>\n",
       "      <td>N</td>\n",
       "      <td>Y</td>\n",
       "      <td>Y</td>\n",
       "      <td>N</td>\n",
       "      <td>Y</td>\n",
       "      <td>Y</td>\n",
       "      <td>Y</td>\n",
       "    </tr>\n",
       "    <tr>\n",
       "      <td>Var5</td>\n",
       "      <td>8</td>\n",
       "      <td>13</td>\n",
       "      <td>8</td>\n",
       "      <td>10</td>\n",
       "      <td>14</td>\n",
       "      <td>15</td>\n",
       "      <td>1</td>\n",
       "      <td>12</td>\n",
       "      <td>2</td>\n",
       "      <td>2</td>\n",
       "      <td>...</td>\n",
       "      <td>15</td>\n",
       "      <td>9</td>\n",
       "      <td>11</td>\n",
       "      <td>0</td>\n",
       "      <td>8</td>\n",
       "      <td>12</td>\n",
       "      <td>9</td>\n",
       "      <td>4</td>\n",
       "      <td>10</td>\n",
       "      <td>0</td>\n",
       "    </tr>\n",
       "    <tr>\n",
       "      <td>Var1</td>\n",
       "      <td>HBXC</td>\n",
       "      <td>HCXF</td>\n",
       "      <td>HBXB</td>\n",
       "      <td>HBXX</td>\n",
       "      <td>HBXB</td>\n",
       "      <td>HBXX</td>\n",
       "      <td>HBXX</td>\n",
       "      <td>HBXD</td>\n",
       "      <td>HBXX</td>\n",
       "      <td>HBXX</td>\n",
       "      <td>...</td>\n",
       "      <td>HBXC</td>\n",
       "      <td>HBXA</td>\n",
       "      <td>HAXC</td>\n",
       "      <td>HBXX</td>\n",
       "      <td>HBXB</td>\n",
       "      <td>HBXB</td>\n",
       "      <td>HBXX</td>\n",
       "      <td>HBXX</td>\n",
       "      <td>HBXX</td>\n",
       "      <td>HBXX</td>\n",
       "    </tr>\n",
       "    <tr>\n",
       "      <td>Loan_Amount_Submitted</td>\n",
       "      <td>100000</td>\n",
       "      <td>100000</td>\n",
       "      <td>100000</td>\n",
       "      <td>NaN</td>\n",
       "      <td>400000</td>\n",
       "      <td>NaN</td>\n",
       "      <td>NaN</td>\n",
       "      <td>520000</td>\n",
       "      <td>NaN</td>\n",
       "      <td>NaN</td>\n",
       "      <td>...</td>\n",
       "      <td>1e+06</td>\n",
       "      <td>500000</td>\n",
       "      <td>300000</td>\n",
       "      <td>NaN</td>\n",
       "      <td>100000</td>\n",
       "      <td>500000</td>\n",
       "      <td>NaN</td>\n",
       "      <td>400000</td>\n",
       "      <td>100000</td>\n",
       "      <td>500000</td>\n",
       "    </tr>\n",
       "    <tr>\n",
       "      <td>Loan_Tenure_Submitted</td>\n",
       "      <td>2</td>\n",
       "      <td>2</td>\n",
       "      <td>3</td>\n",
       "      <td>NaN</td>\n",
       "      <td>4</td>\n",
       "      <td>NaN</td>\n",
       "      <td>NaN</td>\n",
       "      <td>4</td>\n",
       "      <td>NaN</td>\n",
       "      <td>NaN</td>\n",
       "      <td>...</td>\n",
       "      <td>5</td>\n",
       "      <td>5</td>\n",
       "      <td>3</td>\n",
       "      <td>NaN</td>\n",
       "      <td>2</td>\n",
       "      <td>4</td>\n",
       "      <td>NaN</td>\n",
       "      <td>4</td>\n",
       "      <td>2</td>\n",
       "      <td>5</td>\n",
       "    </tr>\n",
       "    <tr>\n",
       "      <td>Interest_Rate</td>\n",
       "      <td>16.35</td>\n",
       "      <td>17.5</td>\n",
       "      <td>27</td>\n",
       "      <td>NaN</td>\n",
       "      <td>23.5</td>\n",
       "      <td>NaN</td>\n",
       "      <td>NaN</td>\n",
       "      <td>14.49</td>\n",
       "      <td>NaN</td>\n",
       "      <td>NaN</td>\n",
       "      <td>...</td>\n",
       "      <td>13.75</td>\n",
       "      <td>13.99</td>\n",
       "      <td>15.25</td>\n",
       "      <td>NaN</td>\n",
       "      <td>27</td>\n",
       "      <td>26.5</td>\n",
       "      <td>NaN</td>\n",
       "      <td>NaN</td>\n",
       "      <td>NaN</td>\n",
       "      <td>NaN</td>\n",
       "    </tr>\n",
       "    <tr>\n",
       "      <td>Processing_Fee</td>\n",
       "      <td>1000</td>\n",
       "      <td>2000</td>\n",
       "      <td>2000</td>\n",
       "      <td>NaN</td>\n",
       "      <td>8000</td>\n",
       "      <td>NaN</td>\n",
       "      <td>NaN</td>\n",
       "      <td>5148</td>\n",
       "      <td>NaN</td>\n",
       "      <td>NaN</td>\n",
       "      <td>...</td>\n",
       "      <td>10000</td>\n",
       "      <td>2500</td>\n",
       "      <td>6000</td>\n",
       "      <td>NaN</td>\n",
       "      <td>2000</td>\n",
       "      <td>10000</td>\n",
       "      <td>NaN</td>\n",
       "      <td>NaN</td>\n",
       "      <td>NaN</td>\n",
       "      <td>NaN</td>\n",
       "    </tr>\n",
       "    <tr>\n",
       "      <td>EMI_Loan_Submitted</td>\n",
       "      <td>4913.05</td>\n",
       "      <td>4968.28</td>\n",
       "      <td>4082.52</td>\n",
       "      <td>NaN</td>\n",
       "      <td>12930.4</td>\n",
       "      <td>NaN</td>\n",
       "      <td>NaN</td>\n",
       "      <td>14337.9</td>\n",
       "      <td>NaN</td>\n",
       "      <td>NaN</td>\n",
       "      <td>...</td>\n",
       "      <td>23138.8</td>\n",
       "      <td>11631.5</td>\n",
       "      <td>10436.4</td>\n",
       "      <td>NaN</td>\n",
       "      <td>5438.02</td>\n",
       "      <td>16999.6</td>\n",
       "      <td>NaN</td>\n",
       "      <td>NaN</td>\n",
       "      <td>NaN</td>\n",
       "      <td>NaN</td>\n",
       "    </tr>\n",
       "    <tr>\n",
       "      <td>Filled_Form</td>\n",
       "      <td>Y</td>\n",
       "      <td>Y</td>\n",
       "      <td>Y</td>\n",
       "      <td>N</td>\n",
       "      <td>Y</td>\n",
       "      <td>N</td>\n",
       "      <td>N</td>\n",
       "      <td>Y</td>\n",
       "      <td>N</td>\n",
       "      <td>N</td>\n",
       "      <td>...</td>\n",
       "      <td>Y</td>\n",
       "      <td>Y</td>\n",
       "      <td>Y</td>\n",
       "      <td>N</td>\n",
       "      <td>Y</td>\n",
       "      <td>Y</td>\n",
       "      <td>N</td>\n",
       "      <td>N</td>\n",
       "      <td>N</td>\n",
       "      <td>N</td>\n",
       "    </tr>\n",
       "    <tr>\n",
       "      <td>Device_Type</td>\n",
       "      <td>Web-browser</td>\n",
       "      <td>Web-browser</td>\n",
       "      <td>Web-browser</td>\n",
       "      <td>Web-browser</td>\n",
       "      <td>Web-browser</td>\n",
       "      <td>Web-browser</td>\n",
       "      <td>Web-browser</td>\n",
       "      <td>Web-browser</td>\n",
       "      <td>Web-browser</td>\n",
       "      <td>Web-browser</td>\n",
       "      <td>...</td>\n",
       "      <td>Web-browser</td>\n",
       "      <td>Web-browser</td>\n",
       "      <td>Web-browser</td>\n",
       "      <td>Web-browser</td>\n",
       "      <td>Web-browser</td>\n",
       "      <td>Web-browser</td>\n",
       "      <td>Web-browser</td>\n",
       "      <td>Mobile</td>\n",
       "      <td>Web-browser</td>\n",
       "      <td>Web-browser</td>\n",
       "    </tr>\n",
       "    <tr>\n",
       "      <td>Var2</td>\n",
       "      <td>B</td>\n",
       "      <td>B</td>\n",
       "      <td>B</td>\n",
       "      <td>D</td>\n",
       "      <td>B</td>\n",
       "      <td>D</td>\n",
       "      <td>G</td>\n",
       "      <td>G</td>\n",
       "      <td>G</td>\n",
       "      <td>G</td>\n",
       "      <td>...</td>\n",
       "      <td>G</td>\n",
       "      <td>G</td>\n",
       "      <td>G</td>\n",
       "      <td>G</td>\n",
       "      <td>G</td>\n",
       "      <td>G</td>\n",
       "      <td>G</td>\n",
       "      <td>G</td>\n",
       "      <td>G</td>\n",
       "      <td>G</td>\n",
       "    </tr>\n",
       "    <tr>\n",
       "      <td>Source</td>\n",
       "      <td>S157</td>\n",
       "      <td>S143</td>\n",
       "      <td>S133</td>\n",
       "      <td>S122</td>\n",
       "      <td>S143</td>\n",
       "      <td>S122</td>\n",
       "      <td>S122</td>\n",
       "      <td>S122</td>\n",
       "      <td>S122</td>\n",
       "      <td>S122</td>\n",
       "      <td>...</td>\n",
       "      <td>S122</td>\n",
       "      <td>S122</td>\n",
       "      <td>S122</td>\n",
       "      <td>S122</td>\n",
       "      <td>S122</td>\n",
       "      <td>S122</td>\n",
       "      <td>S122</td>\n",
       "      <td>S122</td>\n",
       "      <td>S122</td>\n",
       "      <td>S122</td>\n",
       "    </tr>\n",
       "    <tr>\n",
       "      <td>Var4</td>\n",
       "      <td>5</td>\n",
       "      <td>5</td>\n",
       "      <td>5</td>\n",
       "      <td>7</td>\n",
       "      <td>5</td>\n",
       "      <td>7</td>\n",
       "      <td>7</td>\n",
       "      <td>5</td>\n",
       "      <td>3</td>\n",
       "      <td>7</td>\n",
       "      <td>...</td>\n",
       "      <td>5</td>\n",
       "      <td>5</td>\n",
       "      <td>5</td>\n",
       "      <td>1</td>\n",
       "      <td>5</td>\n",
       "      <td>5</td>\n",
       "      <td>3</td>\n",
       "      <td>3</td>\n",
       "      <td>3</td>\n",
       "      <td>1</td>\n",
       "    </tr>\n",
       "    <tr>\n",
       "      <td>LoggedIn</td>\n",
       "      <td>0</td>\n",
       "      <td>0</td>\n",
       "      <td>0</td>\n",
       "      <td>0</td>\n",
       "      <td>0</td>\n",
       "      <td>0</td>\n",
       "      <td>0</td>\n",
       "      <td>0</td>\n",
       "      <td>0</td>\n",
       "      <td>0</td>\n",
       "      <td>...</td>\n",
       "      <td>0</td>\n",
       "      <td>0</td>\n",
       "      <td>0</td>\n",
       "      <td>0</td>\n",
       "      <td>0</td>\n",
       "      <td>1</td>\n",
       "      <td>0</td>\n",
       "      <td>0</td>\n",
       "      <td>0</td>\n",
       "      <td>0</td>\n",
       "    </tr>\n",
       "    <tr>\n",
       "      <td>Disbursed</td>\n",
       "      <td>0</td>\n",
       "      <td>0</td>\n",
       "      <td>0</td>\n",
       "      <td>0</td>\n",
       "      <td>0</td>\n",
       "      <td>0</td>\n",
       "      <td>0</td>\n",
       "      <td>0</td>\n",
       "      <td>0</td>\n",
       "      <td>0</td>\n",
       "      <td>...</td>\n",
       "      <td>0</td>\n",
       "      <td>0</td>\n",
       "      <td>0</td>\n",
       "      <td>0</td>\n",
       "      <td>0</td>\n",
       "      <td>1</td>\n",
       "      <td>0</td>\n",
       "      <td>0</td>\n",
       "      <td>0</td>\n",
       "      <td>0</td>\n",
       "    </tr>\n",
       "    <tr>\n",
       "      <td>Monthly_Income_Log</td>\n",
       "      <td>4.60207</td>\n",
       "      <td>4.60207</td>\n",
       "      <td>4.40656</td>\n",
       "      <td>4.5798</td>\n",
       "      <td>4.5798</td>\n",
       "      <td>4.77086</td>\n",
       "      <td>4.2672</td>\n",
       "      <td>4.50516</td>\n",
       "      <td>4.3522</td>\n",
       "      <td>4.32717</td>\n",
       "      <td>...</td>\n",
       "      <td>4.62326</td>\n",
       "      <td>4.47714</td>\n",
       "      <td>5.47712</td>\n",
       "      <td>4.6767</td>\n",
       "      <td>4.47714</td>\n",
       "      <td>4.56821</td>\n",
       "      <td>4.47714</td>\n",
       "      <td>4.39796</td>\n",
       "      <td>4.5798</td>\n",
       "      <td>4.50516</td>\n",
       "    </tr>\n",
       "    <tr>\n",
       "      <td>Age</td>\n",
       "      <td>36</td>\n",
       "      <td>32</td>\n",
       "      <td>23</td>\n",
       "      <td>27</td>\n",
       "      <td>28</td>\n",
       "      <td>24</td>\n",
       "      <td>27</td>\n",
       "      <td>32</td>\n",
       "      <td>27</td>\n",
       "      <td>22</td>\n",
       "      <td>...</td>\n",
       "      <td>33</td>\n",
       "      <td>35</td>\n",
       "      <td>24</td>\n",
       "      <td>35</td>\n",
       "      <td>24</td>\n",
       "      <td>28</td>\n",
       "      <td>27</td>\n",
       "      <td>28</td>\n",
       "      <td>26</td>\n",
       "      <td>29</td>\n",
       "    </tr>\n",
       "    <tr>\n",
       "      <td>Missing_Loan_Amount_Applied</td>\n",
       "      <td>1</td>\n",
       "      <td>1</td>\n",
       "      <td>1</td>\n",
       "      <td>1</td>\n",
       "      <td>1</td>\n",
       "      <td>1</td>\n",
       "      <td>1</td>\n",
       "      <td>1</td>\n",
       "      <td>1</td>\n",
       "      <td>1</td>\n",
       "      <td>...</td>\n",
       "      <td>1</td>\n",
       "      <td>1</td>\n",
       "      <td>1</td>\n",
       "      <td>1</td>\n",
       "      <td>1</td>\n",
       "      <td>1</td>\n",
       "      <td>1</td>\n",
       "      <td>1</td>\n",
       "      <td>1</td>\n",
       "      <td>1</td>\n",
       "    </tr>\n",
       "    <tr>\n",
       "      <td>Missing_Loan_Tenure_Applied</td>\n",
       "      <td>1</td>\n",
       "      <td>1</td>\n",
       "      <td>1</td>\n",
       "      <td>1</td>\n",
       "      <td>1</td>\n",
       "      <td>1</td>\n",
       "      <td>1</td>\n",
       "      <td>1</td>\n",
       "      <td>1</td>\n",
       "      <td>1</td>\n",
       "      <td>...</td>\n",
       "      <td>1</td>\n",
       "      <td>1</td>\n",
       "      <td>1</td>\n",
       "      <td>1</td>\n",
       "      <td>1</td>\n",
       "      <td>1</td>\n",
       "      <td>1</td>\n",
       "      <td>1</td>\n",
       "      <td>1</td>\n",
       "      <td>1</td>\n",
       "    </tr>\n",
       "  </tbody>\n",
       "</table>\n",
       "<p>28 rows × 71 columns</p>\n",
       "</div>"
      ],
      "text/plain": [
       "                                   42858        43057        48356  \\\n",
       "ID                           ID061421J10  ID061704G40  ID069305P00   \n",
       "Gender                              Male         Male         Male   \n",
       "City                               Other        Other         Pune   \n",
       "Monthly_Income                     40000        40000        25500   \n",
       "Loan_Amount_Applied                    0            0            0   \n",
       "Loan_Tenure_Applied                    0            0            0   \n",
       "Existing_EMI                         NaN          NaN          NaN   \n",
       "Employer_Name                        NaN          NaN          NaN   \n",
       "Salary_Account                       NaN          NaN          NaN   \n",
       "Mobile_Verified                        Y            Y            Y   \n",
       "Var5                                   8           13            8   \n",
       "Var1                                HBXC         HCXF         HBXB   \n",
       "Loan_Amount_Submitted             100000       100000       100000   \n",
       "Loan_Tenure_Submitted                  2            2            3   \n",
       "Interest_Rate                      16.35         17.5           27   \n",
       "Processing_Fee                      1000         2000         2000   \n",
       "EMI_Loan_Submitted               4913.05      4968.28      4082.52   \n",
       "Filled_Form                            Y            Y            Y   \n",
       "Device_Type                  Web-browser  Web-browser  Web-browser   \n",
       "Var2                                   B            B            B   \n",
       "Source                              S157         S143         S133   \n",
       "Var4                                   5            5            5   \n",
       "LoggedIn                               0            0            0   \n",
       "Disbursed                              0            0            0   \n",
       "Monthly_Income_Log               4.60207      4.60207      4.40656   \n",
       "Age                                   36           32           23   \n",
       "Missing_Loan_Amount_Applied            1            1            1   \n",
       "Missing_Loan_Tenure_Applied            1            1            1   \n",
       "\n",
       "                                   49137        50104        51007  \\\n",
       "ID                           ID070459Z40  ID071821J10  ID073189Z40   \n",
       "Gender                            Female         Male       Female   \n",
       "City                               Thane         Pune         Pune   \n",
       "Monthly_Income                     38000        38000        59000   \n",
       "Loan_Amount_Applied                    0            0            0   \n",
       "Loan_Tenure_Applied                    0            0            0   \n",
       "Existing_EMI                         NaN          NaN          NaN   \n",
       "Employer_Name                        NaN          NaN          NaN   \n",
       "Salary_Account                       NaN          NaN          NaN   \n",
       "Mobile_Verified                        N            Y            N   \n",
       "Var5                                  10           14           15   \n",
       "Var1                                HBXX         HBXB         HBXX   \n",
       "Loan_Amount_Submitted                NaN       400000          NaN   \n",
       "Loan_Tenure_Submitted                NaN            4          NaN   \n",
       "Interest_Rate                        NaN         23.5          NaN   \n",
       "Processing_Fee                       NaN         8000          NaN   \n",
       "EMI_Loan_Submitted                   NaN      12930.4          NaN   \n",
       "Filled_Form                            N            Y            N   \n",
       "Device_Type                  Web-browser  Web-browser  Web-browser   \n",
       "Var2                                   D            B            D   \n",
       "Source                              S122         S143         S122   \n",
       "Var4                                   7            5            7   \n",
       "LoggedIn                               0            0            0   \n",
       "Disbursed                              0            0            0   \n",
       "Monthly_Income_Log                4.5798       4.5798      4.77086   \n",
       "Age                                   27           28           24   \n",
       "Missing_Loan_Amount_Applied            1            1            1   \n",
       "Missing_Loan_Tenure_Applied            1            1            1   \n",
       "\n",
       "                                   59351        61647        61865  \\\n",
       "ID                           ID085147X20  ID088412M20  ID088725N00   \n",
       "Gender                            Female         Male       Female   \n",
       "City                              Mumbai         Pune         Pune   \n",
       "Monthly_Income                     18500        32000        22500   \n",
       "Loan_Amount_Applied                    0            0            0   \n",
       "Loan_Tenure_Applied                    0            0            0   \n",
       "Existing_EMI                         NaN          NaN          NaN   \n",
       "Employer_Name                        NaN          NaN          NaN   \n",
       "Salary_Account                       NaN          NaN          NaN   \n",
       "Mobile_Verified                        N            Y            N   \n",
       "Var5                                   1           12            2   \n",
       "Var1                                HBXX         HBXD         HBXX   \n",
       "Loan_Amount_Submitted                NaN       520000          NaN   \n",
       "Loan_Tenure_Submitted                NaN            4          NaN   \n",
       "Interest_Rate                        NaN        14.49          NaN   \n",
       "Processing_Fee                       NaN         5148          NaN   \n",
       "EMI_Loan_Submitted                   NaN      14337.9          NaN   \n",
       "Filled_Form                            N            Y            N   \n",
       "Device_Type                  Web-browser  Web-browser  Web-browser   \n",
       "Var2                                   G            G            G   \n",
       "Source                              S122         S122         S122   \n",
       "Var4                                   7            5            3   \n",
       "LoggedIn                               0            0            0   \n",
       "Disbursed                              0            0            0   \n",
       "Monthly_Income_Log                4.2672      4.50516       4.3522   \n",
       "Age                                   27           32           27   \n",
       "Missing_Loan_Amount_Applied            1            1            1   \n",
       "Missing_Loan_Tenure_Applied            1            1            1   \n",
       "\n",
       "                                   67526  ...        86155        86313  \\\n",
       "ID                           ID096931D10  ...  ID123579B40  ID123808W30   \n",
       "Gender                            Female  ...         Male         Male   \n",
       "City                              Nagpur  ...    Bengaluru         Pune   \n",
       "Monthly_Income                     21240  ...        42000        30000   \n",
       "Loan_Amount_Applied                    0  ...            0            0   \n",
       "Loan_Tenure_Applied                    0  ...            0            0   \n",
       "Existing_EMI                         NaN  ...          NaN          NaN   \n",
       "Employer_Name                        NaN  ...          NaN          NaN   \n",
       "Salary_Account                       NaN  ...          NaN          NaN   \n",
       "Mobile_Verified                        N  ...            Y            Y   \n",
       "Var5                                   2  ...           15            9   \n",
       "Var1                                HBXX  ...         HBXC         HBXA   \n",
       "Loan_Amount_Submitted                NaN  ...        1e+06       500000   \n",
       "Loan_Tenure_Submitted                NaN  ...            5            5   \n",
       "Interest_Rate                        NaN  ...        13.75        13.99   \n",
       "Processing_Fee                       NaN  ...        10000         2500   \n",
       "EMI_Loan_Submitted                   NaN  ...      23138.8      11631.5   \n",
       "Filled_Form                            N  ...            Y            Y   \n",
       "Device_Type                  Web-browser  ...  Web-browser  Web-browser   \n",
       "Var2                                   G  ...            G            G   \n",
       "Source                              S122  ...         S122         S122   \n",
       "Var4                                   7  ...            5            5   \n",
       "LoggedIn                               0  ...            0            0   \n",
       "Disbursed                              0  ...            0            0   \n",
       "Monthly_Income_Log               4.32717  ...      4.62326      4.47714   \n",
       "Age                                   22  ...           33           35   \n",
       "Missing_Loan_Amount_Applied            1  ...            1            1   \n",
       "Missing_Loan_Tenure_Applied            1  ...            1            1   \n",
       "\n",
       "                                   86377        86522        86579  \\\n",
       "ID                           ID123900K00  ID124106I10  ID124185J00   \n",
       "Gender                              Male       Female         Male   \n",
       "City                              Jaipur      Kolkata      Chennai   \n",
       "Monthly_Income                    300000        47500        30000   \n",
       "Loan_Amount_Applied                    0            0            0   \n",
       "Loan_Tenure_Applied                    0            0            0   \n",
       "Existing_EMI                         NaN          NaN          NaN   \n",
       "Employer_Name                        NaN          NaN          NaN   \n",
       "Salary_Account                       NaN          NaN          NaN   \n",
       "Mobile_Verified                        Y            N            Y   \n",
       "Var5                                  11            0            8   \n",
       "Var1                                HAXC         HBXX         HBXB   \n",
       "Loan_Amount_Submitted             300000          NaN       100000   \n",
       "Loan_Tenure_Submitted                  3          NaN            2   \n",
       "Interest_Rate                      15.25          NaN           27   \n",
       "Processing_Fee                      6000          NaN         2000   \n",
       "EMI_Loan_Submitted               10436.4          NaN      5438.02   \n",
       "Filled_Form                            Y            N            Y   \n",
       "Device_Type                  Web-browser  Web-browser  Web-browser   \n",
       "Var2                                   G            G            G   \n",
       "Source                              S122         S122         S122   \n",
       "Var4                                   5            1            5   \n",
       "LoggedIn                               0            0            0   \n",
       "Disbursed                              0            0            0   \n",
       "Monthly_Income_Log               5.47712       4.6767      4.47714   \n",
       "Age                                   24           35           24   \n",
       "Missing_Loan_Amount_Applied            1            1            1   \n",
       "Missing_Loan_Tenure_Applied            1            1            1   \n",
       "\n",
       "                                   86607        86693        86708  \\\n",
       "ID                           ID124227Z20  ID124354W40  ID124374Q40   \n",
       "Gender                              Male       Female         Male   \n",
       "City                             Kolkata      Chennai      Kolkata   \n",
       "Monthly_Income                     37000        30000        25000   \n",
       "Loan_Amount_Applied                    0            0            0   \n",
       "Loan_Tenure_Applied                    0            0            0   \n",
       "Existing_EMI                         NaN          NaN          NaN   \n",
       "Employer_Name                        NaN          NaN          NaN   \n",
       "Salary_Account                       NaN          NaN          NaN   \n",
       "Mobile_Verified                        Y            N            Y   \n",
       "Var5                                  12            9            4   \n",
       "Var1                                HBXB         HBXX         HBXX   \n",
       "Loan_Amount_Submitted             500000          NaN       400000   \n",
       "Loan_Tenure_Submitted                  4          NaN            4   \n",
       "Interest_Rate                       26.5          NaN          NaN   \n",
       "Processing_Fee                     10000          NaN          NaN   \n",
       "EMI_Loan_Submitted               16999.6          NaN          NaN   \n",
       "Filled_Form                            Y            N            N   \n",
       "Device_Type                  Web-browser  Web-browser       Mobile   \n",
       "Var2                                   G            G            G   \n",
       "Source                              S122         S122         S122   \n",
       "Var4                                   5            3            3   \n",
       "LoggedIn                               1            0            0   \n",
       "Disbursed                              1            0            0   \n",
       "Monthly_Income_Log               4.56821      4.47714      4.39796   \n",
       "Age                                   28           27           28   \n",
       "Missing_Loan_Amount_Applied            1            1            1   \n",
       "Missing_Loan_Tenure_Applied            1            1            1   \n",
       "\n",
       "                                   86774        86997  \n",
       "ID                           ID124461Z10  ID124789P40  \n",
       "Gender                            Female         Male  \n",
       "City                           Bengaluru        Delhi  \n",
       "Monthly_Income                     38000        32000  \n",
       "Loan_Amount_Applied                    0            0  \n",
       "Loan_Tenure_Applied                    0            0  \n",
       "Existing_EMI                         NaN          NaN  \n",
       "Employer_Name                        NaN          NaN  \n",
       "Salary_Account                       NaN          NaN  \n",
       "Mobile_Verified                        Y            Y  \n",
       "Var5                                  10            0  \n",
       "Var1                                HBXX         HBXX  \n",
       "Loan_Amount_Submitted             100000       500000  \n",
       "Loan_Tenure_Submitted                  2            5  \n",
       "Interest_Rate                        NaN          NaN  \n",
       "Processing_Fee                       NaN          NaN  \n",
       "EMI_Loan_Submitted                   NaN          NaN  \n",
       "Filled_Form                            N            N  \n",
       "Device_Type                  Web-browser  Web-browser  \n",
       "Var2                                   G            G  \n",
       "Source                              S122         S122  \n",
       "Var4                                   3            1  \n",
       "LoggedIn                               0            0  \n",
       "Disbursed                              0            0  \n",
       "Monthly_Income_Log                4.5798      4.50516  \n",
       "Age                                   26           29  \n",
       "Missing_Loan_Amount_Applied            1            1  \n",
       "Missing_Loan_Tenure_Applied            1            1  \n",
       "\n",
       "[28 rows x 71 columns]"
      ]
     },
     "execution_count": 126,
     "metadata": {},
     "output_type": "execute_result"
    }
   ],
   "source": [
    "# po przeanalizowaniu pozostałych brakujących wartości dochodzimy do wniosku, że 71 wybrakowanych wierszy jest do usunięcia\n",
    "data[data['Existing_EMI'].isna()].T"
   ]
  },
  {
   "cell_type": "code",
   "execution_count": 127,
   "metadata": {},
   "outputs": [],
   "source": [
    "data = data[~data['Existing_EMI'].isna()]"
   ]
  },
  {
   "cell_type": "code",
   "execution_count": 128,
   "metadata": {},
   "outputs": [
    {
     "data": {
      "text/plain": [
       "0"
      ]
     },
     "execution_count": 128,
     "metadata": {},
     "output_type": "execute_result"
    }
   ],
   "source": [
    "data['Existing_EMI'].isna().sum()"
   ]
  },
  {
   "cell_type": "code",
   "execution_count": 129,
   "metadata": {},
   "outputs": [
    {
     "data": {
      "text/plain": [
       "<matplotlib.axes._subplots.AxesSubplot at 0x1dbdc4b3808>"
      ]
     },
     "execution_count": 129,
     "metadata": {},
     "output_type": "execute_result"
    },
    {
     "data": {
      "image/png": "[encoded data removed]",
      "text/plain": [
       "<Figure size 432x288 with 1 Axes>"
      ]
     },
     "metadata": {
      "needs_background": "light"
     },
     "output_type": "display_data"
    }
   ],
   "source": [
    "data['Existing_EMI'][data['Existing_EMI'] < 1e4].hist()"
   ]
  },
  {
   "cell_type": "code",
   "execution_count": 130,
   "metadata": {},
   "outputs": [
    {
     "data": {
      "text/plain": [
       "0.0        58238\n",
       "5000.0      2695\n",
       "10000.0     1737\n",
       "3000.0      1581\n",
       "4000.0      1226\n",
       "           ...  \n",
       "11036.0        1\n",
       "1703.0         1\n",
       "2335.0         1\n",
       "2936.0         1\n",
       "1543.0         1\n",
       "Name: Existing_EMI, Length: 3753, dtype: int64"
      ]
     },
     "execution_count": 130,
     "metadata": {},
     "output_type": "execute_result"
    }
   ],
   "source": [
    "data['Existing_EMI'].value_counts()"
   ]
  },
  {
   "cell_type": "code",
   "execution_count": 131,
   "metadata": {},
   "outputs": [
    {
     "name": "stderr",
     "output_type": "stream",
     "text": [
      "C:\\Users\\Waldemar\\Anaconda3\\lib\\site-packages\\ipykernel_launcher.py:1: SettingWithCopyWarning: \n",
      "A value is trying to be set on a copy of a slice from a DataFrame.\n",
      "Try using .loc[row_indexer,col_indexer] = value instead\n",
      "\n",
      "See the caveats in the documentation: http://pandas.pydata.org/pandas-docs/stable/user_guide/indexing.html#returning-a-view-versus-a-copy\n",
      "  \"\"\"Entry point for launching an IPython kernel.\n"
     ]
    }
   ],
   "source": [
    "data['Is_Existing_EMI'] = (data['Existing_EMI']  > 0).astype(int)"
   ]
  },
  {
   "cell_type": "markdown",
   "metadata": {},
   "source": [
    "Zmienna **Employer_name**"
   ]
  },
  {
   "cell_type": "code",
   "execution_count": 132,
   "metadata": {},
   "outputs": [
    {
     "data": {
      "text/plain": [
       "0"
      ]
     },
     "execution_count": 132,
     "metadata": {},
     "output_type": "execute_result"
    }
   ],
   "source": [
    "data['Employer_Name'].isna().sum()"
   ]
  },
  {
   "cell_type": "code",
   "execution_count": 133,
   "metadata": {
    "scrolled": true
   },
   "outputs": [
    {
     "data": {
      "text/plain": [
       "0                                               4914\n",
       "TATA CONSULTANCY SERVICES LTD (TCS)              550\n",
       "COGNIZANT TECHNOLOGY SOLUTIONS INDIA PVT LTD     404\n",
       "ACCENTURE SERVICES PVT LTD                       324\n",
       "GOOGLE                                           301\n",
       "                                                ... \n",
       "SAPIENT                                            1\n",
       "BRO                                                1\n",
       "TRANSPOORT MANGER                                  1\n",
       "PUDHUVAAZHUVU PROJECT                              1\n",
       "VISHAL INTERPRISES                                 1\n",
       "Name: Employer_Name, Length: 43567, dtype: int64"
      ]
     },
     "execution_count": 133,
     "metadata": {},
     "output_type": "execute_result"
    }
   ],
   "source": [
    "data['Employer_Name'].value_counts()"
   ]
  },
  {
   "cell_type": "code",
   "execution_count": 134,
   "metadata": {},
   "outputs": [
    {
     "data": {
      "text/plain": [
       "['0',\n",
       " 'TATA CONSULTANCY SERVICES LTD (TCS)',\n",
       " 'COGNIZANT TECHNOLOGY SOLUTIONS INDIA PVT LTD',\n",
       " 'ACCENTURE SERVICES PVT LTD',\n",
       " 'GOOGLE',\n",
       " 'HCL TECHNOLOGIES LTD',\n",
       " 'ICICI BANK LTD',\n",
       " 'INDIAN AIR FORCE',\n",
       " 'INFOSYS TECHNOLOGIES',\n",
       " 'GENPACT',\n",
       " 'IBM CORPORATION',\n",
       " 'INDIAN ARMY',\n",
       " 'TYPE SLOWLY FOR AUTO FILL',\n",
       " 'WIPRO TECHNOLOGIES',\n",
       " 'HDFC BANK LTD',\n",
       " 'IKYA HUMAN CAPITAL SOLUTIONS LTD',\n",
       " 'STATE GOVERNMENT',\n",
       " 'INDIAN RAILWAY',\n",
       " 'INDIAN NAVY',\n",
       " 'ARMY',\n",
       " 'WIPRO BPO',\n",
       " 'OTHERS',\n",
       " 'TECH MAHINDRA LTD',\n",
       " 'CONVERGYS INDIA SERVICES PVT LTD',\n",
       " 'SERCO BPO PVT LTD',\n",
       " 'IBM GLOBAL SERVICES INDIA LTD',\n",
       " 'CONCENTRIX DAKSH SERVICES INDIA PVT LTD',\n",
       " 'CAPGEMINI INDIA PVT LTD',\n",
       " 'RANDSTAD INDIA LTD',\n",
       " 'ADECCO INDIA PVT LTD',\n",
       " 'CIPLA LTD',\n",
       " 'WNS GLOBAL SERVICES PVT LTD',\n",
       " 'SUTHERLAND GLOBAL SERVICES PVT LTD',\n",
       " 'TCS ESERVE LTD (TATA CONSULTANCY SERVICES BPO)',\n",
       " 'INDUSIND BANK LTD',\n",
       " 'HEWLETT PACKARD GLOBALSOFT PVT LTD',\n",
       " 'HSBC ELECTRONIC DATA PROCESSING INDIA PVT LTD',\n",
       " 'WIPRO INFOTECH',\n",
       " 'TEAM LEASE SERVICES PVT LTD',\n",
       " 'KOTAK MAHINDRA BANK LTD',\n",
       " 'LARSEN AND TOUBRO LTD (L AND T)',\n",
       " 'MPHASIS LTD',\n",
       " 'TECHNOLOGY',\n",
       " 'TCS AND ASSOCIATES PVT LTD',\n",
       " 'MANPOWER GROUP SERVICES INDIA PVT LTD',\n",
       " 'POLICE DEPARTMENT',\n",
       " 'MUTHOOT FINANCE LTD',\n",
       " 'DELL INTERNATIONAL SERVICES INDIA PRIVATE LIMITED',\n",
       " 'ERICSSON INDIA GLOBAL SERVICES PVT LTD',\n",
       " 'CRPF',\n",
       " 'AEGIS BPO SERVICES PVT LTD',\n",
       " 'ORACLE INDIA PVT LTD',\n",
       " 'TATA MOTORS LTD',\n",
       " 'CAPGEMINI CONSULTING INDIA PVT LTD',\n",
       " 'EDUCATION DEPARTMENT',\n",
       " 'GOVERNMENT OF INDIA',\n",
       " 'DR REDDYS LABORATORIES LTD',\n",
       " 'HONDA CARS INDIA LTD',\n",
       " 'IBM DAKSH',\n",
       " 'ANI TECHNOLOGIES PVT LTD',\n",
       " 'BSNL',\n",
       " 'RELIANCE INDUSTRIES LTD',\n",
       " 'IBM BUSINESS CONSULTING SERVICES',\n",
       " 'RAILWAY',\n",
       " 'OCWEN FINANCIAL SOLUTIONS PVT LTD',\n",
       " 'LARSEN & TOUBRO LTD (L&T)',\n",
       " 'TEACHERS',\n",
       " 'TECH MAHINDRA BUSINESS SERVICES LTD',\n",
       " 'AMERICAN EXPRESS INDIA LTD']"
      ]
     },
     "execution_count": 134,
     "metadata": {},
     "output_type": "execute_result"
    }
   ],
   "source": [
    "frequent_employers = data['Employer_Name'].value_counts()[data['Employer_Name'].value_counts() > 50].index.tolist()\n",
    "frequent_employers"
   ]
  },
  {
   "cell_type": "code",
   "execution_count": 135,
   "metadata": {},
   "outputs": [
    {
     "name": "stderr",
     "output_type": "stream",
     "text": [
      "C:\\Users\\Waldemar\\Anaconda3\\lib\\site-packages\\ipykernel_launcher.py:7: SettingWithCopyWarning: \n",
      "A value is trying to be set on a copy of a slice from a DataFrame.\n",
      "Try using .loc[row_indexer,col_indexer] = value instead\n",
      "\n",
      "See the caveats in the documentation: http://pandas.pydata.org/pandas-docs/stable/user_guide/indexing.html#returning-a-view-versus-a-copy\n",
      "  import sys\n"
     ]
    }
   ],
   "source": [
    "def convert_employer(emp):\n",
    "    if emp in frequent_employers:\n",
    "        return emp\n",
    "    else:\n",
    "        return \"Other\"\n",
    "\n",
    "data['Employer_Name'] = data['Employer_Name'].apply(convert_employer)"
   ]
  },
  {
   "cell_type": "code",
   "execution_count": 136,
   "metadata": {},
   "outputs": [
    {
     "data": {
      "text/plain": [
       "Other                                           74304\n",
       "0                                                4914\n",
       "TATA CONSULTANCY SERVICES LTD (TCS)               550\n",
       "COGNIZANT TECHNOLOGY SOLUTIONS INDIA PVT LTD      404\n",
       "ACCENTURE SERVICES PVT LTD                        324\n",
       "                                                ...  \n",
       "LARSEN & TOUBRO LTD (L&T)                          55\n",
       "OCWEN FINANCIAL SOLUTIONS PVT LTD                  55\n",
       "TEACHERS                                           54\n",
       "AMERICAN EXPRESS INDIA LTD                         53\n",
       "TECH MAHINDRA BUSINESS SERVICES LTD                53\n",
       "Name: Employer_Name, Length: 70, dtype: int64"
      ]
     },
     "execution_count": 136,
     "metadata": {},
     "output_type": "execute_result"
    }
   ],
   "source": [
    "data['Employer_Name'].value_counts()"
   ]
  },
  {
   "cell_type": "code",
   "execution_count": 137,
   "metadata": {},
   "outputs": [
    {
     "data": {
      "text/plain": [
       "Employer_Name\n",
       "0                              0.001018\n",
       "ACCENTURE SERVICES PVT LTD     0.037037\n",
       "ADECCO INDIA PVT LTD           0.021053\n",
       "AEGIS BPO SERVICES PVT LTD     0.000000\n",
       "AMERICAN EXPRESS INDIA LTD     0.056604\n",
       "                                 ...   \n",
       "TYPE SLOWLY FOR AUTO FILL      0.024691\n",
       "WIPRO BPO                      0.008621\n",
       "WIPRO INFOTECH                 0.000000\n",
       "WIPRO TECHNOLOGIES             0.006452\n",
       "WNS GLOBAL SERVICES PVT LTD    0.011111\n",
       "Name: Disbursed, Length: 70, dtype: float64"
      ]
     },
     "execution_count": 137,
     "metadata": {},
     "output_type": "execute_result"
    }
   ],
   "source": [
    "employer_means = data.groupby('Employer_Name')['Disbursed'].mean()\n",
    "employer_means"
   ]
  },
  {
   "cell_type": "code",
   "execution_count": 138,
   "metadata": {},
   "outputs": [
    {
     "data": {
      "text/plain": [
       "{'ACCENTURE SERVICES PVT LTD': 3,\n",
       " 'ADECCO INDIA PVT LTD': 2,\n",
       " 'AEGIS BPO SERVICES PVT LTD': 1,\n",
       " 'AMERICAN EXPRESS INDIA LTD': 4,\n",
       " 'ANI TECHNOLOGIES PVT LTD': 1,\n",
       " 'ARMY': 1,\n",
       " 'BSNL': 5,\n",
       " 'CAPGEMINI CONSULTING INDIA PVT LTD': 3,\n",
       " 'CAPGEMINI INDIA PVT LTD': 3,\n",
       " 'CIPLA LTD': 4,\n",
       " 'COGNIZANT TECHNOLOGY SOLUTIONS INDIA PVT LTD': 2,\n",
       " 'CONCENTRIX DAKSH SERVICES INDIA PVT LTD': 2,\n",
       " 'CONVERGYS INDIA SERVICES PVT LTD': 1,\n",
       " 'CRPF': 1,\n",
       " 'DELL INTERNATIONAL SERVICES INDIA PRIVATE LIMITED': 3,\n",
       " 'DR REDDYS LABORATORIES LTD': 5,\n",
       " 'EDUCATION DEPARTMENT': 3,\n",
       " 'ERICSSON INDIA GLOBAL SERVICES PVT LTD': 5,\n",
       " 'GENPACT': 3,\n",
       " 'GOOGLE': 1,\n",
       " 'GOVERNMENT OF INDIA': 1,\n",
       " 'HCL TECHNOLOGIES LTD': 2,\n",
       " 'HDFC BANK LTD': 2,\n",
       " 'HEWLETT PACKARD GLOBALSOFT PVT LTD': 2,\n",
       " 'HONDA CARS INDIA LTD': 1,\n",
       " 'HSBC ELECTRONIC DATA PROCESSING INDIA PVT LTD': 4,\n",
       " 'IBM BUSINESS CONSULTING SERVICES': 2,\n",
       " 'IBM CORPORATION': 2,\n",
       " 'IBM DAKSH': 1,\n",
       " 'IBM GLOBAL SERVICES INDIA LTD': 4,\n",
       " 'ICICI BANK LTD': 1,\n",
       " 'IKYA HUMAN CAPITAL SOLUTIONS LTD': 2,\n",
       " 'INDIAN AIR FORCE': 1,\n",
       " 'INDIAN ARMY': 1,\n",
       " 'INDIAN NAVY': 1,\n",
       " 'INDIAN RAILWAY': 4,\n",
       " 'INDUSIND BANK LTD': 2,\n",
       " 'INFOSYS TECHNOLOGIES': 1,\n",
       " 'KOTAK MAHINDRA BANK LTD': 4,\n",
       " 'LARSEN & TOUBRO LTD (L&T)': 3,\n",
       " 'LARSEN AND TOUBRO LTD (L AND T)': 2,\n",
       " 'MANPOWER GROUP SERVICES INDIA PVT LTD': 2,\n",
       " 'MPHASIS LTD': 1,\n",
       " 'MUTHOOT FINANCE LTD': 1,\n",
       " 'OCWEN FINANCIAL SOLUTIONS PVT LTD': 3,\n",
       " 'ORACLE INDIA PVT LTD': 4,\n",
       " 'OTHERS': 3,\n",
       " 'POLICE DEPARTMENT': 1,\n",
       " 'RAILWAY': 2,\n",
       " 'RANDSTAD INDIA LTD': 1,\n",
       " 'RELIANCE INDUSTRIES LTD': 2,\n",
       " 'SERCO BPO PVT LTD': 1,\n",
       " 'STATE GOVERNMENT': 2,\n",
       " 'SUTHERLAND GLOBAL SERVICES PVT LTD': 1,\n",
       " 'TATA CONSULTANCY SERVICES LTD (TCS)': 3,\n",
       " 'TATA MOTORS LTD': 1,\n",
       " 'TCS AND ASSOCIATES PVT LTD': 5,\n",
       " 'TCS ESERVE LTD (TATA CONSULTANCY SERVICES BPO)': 1,\n",
       " 'TEACHERS': 1,\n",
       " 'TEAM LEASE SERVICES PVT LTD': 1,\n",
       " 'TECH MAHINDRA BUSINESS SERVICES LTD': 2,\n",
       " 'TECH MAHINDRA LTD': 2,\n",
       " 'TECHNOLOGY': 1,\n",
       " 'TYPE SLOWLY FOR AUTO FILL': 2,\n",
       " 'WIPRO BPO': 1,\n",
       " 'WIPRO INFOTECH': 1,\n",
       " 'WIPRO TECHNOLOGIES': 1,\n",
       " 'WNS GLOBAL SERVICES PVT LTD': 1}"
      ]
     },
     "execution_count": 138,
     "metadata": {},
     "output_type": "execute_result"
    }
   ],
   "source": [
    "employer_mapping_dict = dict(pd.cut(employer_means[(employer_means.index != '0') & (employer_means.index != 'Other')], \n",
    "                                    bins=5, \n",
    "                                    labels=range(1, 6)))\n",
    "employer_mapping_dict"
   ]
  },
  {
   "cell_type": "code",
   "execution_count": 139,
   "metadata": {},
   "outputs": [
    {
     "name": "stderr",
     "output_type": "stream",
     "text": [
      "C:\\Users\\Waldemar\\Anaconda3\\lib\\site-packages\\ipykernel_launcher.py:1: SettingWithCopyWarning: \n",
      "A value is trying to be set on a copy of a slice from a DataFrame.\n",
      "Try using .loc[row_indexer,col_indexer] = value instead\n",
      "\n",
      "See the caveats in the documentation: http://pandas.pydata.org/pandas-docs/stable/user_guide/indexing.html#returning-a-view-versus-a-copy\n",
      "  \"\"\"Entry point for launching an IPython kernel.\n"
     ]
    }
   ],
   "source": [
    "data['Employer_Name'] = data['Employer_Name'].replace(employer_mapping_dict)"
   ]
  },
  {
   "cell_type": "code",
   "execution_count": 140,
   "metadata": {},
   "outputs": [
    {
     "data": {
      "text/plain": [
       "0        Other\n",
       "1            3\n",
       "2        Other\n",
       "3        Other\n",
       "4        Other\n",
       "         ...  \n",
       "87015    Other\n",
       "87016    Other\n",
       "87017    Other\n",
       "87018    Other\n",
       "87019        1\n",
       "Name: Employer_Name, Length: 86949, dtype: object"
      ]
     },
     "execution_count": 140,
     "metadata": {},
     "output_type": "execute_result"
    }
   ],
   "source": [
    "data['Employer_Name']"
   ]
  },
  {
   "cell_type": "code",
   "execution_count": 141,
   "metadata": {},
   "outputs": [],
   "source": [
    "CATEGORICAL_FEATURES.append('Employer_Name')"
   ]
  },
  {
   "cell_type": "markdown",
   "metadata": {},
   "source": [
    "Zmienna **Salary_Account**"
   ]
  },
  {
   "cell_type": "code",
   "execution_count": 142,
   "metadata": {},
   "outputs": [
    {
     "data": {
      "text/plain": [
       "11693"
      ]
     },
     "execution_count": 142,
     "metadata": {},
     "output_type": "execute_result"
    }
   ],
   "source": [
    "data['Salary_Account'].isna().sum()"
   ]
  },
  {
   "cell_type": "code",
   "execution_count": 143,
   "metadata": {},
   "outputs": [
    {
     "data": {
      "text/plain": [
       "HDFC Bank                                          17695\n",
       "ICICI Bank                                         13636\n",
       "State Bank of India                                11843\n",
       "Axis Bank                                           8783\n",
       "Citibank                                            2376\n",
       "Kotak Bank                                          2067\n",
       "IDBI Bank                                           1550\n",
       "Punjab National Bank                                1201\n",
       "Bank of India                                       1170\n",
       "Bank of Baroda                                      1126\n",
       "Standard Chartered Bank                              995\n",
       "Canara Bank                                          990\n",
       "Union Bank of India                                  951\n",
       "Yes Bank                                             779\n",
       "ING Vysya                                            678\n",
       "Corporation bank                                     649\n",
       "Indian Overseas Bank                                 612\n",
       "State Bank of Hyderabad                              597\n",
       "Indian Bank                                          555\n",
       "Oriental Bank of Commerce                            524\n",
       "IndusInd Bank                                        503\n",
       "Andhra Bank                                          485\n",
       "Central Bank of India                                445\n",
       "Syndicate Bank                                       415\n",
       "Bank of Maharasthra                                  406\n",
       "State Bank of Bikaner & Jaipur                       331\n",
       "HSBC                                                 328\n",
       "Karur Vysya Bank                                     326\n",
       "State Bank of Mysore                                 255\n",
       "Federal Bank                                         253\n",
       "Vijaya Bank                                          252\n",
       "Allahabad Bank                                       238\n",
       "UCO Bank                                             237\n",
       "State Bank of Travancore                             227\n",
       "Karnataka Bank                                       200\n",
       "Saraswat Bank                                        195\n",
       "United Bank of India                                 183\n",
       "Dena Bank                                            182\n",
       "State Bank of Patiala                                177\n",
       "South Indian Bank                                    160\n",
       "Deutsche Bank                                        125\n",
       "Abhyuday Co-op Bank Ltd                              108\n",
       "The Ratnakar Bank Ltd                                 83\n",
       "Tamil Nadu Mercantile Bank                            71\n",
       "Punjab & Sind bank                                    66\n",
       "J&K Bank                                              59\n",
       "Lakshmi Vilas bank                                    50\n",
       "Dhanalakshmi Bank Ltd                                 42\n",
       "State Bank of Indore                                  18\n",
       "Catholic Syrian Bank                                  14\n",
       "India Bulls                                           11\n",
       "GIC Housing Finance Ltd                                8\n",
       "B N P Paribas                                          8\n",
       "Firstrand Bank Limited                                 7\n",
       "Bank of Rajasthan                                      5\n",
       "Kerala Gramin Bank                                     4\n",
       "Industrial And Commercial Bank Of China Limited        2\n",
       "Name: Salary_Account, dtype: int64"
      ]
     },
     "execution_count": 143,
     "metadata": {},
     "output_type": "execute_result"
    }
   ],
   "source": [
    "data['Salary_Account'].value_counts()"
   ]
  },
  {
   "cell_type": "code",
   "execution_count": 144,
   "metadata": {},
   "outputs": [],
   "source": [
    "# data['Missing_Loan_Tenure_Applied'] = (data['Loan_Tenure_Applied'].isna() | (data['Loan_Tenure_Applied'] == 0.0)).astype(int)"
   ]
  },
  {
   "cell_type": "code",
   "execution_count": 145,
   "metadata": {},
   "outputs": [
    {
     "name": "stderr",
     "output_type": "stream",
     "text": [
      "C:\\Users\\Waldemar\\Anaconda3\\lib\\site-packages\\pandas\\core\\indexing.py:494: SettingWithCopyWarning: \n",
      "A value is trying to be set on a copy of a slice from a DataFrame.\n",
      "Try using .loc[row_indexer,col_indexer] = value instead\n",
      "\n",
      "See the caveats in the documentation: http://pandas.pydata.org/pandas-docs/stable/user_guide/indexing.html#returning-a-view-versus-a-copy\n",
      "  self.obj[item] = s\n"
     ]
    }
   ],
   "source": [
    "data.loc[data['Salary_Account'].isna(), 'Salary_Account'] = 'NotGiven'"
   ]
  },
  {
   "cell_type": "code",
   "execution_count": 146,
   "metadata": {},
   "outputs": [
    {
     "data": {
      "text/plain": [
       "0"
      ]
     },
     "execution_count": 146,
     "metadata": {},
     "output_type": "execute_result"
    }
   ],
   "source": [
    "data['Salary_Account'].isna().sum()"
   ]
  },
  {
   "cell_type": "code",
   "execution_count": 147,
   "metadata": {
    "scrolled": true
   },
   "outputs": [
    {
     "data": {
      "text/plain": [
       "HDFC Bank                                          17695\n",
       "ICICI Bank                                         13636\n",
       "State Bank of India                                11843\n",
       "NotGiven                                           11693\n",
       "Axis Bank                                           8783\n",
       "Citibank                                            2376\n",
       "Kotak Bank                                          2067\n",
       "IDBI Bank                                           1550\n",
       "Punjab National Bank                                1201\n",
       "Bank of India                                       1170\n",
       "Bank of Baroda                                      1126\n",
       "Standard Chartered Bank                              995\n",
       "Canara Bank                                          990\n",
       "Union Bank of India                                  951\n",
       "Yes Bank                                             779\n",
       "ING Vysya                                            678\n",
       "Corporation bank                                     649\n",
       "Indian Overseas Bank                                 612\n",
       "State Bank of Hyderabad                              597\n",
       "Indian Bank                                          555\n",
       "Oriental Bank of Commerce                            524\n",
       "IndusInd Bank                                        503\n",
       "Andhra Bank                                          485\n",
       "Central Bank of India                                445\n",
       "Syndicate Bank                                       415\n",
       "Bank of Maharasthra                                  406\n",
       "State Bank of Bikaner & Jaipur                       331\n",
       "HSBC                                                 328\n",
       "Karur Vysya Bank                                     326\n",
       "State Bank of Mysore                                 255\n",
       "Federal Bank                                         253\n",
       "Vijaya Bank                                          252\n",
       "Allahabad Bank                                       238\n",
       "UCO Bank                                             237\n",
       "State Bank of Travancore                             227\n",
       "Karnataka Bank                                       200\n",
       "Saraswat Bank                                        195\n",
       "United Bank of India                                 183\n",
       "Dena Bank                                            182\n",
       "State Bank of Patiala                                177\n",
       "South Indian Bank                                    160\n",
       "Deutsche Bank                                        125\n",
       "Abhyuday Co-op Bank Ltd                              108\n",
       "The Ratnakar Bank Ltd                                 83\n",
       "Tamil Nadu Mercantile Bank                            71\n",
       "Punjab & Sind bank                                    66\n",
       "J&K Bank                                              59\n",
       "Lakshmi Vilas bank                                    50\n",
       "Dhanalakshmi Bank Ltd                                 42\n",
       "State Bank of Indore                                  18\n",
       "Catholic Syrian Bank                                  14\n",
       "India Bulls                                           11\n",
       "GIC Housing Finance Ltd                                8\n",
       "B N P Paribas                                          8\n",
       "Firstrand Bank Limited                                 7\n",
       "Bank of Rajasthan                                      5\n",
       "Kerala Gramin Bank                                     4\n",
       "Industrial And Commercial Bank Of China Limited        2\n",
       "Name: Salary_Account, dtype: int64"
      ]
     },
     "execution_count": 147,
     "metadata": {},
     "output_type": "execute_result"
    }
   ],
   "source": [
    "data['Salary_Account'].value_counts()"
   ]
  },
  {
   "cell_type": "code",
   "execution_count": 148,
   "metadata": {
    "scrolled": true
   },
   "outputs": [
    {
     "data": {
      "text/plain": [
       "Salary_Account\n",
       "Abhyuday Co-op Bank Ltd                            0.009259\n",
       "Allahabad Bank                                     0.012605\n",
       "Andhra Bank                                        0.006186\n",
       "Axis Bank                                          0.016737\n",
       "B N P Paribas                                      0.000000\n",
       "Bank of Baroda                                     0.006217\n",
       "Bank of India                                      0.004274\n",
       "Bank of Maharasthra                                0.007389\n",
       "Bank of Rajasthan                                  0.000000\n",
       "Canara Bank                                        0.007071\n",
       "Catholic Syrian Bank                               0.071429\n",
       "Central Bank of India                              0.015730\n",
       "Citibank                                           0.028199\n",
       "Corporation bank                                   0.015408\n",
       "Dena Bank                                          0.000000\n",
       "Deutsche Bank                                      0.040000\n",
       "Dhanalakshmi Bank Ltd                              0.000000\n",
       "Federal Bank                                       0.003953\n",
       "Firstrand Bank Limited                             0.000000\n",
       "GIC Housing Finance Ltd                            0.000000\n",
       "HDFC Bank                                          0.021079\n",
       "HSBC                                               0.039634\n",
       "ICICI Bank                                         0.022514\n",
       "IDBI Bank                                          0.010323\n",
       "ING Vysya                                          0.008850\n",
       "India Bulls                                        0.000000\n",
       "Indian Bank                                        0.018018\n",
       "Indian Overseas Bank                               0.008170\n",
       "IndusInd Bank                                      0.001988\n",
       "Industrial And Commercial Bank Of China Limited    0.000000\n",
       "J&K Bank                                           0.016949\n",
       "Karnataka Bank                                     0.015000\n",
       "Karur Vysya Bank                                   0.003067\n",
       "Kerala Gramin Bank                                 0.000000\n",
       "Kotak Bank                                         0.018384\n",
       "Lakshmi Vilas bank                                 0.020000\n",
       "NotGiven                                           0.001881\n",
       "Oriental Bank of Commerce                          0.013359\n",
       "Punjab & Sind bank                                 0.000000\n",
       "Punjab National Bank                               0.013322\n",
       "Saraswat Bank                                      0.010256\n",
       "South Indian Bank                                  0.000000\n",
       "Standard Chartered Bank                            0.027136\n",
       "State Bank of Bikaner & Jaipur                     0.003021\n",
       "State Bank of Hyderabad                            0.008375\n",
       "State Bank of India                                0.009457\n",
       "State Bank of Indore                               0.000000\n",
       "State Bank of Mysore                               0.007843\n",
       "State Bank of Patiala                              0.028249\n",
       "State Bank of Travancore                           0.004405\n",
       "Syndicate Bank                                     0.007229\n",
       "Tamil Nadu Mercantile Bank                         0.000000\n",
       "The Ratnakar Bank Ltd                              0.036145\n",
       "UCO Bank                                           0.016878\n",
       "Union Bank of India                                0.004206\n",
       "United Bank of India                               0.010929\n",
       "Vijaya Bank                                        0.011905\n",
       "Yes Bank                                           0.012837\n",
       "Name: Disbursed, dtype: float64"
      ]
     },
     "execution_count": 148,
     "metadata": {},
     "output_type": "execute_result"
    }
   ],
   "source": [
    "account_means = data.groupby('Salary_Account')['Disbursed'].mean()\n",
    "account_means"
   ]
  },
  {
   "cell_type": "code",
   "execution_count": 149,
   "metadata": {
    "scrolled": true
   },
   "outputs": [
    {
     "data": {
      "text/plain": [
       "{'Abhyuday Co-op Bank Ltd': 1,\n",
       " 'Allahabad Bank': 1,\n",
       " 'Andhra Bank': 1,\n",
       " 'Axis Bank': 2,\n",
       " 'B N P Paribas': 1,\n",
       " 'Bank of Baroda': 1,\n",
       " 'Bank of India': 1,\n",
       " 'Bank of Maharasthra': 1,\n",
       " 'Bank of Rajasthan': 1,\n",
       " 'Canara Bank': 1,\n",
       " 'Catholic Syrian Bank': 5,\n",
       " 'Central Bank of India': 2,\n",
       " 'Citibank': 2,\n",
       " 'Corporation bank': 2,\n",
       " 'Dena Bank': 1,\n",
       " 'Deutsche Bank': 3,\n",
       " 'Dhanalakshmi Bank Ltd': 1,\n",
       " 'Federal Bank': 1,\n",
       " 'Firstrand Bank Limited': 1,\n",
       " 'GIC Housing Finance Ltd': 1,\n",
       " 'HDFC Bank': 2,\n",
       " 'HSBC': 3,\n",
       " 'ICICI Bank': 2,\n",
       " 'IDBI Bank': 1,\n",
       " 'ING Vysya': 1,\n",
       " 'India Bulls': 1,\n",
       " 'Indian Bank': 2,\n",
       " 'Indian Overseas Bank': 1,\n",
       " 'IndusInd Bank': 1,\n",
       " 'Industrial And Commercial Bank Of China Limited': 1,\n",
       " 'J&K Bank': 2,\n",
       " 'Karnataka Bank': 2,\n",
       " 'Karur Vysya Bank': 1,\n",
       " 'Kerala Gramin Bank': 1,\n",
       " 'Kotak Bank': 2,\n",
       " 'Lakshmi Vilas bank': 2,\n",
       " 'Oriental Bank of Commerce': 1,\n",
       " 'Punjab & Sind bank': 1,\n",
       " 'Punjab National Bank': 1,\n",
       " 'Saraswat Bank': 1,\n",
       " 'South Indian Bank': 1,\n",
       " 'Standard Chartered Bank': 2,\n",
       " 'State Bank of Bikaner & Jaipur': 1,\n",
       " 'State Bank of Hyderabad': 1,\n",
       " 'State Bank of India': 1,\n",
       " 'State Bank of Indore': 1,\n",
       " 'State Bank of Mysore': 1,\n",
       " 'State Bank of Patiala': 2,\n",
       " 'State Bank of Travancore': 1,\n",
       " 'Syndicate Bank': 1,\n",
       " 'Tamil Nadu Mercantile Bank': 1,\n",
       " 'The Ratnakar Bank Ltd': 3,\n",
       " 'UCO Bank': 2,\n",
       " 'Union Bank of India': 1,\n",
       " 'United Bank of India': 1,\n",
       " 'Vijaya Bank': 1,\n",
       " 'Yes Bank': 1}"
      ]
     },
     "execution_count": 149,
     "metadata": {},
     "output_type": "execute_result"
    }
   ],
   "source": [
    "account_mapping_dict = dict(pd.cut(account_means[(account_means.index != 'NotGiven')], \n",
    "                                    bins=5, \n",
    "                                    labels=range(1, 6)))\n",
    "account_mapping_dict"
   ]
  },
  {
   "cell_type": "code",
   "execution_count": 150,
   "metadata": {},
   "outputs": [
    {
     "name": "stderr",
     "output_type": "stream",
     "text": [
      "C:\\Users\\Waldemar\\Anaconda3\\lib\\site-packages\\ipykernel_launcher.py:1: SettingWithCopyWarning: \n",
      "A value is trying to be set on a copy of a slice from a DataFrame.\n",
      "Try using .loc[row_indexer,col_indexer] = value instead\n",
      "\n",
      "See the caveats in the documentation: http://pandas.pydata.org/pandas-docs/stable/user_guide/indexing.html#returning-a-view-versus-a-copy\n",
      "  \"\"\"Entry point for launching an IPython kernel.\n"
     ]
    }
   ],
   "source": [
    "data['Salary_Account'] = data['Salary_Account'].replace(account_mapping_dict)"
   ]
  },
  {
   "cell_type": "code",
   "execution_count": 151,
   "metadata": {},
   "outputs": [
    {
     "data": {
      "text/plain": [
       "2           47924\n",
       "1           26782\n",
       "NotGiven    11693\n",
       "3             536\n",
       "5              14\n",
       "Name: Salary_Account, dtype: int64"
      ]
     },
     "execution_count": 151,
     "metadata": {},
     "output_type": "execute_result"
    }
   ],
   "source": [
    "data['Salary_Account'].value_counts()"
   ]
  },
  {
   "cell_type": "code",
   "execution_count": 152,
   "metadata": {},
   "outputs": [],
   "source": [
    "CATEGORICAL_FEATURES.append('Salary_Account')"
   ]
  },
  {
   "cell_type": "markdown",
   "metadata": {},
   "source": [
    "Zmienna **Mobile_Verified**"
   ]
  },
  {
   "cell_type": "code",
   "execution_count": 153,
   "metadata": {},
   "outputs": [
    {
     "data": {
      "text/plain": [
       "0"
      ]
     },
     "execution_count": 153,
     "metadata": {},
     "output_type": "execute_result"
    }
   ],
   "source": [
    "data['Mobile_Verified'].isna().sum()"
   ]
  },
  {
   "cell_type": "code",
   "execution_count": 154,
   "metadata": {},
   "outputs": [],
   "source": [
    "CATEGORICAL_FEATURES.append('Mobile_Verified')"
   ]
  },
  {
   "cell_type": "markdown",
   "metadata": {},
   "source": [
    "Zmienna **Var5**"
   ]
  },
  {
   "cell_type": "code",
   "execution_count": 155,
   "metadata": {},
   "outputs": [
    {
     "data": {
      "text/plain": [
       "0"
      ]
     },
     "execution_count": 155,
     "metadata": {},
     "output_type": "execute_result"
    }
   ],
   "source": [
    "data['Var5'].isna().sum()"
   ]
  },
  {
   "cell_type": "code",
   "execution_count": 156,
   "metadata": {},
   "outputs": [
    {
     "data": {
      "text/plain": [
       "<matplotlib.axes._subplots.AxesSubplot at 0x1dbdda6d788>"
      ]
     },
     "execution_count": 156,
     "metadata": {},
     "output_type": "execute_result"
    },
    {
     "data": {
      "image/png": "[encoded data removed]",
      "text/plain": [
       "<Figure size 432x288 with 1 Axes>"
      ]
     },
     "metadata": {
      "needs_background": "light"
     },
     "output_type": "display_data"
    }
   ],
   "source": [
    "data['Var5'].hist()"
   ]
  },
  {
   "cell_type": "code",
   "execution_count": 157,
   "metadata": {},
   "outputs": [
    {
     "name": "stderr",
     "output_type": "stream",
     "text": [
      "C:\\Users\\Waldemar\\Anaconda3\\lib\\site-packages\\ipykernel_launcher.py:1: SettingWithCopyWarning: \n",
      "A value is trying to be set on a copy of a slice from a DataFrame.\n",
      "Try using .loc[row_indexer,col_indexer] = value instead\n",
      "\n",
      "See the caveats in the documentation: http://pandas.pydata.org/pandas-docs/stable/user_guide/indexing.html#returning-a-view-versus-a-copy\n",
      "  \"\"\"Entry point for launching an IPython kernel.\n"
     ]
    }
   ],
   "source": [
    "data['Var5_Positive'] = (data['Var5'] > 0).astype(int)"
   ]
  },
  {
   "cell_type": "markdown",
   "metadata": {},
   "source": [
    "Zmienna **Var1**"
   ]
  },
  {
   "cell_type": "code",
   "execution_count": 158,
   "metadata": {},
   "outputs": [
    {
     "data": {
      "text/plain": [
       "0"
      ]
     },
     "execution_count": 158,
     "metadata": {},
     "output_type": "execute_result"
    }
   ],
   "source": [
    "data['Var1'].isna().sum()"
   ]
  },
  {
   "cell_type": "code",
   "execution_count": 159,
   "metadata": {},
   "outputs": [
    {
     "data": {
      "text/plain": [
       "HBXX    59252\n",
       "HBXC     9005\n",
       "HBXB     4472\n",
       "HAXA     2909\n",
       "HBXA     2112\n",
       "HAXB     2011\n",
       "HBXD     1962\n",
       "HAXC     1534\n",
       "HBXH      969\n",
       "HCXF      721\n",
       "HAYT      508\n",
       "HAVC      384\n",
       "HAXM      268\n",
       "HCXD      237\n",
       "HCYS      217\n",
       "HVYS      186\n",
       "HAZD      109\n",
       "HCXG       78\n",
       "HAXF       15\n",
       "Name: Var1, dtype: int64"
      ]
     },
     "execution_count": 159,
     "metadata": {},
     "output_type": "execute_result"
    }
   ],
   "source": [
    "data['Var1'].value_counts()"
   ]
  },
  {
   "cell_type": "code",
   "execution_count": 160,
   "metadata": {},
   "outputs": [],
   "source": [
    "CATEGORICAL_FEATURES.append('Var1')"
   ]
  },
  {
   "cell_type": "markdown",
   "metadata": {},
   "source": [
    "Zmienna **Loan_Amount_Submitted**"
   ]
  },
  {
   "cell_type": "code",
   "execution_count": 161,
   "metadata": {},
   "outputs": [
    {
     "data": {
      "text/plain": [
       "34578"
      ]
     },
     "execution_count": 161,
     "metadata": {},
     "output_type": "execute_result"
    }
   ],
   "source": [
    "data['Loan_Amount_Submitted'].isna().sum()"
   ]
  },
  {
   "cell_type": "code",
   "execution_count": 162,
   "metadata": {},
   "outputs": [
    {
     "name": "stderr",
     "output_type": "stream",
     "text": [
      "C:\\Users\\Waldemar\\Anaconda3\\lib\\site-packages\\ipykernel_launcher.py:1: SettingWithCopyWarning: \n",
      "A value is trying to be set on a copy of a slice from a DataFrame.\n",
      "Try using .loc[row_indexer,col_indexer] = value instead\n",
      "\n",
      "See the caveats in the documentation: http://pandas.pydata.org/pandas-docs/stable/user_guide/indexing.html#returning-a-view-versus-a-copy\n",
      "  \"\"\"Entry point for launching an IPython kernel.\n"
     ]
    }
   ],
   "source": [
    "data['Missing_Loan_Amount_Submitted'] = data['Loan_Amount_Submitted'].isna().astype(int)"
   ]
  },
  {
   "cell_type": "code",
   "execution_count": 163,
   "metadata": {},
   "outputs": [
    {
     "data": {
      "text/plain": [
       "<matplotlib.axes._subplots.AxesSubplot at 0x1db809d16c8>"
      ]
     },
     "execution_count": 163,
     "metadata": {},
     "output_type": "execute_result"
    },
    {
     "data": {
      "image/png": "[encoded data removed]",
      "text/plain": [
       "<Figure size 432x288 with 1 Axes>"
      ]
     },
     "metadata": {
      "needs_background": "light"
     },
     "output_type": "display_data"
    }
   ],
   "source": [
    "data['Loan_Amount_Submitted'].hist()"
   ]
  },
  {
   "cell_type": "code",
   "execution_count": null,
   "metadata": {},
   "outputs": [],
   "source": []
  },
  {
   "cell_type": "code",
   "execution_count": 164,
   "metadata": {},
   "outputs": [
    {
     "data": {
      "text/plain": [
       "<matplotlib.axes._subplots.AxesSubplot at 0x1dbddac3388>"
      ]
     },
     "execution_count": 164,
     "metadata": {},
     "output_type": "execute_result"
    },
    {
     "data": {
      "image/png": "[encoded data removed]",
      "text/plain": [
       "<Figure size 432x288 with 1 Axes>"
      ]
     },
     "metadata": {
      "needs_background": "light"
     },
     "output_type": "display_data"
    }
   ],
   "source": [
    "data['Loan_Amount_Submitted'].hist()"
   ]
  },
  {
   "cell_type": "code",
   "execution_count": 165,
   "metadata": {},
   "outputs": [],
   "source": [
    "data.loc[data['Loan_Amount_Submitted'].isna(), 'Loan_Amount_Submitted'] = 0"
   ]
  },
  {
   "cell_type": "code",
   "execution_count": 166,
   "metadata": {},
   "outputs": [],
   "source": []
  },
  {
   "cell_type": "code",
   "execution_count": 179,
   "metadata": {},
   "outputs": [
    {
     "name": "stderr",
     "output_type": "stream",
     "text": [
      "C:\\Users\\Waldemar\\Anaconda3\\lib\\site-packages\\ipykernel_launcher.py:1: SettingWithCopyWarning: \n",
      "A value is trying to be set on a copy of a slice from a DataFrame.\n",
      "Try using .loc[row_indexer,col_indexer] = value instead\n",
      "\n",
      "See the caveats in the documentation: http://pandas.pydata.org/pandas-docs/stable/user_guide/indexing.html#returning-a-view-versus-a-copy\n",
      "  \"\"\"Entry point for launching an IPython kernel.\n",
      "C:\\Users\\Waldemar\\Anaconda3\\lib\\site-packages\\ipykernel_launcher.py:2: SettingWithCopyWarning: \n",
      "A value is trying to be set on a copy of a slice from a DataFrame.\n",
      "Try using .loc[row_indexer,col_indexer] = value instead\n",
      "\n",
      "See the caveats in the documentation: http://pandas.pydata.org/pandas-docs/stable/user_guide/indexing.html#returning-a-view-versus-a-copy\n",
      "  \n"
     ]
    }
   ],
   "source": [
    "data['Loan_Amount_Diff'] = data['Loan_Amount_Applied'] - data['Loan_Amount_Submitted']\n",
    "data['Loan_Amount_Diff'] = data['Loan_Amount_Diff'].apply(lambda x: max(x, 0))"
   ]
  },
  {
   "cell_type": "code",
   "execution_count": 180,
   "metadata": {},
   "outputs": [
    {
     "data": {
      "text/plain": [
       "0         300000.0\n",
       "1              0.0\n",
       "2         150000.0\n",
       "3          80000.0\n",
       "4              0.0\n",
       "           ...    \n",
       "87015    1000000.0\n",
       "87016          0.0\n",
       "87017          0.0\n",
       "87018          0.0\n",
       "87019          0.0\n",
       "Name: Loan_Amount_Diff, Length: 86949, dtype: float64"
      ]
     },
     "execution_count": 180,
     "metadata": {},
     "output_type": "execute_result"
    }
   ],
   "source": [
    "data['Loan_Amount_Diff']"
   ]
  },
  {
   "cell_type": "code",
   "execution_count": 181,
   "metadata": {},
   "outputs": [
    {
     "name": "stderr",
     "output_type": "stream",
     "text": [
      "C:\\Users\\Waldemar\\Anaconda3\\lib\\site-packages\\ipykernel_launcher.py:1: SettingWithCopyWarning: \n",
      "A value is trying to be set on a copy of a slice from a DataFrame.\n",
      "Try using .loc[row_indexer,col_indexer] = value instead\n",
      "\n",
      "See the caveats in the documentation: http://pandas.pydata.org/pandas-docs/stable/user_guide/indexing.html#returning-a-view-versus-a-copy\n",
      "  \"\"\"Entry point for launching an IPython kernel.\n"
     ]
    }
   ],
   "source": [
    "data['Loan_Amount_Submitted_Log'] = np.log10(data['Loan_Amount_Submitted'] + 1)"
   ]
  },
  {
   "cell_type": "markdown",
   "metadata": {},
   "source": [
    "Zmienna **Loan_Tenure_Submitted**"
   ]
  },
  {
   "cell_type": "code",
   "execution_count": 182,
   "metadata": {},
   "outputs": [
    {
     "data": {
      "text/plain": [
       "34578"
      ]
     },
     "execution_count": 182,
     "metadata": {},
     "output_type": "execute_result"
    }
   ],
   "source": [
    "data['Loan_Tenure_Submitted'].isna().sum()"
   ]
  },
  {
   "cell_type": "code",
   "execution_count": 183,
   "metadata": {},
   "outputs": [
    {
     "data": {
      "text/plain": [
       "<matplotlib.axes._subplots.AxesSubplot at 0x1db8097fec8>"
      ]
     },
     "execution_count": 183,
     "metadata": {},
     "output_type": "execute_result"
    },
    {
     "data": {
      "image/png": "[encoded data removed]",
      "text/plain": [
       "<Figure size 432x288 with 1 Axes>"
      ]
     },
     "metadata": {
      "needs_background": "light"
     },
     "output_type": "display_data"
    }
   ],
   "source": [
    "data['Loan_Tenure_Submitted'].hist()"
   ]
  },
  {
   "cell_type": "code",
   "execution_count": 185,
   "metadata": {},
   "outputs": [],
   "source": [
    "data.loc[data['Loan_Tenure_Submitted'].isna(), 'Loan_Tenure_Submitted'] = 0"
   ]
  },
  {
   "cell_type": "code",
   "execution_count": 186,
   "metadata": {},
   "outputs": [
    {
     "data": {
      "text/plain": [
       "<matplotlib.axes._subplots.AxesSubplot at 0x1db81cff1c8>"
      ]
     },
     "execution_count": 186,
     "metadata": {},
     "output_type": "execute_result"
    },
    {
     "data": {
      "image/png": "[encoded data removed]",
      "text/plain": [
       "<Figure size 432x288 with 1 Axes>"
      ]
     },
     "metadata": {
      "needs_background": "light"
     },
     "output_type": "display_data"
    }
   ],
   "source": [
    "data['Loan_Tenure_Submitted'].hist()"
   ]
  },
  {
   "cell_type": "code",
   "execution_count": 187,
   "metadata": {},
   "outputs": [
    {
     "name": "stderr",
     "output_type": "stream",
     "text": [
      "C:\\Users\\Waldemar\\Anaconda3\\lib\\site-packages\\ipykernel_launcher.py:1: SettingWithCopyWarning: \n",
      "A value is trying to be set on a copy of a slice from a DataFrame.\n",
      "Try using .loc[row_indexer,col_indexer] = value instead\n",
      "\n",
      "See the caveats in the documentation: http://pandas.pydata.org/pandas-docs/stable/user_guide/indexing.html#returning-a-view-versus-a-copy\n",
      "  \"\"\"Entry point for launching an IPython kernel.\n"
     ]
    }
   ],
   "source": [
    "data['Missing_Loan_Tenure_Submitted'] = (data['Loan_Amount_Submitted'] == 0).astype(int)"
   ]
  },
  {
   "cell_type": "code",
   "execution_count": 188,
   "metadata": {},
   "outputs": [
    {
     "data": {
      "text/plain": [
       "0        1\n",
       "1        0\n",
       "2        0\n",
       "3        0\n",
       "4        0\n",
       "        ..\n",
       "87015    1\n",
       "87016    0\n",
       "87017    0\n",
       "87018    0\n",
       "87019    0\n",
       "Name: Missing_Loan_Tenure_Submitted, Length: 86949, dtype: int32"
      ]
     },
     "execution_count": 188,
     "metadata": {},
     "output_type": "execute_result"
    }
   ],
   "source": [
    "data['Missing_Loan_Tenure_Submitted'] "
   ]
  },
  {
   "cell_type": "markdown",
   "metadata": {},
   "source": [
    "Zmienna **Interest_Rate**"
   ]
  },
  {
   "cell_type": "code",
   "execution_count": 189,
   "metadata": {},
   "outputs": [
    {
     "data": {
      "text/plain": [
       "59252"
      ]
     },
     "execution_count": 189,
     "metadata": {},
     "output_type": "execute_result"
    }
   ],
   "source": [
    "data['Interest_Rate'].isna().sum()"
   ]
  },
  {
   "cell_type": "code",
   "execution_count": 191,
   "metadata": {
    "scrolled": true
   },
   "outputs": [
    {
     "data": {
      "text/plain": [
       "<matplotlib.axes._subplots.AxesSubplot at 0x1db81d953c8>"
      ]
     },
     "execution_count": 191,
     "metadata": {},
     "output_type": "execute_result"
    },
    {
     "data": {
      "image/png": "[encoded data removed]",
      "text/plain": [
       "<Figure size 432x288 with 1 Axes>"
      ]
     },
     "metadata": {
      "needs_background": "light"
     },
     "output_type": "display_data"
    }
   ],
   "source": [
    "data['Interest_Rate'].hist()"
   ]
  },
  {
   "cell_type": "code",
   "execution_count": 192,
   "metadata": {},
   "outputs": [
    {
     "name": "stderr",
     "output_type": "stream",
     "text": [
      "C:\\Users\\Waldemar\\Anaconda3\\lib\\site-packages\\ipykernel_launcher.py:1: SettingWithCopyWarning: \n",
      "A value is trying to be set on a copy of a slice from a DataFrame.\n",
      "Try using .loc[row_indexer,col_indexer] = value instead\n",
      "\n",
      "See the caveats in the documentation: http://pandas.pydata.org/pandas-docs/stable/user_guide/indexing.html#returning-a-view-versus-a-copy\n",
      "  \"\"\"Entry point for launching an IPython kernel.\n"
     ]
    }
   ],
   "source": [
    "data['Is_Interest_Rate'] = (~data['Interest_Rate'].isna()).astype(int)"
   ]
  },
  {
   "cell_type": "code",
   "execution_count": 193,
   "metadata": {},
   "outputs": [
    {
     "name": "stderr",
     "output_type": "stream",
     "text": [
      "C:\\Users\\Waldemar\\Anaconda3\\lib\\site-packages\\pandas\\core\\frame.py:4102: SettingWithCopyWarning: \n",
      "A value is trying to be set on a copy of a slice from a DataFrame\n",
      "\n",
      "See the caveats in the documentation: http://pandas.pydata.org/pandas-docs/stable/user_guide/indexing.html#returning-a-view-versus-a-copy\n",
      "  errors=errors,\n"
     ]
    }
   ],
   "source": [
    "data.drop('Interest_Rate', axis=1, inplace=True)"
   ]
  },
  {
   "cell_type": "code",
   "execution_count": 194,
   "metadata": {},
   "outputs": [],
   "source": [
    "data.drop('Processing_Fee', axis=1, inplace=True)\n",
    "data.drop('EMI_Loan_Submitted', axis=1, inplace=True)"
   ]
  },
  {
   "cell_type": "markdown",
   "metadata": {},
   "source": [
    "Pozostałe zmienne"
   ]
  },
  {
   "cell_type": "code",
   "execution_count": 195,
   "metadata": {},
   "outputs": [
    {
     "data": {
      "text/plain": [
       "0"
      ]
     },
     "execution_count": 195,
     "metadata": {},
     "output_type": "execute_result"
    }
   ],
   "source": [
    "data['Filled_Form'].isna().sum()"
   ]
  },
  {
   "cell_type": "code",
   "execution_count": 196,
   "metadata": {},
   "outputs": [
    {
     "data": {
      "text/plain": [
       "0        N\n",
       "1        N\n",
       "2        N\n",
       "3        N\n",
       "4        N\n",
       "        ..\n",
       "87015    N\n",
       "87016    Y\n",
       "87017    N\n",
       "87018    N\n",
       "87019    N\n",
       "Name: Filled_Form, Length: 86949, dtype: object"
      ]
     },
     "execution_count": 196,
     "metadata": {},
     "output_type": "execute_result"
    }
   ],
   "source": [
    "data['Filled_Form']"
   ]
  },
  {
   "cell_type": "code",
   "execution_count": 197,
   "metadata": {},
   "outputs": [],
   "source": [
    "CATEGORICAL_FEATURES.append('Filled_Form')"
   ]
  },
  {
   "cell_type": "code",
   "execution_count": 201,
   "metadata": {},
   "outputs": [
    {
     "data": {
      "text/plain": [
       "0"
      ]
     },
     "execution_count": 201,
     "metadata": {},
     "output_type": "execute_result"
    }
   ],
   "source": [
    "data['Device_Type'].isna().sum()"
   ]
  },
  {
   "cell_type": "code",
   "execution_count": 202,
   "metadata": {},
   "outputs": [],
   "source": [
    "CATEGORICAL_FEATURES.append('Device_Type')"
   ]
  },
  {
   "cell_type": "code",
   "execution_count": 203,
   "metadata": {},
   "outputs": [
    {
     "data": {
      "text/plain": [
       "0        G\n",
       "1        G\n",
       "2        B\n",
       "3        B\n",
       "4        B\n",
       "        ..\n",
       "87015    G\n",
       "87016    G\n",
       "87017    G\n",
       "87018    G\n",
       "87019    G\n",
       "Name: Var2, Length: 86949, dtype: object"
      ]
     },
     "execution_count": 203,
     "metadata": {},
     "output_type": "execute_result"
    }
   ],
   "source": [
    "data['Var2']"
   ]
  },
  {
   "cell_type": "code",
   "execution_count": 204,
   "metadata": {},
   "outputs": [],
   "source": [
    "CATEGORICAL_FEATURES.append('Var2')"
   ]
  },
  {
   "cell_type": "code",
   "execution_count": 206,
   "metadata": {
    "scrolled": true
   },
   "outputs": [
    {
     "data": {
      "text/plain": [
       "S122    38500\n",
       "S133    29884\n",
       "S159     5599\n",
       "S143     4330\n",
       "S127     1931\n",
       "S137     1724\n",
       "S134     1301\n",
       "S161      769\n",
       "S151      720\n",
       "S157      649\n",
       "S153      494\n",
       "S156      308\n",
       "S144      299\n",
       "S158      208\n",
       "S123       73\n",
       "S141       57\n",
       "S162       36\n",
       "S124       24\n",
       "S160       11\n",
       "S150       10\n",
       "S155        4\n",
       "S129        3\n",
       "S139        3\n",
       "S138        3\n",
       "S136        3\n",
       "S135        2\n",
       "S140        1\n",
       "S125        1\n",
       "S130        1\n",
       "S154        1\n",
       "Name: Source, dtype: int64"
      ]
     },
     "execution_count": 206,
     "metadata": {},
     "output_type": "execute_result"
    }
   ],
   "source": [
    "data['Source'].value_counts()  # do przetworzenia "
   ]
  },
  {
   "cell_type": "code",
   "execution_count": 207,
   "metadata": {},
   "outputs": [],
   "source": [
    "CATEGORICAL_FEATURES.append('Source')"
   ]
  },
  {
   "cell_type": "code",
   "execution_count": 208,
   "metadata": {},
   "outputs": [
    {
     "data": {
      "text/plain": [
       "0        1\n",
       "1        3\n",
       "2        1\n",
       "3        3\n",
       "4        3\n",
       "        ..\n",
       "87015    3\n",
       "87016    5\n",
       "87017    3\n",
       "87018    3\n",
       "87019    4\n",
       "Name: Var4, Length: 86949, dtype: int64"
      ]
     },
     "execution_count": 208,
     "metadata": {},
     "output_type": "execute_result"
    }
   ],
   "source": [
    "data['Var4']"
   ]
  },
  {
   "cell_type": "code",
   "execution_count": 209,
   "metadata": {},
   "outputs": [],
   "source": [
    "CATEGORICAL_FEATURES.append('Var4')"
   ]
  },
  {
   "cell_type": "code",
   "execution_count": 210,
   "metadata": {},
   "outputs": [
    {
     "name": "stderr",
     "output_type": "stream",
     "text": [
      "C:\\Users\\Waldemar\\Anaconda3\\lib\\site-packages\\pandas\\core\\frame.py:4102: SettingWithCopyWarning: \n",
      "A value is trying to be set on a copy of a slice from a DataFrame\n",
      "\n",
      "See the caveats in the documentation: http://pandas.pydata.org/pandas-docs/stable/user_guide/indexing.html#returning-a-view-versus-a-copy\n",
      "  errors=errors,\n"
     ]
    }
   ],
   "source": [
    "data.drop('ID', axis=1, inplace=True)\n",
    "data.drop('LoggedIn', axis=1, inplace=True)"
   ]
  },
  {
   "cell_type": "code",
   "execution_count": 170,
   "metadata": {},
   "outputs": [],
   "source": [
    "# temp = pd.to_datetime(data['Lead_Creation_Date'])\n",
    "# temp\n",
    "# (temp[2] - temp[22]).days"
   ]
  },
  {
   "cell_type": "code",
   "execution_count": null,
   "metadata": {},
   "outputs": [],
   "source": []
  },
  {
   "cell_type": "code",
   "execution_count": 217,
   "metadata": {},
   "outputs": [],
   "source": [
    "continous_features = data.drop(CATEGORICAL_FEATURES, axis=1, inplace=False)\n",
    "continous_names = continous_features.columns.tolist()\n",
    "continous_names.remove('Disbursed')"
   ]
  },
  {
   "cell_type": "code",
   "execution_count": 218,
   "metadata": {},
   "outputs": [],
   "source": [
    "from sklearn.compose import ColumnTransformer\n",
    "from sklearn.preprocessing import StandardScaler"
   ]
  },
  {
   "cell_type": "code",
   "execution_count": 219,
   "metadata": {},
   "outputs": [],
   "source": [
    "col_transformer = ColumnTransformer([\n",
    "    ('scaler', StandardScaler(), continous_names)\n",
    "],\n",
    "remainder = 'passthrough')"
   ]
  },
  {
   "cell_type": "code",
   "execution_count": 220,
   "metadata": {},
   "outputs": [],
   "source": [
    "dataset = pd.get_dummies(data=data, columns=CATEGORICAL_FEATURES, drop_first=True)"
   ]
  },
  {
   "cell_type": "code",
   "execution_count": 221,
   "metadata": {},
   "outputs": [
    {
     "data": {
      "text/html": [
       "<div>\n",
       "<style scoped>\n",
       "    .dataframe tbody tr th:only-of-type {\n",
       "        vertical-align: middle;\n",
       "    }\n",
       "\n",
       "    .dataframe tbody tr th {\n",
       "        vertical-align: top;\n",
       "    }\n",
       "\n",
       "    .dataframe thead th {\n",
       "        text-align: right;\n",
       "    }\n",
       "</style>\n",
       "<table border=\"1\" class=\"dataframe\">\n",
       "  <thead>\n",
       "    <tr style=\"text-align: right;\">\n",
       "      <th></th>\n",
       "      <th>Monthly_Income</th>\n",
       "      <th>Loan_Amount_Applied</th>\n",
       "      <th>Loan_Tenure_Applied</th>\n",
       "      <th>Existing_EMI</th>\n",
       "      <th>Var5</th>\n",
       "      <th>Loan_Amount_Submitted</th>\n",
       "      <th>Loan_Tenure_Submitted</th>\n",
       "      <th>Disbursed</th>\n",
       "      <th>Monthly_Income_Log</th>\n",
       "      <th>Age</th>\n",
       "      <th>...</th>\n",
       "      <th>Source_S160</th>\n",
       "      <th>Source_S161</th>\n",
       "      <th>Source_S162</th>\n",
       "      <th>Var4_1</th>\n",
       "      <th>Var4_2</th>\n",
       "      <th>Var4_3</th>\n",
       "      <th>Var4_4</th>\n",
       "      <th>Var4_5</th>\n",
       "      <th>Var4_6</th>\n",
       "      <th>Var4_7</th>\n",
       "    </tr>\n",
       "  </thead>\n",
       "  <tbody>\n",
       "    <tr>\n",
       "      <td>0</td>\n",
       "      <td>20000</td>\n",
       "      <td>300000.0</td>\n",
       "      <td>5.0</td>\n",
       "      <td>0.0</td>\n",
       "      <td>0</td>\n",
       "      <td>0.0</td>\n",
       "      <td>0.0</td>\n",
       "      <td>0</td>\n",
       "      <td>4.301052</td>\n",
       "      <td>37</td>\n",
       "      <td>...</td>\n",
       "      <td>0</td>\n",
       "      <td>0</td>\n",
       "      <td>0</td>\n",
       "      <td>1</td>\n",
       "      <td>0</td>\n",
       "      <td>0</td>\n",
       "      <td>0</td>\n",
       "      <td>0</td>\n",
       "      <td>0</td>\n",
       "      <td>0</td>\n",
       "    </tr>\n",
       "    <tr>\n",
       "      <td>1</td>\n",
       "      <td>35000</td>\n",
       "      <td>200000.0</td>\n",
       "      <td>2.0</td>\n",
       "      <td>0.0</td>\n",
       "      <td>13</td>\n",
       "      <td>200000.0</td>\n",
       "      <td>2.0</td>\n",
       "      <td>0</td>\n",
       "      <td>4.544080</td>\n",
       "      <td>30</td>\n",
       "      <td>...</td>\n",
       "      <td>0</td>\n",
       "      <td>0</td>\n",
       "      <td>0</td>\n",
       "      <td>0</td>\n",
       "      <td>0</td>\n",
       "      <td>1</td>\n",
       "      <td>0</td>\n",
       "      <td>0</td>\n",
       "      <td>0</td>\n",
       "      <td>0</td>\n",
       "    </tr>\n",
       "    <tr>\n",
       "      <td>2</td>\n",
       "      <td>22500</td>\n",
       "      <td>600000.0</td>\n",
       "      <td>4.0</td>\n",
       "      <td>0.0</td>\n",
       "      <td>0</td>\n",
       "      <td>450000.0</td>\n",
       "      <td>4.0</td>\n",
       "      <td>0</td>\n",
       "      <td>4.352202</td>\n",
       "      <td>34</td>\n",
       "      <td>...</td>\n",
       "      <td>0</td>\n",
       "      <td>0</td>\n",
       "      <td>0</td>\n",
       "      <td>1</td>\n",
       "      <td>0</td>\n",
       "      <td>0</td>\n",
       "      <td>0</td>\n",
       "      <td>0</td>\n",
       "      <td>0</td>\n",
       "      <td>0</td>\n",
       "    </tr>\n",
       "    <tr>\n",
       "      <td>3</td>\n",
       "      <td>35000</td>\n",
       "      <td>1000000.0</td>\n",
       "      <td>5.0</td>\n",
       "      <td>0.0</td>\n",
       "      <td>10</td>\n",
       "      <td>920000.0</td>\n",
       "      <td>5.0</td>\n",
       "      <td>0</td>\n",
       "      <td>4.544080</td>\n",
       "      <td>28</td>\n",
       "      <td>...</td>\n",
       "      <td>0</td>\n",
       "      <td>0</td>\n",
       "      <td>0</td>\n",
       "      <td>0</td>\n",
       "      <td>0</td>\n",
       "      <td>1</td>\n",
       "      <td>0</td>\n",
       "      <td>0</td>\n",
       "      <td>0</td>\n",
       "      <td>0</td>\n",
       "    </tr>\n",
       "    <tr>\n",
       "      <td>4</td>\n",
       "      <td>100000</td>\n",
       "      <td>500000.0</td>\n",
       "      <td>2.0</td>\n",
       "      <td>25000.0</td>\n",
       "      <td>17</td>\n",
       "      <td>500000.0</td>\n",
       "      <td>2.0</td>\n",
       "      <td>0</td>\n",
       "      <td>5.000004</td>\n",
       "      <td>31</td>\n",
       "      <td>...</td>\n",
       "      <td>0</td>\n",
       "      <td>0</td>\n",
       "      <td>0</td>\n",
       "      <td>0</td>\n",
       "      <td>0</td>\n",
       "      <td>1</td>\n",
       "      <td>0</td>\n",
       "      <td>0</td>\n",
       "      <td>0</td>\n",
       "      <td>0</td>\n",
       "    </tr>\n",
       "    <tr>\n",
       "      <td>...</td>\n",
       "      <td>...</td>\n",
       "      <td>...</td>\n",
       "      <td>...</td>\n",
       "      <td>...</td>\n",
       "      <td>...</td>\n",
       "      <td>...</td>\n",
       "      <td>...</td>\n",
       "      <td>...</td>\n",
       "      <td>...</td>\n",
       "      <td>...</td>\n",
       "      <td>...</td>\n",
       "      <td>...</td>\n",
       "      <td>...</td>\n",
       "      <td>...</td>\n",
       "      <td>...</td>\n",
       "      <td>...</td>\n",
       "      <td>...</td>\n",
       "      <td>...</td>\n",
       "      <td>...</td>\n",
       "      <td>...</td>\n",
       "      <td>...</td>\n",
       "    </tr>\n",
       "    <tr>\n",
       "      <td>87015</td>\n",
       "      <td>71901</td>\n",
       "      <td>1000000.0</td>\n",
       "      <td>5.0</td>\n",
       "      <td>14500.0</td>\n",
       "      <td>9</td>\n",
       "      <td>0.0</td>\n",
       "      <td>0.0</td>\n",
       "      <td>0</td>\n",
       "      <td>4.856741</td>\n",
       "      <td>46</td>\n",
       "      <td>...</td>\n",
       "      <td>0</td>\n",
       "      <td>0</td>\n",
       "      <td>0</td>\n",
       "      <td>0</td>\n",
       "      <td>0</td>\n",
       "      <td>1</td>\n",
       "      <td>0</td>\n",
       "      <td>0</td>\n",
       "      <td>0</td>\n",
       "      <td>0</td>\n",
       "    </tr>\n",
       "    <tr>\n",
       "      <td>87016</td>\n",
       "      <td>16000</td>\n",
       "      <td>0.0</td>\n",
       "      <td>0.0</td>\n",
       "      <td>0.0</td>\n",
       "      <td>1</td>\n",
       "      <td>240000.0</td>\n",
       "      <td>4.0</td>\n",
       "      <td>0</td>\n",
       "      <td>4.204147</td>\n",
       "      <td>25</td>\n",
       "      <td>...</td>\n",
       "      <td>0</td>\n",
       "      <td>0</td>\n",
       "      <td>0</td>\n",
       "      <td>0</td>\n",
       "      <td>0</td>\n",
       "      <td>0</td>\n",
       "      <td>0</td>\n",
       "      <td>1</td>\n",
       "      <td>0</td>\n",
       "      <td>0</td>\n",
       "    </tr>\n",
       "    <tr>\n",
       "      <td>87017</td>\n",
       "      <td>118000</td>\n",
       "      <td>0.0</td>\n",
       "      <td>0.0</td>\n",
       "      <td>0.0</td>\n",
       "      <td>8</td>\n",
       "      <td>1200000.0</td>\n",
       "      <td>4.0</td>\n",
       "      <td>0</td>\n",
       "      <td>5.071886</td>\n",
       "      <td>43</td>\n",
       "      <td>...</td>\n",
       "      <td>0</td>\n",
       "      <td>0</td>\n",
       "      <td>0</td>\n",
       "      <td>0</td>\n",
       "      <td>0</td>\n",
       "      <td>1</td>\n",
       "      <td>0</td>\n",
       "      <td>0</td>\n",
       "      <td>0</td>\n",
       "      <td>0</td>\n",
       "    </tr>\n",
       "    <tr>\n",
       "      <td>87018</td>\n",
       "      <td>98930</td>\n",
       "      <td>800000.0</td>\n",
       "      <td>5.0</td>\n",
       "      <td>13660.0</td>\n",
       "      <td>18</td>\n",
       "      <td>800000.0</td>\n",
       "      <td>5.0</td>\n",
       "      <td>0</td>\n",
       "      <td>4.995332</td>\n",
       "      <td>38</td>\n",
       "      <td>...</td>\n",
       "      <td>0</td>\n",
       "      <td>0</td>\n",
       "      <td>0</td>\n",
       "      <td>0</td>\n",
       "      <td>0</td>\n",
       "      <td>1</td>\n",
       "      <td>0</td>\n",
       "      <td>0</td>\n",
       "      <td>0</td>\n",
       "      <td>0</td>\n",
       "    </tr>\n",
       "    <tr>\n",
       "      <td>87019</td>\n",
       "      <td>42300</td>\n",
       "      <td>0.0</td>\n",
       "      <td>0.0</td>\n",
       "      <td>0.0</td>\n",
       "      <td>12</td>\n",
       "      <td>690000.0</td>\n",
       "      <td>4.0</td>\n",
       "      <td>0</td>\n",
       "      <td>4.626351</td>\n",
       "      <td>27</td>\n",
       "      <td>...</td>\n",
       "      <td>0</td>\n",
       "      <td>0</td>\n",
       "      <td>0</td>\n",
       "      <td>0</td>\n",
       "      <td>0</td>\n",
       "      <td>0</td>\n",
       "      <td>1</td>\n",
       "      <td>0</td>\n",
       "      <td>0</td>\n",
       "      <td>0</td>\n",
       "    </tr>\n",
       "  </tbody>\n",
       "</table>\n",
       "<p>86949 rows × 113 columns</p>\n",
       "</div>"
      ],
      "text/plain": [
       "       Monthly_Income  Loan_Amount_Applied  Loan_Tenure_Applied  Existing_EMI  \\\n",
       "0               20000             300000.0                  5.0           0.0   \n",
       "1               35000             200000.0                  2.0           0.0   \n",
       "2               22500             600000.0                  4.0           0.0   \n",
       "3               35000            1000000.0                  5.0           0.0   \n",
       "4              100000             500000.0                  2.0       25000.0   \n",
       "...               ...                  ...                  ...           ...   \n",
       "87015           71901            1000000.0                  5.0       14500.0   \n",
       "87016           16000                  0.0                  0.0           0.0   \n",
       "87017          118000                  0.0                  0.0           0.0   \n",
       "87018           98930             800000.0                  5.0       13660.0   \n",
       "87019           42300                  0.0                  0.0           0.0   \n",
       "\n",
       "       Var5  Loan_Amount_Submitted  Loan_Tenure_Submitted  Disbursed  \\\n",
       "0         0                    0.0                    0.0          0   \n",
       "1        13               200000.0                    2.0          0   \n",
       "2         0               450000.0                    4.0          0   \n",
       "3        10               920000.0                    5.0          0   \n",
       "4        17               500000.0                    2.0          0   \n",
       "...     ...                    ...                    ...        ...   \n",
       "87015     9                    0.0                    0.0          0   \n",
       "87016     1               240000.0                    4.0          0   \n",
       "87017     8              1200000.0                    4.0          0   \n",
       "87018    18               800000.0                    5.0          0   \n",
       "87019    12               690000.0                    4.0          0   \n",
       "\n",
       "       Monthly_Income_Log  Age  ...  Source_S160  Source_S161  Source_S162  \\\n",
       "0                4.301052   37  ...            0            0            0   \n",
       "1                4.544080   30  ...            0            0            0   \n",
       "2                4.352202   34  ...            0            0            0   \n",
       "3                4.544080   28  ...            0            0            0   \n",
       "4                5.000004   31  ...            0            0            0   \n",
       "...                   ...  ...  ...          ...          ...          ...   \n",
       "87015            4.856741   46  ...            0            0            0   \n",
       "87016            4.204147   25  ...            0            0            0   \n",
       "87017            5.071886   43  ...            0            0            0   \n",
       "87018            4.995332   38  ...            0            0            0   \n",
       "87019            4.626351   27  ...            0            0            0   \n",
       "\n",
       "       Var4_1  Var4_2  Var4_3  Var4_4  Var4_5  Var4_6  Var4_7  \n",
       "0           1       0       0       0       0       0       0  \n",
       "1           0       0       1       0       0       0       0  \n",
       "2           1       0       0       0       0       0       0  \n",
       "3           0       0       1       0       0       0       0  \n",
       "4           0       0       1       0       0       0       0  \n",
       "...       ...     ...     ...     ...     ...     ...     ...  \n",
       "87015       0       0       1       0       0       0       0  \n",
       "87016       0       0       0       0       1       0       0  \n",
       "87017       0       0       1       0       0       0       0  \n",
       "87018       0       0       1       0       0       0       0  \n",
       "87019       0       0       0       1       0       0       0  \n",
       "\n",
       "[86949 rows x 113 columns]"
      ]
     },
     "execution_count": 221,
     "metadata": {},
     "output_type": "execute_result"
    }
   ],
   "source": [
    "dataset"
   ]
  },
  {
   "cell_type": "code",
   "execution_count": 222,
   "metadata": {},
   "outputs": [],
   "source": [
    "X = col_transformer.fit_transform(dataset.drop('Disbursed', axis=1))"
   ]
  },
  {
   "cell_type": "code",
   "execution_count": 224,
   "metadata": {},
   "outputs": [
    {
     "data": {
      "text/plain": [
       "(86949, 112)"
      ]
     },
     "execution_count": 224,
     "metadata": {},
     "output_type": "execute_result"
    }
   ],
   "source": [
    "X.shape"
   ]
  },
  {
   "cell_type": "code",
   "execution_count": 225,
   "metadata": {},
   "outputs": [],
   "source": [
    "y = dataset['Disbursed']"
   ]
  },
  {
   "cell_type": "code",
   "execution_count": 226,
   "metadata": {},
   "outputs": [
    {
     "data": {
      "text/plain": [
       "(86949,)"
      ]
     },
     "execution_count": 226,
     "metadata": {},
     "output_type": "execute_result"
    }
   ],
   "source": [
    "y.shape"
   ]
  },
  {
   "cell_type": "code",
   "execution_count": 231,
   "metadata": {},
   "outputs": [],
   "source": [
    "def financial_score(y_true, y_pred):\n",
    "    y_true = y_true.ravel()\n",
    "    y_pred = y_pred.ravel()\n",
    "\n",
    "    prediction_cost = y_pred.sum() * 100\n",
    "    good_predictions_gain = (y_pred & y_true).sum() * 1000\n",
    "\n",
    "    return good_predictions_gain - prediction_cost"
   ]
  },
  {
   "cell_type": "code",
   "execution_count": 232,
   "metadata": {},
   "outputs": [
    {
     "data": {
      "text/plain": [
       "1700"
      ]
     },
     "execution_count": 232,
     "metadata": {},
     "output_type": "execute_result"
    }
   ],
   "source": [
    "financial_score(np.array([0, 0, 0, 1, 1]),\n",
    "                np.array([1, 0, 0, 1, 1]))"
   ]
  },
  {
   "cell_type": "code",
   "execution_count": null,
   "metadata": {},
   "outputs": [],
   "source": []
  },
  {
   "cell_type": "code",
   "execution_count": null,
   "metadata": {},
   "outputs": [],
   "source": []
  }
 ],
 "metadata": {
  "kernelspec": {
   "display_name": "Python 3",
   "language": "python",
   "name": "python3"
  },
  "language_info": {
   "codemirror_mode": {
    "name": "ipython",
    "version": 3
   },
   "file_extension": ".py",
   "mimetype": "text/x-python",
   "name": "python",
   "nbconvert_exporter": "python",
   "pygments_lexer": "ipython3",
   "version": "3.8.3"
  }
 },
 "nbformat": 4,
 "nbformat_minor": 2
}
