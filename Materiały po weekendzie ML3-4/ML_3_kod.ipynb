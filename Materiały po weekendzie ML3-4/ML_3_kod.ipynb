{
 "cells": [
  {
   "cell_type": "markdown",
   "metadata": {},
   "source": [
    "# Miary oceny klasyfikatorów\n",
    "\n",
    "W realnych problemach związanych z podejmowanie decyzji (np. klasyfikacja binarna) bardzo często różne błędy mają różną wagę. Przykład: orzekanie o winności podejrzanego -> skazanie niewinnej osoby jest uznawane za błąd dużo gorszy niż nie skazanie osoby winnej (w naszej kulturze).\n",
    "\n",
    "Dlatego w praktyce data science bardzo ważne jest dobranie odpowiedniej miary do problemu (rozumienie celu biznesowego!). Procent poprawnych klasyfikacji (*accuracy*) często nie jest właściwą miarą.\n",
    "\n",
    "W klasyfikacji binarnej w praktyce zawsze przyjmujemy, że klasa $1$ jest klasą wyróżnioną. Klasę $1$ nazywamy klasą \"positive\", a klasę $0$ - \"negative\".\n",
    "\n",
    "### Podstawowe pojęcia:\n",
    "\n",
    "<img src=\"Grafika/confusion_matrix.png\" style=\"width: 400px;\">\n",
    "\n",
    "\n",
    "## Najczęsciej stosowane miary (oprócz accuracy)\n",
    "\n",
    "**Precyzja** - mówi o tym, jak *precyzyjny* jest klasyfikator - tzn. jak często, to co klasyfikator wskazał jako pozytywne, w rzeczywistości jest pozytywne:\n",
    "\n",
    "$$precision = \\frac{TP}{TP + FP}$$\n",
    "\n",
    "**Czułość** - mówi o tym, jak *czuły* jest klasyfikator - tzn. w jakim stopniu wykrywa obserwacje, które są pozytywne:\n",
    "\n",
    "$$recall = \\frac{TP}{TP+FN}$$\n",
    "\n",
    "**Miara F1** - średnia harmoniczna z precyzji i czułości:\n",
    "\n",
    "$$F1 = \\frac{2}{\\frac{1}{precision} + \\frac{1}{recall}} = 2 \\cdot \\frac{precicion \\cdot recall}{precision + recall}$$\n",
    "\n",
    "*Do przemyślenia: dlaczego średnia harmoniczna, a nie po prostu średnia arytmetyczna?*\n",
    "\n",
    "#### Zadanie\n",
    "\n",
    "Do każdego przypadku zaproponuj miarę jakości klasyfikatora, którą powinniśmy maksymalizować.\n",
    "\n",
    "- robot żołnierz\n",
    " - Mamy robota, którego wysyłamy na woję, żeby walczył z ludźmi. Robot opiera swoje działanie przy użyciu klasyfikatora: widząć jakiegoś człowieka klasyfikuje go jako \"cywila\" (0) lub \"wrogiego żołnierza\" (1), i w drugim przypadku strzela do niego.\n",
    "- robot lekarz\n",
    " - Mamy automat, który na podstawie wyników badań przewiduje czy badany pacjent jest zagrożony pewną chorobą (1) czy nic mu nie grozi (0). Jeśli przewiduje, że tak, to kieruje pacjenta na dodatkowe badania dające pewny wynik.\n",
    "- robot sędzia\n",
    " - Zamiast sędziego w sądzie pracuje robot, który klasyfikuje podejrzanych jako winnych (1) lub nie (0).\n",
    "- wyszukiwanie informacji - klasyfikacja fragmentów tekstów jako istotne\n",
    " - mamy automat, który skanuje teksty pojawiające się w internecie i klasyfikuje poszczególne fragmenty jako dotyczące naszej firmy (1) lub nie (0), po to aby w zautomatyzowany sposób gromadzić wzmianki o naszej firmie. Później zgromadzone przez ten automat teksty trafiają do szefa, który zamierza je wszystkie przeczytać."
   ]
  },
  {
   "cell_type": "code",
   "execution_count": 1,
   "metadata": {},
   "outputs": [],
   "source": [
    "from sklearn.metrics import precision_score, recall_score, f1_score, classification_report, confusion_matrix"
   ]
  },
  {
   "cell_type": "code",
   "execution_count": 2,
   "metadata": {},
   "outputs": [],
   "source": [
    "y_true = [0, 0, 1, 1, 1]\n",
    "y_pred = [0, 0, 0, 0, 1]"
   ]
  },
  {
   "cell_type": "code",
   "execution_count": 3,
   "metadata": {},
   "outputs": [
    {
     "data": {
      "text/plain": [
       "1.0"
      ]
     },
     "execution_count": 3,
     "metadata": {},
     "output_type": "execute_result"
    }
   ],
   "source": [
    "precision_score(y_true=y_true, y_pred=y_pred)"
   ]
  },
  {
   "cell_type": "code",
   "execution_count": 4,
   "metadata": {},
   "outputs": [
    {
     "data": {
      "text/plain": [
       "0.3333333333333333"
      ]
     },
     "execution_count": 4,
     "metadata": {},
     "output_type": "execute_result"
    }
   ],
   "source": [
    "recall_score(y_true=y_true, y_pred=y_pred)"
   ]
  },
  {
   "cell_type": "code",
   "execution_count": 5,
   "metadata": {},
   "outputs": [
    {
     "data": {
      "text/plain": [
       "0.5"
      ]
     },
     "execution_count": 5,
     "metadata": {},
     "output_type": "execute_result"
    }
   ],
   "source": [
    "f1_score(y_true=y_true, y_pred=y_pred)"
   ]
  },
  {
   "cell_type": "code",
   "execution_count": 7,
   "metadata": {},
   "outputs": [
    {
     "name": "stdout",
     "output_type": "stream",
     "text": [
      "              precision    recall  f1-score   support\n",
      "\n",
      "           0       0.50      1.00      0.67         2\n",
      "           1       1.00      0.33      0.50         3\n",
      "\n",
      "    accuracy                           0.60         5\n",
      "   macro avg       0.75      0.67      0.58         5\n",
      "weighted avg       0.80      0.60      0.57         5\n",
      "\n"
     ]
    }
   ],
   "source": [
    "print(classification_report(y_true=y_true, y_pred=y_pred))"
   ]
  },
  {
   "cell_type": "code",
   "execution_count": 8,
   "metadata": {},
   "outputs": [
    {
     "data": {
      "text/plain": [
       "array([[2, 0],\n",
       "       [2, 1]], dtype=int64)"
      ]
     },
     "execution_count": 8,
     "metadata": {},
     "output_type": "execute_result"
    }
   ],
   "source": [
    "cm = confusion_matrix(y_true=y_true, y_pred=y_pred)\n",
    "cm"
   ]
  },
  {
   "cell_type": "code",
   "execution_count": 9,
   "metadata": {},
   "outputs": [],
   "source": [
    "tn, fp, fn, tp = cm.ravel()"
   ]
  },
  {
   "cell_type": "code",
   "execution_count": 10,
   "metadata": {},
   "outputs": [
    {
     "data": {
      "text/plain": [
       "(2, 0, 2, 1)"
      ]
     },
     "execution_count": 10,
     "metadata": {},
     "output_type": "execute_result"
    }
   ],
   "source": [
    "tn, fp, fn, tp"
   ]
  },
  {
   "cell_type": "markdown",
   "metadata": {},
   "source": [
    "# 1. Krzywa ROC\n",
    "\n",
    "Mamy wektor prawdziwych klas $y = [0, 1, 1, ..., 0, 0]$ oraz wektor prawdopodobieństw zwrócony przez klasyfikator $p = [0.35, 0.55, 0.91, ..., 0.1, 0.44]$. Klasyfikujemy obserwacje według reguły $p(x) > t$ dla pewnego progu $t$.\n",
    "\n",
    "Zdefiniujmy:\n",
    " - _false positive rate_ FPR - procent obserwacji klasy $0$ zaklasyfikowanych jako $1$,\n",
    " - _true positive rate_ TPR - procent obserwacji klasy $1$ zaklasyfikowanych jako $1$.\n",
    "\n",
    "Obliczamy TPR($t$) oraz FPR($t$) dla każdego $t\\in p$. Krywa ROC to wykres liniowy powstały z punktów (FPR($t$), TPR($t$)) (dla $t$ uporządkowanych malejąco).\n",
    "\n",
    "Wskaźnik AUC to wielkość pola pod krzywą ROC.\n",
    "\n",
    "Im wyżej leży krzywa, tym większe AUC i tym lepszy model. AUC bliskie 0.5 - model o praktycznie zerowej mocy predykcjyjnej. AUC bliskie 1 - model bardzo dobry. \n",
    "\n",
    "Uwaga. W praktyce korzysta się czasem wielkości wskaźnika Giniego: $gini = 2 * AUC - 1$, czyli jest to proste przekształcenie AUC. Chodzi o to, że dla AUC=0.5 gini = 0, a dla AUC = 1, gini = 1. Czyli zamiast operować na wielkości AUC z przedziału (0.5, 1), przenosimy się na skalę (0,1). \n",
    "\n",
    "<img src=\"http://scikit-learn.org/stable/_images/sphx_glr_plot_roc_001.png\" width=\"400\">\n",
    "\n",
    "Źródło: http://scikit-learn.org/stable/_images/sphx_glr_plot_roc_001.png\n",
    "\n",
    "Tworzenie krzywej i obliczanie AUC:"
   ]
  },
  {
   "cell_type": "code",
   "execution_count": 12,
   "metadata": {},
   "outputs": [
    {
     "name": "stdout",
     "output_type": "stream",
     "text": [
      "[1.8  0.8  0.6  0.4  0.35 0.01]\n",
      "[0.  0.  0.  0.5 0.5 1. ]\n",
      "[0.         0.33333333 0.66666667 0.66666667 1.         1.        ]\n"
     ]
    },
    {
     "data": {
      "image/png": "[encoded data removed]",
      "text/plain": [
       "<Figure size 432x288 with 1 Axes>"
      ]
     },
     "metadata": {
      "needs_background": "light"
     },
     "output_type": "display_data"
    }
   ],
   "source": [
    "import numpy as np\n",
    "from sklearn.metrics import roc_curve, roc_auc_score\n",
    "y = np.array([0, 0, 1, 1, 1])\n",
    "scores = np.array([0.01, 0.4, 0.35, 0.8, 0.6])\n",
    "fpr, tpr, thresholds = roc_curve(y, scores)\n",
    "print(thresholds)\n",
    "print(fpr)\n",
    "print(tpr)\n",
    "\n",
    "import matplotlib.pyplot as plt\n",
    "%matplotlib inline\n",
    "\n",
    "plt.plot(fpr,tpr, label = \"AUC = %.2f\" % roc_auc_score(y,scores))\n",
    "plt.xlabel(\"FPR\")\n",
    "plt.ylabel(\"TPR\")\n",
    "plt.title(\"ROC\")\n",
    "plt.plot([0, 1], [0, 1], linestyle='--')\n",
    "plt.legend(loc=\"lower right\", prop={'size':15})\n",
    "plt.show()"
   ]
  },
  {
   "cell_type": "code",
   "execution_count": 13,
   "metadata": {},
   "outputs": [],
   "source": [
    "from sklearn.datasets import load_breast_cancer\n",
    "from sklearn.linear_model import LogisticRegression\n",
    "from sklearn.model_selection import train_test_split\n",
    "\n",
    "from warnings import simplefilter\n",
    "simplefilter(action='ignore', category=FutureWarning)"
   ]
  },
  {
   "cell_type": "code",
   "execution_count": 14,
   "metadata": {},
   "outputs": [],
   "source": [
    "data = load_breast_cancer()"
   ]
  },
  {
   "cell_type": "code",
   "execution_count": 15,
   "metadata": {},
   "outputs": [],
   "source": [
    "X, y = data.data, data.target"
   ]
  },
  {
   "cell_type": "code",
   "execution_count": 16,
   "metadata": {},
   "outputs": [],
   "source": [
    "X_train, X_test, y_train, y_test = train_test_split(X, y, test_size=0.3)"
   ]
  },
  {
   "cell_type": "code",
   "execution_count": 17,
   "metadata": {},
   "outputs": [
    {
     "data": {
      "text/plain": [
       "(398, 30)"
      ]
     },
     "execution_count": 17,
     "metadata": {},
     "output_type": "execute_result"
    }
   ],
   "source": [
    "X_train.shape"
   ]
  },
  {
   "cell_type": "code",
   "execution_count": 18,
   "metadata": {},
   "outputs": [
    {
     "data": {
      "text/plain": [
       "LogisticRegression(C=1.0, class_weight=None, dual=False, fit_intercept=True,\n",
       "                   intercept_scaling=1, l1_ratio=None, max_iter=100,\n",
       "                   multi_class='warn', n_jobs=None, penalty='l2',\n",
       "                   random_state=None, solver='warn', tol=0.0001, verbose=0,\n",
       "                   warm_start=False)"
      ]
     },
     "execution_count": 18,
     "metadata": {},
     "output_type": "execute_result"
    }
   ],
   "source": [
    "model = LogisticRegression()\n",
    "model.fit(X_train, y_train)"
   ]
  },
  {
   "cell_type": "code",
   "execution_count": 22,
   "metadata": {},
   "outputs": [],
   "source": [
    "y_pred_test = model.predict(X_test)\n",
    "y_pred_train = model.predict(X_train)"
   ]
  },
  {
   "cell_type": "code",
   "execution_count": 23,
   "metadata": {},
   "outputs": [
    {
     "name": "stdout",
     "output_type": "stream",
     "text": [
      "              precision    recall  f1-score   support\n",
      "\n",
      "           0       0.96      0.95      0.96       150\n",
      "           1       0.97      0.98      0.97       248\n",
      "\n",
      "    accuracy                           0.97       398\n",
      "   macro avg       0.97      0.96      0.97       398\n",
      "weighted avg       0.97      0.97      0.97       398\n",
      "\n"
     ]
    }
   ],
   "source": [
    "print(classification_report(y_train, y_pred_train))"
   ]
  },
  {
   "cell_type": "code",
   "execution_count": 24,
   "metadata": {},
   "outputs": [
    {
     "name": "stdout",
     "output_type": "stream",
     "text": [
      "              precision    recall  f1-score   support\n",
      "\n",
      "           0       0.89      0.90      0.90        62\n",
      "           1       0.94      0.94      0.94       109\n",
      "\n",
      "    accuracy                           0.92       171\n",
      "   macro avg       0.92      0.92      0.92       171\n",
      "weighted avg       0.92      0.92      0.92       171\n",
      "\n"
     ]
    }
   ],
   "source": [
    "print(classification_report(y_test, y_pred_test))"
   ]
  },
  {
   "cell_type": "code",
   "execution_count": 28,
   "metadata": {},
   "outputs": [],
   "source": [
    "y_pred_proba_train = model.predict_proba(X_train)[:, 1]\n",
    "y_pred_proba_test = model.predict_proba(X_test)[:, 1]"
   ]
  },
  {
   "cell_type": "markdown",
   "metadata": {},
   "source": [
    "Krzywa ROC na zbiorze treningowym pozwala na oszacowanie dopasowania do modelu, jak widać jest bardzo dobrze"
   ]
  },
  {
   "cell_type": "code",
   "execution_count": 29,
   "metadata": {},
   "outputs": [
    {
     "data": {
      "image/png": "[encoded data removed]",
      "text/plain": [
       "<Figure size 432x288 with 1 Axes>"
      ]
     },
     "metadata": {
      "needs_background": "light"
     },
     "output_type": "display_data"
    }
   ],
   "source": [
    "fpr, tpr, thresholds = roc_curve(y_train, y_pred_proba_train)\n",
    "\n",
    "plt.plot(fpr, tpr, label = \"AUC = %.2f\" % roc_auc_score(y_train, y_pred_proba_train))\n",
    "plt.xlabel(\"FPR\")\n",
    "plt.ylabel(\"TPR\")\n",
    "plt.title(\"ROC\")\n",
    "plt.plot([0, 1], [0, 1], linestyle='--')\n",
    "plt.legend(loc=\"lower right\", prop={'size':15})\n",
    "plt.show()"
   ]
  },
  {
   "cell_type": "markdown",
   "metadata": {},
   "source": [
    "Ocena klasyfikacji na zbiorze testowym"
   ]
  },
  {
   "cell_type": "code",
   "execution_count": 30,
   "metadata": {},
   "outputs": [
    {
     "data": {
      "image/png": "[encoded data removed]",
      "text/plain": [
       "<Figure size 432x288 with 1 Axes>"
      ]
     },
     "metadata": {
      "needs_background": "light"
     },
     "output_type": "display_data"
    }
   ],
   "source": [
    "fpr, tpr, thresholds = roc_curve(y_test, y_pred_proba_test)\n",
    "\n",
    "plt.plot(fpr, tpr, label = \"AUC = %.2f\" % roc_auc_score(y_test, y_pred_proba_test))\n",
    "plt.xlabel(\"FPR\")\n",
    "plt.ylabel(\"TPR\")\n",
    "plt.title(\"ROC\")\n",
    "plt.plot([0, 1], [0, 1], linestyle='--')\n",
    "plt.legend(loc=\"lower right\", prop={'size':15})\n",
    "plt.show()"
   ]
  },
  {
   "cell_type": "markdown",
   "metadata": {},
   "source": [
    "Jak teraz przejść do żywego modelu z wybranych thresholdem? \n",
    "\n",
    "Założmy, że TPR=80%\n",
    "\n",
    "Szukamy thresholdu:"
   ]
  },
  {
   "cell_type": "code",
   "execution_count": 35,
   "metadata": {},
   "outputs": [
    {
     "data": {
      "text/plain": [
       "array([0.        , 0.00917431, 0.71559633, 0.71559633, 0.8440367 ,\n",
       "       0.8440367 , 0.85321101, 0.85321101, 0.86238532, 0.86238532,\n",
       "       0.9266055 , 0.9266055 , 0.93577982, 0.93577982, 0.94495413,\n",
       "       0.94495413, 0.96330275, 0.96330275, 0.97247706, 0.97247706,\n",
       "       0.98165138, 0.98165138, 1.        , 1.        ])"
      ]
     },
     "execution_count": 35,
     "metadata": {},
     "output_type": "execute_result"
    }
   ],
   "source": [
    "tpr"
   ]
  },
  {
   "cell_type": "code",
   "execution_count": 33,
   "metadata": {},
   "outputs": [
    {
     "data": {
      "text/plain": [
       "array([ 4,  5,  6,  7,  8,  9, 10, 11, 12, 13, 14, 15, 16, 17, 18, 19, 20,\n",
       "       21, 22, 23], dtype=int64)"
      ]
     },
     "execution_count": 33,
     "metadata": {},
     "output_type": "execute_result"
    }
   ],
   "source": [
    "np.where(tpr >= 0.8)[0]"
   ]
  },
  {
   "cell_type": "code",
   "execution_count": 36,
   "metadata": {},
   "outputs": [
    {
     "data": {
      "text/plain": [
       "4"
      ]
     },
     "execution_count": 36,
     "metadata": {},
     "output_type": "execute_result"
    }
   ],
   "source": [
    "smallest_wanted_tpr_index = np.where(tpr >= 0.8)[0][0]\n",
    "smallest_wanted_tpr_index"
   ]
  },
  {
   "cell_type": "code",
   "execution_count": 37,
   "metadata": {},
   "outputs": [
    {
     "data": {
      "text/plain": [
       "0.9188459209779978"
      ]
     },
     "execution_count": 37,
     "metadata": {},
     "output_type": "execute_result"
    }
   ],
   "source": [
    "thresholds[smallest_wanted_tpr_index]"
   ]
  },
  {
   "cell_type": "code",
   "execution_count": 38,
   "metadata": {},
   "outputs": [],
   "source": [
    "def predict_with_threshold(model, X, threshold):\n",
    "    return (model.predict_proba(X)[:, 1] > threshold).astype(int)"
   ]
  },
  {
   "cell_type": "code",
   "execution_count": 44,
   "metadata": {},
   "outputs": [],
   "source": [
    "y_pred_test_t = predict_with_threshold(model, X_test, thresholds[smallest_wanted_tpr_index + 1])"
   ]
  },
  {
   "cell_type": "code",
   "execution_count": 45,
   "metadata": {},
   "outputs": [
    {
     "data": {
      "text/plain": [
       "0.8440366972477065"
      ]
     },
     "execution_count": 45,
     "metadata": {},
     "output_type": "execute_result"
    }
   ],
   "source": [
    "recall_score(y_test, y_pred_test_t)"
   ]
  },
  {
   "cell_type": "markdown",
   "metadata": {},
   "source": [
    "# Selekcja cech (feature selection)\n",
    "\n",
    "Strona ze zbiorami danych z bardzo dużą liczbą cech: http://featureselection.asu.edu/datasets.php\n",
    "\n",
    "Opis danych, na których będziemy pracować: https://software.broadinstitute.org/software/cprg/?q=node/55"
   ]
  },
  {
   "cell_type": "code",
   "execution_count": 46,
   "metadata": {},
   "outputs": [],
   "source": [
    "import scipy.io\n",
    "mat = scipy.io.loadmat(\"Dane/ALLAML.mat\")"
   ]
  },
  {
   "cell_type": "code",
   "execution_count": 47,
   "metadata": {},
   "outputs": [],
   "source": [
    "X = mat['X']\n",
    "y = mat['Y'][:, 0] "
   ]
  },
  {
   "cell_type": "code",
   "execution_count": 48,
   "metadata": {},
   "outputs": [
    {
     "data": {
      "text/plain": [
       "(72, 7129)"
      ]
     },
     "execution_count": 48,
     "metadata": {},
     "output_type": "execute_result"
    }
   ],
   "source": [
    "X.shape"
   ]
  },
  {
   "cell_type": "code",
   "execution_count": 49,
   "metadata": {},
   "outputs": [
    {
     "name": "stdout",
     "output_type": "stream",
     "text": [
      "0.8047619047619048\n",
      "0.8590476190476191\n",
      "0.778095238095238\n",
      "0.8866666666666667\n"
     ]
    }
   ],
   "source": [
    "from sklearn.svm import SVC\n",
    "from sklearn.tree import DecisionTreeClassifier\n",
    "from sklearn.ensemble import RandomForestClassifier\n",
    "\n",
    "from sklearn.model_selection import cross_val_score\n",
    "\n",
    "models = [\n",
    "    LogisticRegression(), \n",
    "    SVC(),\n",
    "    DecisionTreeClassifier(),\n",
    "    RandomForestClassifier()\n",
    "]\n",
    "\n",
    "for model in models:\n",
    "    print(cross_val_score(model, X, y, cv=5).mean())"
   ]
  },
  {
   "cell_type": "markdown",
   "metadata": {},
   "source": [
    "## 1. Regularyzacja l1 - uczenie modelu z jednoczesną selekcją zmiennych\n",
    "\n",
    "\n",
    "### Regresja logistyczna"
   ]
  },
  {
   "cell_type": "code",
   "execution_count": 50,
   "metadata": {},
   "outputs": [
    {
     "data": {
      "text/plain": [
       "LogisticRegression(C=1.0, class_weight=None, dual=False, fit_intercept=True,\n",
       "                   intercept_scaling=1, l1_ratio=None, max_iter=100,\n",
       "                   multi_class='warn', n_jobs=None, penalty='l1',\n",
       "                   random_state=None, solver='warn', tol=0.0001, verbose=0,\n",
       "                   warm_start=False)"
      ]
     },
     "execution_count": 50,
     "metadata": {},
     "output_type": "execute_result"
    }
   ],
   "source": [
    "model = LogisticRegression(penalty='l1')\n",
    "model.fit(X, y)"
   ]
  },
  {
   "cell_type": "code",
   "execution_count": 52,
   "metadata": {},
   "outputs": [
    {
     "data": {
      "text/plain": [
       "array([0., 0., 0., ..., 0., 0., 0.])"
      ]
     },
     "execution_count": 52,
     "metadata": {},
     "output_type": "execute_result"
    }
   ],
   "source": [
    "model.coef_[0]"
   ]
  },
  {
   "cell_type": "code",
   "execution_count": 55,
   "metadata": {},
   "outputs": [
    {
     "data": {
      "text/plain": [
       "34"
      ]
     },
     "execution_count": 55,
     "metadata": {},
     "output_type": "execute_result"
    }
   ],
   "source": [
    "np.sum(model.coef_[0] != 0 ) # sprawdzamy ile jest niezerowych wag"
   ]
  },
  {
   "cell_type": "code",
   "execution_count": 56,
   "metadata": {},
   "outputs": [
    {
     "data": {
      "text/plain": [
       "0.9304761904761903"
      ]
     },
     "execution_count": 56,
     "metadata": {},
     "output_type": "execute_result"
    }
   ],
   "source": [
    "cross_val_score(model, X, y, cv=5).mean()"
   ]
  },
  {
   "cell_type": "code",
   "execution_count": 57,
   "metadata": {},
   "outputs": [
    {
     "name": "stdout",
     "output_type": "stream",
     "text": [
      "0.01\n",
      "0\n",
      "0.6523809523809524\n",
      "\n",
      "0.1\n",
      "9\n",
      "0.9038095238095238\n",
      "\n",
      "1\n",
      "35\n",
      "0.9447619047619048\n",
      "\n",
      "10\n",
      "81\n",
      "0.9723809523809525\n",
      "\n",
      "100\n",
      "248\n",
      "0.9438095238095239\n",
      "\n"
     ]
    }
   ],
   "source": [
    "for c in [0.01, 0.1, 1, 10, 100]:\n",
    "    model = LogisticRegression(penalty='l1', C=c)\n",
    "    model.fit(X, y)\n",
    "    print(c)\n",
    "    print(np.sum(model.coef_[0] != 0 ))\n",
    "    print(cross_val_score(model, X, y, cv=5).mean())\n",
    "    print()"
   ]
  },
  {
   "cell_type": "markdown",
   "metadata": {},
   "source": [
    "### SVM"
   ]
  },
  {
   "cell_type": "code",
   "execution_count": 58,
   "metadata": {},
   "outputs": [],
   "source": [
    "from sklearn.svm import LinearSVC # potrzebna inna implementacja SVM"
   ]
  },
  {
   "cell_type": "code",
   "execution_count": 64,
   "metadata": {},
   "outputs": [],
   "source": [
    "model = LinearSVC(penalty='l1', dual=False, max_iter=10000)"
   ]
  },
  {
   "cell_type": "code",
   "execution_count": 65,
   "metadata": {},
   "outputs": [
    {
     "name": "stdout",
     "output_type": "stream",
     "text": [
      "0.959047619047619\n"
     ]
    }
   ],
   "source": [
    "print(cross_val_score(model, X, y, cv=5).mean())"
   ]
  },
  {
   "cell_type": "markdown",
   "metadata": {},
   "source": [
    "## 2. Selekcja przy użyciu regularyzacji l1 jako osobny krok"
   ]
  },
  {
   "cell_type": "code",
   "execution_count": 66,
   "metadata": {},
   "outputs": [],
   "source": [
    "from sklearn.feature_selection import SelectFromModel\n",
    "?SelectFromModel"
   ]
  },
  {
   "cell_type": "code",
   "execution_count": 67,
   "metadata": {},
   "outputs": [],
   "source": [
    "model = LogisticRegression(penalty='l1')\n",
    "selector = SelectFromModel(model) # automatycznie wybierze wszystkie niezerowe wagi"
   ]
  },
  {
   "cell_type": "code",
   "execution_count": 68,
   "metadata": {},
   "outputs": [],
   "source": [
    "X_tr = selector.fit_transform(X, y)"
   ]
  },
  {
   "cell_type": "code",
   "execution_count": 69,
   "metadata": {},
   "outputs": [
    {
     "data": {
      "text/plain": [
       "(72, 39)"
      ]
     },
     "execution_count": 69,
     "metadata": {},
     "output_type": "execute_result"
    }
   ],
   "source": [
    "X_tr.shape"
   ]
  },
  {
   "cell_type": "code",
   "execution_count": 73,
   "metadata": {},
   "outputs": [],
   "source": [
    "from sklearn.pipeline import make_pipeline\n",
    "from sklearn.preprocessing import StandardScaler"
   ]
  },
  {
   "cell_type": "code",
   "execution_count": 74,
   "metadata": {},
   "outputs": [],
   "source": [
    "pipeline = make_pipeline(\n",
    "    StandardScaler(),\n",
    "    SelectFromModel(\n",
    "        estimator=LogisticRegression(penalty='l1')\n",
    "    ),\n",
    "    LogisticRegression()\n",
    ")"
   ]
  },
  {
   "cell_type": "code",
   "execution_count": 75,
   "metadata": {},
   "outputs": [
    {
     "name": "stdout",
     "output_type": "stream",
     "text": [
      "0.9580952380952382\n"
     ]
    }
   ],
   "source": [
    "print(cross_val_score(pipeline, X, y, cv=5).mean())"
   ]
  },
  {
   "cell_type": "markdown",
   "metadata": {},
   "source": [
    "## 3. Selekcja na podstawie wielkości współczynników\n",
    "\n",
    "Ma sens tylko wtedy, gdy dane są zestandaryzowane!"
   ]
  },
  {
   "cell_type": "code",
   "execution_count": 76,
   "metadata": {},
   "outputs": [],
   "source": [
    "from sklearn.preprocessing import StandardScaler"
   ]
  },
  {
   "cell_type": "code",
   "execution_count": 77,
   "metadata": {},
   "outputs": [],
   "source": [
    "?SelectFromModel"
   ]
  },
  {
   "cell_type": "code",
   "execution_count": 80,
   "metadata": {},
   "outputs": [
    {
     "data": {
      "text/plain": [
       "array([ 0.00597432, -0.00785105,  0.00178502, ..., -0.00314111,\n",
       "        0.01589218,  0.00027087])"
      ]
     },
     "execution_count": 80,
     "metadata": {},
     "output_type": "execute_result"
    }
   ],
   "source": [
    "coefs = LogisticRegression().fit(X,y).coef_[0]\n",
    "coefs"
   ]
  },
  {
   "cell_type": "code",
   "execution_count": 82,
   "metadata": {},
   "outputs": [
    {
     "data": {
      "text/plain": [
       "(array([2492., 2054., 1259.,  701.,  332.,  172.,   69.,   30.,   15.,\n",
       "           5.]),\n",
       " array([6.47845644e-07, 3.12802620e-03, 6.25540455e-03, 9.38278290e-03,\n",
       "        1.25101612e-02, 1.56375396e-02, 1.87649179e-02, 2.18922963e-02,\n",
       "        2.50196746e-02, 2.81470530e-02, 3.12744313e-02]),\n",
       " <a list of 10 Patch objects>)"
      ]
     },
     "execution_count": 82,
     "metadata": {},
     "output_type": "execute_result"
    },
    {
     "data": {
      "image/png": "[encoded data removed]",
      "text/plain": [
       "<Figure size 432x288 with 1 Axes>"
      ]
     },
     "metadata": {
      "needs_background": "light"
     },
     "output_type": "display_data"
    }
   ],
   "source": [
    "plt.hist(np.abs(coefs))"
   ]
  },
  {
   "cell_type": "code",
   "execution_count": 87,
   "metadata": {},
   "outputs": [
    {
     "name": "stdout",
     "output_type": "stream",
     "text": [
      "0.9723809523809525\n"
     ]
    }
   ],
   "source": [
    "pipeline = make_pipeline(\n",
    "    StandardScaler(),\n",
    "    SelectFromModel(\n",
    "        estimator=LogisticRegression(), threshold=0.02\n",
    "    ),\n",
    "    LogisticRegression()\n",
    ")\n",
    "print(cross_val_score(pipeline, X, y, cv=5).mean())"
   ]
  },
  {
   "cell_type": "markdown",
   "metadata": {},
   "source": [
    "## 4. Selekcja na podstawie ważności cech\n",
    "\n",
    "### Drzewo decyzyjne"
   ]
  },
  {
   "cell_type": "code",
   "execution_count": 97,
   "metadata": {},
   "outputs": [
    {
     "data": {
      "text/plain": [
       "DecisionTreeClassifier(class_weight=None, criterion='gini', max_depth=None,\n",
       "                       max_features=None, max_leaf_nodes=None,\n",
       "                       min_impurity_decrease=0.0, min_impurity_split=None,\n",
       "                       min_samples_leaf=1, min_samples_split=2,\n",
       "                       min_weight_fraction_leaf=0.0, presort=False,\n",
       "                       random_state=None, splitter='best')"
      ]
     },
     "execution_count": 97,
     "metadata": {},
     "output_type": "execute_result"
    }
   ],
   "source": [
    "tree = DecisionTreeClassifier()\n",
    "tree.fit(X, y)"
   ]
  },
  {
   "cell_type": "code",
   "execution_count": 98,
   "metadata": {},
   "outputs": [],
   "source": [
    "fi = tree.feature_importances_"
   ]
  },
  {
   "cell_type": "code",
   "execution_count": 99,
   "metadata": {},
   "outputs": [
    {
     "data": {
      "text/plain": [
       "1.0"
      ]
     },
     "execution_count": 99,
     "metadata": {},
     "output_type": "execute_result"
    }
   ],
   "source": [
    "fi.sum()"
   ]
  },
  {
   "cell_type": "markdown",
   "metadata": {},
   "source": [
    "### Las losowy\n",
    "\n",
    "Ważność na podstawie lasów lasowych to uśrednianie ważności z pojedynczych drzew.\n",
    "\n",
    "W praktyce jedna z lepszych i najsensowniejszych metod oceny ważności cech.\n",
    "\n",
    "Uwaga: im więcej drzew w lesie tym ocena rzetelniejsza! (drzew powinno być przynajmniej kilkadziesiąt)"
   ]
  },
  {
   "cell_type": "code",
   "execution_count": 100,
   "metadata": {},
   "outputs": [],
   "source": [
    "coefs = RandomForestClassifier().fit(X,y).feature_importances_"
   ]
  },
  {
   "cell_type": "code",
   "execution_count": 101,
   "metadata": {},
   "outputs": [
    {
     "data": {
      "image/png": "[encoded data removed]",
      "text/plain": [
       "<Figure size 432x288 with 1 Axes>"
      ]
     },
     "metadata": {
      "needs_background": "light"
     },
     "output_type": "display_data"
    }
   ],
   "source": [
    "ax = plt.hist(coefs, bins=100)"
   ]
  },
  {
   "cell_type": "code",
   "execution_count": 102,
   "metadata": {},
   "outputs": [
    {
     "name": "stdout",
     "output_type": "stream",
     "text": [
      "0.9171428571428573\n"
     ]
    }
   ],
   "source": [
    "pipeline = make_pipeline(\n",
    "    StandardScaler(),\n",
    "    SelectFromModel(\n",
    "        estimator=RandomForestClassifier(), threshold=0.00001\n",
    "    ),\n",
    "    RandomForestClassifier()\n",
    ")\n",
    "print(cross_val_score(pipeline, X, y, cv=5).mean())"
   ]
  },
  {
   "cell_type": "markdown",
   "metadata": {},
   "source": [
    "## 5. Selekcja rekursywna - iteracyjne usuwanie zmiennych"
   ]
  },
  {
   "cell_type": "code",
   "execution_count": 103,
   "metadata": {},
   "outputs": [],
   "source": [
    "from sklearn.feature_selection import RFE, RFECV"
   ]
  },
  {
   "cell_type": "code",
   "execution_count": 104,
   "metadata": {},
   "outputs": [],
   "source": [
    "?RFE"
   ]
  },
  {
   "cell_type": "code",
   "execution_count": 109,
   "metadata": {
    "collapsed": true
   },
   "outputs": [
    {
     "name": "stdout",
     "output_type": "stream",
     "text": [
      "Fitting estimator with 7129 features.\n",
      "Fitting estimator with 7029 features.\n",
      "Fitting estimator with 6929 features.\n",
      "Fitting estimator with 6829 features.\n",
      "Fitting estimator with 6729 features.\n",
      "Fitting estimator with 6629 features.\n",
      "Fitting estimator with 6529 features.\n",
      "Fitting estimator with 6429 features.\n",
      "Fitting estimator with 6329 features.\n",
      "Fitting estimator with 6229 features.\n",
      "Fitting estimator with 6129 features.\n",
      "Fitting estimator with 6029 features.\n",
      "Fitting estimator with 5929 features.\n",
      "Fitting estimator with 5829 features.\n",
      "Fitting estimator with 5729 features.\n",
      "Fitting estimator with 5629 features.\n",
      "Fitting estimator with 5529 features.\n",
      "Fitting estimator with 5429 features.\n",
      "Fitting estimator with 5329 features.\n",
      "Fitting estimator with 5229 features.\n",
      "Fitting estimator with 5129 features.\n",
      "Fitting estimator with 5029 features.\n",
      "Fitting estimator with 4929 features.\n",
      "Fitting estimator with 4829 features.\n",
      "Fitting estimator with 4729 features.\n",
      "Fitting estimator with 4629 features.\n",
      "Fitting estimator with 4529 features.\n",
      "Fitting estimator with 4429 features.\n",
      "Fitting estimator with 4329 features.\n",
      "Fitting estimator with 4229 features.\n",
      "Fitting estimator with 4129 features.\n",
      "Fitting estimator with 4029 features.\n",
      "Fitting estimator with 3929 features.\n",
      "Fitting estimator with 3829 features.\n",
      "Fitting estimator with 3729 features.\n",
      "Fitting estimator with 3629 features.\n",
      "Fitting estimator with 3529 features.\n",
      "Fitting estimator with 3429 features.\n",
      "Fitting estimator with 3329 features.\n",
      "Fitting estimator with 3229 features.\n",
      "Fitting estimator with 3129 features.\n",
      "Fitting estimator with 3029 features.\n",
      "Fitting estimator with 2929 features.\n",
      "Fitting estimator with 2829 features.\n",
      "Fitting estimator with 2729 features.\n",
      "Fitting estimator with 2629 features.\n",
      "Fitting estimator with 2529 features.\n",
      "Fitting estimator with 2429 features.\n",
      "Fitting estimator with 2329 features.\n",
      "Fitting estimator with 2229 features.\n",
      "Fitting estimator with 2129 features.\n",
      "Fitting estimator with 2029 features.\n",
      "Fitting estimator with 1929 features.\n",
      "Fitting estimator with 1829 features.\n",
      "Fitting estimator with 1729 features.\n",
      "Fitting estimator with 1629 features.\n",
      "Fitting estimator with 1529 features.\n",
      "Fitting estimator with 1429 features.\n",
      "Fitting estimator with 1329 features.\n",
      "Fitting estimator with 1229 features.\n",
      "Fitting estimator with 1129 features.\n",
      "Fitting estimator with 1029 features.\n",
      "Fitting estimator with 929 features.\n",
      "Fitting estimator with 829 features.\n",
      "Fitting estimator with 729 features.\n",
      "Fitting estimator with 629 features.\n",
      "Fitting estimator with 529 features.\n",
      "Fitting estimator with 429 features.\n",
      "Fitting estimator with 329 features.\n",
      "Fitting estimator with 229 features.\n",
      "Fitting estimator with 129 features.\n"
     ]
    }
   ],
   "source": [
    "rfe = RFE(estimator=LogisticRegression(penalty='l1'), \n",
    "           n_features_to_select=100, \n",
    "           step=100, \n",
    "           verbose=1)\n",
    "X_tr = rfe.fit_transform(X, y)"
   ]
  },
  {
   "cell_type": "code",
   "execution_count": 112,
   "metadata": {},
   "outputs": [
    {
     "data": {
      "text/plain": [
       "(72, 100)"
      ]
     },
     "execution_count": 112,
     "metadata": {},
     "output_type": "execute_result"
    }
   ],
   "source": [
    "X_tr.shape"
   ]
  },
  {
   "cell_type": "code",
   "execution_count": 113,
   "metadata": {},
   "outputs": [
    {
     "name": "stdout",
     "output_type": "stream",
     "text": [
      "0.9580952380952382\n"
     ]
    }
   ],
   "source": [
    "pipeline = make_pipeline(\n",
    "    StandardScaler(),\n",
    "    RFE(estimator=LogisticRegression(penalty='l1'), \n",
    "           n_features_to_select=100, \n",
    "           step=100,\n",
    "           verbose=0),\n",
    "    LogisticRegression()\n",
    ")\n",
    "print(cross_val_score(pipeline, X, y, cv=5).mean())"
   ]
  },
  {
   "cell_type": "code",
   "execution_count": 115,
   "metadata": {},
   "outputs": [
    {
     "name": "stdout",
     "output_type": "stream",
     "text": [
      "0.8609523809523811\n"
     ]
    }
   ],
   "source": [
    "pipeline = make_pipeline(\n",
    "    StandardScaler(),\n",
    "    RFECV(estimator=LogisticRegression(penalty='l1'), \n",
    "          step=100,\n",
    "          verbose=0,\n",
    "          cv=5),\n",
    "    LogisticRegression()\n",
    ")\n",
    "print(cross_val_score(pipeline, X, y, cv=5).mean())"
   ]
  },
  {
   "cell_type": "markdown",
   "metadata": {},
   "source": [
    "## 6. Metoda losowych podzbiorów\n",
    "\n",
    "Algorytm:\n",
    "\n",
    "1. Powtórz $T$ razy:\n",
    " - wylosuj podzbiór $K$ zmiennych,\n",
    " - spośród wybranych zmiennych wybierz zmienne istotne.\n",
    "2. Zwróć te zmienne, które w powyższym kroku zostały przynajmniej raz uznane za istotne.\n",
    "\n",
    "Uwaga: w praktyce dobrze jest sterować losowaniem tak, żeby każda zmienna była wybrana przynajmniej kilka razy.\n",
    "\n",
    "### Zadanie: \n",
    "\n",
    "1. Zaimplementować powyższy algorytm - funkcję, która zwraca indeksy wybranych zmiennych.\n",
    "\n",
    "2. Zaimplementuj kroswalidacyjną ocenę powyższego schematu selekcji \n",
    "   (z dowolnym klasyfikatorem, dowolnym selektorem bazowym, dowolnymi parametrami)"
   ]
  },
  {
   "cell_type": "code",
   "execution_count": 120,
   "metadata": {},
   "outputs": [
    {
     "data": {
      "text/plain": [
       "array([False, False, False, ..., False, False, False])"
      ]
     },
     "execution_count": 120,
     "metadata": {},
     "output_type": "execute_result"
    }
   ],
   "source": [
    "selector.get_support()"
   ]
  },
  {
   "cell_type": "code",
   "execution_count": 124,
   "metadata": {},
   "outputs": [],
   "source": [
    "def random_subsets_selection(selector, T, K, X, y):\n",
    "    # Utwórz pusty kontener na wybrane zmienne\n",
    "    selected_features = set()\n",
    "    \n",
    "    # Wyznacz liczbę zmiennych\n",
    "    features_number = X.shape[1]\n",
    "    \n",
    "    for _ in range(T):\n",
    "        # Wylosuj K indeksów bez powtorzeń z zakresu od 0 do ostatniego indeksu kolumny\n",
    "        features_subset_indices = np.random.choice(range(features_number), size=K, replace=False)\n",
    "        \n",
    "        # Dopasuj selector używając wylosowanych kolumn\n",
    "        selector.fit(X[:, features_subset_indices], y)\n",
    "    \n",
    "        # Pobierz indeksy wylosowanch kolumn, które okazały się istotne\n",
    "        selected_features_indices = features_subset_indices[selector.get_support()]\n",
    "        \n",
    "        # Dodaj je do zbioru\n",
    "        selected_features.update(selected_features_indices)\n",
    "    \n",
    "    # Zwróć indeksy wybranych kolumn\n",
    "    return selected_features"
   ]
  },
  {
   "cell_type": "code",
   "execution_count": 139,
   "metadata": {},
   "outputs": [],
   "source": [
    "selected = random_subsets_selection(selector=SelectFromModel(LogisticRegression(), threshold=0.2),\n",
    "                                    T = 200,\n",
    "                                    K = 100,\n",
    "                                    X = X, \n",
    "                                    y = y)"
   ]
  },
  {
   "cell_type": "code",
   "execution_count": 140,
   "metadata": {},
   "outputs": [
    {
     "data": {
      "text/plain": [
       "3772"
      ]
     },
     "execution_count": 140,
     "metadata": {},
     "output_type": "execute_result"
    }
   ],
   "source": [
    "len(selected)"
   ]
  },
  {
   "cell_type": "code",
   "execution_count": 130,
   "metadata": {},
   "outputs": [],
   "source": [
    "from sklearn.model_selection import KFold"
   ]
  },
  {
   "cell_type": "code",
   "execution_count": 137,
   "metadata": {},
   "outputs": [
    {
     "name": "stderr",
     "output_type": "stream",
     "text": [
      "C:\\Users\\Waldemar\\Anaconda3\\lib\\site-packages\\sklearn\\metrics\\classification.py:1437: UndefinedMetricWarning: F-score is ill-defined and being set to 0.0 due to no predicted samples.\n",
      "  'precision', 'predicted', average, warn_for)\n"
     ]
    }
   ],
   "source": [
    "kf = KFold(n_splits=5)\n",
    "\n",
    "scores = []\n",
    "\n",
    "for train_idx, test_idx in kf.split(X):\n",
    "    \n",
    "    # Na podstawie indeksów stwórz zbiory treningowe i walidacyjne\n",
    "    X_train, X_test = X[train_idx], X[test_idx]\n",
    "    y_train, y_test = y[train_idx], y[test_idx]\n",
    "    \n",
    "    # Przeprowadź selekcję zmiennych dla wybraego thresholdu\n",
    "    selected = random_subsets_selection(selector=SelectFromModel(LogisticRegression(), threshold=0.2),\n",
    "                                    T = 200,\n",
    "                                    K = 100,\n",
    "                                    X=X_train, \n",
    "                                    y=y_train)\n",
    "    \n",
    "    model = LogisticRegression()\n",
    "    # Dopsauj model na wybranych kolumnach\n",
    "    model.fit(X_train[:, list(selected)], y_train)\n",
    "    \n",
    "    # Wykonaj predykję na wybranych kolumna ze zbioru testowego\n",
    "    y_pred = model.predict(X_test[:, list(selected)])\n",
    "    \n",
    "    # Dodaj wyniki do listy\n",
    "    scores.append(f1_score(y_pred, y_test))"
   ]
  },
  {
   "cell_type": "code",
   "execution_count": 138,
   "metadata": {},
   "outputs": [
    {
     "data": {
      "text/plain": [
       "[1.0, 0.9565217391304348, 0.8, 0.923076923076923, 0.0]"
      ]
     },
     "execution_count": 138,
     "metadata": {},
     "output_type": "execute_result"
    }
   ],
   "source": [
    "scores"
   ]
  },
  {
   "cell_type": "code",
   "execution_count": 141,
   "metadata": {},
   "outputs": [
    {
     "data": {
      "text/plain": [
       "(72, 7129)"
      ]
     },
     "execution_count": 141,
     "metadata": {},
     "output_type": "execute_result"
    }
   ],
   "source": [
    "X.shape"
   ]
  },
  {
   "cell_type": "markdown",
   "metadata": {},
   "source": [
    "## 7. Filtrowanie (powierzchowna / wstępna selekcja zmiennych)\n",
    "\n",
    "\n",
    "\n",
    "\n",
    "Selekcja polega na usunięciu zmiennych, które nie spełniają określonego wymogu (\"filtr\" ich nie przepuszcza).\n",
    "\n",
    "Filtry to <u>jednowymiarowe</u> miary zależności zmiennej objaśnianej $Y$ od zmiennej $X_i$ lub miara ocena przydatności zmiennej $X_i$ tylko na podstawie jej rozkładu (np. jeżeli zmienna przyjmuje tę samą wartość dla prawie wszystkich obserwacji). Czyli metoda polega na tym, że usuwamy te zmienne, od których $Y$ nie zależy wystarczająco mocno.\n",
    "\n",
    "Filtrowania używamy tylko wtedy, gdy zmiennych jest tak dużo, że nie da się zastosować lepszych metod selekcji. Ale filtrowanie należy traktować raczej jako selekcję wstępną - po tym zabiegu robimy z reguły normalną selekcję (no chyba, że ze względów obliczeniowych nie możemy sobie pozwolić na wykonywanie selekcji nawet na zmniejszonym podzbiorze).\n",
    "\n",
    "\n",
    "Przykładowe filtry:\n",
    "\n",
    "1. Korelacja $Y$ z $X$.\n",
    "\n",
    "2. Informacja wzajemna $X$ z $Y$:\n",
    "\n",
    "$ I(X,Y) = H(Y) - H(Y | X)$,\n",
    "\n",
    "gdzie\n",
    "\n",
    "$H(Y)$ - entropia zmiennej $Y$,\n",
    "\n",
    "$H(Y|X)$ - entropia zmiennej $Y$, przy znanym $X$ (entropia warunkowa).\n"
   ]
  },
  {
   "cell_type": "code",
   "execution_count": 142,
   "metadata": {},
   "outputs": [],
   "source": [
    "from sklearn.feature_selection import SelectKBest, mutual_info_classif\n",
    "?SelectKBest"
   ]
  },
  {
   "cell_type": "code",
   "execution_count": 143,
   "metadata": {},
   "outputs": [],
   "source": [
    "selector = SelectKBest(mutual_info_classif, k=100)\n",
    "X_mi = selector.fit_transform(X, y)"
   ]
  },
  {
   "cell_type": "code",
   "execution_count": 144,
   "metadata": {},
   "outputs": [
    {
     "data": {
      "text/plain": [
       "(72, 100)"
      ]
     },
     "execution_count": 144,
     "metadata": {},
     "output_type": "execute_result"
    }
   ],
   "source": [
    "X_mi.shape"
   ]
  },
  {
   "cell_type": "code",
   "execution_count": 146,
   "metadata": {},
   "outputs": [
    {
     "name": "stdout",
     "output_type": "stream",
     "text": [
      "0.9304761904761903\n"
     ]
    }
   ],
   "source": [
    "pipeline = make_pipeline(\n",
    "    StandardScaler(),\n",
    "    SelectKBest(mutual_info_classif, k=100),\n",
    "    LogisticRegression()\n",
    ")\n",
    "print(cross_val_score(pipeline, X, y, cv=5).mean())"
   ]
  },
  {
   "cell_type": "markdown",
   "metadata": {},
   "source": [
    "# Zadanie do domu\n",
    "\n",
    "Przetestuj poznane metody selekcji zmiennych na danych gisette: http://featureselection.asu.edu/datasets.php. Przeanalizuj różne warianty z różnymi parametrami."
   ]
  },
  {
   "cell_type": "code",
   "execution_count": 148,
   "metadata": {},
   "outputs": [],
   "source": [
    "import scipy\n",
    "mat = scipy.io.loadmat(\"Dane/gisette.mat\")"
   ]
  },
  {
   "cell_type": "code",
   "execution_count": 152,
   "metadata": {},
   "outputs": [],
   "source": [
    "X = mat['X']\n",
    "y = mat['Y']"
   ]
  },
  {
   "cell_type": "code",
   "execution_count": 153,
   "metadata": {},
   "outputs": [
    {
     "data": {
      "text/plain": [
       "(7000, 5000)"
      ]
     },
     "execution_count": 153,
     "metadata": {},
     "output_type": "execute_result"
    }
   ],
   "source": [
    "X.shape"
   ]
  },
  {
   "cell_type": "code",
   "execution_count": 154,
   "metadata": {},
   "outputs": [
    {
     "data": {
      "text/plain": [
       "(7000, 1)"
      ]
     },
     "execution_count": 154,
     "metadata": {},
     "output_type": "execute_result"
    }
   ],
   "source": [
    "y.shape"
   ]
  },
  {
   "cell_type": "code",
   "execution_count": 155,
   "metadata": {},
   "outputs": [
    {
     "data": {
      "text/plain": [
       "array([[ 1],\n",
       "       [-1],\n",
       "       [ 1],\n",
       "       ...,\n",
       "       [ 1],\n",
       "       [-1],\n",
       "       [-1]], dtype=int16)"
      ]
     },
     "execution_count": 155,
     "metadata": {},
     "output_type": "execute_result"
    }
   ],
   "source": [
    "y"
   ]
  },
  {
   "cell_type": "code",
   "execution_count": null,
   "metadata": {},
   "outputs": [],
   "source": []
  },
  {
   "cell_type": "markdown",
   "metadata": {},
   "source": [
    "### Instalacja xgboost:\n",
    "- w linux:\n",
    " - pip install xgboost\n",
    " - sprawdzić w Jupyterze czy działa komenda \"from xgboost.sklearn import XGBClassifier\"\n",
    " - jeżeli po powyższym nie działa to drugi krok: conda install libgcc\n",
    "- w windows:\n",
    " - http://xgboost.readthedocs.io/en/latest/build.html#building-on-windows\n",
    " - sprawdzić w Jupyterze czy działa komenda \"from xgboost.sklearn import XGBClassifier\"\n",
    " - jeżeli po powyższym nie działa to drugi krok: wykonać instrukcje z https://www.ibm.com/developerworks/community/blogs/jfp/entry/Installing_XGBoost_For_Anaconda_on_Windows?lang=en "
   ]
  },
  {
   "cell_type": "markdown",
   "metadata": {},
   "source": [
    "### Łączenie klasyfikatorów (_ensembling_)"
   ]
  },
  {
   "cell_type": "code",
   "execution_count": 156,
   "metadata": {},
   "outputs": [
    {
     "name": "stdout",
     "output_type": "stream",
     "text": [
      "[[ 0.   0.   6.  ... 33.6 50.   1. ]\n",
      " [ 0.   0.   1.  ... 26.6 31.   0. ]\n",
      " [ 0.   1.   8.  ... 23.3 32.   1. ]\n",
      " ...\n",
      " [ 0.   0.   5.  ... 26.2 30.   0. ]\n",
      " [ 0.   1.   1.  ... 30.1 47.   1. ]\n",
      " [ 0.   0.   1.  ... 30.4 23.   0. ]]\n",
      "(768, 9)\n",
      "0.3489583333333333\n",
      "Accuracy: 76.77% AUC:  0.8238056897477187\n",
      "Accuracy: 68.90% AUC:  0.6716317767042405\n",
      "Accuracy: 63.78% AUC:  0.590378421900161\n",
      "Accuracy: 68.50% AUC:  0.7759997316156737\n",
      "Accuracy: 72.44% AUC:  0.8011943102522814\n"
     ]
    }
   ],
   "source": [
    "import numpy as np\n",
    "import pandas as pd\n",
    "\n",
    "from sklearn.model_selection import train_test_split\n",
    "from sklearn.metrics import roc_auc_score, accuracy_score\n",
    "\n",
    "\n",
    "from sklearn.linear_model import LogisticRegression \n",
    "from sklearn.tree import DecisionTreeClassifier\n",
    "from sklearn.svm import SVC\n",
    "from sklearn.ensemble import RandomForestClassifier\n",
    "from sklearn.neighbors import KNeighborsClassifier\n",
    "\n",
    "dataset = pd.read_csv('Dane/diabetes.csv').values\n",
    "\n",
    "X = dataset[:,0:9]\n",
    "Y = dataset[:,9]\n",
    "print(dataset)\n",
    "print(X.shape)\n",
    "print(np.mean(Y))\n",
    "\n",
    "seed = 7\n",
    "test_size = 0.33\n",
    "X_train, X_test, y_train, y_test = train_test_split(X, Y, test_size=test_size, random_state=seed)\n",
    "\n",
    "models = [LogisticRegression(),\n",
    "          DecisionTreeClassifier(),\n",
    "          SVC(probability=True), \n",
    "          RandomForestClassifier(),\n",
    "          KNeighborsClassifier(17)]\n",
    "\n",
    "for model in models:\n",
    "\n",
    "    model.fit(X_train, y_train)\n",
    "    y_pred = model.predict_proba(X_test)[:,1]\n",
    "    predictions = np.round(y_pred)\n",
    "\n",
    "    accuracy = accuracy_score(y_test, predictions)\n",
    "    print(\"Accuracy: %.2f%%\" % (accuracy * 100.0), \"AUC: \", roc_auc_score(y_score=y_pred,y_true=y_test))"
   ]
  },
  {
   "cell_type": "code",
   "execution_count": 157,
   "metadata": {},
   "outputs": [],
   "source": [
    "from sklearn.ensemble import VotingClassifier"
   ]
  },
  {
   "cell_type": "code",
   "execution_count": 158,
   "metadata": {},
   "outputs": [],
   "source": [
    "?VotingClassifier"
   ]
  },
  {
   "cell_type": "code",
   "execution_count": 167,
   "metadata": {},
   "outputs": [],
   "source": [
    "models = [LogisticRegression(),\n",
    "          DecisionTreeClassifier(),\n",
    "          SVC(probability=True), \n",
    "          RandomForestClassifier(),\n",
    "          KNeighborsClassifier(17)]\n",
    "\n",
    "voting_clf = VotingClassifier(estimators=[\n",
    "    ('lr', models[0]),\n",
    "    ('dt', models[1]),\n",
    "    ('svm', models[2]),\n",
    "    ('rf', models[3]),\n",
    "    ('knn', models[4])\n",
    "], voting='soft')"
   ]
  },
  {
   "cell_type": "code",
   "execution_count": 169,
   "metadata": {},
   "outputs": [
    {
     "name": "stdout",
     "output_type": "stream",
     "text": [
      "Accuracy: 74.41% AUC:  0.8099168008588299\n",
      "Accuracy: 74.80% AUC:  0.8170960815888352\n",
      "Accuracy: 74.80% AUC:  0.818438003220612\n",
      "Accuracy: 73.62% AUC:  0.8032742887815352\n",
      "Accuracy: 75.98% AUC:  0.8205850778314546\n",
      "Accuracy: 75.98% AUC:  0.8187734836285561\n",
      "Accuracy: 74.02% AUC:  0.8107219538378958\n",
      "Accuracy: 77.17% AUC:  0.8164922168545357\n",
      "Accuracy: 74.80% AUC:  0.8162238325281803\n",
      "Accuracy: 75.59% AUC:  0.8162909286097692\n"
     ]
    }
   ],
   "source": [
    "for _ in range(10):\n",
    "    voting_clf.fit(X_train, y_train)\n",
    "    y_pred = voting_clf.predict_proba(X_test)[:,1]\n",
    "    predictions = np.round(y_pred)\n",
    "\n",
    "    accuracy = accuracy_score(y_test, predictions)\n",
    "    print(\"Accuracy: %.2f%%\" % (accuracy * 100.0), \"AUC: \", roc_auc_score(y_score=y_pred,y_true=y_test))"
   ]
  },
  {
   "cell_type": "markdown",
   "metadata": {},
   "source": [
    "# XGBoost\n",
    "\n",
    "\n",
    "\n",
    "\n",
    "\n"
   ]
  },
  {
   "cell_type": "markdown",
   "metadata": {},
   "source": [
    "XGBoost jest to komitet drzew regresyjnych, który stosuje się zarówno do problemu regresji jak i klasyfikacji. Wartość zwracana przez model (dla $i$-tej obserwacji):\n",
    "\n",
    "$$\\hat{y}_i = \\sum\\limits_{k=1}^K f_k(x_i),$$\n",
    "\n",
    "gdzie $f_k(\\cdot)$ - wartość (liczba rzeczywista) zwracana przez $k$-te drzewo.\n",
    "\n",
    "\n",
    "Predykcja zależy od problemu:\n",
    "\n",
    " 1) Regresja\n",
    "\n",
    "  - predykcja: $ pred_i = \\hat{y}_i $\n",
    "    \n",
    "\n",
    "2) Klasyfikacja binarna\n",
    "\n",
    "  - predykcja: $pred_i = p(x_i) = sigmoid(\\hat{y}_i) = \\frac{1}{1+\\exp{(-\\hat{y}_i)}}$\n",
    "  \n",
    "3) Klasyfikacja wieloklasowa\n",
    "\n",
    "  - predykcja: $pred_i^c =softmax(\\hat{y}_i)^c = \\frac{\\exp{(\\hat{y}_i^c)}}{\\sum\\limits_c\\exp{(\\hat{y}_i^c)}}$\n",
    "\n",
    "\n",
    "\n",
    "\n",
    "Uczenie modelu - budowanie komitetu - polega na konstruowaniu kolejnych drzew w taki sposób, aby zminimalizować fukcję celu:\n",
    "\n",
    "### $$Obj(\\Theta) = L(\\Theta) + \\Omega(\\Theta),$$\n",
    "\n",
    "gdzie\n",
    "\n",
    "$\\Theta$ - model (zestaw konkretnych drzew)\n",
    "\n",
    "$L(\\Theta)$ - funkcja straty (miara dopasowania modelu)\n",
    "\n",
    "$\\Omega(\\Theta)$ - regularyzacja (miara złozoności modelu)\n",
    "\n",
    "Fukcja straty zależy od problemu:\n",
    "\n",
    " 1) Regresja\n",
    "    \n",
    "  - funkcja straty - kwadratowa: $\\sum\\limits_i (y_i - \\hat{y}_i)^2$\n",
    "\n",
    "\n",
    "2) Klasyfikacja binarna\n",
    "\n",
    "  - funkcja straty - log-loss (_binomial cross-entropy_): $ - \\frac{1}{n}\\sum\\limits_{i=1}^n \\big( y_i\\log(p(x_i)) + (1-y_i)\\log(1-p(x_i))   \\big) $\n",
    "\n",
    "3) Klasyfikacja wieloklasowa\n",
    "\n",
    "  - funkcja straty - log-loss (_multinomial cross-entropy_): $ = -\\frac{1}{n}\\sum_{i=1}^n\\sum\\limits_c y_{ij} \\log(p(x_i)_j) $\n",
    "\n",
    "\n",
    "Drzewa uczone są iteracyjnie:\n",
    "\n",
    "\\begin{split}\\hat{y}_i^{(0)} &= 0\\\\\n",
    "\\hat{y}_i^{(1)} &= f_1(x_i) = \\hat{y}_i^{(0)} + f_1(x_i)\\\\\n",
    "\\hat{y}_i^{(2)} &= f_1(x_i) + f_2(x_i)= \\hat{y}_i^{(1)} + f_2(x_i)\\\\\n",
    "&\\dots\\\\\n",
    "\\hat{y}_i^{(t)} &= \\sum_{k=1}^t f_k(x_i)= \\hat{y}_i^{(t-1)} + f_t(x_i)\n",
    "\\end{split}\n",
    "\n",
    "W danym kroku znajdujemy drzewo, które najlepiej poprawia naszą funkcję celu.\n",
    "\n",
    "Regularyzacja:\n",
    "\n",
    "\\begin{split}\\Omega(\\Theta) = \\sum_{i=1}^t\\Omega(f_i),  \\\\\n",
    "\\Omega(f) = \\gamma T + \\frac{1}{2}\\lambda \\sum_{j=1}^T w_j^2,\n",
    "\\end{split}\n",
    "\n",
    "gdzie $T$ - liczba liści w drzewie $f$, $w_j$ wartość zwracana przez drzewo dla obseracji w $j$-tym liściu. Uwaga: wartości $w_{(\\cdot)}$ są wyliczane na podstawie funkcji celu - w przybliżeniu znajdowane są takie, które dają najlepszy wynik.\n",
    "\n",
    "\n",
    "W praktyce dodaje się kolejną regularyzację:\n",
    "\n",
    "$$\\hat{y}_i^{(k)} = \\hat{y}_i^{(k-1)} + \\eta \\cdot f_k(x_i),$$\n",
    "\n",
    "gdzie $\\eta$ - _learning rate_.\n",
    "\n",
    "<br>\n",
    "\n",
    "Przykład modelu złożonego z dwóch drzew:\n",
    "\n",
    "<img src=\"Grafika/xgboost.png\" width = 500>\n",
    "https://xgboost.readthedocs.io/en/latest/model.html"
   ]
  },
  {
   "cell_type": "code",
   "execution_count": 170,
   "metadata": {},
   "outputs": [],
   "source": [
    "from xgboost.sklearn import XGBClassifier"
   ]
  },
  {
   "cell_type": "code",
   "execution_count": 173,
   "metadata": {},
   "outputs": [
    {
     "name": "stdout",
     "output_type": "stream",
     "text": [
      "Accuracy: 72.44% AUC:  0.8097826086956521\n"
     ]
    }
   ],
   "source": [
    "model = XGBClassifier()\n",
    "model.fit(X_train, y_train)\n",
    "\n",
    "y_pred = model.predict_proba(X_test)[:,1]\n",
    "predictions = np.round(y_pred)\n",
    "\n",
    "accuracy = accuracy_score(y_test, predictions)\n",
    "print(\"Accuracy: %.2f%%\" % (accuracy * 100.0), \"AUC: \", roc_auc_score(y_score=y_pred,y_true=y_test))"
   ]
  },
  {
   "cell_type": "code",
   "execution_count": 174,
   "metadata": {},
   "outputs": [
    {
     "data": {
      "text/plain": [
       "{'base_score': 0.5,\n",
       " 'booster': 'gbtree',\n",
       " 'colsample_bylevel': 1,\n",
       " 'colsample_bynode': 1,\n",
       " 'colsample_bytree': 1,\n",
       " 'gamma': 0,\n",
       " 'learning_rate': 0.1,\n",
       " 'max_delta_step': 0,\n",
       " 'max_depth': 3,\n",
       " 'min_child_weight': 1,\n",
       " 'missing': None,\n",
       " 'n_estimators': 100,\n",
       " 'n_jobs': 1,\n",
       " 'nthread': None,\n",
       " 'objective': 'binary:logistic',\n",
       " 'random_state': 0,\n",
       " 'reg_alpha': 0,\n",
       " 'reg_lambda': 1,\n",
       " 'scale_pos_weight': 1,\n",
       " 'seed': None,\n",
       " 'silent': None,\n",
       " 'subsample': 1,\n",
       " 'verbosity': 1}"
      ]
     },
     "execution_count": 174,
     "metadata": {},
     "output_type": "execute_result"
    }
   ],
   "source": [
    "model.get_params()"
   ]
  },
  {
   "cell_type": "markdown",
   "metadata": {},
   "source": [
    "## Jak szukać parametrów?\n",
    "\n",
    "W przypadku klasyfikatora XGBoost jest to bardzo problematyczna kwestia bo parametrów jest mnóstwo. Dlatego zwykły \"grid search\" odpada 0 nigdy nie doczekamy się wyniku... Nie ma jedynego słusznego rozwiązania. Na pewno warto szukać w internecie doniesienia jak robią to inni ludzie i wykorzystać ich doświadczenia (uwaga na rzetelność źródeł - w internecie można często trafić na materiały, których autorami nie są profesjonaliści...).\n",
    "\n",
    "### Przykładowy schemat poszukiwania\n",
    "\n",
    "Jednym z sensownych pomysłów jest zaczęcie od małej liczby drzew i dużego learning rate. Potem dla tych parametrów szukanie optymalnych innych parametrów, a na koniec zwiększenie liczby drzew i zmiejszenie learnig rate (rówinież analizując różne wartości)."
   ]
  },
  {
   "cell_type": "code",
   "execution_count": 175,
   "metadata": {},
   "outputs": [
    {
     "data": {
      "text/plain": [
       "GridSearchCV(cv='warn', error_score='raise-deprecating',\n",
       "             estimator=XGBClassifier(base_score=0.5, booster='gbtree',\n",
       "                                     colsample_bylevel=1, colsample_bynode=1,\n",
       "                                     colsample_bytree=1, gamma=0,\n",
       "                                     learning_rate=0.1, max_delta_step=0,\n",
       "                                     max_depth=3, min_child_weight=1,\n",
       "                                     missing=None, n_estimators=100, n_jobs=1,\n",
       "                                     nthread=None, objective='binary:logistic',\n",
       "                                     random_state=0, reg_alpha=0, reg_lambda=1,\n",
       "                                     scale_pos_weight=1, seed=None, silent=None,\n",
       "                                     subsample=1, verbosity=1),\n",
       "             iid='warn', n_jobs=None,\n",
       "             param_grid={'learning_rate': [0.1, 0.3, 0.5],\n",
       "                         'n_estimators': [2, 5, 10, 20, 50]},\n",
       "             pre_dispatch='2*n_jobs', refit=True, return_train_score=False,\n",
       "             scoring=None, verbose=0)"
      ]
     },
     "execution_count": 175,
     "metadata": {},
     "output_type": "execute_result"
    }
   ],
   "source": [
    "from sklearn.model_selection import GridSearchCV\n",
    "\n",
    "model = XGBClassifier()\n",
    "\n",
    "params = {\n",
    "    'n_estimators': [2, 5, 10, 20, 50],\n",
    "    'learning_rate': [0.1, 0.3, 0.5]\n",
    "}\n",
    "\n",
    "gscv = GridSearchCV(param_grid=params, estimator=model)\n",
    "gscv.fit(X_train, y_train)"
   ]
  },
  {
   "cell_type": "code",
   "execution_count": 176,
   "metadata": {
    "collapsed": true
   },
   "outputs": [
    {
     "data": {
      "text/plain": [
       "{'mean_fit_time': array([0.0024306 , 0.00365988, 0.00615478, 0.01247112, 0.02559861,\n",
       "        0.00232617, 0.0029916 , 0.00531864, 0.01262983, 0.02477058,\n",
       "        0.00232752, 0.00332451, 0.00605885, 0.01181746, 0.02593017]),\n",
       " 'std_fit_time': array([5.96343676e-04, 4.97396103e-04, 8.51653213e-04, 7.09641205e-04,\n",
       "        4.69067144e-04, 4.68897739e-04, 4.89903609e-07, 4.69178808e-04,\n",
       "        9.43194211e-04, 2.31144623e-03, 4.70640060e-04, 4.70190333e-04,\n",
       "        8.20115377e-04, 1.00214010e-03, 1.40972791e-03]),\n",
       " 'mean_score_time': array([0.00058413, 0.00099746, 0.00132871, 0.00066463, 0.00117445,\n",
       "        0.00099738, 0.00132966, 0.00033243, 0.00099889, 0.00099762,\n",
       "        0.00033236, 0.00033228, 0.00092228, 0.00099762, 0.00099707]),\n",
       " 'std_score_time': array([4.32387458e-04, 1.74478677e-06, 4.69853884e-04, 4.69965550e-04,\n",
       "        2.51195519e-04, 4.49566384e-07, 4.70696044e-04, 4.70134046e-04,\n",
       "        1.67836444e-06, 4.49566384e-07, 4.70021655e-04, 4.69909263e-04,\n",
       "        1.05258375e-04, 4.89903609e-07, 5.15042996e-07]),\n",
       " 'param_learning_rate': masked_array(data=[0.1, 0.1, 0.1, 0.1, 0.1, 0.3, 0.3, 0.3, 0.3, 0.3, 0.5,\n",
       "                    0.5, 0.5, 0.5, 0.5],\n",
       "              mask=[False, False, False, False, False, False, False, False,\n",
       "                    False, False, False, False, False, False, False],\n",
       "        fill_value='?',\n",
       "             dtype=object),\n",
       " 'param_n_estimators': masked_array(data=[2, 5, 10, 20, 50, 2, 5, 10, 20, 50, 2, 5, 10, 20, 50],\n",
       "              mask=[False, False, False, False, False, False, False, False,\n",
       "                    False, False, False, False, False, False, False],\n",
       "        fill_value='?',\n",
       "             dtype=object),\n",
       " 'params': [{'learning_rate': 0.1, 'n_estimators': 2},\n",
       "  {'learning_rate': 0.1, 'n_estimators': 5},\n",
       "  {'learning_rate': 0.1, 'n_estimators': 10},\n",
       "  {'learning_rate': 0.1, 'n_estimators': 20},\n",
       "  {'learning_rate': 0.1, 'n_estimators': 50},\n",
       "  {'learning_rate': 0.3, 'n_estimators': 2},\n",
       "  {'learning_rate': 0.3, 'n_estimators': 5},\n",
       "  {'learning_rate': 0.3, 'n_estimators': 10},\n",
       "  {'learning_rate': 0.3, 'n_estimators': 20},\n",
       "  {'learning_rate': 0.3, 'n_estimators': 50},\n",
       "  {'learning_rate': 0.5, 'n_estimators': 2},\n",
       "  {'learning_rate': 0.5, 'n_estimators': 5},\n",
       "  {'learning_rate': 0.5, 'n_estimators': 10},\n",
       "  {'learning_rate': 0.5, 'n_estimators': 20},\n",
       "  {'learning_rate': 0.5, 'n_estimators': 50}],\n",
       " 'split0_test_score': array([0.75581395, 0.76744186, 0.79069767, 0.79651163, 0.78488372,\n",
       "        0.73255814, 0.78488372, 0.77906977, 0.77325581, 0.77325581,\n",
       "        0.75581395, 0.77325581, 0.77325581, 0.75581395, 0.76162791]),\n",
       " 'split1_test_score': array([0.73837209, 0.73837209, 0.75      , 0.75581395, 0.74418605,\n",
       "        0.73837209, 0.74418605, 0.74418605, 0.75581395, 0.75      ,\n",
       "        0.73837209, 0.73837209, 0.73255814, 0.73255814, 0.73255814]),\n",
       " 'split2_test_score': array([0.71176471, 0.70588235, 0.75294118, 0.77058824, 0.78235294,\n",
       "        0.71764706, 0.77647059, 0.77647059, 0.78823529, 0.75882353,\n",
       "        0.72352941, 0.75294118, 0.74705882, 0.75294118, 0.70588235]),\n",
       " 'mean_test_score': array([0.73540856, 0.73735409, 0.76459144, 0.77431907, 0.77042802,\n",
       "        0.72957198, 0.76848249, 0.76653696, 0.77237354, 0.76070039,\n",
       "        0.73929961, 0.75486381, 0.75097276, 0.74708171, 0.73346304]),\n",
       " 'std_test_score': array([0.01808773, 0.02511705, 0.01855261, 0.01685238, 0.01863865,\n",
       "        0.00871383, 0.01756867, 0.01588604, 0.01323764, 0.00960366,\n",
       "        0.01318348, 0.01433277, 0.0168729 , 0.01036613, 0.02274454]),\n",
       " 'rank_test_score': array([13, 12,  6,  1,  3, 15,  4,  5,  2,  7, 11,  8,  9, 10, 14])}"
      ]
     },
     "execution_count": 176,
     "metadata": {},
     "output_type": "execute_result"
    }
   ],
   "source": [
    "gscv.cv_results_"
   ]
  },
  {
   "cell_type": "code",
   "execution_count": 177,
   "metadata": {},
   "outputs": [
    {
     "data": {
      "text/plain": [
       "{'learning_rate': 0.1, 'n_estimators': 20}"
      ]
     },
     "execution_count": 177,
     "metadata": {},
     "output_type": "execute_result"
    }
   ],
   "source": [
    "gscv.best_params_"
   ]
  },
  {
   "cell_type": "markdown",
   "metadata": {},
   "source": [
    "Jesteśmy na skraju learnig_rate, należy poszerzyć zekres poszukiwań. "
   ]
  },
  {
   "cell_type": "code",
   "execution_count": 178,
   "metadata": {},
   "outputs": [
    {
     "name": "stdout",
     "output_type": "stream",
     "text": [
      "{'learning_rate': 0.1, 'n_estimators': 20}\n"
     ]
    }
   ],
   "source": [
    "model = XGBClassifier()\n",
    "\n",
    "params = {\n",
    "    'n_estimators': [2, 5, 10, 20, 50],\n",
    "    'learning_rate': [0.01, 0.05, 0.1, 0.3, 0.5]\n",
    "}\n",
    "\n",
    "gscv2 = GridSearchCV(param_grid=params, estimator=model)\n",
    "gscv2.fit(X_train, y_train)\n",
    "print(gscv2.best_params_)"
   ]
  },
  {
   "cell_type": "code",
   "execution_count": 182,
   "metadata": {},
   "outputs": [
    {
     "name": "stdout",
     "output_type": "stream",
     "text": [
      "{'max_depth': 3, 'min_child_weight': 5}\n"
     ]
    }
   ],
   "source": [
    "model = XGBClassifier(**gscv2.best_params_)\n",
    "\n",
    "params = {\n",
    "    'max_depth': [2, 3, 5, 7, 10],\n",
    "    'min_child_weight': [3, 5, 7, 10, 20]\n",
    "}\n",
    "\n",
    "gscv3 = GridSearchCV(param_grid=params, estimator=model)\n",
    "gscv3.fit(X_train, y_train)\n",
    "print(gscv3.best_params_)"
   ]
  },
  {
   "cell_type": "code",
   "execution_count": 183,
   "metadata": {},
   "outputs": [
    {
     "data": {
      "text/plain": [
       "XGBClassifier(base_score=0.5, booster='gbtree', colsample_bylevel=1,\n",
       "              colsample_bynode=1, colsample_bytree=1, gamma=0,\n",
       "              learning_rate=0.1, max_delta_step=0, max_depth=3,\n",
       "              min_child_weight=5, missing=None, n_estimators=20, n_jobs=1,\n",
       "              nthread=None, objective='binary:logistic', random_state=0,\n",
       "              reg_alpha=0, reg_lambda=1, scale_pos_weight=1, seed=None,\n",
       "              silent=None, subsample=1, verbosity=1)"
      ]
     },
     "execution_count": 183,
     "metadata": {},
     "output_type": "execute_result"
    }
   ],
   "source": [
    "gscv3.best_estimator_"
   ]
  },
  {
   "cell_type": "code",
   "execution_count": 184,
   "metadata": {},
   "outputs": [
    {
     "name": "stdout",
     "output_type": "stream",
     "text": [
      "Accuracy: 74.80% AUC:  0.8295759527643585\n"
     ]
    }
   ],
   "source": [
    "y_pred = gscv3.best_estimator_.predict_proba(X_test)[:,1]\n",
    "predictions = np.round(y_pred)\n",
    "\n",
    "accuracy = accuracy_score(y_test, predictions)\n",
    "print(\"Accuracy: %.2f%%\" % (accuracy * 100.0), \"AUC: \", roc_auc_score(y_score=y_pred,y_true=y_test))"
   ]
  },
  {
   "cell_type": "markdown",
   "metadata": {},
   "source": [
    "### Randomizowana optymalizacja parametrów\n",
    "\n",
    "Dobrym sposobem na przyspieszenie procesu optymalizacji parametrów jest randomizacja. Polega to na tym, że zamiast sprawdzać konkrentnych kombinacji parametrów, sprawdzamy losowe kombinacje. Wówczas określamy sposób w jaki wartości mają być losowane i sprawdzamy model dla określonej liczby losowych kombinacji.\n",
    "\n",
    "Okazuje się, że w praktyce takie podejście działa bardzo dobrze. Kilkadziesiąt (ponad 50) losowań jest rozsądną liczbą, ale im więcej tym lepiej. I tak będzie to dużo mniej niż sprawdzenie wszystkich kombinacji w grid search'u.\n"
   ]
  },
  {
   "cell_type": "code",
   "execution_count": 185,
   "metadata": {},
   "outputs": [],
   "source": [
    "from sklearn.model_selection import RandomizedSearchCV"
   ]
  },
  {
   "cell_type": "code",
   "execution_count": 186,
   "metadata": {},
   "outputs": [],
   "source": [
    "import scipy.stats as ss"
   ]
  },
  {
   "cell_type": "code",
   "execution_count": 187,
   "metadata": {},
   "outputs": [
    {
     "name": "stdout",
     "output_type": "stream",
     "text": [
      "{'learning_rate': 0.3489710192452666, 'max_depth': 12, 'min_child_weight': 11, 'n_estimators': 14, 'reg_lambda': 2.1255134095069637}\n"
     ]
    }
   ],
   "source": [
    "model = XGBClassifier()\n",
    "\n",
    "params = {\n",
    "    'n_estimators': ss.randint(10, 300),\n",
    "    'learning_rate': ss.uniform(0.001, 0.6),\n",
    "    'max_depth': ss.randint(3, 15),\n",
    "    'min_child_weight': ss.randint(3, 15),\n",
    "    'reg_lambda': ss.uniform(0.001, 4)\n",
    "}\n",
    "\n",
    "rscv  = RandomizedSearchCV(estimator=model, \n",
    "                          param_distributions=params,\n",
    "                          n_iter=100)\n",
    "rscv.fit(X_train, y_train)\n",
    "print(rscv.best_params_)"
   ]
  },
  {
   "cell_type": "code",
   "execution_count": 188,
   "metadata": {},
   "outputs": [
    {
     "name": "stdout",
     "output_type": "stream",
     "text": [
      "Accuracy: 73.62% AUC:  0.822698604401503\n"
     ]
    }
   ],
   "source": [
    "y_pred = rscv.best_estimator_.predict_proba(X_test)[:,1]\n",
    "predictions = np.round(y_pred)\n",
    "\n",
    "accuracy = accuracy_score(y_test, predictions)\n",
    "print(\"Accuracy: %.2f%%\" % (accuracy * 100.0), \"AUC: \", roc_auc_score(y_score=y_pred,y_true=y_test))"
   ]
  },
  {
   "cell_type": "code",
   "execution_count": 189,
   "metadata": {},
   "outputs": [
    {
     "name": "stdout",
     "output_type": "stream",
     "text": [
      "{'learning_rate': 0.46474896966978907, 'max_depth': 6, 'min_child_weight': 12, 'n_estimators': 16, 'reg_lambda': 4.584841439979025}\n"
     ]
    }
   ],
   "source": [
    "model = XGBClassifier()\n",
    "\n",
    "params = {\n",
    "    'n_estimators': ss.randint(10, 30),\n",
    "    'learning_rate': ss.uniform(0.2, 0.4),\n",
    "    'max_depth': ss.randint(3, 15),\n",
    "    'min_child_weight': ss.randint(8, 15),\n",
    "    'reg_lambda': ss.uniform(1, 4)\n",
    "}\n",
    "\n",
    "rscv2  = RandomizedSearchCV(estimator=model, \n",
    "                          param_distributions=params,\n",
    "                          n_iter=100)\n",
    "rscv2.fit(X_train, y_train)\n",
    "print(rscv2.best_params_)"
   ]
  },
  {
   "cell_type": "code",
   "execution_count": 190,
   "metadata": {},
   "outputs": [
    {
     "name": "stdout",
     "output_type": "stream",
     "text": [
      "Accuracy: 73.23% AUC:  0.8105206655931294\n"
     ]
    }
   ],
   "source": [
    "y_pred = rscv2.best_estimator_.predict_proba(X_test)[:,1]\n",
    "predictions = np.round(y_pred)\n",
    "\n",
    "accuracy = accuracy_score(y_test, predictions)\n",
    "print(\"Accuracy: %.2f%%\" % (accuracy * 100.0), \"AUC: \", roc_auc_score(y_score=y_pred,y_true=y_test))"
   ]
  },
  {
   "cell_type": "markdown",
   "metadata": {},
   "source": [
    "## Case study: dane \"adults\".\n",
    "\n",
    "Zadanie: Przygotuj dane do modelowania i znajdź najlepszą konfigurację dla XGBoost'a."
   ]
  },
  {
   "cell_type": "code",
   "execution_count": 191,
   "metadata": {},
   "outputs": [],
   "source": [
    "# Wczytaj dane treningowe i testowe\n",
    "\n",
    "import pandas as pd\n",
    "import numpy as np\n",
    "train_set = pd.read_csv('Dane/adult/adult.data', sep = \",\",skipinitialspace=True,  header = None)\n",
    "test_set = pd.read_csv('Dane/adult/adult.test', sep = \",\" ,skiprows = 1, skipinitialspace=True, header = None) # Make sure to skip a row for the test set"
   ]
  },
  {
   "cell_type": "code",
   "execution_count": 192,
   "metadata": {},
   "outputs": [
    {
     "data": {
      "text/html": [
       "<div>\n",
       "<style scoped>\n",
       "    .dataframe tbody tr th:only-of-type {\n",
       "        vertical-align: middle;\n",
       "    }\n",
       "\n",
       "    .dataframe tbody tr th {\n",
       "        vertical-align: top;\n",
       "    }\n",
       "\n",
       "    .dataframe thead th {\n",
       "        text-align: right;\n",
       "    }\n",
       "</style>\n",
       "<table border=\"1\" class=\"dataframe\">\n",
       "  <thead>\n",
       "    <tr style=\"text-align: right;\">\n",
       "      <th></th>\n",
       "      <th>0</th>\n",
       "      <th>1</th>\n",
       "      <th>2</th>\n",
       "      <th>3</th>\n",
       "      <th>4</th>\n",
       "      <th>5</th>\n",
       "      <th>6</th>\n",
       "      <th>7</th>\n",
       "      <th>8</th>\n",
       "      <th>9</th>\n",
       "      <th>10</th>\n",
       "      <th>11</th>\n",
       "      <th>12</th>\n",
       "      <th>13</th>\n",
       "      <th>14</th>\n",
       "    </tr>\n",
       "  </thead>\n",
       "  <tbody>\n",
       "    <tr>\n",
       "      <td>0</td>\n",
       "      <td>39</td>\n",
       "      <td>State-gov</td>\n",
       "      <td>77516</td>\n",
       "      <td>Bachelors</td>\n",
       "      <td>13</td>\n",
       "      <td>Never-married</td>\n",
       "      <td>Adm-clerical</td>\n",
       "      <td>Not-in-family</td>\n",
       "      <td>White</td>\n",
       "      <td>Male</td>\n",
       "      <td>2174</td>\n",
       "      <td>0</td>\n",
       "      <td>40</td>\n",
       "      <td>United-States</td>\n",
       "      <td>&lt;=50K</td>\n",
       "    </tr>\n",
       "    <tr>\n",
       "      <td>1</td>\n",
       "      <td>50</td>\n",
       "      <td>Self-emp-not-inc</td>\n",
       "      <td>83311</td>\n",
       "      <td>Bachelors</td>\n",
       "      <td>13</td>\n",
       "      <td>Married-civ-spouse</td>\n",
       "      <td>Exec-managerial</td>\n",
       "      <td>Husband</td>\n",
       "      <td>White</td>\n",
       "      <td>Male</td>\n",
       "      <td>0</td>\n",
       "      <td>0</td>\n",
       "      <td>13</td>\n",
       "      <td>United-States</td>\n",
       "      <td>&lt;=50K</td>\n",
       "    </tr>\n",
       "    <tr>\n",
       "      <td>2</td>\n",
       "      <td>38</td>\n",
       "      <td>Private</td>\n",
       "      <td>215646</td>\n",
       "      <td>HS-grad</td>\n",
       "      <td>9</td>\n",
       "      <td>Divorced</td>\n",
       "      <td>Handlers-cleaners</td>\n",
       "      <td>Not-in-family</td>\n",
       "      <td>White</td>\n",
       "      <td>Male</td>\n",
       "      <td>0</td>\n",
       "      <td>0</td>\n",
       "      <td>40</td>\n",
       "      <td>United-States</td>\n",
       "      <td>&lt;=50K</td>\n",
       "    </tr>\n",
       "    <tr>\n",
       "      <td>3</td>\n",
       "      <td>53</td>\n",
       "      <td>Private</td>\n",
       "      <td>234721</td>\n",
       "      <td>11th</td>\n",
       "      <td>7</td>\n",
       "      <td>Married-civ-spouse</td>\n",
       "      <td>Handlers-cleaners</td>\n",
       "      <td>Husband</td>\n",
       "      <td>Black</td>\n",
       "      <td>Male</td>\n",
       "      <td>0</td>\n",
       "      <td>0</td>\n",
       "      <td>40</td>\n",
       "      <td>United-States</td>\n",
       "      <td>&lt;=50K</td>\n",
       "    </tr>\n",
       "    <tr>\n",
       "      <td>4</td>\n",
       "      <td>28</td>\n",
       "      <td>Private</td>\n",
       "      <td>338409</td>\n",
       "      <td>Bachelors</td>\n",
       "      <td>13</td>\n",
       "      <td>Married-civ-spouse</td>\n",
       "      <td>Prof-specialty</td>\n",
       "      <td>Wife</td>\n",
       "      <td>Black</td>\n",
       "      <td>Female</td>\n",
       "      <td>0</td>\n",
       "      <td>0</td>\n",
       "      <td>40</td>\n",
       "      <td>Cuba</td>\n",
       "      <td>&lt;=50K</td>\n",
       "    </tr>\n",
       "    <tr>\n",
       "      <td>5</td>\n",
       "      <td>37</td>\n",
       "      <td>Private</td>\n",
       "      <td>284582</td>\n",
       "      <td>Masters</td>\n",
       "      <td>14</td>\n",
       "      <td>Married-civ-spouse</td>\n",
       "      <td>Exec-managerial</td>\n",
       "      <td>Wife</td>\n",
       "      <td>White</td>\n",
       "      <td>Female</td>\n",
       "      <td>0</td>\n",
       "      <td>0</td>\n",
       "      <td>40</td>\n",
       "      <td>United-States</td>\n",
       "      <td>&lt;=50K</td>\n",
       "    </tr>\n",
       "    <tr>\n",
       "      <td>6</td>\n",
       "      <td>49</td>\n",
       "      <td>Private</td>\n",
       "      <td>160187</td>\n",
       "      <td>9th</td>\n",
       "      <td>5</td>\n",
       "      <td>Married-spouse-absent</td>\n",
       "      <td>Other-service</td>\n",
       "      <td>Not-in-family</td>\n",
       "      <td>Black</td>\n",
       "      <td>Female</td>\n",
       "      <td>0</td>\n",
       "      <td>0</td>\n",
       "      <td>16</td>\n",
       "      <td>Jamaica</td>\n",
       "      <td>&lt;=50K</td>\n",
       "    </tr>\n",
       "    <tr>\n",
       "      <td>7</td>\n",
       "      <td>52</td>\n",
       "      <td>Self-emp-not-inc</td>\n",
       "      <td>209642</td>\n",
       "      <td>HS-grad</td>\n",
       "      <td>9</td>\n",
       "      <td>Married-civ-spouse</td>\n",
       "      <td>Exec-managerial</td>\n",
       "      <td>Husband</td>\n",
       "      <td>White</td>\n",
       "      <td>Male</td>\n",
       "      <td>0</td>\n",
       "      <td>0</td>\n",
       "      <td>45</td>\n",
       "      <td>United-States</td>\n",
       "      <td>&gt;50K</td>\n",
       "    </tr>\n",
       "    <tr>\n",
       "      <td>8</td>\n",
       "      <td>31</td>\n",
       "      <td>Private</td>\n",
       "      <td>45781</td>\n",
       "      <td>Masters</td>\n",
       "      <td>14</td>\n",
       "      <td>Never-married</td>\n",
       "      <td>Prof-specialty</td>\n",
       "      <td>Not-in-family</td>\n",
       "      <td>White</td>\n",
       "      <td>Female</td>\n",
       "      <td>14084</td>\n",
       "      <td>0</td>\n",
       "      <td>50</td>\n",
       "      <td>United-States</td>\n",
       "      <td>&gt;50K</td>\n",
       "    </tr>\n",
       "    <tr>\n",
       "      <td>9</td>\n",
       "      <td>42</td>\n",
       "      <td>Private</td>\n",
       "      <td>159449</td>\n",
       "      <td>Bachelors</td>\n",
       "      <td>13</td>\n",
       "      <td>Married-civ-spouse</td>\n",
       "      <td>Exec-managerial</td>\n",
       "      <td>Husband</td>\n",
       "      <td>White</td>\n",
       "      <td>Male</td>\n",
       "      <td>5178</td>\n",
       "      <td>0</td>\n",
       "      <td>40</td>\n",
       "      <td>United-States</td>\n",
       "      <td>&gt;50K</td>\n",
       "    </tr>\n",
       "  </tbody>\n",
       "</table>\n",
       "</div>"
      ],
      "text/plain": [
       "   0                 1       2          3   4                      5   \\\n",
       "0  39         State-gov   77516  Bachelors  13          Never-married   \n",
       "1  50  Self-emp-not-inc   83311  Bachelors  13     Married-civ-spouse   \n",
       "2  38           Private  215646    HS-grad   9               Divorced   \n",
       "3  53           Private  234721       11th   7     Married-civ-spouse   \n",
       "4  28           Private  338409  Bachelors  13     Married-civ-spouse   \n",
       "5  37           Private  284582    Masters  14     Married-civ-spouse   \n",
       "6  49           Private  160187        9th   5  Married-spouse-absent   \n",
       "7  52  Self-emp-not-inc  209642    HS-grad   9     Married-civ-spouse   \n",
       "8  31           Private   45781    Masters  14          Never-married   \n",
       "9  42           Private  159449  Bachelors  13     Married-civ-spouse   \n",
       "\n",
       "                  6              7      8       9      10  11  12  \\\n",
       "0       Adm-clerical  Not-in-family  White    Male   2174   0  40   \n",
       "1    Exec-managerial        Husband  White    Male      0   0  13   \n",
       "2  Handlers-cleaners  Not-in-family  White    Male      0   0  40   \n",
       "3  Handlers-cleaners        Husband  Black    Male      0   0  40   \n",
       "4     Prof-specialty           Wife  Black  Female      0   0  40   \n",
       "5    Exec-managerial           Wife  White  Female      0   0  40   \n",
       "6      Other-service  Not-in-family  Black  Female      0   0  16   \n",
       "7    Exec-managerial        Husband  White    Male      0   0  45   \n",
       "8     Prof-specialty  Not-in-family  White  Female  14084   0  50   \n",
       "9    Exec-managerial        Husband  White    Male   5178   0  40   \n",
       "\n",
       "              13     14  \n",
       "0  United-States  <=50K  \n",
       "1  United-States  <=50K  \n",
       "2  United-States  <=50K  \n",
       "3  United-States  <=50K  \n",
       "4           Cuba  <=50K  \n",
       "5  United-States  <=50K  \n",
       "6        Jamaica  <=50K  \n",
       "7  United-States   >50K  \n",
       "8  United-States   >50K  \n",
       "9  United-States   >50K  "
      ]
     },
     "execution_count": 192,
     "metadata": {},
     "output_type": "execute_result"
    }
   ],
   "source": [
    "train_set.head(10)"
   ]
  },
  {
   "cell_type": "code",
   "execution_count": 193,
   "metadata": {},
   "outputs": [],
   "source": [
    "col_labels = ['age', 'workclass', 'fnlwgt', 'education', 'education_num', 'marital_status', 'occupation', \n",
    "              'relationship', 'race', 'sex', 'capital_gain', 'capital_loss', 'hours_per_week', 'native_country',\n",
    "             'wage_class']\n",
    "train_set.columns = col_labels\n",
    "test_set.columns = col_labels"
   ]
  },
  {
   "cell_type": "code",
   "execution_count": 194,
   "metadata": {},
   "outputs": [
    {
     "data": {
      "text/html": [
       "<div>\n",
       "<style scoped>\n",
       "    .dataframe tbody tr th:only-of-type {\n",
       "        vertical-align: middle;\n",
       "    }\n",
       "\n",
       "    .dataframe tbody tr th {\n",
       "        vertical-align: top;\n",
       "    }\n",
       "\n",
       "    .dataframe thead th {\n",
       "        text-align: right;\n",
       "    }\n",
       "</style>\n",
       "<table border=\"1\" class=\"dataframe\">\n",
       "  <thead>\n",
       "    <tr style=\"text-align: right;\">\n",
       "      <th></th>\n",
       "      <th>age</th>\n",
       "      <th>workclass</th>\n",
       "      <th>fnlwgt</th>\n",
       "      <th>education</th>\n",
       "      <th>education_num</th>\n",
       "      <th>marital_status</th>\n",
       "      <th>occupation</th>\n",
       "      <th>relationship</th>\n",
       "      <th>race</th>\n",
       "      <th>sex</th>\n",
       "      <th>capital_gain</th>\n",
       "      <th>capital_loss</th>\n",
       "      <th>hours_per_week</th>\n",
       "      <th>native_country</th>\n",
       "      <th>wage_class</th>\n",
       "    </tr>\n",
       "  </thead>\n",
       "  <tbody>\n",
       "    <tr>\n",
       "      <td>0</td>\n",
       "      <td>39</td>\n",
       "      <td>State-gov</td>\n",
       "      <td>77516</td>\n",
       "      <td>Bachelors</td>\n",
       "      <td>13</td>\n",
       "      <td>Never-married</td>\n",
       "      <td>Adm-clerical</td>\n",
       "      <td>Not-in-family</td>\n",
       "      <td>White</td>\n",
       "      <td>Male</td>\n",
       "      <td>2174</td>\n",
       "      <td>0</td>\n",
       "      <td>40</td>\n",
       "      <td>United-States</td>\n",
       "      <td>&lt;=50K</td>\n",
       "    </tr>\n",
       "    <tr>\n",
       "      <td>1</td>\n",
       "      <td>50</td>\n",
       "      <td>Self-emp-not-inc</td>\n",
       "      <td>83311</td>\n",
       "      <td>Bachelors</td>\n",
       "      <td>13</td>\n",
       "      <td>Married-civ-spouse</td>\n",
       "      <td>Exec-managerial</td>\n",
       "      <td>Husband</td>\n",
       "      <td>White</td>\n",
       "      <td>Male</td>\n",
       "      <td>0</td>\n",
       "      <td>0</td>\n",
       "      <td>13</td>\n",
       "      <td>United-States</td>\n",
       "      <td>&lt;=50K</td>\n",
       "    </tr>\n",
       "    <tr>\n",
       "      <td>2</td>\n",
       "      <td>38</td>\n",
       "      <td>Private</td>\n",
       "      <td>215646</td>\n",
       "      <td>HS-grad</td>\n",
       "      <td>9</td>\n",
       "      <td>Divorced</td>\n",
       "      <td>Handlers-cleaners</td>\n",
       "      <td>Not-in-family</td>\n",
       "      <td>White</td>\n",
       "      <td>Male</td>\n",
       "      <td>0</td>\n",
       "      <td>0</td>\n",
       "      <td>40</td>\n",
       "      <td>United-States</td>\n",
       "      <td>&lt;=50K</td>\n",
       "    </tr>\n",
       "    <tr>\n",
       "      <td>3</td>\n",
       "      <td>53</td>\n",
       "      <td>Private</td>\n",
       "      <td>234721</td>\n",
       "      <td>11th</td>\n",
       "      <td>7</td>\n",
       "      <td>Married-civ-spouse</td>\n",
       "      <td>Handlers-cleaners</td>\n",
       "      <td>Husband</td>\n",
       "      <td>Black</td>\n",
       "      <td>Male</td>\n",
       "      <td>0</td>\n",
       "      <td>0</td>\n",
       "      <td>40</td>\n",
       "      <td>United-States</td>\n",
       "      <td>&lt;=50K</td>\n",
       "    </tr>\n",
       "    <tr>\n",
       "      <td>4</td>\n",
       "      <td>28</td>\n",
       "      <td>Private</td>\n",
       "      <td>338409</td>\n",
       "      <td>Bachelors</td>\n",
       "      <td>13</td>\n",
       "      <td>Married-civ-spouse</td>\n",
       "      <td>Prof-specialty</td>\n",
       "      <td>Wife</td>\n",
       "      <td>Black</td>\n",
       "      <td>Female</td>\n",
       "      <td>0</td>\n",
       "      <td>0</td>\n",
       "      <td>40</td>\n",
       "      <td>Cuba</td>\n",
       "      <td>&lt;=50K</td>\n",
       "    </tr>\n",
       "    <tr>\n",
       "      <td>...</td>\n",
       "      <td>...</td>\n",
       "      <td>...</td>\n",
       "      <td>...</td>\n",
       "      <td>...</td>\n",
       "      <td>...</td>\n",
       "      <td>...</td>\n",
       "      <td>...</td>\n",
       "      <td>...</td>\n",
       "      <td>...</td>\n",
       "      <td>...</td>\n",
       "      <td>...</td>\n",
       "      <td>...</td>\n",
       "      <td>...</td>\n",
       "      <td>...</td>\n",
       "      <td>...</td>\n",
       "    </tr>\n",
       "    <tr>\n",
       "      <td>32556</td>\n",
       "      <td>27</td>\n",
       "      <td>Private</td>\n",
       "      <td>257302</td>\n",
       "      <td>Assoc-acdm</td>\n",
       "      <td>12</td>\n",
       "      <td>Married-civ-spouse</td>\n",
       "      <td>Tech-support</td>\n",
       "      <td>Wife</td>\n",
       "      <td>White</td>\n",
       "      <td>Female</td>\n",
       "      <td>0</td>\n",
       "      <td>0</td>\n",
       "      <td>38</td>\n",
       "      <td>United-States</td>\n",
       "      <td>&lt;=50K</td>\n",
       "    </tr>\n",
       "    <tr>\n",
       "      <td>32557</td>\n",
       "      <td>40</td>\n",
       "      <td>Private</td>\n",
       "      <td>154374</td>\n",
       "      <td>HS-grad</td>\n",
       "      <td>9</td>\n",
       "      <td>Married-civ-spouse</td>\n",
       "      <td>Machine-op-inspct</td>\n",
       "      <td>Husband</td>\n",
       "      <td>White</td>\n",
       "      <td>Male</td>\n",
       "      <td>0</td>\n",
       "      <td>0</td>\n",
       "      <td>40</td>\n",
       "      <td>United-States</td>\n",
       "      <td>&gt;50K</td>\n",
       "    </tr>\n",
       "    <tr>\n",
       "      <td>32558</td>\n",
       "      <td>58</td>\n",
       "      <td>Private</td>\n",
       "      <td>151910</td>\n",
       "      <td>HS-grad</td>\n",
       "      <td>9</td>\n",
       "      <td>Widowed</td>\n",
       "      <td>Adm-clerical</td>\n",
       "      <td>Unmarried</td>\n",
       "      <td>White</td>\n",
       "      <td>Female</td>\n",
       "      <td>0</td>\n",
       "      <td>0</td>\n",
       "      <td>40</td>\n",
       "      <td>United-States</td>\n",
       "      <td>&lt;=50K</td>\n",
       "    </tr>\n",
       "    <tr>\n",
       "      <td>32559</td>\n",
       "      <td>22</td>\n",
       "      <td>Private</td>\n",
       "      <td>201490</td>\n",
       "      <td>HS-grad</td>\n",
       "      <td>9</td>\n",
       "      <td>Never-married</td>\n",
       "      <td>Adm-clerical</td>\n",
       "      <td>Own-child</td>\n",
       "      <td>White</td>\n",
       "      <td>Male</td>\n",
       "      <td>0</td>\n",
       "      <td>0</td>\n",
       "      <td>20</td>\n",
       "      <td>United-States</td>\n",
       "      <td>&lt;=50K</td>\n",
       "    </tr>\n",
       "    <tr>\n",
       "      <td>32560</td>\n",
       "      <td>52</td>\n",
       "      <td>Self-emp-inc</td>\n",
       "      <td>287927</td>\n",
       "      <td>HS-grad</td>\n",
       "      <td>9</td>\n",
       "      <td>Married-civ-spouse</td>\n",
       "      <td>Exec-managerial</td>\n",
       "      <td>Wife</td>\n",
       "      <td>White</td>\n",
       "      <td>Female</td>\n",
       "      <td>15024</td>\n",
       "      <td>0</td>\n",
       "      <td>40</td>\n",
       "      <td>United-States</td>\n",
       "      <td>&gt;50K</td>\n",
       "    </tr>\n",
       "  </tbody>\n",
       "</table>\n",
       "<p>32561 rows × 15 columns</p>\n",
       "</div>"
      ],
      "text/plain": [
       "       age         workclass  fnlwgt   education  education_num  \\\n",
       "0       39         State-gov   77516   Bachelors             13   \n",
       "1       50  Self-emp-not-inc   83311   Bachelors             13   \n",
       "2       38           Private  215646     HS-grad              9   \n",
       "3       53           Private  234721        11th              7   \n",
       "4       28           Private  338409   Bachelors             13   \n",
       "...    ...               ...     ...         ...            ...   \n",
       "32556   27           Private  257302  Assoc-acdm             12   \n",
       "32557   40           Private  154374     HS-grad              9   \n",
       "32558   58           Private  151910     HS-grad              9   \n",
       "32559   22           Private  201490     HS-grad              9   \n",
       "32560   52      Self-emp-inc  287927     HS-grad              9   \n",
       "\n",
       "           marital_status         occupation   relationship   race     sex  \\\n",
       "0           Never-married       Adm-clerical  Not-in-family  White    Male   \n",
       "1      Married-civ-spouse    Exec-managerial        Husband  White    Male   \n",
       "2                Divorced  Handlers-cleaners  Not-in-family  White    Male   \n",
       "3      Married-civ-spouse  Handlers-cleaners        Husband  Black    Male   \n",
       "4      Married-civ-spouse     Prof-specialty           Wife  Black  Female   \n",
       "...                   ...                ...            ...    ...     ...   \n",
       "32556  Married-civ-spouse       Tech-support           Wife  White  Female   \n",
       "32557  Married-civ-spouse  Machine-op-inspct        Husband  White    Male   \n",
       "32558             Widowed       Adm-clerical      Unmarried  White  Female   \n",
       "32559       Never-married       Adm-clerical      Own-child  White    Male   \n",
       "32560  Married-civ-spouse    Exec-managerial           Wife  White  Female   \n",
       "\n",
       "       capital_gain  capital_loss  hours_per_week native_country wage_class  \n",
       "0              2174             0              40  United-States      <=50K  \n",
       "1                 0             0              13  United-States      <=50K  \n",
       "2                 0             0              40  United-States      <=50K  \n",
       "3                 0             0              40  United-States      <=50K  \n",
       "4                 0             0              40           Cuba      <=50K  \n",
       "...             ...           ...             ...            ...        ...  \n",
       "32556             0             0              38  United-States      <=50K  \n",
       "32557             0             0              40  United-States       >50K  \n",
       "32558             0             0              40  United-States      <=50K  \n",
       "32559             0             0              20  United-States      <=50K  \n",
       "32560         15024             0              40  United-States       >50K  \n",
       "\n",
       "[32561 rows x 15 columns]"
      ]
     },
     "execution_count": 194,
     "metadata": {},
     "output_type": "execute_result"
    }
   ],
   "source": [
    "train_set"
   ]
  },
  {
   "cell_type": "code",
   "execution_count": 195,
   "metadata": {},
   "outputs": [
    {
     "data": {
      "text/plain": [
       "age               0\n",
       "workclass         0\n",
       "fnlwgt            0\n",
       "education         0\n",
       "education_num     0\n",
       "marital_status    0\n",
       "occupation        0\n",
       "relationship      0\n",
       "race              0\n",
       "sex               0\n",
       "capital_gain      0\n",
       "capital_loss      0\n",
       "hours_per_week    0\n",
       "native_country    0\n",
       "wage_class        0\n",
       "dtype: int64"
      ]
     },
     "execution_count": 195,
     "metadata": {},
     "output_type": "execute_result"
    }
   ],
   "source": [
    "train_set.isna().sum()"
   ]
  },
  {
   "cell_type": "code",
   "execution_count": 197,
   "metadata": {},
   "outputs": [
    {
     "data": {
      "text/plain": [
       "array(['State-gov', 'Self-emp-not-inc', 'Private', 'Federal-gov',\n",
       "       'Local-gov', '?', 'Self-emp-inc', 'Without-pay', 'Never-worked'],\n",
       "      dtype=object)"
      ]
     },
     "execution_count": 197,
     "metadata": {},
     "output_type": "execute_result"
    }
   ],
   "source": [
    "train_set['workclass'].unique() # braki danych oznaczone znakiem zapytania"
   ]
  },
  {
   "cell_type": "code",
   "execution_count": 201,
   "metadata": {},
   "outputs": [],
   "source": [
    "train_set = train_set.replace('?', np.nan).dropna(inplace=False)\n",
    "test_set = test_set.replace('?', np.nan).dropna(inplace=False)"
   ]
  },
  {
   "cell_type": "code",
   "execution_count": 202,
   "metadata": {},
   "outputs": [
    {
     "data": {
      "text/plain": [
       "array(['State-gov', 'Self-emp-not-inc', 'Private', 'Federal-gov',\n",
       "       'Local-gov', 'Self-emp-inc', 'Without-pay'], dtype=object)"
      ]
     },
     "execution_count": 202,
     "metadata": {},
     "output_type": "execute_result"
    }
   ],
   "source": [
    "train_set['workclass'].unique() # usunięte wiersze z brakami danych oznaczonych znakiem zapytania "
   ]
  },
  {
   "cell_type": "code",
   "execution_count": 204,
   "metadata": {},
   "outputs": [
    {
     "data": {
      "text/plain": [
       "(30162, 15)"
      ]
     },
     "execution_count": 204,
     "metadata": {},
     "output_type": "execute_result"
    }
   ],
   "source": [
    "train_set.shape"
   ]
  },
  {
   "cell_type": "code",
   "execution_count": 203,
   "metadata": {},
   "outputs": [
    {
     "data": {
      "text/plain": [
       "(45222, 15)"
      ]
     },
     "execution_count": 203,
     "metadata": {},
     "output_type": "execute_result"
    }
   ],
   "source": [
    "dataset = pd.concat([train_set, test_set])\n",
    "dataset.shape"
   ]
  },
  {
   "cell_type": "markdown",
   "metadata": {},
   "source": [
    "Zamiana zmiennej objaśnianej na 0-1"
   ]
  },
  {
   "cell_type": "code",
   "execution_count": 206,
   "metadata": {},
   "outputs": [
    {
     "data": {
      "text/plain": [
       "array(['<=50K', '>50K', '<=50K.', '>50K.'], dtype=object)"
      ]
     },
     "execution_count": 206,
     "metadata": {},
     "output_type": "execute_result"
    }
   ],
   "source": [
    "dataset['wage_class'].unique()"
   ]
  },
  {
   "cell_type": "code",
   "execution_count": 207,
   "metadata": {},
   "outputs": [],
   "source": [
    "dataset['wage_class'] = dataset['wage_class'].replace({'<=50K': 0, \n",
    "                                                       '>50K': 1,\n",
    "                                                       '<=50K.': 0, \n",
    "                                                       '>50K.': 1})"
   ]
  },
  {
   "cell_type": "code",
   "execution_count": 208,
   "metadata": {},
   "outputs": [
    {
     "data": {
      "text/plain": [
       "array([0, 1], dtype=int64)"
      ]
     },
     "execution_count": 208,
     "metadata": {},
     "output_type": "execute_result"
    }
   ],
   "source": [
    "dataset['wage_class'].unique()"
   ]
  },
  {
   "cell_type": "code",
   "execution_count": 209,
   "metadata": {},
   "outputs": [
    {
     "data": {
      "text/html": [
       "<div>\n",
       "<style scoped>\n",
       "    .dataframe tbody tr th:only-of-type {\n",
       "        vertical-align: middle;\n",
       "    }\n",
       "\n",
       "    .dataframe tbody tr th {\n",
       "        vertical-align: top;\n",
       "    }\n",
       "\n",
       "    .dataframe thead th {\n",
       "        text-align: right;\n",
       "    }\n",
       "</style>\n",
       "<table border=\"1\" class=\"dataframe\">\n",
       "  <thead>\n",
       "    <tr style=\"text-align: right;\">\n",
       "      <th></th>\n",
       "      <th>age</th>\n",
       "      <th>workclass</th>\n",
       "      <th>fnlwgt</th>\n",
       "      <th>education</th>\n",
       "      <th>education_num</th>\n",
       "      <th>marital_status</th>\n",
       "      <th>occupation</th>\n",
       "      <th>relationship</th>\n",
       "      <th>race</th>\n",
       "      <th>sex</th>\n",
       "      <th>capital_gain</th>\n",
       "      <th>capital_loss</th>\n",
       "      <th>hours_per_week</th>\n",
       "      <th>native_country</th>\n",
       "      <th>wage_class</th>\n",
       "    </tr>\n",
       "  </thead>\n",
       "  <tbody>\n",
       "    <tr>\n",
       "      <td>0</td>\n",
       "      <td>39</td>\n",
       "      <td>State-gov</td>\n",
       "      <td>77516</td>\n",
       "      <td>Bachelors</td>\n",
       "      <td>13</td>\n",
       "      <td>Never-married</td>\n",
       "      <td>Adm-clerical</td>\n",
       "      <td>Not-in-family</td>\n",
       "      <td>White</td>\n",
       "      <td>Male</td>\n",
       "      <td>2174</td>\n",
       "      <td>0</td>\n",
       "      <td>40</td>\n",
       "      <td>United-States</td>\n",
       "      <td>0</td>\n",
       "    </tr>\n",
       "    <tr>\n",
       "      <td>1</td>\n",
       "      <td>50</td>\n",
       "      <td>Self-emp-not-inc</td>\n",
       "      <td>83311</td>\n",
       "      <td>Bachelors</td>\n",
       "      <td>13</td>\n",
       "      <td>Married-civ-spouse</td>\n",
       "      <td>Exec-managerial</td>\n",
       "      <td>Husband</td>\n",
       "      <td>White</td>\n",
       "      <td>Male</td>\n",
       "      <td>0</td>\n",
       "      <td>0</td>\n",
       "      <td>13</td>\n",
       "      <td>United-States</td>\n",
       "      <td>0</td>\n",
       "    </tr>\n",
       "    <tr>\n",
       "      <td>2</td>\n",
       "      <td>38</td>\n",
       "      <td>Private</td>\n",
       "      <td>215646</td>\n",
       "      <td>HS-grad</td>\n",
       "      <td>9</td>\n",
       "      <td>Divorced</td>\n",
       "      <td>Handlers-cleaners</td>\n",
       "      <td>Not-in-family</td>\n",
       "      <td>White</td>\n",
       "      <td>Male</td>\n",
       "      <td>0</td>\n",
       "      <td>0</td>\n",
       "      <td>40</td>\n",
       "      <td>United-States</td>\n",
       "      <td>0</td>\n",
       "    </tr>\n",
       "    <tr>\n",
       "      <td>3</td>\n",
       "      <td>53</td>\n",
       "      <td>Private</td>\n",
       "      <td>234721</td>\n",
       "      <td>11th</td>\n",
       "      <td>7</td>\n",
       "      <td>Married-civ-spouse</td>\n",
       "      <td>Handlers-cleaners</td>\n",
       "      <td>Husband</td>\n",
       "      <td>Black</td>\n",
       "      <td>Male</td>\n",
       "      <td>0</td>\n",
       "      <td>0</td>\n",
       "      <td>40</td>\n",
       "      <td>United-States</td>\n",
       "      <td>0</td>\n",
       "    </tr>\n",
       "    <tr>\n",
       "      <td>4</td>\n",
       "      <td>28</td>\n",
       "      <td>Private</td>\n",
       "      <td>338409</td>\n",
       "      <td>Bachelors</td>\n",
       "      <td>13</td>\n",
       "      <td>Married-civ-spouse</td>\n",
       "      <td>Prof-specialty</td>\n",
       "      <td>Wife</td>\n",
       "      <td>Black</td>\n",
       "      <td>Female</td>\n",
       "      <td>0</td>\n",
       "      <td>0</td>\n",
       "      <td>40</td>\n",
       "      <td>Cuba</td>\n",
       "      <td>0</td>\n",
       "    </tr>\n",
       "    <tr>\n",
       "      <td>...</td>\n",
       "      <td>...</td>\n",
       "      <td>...</td>\n",
       "      <td>...</td>\n",
       "      <td>...</td>\n",
       "      <td>...</td>\n",
       "      <td>...</td>\n",
       "      <td>...</td>\n",
       "      <td>...</td>\n",
       "      <td>...</td>\n",
       "      <td>...</td>\n",
       "      <td>...</td>\n",
       "      <td>...</td>\n",
       "      <td>...</td>\n",
       "      <td>...</td>\n",
       "      <td>...</td>\n",
       "    </tr>\n",
       "    <tr>\n",
       "      <td>16275</td>\n",
       "      <td>33</td>\n",
       "      <td>Private</td>\n",
       "      <td>245211</td>\n",
       "      <td>Bachelors</td>\n",
       "      <td>13</td>\n",
       "      <td>Never-married</td>\n",
       "      <td>Prof-specialty</td>\n",
       "      <td>Own-child</td>\n",
       "      <td>White</td>\n",
       "      <td>Male</td>\n",
       "      <td>0</td>\n",
       "      <td>0</td>\n",
       "      <td>40</td>\n",
       "      <td>United-States</td>\n",
       "      <td>0</td>\n",
       "    </tr>\n",
       "    <tr>\n",
       "      <td>16276</td>\n",
       "      <td>39</td>\n",
       "      <td>Private</td>\n",
       "      <td>215419</td>\n",
       "      <td>Bachelors</td>\n",
       "      <td>13</td>\n",
       "      <td>Divorced</td>\n",
       "      <td>Prof-specialty</td>\n",
       "      <td>Not-in-family</td>\n",
       "      <td>White</td>\n",
       "      <td>Female</td>\n",
       "      <td>0</td>\n",
       "      <td>0</td>\n",
       "      <td>36</td>\n",
       "      <td>United-States</td>\n",
       "      <td>0</td>\n",
       "    </tr>\n",
       "    <tr>\n",
       "      <td>16278</td>\n",
       "      <td>38</td>\n",
       "      <td>Private</td>\n",
       "      <td>374983</td>\n",
       "      <td>Bachelors</td>\n",
       "      <td>13</td>\n",
       "      <td>Married-civ-spouse</td>\n",
       "      <td>Prof-specialty</td>\n",
       "      <td>Husband</td>\n",
       "      <td>White</td>\n",
       "      <td>Male</td>\n",
       "      <td>0</td>\n",
       "      <td>0</td>\n",
       "      <td>50</td>\n",
       "      <td>United-States</td>\n",
       "      <td>0</td>\n",
       "    </tr>\n",
       "    <tr>\n",
       "      <td>16279</td>\n",
       "      <td>44</td>\n",
       "      <td>Private</td>\n",
       "      <td>83891</td>\n",
       "      <td>Bachelors</td>\n",
       "      <td>13</td>\n",
       "      <td>Divorced</td>\n",
       "      <td>Adm-clerical</td>\n",
       "      <td>Own-child</td>\n",
       "      <td>Asian-Pac-Islander</td>\n",
       "      <td>Male</td>\n",
       "      <td>5455</td>\n",
       "      <td>0</td>\n",
       "      <td>40</td>\n",
       "      <td>United-States</td>\n",
       "      <td>0</td>\n",
       "    </tr>\n",
       "    <tr>\n",
       "      <td>16280</td>\n",
       "      <td>35</td>\n",
       "      <td>Self-emp-inc</td>\n",
       "      <td>182148</td>\n",
       "      <td>Bachelors</td>\n",
       "      <td>13</td>\n",
       "      <td>Married-civ-spouse</td>\n",
       "      <td>Exec-managerial</td>\n",
       "      <td>Husband</td>\n",
       "      <td>White</td>\n",
       "      <td>Male</td>\n",
       "      <td>0</td>\n",
       "      <td>0</td>\n",
       "      <td>60</td>\n",
       "      <td>United-States</td>\n",
       "      <td>1</td>\n",
       "    </tr>\n",
       "  </tbody>\n",
       "</table>\n",
       "<p>45222 rows × 15 columns</p>\n",
       "</div>"
      ],
      "text/plain": [
       "       age         workclass  fnlwgt  education  education_num  \\\n",
       "0       39         State-gov   77516  Bachelors             13   \n",
       "1       50  Self-emp-not-inc   83311  Bachelors             13   \n",
       "2       38           Private  215646    HS-grad              9   \n",
       "3       53           Private  234721       11th              7   \n",
       "4       28           Private  338409  Bachelors             13   \n",
       "...    ...               ...     ...        ...            ...   \n",
       "16275   33           Private  245211  Bachelors             13   \n",
       "16276   39           Private  215419  Bachelors             13   \n",
       "16278   38           Private  374983  Bachelors             13   \n",
       "16279   44           Private   83891  Bachelors             13   \n",
       "16280   35      Self-emp-inc  182148  Bachelors             13   \n",
       "\n",
       "           marital_status         occupation   relationship  \\\n",
       "0           Never-married       Adm-clerical  Not-in-family   \n",
       "1      Married-civ-spouse    Exec-managerial        Husband   \n",
       "2                Divorced  Handlers-cleaners  Not-in-family   \n",
       "3      Married-civ-spouse  Handlers-cleaners        Husband   \n",
       "4      Married-civ-spouse     Prof-specialty           Wife   \n",
       "...                   ...                ...            ...   \n",
       "16275       Never-married     Prof-specialty      Own-child   \n",
       "16276            Divorced     Prof-specialty  Not-in-family   \n",
       "16278  Married-civ-spouse     Prof-specialty        Husband   \n",
       "16279            Divorced       Adm-clerical      Own-child   \n",
       "16280  Married-civ-spouse    Exec-managerial        Husband   \n",
       "\n",
       "                     race     sex  capital_gain  capital_loss  hours_per_week  \\\n",
       "0                   White    Male          2174             0              40   \n",
       "1                   White    Male             0             0              13   \n",
       "2                   White    Male             0             0              40   \n",
       "3                   Black    Male             0             0              40   \n",
       "4                   Black  Female             0             0              40   \n",
       "...                   ...     ...           ...           ...             ...   \n",
       "16275               White    Male             0             0              40   \n",
       "16276               White  Female             0             0              36   \n",
       "16278               White    Male             0             0              50   \n",
       "16279  Asian-Pac-Islander    Male          5455             0              40   \n",
       "16280               White    Male             0             0              60   \n",
       "\n",
       "      native_country  wage_class  \n",
       "0      United-States           0  \n",
       "1      United-States           0  \n",
       "2      United-States           0  \n",
       "3      United-States           0  \n",
       "4               Cuba           0  \n",
       "...              ...         ...  \n",
       "16275  United-States           0  \n",
       "16276  United-States           0  \n",
       "16278  United-States           0  \n",
       "16279  United-States           0  \n",
       "16280  United-States           1  \n",
       "\n",
       "[45222 rows x 15 columns]"
      ]
     },
     "execution_count": 209,
     "metadata": {},
     "output_type": "execute_result"
    }
   ],
   "source": [
    "dataset"
   ]
  },
  {
   "cell_type": "code",
   "execution_count": 210,
   "metadata": {},
   "outputs": [],
   "source": [
    "dataset.drop(['fnlwgt'], axis=1,inplace=True) # usuwany kolumnę podejrzewaną o bycie unikalnym ID"
   ]
  },
  {
   "cell_type": "code",
   "execution_count": 211,
   "metadata": {},
   "outputs": [
    {
     "data": {
      "text/html": [
       "<div>\n",
       "<style scoped>\n",
       "    .dataframe tbody tr th:only-of-type {\n",
       "        vertical-align: middle;\n",
       "    }\n",
       "\n",
       "    .dataframe tbody tr th {\n",
       "        vertical-align: top;\n",
       "    }\n",
       "\n",
       "    .dataframe thead th {\n",
       "        text-align: right;\n",
       "    }\n",
       "</style>\n",
       "<table border=\"1\" class=\"dataframe\">\n",
       "  <thead>\n",
       "    <tr style=\"text-align: right;\">\n",
       "      <th></th>\n",
       "      <th>age</th>\n",
       "      <th>workclass</th>\n",
       "      <th>education</th>\n",
       "      <th>education_num</th>\n",
       "      <th>marital_status</th>\n",
       "      <th>occupation</th>\n",
       "      <th>relationship</th>\n",
       "      <th>race</th>\n",
       "      <th>sex</th>\n",
       "      <th>capital_gain</th>\n",
       "      <th>capital_loss</th>\n",
       "      <th>hours_per_week</th>\n",
       "      <th>native_country</th>\n",
       "      <th>wage_class</th>\n",
       "    </tr>\n",
       "  </thead>\n",
       "  <tbody>\n",
       "    <tr>\n",
       "      <td>0</td>\n",
       "      <td>39</td>\n",
       "      <td>State-gov</td>\n",
       "      <td>Bachelors</td>\n",
       "      <td>13</td>\n",
       "      <td>Never-married</td>\n",
       "      <td>Adm-clerical</td>\n",
       "      <td>Not-in-family</td>\n",
       "      <td>White</td>\n",
       "      <td>Male</td>\n",
       "      <td>2174</td>\n",
       "      <td>0</td>\n",
       "      <td>40</td>\n",
       "      <td>United-States</td>\n",
       "      <td>0</td>\n",
       "    </tr>\n",
       "    <tr>\n",
       "      <td>1</td>\n",
       "      <td>50</td>\n",
       "      <td>Self-emp-not-inc</td>\n",
       "      <td>Bachelors</td>\n",
       "      <td>13</td>\n",
       "      <td>Married-civ-spouse</td>\n",
       "      <td>Exec-managerial</td>\n",
       "      <td>Husband</td>\n",
       "      <td>White</td>\n",
       "      <td>Male</td>\n",
       "      <td>0</td>\n",
       "      <td>0</td>\n",
       "      <td>13</td>\n",
       "      <td>United-States</td>\n",
       "      <td>0</td>\n",
       "    </tr>\n",
       "    <tr>\n",
       "      <td>2</td>\n",
       "      <td>38</td>\n",
       "      <td>Private</td>\n",
       "      <td>HS-grad</td>\n",
       "      <td>9</td>\n",
       "      <td>Divorced</td>\n",
       "      <td>Handlers-cleaners</td>\n",
       "      <td>Not-in-family</td>\n",
       "      <td>White</td>\n",
       "      <td>Male</td>\n",
       "      <td>0</td>\n",
       "      <td>0</td>\n",
       "      <td>40</td>\n",
       "      <td>United-States</td>\n",
       "      <td>0</td>\n",
       "    </tr>\n",
       "    <tr>\n",
       "      <td>3</td>\n",
       "      <td>53</td>\n",
       "      <td>Private</td>\n",
       "      <td>11th</td>\n",
       "      <td>7</td>\n",
       "      <td>Married-civ-spouse</td>\n",
       "      <td>Handlers-cleaners</td>\n",
       "      <td>Husband</td>\n",
       "      <td>Black</td>\n",
       "      <td>Male</td>\n",
       "      <td>0</td>\n",
       "      <td>0</td>\n",
       "      <td>40</td>\n",
       "      <td>United-States</td>\n",
       "      <td>0</td>\n",
       "    </tr>\n",
       "    <tr>\n",
       "      <td>4</td>\n",
       "      <td>28</td>\n",
       "      <td>Private</td>\n",
       "      <td>Bachelors</td>\n",
       "      <td>13</td>\n",
       "      <td>Married-civ-spouse</td>\n",
       "      <td>Prof-specialty</td>\n",
       "      <td>Wife</td>\n",
       "      <td>Black</td>\n",
       "      <td>Female</td>\n",
       "      <td>0</td>\n",
       "      <td>0</td>\n",
       "      <td>40</td>\n",
       "      <td>Cuba</td>\n",
       "      <td>0</td>\n",
       "    </tr>\n",
       "  </tbody>\n",
       "</table>\n",
       "</div>"
      ],
      "text/plain": [
       "   age         workclass  education  education_num      marital_status  \\\n",
       "0   39         State-gov  Bachelors             13       Never-married   \n",
       "1   50  Self-emp-not-inc  Bachelors             13  Married-civ-spouse   \n",
       "2   38           Private    HS-grad              9            Divorced   \n",
       "3   53           Private       11th              7  Married-civ-spouse   \n",
       "4   28           Private  Bachelors             13  Married-civ-spouse   \n",
       "\n",
       "          occupation   relationship   race     sex  capital_gain  \\\n",
       "0       Adm-clerical  Not-in-family  White    Male          2174   \n",
       "1    Exec-managerial        Husband  White    Male             0   \n",
       "2  Handlers-cleaners  Not-in-family  White    Male             0   \n",
       "3  Handlers-cleaners        Husband  Black    Male             0   \n",
       "4     Prof-specialty           Wife  Black  Female             0   \n",
       "\n",
       "   capital_loss  hours_per_week native_country  wage_class  \n",
       "0             0              40  United-States           0  \n",
       "1             0              13  United-States           0  \n",
       "2             0              40  United-States           0  \n",
       "3             0              40  United-States           0  \n",
       "4             0              40           Cuba           0  "
      ]
     },
     "execution_count": 211,
     "metadata": {},
     "output_type": "execute_result"
    }
   ],
   "source": [
    "dataset.head()"
   ]
  },
  {
   "cell_type": "code",
   "execution_count": 212,
   "metadata": {},
   "outputs": [
    {
     "data": {
      "text/plain": [
       "<matplotlib.axes._subplots.AxesSubplot at 0x1f241cfe408>"
      ]
     },
     "execution_count": 212,
     "metadata": {},
     "output_type": "execute_result"
    },
    {
     "data": {
      "image/png": "[encoded data removed]",
      "text/plain": [
       "<Figure size 432x288 with 1 Axes>"
      ]
     },
     "metadata": {
      "needs_background": "light"
     },
     "output_type": "display_data"
    }
   ],
   "source": [
    "dataset['age'].hist()"
   ]
  },
  {
   "cell_type": "code",
   "execution_count": 214,
   "metadata": {},
   "outputs": [
    {
     "data": {
      "text/plain": [
       "Private             33307\n",
       "Self-emp-not-inc     3796\n",
       "Local-gov            3100\n",
       "State-gov            1946\n",
       "Self-emp-inc         1646\n",
       "Federal-gov          1406\n",
       "Without-pay            21\n",
       "Name: workclass, dtype: int64"
      ]
     },
     "execution_count": 214,
     "metadata": {},
     "output_type": "execute_result"
    }
   ],
   "source": [
    "dataset['workclass'].value_counts()"
   ]
  },
  {
   "cell_type": "code",
   "execution_count": 215,
   "metadata": {},
   "outputs": [
    {
     "data": {
      "text/plain": [
       "HS-grad         14783\n",
       "Some-college     9899\n",
       "Bachelors        7570\n",
       "Masters          2514\n",
       "Assoc-voc        1959\n",
       "11th             1619\n",
       "Assoc-acdm       1507\n",
       "10th             1223\n",
       "7th-8th           823\n",
       "Prof-school       785\n",
       "9th               676\n",
       "12th              577\n",
       "Doctorate         544\n",
       "5th-6th           449\n",
       "1st-4th           222\n",
       "Preschool          72\n",
       "Name: education, dtype: int64"
      ]
     },
     "execution_count": 215,
     "metadata": {},
     "output_type": "execute_result"
    }
   ],
   "source": [
    "dataset['education'].value_counts()"
   ]
  },
  {
   "cell_type": "code",
   "execution_count": 216,
   "metadata": {},
   "outputs": [
    {
     "data": {
      "text/plain": [
       "9     14783\n",
       "10     9899\n",
       "13     7570\n",
       "14     2514\n",
       "11     1959\n",
       "7      1619\n",
       "12     1507\n",
       "6      1223\n",
       "4       823\n",
       "15      785\n",
       "5       676\n",
       "8       577\n",
       "16      544\n",
       "3       449\n",
       "2       222\n",
       "1        72\n",
       "Name: education_num, dtype: int64"
      ]
     },
     "execution_count": 216,
     "metadata": {},
     "output_type": "execute_result"
    }
   ],
   "source": [
    "dataset['education_num'].value_counts()"
   ]
  },
  {
   "cell_type": "code",
   "execution_count": 217,
   "metadata": {},
   "outputs": [
    {
     "data": {
      "text/html": [
       "<div>\n",
       "<style scoped>\n",
       "    .dataframe tbody tr th:only-of-type {\n",
       "        vertical-align: middle;\n",
       "    }\n",
       "\n",
       "    .dataframe tbody tr th {\n",
       "        vertical-align: top;\n",
       "    }\n",
       "\n",
       "    .dataframe thead th {\n",
       "        text-align: right;\n",
       "    }\n",
       "</style>\n",
       "<table border=\"1\" class=\"dataframe\">\n",
       "  <thead>\n",
       "    <tr style=\"text-align: right;\">\n",
       "      <th>education_num</th>\n",
       "      <th>1</th>\n",
       "      <th>2</th>\n",
       "      <th>3</th>\n",
       "      <th>4</th>\n",
       "      <th>5</th>\n",
       "      <th>6</th>\n",
       "      <th>7</th>\n",
       "      <th>8</th>\n",
       "      <th>9</th>\n",
       "      <th>10</th>\n",
       "      <th>11</th>\n",
       "      <th>12</th>\n",
       "      <th>13</th>\n",
       "      <th>14</th>\n",
       "      <th>15</th>\n",
       "      <th>16</th>\n",
       "    </tr>\n",
       "    <tr>\n",
       "      <th>education</th>\n",
       "      <th></th>\n",
       "      <th></th>\n",
       "      <th></th>\n",
       "      <th></th>\n",
       "      <th></th>\n",
       "      <th></th>\n",
       "      <th></th>\n",
       "      <th></th>\n",
       "      <th></th>\n",
       "      <th></th>\n",
       "      <th></th>\n",
       "      <th></th>\n",
       "      <th></th>\n",
       "      <th></th>\n",
       "      <th></th>\n",
       "      <th></th>\n",
       "    </tr>\n",
       "  </thead>\n",
       "  <tbody>\n",
       "    <tr>\n",
       "      <td>10th</td>\n",
       "      <td>0</td>\n",
       "      <td>0</td>\n",
       "      <td>0</td>\n",
       "      <td>0</td>\n",
       "      <td>0</td>\n",
       "      <td>1223</td>\n",
       "      <td>0</td>\n",
       "      <td>0</td>\n",
       "      <td>0</td>\n",
       "      <td>0</td>\n",
       "      <td>0</td>\n",
       "      <td>0</td>\n",
       "      <td>0</td>\n",
       "      <td>0</td>\n",
       "      <td>0</td>\n",
       "      <td>0</td>\n",
       "    </tr>\n",
       "    <tr>\n",
       "      <td>11th</td>\n",
       "      <td>0</td>\n",
       "      <td>0</td>\n",
       "      <td>0</td>\n",
       "      <td>0</td>\n",
       "      <td>0</td>\n",
       "      <td>0</td>\n",
       "      <td>1619</td>\n",
       "      <td>0</td>\n",
       "      <td>0</td>\n",
       "      <td>0</td>\n",
       "      <td>0</td>\n",
       "      <td>0</td>\n",
       "      <td>0</td>\n",
       "      <td>0</td>\n",
       "      <td>0</td>\n",
       "      <td>0</td>\n",
       "    </tr>\n",
       "    <tr>\n",
       "      <td>12th</td>\n",
       "      <td>0</td>\n",
       "      <td>0</td>\n",
       "      <td>0</td>\n",
       "      <td>0</td>\n",
       "      <td>0</td>\n",
       "      <td>0</td>\n",
       "      <td>0</td>\n",
       "      <td>577</td>\n",
       "      <td>0</td>\n",
       "      <td>0</td>\n",
       "      <td>0</td>\n",
       "      <td>0</td>\n",
       "      <td>0</td>\n",
       "      <td>0</td>\n",
       "      <td>0</td>\n",
       "      <td>0</td>\n",
       "    </tr>\n",
       "    <tr>\n",
       "      <td>1st-4th</td>\n",
       "      <td>0</td>\n",
       "      <td>222</td>\n",
       "      <td>0</td>\n",
       "      <td>0</td>\n",
       "      <td>0</td>\n",
       "      <td>0</td>\n",
       "      <td>0</td>\n",
       "      <td>0</td>\n",
       "      <td>0</td>\n",
       "      <td>0</td>\n",
       "      <td>0</td>\n",
       "      <td>0</td>\n",
       "      <td>0</td>\n",
       "      <td>0</td>\n",
       "      <td>0</td>\n",
       "      <td>0</td>\n",
       "    </tr>\n",
       "    <tr>\n",
       "      <td>5th-6th</td>\n",
       "      <td>0</td>\n",
       "      <td>0</td>\n",
       "      <td>449</td>\n",
       "      <td>0</td>\n",
       "      <td>0</td>\n",
       "      <td>0</td>\n",
       "      <td>0</td>\n",
       "      <td>0</td>\n",
       "      <td>0</td>\n",
       "      <td>0</td>\n",
       "      <td>0</td>\n",
       "      <td>0</td>\n",
       "      <td>0</td>\n",
       "      <td>0</td>\n",
       "      <td>0</td>\n",
       "      <td>0</td>\n",
       "    </tr>\n",
       "    <tr>\n",
       "      <td>7th-8th</td>\n",
       "      <td>0</td>\n",
       "      <td>0</td>\n",
       "      <td>0</td>\n",
       "      <td>823</td>\n",
       "      <td>0</td>\n",
       "      <td>0</td>\n",
       "      <td>0</td>\n",
       "      <td>0</td>\n",
       "      <td>0</td>\n",
       "      <td>0</td>\n",
       "      <td>0</td>\n",
       "      <td>0</td>\n",
       "      <td>0</td>\n",
       "      <td>0</td>\n",
       "      <td>0</td>\n",
       "      <td>0</td>\n",
       "    </tr>\n",
       "    <tr>\n",
       "      <td>9th</td>\n",
       "      <td>0</td>\n",
       "      <td>0</td>\n",
       "      <td>0</td>\n",
       "      <td>0</td>\n",
       "      <td>676</td>\n",
       "      <td>0</td>\n",
       "      <td>0</td>\n",
       "      <td>0</td>\n",
       "      <td>0</td>\n",
       "      <td>0</td>\n",
       "      <td>0</td>\n",
       "      <td>0</td>\n",
       "      <td>0</td>\n",
       "      <td>0</td>\n",
       "      <td>0</td>\n",
       "      <td>0</td>\n",
       "    </tr>\n",
       "    <tr>\n",
       "      <td>Assoc-acdm</td>\n",
       "      <td>0</td>\n",
       "      <td>0</td>\n",
       "      <td>0</td>\n",
       "      <td>0</td>\n",
       "      <td>0</td>\n",
       "      <td>0</td>\n",
       "      <td>0</td>\n",
       "      <td>0</td>\n",
       "      <td>0</td>\n",
       "      <td>0</td>\n",
       "      <td>0</td>\n",
       "      <td>1507</td>\n",
       "      <td>0</td>\n",
       "      <td>0</td>\n",
       "      <td>0</td>\n",
       "      <td>0</td>\n",
       "    </tr>\n",
       "    <tr>\n",
       "      <td>Assoc-voc</td>\n",
       "      <td>0</td>\n",
       "      <td>0</td>\n",
       "      <td>0</td>\n",
       "      <td>0</td>\n",
       "      <td>0</td>\n",
       "      <td>0</td>\n",
       "      <td>0</td>\n",
       "      <td>0</td>\n",
       "      <td>0</td>\n",
       "      <td>0</td>\n",
       "      <td>1959</td>\n",
       "      <td>0</td>\n",
       "      <td>0</td>\n",
       "      <td>0</td>\n",
       "      <td>0</td>\n",
       "      <td>0</td>\n",
       "    </tr>\n",
       "    <tr>\n",
       "      <td>Bachelors</td>\n",
       "      <td>0</td>\n",
       "      <td>0</td>\n",
       "      <td>0</td>\n",
       "      <td>0</td>\n",
       "      <td>0</td>\n",
       "      <td>0</td>\n",
       "      <td>0</td>\n",
       "      <td>0</td>\n",
       "      <td>0</td>\n",
       "      <td>0</td>\n",
       "      <td>0</td>\n",
       "      <td>0</td>\n",
       "      <td>7570</td>\n",
       "      <td>0</td>\n",
       "      <td>0</td>\n",
       "      <td>0</td>\n",
       "    </tr>\n",
       "    <tr>\n",
       "      <td>Doctorate</td>\n",
       "      <td>0</td>\n",
       "      <td>0</td>\n",
       "      <td>0</td>\n",
       "      <td>0</td>\n",
       "      <td>0</td>\n",
       "      <td>0</td>\n",
       "      <td>0</td>\n",
       "      <td>0</td>\n",
       "      <td>0</td>\n",
       "      <td>0</td>\n",
       "      <td>0</td>\n",
       "      <td>0</td>\n",
       "      <td>0</td>\n",
       "      <td>0</td>\n",
       "      <td>0</td>\n",
       "      <td>544</td>\n",
       "    </tr>\n",
       "    <tr>\n",
       "      <td>HS-grad</td>\n",
       "      <td>0</td>\n",
       "      <td>0</td>\n",
       "      <td>0</td>\n",
       "      <td>0</td>\n",
       "      <td>0</td>\n",
       "      <td>0</td>\n",
       "      <td>0</td>\n",
       "      <td>0</td>\n",
       "      <td>14783</td>\n",
       "      <td>0</td>\n",
       "      <td>0</td>\n",
       "      <td>0</td>\n",
       "      <td>0</td>\n",
       "      <td>0</td>\n",
       "      <td>0</td>\n",
       "      <td>0</td>\n",
       "    </tr>\n",
       "    <tr>\n",
       "      <td>Masters</td>\n",
       "      <td>0</td>\n",
       "      <td>0</td>\n",
       "      <td>0</td>\n",
       "      <td>0</td>\n",
       "      <td>0</td>\n",
       "      <td>0</td>\n",
       "      <td>0</td>\n",
       "      <td>0</td>\n",
       "      <td>0</td>\n",
       "      <td>0</td>\n",
       "      <td>0</td>\n",
       "      <td>0</td>\n",
       "      <td>0</td>\n",
       "      <td>2514</td>\n",
       "      <td>0</td>\n",
       "      <td>0</td>\n",
       "    </tr>\n",
       "    <tr>\n",
       "      <td>Preschool</td>\n",
       "      <td>72</td>\n",
       "      <td>0</td>\n",
       "      <td>0</td>\n",
       "      <td>0</td>\n",
       "      <td>0</td>\n",
       "      <td>0</td>\n",
       "      <td>0</td>\n",
       "      <td>0</td>\n",
       "      <td>0</td>\n",
       "      <td>0</td>\n",
       "      <td>0</td>\n",
       "      <td>0</td>\n",
       "      <td>0</td>\n",
       "      <td>0</td>\n",
       "      <td>0</td>\n",
       "      <td>0</td>\n",
       "    </tr>\n",
       "    <tr>\n",
       "      <td>Prof-school</td>\n",
       "      <td>0</td>\n",
       "      <td>0</td>\n",
       "      <td>0</td>\n",
       "      <td>0</td>\n",
       "      <td>0</td>\n",
       "      <td>0</td>\n",
       "      <td>0</td>\n",
       "      <td>0</td>\n",
       "      <td>0</td>\n",
       "      <td>0</td>\n",
       "      <td>0</td>\n",
       "      <td>0</td>\n",
       "      <td>0</td>\n",
       "      <td>0</td>\n",
       "      <td>785</td>\n",
       "      <td>0</td>\n",
       "    </tr>\n",
       "    <tr>\n",
       "      <td>Some-college</td>\n",
       "      <td>0</td>\n",
       "      <td>0</td>\n",
       "      <td>0</td>\n",
       "      <td>0</td>\n",
       "      <td>0</td>\n",
       "      <td>0</td>\n",
       "      <td>0</td>\n",
       "      <td>0</td>\n",
       "      <td>0</td>\n",
       "      <td>9899</td>\n",
       "      <td>0</td>\n",
       "      <td>0</td>\n",
       "      <td>0</td>\n",
       "      <td>0</td>\n",
       "      <td>0</td>\n",
       "      <td>0</td>\n",
       "    </tr>\n",
       "  </tbody>\n",
       "</table>\n",
       "</div>"
      ],
      "text/plain": [
       "education_num  1    2    3    4    5     6     7    8      9     10    11  \\\n",
       "education                                                                   \n",
       "10th            0    0    0    0    0  1223     0    0      0     0     0   \n",
       "11th            0    0    0    0    0     0  1619    0      0     0     0   \n",
       "12th            0    0    0    0    0     0     0  577      0     0     0   \n",
       "1st-4th         0  222    0    0    0     0     0    0      0     0     0   \n",
       "5th-6th         0    0  449    0    0     0     0    0      0     0     0   \n",
       "7th-8th         0    0    0  823    0     0     0    0      0     0     0   \n",
       "9th             0    0    0    0  676     0     0    0      0     0     0   \n",
       "Assoc-acdm      0    0    0    0    0     0     0    0      0     0     0   \n",
       "Assoc-voc       0    0    0    0    0     0     0    0      0     0  1959   \n",
       "Bachelors       0    0    0    0    0     0     0    0      0     0     0   \n",
       "Doctorate       0    0    0    0    0     0     0    0      0     0     0   \n",
       "HS-grad         0    0    0    0    0     0     0    0  14783     0     0   \n",
       "Masters         0    0    0    0    0     0     0    0      0     0     0   \n",
       "Preschool      72    0    0    0    0     0     0    0      0     0     0   \n",
       "Prof-school     0    0    0    0    0     0     0    0      0     0     0   \n",
       "Some-college    0    0    0    0    0     0     0    0      0  9899     0   \n",
       "\n",
       "education_num    12    13    14   15   16  \n",
       "education                                  \n",
       "10th              0     0     0    0    0  \n",
       "11th              0     0     0    0    0  \n",
       "12th              0     0     0    0    0  \n",
       "1st-4th           0     0     0    0    0  \n",
       "5th-6th           0     0     0    0    0  \n",
       "7th-8th           0     0     0    0    0  \n",
       "9th               0     0     0    0    0  \n",
       "Assoc-acdm     1507     0     0    0    0  \n",
       "Assoc-voc         0     0     0    0    0  \n",
       "Bachelors         0  7570     0    0    0  \n",
       "Doctorate         0     0     0    0  544  \n",
       "HS-grad           0     0     0    0    0  \n",
       "Masters           0     0  2514    0    0  \n",
       "Preschool         0     0     0    0    0  \n",
       "Prof-school       0     0     0  785    0  \n",
       "Some-college      0     0     0    0    0  "
      ]
     },
     "execution_count": 217,
     "metadata": {},
     "output_type": "execute_result"
    }
   ],
   "source": [
    "pd.crosstab(dataset['education'], dataset['education_num'])"
   ]
  },
  {
   "cell_type": "code",
   "execution_count": 220,
   "metadata": {},
   "outputs": [
    {
     "ename": "KeyError",
     "evalue": "\"['education'] not found in axis\"",
     "output_type": "error",
     "traceback": [
      "\u001b[1;31m---------------------------------------------------------------------------\u001b[0m",
      "\u001b[1;31mKeyError\u001b[0m                                  Traceback (most recent call last)",
      "\u001b[1;32m<ipython-input-220-f4394ec05836>\u001b[0m in \u001b[0;36m<module>\u001b[1;34m\u001b[0m\n\u001b[0;32m      1\u001b[0m \u001b[1;31m# TODO połączyć education z education_num w słownik\u001b[0m\u001b[1;33m\u001b[0m\u001b[1;33m\u001b[0m\u001b[1;33m\u001b[0m\u001b[0m\n\u001b[1;32m----> 2\u001b[1;33m \u001b[0mdataset\u001b[0m\u001b[1;33m.\u001b[0m\u001b[0mdrop\u001b[0m\u001b[1;33m(\u001b[0m\u001b[1;33m[\u001b[0m\u001b[1;34m'education'\u001b[0m\u001b[1;33m]\u001b[0m\u001b[1;33m,\u001b[0m \u001b[0maxis\u001b[0m\u001b[1;33m=\u001b[0m\u001b[1;36m1\u001b[0m\u001b[1;33m,\u001b[0m\u001b[0minplace\u001b[0m\u001b[1;33m=\u001b[0m\u001b[1;32mTrue\u001b[0m\u001b[1;33m)\u001b[0m\u001b[1;33m\u001b[0m\u001b[1;33m\u001b[0m\u001b[0m\n\u001b[0m",
      "\u001b[1;32m~\\Anaconda3\\lib\\site-packages\\pandas\\core\\frame.py\u001b[0m in \u001b[0;36mdrop\u001b[1;34m(self, labels, axis, index, columns, level, inplace, errors)\u001b[0m\n\u001b[0;32m   4100\u001b[0m             \u001b[0mlevel\u001b[0m\u001b[1;33m=\u001b[0m\u001b[0mlevel\u001b[0m\u001b[1;33m,\u001b[0m\u001b[1;33m\u001b[0m\u001b[1;33m\u001b[0m\u001b[0m\n\u001b[0;32m   4101\u001b[0m             \u001b[0minplace\u001b[0m\u001b[1;33m=\u001b[0m\u001b[0minplace\u001b[0m\u001b[1;33m,\u001b[0m\u001b[1;33m\u001b[0m\u001b[1;33m\u001b[0m\u001b[0m\n\u001b[1;32m-> 4102\u001b[1;33m             \u001b[0merrors\u001b[0m\u001b[1;33m=\u001b[0m\u001b[0merrors\u001b[0m\u001b[1;33m,\u001b[0m\u001b[1;33m\u001b[0m\u001b[1;33m\u001b[0m\u001b[0m\n\u001b[0m\u001b[0;32m   4103\u001b[0m         )\n\u001b[0;32m   4104\u001b[0m \u001b[1;33m\u001b[0m\u001b[0m\n",
      "\u001b[1;32m~\\Anaconda3\\lib\\site-packages\\pandas\\core\\generic.py\u001b[0m in \u001b[0;36mdrop\u001b[1;34m(self, labels, axis, index, columns, level, inplace, errors)\u001b[0m\n\u001b[0;32m   3912\u001b[0m         \u001b[1;32mfor\u001b[0m \u001b[0maxis\u001b[0m\u001b[1;33m,\u001b[0m \u001b[0mlabels\u001b[0m \u001b[1;32min\u001b[0m \u001b[0maxes\u001b[0m\u001b[1;33m.\u001b[0m\u001b[0mitems\u001b[0m\u001b[1;33m(\u001b[0m\u001b[1;33m)\u001b[0m\u001b[1;33m:\u001b[0m\u001b[1;33m\u001b[0m\u001b[1;33m\u001b[0m\u001b[0m\n\u001b[0;32m   3913\u001b[0m             \u001b[1;32mif\u001b[0m \u001b[0mlabels\u001b[0m \u001b[1;32mis\u001b[0m \u001b[1;32mnot\u001b[0m \u001b[1;32mNone\u001b[0m\u001b[1;33m:\u001b[0m\u001b[1;33m\u001b[0m\u001b[1;33m\u001b[0m\u001b[0m\n\u001b[1;32m-> 3914\u001b[1;33m                 \u001b[0mobj\u001b[0m \u001b[1;33m=\u001b[0m \u001b[0mobj\u001b[0m\u001b[1;33m.\u001b[0m\u001b[0m_drop_axis\u001b[0m\u001b[1;33m(\u001b[0m\u001b[0mlabels\u001b[0m\u001b[1;33m,\u001b[0m \u001b[0maxis\u001b[0m\u001b[1;33m,\u001b[0m \u001b[0mlevel\u001b[0m\u001b[1;33m=\u001b[0m\u001b[0mlevel\u001b[0m\u001b[1;33m,\u001b[0m \u001b[0merrors\u001b[0m\u001b[1;33m=\u001b[0m\u001b[0merrors\u001b[0m\u001b[1;33m)\u001b[0m\u001b[1;33m\u001b[0m\u001b[1;33m\u001b[0m\u001b[0m\n\u001b[0m\u001b[0;32m   3915\u001b[0m \u001b[1;33m\u001b[0m\u001b[0m\n\u001b[0;32m   3916\u001b[0m         \u001b[1;32mif\u001b[0m \u001b[0minplace\u001b[0m\u001b[1;33m:\u001b[0m\u001b[1;33m\u001b[0m\u001b[1;33m\u001b[0m\u001b[0m\n",
      "\u001b[1;32m~\\Anaconda3\\lib\\site-packages\\pandas\\core\\generic.py\u001b[0m in \u001b[0;36m_drop_axis\u001b[1;34m(self, labels, axis, level, errors)\u001b[0m\n\u001b[0;32m   3944\u001b[0m                 \u001b[0mnew_axis\u001b[0m \u001b[1;33m=\u001b[0m \u001b[0maxis\u001b[0m\u001b[1;33m.\u001b[0m\u001b[0mdrop\u001b[0m\u001b[1;33m(\u001b[0m\u001b[0mlabels\u001b[0m\u001b[1;33m,\u001b[0m \u001b[0mlevel\u001b[0m\u001b[1;33m=\u001b[0m\u001b[0mlevel\u001b[0m\u001b[1;33m,\u001b[0m \u001b[0merrors\u001b[0m\u001b[1;33m=\u001b[0m\u001b[0merrors\u001b[0m\u001b[1;33m)\u001b[0m\u001b[1;33m\u001b[0m\u001b[1;33m\u001b[0m\u001b[0m\n\u001b[0;32m   3945\u001b[0m             \u001b[1;32melse\u001b[0m\u001b[1;33m:\u001b[0m\u001b[1;33m\u001b[0m\u001b[1;33m\u001b[0m\u001b[0m\n\u001b[1;32m-> 3946\u001b[1;33m                 \u001b[0mnew_axis\u001b[0m \u001b[1;33m=\u001b[0m \u001b[0maxis\u001b[0m\u001b[1;33m.\u001b[0m\u001b[0mdrop\u001b[0m\u001b[1;33m(\u001b[0m\u001b[0mlabels\u001b[0m\u001b[1;33m,\u001b[0m \u001b[0merrors\u001b[0m\u001b[1;33m=\u001b[0m\u001b[0merrors\u001b[0m\u001b[1;33m)\u001b[0m\u001b[1;33m\u001b[0m\u001b[1;33m\u001b[0m\u001b[0m\n\u001b[0m\u001b[0;32m   3947\u001b[0m             \u001b[0mresult\u001b[0m \u001b[1;33m=\u001b[0m \u001b[0mself\u001b[0m\u001b[1;33m.\u001b[0m\u001b[0mreindex\u001b[0m\u001b[1;33m(\u001b[0m\u001b[1;33m**\u001b[0m\u001b[1;33m{\u001b[0m\u001b[0maxis_name\u001b[0m\u001b[1;33m:\u001b[0m \u001b[0mnew_axis\u001b[0m\u001b[1;33m}\u001b[0m\u001b[1;33m)\u001b[0m\u001b[1;33m\u001b[0m\u001b[1;33m\u001b[0m\u001b[0m\n\u001b[0;32m   3948\u001b[0m \u001b[1;33m\u001b[0m\u001b[0m\n",
      "\u001b[1;32m~\\Anaconda3\\lib\\site-packages\\pandas\\core\\indexes\\base.py\u001b[0m in \u001b[0;36mdrop\u001b[1;34m(self, labels, errors)\u001b[0m\n\u001b[0;32m   5338\u001b[0m         \u001b[1;32mif\u001b[0m \u001b[0mmask\u001b[0m\u001b[1;33m.\u001b[0m\u001b[0many\u001b[0m\u001b[1;33m(\u001b[0m\u001b[1;33m)\u001b[0m\u001b[1;33m:\u001b[0m\u001b[1;33m\u001b[0m\u001b[1;33m\u001b[0m\u001b[0m\n\u001b[0;32m   5339\u001b[0m             \u001b[1;32mif\u001b[0m \u001b[0merrors\u001b[0m \u001b[1;33m!=\u001b[0m \u001b[1;34m\"ignore\"\u001b[0m\u001b[1;33m:\u001b[0m\u001b[1;33m\u001b[0m\u001b[1;33m\u001b[0m\u001b[0m\n\u001b[1;32m-> 5340\u001b[1;33m                 \u001b[1;32mraise\u001b[0m \u001b[0mKeyError\u001b[0m\u001b[1;33m(\u001b[0m\u001b[1;34m\"{} not found in axis\"\u001b[0m\u001b[1;33m.\u001b[0m\u001b[0mformat\u001b[0m\u001b[1;33m(\u001b[0m\u001b[0mlabels\u001b[0m\u001b[1;33m[\u001b[0m\u001b[0mmask\u001b[0m\u001b[1;33m]\u001b[0m\u001b[1;33m)\u001b[0m\u001b[1;33m)\u001b[0m\u001b[1;33m\u001b[0m\u001b[1;33m\u001b[0m\u001b[0m\n\u001b[0m\u001b[0;32m   5341\u001b[0m             \u001b[0mindexer\u001b[0m \u001b[1;33m=\u001b[0m \u001b[0mindexer\u001b[0m\u001b[1;33m[\u001b[0m\u001b[1;33m~\u001b[0m\u001b[0mmask\u001b[0m\u001b[1;33m]\u001b[0m\u001b[1;33m\u001b[0m\u001b[1;33m\u001b[0m\u001b[0m\n\u001b[0;32m   5342\u001b[0m         \u001b[1;32mreturn\u001b[0m \u001b[0mself\u001b[0m\u001b[1;33m.\u001b[0m\u001b[0mdelete\u001b[0m\u001b[1;33m(\u001b[0m\u001b[0mindexer\u001b[0m\u001b[1;33m)\u001b[0m\u001b[1;33m\u001b[0m\u001b[1;33m\u001b[0m\u001b[0m\n",
      "\u001b[1;31mKeyError\u001b[0m: \"['education'] not found in axis\""
     ]
    }
   ],
   "source": [
    "# TODO połączyć education z education_num w słownik\n",
    "dataset.drop(['education'], axis=1, inplace=True) "
   ]
  },
  {
   "cell_type": "code",
   "execution_count": 222,
   "metadata": {},
   "outputs": [
    {
     "data": {
      "text/html": [
       "<div>\n",
       "<style scoped>\n",
       "    .dataframe tbody tr th:only-of-type {\n",
       "        vertical-align: middle;\n",
       "    }\n",
       "\n",
       "    .dataframe tbody tr th {\n",
       "        vertical-align: top;\n",
       "    }\n",
       "\n",
       "    .dataframe thead th {\n",
       "        text-align: right;\n",
       "    }\n",
       "</style>\n",
       "<table border=\"1\" class=\"dataframe\">\n",
       "  <thead>\n",
       "    <tr style=\"text-align: right;\">\n",
       "      <th></th>\n",
       "      <th>age</th>\n",
       "      <th>workclass</th>\n",
       "      <th>education_num</th>\n",
       "      <th>marital_status</th>\n",
       "      <th>occupation</th>\n",
       "      <th>relationship</th>\n",
       "      <th>race</th>\n",
       "      <th>sex</th>\n",
       "      <th>capital_gain</th>\n",
       "      <th>capital_loss</th>\n",
       "      <th>hours_per_week</th>\n",
       "      <th>native_country</th>\n",
       "      <th>wage_class</th>\n",
       "    </tr>\n",
       "  </thead>\n",
       "  <tbody>\n",
       "    <tr>\n",
       "      <td>0</td>\n",
       "      <td>39</td>\n",
       "      <td>State-gov</td>\n",
       "      <td>13</td>\n",
       "      <td>Never-married</td>\n",
       "      <td>Adm-clerical</td>\n",
       "      <td>Not-in-family</td>\n",
       "      <td>White</td>\n",
       "      <td>Male</td>\n",
       "      <td>2174</td>\n",
       "      <td>0</td>\n",
       "      <td>40</td>\n",
       "      <td>United-States</td>\n",
       "      <td>0</td>\n",
       "    </tr>\n",
       "    <tr>\n",
       "      <td>1</td>\n",
       "      <td>50</td>\n",
       "      <td>Self-emp-not-inc</td>\n",
       "      <td>13</td>\n",
       "      <td>Married-civ-spouse</td>\n",
       "      <td>Exec-managerial</td>\n",
       "      <td>Husband</td>\n",
       "      <td>White</td>\n",
       "      <td>Male</td>\n",
       "      <td>0</td>\n",
       "      <td>0</td>\n",
       "      <td>13</td>\n",
       "      <td>United-States</td>\n",
       "      <td>0</td>\n",
       "    </tr>\n",
       "    <tr>\n",
       "      <td>2</td>\n",
       "      <td>38</td>\n",
       "      <td>Private</td>\n",
       "      <td>9</td>\n",
       "      <td>Divorced</td>\n",
       "      <td>Handlers-cleaners</td>\n",
       "      <td>Not-in-family</td>\n",
       "      <td>White</td>\n",
       "      <td>Male</td>\n",
       "      <td>0</td>\n",
       "      <td>0</td>\n",
       "      <td>40</td>\n",
       "      <td>United-States</td>\n",
       "      <td>0</td>\n",
       "    </tr>\n",
       "    <tr>\n",
       "      <td>3</td>\n",
       "      <td>53</td>\n",
       "      <td>Private</td>\n",
       "      <td>7</td>\n",
       "      <td>Married-civ-spouse</td>\n",
       "      <td>Handlers-cleaners</td>\n",
       "      <td>Husband</td>\n",
       "      <td>Black</td>\n",
       "      <td>Male</td>\n",
       "      <td>0</td>\n",
       "      <td>0</td>\n",
       "      <td>40</td>\n",
       "      <td>United-States</td>\n",
       "      <td>0</td>\n",
       "    </tr>\n",
       "    <tr>\n",
       "      <td>4</td>\n",
       "      <td>28</td>\n",
       "      <td>Private</td>\n",
       "      <td>13</td>\n",
       "      <td>Married-civ-spouse</td>\n",
       "      <td>Prof-specialty</td>\n",
       "      <td>Wife</td>\n",
       "      <td>Black</td>\n",
       "      <td>Female</td>\n",
       "      <td>0</td>\n",
       "      <td>0</td>\n",
       "      <td>40</td>\n",
       "      <td>Cuba</td>\n",
       "      <td>0</td>\n",
       "    </tr>\n",
       "    <tr>\n",
       "      <td>...</td>\n",
       "      <td>...</td>\n",
       "      <td>...</td>\n",
       "      <td>...</td>\n",
       "      <td>...</td>\n",
       "      <td>...</td>\n",
       "      <td>...</td>\n",
       "      <td>...</td>\n",
       "      <td>...</td>\n",
       "      <td>...</td>\n",
       "      <td>...</td>\n",
       "      <td>...</td>\n",
       "      <td>...</td>\n",
       "      <td>...</td>\n",
       "    </tr>\n",
       "    <tr>\n",
       "      <td>16275</td>\n",
       "      <td>33</td>\n",
       "      <td>Private</td>\n",
       "      <td>13</td>\n",
       "      <td>Never-married</td>\n",
       "      <td>Prof-specialty</td>\n",
       "      <td>Own-child</td>\n",
       "      <td>White</td>\n",
       "      <td>Male</td>\n",
       "      <td>0</td>\n",
       "      <td>0</td>\n",
       "      <td>40</td>\n",
       "      <td>United-States</td>\n",
       "      <td>0</td>\n",
       "    </tr>\n",
       "    <tr>\n",
       "      <td>16276</td>\n",
       "      <td>39</td>\n",
       "      <td>Private</td>\n",
       "      <td>13</td>\n",
       "      <td>Divorced</td>\n",
       "      <td>Prof-specialty</td>\n",
       "      <td>Not-in-family</td>\n",
       "      <td>White</td>\n",
       "      <td>Female</td>\n",
       "      <td>0</td>\n",
       "      <td>0</td>\n",
       "      <td>36</td>\n",
       "      <td>United-States</td>\n",
       "      <td>0</td>\n",
       "    </tr>\n",
       "    <tr>\n",
       "      <td>16278</td>\n",
       "      <td>38</td>\n",
       "      <td>Private</td>\n",
       "      <td>13</td>\n",
       "      <td>Married-civ-spouse</td>\n",
       "      <td>Prof-specialty</td>\n",
       "      <td>Husband</td>\n",
       "      <td>White</td>\n",
       "      <td>Male</td>\n",
       "      <td>0</td>\n",
       "      <td>0</td>\n",
       "      <td>50</td>\n",
       "      <td>United-States</td>\n",
       "      <td>0</td>\n",
       "    </tr>\n",
       "    <tr>\n",
       "      <td>16279</td>\n",
       "      <td>44</td>\n",
       "      <td>Private</td>\n",
       "      <td>13</td>\n",
       "      <td>Divorced</td>\n",
       "      <td>Adm-clerical</td>\n",
       "      <td>Own-child</td>\n",
       "      <td>Asian-Pac-Islander</td>\n",
       "      <td>Male</td>\n",
       "      <td>5455</td>\n",
       "      <td>0</td>\n",
       "      <td>40</td>\n",
       "      <td>United-States</td>\n",
       "      <td>0</td>\n",
       "    </tr>\n",
       "    <tr>\n",
       "      <td>16280</td>\n",
       "      <td>35</td>\n",
       "      <td>Self-emp-inc</td>\n",
       "      <td>13</td>\n",
       "      <td>Married-civ-spouse</td>\n",
       "      <td>Exec-managerial</td>\n",
       "      <td>Husband</td>\n",
       "      <td>White</td>\n",
       "      <td>Male</td>\n",
       "      <td>0</td>\n",
       "      <td>0</td>\n",
       "      <td>60</td>\n",
       "      <td>United-States</td>\n",
       "      <td>1</td>\n",
       "    </tr>\n",
       "  </tbody>\n",
       "</table>\n",
       "<p>45222 rows × 13 columns</p>\n",
       "</div>"
      ],
      "text/plain": [
       "       age         workclass  education_num      marital_status  \\\n",
       "0       39         State-gov             13       Never-married   \n",
       "1       50  Self-emp-not-inc             13  Married-civ-spouse   \n",
       "2       38           Private              9            Divorced   \n",
       "3       53           Private              7  Married-civ-spouse   \n",
       "4       28           Private             13  Married-civ-spouse   \n",
       "...    ...               ...            ...                 ...   \n",
       "16275   33           Private             13       Never-married   \n",
       "16276   39           Private             13            Divorced   \n",
       "16278   38           Private             13  Married-civ-spouse   \n",
       "16279   44           Private             13            Divorced   \n",
       "16280   35      Self-emp-inc             13  Married-civ-spouse   \n",
       "\n",
       "              occupation   relationship                race     sex  \\\n",
       "0           Adm-clerical  Not-in-family               White    Male   \n",
       "1        Exec-managerial        Husband               White    Male   \n",
       "2      Handlers-cleaners  Not-in-family               White    Male   \n",
       "3      Handlers-cleaners        Husband               Black    Male   \n",
       "4         Prof-specialty           Wife               Black  Female   \n",
       "...                  ...            ...                 ...     ...   \n",
       "16275     Prof-specialty      Own-child               White    Male   \n",
       "16276     Prof-specialty  Not-in-family               White  Female   \n",
       "16278     Prof-specialty        Husband               White    Male   \n",
       "16279       Adm-clerical      Own-child  Asian-Pac-Islander    Male   \n",
       "16280    Exec-managerial        Husband               White    Male   \n",
       "\n",
       "       capital_gain  capital_loss  hours_per_week native_country  wage_class  \n",
       "0              2174             0              40  United-States           0  \n",
       "1                 0             0              13  United-States           0  \n",
       "2                 0             0              40  United-States           0  \n",
       "3                 0             0              40  United-States           0  \n",
       "4                 0             0              40           Cuba           0  \n",
       "...             ...           ...             ...            ...         ...  \n",
       "16275             0             0              40  United-States           0  \n",
       "16276             0             0              36  United-States           0  \n",
       "16278             0             0              50  United-States           0  \n",
       "16279          5455             0              40  United-States           0  \n",
       "16280             0             0              60  United-States           1  \n",
       "\n",
       "[45222 rows x 13 columns]"
      ]
     },
     "execution_count": 222,
     "metadata": {},
     "output_type": "execute_result"
    }
   ],
   "source": [
    "dataset"
   ]
  },
  {
   "cell_type": "code",
   "execution_count": 223,
   "metadata": {},
   "outputs": [
    {
     "data": {
      "text/html": [
       "<div>\n",
       "<style scoped>\n",
       "    .dataframe tbody tr th:only-of-type {\n",
       "        vertical-align: middle;\n",
       "    }\n",
       "\n",
       "    .dataframe tbody tr th {\n",
       "        vertical-align: top;\n",
       "    }\n",
       "\n",
       "    .dataframe thead th {\n",
       "        text-align: right;\n",
       "    }\n",
       "</style>\n",
       "<table border=\"1\" class=\"dataframe\">\n",
       "  <thead>\n",
       "    <tr style=\"text-align: right;\">\n",
       "      <th></th>\n",
       "      <th>age</th>\n",
       "      <th>workclass</th>\n",
       "      <th>education_num</th>\n",
       "      <th>marital_status</th>\n",
       "      <th>occupation</th>\n",
       "      <th>relationship</th>\n",
       "      <th>race</th>\n",
       "      <th>sex</th>\n",
       "      <th>capital_gain</th>\n",
       "      <th>capital_loss</th>\n",
       "      <th>hours_per_week</th>\n",
       "      <th>native_country</th>\n",
       "      <th>wage_class</th>\n",
       "    </tr>\n",
       "  </thead>\n",
       "  <tbody>\n",
       "    <tr>\n",
       "      <td>count</td>\n",
       "      <td>45222.000000</td>\n",
       "      <td>45222</td>\n",
       "      <td>45222.000000</td>\n",
       "      <td>45222</td>\n",
       "      <td>45222</td>\n",
       "      <td>45222</td>\n",
       "      <td>45222</td>\n",
       "      <td>45222</td>\n",
       "      <td>45222.000000</td>\n",
       "      <td>45222.000000</td>\n",
       "      <td>45222.000000</td>\n",
       "      <td>45222</td>\n",
       "      <td>45222.000000</td>\n",
       "    </tr>\n",
       "    <tr>\n",
       "      <td>unique</td>\n",
       "      <td>NaN</td>\n",
       "      <td>7</td>\n",
       "      <td>NaN</td>\n",
       "      <td>7</td>\n",
       "      <td>14</td>\n",
       "      <td>6</td>\n",
       "      <td>5</td>\n",
       "      <td>2</td>\n",
       "      <td>NaN</td>\n",
       "      <td>NaN</td>\n",
       "      <td>NaN</td>\n",
       "      <td>41</td>\n",
       "      <td>NaN</td>\n",
       "    </tr>\n",
       "    <tr>\n",
       "      <td>top</td>\n",
       "      <td>NaN</td>\n",
       "      <td>Private</td>\n",
       "      <td>NaN</td>\n",
       "      <td>Married-civ-spouse</td>\n",
       "      <td>Craft-repair</td>\n",
       "      <td>Husband</td>\n",
       "      <td>White</td>\n",
       "      <td>Male</td>\n",
       "      <td>NaN</td>\n",
       "      <td>NaN</td>\n",
       "      <td>NaN</td>\n",
       "      <td>United-States</td>\n",
       "      <td>NaN</td>\n",
       "    </tr>\n",
       "    <tr>\n",
       "      <td>freq</td>\n",
       "      <td>NaN</td>\n",
       "      <td>33307</td>\n",
       "      <td>NaN</td>\n",
       "      <td>21055</td>\n",
       "      <td>6020</td>\n",
       "      <td>18666</td>\n",
       "      <td>38903</td>\n",
       "      <td>30527</td>\n",
       "      <td>NaN</td>\n",
       "      <td>NaN</td>\n",
       "      <td>NaN</td>\n",
       "      <td>41292</td>\n",
       "      <td>NaN</td>\n",
       "    </tr>\n",
       "    <tr>\n",
       "      <td>mean</td>\n",
       "      <td>38.547941</td>\n",
       "      <td>NaN</td>\n",
       "      <td>10.118460</td>\n",
       "      <td>NaN</td>\n",
       "      <td>NaN</td>\n",
       "      <td>NaN</td>\n",
       "      <td>NaN</td>\n",
       "      <td>NaN</td>\n",
       "      <td>1101.430344</td>\n",
       "      <td>88.595418</td>\n",
       "      <td>40.938017</td>\n",
       "      <td>NaN</td>\n",
       "      <td>0.247844</td>\n",
       "    </tr>\n",
       "    <tr>\n",
       "      <td>std</td>\n",
       "      <td>13.217870</td>\n",
       "      <td>NaN</td>\n",
       "      <td>2.552881</td>\n",
       "      <td>NaN</td>\n",
       "      <td>NaN</td>\n",
       "      <td>NaN</td>\n",
       "      <td>NaN</td>\n",
       "      <td>NaN</td>\n",
       "      <td>7506.430084</td>\n",
       "      <td>404.956092</td>\n",
       "      <td>12.007508</td>\n",
       "      <td>NaN</td>\n",
       "      <td>0.431766</td>\n",
       "    </tr>\n",
       "    <tr>\n",
       "      <td>min</td>\n",
       "      <td>17.000000</td>\n",
       "      <td>NaN</td>\n",
       "      <td>1.000000</td>\n",
       "      <td>NaN</td>\n",
       "      <td>NaN</td>\n",
       "      <td>NaN</td>\n",
       "      <td>NaN</td>\n",
       "      <td>NaN</td>\n",
       "      <td>0.000000</td>\n",
       "      <td>0.000000</td>\n",
       "      <td>1.000000</td>\n",
       "      <td>NaN</td>\n",
       "      <td>0.000000</td>\n",
       "    </tr>\n",
       "    <tr>\n",
       "      <td>25%</td>\n",
       "      <td>28.000000</td>\n",
       "      <td>NaN</td>\n",
       "      <td>9.000000</td>\n",
       "      <td>NaN</td>\n",
       "      <td>NaN</td>\n",
       "      <td>NaN</td>\n",
       "      <td>NaN</td>\n",
       "      <td>NaN</td>\n",
       "      <td>0.000000</td>\n",
       "      <td>0.000000</td>\n",
       "      <td>40.000000</td>\n",
       "      <td>NaN</td>\n",
       "      <td>0.000000</td>\n",
       "    </tr>\n",
       "    <tr>\n",
       "      <td>50%</td>\n",
       "      <td>37.000000</td>\n",
       "      <td>NaN</td>\n",
       "      <td>10.000000</td>\n",
       "      <td>NaN</td>\n",
       "      <td>NaN</td>\n",
       "      <td>NaN</td>\n",
       "      <td>NaN</td>\n",
       "      <td>NaN</td>\n",
       "      <td>0.000000</td>\n",
       "      <td>0.000000</td>\n",
       "      <td>40.000000</td>\n",
       "      <td>NaN</td>\n",
       "      <td>0.000000</td>\n",
       "    </tr>\n",
       "    <tr>\n",
       "      <td>75%</td>\n",
       "      <td>47.000000</td>\n",
       "      <td>NaN</td>\n",
       "      <td>13.000000</td>\n",
       "      <td>NaN</td>\n",
       "      <td>NaN</td>\n",
       "      <td>NaN</td>\n",
       "      <td>NaN</td>\n",
       "      <td>NaN</td>\n",
       "      <td>0.000000</td>\n",
       "      <td>0.000000</td>\n",
       "      <td>45.000000</td>\n",
       "      <td>NaN</td>\n",
       "      <td>0.000000</td>\n",
       "    </tr>\n",
       "    <tr>\n",
       "      <td>max</td>\n",
       "      <td>90.000000</td>\n",
       "      <td>NaN</td>\n",
       "      <td>16.000000</td>\n",
       "      <td>NaN</td>\n",
       "      <td>NaN</td>\n",
       "      <td>NaN</td>\n",
       "      <td>NaN</td>\n",
       "      <td>NaN</td>\n",
       "      <td>99999.000000</td>\n",
       "      <td>4356.000000</td>\n",
       "      <td>99.000000</td>\n",
       "      <td>NaN</td>\n",
       "      <td>1.000000</td>\n",
       "    </tr>\n",
       "  </tbody>\n",
       "</table>\n",
       "</div>"
      ],
      "text/plain": [
       "                 age workclass  education_num      marital_status  \\\n",
       "count   45222.000000     45222   45222.000000               45222   \n",
       "unique           NaN         7            NaN                   7   \n",
       "top              NaN   Private            NaN  Married-civ-spouse   \n",
       "freq             NaN     33307            NaN               21055   \n",
       "mean       38.547941       NaN      10.118460                 NaN   \n",
       "std        13.217870       NaN       2.552881                 NaN   \n",
       "min        17.000000       NaN       1.000000                 NaN   \n",
       "25%        28.000000       NaN       9.000000                 NaN   \n",
       "50%        37.000000       NaN      10.000000                 NaN   \n",
       "75%        47.000000       NaN      13.000000                 NaN   \n",
       "max        90.000000       NaN      16.000000                 NaN   \n",
       "\n",
       "          occupation relationship   race    sex  capital_gain  capital_loss  \\\n",
       "count          45222        45222  45222  45222  45222.000000  45222.000000   \n",
       "unique            14            6      5      2           NaN           NaN   \n",
       "top     Craft-repair      Husband  White   Male           NaN           NaN   \n",
       "freq            6020        18666  38903  30527           NaN           NaN   \n",
       "mean             NaN          NaN    NaN    NaN   1101.430344     88.595418   \n",
       "std              NaN          NaN    NaN    NaN   7506.430084    404.956092   \n",
       "min              NaN          NaN    NaN    NaN      0.000000      0.000000   \n",
       "25%              NaN          NaN    NaN    NaN      0.000000      0.000000   \n",
       "50%              NaN          NaN    NaN    NaN      0.000000      0.000000   \n",
       "75%              NaN          NaN    NaN    NaN      0.000000      0.000000   \n",
       "max              NaN          NaN    NaN    NaN  99999.000000   4356.000000   \n",
       "\n",
       "        hours_per_week native_country    wage_class  \n",
       "count     45222.000000          45222  45222.000000  \n",
       "unique             NaN             41           NaN  \n",
       "top                NaN  United-States           NaN  \n",
       "freq               NaN          41292           NaN  \n",
       "mean         40.938017            NaN      0.247844  \n",
       "std          12.007508            NaN      0.431766  \n",
       "min           1.000000            NaN      0.000000  \n",
       "25%          40.000000            NaN      0.000000  \n",
       "50%          40.000000            NaN      0.000000  \n",
       "75%          45.000000            NaN      0.000000  \n",
       "max          99.000000            NaN      1.000000  "
      ]
     },
     "execution_count": 223,
     "metadata": {},
     "output_type": "execute_result"
    }
   ],
   "source": [
    "dataset.describe(include='all')"
   ]
  },
  {
   "cell_type": "code",
   "execution_count": 224,
   "metadata": {},
   "outputs": [
    {
     "data": {
      "text/plain": [
       "United-States                 41292\n",
       "Mexico                          903\n",
       "Philippines                     283\n",
       "Germany                         193\n",
       "Puerto-Rico                     175\n",
       "Canada                          163\n",
       "India                           147\n",
       "El-Salvador                     147\n",
       "Cuba                            133\n",
       "England                         119\n",
       "China                           113\n",
       "Jamaica                         103\n",
       "South                           101\n",
       "Italy                           100\n",
       "Dominican-Republic               97\n",
       "Japan                            89\n",
       "Guatemala                        86\n",
       "Vietnam                          83\n",
       "Columbia                         82\n",
       "Poland                           81\n",
       "Haiti                            69\n",
       "Portugal                         62\n",
       "Iran                             56\n",
       "Taiwan                           55\n",
       "Greece                           49\n",
       "Nicaragua                        48\n",
       "Peru                             45\n",
       "Ecuador                          43\n",
       "Ireland                          36\n",
       "France                           36\n",
       "Thailand                         29\n",
       "Hong                             28\n",
       "Trinadad&Tobago                  26\n",
       "Cambodia                         26\n",
       "Yugoslavia                       23\n",
       "Outlying-US(Guam-USVI-etc)       22\n",
       "Laos                             21\n",
       "Scotland                         20\n",
       "Honduras                         19\n",
       "Hungary                          18\n",
       "Holand-Netherlands                1\n",
       "Name: native_country, dtype: int64"
      ]
     },
     "execution_count": 224,
     "metadata": {},
     "output_type": "execute_result"
    }
   ],
   "source": [
    "dataset['native_country'].value_counts()"
   ]
  },
  {
   "cell_type": "code",
   "execution_count": 227,
   "metadata": {},
   "outputs": [
    {
     "data": {
      "image/png": "[encoded data removed]",
      "text/plain": [
       "<Figure size 1152x1152 with 42 Axes>"
      ]
     },
     "metadata": {
      "needs_background": "light"
     },
     "output_type": "display_data"
    }
   ],
   "source": [
    "ax = dataset['wage_class'].hist(by=dataset['native_country'], figsize=(16, 16))"
   ]
  },
  {
   "cell_type": "code",
   "execution_count": 232,
   "metadata": {},
   "outputs": [
    {
     "data": {
      "text/plain": [
       "native_country\n",
       "Cambodia                      0.346154\n",
       "Canada                        0.368098\n",
       "China                         0.318584\n",
       "Columbia                      0.048780\n",
       "Cuba                          0.255639\n",
       "Dominican-Republic            0.051546\n",
       "Ecuador                       0.139535\n",
       "El-Salvador                   0.074830\n",
       "England                       0.394958\n",
       "France                        0.444444\n",
       "Germany                       0.300518\n",
       "Greece                        0.367347\n",
       "Guatemala                     0.034884\n",
       "Haiti                         0.130435\n",
       "Holand-Netherlands            0.000000\n",
       "Honduras                      0.105263\n",
       "Hong                          0.285714\n",
       "Hungary                       0.333333\n",
       "India                         0.421769\n",
       "Iran                          0.392857\n",
       "Ireland                       0.277778\n",
       "Italy                         0.330000\n",
       "Jamaica                       0.135922\n",
       "Japan                         0.348315\n",
       "Laos                          0.095238\n",
       "Mexico                        0.052049\n",
       "Nicaragua                     0.062500\n",
       "Outlying-US(Guam-USVI-etc)    0.045455\n",
       "Peru                          0.088889\n",
       "Philippines                   0.296820\n",
       "Poland                        0.197531\n",
       "Portugal                      0.193548\n",
       "Puerto-Rico                   0.114286\n",
       "Scotland                      0.100000\n",
       "South                         0.178218\n",
       "Taiwan                        0.454545\n",
       "Thailand                      0.172414\n",
       "Trinadad&Tobago               0.076923\n",
       "United-States                 0.253027\n",
       "Vietnam                       0.084337\n",
       "Yugoslavia                    0.347826\n",
       "Name: wage_class, dtype: float64"
      ]
     },
     "execution_count": 232,
     "metadata": {},
     "output_type": "execute_result"
    }
   ],
   "source": [
    "mean_wage = dataset.groupby('native_country')['wage_class'].mean()\n",
    "mean_wage"
   ]
  },
  {
   "cell_type": "code",
   "execution_count": 233,
   "metadata": {},
   "outputs": [
    {
     "data": {
      "text/plain": [
       "<matplotlib.axes._subplots.AxesSubplot at 0x1f24afe8948>"
      ]
     },
     "execution_count": 233,
     "metadata": {},
     "output_type": "execute_result"
    },
    {
     "data": {
      "image/png": "[encoded data removed]",
      "text/plain": [
       "<Figure size 432x288 with 1 Axes>"
      ]
     },
     "metadata": {
      "needs_background": "light"
     },
     "output_type": "display_data"
    }
   ],
   "source": [
    "mean_wage.hist()"
   ]
  },
  {
   "cell_type": "code",
   "execution_count": 237,
   "metadata": {},
   "outputs": [
    {
     "data": {
      "text/plain": [
       "{'Cambodia': 3,\n",
       " 'Canada': 4,\n",
       " 'China': 3,\n",
       " 'Columbia': 0,\n",
       " 'Cuba': 2,\n",
       " 'Dominican-Republic': 0,\n",
       " 'Ecuador': 1,\n",
       " 'El-Salvador': 0,\n",
       " 'England': 4,\n",
       " 'France': 4,\n",
       " 'Germany': 3,\n",
       " 'Greece': 4,\n",
       " 'Guatemala': 0,\n",
       " 'Haiti': 1,\n",
       " 'Holand-Netherlands': 0,\n",
       " 'Honduras': 1,\n",
       " 'Hong': 3,\n",
       " 'Hungary': 3,\n",
       " 'India': 4,\n",
       " 'Iran': 4,\n",
       " 'Ireland': 3,\n",
       " 'Italy': 3,\n",
       " 'Jamaica': 1,\n",
       " 'Japan': 3,\n",
       " 'Laos': 1,\n",
       " 'Mexico': 0,\n",
       " 'Nicaragua': 0,\n",
       " 'Outlying-US(Guam-USVI-etc)': 0,\n",
       " 'Peru': 0,\n",
       " 'Philippines': 3,\n",
       " 'Poland': 2,\n",
       " 'Portugal': 2,\n",
       " 'Puerto-Rico': 1,\n",
       " 'Scotland': 1,\n",
       " 'South': 1,\n",
       " 'Taiwan': 4,\n",
       " 'Thailand': 1,\n",
       " 'Trinadad&Tobago': 0,\n",
       " 'Vietnam': 0,\n",
       " 'Yugoslavia': 3}"
      ]
     },
     "execution_count": 237,
     "metadata": {},
     "output_type": "execute_result"
    }
   ],
   "source": [
    "country_to_id = dict(pd.cut(mean_wage[mean_wage.index != 'United-States'], bins=5, labels=range(5)))\n",
    "country_to_id"
   ]
  },
  {
   "cell_type": "code",
   "execution_count": 238,
   "metadata": {},
   "outputs": [],
   "source": [
    "dataset['native_country'] = dataset['native_country'].replace(country_to_id)"
   ]
  },
  {
   "cell_type": "code",
   "execution_count": 239,
   "metadata": {},
   "outputs": [
    {
     "data": {
      "text/html": [
       "<div>\n",
       "<style scoped>\n",
       "    .dataframe tbody tr th:only-of-type {\n",
       "        vertical-align: middle;\n",
       "    }\n",
       "\n",
       "    .dataframe tbody tr th {\n",
       "        vertical-align: top;\n",
       "    }\n",
       "\n",
       "    .dataframe thead th {\n",
       "        text-align: right;\n",
       "    }\n",
       "</style>\n",
       "<table border=\"1\" class=\"dataframe\">\n",
       "  <thead>\n",
       "    <tr style=\"text-align: right;\">\n",
       "      <th></th>\n",
       "      <th>age</th>\n",
       "      <th>workclass</th>\n",
       "      <th>education_num</th>\n",
       "      <th>marital_status</th>\n",
       "      <th>occupation</th>\n",
       "      <th>relationship</th>\n",
       "      <th>race</th>\n",
       "      <th>sex</th>\n",
       "      <th>capital_gain</th>\n",
       "      <th>capital_loss</th>\n",
       "      <th>hours_per_week</th>\n",
       "      <th>native_country</th>\n",
       "      <th>wage_class</th>\n",
       "    </tr>\n",
       "  </thead>\n",
       "  <tbody>\n",
       "    <tr>\n",
       "      <td>0</td>\n",
       "      <td>39</td>\n",
       "      <td>State-gov</td>\n",
       "      <td>13</td>\n",
       "      <td>Never-married</td>\n",
       "      <td>Adm-clerical</td>\n",
       "      <td>Not-in-family</td>\n",
       "      <td>White</td>\n",
       "      <td>Male</td>\n",
       "      <td>2174</td>\n",
       "      <td>0</td>\n",
       "      <td>40</td>\n",
       "      <td>United-States</td>\n",
       "      <td>0</td>\n",
       "    </tr>\n",
       "    <tr>\n",
       "      <td>1</td>\n",
       "      <td>50</td>\n",
       "      <td>Self-emp-not-inc</td>\n",
       "      <td>13</td>\n",
       "      <td>Married-civ-spouse</td>\n",
       "      <td>Exec-managerial</td>\n",
       "      <td>Husband</td>\n",
       "      <td>White</td>\n",
       "      <td>Male</td>\n",
       "      <td>0</td>\n",
       "      <td>0</td>\n",
       "      <td>13</td>\n",
       "      <td>United-States</td>\n",
       "      <td>0</td>\n",
       "    </tr>\n",
       "    <tr>\n",
       "      <td>2</td>\n",
       "      <td>38</td>\n",
       "      <td>Private</td>\n",
       "      <td>9</td>\n",
       "      <td>Divorced</td>\n",
       "      <td>Handlers-cleaners</td>\n",
       "      <td>Not-in-family</td>\n",
       "      <td>White</td>\n",
       "      <td>Male</td>\n",
       "      <td>0</td>\n",
       "      <td>0</td>\n",
       "      <td>40</td>\n",
       "      <td>United-States</td>\n",
       "      <td>0</td>\n",
       "    </tr>\n",
       "    <tr>\n",
       "      <td>3</td>\n",
       "      <td>53</td>\n",
       "      <td>Private</td>\n",
       "      <td>7</td>\n",
       "      <td>Married-civ-spouse</td>\n",
       "      <td>Handlers-cleaners</td>\n",
       "      <td>Husband</td>\n",
       "      <td>Black</td>\n",
       "      <td>Male</td>\n",
       "      <td>0</td>\n",
       "      <td>0</td>\n",
       "      <td>40</td>\n",
       "      <td>United-States</td>\n",
       "      <td>0</td>\n",
       "    </tr>\n",
       "    <tr>\n",
       "      <td>4</td>\n",
       "      <td>28</td>\n",
       "      <td>Private</td>\n",
       "      <td>13</td>\n",
       "      <td>Married-civ-spouse</td>\n",
       "      <td>Prof-specialty</td>\n",
       "      <td>Wife</td>\n",
       "      <td>Black</td>\n",
       "      <td>Female</td>\n",
       "      <td>0</td>\n",
       "      <td>0</td>\n",
       "      <td>40</td>\n",
       "      <td>2</td>\n",
       "      <td>0</td>\n",
       "    </tr>\n",
       "    <tr>\n",
       "      <td>...</td>\n",
       "      <td>...</td>\n",
       "      <td>...</td>\n",
       "      <td>...</td>\n",
       "      <td>...</td>\n",
       "      <td>...</td>\n",
       "      <td>...</td>\n",
       "      <td>...</td>\n",
       "      <td>...</td>\n",
       "      <td>...</td>\n",
       "      <td>...</td>\n",
       "      <td>...</td>\n",
       "      <td>...</td>\n",
       "      <td>...</td>\n",
       "    </tr>\n",
       "    <tr>\n",
       "      <td>16275</td>\n",
       "      <td>33</td>\n",
       "      <td>Private</td>\n",
       "      <td>13</td>\n",
       "      <td>Never-married</td>\n",
       "      <td>Prof-specialty</td>\n",
       "      <td>Own-child</td>\n",
       "      <td>White</td>\n",
       "      <td>Male</td>\n",
       "      <td>0</td>\n",
       "      <td>0</td>\n",
       "      <td>40</td>\n",
       "      <td>United-States</td>\n",
       "      <td>0</td>\n",
       "    </tr>\n",
       "    <tr>\n",
       "      <td>16276</td>\n",
       "      <td>39</td>\n",
       "      <td>Private</td>\n",
       "      <td>13</td>\n",
       "      <td>Divorced</td>\n",
       "      <td>Prof-specialty</td>\n",
       "      <td>Not-in-family</td>\n",
       "      <td>White</td>\n",
       "      <td>Female</td>\n",
       "      <td>0</td>\n",
       "      <td>0</td>\n",
       "      <td>36</td>\n",
       "      <td>United-States</td>\n",
       "      <td>0</td>\n",
       "    </tr>\n",
       "    <tr>\n",
       "      <td>16278</td>\n",
       "      <td>38</td>\n",
       "      <td>Private</td>\n",
       "      <td>13</td>\n",
       "      <td>Married-civ-spouse</td>\n",
       "      <td>Prof-specialty</td>\n",
       "      <td>Husband</td>\n",
       "      <td>White</td>\n",
       "      <td>Male</td>\n",
       "      <td>0</td>\n",
       "      <td>0</td>\n",
       "      <td>50</td>\n",
       "      <td>United-States</td>\n",
       "      <td>0</td>\n",
       "    </tr>\n",
       "    <tr>\n",
       "      <td>16279</td>\n",
       "      <td>44</td>\n",
       "      <td>Private</td>\n",
       "      <td>13</td>\n",
       "      <td>Divorced</td>\n",
       "      <td>Adm-clerical</td>\n",
       "      <td>Own-child</td>\n",
       "      <td>Asian-Pac-Islander</td>\n",
       "      <td>Male</td>\n",
       "      <td>5455</td>\n",
       "      <td>0</td>\n",
       "      <td>40</td>\n",
       "      <td>United-States</td>\n",
       "      <td>0</td>\n",
       "    </tr>\n",
       "    <tr>\n",
       "      <td>16280</td>\n",
       "      <td>35</td>\n",
       "      <td>Self-emp-inc</td>\n",
       "      <td>13</td>\n",
       "      <td>Married-civ-spouse</td>\n",
       "      <td>Exec-managerial</td>\n",
       "      <td>Husband</td>\n",
       "      <td>White</td>\n",
       "      <td>Male</td>\n",
       "      <td>0</td>\n",
       "      <td>0</td>\n",
       "      <td>60</td>\n",
       "      <td>United-States</td>\n",
       "      <td>1</td>\n",
       "    </tr>\n",
       "  </tbody>\n",
       "</table>\n",
       "<p>45222 rows × 13 columns</p>\n",
       "</div>"
      ],
      "text/plain": [
       "       age         workclass  education_num      marital_status  \\\n",
       "0       39         State-gov             13       Never-married   \n",
       "1       50  Self-emp-not-inc             13  Married-civ-spouse   \n",
       "2       38           Private              9            Divorced   \n",
       "3       53           Private              7  Married-civ-spouse   \n",
       "4       28           Private             13  Married-civ-spouse   \n",
       "...    ...               ...            ...                 ...   \n",
       "16275   33           Private             13       Never-married   \n",
       "16276   39           Private             13            Divorced   \n",
       "16278   38           Private             13  Married-civ-spouse   \n",
       "16279   44           Private             13            Divorced   \n",
       "16280   35      Self-emp-inc             13  Married-civ-spouse   \n",
       "\n",
       "              occupation   relationship                race     sex  \\\n",
       "0           Adm-clerical  Not-in-family               White    Male   \n",
       "1        Exec-managerial        Husband               White    Male   \n",
       "2      Handlers-cleaners  Not-in-family               White    Male   \n",
       "3      Handlers-cleaners        Husband               Black    Male   \n",
       "4         Prof-specialty           Wife               Black  Female   \n",
       "...                  ...            ...                 ...     ...   \n",
       "16275     Prof-specialty      Own-child               White    Male   \n",
       "16276     Prof-specialty  Not-in-family               White  Female   \n",
       "16278     Prof-specialty        Husband               White    Male   \n",
       "16279       Adm-clerical      Own-child  Asian-Pac-Islander    Male   \n",
       "16280    Exec-managerial        Husband               White    Male   \n",
       "\n",
       "       capital_gain  capital_loss  hours_per_week native_country  wage_class  \n",
       "0              2174             0              40  United-States           0  \n",
       "1                 0             0              13  United-States           0  \n",
       "2                 0             0              40  United-States           0  \n",
       "3                 0             0              40  United-States           0  \n",
       "4                 0             0              40              2           0  \n",
       "...             ...           ...             ...            ...         ...  \n",
       "16275             0             0              40  United-States           0  \n",
       "16276             0             0              36  United-States           0  \n",
       "16278             0             0              50  United-States           0  \n",
       "16279          5455             0              40  United-States           0  \n",
       "16280             0             0              60  United-States           1  \n",
       "\n",
       "[45222 rows x 13 columns]"
      ]
     },
     "execution_count": 239,
     "metadata": {},
     "output_type": "execute_result"
    }
   ],
   "source": [
    "dataset"
   ]
  },
  {
   "cell_type": "code",
   "execution_count": 243,
   "metadata": {},
   "outputs": [],
   "source": [
    "dataset = pd.get_dummies(dataset, drop_first=True)"
   ]
  },
  {
   "cell_type": "code",
   "execution_count": 244,
   "metadata": {
    "collapsed": true
   },
   "outputs": [
    {
     "name": "stdout",
     "output_type": "stream",
     "text": [
      "<class 'pandas.core.frame.DataFrame'>\n",
      "Int64Index: 45222 entries, 0 to 16280\n",
      "Data columns (total 46 columns):\n",
      "age                                     45222 non-null int64\n",
      "education_num                           45222 non-null int64\n",
      "capital_gain                            45222 non-null int64\n",
      "capital_loss                            45222 non-null int64\n",
      "hours_per_week                          45222 non-null int64\n",
      "wage_class                              45222 non-null int64\n",
      "workclass_Local-gov                     45222 non-null uint8\n",
      "workclass_Private                       45222 non-null uint8\n",
      "workclass_Self-emp-inc                  45222 non-null uint8\n",
      "workclass_Self-emp-not-inc              45222 non-null uint8\n",
      "workclass_State-gov                     45222 non-null uint8\n",
      "workclass_Without-pay                   45222 non-null uint8\n",
      "marital_status_Married-AF-spouse        45222 non-null uint8\n",
      "marital_status_Married-civ-spouse       45222 non-null uint8\n",
      "marital_status_Married-spouse-absent    45222 non-null uint8\n",
      "marital_status_Never-married            45222 non-null uint8\n",
      "marital_status_Separated                45222 non-null uint8\n",
      "marital_status_Widowed                  45222 non-null uint8\n",
      "occupation_Armed-Forces                 45222 non-null uint8\n",
      "occupation_Craft-repair                 45222 non-null uint8\n",
      "occupation_Exec-managerial              45222 non-null uint8\n",
      "occupation_Farming-fishing              45222 non-null uint8\n",
      "occupation_Handlers-cleaners            45222 non-null uint8\n",
      "occupation_Machine-op-inspct            45222 non-null uint8\n",
      "occupation_Other-service                45222 non-null uint8\n",
      "occupation_Priv-house-serv              45222 non-null uint8\n",
      "occupation_Prof-specialty               45222 non-null uint8\n",
      "occupation_Protective-serv              45222 non-null uint8\n",
      "occupation_Sales                        45222 non-null uint8\n",
      "occupation_Tech-support                 45222 non-null uint8\n",
      "occupation_Transport-moving             45222 non-null uint8\n",
      "relationship_Not-in-family              45222 non-null uint8\n",
      "relationship_Other-relative             45222 non-null uint8\n",
      "relationship_Own-child                  45222 non-null uint8\n",
      "relationship_Unmarried                  45222 non-null uint8\n",
      "relationship_Wife                       45222 non-null uint8\n",
      "race_Asian-Pac-Islander                 45222 non-null uint8\n",
      "race_Black                              45222 non-null uint8\n",
      "race_Other                              45222 non-null uint8\n",
      "race_White                              45222 non-null uint8\n",
      "sex_Male                                45222 non-null uint8\n",
      "native_country_1                        45222 non-null uint8\n",
      "native_country_2                        45222 non-null uint8\n",
      "native_country_3                        45222 non-null uint8\n",
      "native_country_4                        45222 non-null uint8\n",
      "native_country_United-States            45222 non-null uint8\n",
      "dtypes: int64(6), uint8(40)\n",
      "memory usage: 5.4 MB\n"
     ]
    }
   ],
   "source": [
    "dataset.info()"
   ]
  },
  {
   "cell_type": "code",
   "execution_count": 246,
   "metadata": {},
   "outputs": [],
   "source": [
    "train = dataset.iloc[:train_set.shape[0]]\n",
    "test = dataset.iloc[train_set.shape[0]:]"
   ]
  },
  {
   "cell_type": "code",
   "execution_count": 249,
   "metadata": {},
   "outputs": [],
   "source": [
    "X_train = train.drop('wage_class', axis=1, inplace=False).values\n",
    "X_test = test.drop('wage_class', axis=1, inplace=False).values\n",
    "\n",
    "y_train = train['wage_class'].values\n",
    "y_test = test['wage_class'].values"
   ]
  },
  {
   "cell_type": "code",
   "execution_count": 250,
   "metadata": {},
   "outputs": [
    {
     "data": {
      "text/plain": [
       "array([[   39,    13,  2174, ...,     0,     0,     1],\n",
       "       [   50,    13,     0, ...,     0,     0,     1],\n",
       "       [   38,     9,     0, ...,     0,     0,     1],\n",
       "       ...,\n",
       "       [   58,     9,     0, ...,     0,     0,     1],\n",
       "       [   22,     9,     0, ...,     0,     0,     1],\n",
       "       [   52,     9, 15024, ...,     0,     0,     1]], dtype=int64)"
      ]
     },
     "execution_count": 250,
     "metadata": {},
     "output_type": "execute_result"
    }
   ],
   "source": [
    "X_train"
   ]
  },
  {
   "cell_type": "code",
   "execution_count": 251,
   "metadata": {},
   "outputs": [
    {
     "data": {
      "text/plain": [
       "0.24892248524633645"
      ]
     },
     "execution_count": 251,
     "metadata": {},
     "output_type": "execute_result"
    }
   ],
   "source": [
    "y_train.mean()"
   ]
  },
  {
   "cell_type": "code",
   "execution_count": null,
   "metadata": {},
   "outputs": [],
   "source": []
  },
  {
   "cell_type": "markdown",
   "metadata": {},
   "source": [
    "#### Baseline drzewo decyzyjne"
   ]
  },
  {
   "cell_type": "code",
   "execution_count": 252,
   "metadata": {},
   "outputs": [
    {
     "data": {
      "text/plain": [
       "GridSearchCV(cv='warn', error_score='raise-deprecating',\n",
       "             estimator=DecisionTreeClassifier(class_weight=None,\n",
       "                                              criterion='gini', max_depth=None,\n",
       "                                              max_features=None,\n",
       "                                              max_leaf_nodes=None,\n",
       "                                              min_impurity_decrease=0.0,\n",
       "                                              min_impurity_split=None,\n",
       "                                              min_samples_leaf=1,\n",
       "                                              min_samples_split=2,\n",
       "                                              min_weight_fraction_leaf=0.0,\n",
       "                                              presort=False, random_state=None,\n",
       "                                              splitter='best'),\n",
       "             iid='warn', n_jobs=None,\n",
       "             param_grid={'max_depth': [2, 5, 10, 20, 50],\n",
       "                         'min_samples_leaf': [5, 10, 15, 50]},\n",
       "             pre_dispatch='2*n_jobs', refit=True, return_train_score=False,\n",
       "             scoring=None, verbose=0)"
      ]
     },
     "execution_count": 252,
     "metadata": {},
     "output_type": "execute_result"
    }
   ],
   "source": [
    "model = DecisionTreeClassifier()\n",
    "\n",
    "params = {\n",
    "    'max_depth': [2, 5, 10, 20, 50],\n",
    "    'min_samples_leaf': [5, 10, 15, 50]\n",
    "}\n",
    "\n",
    "gscv = GridSearchCV(param_grid=params, estimator=model)\n",
    "gscv.fit(X_train, y_train)"
   ]
  },
  {
   "cell_type": "code",
   "execution_count": 253,
   "metadata": {},
   "outputs": [
    {
     "name": "stdout",
     "output_type": "stream",
     "text": [
      "Accuracy: 85.21% AUC:  0.8940781071564522\n"
     ]
    }
   ],
   "source": [
    "y_pred = gscv.best_estimator_.predict_proba(X_test)[:,1]\n",
    "predictions = np.round(y_pred)\n",
    "\n",
    "accuracy = accuracy_score(y_test, predictions)\n",
    "print(\"Accuracy: %.2f%%\" % (accuracy * 100.0), \"AUC: \", roc_auc_score(y_score=y_pred,y_true=y_test))"
   ]
  },
  {
   "cell_type": "code",
   "execution_count": null,
   "metadata": {},
   "outputs": [],
   "source": []
  },
  {
   "cell_type": "markdown",
   "metadata": {},
   "source": [
    "#### XGBoost"
   ]
  },
  {
   "cell_type": "code",
   "execution_count": 255,
   "metadata": {},
   "outputs": [],
   "source": [
    "from sklearn.pipeline import Pipeline"
   ]
  },
  {
   "cell_type": "code",
   "execution_count": 260,
   "metadata": {},
   "outputs": [
    {
     "name": "stdout",
     "output_type": "stream",
     "text": [
      "Fitting 5 folds for each of 100 candidates, totalling 500 fits\n"
     ]
    },
    {
     "name": "stderr",
     "output_type": "stream",
     "text": [
      "[Parallel(n_jobs=4)]: Using backend LokyBackend with 4 concurrent workers.\n",
      "[Parallel(n_jobs=4)]: Done  42 tasks      | elapsed:  1.3min\n",
      "[Parallel(n_jobs=4)]: Done 192 tasks      | elapsed:  8.5min\n",
      "[Parallel(n_jobs=4)]: Done 442 tasks      | elapsed: 20.3min\n",
      "[Parallel(n_jobs=4)]: Done 500 out of 500 | elapsed: 22.4min finished\n"
     ]
    },
    {
     "name": "stdout",
     "output_type": "stream",
     "text": [
      "{'xgb__gamma': 1.8014439697684215, 'xgb__learning_rate': 0.19686882643034323, 'xgb__max_depth': 12, 'xgb__min_child_weight': 8, 'xgb__n_estimators': 263, 'xgb__reg_alpha': 1.090792841054657, 'xgb__reg_lambda': 1.3669079866903013}\n"
     ]
    }
   ],
   "source": [
    "model = Pipeline(steps = [\n",
    "    ('scaler', StandardScaler()),\n",
    "    ('xgb', XGBClassifier())\n",
    "] )\n",
    "\n",
    "params = {\n",
    "    'xgb__n_estimators': ss.randint(10, 300),\n",
    "    'xgb__learning_rate': ss.uniform(0.001, 0.6),\n",
    "    'xgb__max_depth': ss.randint(3, 15),\n",
    "    'xgb__min_child_weight': ss.randint(3, 15),\n",
    "    'xgb__reg_lambda': ss.uniform(0.001, 4),\n",
    "    'xgb__reg_alpha': ss.uniform(0.001, 4),\n",
    "    'xgb__gamma': ss.uniform(0.001, 4)\n",
    "}\n",
    "\n",
    "rscv  = RandomizedSearchCV(estimator=model, \n",
    "                          param_distributions=params,\n",
    "                          n_iter=100,\n",
    "                          cv=5,\n",
    "                          verbose=1,\n",
    "                          n_jobs=4)\n",
    "rscv.fit(X_train, y_train)\n",
    "print(rscv.best_params_)"
   ]
  },
  {
   "cell_type": "code",
   "execution_count": 261,
   "metadata": {},
   "outputs": [
    {
     "name": "stdout",
     "output_type": "stream",
     "text": [
      "Accuracy: 86.56% AUC:  0.9248116197183097\n"
     ]
    }
   ],
   "source": [
    "y_pred = rscv.best_estimator_.predict_proba(X_test)[:,1]\n",
    "predictions = np.round(y_pred)\n",
    "\n",
    "accuracy = accuracy_score(y_test, predictions)\n",
    "print(\"Accuracy: %.2f%%\" % (accuracy * 100.0), \"AUC: \", roc_auc_score(y_score=y_pred,y_true=y_test))"
   ]
  },
  {
   "cell_type": "code",
   "execution_count": 266,
   "metadata": {},
   "outputs": [
    {
     "name": "stdout",
     "output_type": "stream",
     "text": [
      "Fitting 5 folds for each of 200 candidates, totalling 1000 fits\n"
     ]
    },
    {
     "name": "stderr",
     "output_type": "stream",
     "text": [
      "[Parallel(n_jobs=-1)]: Using backend LokyBackend with 8 concurrent workers.\n",
      "[Parallel(n_jobs=-1)]: Done  34 tasks      | elapsed:  2.9min\n",
      "[Parallel(n_jobs=-1)]: Done 184 tasks      | elapsed: 16.0min\n",
      "[Parallel(n_jobs=-1)]: Done 434 tasks      | elapsed: 33.8min\n",
      "[Parallel(n_jobs=-1)]: Done 784 tasks      | elapsed: 75.9min\n",
      "[Parallel(n_jobs=-1)]: Done 1000 out of 1000 | elapsed: 93.0min finished\n"
     ]
    },
    {
     "name": "stdout",
     "output_type": "stream",
     "text": [
      "{'xgb__gamma': 1.9537959102836657, 'xgb__learning_rate': 0.12869546776937824, 'xgb__max_depth': 14, 'xgb__min_child_weight': 5, 'xgb__n_estimators': 181, 'xgb__reg_alpha': 1.8321806972446422, 'xgb__reg_lambda': 2.2673751762328243}\n"
     ]
    }
   ],
   "source": [
    "model = Pipeline(steps = [\n",
    "    ('scaler', StandardScaler()),\n",
    "    ('xgb', XGBClassifier())\n",
    "] )\n",
    "\n",
    "params = {\n",
    "    'xgb__n_estimators': ss.randint(100, 350),\n",
    "    'xgb__learning_rate': ss.uniform(0.1, 0.3),\n",
    "    'xgb__max_depth': ss.randint(8, 15),\n",
    "    'xgb__min_child_weight': ss.randint(5, 11),\n",
    "    'xgb__reg_lambda': ss.uniform(0.5, 2),\n",
    "    'xgb__reg_alpha': ss.uniform(0.5, 2),\n",
    "    'xgb__gamma': ss.uniform(1, 3)\n",
    "}\n",
    "\n",
    "rscv2  = RandomizedSearchCV(estimator=model, \n",
    "                          param_distributions=params,\n",
    "                          n_iter=200,\n",
    "                          cv=5,\n",
    "                          verbose=1,\n",
    "                          n_jobs=-1)\n",
    "rscv2.fit(X_train, y_train)\n",
    "print(rscv2.best_params_)"
   ]
  },
  {
   "cell_type": "code",
   "execution_count": 267,
   "metadata": {},
   "outputs": [
    {
     "name": "stdout",
     "output_type": "stream",
     "text": [
      "Accuracy: 86.61% AUC:  0.9249922202131708\n"
     ]
    }
   ],
   "source": [
    "y_pred = rscv2.best_estimator_.predict_proba(X_test)[:,1]\n",
    "predictions = np.round(y_pred)\n",
    "\n",
    "accuracy = accuracy_score(y_test, predictions)\n",
    "print(\"Accuracy: %.2f%%\" % (accuracy * 100.0), \"AUC: \", roc_auc_score(y_score=y_pred,y_true=y_test))"
   ]
  },
  {
   "cell_type": "code",
   "execution_count": 268,
   "metadata": {},
   "outputs": [
    {
     "name": "stdout",
     "output_type": "stream",
     "text": [
      "Fitting 5 folds for each of 200 candidates, totalling 1000 fits\n"
     ]
    },
    {
     "name": "stderr",
     "output_type": "stream",
     "text": [
      "[Parallel(n_jobs=-1)]: Using backend LokyBackend with 8 concurrent workers.\n",
      "[Parallel(n_jobs=-1)]: Done  34 tasks      | elapsed:  3.1min\n",
      "[Parallel(n_jobs=-1)]: Done 184 tasks      | elapsed: 14.2min\n",
      "[Parallel(n_jobs=-1)]: Done 434 tasks      | elapsed: 29.9min\n",
      "[Parallel(n_jobs=-1)]: Done 784 tasks      | elapsed: 53.1min\n",
      "[Parallel(n_jobs=-1)]: Done 1000 out of 1000 | elapsed: 65.4min finished\n"
     ]
    },
    {
     "name": "stdout",
     "output_type": "stream",
     "text": [
      "{'xgb__gamma': 1.9537959102836657, 'xgb__learning_rate': 0.12869546776937824, 'xgb__max_depth': 14, 'xgb__min_child_weight': 5, 'xgb__n_estimators': 181, 'xgb__reg_alpha': 1.8321806972446422, 'xgb__reg_lambda': 2.2673751762328243}\n"
     ]
    }
   ],
   "source": [
    "model = Pipeline(steps = [\n",
    "    ('scaler', StandardScaler()),\n",
    "    ('xgb', XGBClassifier())\n",
    "] )\n",
    "\n",
    "params = {\n",
    "    'xgb__n_estimators': ss.randint(100, 250),\n",
    "    'xgb__learning_rate': ss.uniform(0.1, 0.2),\n",
    "    'xgb__max_depth': ss.randint(11, 17),\n",
    "    'xgb__min_child_weight': ss.randint(3, 7),\n",
    "    'xgb__reg_lambda': ss.uniform(1.5, 3),\n",
    "    'xgb__reg_alpha': ss.uniform(1.3, 2),\n",
    "    'xgb__gamma': ss.uniform(1.5, 2.5)\n",
    "}\n",
    "\n",
    "rscv3  = RandomizedSearchCV(estimator=model, \n",
    "                          param_distributions=params,\n",
    "                          n_iter=200,\n",
    "                          cv=5,\n",
    "                          verbose=1,\n",
    "                          n_jobs=-1)\n",
    "rscv3.fit(X_train, y_train)\n",
    "print(rscv2.best_params_)"
   ]
  },
  {
   "cell_type": "code",
   "execution_count": 269,
   "metadata": {},
   "outputs": [
    {
     "name": "stdout",
     "output_type": "stream",
     "text": [
      "Accuracy: 86.59% AUC:  0.9249407594213932\n"
     ]
    }
   ],
   "source": [
    "y_pred = rscv3.best_estimator_.predict_proba(X_test)[:,1]\n",
    "predictions = np.round(y_pred)\n",
    "\n",
    "accuracy = accuracy_score(y_test, predictions)\n",
    "print(\"Accuracy: %.2f%%\" % (accuracy * 100.0), \"AUC: \", roc_auc_score(y_score=y_pred,y_true=y_test))"
   ]
  }
 ],
 "metadata": {
  "kernelspec": {
   "display_name": "Python 3",
   "language": "python",
   "name": "python3"
  },
  "language_info": {
   "codemirror_mode": {
    "name": "ipython",
    "version": 3
   },
   "file_extension": ".py",
   "mimetype": "text/x-python",
   "name": "python",
   "nbconvert_exporter": "python",
   "pygments_lexer": "ipython3",
   "version": "3.7.4"
  }
 },
 "nbformat": 4,
 "nbformat_minor": 2
}
